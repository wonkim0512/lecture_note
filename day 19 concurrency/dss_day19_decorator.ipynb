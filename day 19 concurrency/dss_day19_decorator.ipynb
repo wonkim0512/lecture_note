{
 "cells": [
  {
   "cell_type": "markdown",
   "metadata": {},
   "source": [
    "# Decorator"
   ]
  },
  {
   "cell_type": "markdown",
   "metadata": {},
   "source": [
    "## 학습목표\n",
    " - 함수 revisited\n",
    " - 중첩함수의 이해\n",
    " - decorator 이해\n",
    " - decorator 구현 실습 "
   ]
  },
  {
   "cell_type": "markdown",
   "metadata": {},
   "source": [
    "## function\n",
    " - python에서의 함수는 1st citizen, 즉 객체로 존재함\n",
    " - 객체이기 때문에, 변수 대입, 함수 파라미터 전달 등이 가능"
   ]
  },
  {
   "cell_type": "code",
   "execution_count": null,
   "metadata": {
    "collapsed": false
   },
   "outputs": [],
   "source": [
    "def hello():\n",
    "    print 'say hello'\n",
    "    \n",
    "\n",
    "# 함수를 변수에 대입\n",
    "hi = hello\n",
    "print type(hi)\n",
    "print hi\n",
    "\n",
    "hi()"
   ]
  },
  {
   "cell_type": "code",
   "execution_count": null,
   "metadata": {
    "collapsed": false
   },
   "outputs": [],
   "source": [
    "def hello(word):\n",
    "    print word\n",
    "    \n",
    "def call_hello(fn, args):\n",
    "    fn(args)\n",
    "    \n",
    "\n",
    "# 함수가 다른 함수의 파라미터로 전달\n",
    "call_hello(hello, 'say hello world')"
   ]
  },
  {
   "cell_type": "markdown",
   "metadata": {},
   "source": [
    "## 중첩함수 (Nested function)\n",
    " - 함수 내부에 다른 함수를 정의 가능\n",
    " - 내부에서 정의된 함수를 중첩함수라고 함\n",
    "   - 중첩함수는 해당 함수가 정의된 함수 내에서 호출 및 반환 가능"
   ]
  },
  {
   "cell_type": "code",
   "execution_count": 1,
   "metadata": {
    "collapsed": false
   },
   "outputs": [
    {
     "name": "stdout",
     "output_type": "stream",
     "text": [
      "outer_func call\n",
      "inner_func\n"
     ]
    }
   ],
   "source": [
    "def outer_func():\n",
    "    print 'outer_func call'\n",
    "    \n",
    "    # 중첩 함수의 정의. 함수 안의 함수\n",
    "    def inner_func():\n",
    "        return 'inner_func'\n",
    "    \n",
    "    # 중첩 함수 호출 \n",
    "    print inner_func()\n",
    "    \n",
    "outer_func()"
   ]
  },
  {
   "cell_type": "code",
   "execution_count": 2,
   "metadata": {
    "collapsed": false
   },
   "outputs": [
    {
     "ename": "NameError",
     "evalue": "name 'inner_func' is not defined",
     "output_type": "error",
     "traceback": [
      "\u001b[0;31m---------------------------------------------------------------------------\u001b[0m",
      "\u001b[0;31mNameError\u001b[0m                                 Traceback (most recent call last)",
      "\u001b[0;32m<ipython-input-2-9eabf10036c6>\u001b[0m in \u001b[0;36m<module>\u001b[0;34m()\u001b[0m\n\u001b[1;32m      1\u001b[0m \u001b[1;31m# 중첩함수의 경우 외부에서 호출 불가\u001b[0m\u001b[1;33m\u001b[0m\u001b[1;33m\u001b[0m\u001b[0m\n\u001b[0;32m----> 2\u001b[0;31m \u001b[0minner_func\u001b[0m\u001b[1;33m(\u001b[0m\u001b[1;33m)\u001b[0m\u001b[1;33m\u001b[0m\u001b[0m\n\u001b[0m",
      "\u001b[0;31mNameError\u001b[0m: name 'inner_func' is not defined"
     ]
    }
   ],
   "source": [
    "# 중첩함수의 경우 외부에서 호출 불가\n",
    "inner_func()"
   ]
  },
  {
   "cell_type": "code",
   "execution_count": 6,
   "metadata": {
    "collapsed": false,
    "scrolled": true
   },
   "outputs": [
    {
     "name": "stdout",
     "output_type": "stream",
     "text": [
      "<function inner_func at 0x033F33B0>\n"
     ]
    },
    {
     "data": {
      "text/plain": [
       "'inner_func'"
      ]
     },
     "execution_count": 6,
     "metadata": {},
     "output_type": "execute_result"
    }
   ],
   "source": [
    "def outer_func():\n",
    "    \n",
    "    def inner_func():\n",
    "        return 'inner_func'\n",
    "    \n",
    "    return inner_func\n",
    "\n",
    "\n",
    "fn = outer_func()\n",
    "print fn\n",
    "\n",
    "fn()"
   ]
  },
  {
   "cell_type": "markdown",
   "metadata": {},
   "source": [
    "closure 미리 맛보기"
   ]
  },
  {
   "cell_type": "code",
   "execution_count": 12,
   "metadata": {
    "collapsed": false
   },
   "outputs": [
    {
     "name": "stdout",
     "output_type": "stream",
     "text": [
      "10\n",
      "inner_func\n"
     ]
    }
   ],
   "source": [
    "def outer_func(num):\n",
    "    \n",
    "    # 중첩 함수에서 외부 함수의 변수에 접근 가능\n",
    "    def inner_func():\n",
    "        print num\n",
    "        return 'inner_func'\n",
    "    \n",
    "    return inner_func\n",
    "\n",
    "fn = outer_func(10)\n",
    "print fn()"
   ]
  },
  {
   "cell_type": "markdown",
   "metadata": {},
   "source": [
    "## Closure or Closure function\n",
    " - enclosing scope(외부 함수)의 변수가 소멸되더라도 해당 변수의 값을 기억하고 사용할 수 있는 함수\n",
    " - 위의 예제에서 inner_func은 closure\n",
    " - outer_func이 이미 호출 종료되어 num의 scope이 소멸되었는데도 해당 값을 기억\n",
    " \n",
    " - closure의 사용\n",
    "   - class를 사용하지 않고 객체지향적인 솔루션을 제공 \n",
    "   - 일반적으로 제공해야할 기능(method)이 적은 경우, closure를 사용하여 기능을 제공함\n",
    "   - 그 이외의 경우 class를 사용하여 구현"
   ]
  },
  {
   "cell_type": "code",
   "execution_count": null,
   "metadata": {
    "collapsed": false
   },
   "outputs": [],
   "source": [
    "# closure를 사용할 수 도 있음\n",
    "def get_power_of(n):\n",
    "    def power(x):\n",
    "        return x ** n\n",
    "    return power\n",
    "\n",
    "\n",
    "power5 = get_power_of(5)\n",
    "power8 = get_power_of(8)\n",
    "\n",
    "print power5(2)\n",
    "print power5(2)"
   ]
  },
  {
   "cell_type": "markdown",
   "metadata": {},
   "source": [
    "## Decorator\n",
    " - 함수에 기능을 추가하여 다시 그 함수를 반환하는 함수\n",
    " - Closure function을 활용\n",
    " - https://www.python.org/dev/peps/pep-0318/\n",
    " - 고급 파이썬 개발자로 가는 길목 중 하나"
   ]
  },
  {
   "cell_type": "code",
   "execution_count": null,
   "metadata": {
    "collapsed": true
   },
   "outputs": [],
   "source": [
    "# decorator 함수 정의\n",
    "def decorate_func(fn): # 꾸미고자 하는 함수를 인자로 넣고\n",
    "    def inner():\n",
    "        print 'decoration added' #이 기능을 하고\n",
    "        fn()\n",
    "    return inner# 원래 기능을 호출. fn을 호출할 수 있는 이유는 context를 기억하는 closure 덕분\n",
    "        \n",
    "\n",
    "def simple():\n",
    "    print 'simple function'"
   ]
  },
  {
   "cell_type": "code",
   "execution_count": null,
   "metadata": {
    "collapsed": false
   },
   "outputs": [],
   "source": [
    "# 일반 함수 호출\n",
    "simple()"
   ]
  },
  {
   "cell_type": "code",
   "execution_count": null,
   "metadata": {
    "collapsed": false
   },
   "outputs": [],
   "source": [
    "# simple 함수에 기능을 추가한(decorate 한) decorated 함수\n",
    "decorated = decorate_func(simple)\n",
    "\n",
    "# 결과가 decoration됨!\n",
    "decorated()"
   ]
  },
  {
   "cell_type": "code",
   "execution_count": null,
   "metadata": {
    "collapsed": false
   },
   "outputs": [],
   "source": [
    "# 보통 구현 시, 새로운 변수를 생성하지 않고 원래 함수에 재할당하여 사용\n",
    "\n",
    "simple = decorate_func(simple)\n",
    "\n",
    "# 결과가 decoration됨!\n",
    "simple()"
   ]
  },
  {
   "cell_type": "markdown",
   "metadata": {},
   "source": [
    "* decorator 사용 이유\n",
    " - 함수, 혹은 메쏘드에 새로운 기능을 추가\n",
    " - 그렇다면 왜 소스 코드를 수정하지 않는가?\n",
    "   - 여러 함수에 동일한 기능을 추가할 수도 있음\n",
    "   - 예를들어, 모든 함수에 전달된 파라미터의 유효성 검사가 필요하다고 가정\n",
    "   - 유효성 검사 코드가 각 함수마다 복사되면 수정의 어려움이 존재"
   ]
  },
  {
   "cell_type": "code",
   "execution_count": 14,
   "metadata": {
    "collapsed": false
   },
   "outputs": [
    {
     "name": "stdout",
     "output_type": "stream",
     "text": [
      "decoration added\n",
      "simple function\n"
     ]
    }
   ],
   "source": [
    "# decorator 함수 정의\n",
    "def decorate_func(fn):\n",
    "    def inner():\n",
    "        print 'decoration added'\n",
    "        fn()\n",
    "    return inner\n",
    "\n",
    "def simple():\n",
    "    print 'simple function'\n",
    "    \n",
    "#  아래 부분은 사실 귀찮고, python 답지 않은 문법임\n",
    "simple = decorate_func(simple)\n",
    "simple()"
   ]
  },
  {
   "cell_type": "markdown",
   "metadata": {},
   "source": [
    "* @ 심볼 사용\n",
    " - decorator를 생성하기 위한 syntactic sugar (문법적인 편의성)"
   ]
  },
  {
   "cell_type": "code",
   "execution_count": 15,
   "metadata": {
    "collapsed": false
   },
   "outputs": [
    {
     "name": "stdout",
     "output_type": "stream",
     "text": [
      "decoration added\n",
      "simple function\n"
     ]
    }
   ],
   "source": [
    "# decorator 함수 정의\n",
    "def decorate_func(fn):\n",
    "    def inner():\n",
    "        print 'decoration added'\n",
    "        fn()\n",
    "    return inner\n",
    "\n",
    "# 아래와 같이 @를 사용하여 decoration 가능!\n",
    "@decorate_func\n",
    "def simple():\n",
    "    print 'simple function'\n",
    "    \n",
    "# 결과가 decorated됨!\n",
    "simple()"
   ]
  },
  {
   "cell_type": "markdown",
   "metadata": {},
   "source": [
    "## 파라미터가 있는 함수 Decorator"
   ]
  },
  {
   "cell_type": "code",
   "execution_count": 16,
   "metadata": {
    "collapsed": true
   },
   "outputs": [],
   "source": [
    "def divide(a, b):\n",
    "    return a / b"
   ]
  },
  {
   "cell_type": "code",
   "execution_count": 17,
   "metadata": {
    "collapsed": false
   },
   "outputs": [
    {
     "data": {
      "text/plain": [
       "1"
      ]
     },
     "execution_count": 17,
     "metadata": {},
     "output_type": "execute_result"
    }
   ],
   "source": [
    "divide(3, 2)"
   ]
  },
  {
   "cell_type": "code",
   "execution_count": 18,
   "metadata": {
    "collapsed": false
   },
   "outputs": [
    {
     "ename": "ZeroDivisionError",
     "evalue": "integer division or modulo by zero",
     "output_type": "error",
     "traceback": [
      "\u001b[0;31m---------------------------------------------------------------------------\u001b[0m",
      "\u001b[0;31mZeroDivisionError\u001b[0m                         Traceback (most recent call last)",
      "\u001b[0;32m<ipython-input-18-ecf8fbb65270>\u001b[0m in \u001b[0;36m<module>\u001b[0;34m()\u001b[0m\n\u001b[0;32m----> 1\u001b[0;31m \u001b[0mdivide\u001b[0m\u001b[1;33m(\u001b[0m\u001b[1;36m3\u001b[0m\u001b[1;33m,\u001b[0m \u001b[1;36m0\u001b[0m\u001b[1;33m)\u001b[0m\u001b[1;33m\u001b[0m\u001b[0m\n\u001b[0m",
      "\u001b[0;32m<ipython-input-16-5c74f9fd7706>\u001b[0m in \u001b[0;36mdivide\u001b[0;34m(a, b)\u001b[0m\n\u001b[1;32m      1\u001b[0m \u001b[1;32mdef\u001b[0m \u001b[0mdivide\u001b[0m\u001b[1;33m(\u001b[0m\u001b[0ma\u001b[0m\u001b[1;33m,\u001b[0m \u001b[0mb\u001b[0m\u001b[1;33m)\u001b[0m\u001b[1;33m:\u001b[0m\u001b[1;33m\u001b[0m\u001b[0m\n\u001b[0;32m----> 2\u001b[0;31m     \u001b[1;32mreturn\u001b[0m \u001b[0ma\u001b[0m \u001b[1;33m/\u001b[0m \u001b[0mb\u001b[0m\u001b[1;33m\u001b[0m\u001b[0m\n\u001b[0m",
      "\u001b[0;31mZeroDivisionError\u001b[0m: integer division or modulo by zero"
     ]
    }
   ],
   "source": [
    "divide(3, 0)"
   ]
  },
  {
   "cell_type": "markdown",
   "metadata": {},
   "source": [
    "* 중첩함수에 꾸미고자 하는 함수와 동일하게 파라미터를 가져가면 됨"
   ]
  },
  {
   "cell_type": "code",
   "execution_count": 19,
   "metadata": {
    "collapsed": true
   },
   "outputs": [],
   "source": [
    "def decorate_divide(fn):\n",
    "    def wrapper(a, b): #divide를 꾸미고 싶으니까 동일한 인자 사용\n",
    "        if b == 0:\n",
    "            print 'zero cannot be divided!'\n",
    "            return \n",
    "        return fn(a, b)\n",
    "    return wrapper\n",
    "\n",
    "def divide(a, b):\n",
    "    return a / b"
   ]
  },
  {
   "cell_type": "code",
   "execution_count": 25,
   "metadata": {
    "collapsed": false
   },
   "outputs": [
    {
     "name": "stdout",
     "output_type": "stream",
     "text": [
      "3\n",
      "******************************\n",
      "zero cannot be divided!\n",
      "None\n"
     ]
    }
   ],
   "source": [
    "divide = decorate_divide(divide)\n",
    "print divide(9, 3)\n",
    "print(\"*\"*30)\n",
    "print divide(9, 0)"
   ]
  },
  {
   "cell_type": "code",
   "execution_count": 26,
   "metadata": {
    "collapsed": true
   },
   "outputs": [],
   "source": [
    "def decorate_divide(fn):\n",
    "    def wrapper(a, b):\n",
    "        if b == 0:\n",
    "            print 'zero cannot be divided!'\n",
    "            return \n",
    "        return fn(a, b)\n",
    "    return wrapper\n",
    "\n",
    "# 추후, 아래와 같이 사용할 것!\n",
    "@decorate_divide\n",
    "def divide(a, b):\n",
    "    return a / b"
   ]
  },
  {
   "cell_type": "code",
   "execution_count": 27,
   "metadata": {
    "collapsed": false
   },
   "outputs": [
    {
     "name": "stdout",
     "output_type": "stream",
     "text": [
      "zero cannot be divided!\n",
      "None\n",
      "11\n"
     ]
    }
   ],
   "source": [
    "print divide(9, 0)\n",
    "print divide(81, 7)"
   ]
  },
  {
   "cell_type": "markdown",
   "metadata": {},
   "source": [
    "## 모든 함수에 대한 Decorator"
   ]
  },
  {
   "cell_type": "raw",
   "metadata": {},
   "source": [
    " - 모든 함수의 파라미터는 (*args, ***kwargs)로 표현 가능\n",
    " - 따라서 내부함수의 파라미터를 (*args, ***kwargs)로 구성하면 어떠한 함수도 decoration 가능"
   ]
  },
  {
   "cell_type": "code",
   "execution_count": 28,
   "metadata": {
    "collapsed": false
   },
   "outputs": [
    {
     "name": "stdout",
     "output_type": "stream",
     "text": [
      "function is decorated..\n",
      "9\n",
      "function is decorated..\n",
      "hello\n"
     ]
    }
   ],
   "source": [
    "def general_decorator(fn):\n",
    "    def wrapper(*args, **kwargs):\n",
    "        print('function is decorated..')\n",
    "        return fn(*args, **kwargs)\n",
    "    return wrapper\n",
    "\n",
    "\n",
    "@general_decorator\n",
    "def add(a, b):\n",
    "    return a + b\n",
    "\n",
    "@general_decorator\n",
    "def print_hello():\n",
    "    print 'hello'\n",
    "    \n",
    "    \n",
    "print add(4, 5)\n",
    "print_hello()"
   ]
  },
  {
   "cell_type": "markdown",
   "metadata": {},
   "source": [
    "## Decorator Chaining\n",
    " - 복수개의 decorator 적용 가능\n",
    " - decorated된 순서가 중요"
   ]
  },
  {
   "cell_type": "code",
   "execution_count": 29,
   "metadata": {
    "collapsed": false
   },
   "outputs": [],
   "source": [
    "def star(fn):\n",
    "    def wrapper(*args, **kwargs):\n",
    "        print('function is decorated with ******************')\n",
    "        return fn(*args, **kwargs)\n",
    "    return wrapper\n",
    "\n",
    "def at(fn):\n",
    "    def wrapper(*args, **kwargs):\n",
    "        print('function is decorated with @@@@@@@@@@@@@@@@@@')\n",
    "        return fn(*args, **kwargs)\n",
    "    return wrapper\n",
    "\n"
   ]
  },
  {
   "cell_type": "code",
   "execution_count": 30,
   "metadata": {
    "collapsed": false
   },
   "outputs": [
    {
     "name": "stdout",
     "output_type": "stream",
     "text": [
      "function is decorated with @@@@@@@@@@@@@@@@@@\n",
      "function is decorated with ******************\n",
      "hello\n"
     ]
    }
   ],
   "source": [
    "@at\n",
    "@star\n",
    "def print_hello():\n",
    "    print 'hello'\n",
    "    \n",
    "print_hello()"
   ]
  },
  {
   "cell_type": "code",
   "execution_count": 31,
   "metadata": {
    "collapsed": false
   },
   "outputs": [
    {
     "name": "stdout",
     "output_type": "stream",
     "text": [
      "function is decorated with ******************\n",
      "function is decorated with @@@@@@@@@@@@@@@@@@\n",
      "hello\n"
     ]
    }
   ],
   "source": [
    "@star\n",
    "@at # decorator chaining\n",
    "def print_hello():\n",
    "    print 'hello'\n",
    "    \n",
    "print_hello()"
   ]
  },
  {
   "cell_type": "markdown",
   "metadata": {},
   "source": [
    "## Method decoration\n",
    " - 객체의 method도 decorating 가능\n",
    " - 객체의 경우 중첩 함수에서 최초의 파라미터를 self를 추가"
   ]
  },
  {
   "cell_type": "code",
   "execution_count": 33,
   "metadata": {
    "collapsed": false
   },
   "outputs": [
    {
     "name": "stdout",
     "output_type": "stream",
     "text": [
      "<h1>Aaron Byun</h1>\n",
      "HoHo\n"
     ]
    }
   ],
   "source": [
    "def h1_tag(func):\n",
    "    def func_wrapper(self, *args, **kwargs):\n",
    "        return \"<h1>{0}</h1>\".format(func(self, *args, **kwargs))\n",
    "    return func_wrapper\n",
    "\n",
    "class Person(object):\n",
    "    def __init__(self):\n",
    "        self.firt_name = 'Aaron'\n",
    "        self.last_name = 'Byun'\n",
    "\n",
    "    @h1_tag\n",
    "    def get_name(self):\n",
    "        return self.firt_name + ' ' + self.last_name\n",
    "    \n",
    "    @classmethod\n",
    "    def get_x(self, x):\n",
    "        return x * 2\n",
    "\n",
    "aaron = Person()\n",
    "print aaron.get_name()\n",
    "print aaron.get_x('Ho')\n",
    "#class level로 static하게 관리됨"
   ]
  },
  {
   "cell_type": "markdown",
   "metadata": {},
   "source": [
    "## Decorator with parameters\n",
    " - decorator에 파라미터를 추가 가능"
   ]
  },
  {
   "cell_type": "code",
   "execution_count": 35,
   "metadata": {
    "collapsed": false
   },
   "outputs": [
    {
     "name": "stdout",
     "output_type": "stream",
     "text": [
      "function is decorated with **************************************************\n",
      "hello\n"
     ]
    }
   ],
   "source": [
    "# 중첩 함수의 뎁스를 하나 더 두어서 생성\n",
    "def star(star_num=20): #default parameter로 쓰기 위해 넣어둠\n",
    "    def callable(fn):\n",
    "        def wrapper(*args, **kwargs):\n",
    "            print 'function is decorated with {}'.format('*' * star_num )\n",
    "            return fn(*args, **kwargs)\n",
    "        return wrapper\n",
    "    return callable\n",
    "\n",
    "def print_hello():\n",
    "    print 'hello'\n",
    "\n",
    "print_hello = star(star_num=50)(print_hello)\n",
    "print_hello()\n",
    "\n"
   ]
  },
  {
   "cell_type": "code",
   "execution_count": 36,
   "metadata": {
    "collapsed": false,
    "scrolled": true
   },
   "outputs": [
    {
     "name": "stdout",
     "output_type": "stream",
     "text": [
      "function is decorated with ******************************\n",
      "hello\n"
     ]
    }
   ],
   "source": [
    "#위의 코드를 parameter가 있는 decorator화 할 수 있다\n",
    "@star(star_num=30)\n",
    "def print_hello():\n",
    "    print 'hello'\n",
    "\n",
    "    \n",
    "print_hello()"
   ]
  },
  {
   "cell_type": "markdown",
   "metadata": {},
   "source": [
    "# 과제"
   ]
  },
  {
   "cell_type": "markdown",
   "metadata": {},
   "source": [
    " * 연습문제)\n",
    "  1. 함수 파라미터의 타입과 값을 출력하는 decorator를 작성하시오\n",
    "  2. 아래의 두 함수가 있다. 이때 원래의 함수 호출 시, deprecated 되었다고 출력하고 새로운 함수를 출력하도록 작성하시오"
   ]
  },
  {
   "cell_type": "code",
   "execution_count": null,
   "metadata": {
    "collapsed": true
   },
   "outputs": [],
   "source": [
    "def func_old():\n",
    "    print 'old function'\n",
    "    \n",
    "    \n",
    "def func_new():\n",
    "    print 'new function'"
   ]
  },
  {
   "cell_type": "code",
   "execution_count": null,
   "metadata": {
    "collapsed": true
   },
   "outputs": [],
   "source": []
  }
 ],
 "metadata": {
  "kernelspec": {
   "display_name": "Python 2",
   "language": "python",
   "name": "python2"
  },
  "language_info": {
   "codemirror_mode": {
    "name": "ipython",
    "version": 2
   },
   "file_extension": ".py",
   "mimetype": "text/x-python",
   "name": "python",
   "nbconvert_exporter": "python",
   "pygments_lexer": "ipython2",
   "version": "2.7.13"
  }
 },
 "nbformat": 4,
 "nbformat_minor": 2
}
