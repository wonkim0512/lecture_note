{
 "cells": [
  {
   "cell_type": "markdown",
   "metadata": {
    "collapsed": true
   },
   "source": [
    "# Concurrency"
   ]
  },
  {
   "cell_type": "markdown",
   "metadata": {},
   "source": [
    "## 학습목표\n",
    " 1. 동시성, 병렬성의 이해\n",
    " 3. multithreading 이해 및 실습\n",
    " 4. multiprocessing 이해 및 실습"
   ]
  },
  {
   "cell_type": "markdown",
   "metadata": {},
   "source": [
    "## Threading module\n",
    " 1. thread는 프로그램의 기본 실행 단위\n",
    " 2. Process내의 thread끼리는 코드와 데이터를 공유하여 경량 process라고도 함\n",
    " 3. 동시성 프로그램의 기본이자, 고급 프로그래머로 가는 길목 중 하나\n",
    " 4. python의 기본 구현체인 CPython의 경우, GIL(Global Interpreter Lock)이 존재하여 인터프리터가 한번에 하나의 thread만 실행하도록 제한함\n",
    " 5. 대부분의 GUI application에서는 멀티 쓰레드 프로그램을 작성하여 반응성을 높임\n",
    " \n",
    " https://docs.python.org/2/library/threading.html"
   ]
  },
  {
   "cell_type": "markdown",
   "metadata": {},
   "source": [
    "## Thread 생성 및 실행 방법\n",
    " 1. threading.Thread 객체에 함수 전달하여 사용\n",
    " 2. Thread class를 상속받아서 run method override하여 사용"
   ]
  },
  {
   "cell_type": "markdown",
   "metadata": {},
   "source": [
    "* Thread 생성 및 실행"
   ]
  },
  {
   "cell_type": "code",
   "execution_count": 1,
   "metadata": {
    "collapsed": false
   },
   "outputs": [
    {
     "name": "stdout",
     "output_type": "stream",
     "text": [
      "I am working..\n",
      "I am working..\n",
      "I am working..\n"
     ]
    }
   ],
   "source": [
    "# Thread 객체에 함수를 전달하여 thread를 생성하는 방법\n",
    "import threading\n",
    "\n",
    "def work():\n",
    "    print 'I am working..'\n",
    "\n",
    "# 세개의 thread를 생성\n",
    "for i in range(3): \n",
    "    # 쓰레드 생성\n",
    "    t = threading.Thread(target=work)\n",
    "    \n",
    "    # 쓰레드 실행\n",
    "    t.start()"
   ]
  },
  {
   "cell_type": "markdown",
   "metadata": {},
   "source": [
    "* Thread 실행 시, argument 전달"
   ]
  },
  {
   "cell_type": "code",
   "execution_count": 8,
   "metadata": {
    "collapsed": false
   },
   "outputs": [
    {
     "name": "stdout",
     "output_type": "stream",
     "text": [
      "0 : I am working..\n",
      "1 : I am working..\n",
      "2 : I am working..\n"
     ]
    }
   ],
   "source": [
    "import threading\n",
    "\n",
    "def work(num):\n",
    "    print '{} : I am working..'.format(num)\n",
    "\n",
    "for i in range(3): \n",
    "    # args parameter로 전달, 이때 tuple로 전달함\n",
    "    t = threading.Thread(target=work, args=(i,))\n",
    "    \n",
    "    # 쓰레드 실행\n",
    "    t.start()"
   ]
  },
  {
   "cell_type": "markdown",
   "metadata": {},
   "source": [
    "* Thread naming"
   ]
  },
  {
   "cell_type": "code",
   "execution_count": null,
   "metadata": {
    "collapsed": false
   },
   "outputs": [],
   "source": [
    "import threading\n",
    "\n",
    "def work():\n",
    "    print '{} : I am working..'.format(threading.currentThread().getName())\n",
    "\n",
    "t1 = threading.Thread(target=work, name='test')\n",
    "t2 = threading.Thread(target=work, name='work')\n",
    "t3 = threading.Thread(target=work)\n",
    "    \n",
    "t1.start()\n",
    "t2.start()\n",
    "t3.start()"
   ]
  },
  {
   "cell_type": "markdown",
   "metadata": {},
   "source": [
    "* Daemon Thread\n",
    " - background에서 실행되는 쓰레드를 의미함\n",
    " - python process는 종료되지 않은 thread가 daemon일 경우에만 종료된다.\n",
    " - 즉, 메인 process의 종료에 상관없이 background에서 작업을 수행하는 thread를 말함"
   ]
  },
  {
   "cell_type": "code",
   "execution_count": null,
   "metadata": {
    "collapsed": true
   },
   "outputs": [],
   "source": [
    "import threading\n",
    "import time\n",
    "\n",
    "def work():\n",
    "    i = 0\n",
    "    while i < 10:\n",
    "        print 'I am working..'\n",
    "        time.sleep(0.5)\n",
    "        i += 1\n",
    "\n",
    "t = threading.Thread(target=work)\n",
    "# Daemon 설정\n",
    "#t.setDaemon(True) \n",
    "t.daemon = True # 혹인 이렇게도 가능\n",
    "t.start()\n",
    "\n",
    "print 'main thread finished'\n",
    "\n",
    "# daemon으로 동작하게 했을 때와 그렇지 않을 때의 비교!"
   ]
  },
  {
   "cell_type": "markdown",
   "metadata": {
    "collapsed": true
   },
   "source": [
    "* thread 대기\n",
    " - join 함수를 이용하여 waiting\n",
    " - join 함수를 호출한 곳은 block됨"
   ]
  },
  {
   "cell_type": "code",
   "execution_count": null,
   "metadata": {
    "collapsed": false
   },
   "outputs": [],
   "source": [
    "import threading\n",
    "import time\n",
    "\n",
    "def work():\n",
    "    i = 0\n",
    "    while i < 10:\n",
    "        print 'I am working..'\n",
    "        time.sleep(0.5)\n",
    "        i += 1\n",
    "        \n",
    "\n",
    "def sleep():\n",
    "    i = 0\n",
    "    while i < 10:\n",
    "        print 'I am sleeping..'\n",
    "        time.sleep(0.3)\n",
    "        i += 1\n",
    "\n",
    "t = threading.Thread(target=work)\n",
    "t.start()\n",
    "\n",
    "ts = threading.Thread(target=sleep)\n",
    "ts.start()\n",
    "\n",
    "# blocking됨\n",
    "t.join()\n",
    "ts.join()\n",
    "\n",
    "print 'main thread finished'\n",
    "\n",
    "# daemon으로 동작하게 했을 때와 그렇지 않을 때의 비교!"
   ]
  },
  {
   "cell_type": "markdown",
   "metadata": {
    "collapsed": true
   },
   "source": [
    "* Thread class subclassing\n",
    " - Thread class를 상속을 받아 thread 생성 가능\n",
    " - run method overriding하여 구현\n",
    " - thread의 시작은 start method 호출"
   ]
  },
  {
   "cell_type": "code",
   "execution_count": null,
   "metadata": {
    "collapsed": false
   },
   "outputs": [],
   "source": [
    "import threading\n",
    "\n",
    "class MyThread(threading.Thread):\n",
    "    # run method 재정의\n",
    "    def run(self):\n",
    "        print 'This is a thread'\n",
    "        return\n",
    "\n",
    "for i in range(5):\n",
    "    t = MyThread()\n",
    "    t.start()\n"
   ]
  },
  {
   "cell_type": "code",
   "execution_count": null,
   "metadata": {
    "collapsed": false
   },
   "outputs": [],
   "source": [
    "import threading\n",
    "\n",
    "class MyThread(threading.Thread):\n",
    "    # run method 재정의\n",
    "    def run(self):\n",
    "        print 'This is a thread'\n",
    "        return\n",
    "\n",
    "for i in range(5):\n",
    "    t = MyThread()\n",
    "    t.run() # 위의 코드와 차이점은?"
   ]
  },
  {
   "cell_type": "markdown",
   "metadata": {},
   "source": [
    "* Thread-subclass parameter 전달"
   ]
  },
  {
   "cell_type": "code",
   "execution_count": null,
   "metadata": {
    "collapsed": false
   },
   "outputs": [],
   "source": [
    "import threading\n",
    "\n",
    "class MyThread(threading.Thread):\n",
    "    def __init__(self, group=None, target=None, name=None,\n",
    "                 args=(), kwargs=None, verbose=None):\n",
    "        threading.Thread.__init__(self, group=group, target=target, name=name,\n",
    "                                  verbose=verbose)\n",
    "        self.args = args\n",
    "        self.kwargs = kwargs\n",
    "        \n",
    "    def run(self):\n",
    "        print '{} {}: This is a thread'.format(*self.args)\n",
    "        return\n",
    "\n",
    "\n",
    "t = MyThread(args=(50, 30))\n",
    "t.start()"
   ]
  },
  {
   "cell_type": "markdown",
   "metadata": {
    "collapsed": true
   },
   "source": [
    "## Thread 메시지 전달\n",
    " - thread의 주 사용 목적은 concurrent한 실행이나, 때로는 서로 다른 두 thread 사이에 실행이 \n",
    "  동기화(synchronized)되어야 할 필요가 있음\n",
    " \n",
    " - 이때 가장 간단히 thread 사이에서 message를 주고 받는 방법을 제공하는 객체 : Event\n",
    " \n",
    "## Event 객체\n",
    " - 내부적으로 set, clear함수를 제공하여 flag를 관리\n",
    " - 다른 thread는 wait 함수를 호출하여 blocking 대기\n",
    " - https://docs.python.org/2/library/threading.html#event-objects"
   ]
  },
  {
   "cell_type": "code",
   "execution_count": null,
   "metadata": {
    "collapsed": false
   },
   "outputs": [],
   "source": [
    "import threading\n",
    "import time\n",
    "                    \n",
    "def work(e):\n",
    "    print 'wait for the event'\n",
    "    event_set = e.wait()\n",
    "    print 'event set : {}'.format(event_set)\n",
    "\n",
    "# event 객체 생성\n",
    "e = threading.Event()\n",
    "t1 = threading.Thread(name='', \n",
    "                      target=work,\n",
    "                      args=(e,))\n",
    "t1.start()\n",
    "\n",
    "print 'main thread before calling Event.set()'\n",
    "time.sleep(5)\n",
    "\n",
    "# set event\n",
    "e.set()\n",
    "\n",
    "print 'event is just set'"
   ]
  },
  {
   "cell_type": "code",
   "execution_count": null,
   "metadata": {
    "collapsed": true
   },
   "outputs": [],
   "source": [
    "import threading\n",
    "import time\n",
    "                    \n",
    "def work(e):\n",
    "    i = 0\n",
    "    while i < 10:\n",
    "        event_set = e.wait()\n",
    "        print i\n",
    "        time.sleep(1)\n",
    "        i += 1\n",
    "\n",
    "# event 객체 생성\n",
    "e = threading.Event()\n",
    "t1 = threading.Thread(name='', \n",
    "                      target=work,\n",
    "                      args=(e,))\n",
    "t1.start()\n",
    "\n",
    "print 'main thread before calling Event.set()'\n",
    "time.sleep(5)\n",
    "\n",
    "# set event\n",
    "e.set()\n",
    "\n",
    "time.sleep(3)\n",
    "\n",
    "# clear event - wait blocks\n",
    "e.clear()\n",
    "\n",
    "time.sleep(5)\n",
    "\n",
    "# set event -  block 되었던 thread 깨움!\n",
    "e.set()\n"
   ]
  },
  {
   "cell_type": "markdown",
   "metadata": {
    "collapsed": true
   },
   "source": [
    "## Shared Resource\n",
    " - multithreaded 환경에서 복수의 thread에 접근되는 객체를 shared resource 라고 함\n",
    " - shared resource는 그 상태가 의도한대로 변경되지 않을 수 있음\n",
    " - 이유는 파이썬의 연산은 실제로 원자적이지 않은 경우가 많기 때문임\n",
    " - 원자적이지 않은 연산 중간에 다른 thread가 실행되면 shared resource 상태가 변할 수 있음\n",
    " - 따라서 thread간의 동기화 기법이 중요\n",
    " \n",
    "## Race Condition (경쟁 상태)\n",
    "  \n",
    " - 복수개의 thread가 하나의 데이터에 연산을 수행하는 상태\n",
    " - thread switching에 따라 결과가 달라질 수 있음\n",
    " - 따라서 thread간의 동기화가 중요!"
   ]
  },
  {
   "cell_type": "markdown",
   "metadata": {},
   "source": [
    "* race condition simulation\n",
    " - 아래 코드를 수행한 결과는?"
   ]
  },
  {
   "cell_type": "code",
   "execution_count": null,
   "metadata": {
    "collapsed": false
   },
   "outputs": [],
   "source": [
    "from threading import Thread\n",
    "\n",
    "class Counter(object):\n",
    "    def __init__(self, n=0):\n",
    "        self.n = 0\n",
    "        \n",
    "    def increment(self):\n",
    "        self.n += 1\n",
    "        \n",
    "counter = Counter()\n",
    "\n",
    "def work(counter):\n",
    "    for i in xrange(100000):\n",
    "        counter.increment()\n",
    "\n",
    "    \n",
    "t1 = Thread(target=work, args=(counter,))\n",
    "t2 = Thread(target=work, args=(counter,))\n",
    "\n",
    "# thread 시작\n",
    "t1.start()\n",
    "t2.start()\n",
    "\n",
    "# thread 대기\n",
    "t1.join()\n",
    "t2.join()\n",
    "\n",
    "# 두 쓰레드가 모두 종료되고 나면 counter.n의 값은 200,000이 되어야 한다.\n",
    "# 결과는?\n",
    "print 'expected counter is {} and real counter is {}'.format(200000, counter.n)"
   ]
  },
  {
   "cell_type": "code",
   "execution_count": null,
   "metadata": {
    "collapsed": true
   },
   "outputs": [],
   "source": []
  },
  {
   "cell_type": "code",
   "execution_count": null,
   "metadata": {
    "collapsed": true
   },
   "outputs": [],
   "source": []
  },
  {
   "cell_type": "markdown",
   "metadata": {
    "collapsed": true
   },
   "source": [
    "* Thread 동기화\n",
    " - thread 사이의 race condition을 방지하기 위해 동기화 필요\n",
    " - 한 객체에 복수개의 thread가 접근하는 것을 방지\n",
    " - threading.Lock객체 사용 가능\n",
    "   - python의 가장 기본적인 동기화 도구\n",
    "   - 기본적으로 locked, unlocked 두개의 상태를 갖는다\n",
    "   - acquire, release 함수 제공\n",
    "   - acuire\n",
    "     - unlock 상태일 때 : 상태를 lock으로 변경\n",
    "     - lock 상태일 때 : 다른 thread에서 release를 호출할때까지 block\n",
    "   - release\n",
    "     - lock 상태일 때 : 상태를 unlock으로 변경\n",
    "     - unlock 상태일 때 : ThreadError 발생"
   ]
  },
  {
   "cell_type": "code",
   "execution_count": null,
   "metadata": {
    "collapsed": false
   },
   "outputs": [],
   "source": [
    "from threading import Thread\n",
    "from threading import Lock\n",
    "\n",
    "class Counter(object):\n",
    "    def __init__(self, n=0):\n",
    "        self.lock = Lock()\n",
    "        self.n = 0\n",
    "        \n",
    "    def increment(self):\n",
    "        self.lock.acquire()\n",
    "        try:\n",
    "            self.n += 1\n",
    "        finally:\n",
    "            self.lock.release()\n",
    "        \n",
    "counter = Counter()\n",
    "\n",
    "def work(counter):\n",
    "    for i in xrange(100000):\n",
    "        counter.increment()\n",
    "    \n",
    "t1 = Thread(target=work, args=(counter,))\n",
    "t2 = Thread(target=work, args=(counter,))\n",
    "\n",
    "# thread 시작\n",
    "t1.start()\n",
    "t2.start()\n",
    "\n",
    "# thread 대기\n",
    "t1.join()\n",
    "t2.join()\n",
    "\n",
    "# 두 쓰레드가 모두 종료되고 나면 counter.n의 값은 200,000이 되어야 한다.\n",
    "# 결과는?\n",
    "print 'expected counter is {} and real counter is {}'.format(200000, counter.n)"
   ]
  },
  {
   "cell_type": "markdown",
   "metadata": {
    "collapsed": true
   },
   "source": [
    "* Lock with 'with' keyword"
   ]
  },
  {
   "cell_type": "code",
   "execution_count": null,
   "metadata": {
    "collapsed": false
   },
   "outputs": [],
   "source": [
    "from threading import Thread\n",
    "from threading import Lock\n",
    "\n",
    "class Counter(object):\n",
    "    def __init__(self, n=0):\n",
    "        self.lock = Lock()\n",
    "        self.n = 0\n",
    "        \n",
    "    def increment(self):\n",
    "        with self.lock:\n",
    "            self.n += 1\n",
    "        \n",
    "counter = Counter()\n",
    "\n",
    "def work(counter):\n",
    "    for i in xrange(100000):\n",
    "        counter.increment()\n",
    "    \n",
    "t1 = Thread(target=work, args=(counter,))\n",
    "t2 = Thread(target=work, args=(counter,))\n",
    "\n",
    "# thread 시작\n",
    "t1.start()\n",
    "t2.start()\n",
    "\n",
    "# thread 대기\n",
    "t1.join()\n",
    "t2.join()\n",
    "\n",
    "# 두 쓰레드가 모두 종료되고 나면 counter.n의 값은 200,000이 되어야 한다.\n",
    "# 결과는?\n",
    "print 'expected counter is {} and real counter is {}'.format(200000, counter.n)"
   ]
  },
  {
   "cell_type": "markdown",
   "metadata": {},
   "source": [
    " ## MultiThreadedCrawler 실습\n",
    "  - crawler를 multithread로 다시 구현해봅시다\n",
    "  - 어느 부분이 병목 현상인가요?\n",
    "  - 성능의 향상이 있나요?\n",
    "  - 있다면 왜 있을까요? 없다면 왜 없을까요?\n",
    "  - 다른 상황에서도 성능의 효과가 동일할까요?"
   ]
  },
  {
   "cell_type": "markdown",
   "metadata": {},
   "source": []
  },
  {
   "cell_type": "markdown",
   "metadata": {},
   "source": [
    "* Sequential CPU Intensive(Bound) work"
   ]
  },
  {
   "cell_type": "code",
   "execution_count": null,
   "metadata": {
    "collapsed": false
   },
   "outputs": [],
   "source": [
    "def work(number):\n",
    "    result = [1]\n",
    "    \n",
    "    for i in xrange(2, number+1):\n",
    "        if number % i == 0:\n",
    "            result.append(i)\n",
    "    return result"
   ]
  },
  {
   "cell_type": "markdown",
   "metadata": {},
   "source": [
    "* 연습문제) 위의 work 함수는 어떤 기능을 제공하는지 말하시오."
   ]
  },
  {
   "cell_type": "code",
   "execution_count": null,
   "metadata": {
    "collapsed": true
   },
   "outputs": [],
   "source": []
  },
  {
   "cell_type": "code",
   "execution_count": null,
   "metadata": {
    "collapsed": false
   },
   "outputs": [],
   "source": [
    "def run_cpu_intensive():\n",
    "    numbers = [2400, 2650, 5500, 9000, 7897, 12000, 14000, 20000, 105443]\n",
    "    for num in numbers:\n",
    "        work(num)\n",
    "        \n",
    "%timeit run_cpu_intensive()"
   ]
  },
  {
   "cell_type": "markdown",
   "metadata": {},
   "source": [
    "* Concurrent CPU intensive(Bound) work"
   ]
  },
  {
   "cell_type": "code",
   "execution_count": null,
   "metadata": {
    "collapsed": false
   },
   "outputs": [],
   "source": [
    "import threading\n",
    "def run_cpu_intensive_concurrent():\n",
    "    numbers = [2400, 2650, 5500, 9000, 7897, 12000, 14000, 20000, 105443]\n",
    "    \n",
    "    threads = []    \n",
    "    for num in numbers:\n",
    "        t = threading.Thread(target=work, args=(num,))\n",
    "        threads.append(t)\n",
    "        t.start()\n",
    "        \n",
    "    for t in threads:\n",
    "        t.join()\n",
    "        \n",
    "%timeit run_cpu_intensive_concurrent()\n",
    "        \n",
    "    "
   ]
  },
  {
   "cell_type": "markdown",
   "metadata": {},
   "source": [
    "* Sequential I/O intensive(Bound) work"
   ]
  },
  {
   "cell_type": "code",
   "execution_count": null,
   "metadata": {
    "collapsed": true
   },
   "outputs": [],
   "source": [
    "import requests"
   ]
  },
  {
   "cell_type": "code",
   "execution_count": null,
   "metadata": {
    "collapsed": true
   },
   "outputs": [],
   "source": [
    "def get_html(url):\n",
    "    res = requests.get(url)\n",
    "    return res.text"
   ]
  },
  {
   "cell_type": "code",
   "execution_count": null,
   "metadata": {
    "collapsed": true
   },
   "outputs": [],
   "source": [
    "print get_html('http://www.naver.com')"
   ]
  },
  {
   "cell_type": "code",
   "execution_count": null,
   "metadata": {
    "collapsed": false
   },
   "outputs": [],
   "source": [
    "urls = [\n",
    "    'http://www.naver.com',\n",
    "    'http://www.naver.com',\n",
    "    'http://www.naver.com',\n",
    "    'http://www.daum.com',\n",
    "    'https://www.google.com',\n",
    "    'http://www.nba.com'\n",
    "]\n",
    "\n",
    "def run_io_intensive():\n",
    "    for url in urls:\n",
    "        get_html(url)\n",
    "        \n",
    "%timeit run_io_intensive()"
   ]
  },
  {
   "cell_type": "markdown",
   "metadata": {},
   "source": [
    "* Concurrent I/O Intensive(Bound) work"
   ]
  },
  {
   "cell_type": "code",
   "execution_count": null,
   "metadata": {
    "collapsed": false
   },
   "outputs": [],
   "source": [
    "import threading\n",
    "def run_io_intensive_concurrent():\n",
    "    threads = []\n",
    "    for url in urls:\n",
    "        t = threading.Thread(target=get_html, args=(url,))\n",
    "        threads.append(t)\n",
    "        \n",
    "        t.start()\n",
    "        \n",
    "    for t in threads:\n",
    "        t.join()\n",
    "        \n",
    "%timeit run_io_intensive_concurrent()   "
   ]
  },
  {
   "cell_type": "markdown",
   "metadata": {
    "collapsed": true
   },
   "source": [
    "* Queue\n",
    " -  thread-safe Queue data structure\n",
    "   - Queue란?\n",
    "      - FIFO(First-in First-out) 데이터 구조\n",
    "      - 즉, 먼저 들어간 순서대로 나가는 시퀀스를 의미\n",
    "      - enque, deque의 연산을 제공\n",
    "      - 예제) 은행이나 마트의 대기열\n",
    "   - Stack이란? (참고용)\n",
    "      - LIFO (Last-in First-out) 데이터 구조\n",
    "      - 즉, 먼저 들어간 아이템이 가장 마지막에 나오는 시퀀스를 의미\n",
    "      - push, pop의 연산을 제공\n",
    "      - 예제) 차곡차곡 개어서 쌓아둔 옷\n",
    "   - thread-safe란?\n",
    "      - multithreaded 환경에서 shared-resource의 상태가 의도된 대로 유지되는 것을 보장하는 것을 의미\n",
    "      - 쉽게 말하면, 사용하는 입장에서 thread의 동기화에 신경쓸 필요가 없음\n",
    "   - Produce-Consumer pattern에 주로 사용\n",
    "      - thread 사이에 데이터를 주고 받는 방법을 의미\n",
    "      - 작업할 내용을 Queue에 담고(Producer), 그 것을 하나씩 꺼내서(Consumer) 해당 작업을 수행\n",
    "      - 1 Producer vs Many Consumers\n",
    "      - Many Producers vs Many Consumers\n",
    "      - 위의 두 상황이 가장 일반적인 모델\n",
    "      - 뉴스 댓글 크롤링에 이용 가능\n",
    "         - 어떻게 이용할 수 있을까요?\n",
    "   - from Queue import Queue로 사용\n",
    "   \n",
    "   \n",
    " - https://docs.python.org/2/library/queue.html"
   ]
  },
  {
   "cell_type": "code",
   "execution_count": null,
   "metadata": {
    "collapsed": true
   },
   "outputs": [],
   "source": [
    "from Queue import Queue"
   ]
  },
  {
   "cell_type": "code",
   "execution_count": null,
   "metadata": {
    "collapsed": true
   },
   "outputs": [],
   "source": [
    "# queue 사이트 정의\n",
    "simple_q = Queue(maxsize=3)\n",
    "\n",
    "# queue에 아이템 삽입\n",
    "simple_q.put(1)\n",
    "simple_q.put(2)\n",
    "simple_q.put(3)\n",
    "#simple_q.put(4)\n",
    "\n",
    "# queue에서 아이템 추출\n",
    "print simple_q.get()\n",
    "\n",
    "# 종료를 의미 작업 종료 후, 명시적으로 호출해야 함\n",
    "simple_q.task_done()"
   ]
  },
  {
   "cell_type": "code",
   "execution_count": null,
   "metadata": {
    "collapsed": true
   },
   "outputs": [],
   "source": [
    "from Queue import Queue\n",
    "\n",
    "def do_stuff(q):\n",
    "    # queue 안에 내용이 있는지 검사하여 있으면\n",
    "    while not q.empty():\n",
    "        # 해당 내용을 가져옴\n",
    "        print q.get()\n",
    "        \n",
    "        # 꺼낸 아이템이 처리 되었음을 알림 (호출되어야 함)\n",
    "        q.task_done()\n",
    "\n",
    "q = Queue(maxsize=0)\n",
    "\n",
    "for x in range(20):\n",
    "    q.put(x)\n",
    "\n",
    "do_stuff(q)"
   ]
  },
  {
   "cell_type": "code",
   "execution_count": null,
   "metadata": {
    "collapsed": true
   },
   "outputs": [],
   "source": [
    "from Queue import Queue\n",
    "from threading import Thread\n",
    "\n",
    "def do_stuff(q):\n",
    "    while True:\n",
    "        print q.get()\n",
    "        q.task_done()\n",
    "\n",
    "q = Queue(maxsize=0)\n",
    "num_threads = 10\n",
    "\n",
    "for i in range(num_threads):\n",
    "    worker = Thread(target=do_stuff, args=(q,))\n",
    "    \n",
    "    # background 로 설정, 그렇지 않으면 process 종료되지 않음\n",
    "    worker.setDaemon(True)\n",
    "    worker.start()\n",
    "\n",
    "for x in range(50):\n",
    "    q.put(x)\n",
    "\n",
    "# queue의 모든 아이템이 처리될때까지 block\n",
    "q.join()"
   ]
  },
  {
   "cell_type": "markdown",
   "metadata": {},
   "source": [
    "* 연습문제)\n",
    " - Queue와 multithread를 사용하여 comment crawler를 완성하세요."
   ]
  },
  {
   "cell_type": "code",
   "execution_count": null,
   "metadata": {
    "collapsed": true
   },
   "outputs": [],
   "source": []
  },
  {
   "cell_type": "markdown",
   "metadata": {
    "collapsed": true
   },
   "source": [
    "## MultiProcess\n",
    " - 말그대로 여러개의 독립된 process를 의미\n",
    " - thread level이 아닌 process level의 병렬성\n",
    " - process를 생성하기 때문에 thread에 비해 자원이 소요가 큼\n",
    " - python에서 진정한 의미의 병렬성을 위해서는 multiprocess를 사용\n",
    " \n",
    "https://docs.python.org/2/library/multiprocessing.html"
   ]
  },
  {
   "cell_type": "markdown",
   "metadata": {},
   "source": [
    "* multiprocessing module"
   ]
  },
  {
   "cell_type": "code",
   "execution_count": null,
   "metadata": {
    "collapsed": true
   },
   "outputs": [],
   "source": [
    "import os\n",
    "\n",
    "def work(number):\n",
    "    result = [1]\n",
    "    \n",
    "    #print '{} is calculating {}'.format(os.getpid(), number)\n",
    "    \n",
    "    for i in xrange(2, number+1):\n",
    "        if number % i == 0:\n",
    "            result.append(i)\n",
    "    return result\n",
    "\n",
    "# 위에서 사용한 약수 구하기 예제"
   ]
  },
  {
   "cell_type": "markdown",
   "metadata": {},
   "source": [
    "* sequential, multithread, multiprocess비교"
   ]
  },
  {
   "cell_type": "code",
   "execution_count": null,
   "metadata": {
    "collapsed": true
   },
   "outputs": [],
   "source": [
    "numbers = [240000, 265000, 550000, 9000000, 78970000, 12000, 14000, 20000, 105443]"
   ]
  },
  {
   "cell_type": "code",
   "execution_count": null,
   "metadata": {
    "collapsed": false
   },
   "outputs": [],
   "source": [
    "def run_cpu_intensive():\n",
    "    for num in numbers:\n",
    "        work(num)\n",
    "        \n",
    "%timeit run_cpu_intensive()"
   ]
  },
  {
   "cell_type": "code",
   "execution_count": null,
   "metadata": {
    "collapsed": false
   },
   "outputs": [],
   "source": [
    "import threading\n",
    "def run_cpu_intensive_concurrent():\n",
    "    threads = []    \n",
    "    for num in numbers:\n",
    "        t = threading.Thread(target=work, args=(num,))\n",
    "        threads.append(t)\n",
    "        t.start()\n",
    "        \n",
    "    for t in threads:\n",
    "        t.join()\n",
    "        \n",
    "%timeit run_cpu_intensive_concurrent()"
   ]
  },
  {
   "cell_type": "code",
   "execution_count": null,
   "metadata": {
    "collapsed": false
   },
   "outputs": [],
   "source": [
    "from multiprocessing import Process\n",
    "\n",
    "def run_cpu_intensive_multiprocess():    \n",
    "    procs = []    \n",
    "    for num in numbers:\n",
    "        p = Process(target=work, args=(num,))\n",
    "        procs.append(p)\n",
    "        p.start()\n",
    "        \n",
    "    for p in procs:\n",
    "        p.join()\n",
    "        \n",
    "%timeit run_cpu_intensive_multiprocess()"
   ]
  },
  {
   "cell_type": "raw",
   "metadata": {},
   "source": [
    "### 실험 결론\n",
    "\n",
    "### CPU를 많이 사용하는 작업의 경우, 위의 결과에서 처럼 \n",
    "### multiprocess를 사용하는 것이 더 시간이 적게 소요됨\n",
    "### 하지만, 항상 그런 것은 아님\n",
    "### Process를 생성하고, switching하는 비용이 크기 때문에\n",
    "### 오히려 시간이 더 많이 소요될 수도 있음\n",
    "### 따라서 많은 실험과 경험을 통해 판단이 필요\n",
    "### 또한 무작정 많은 Process를 생성하는 것은 오히려 성능 저하의 요인이 됨\n",
    "### 보통은 코어의 개수로 가장 많이 사용"
   ]
  },
  {
   "cell_type": "raw",
   "metadata": {},
   "source": []
  },
  {
   "cell_type": "markdown",
   "metadata": {
    "collapsed": true
   },
   "source": [
    "## Pool \n",
    " - process pool을 의미\n",
    " - 일반적으로 Computer 영역에서 Pool은 그때그때 생성하는 것이 아닌 미리 생성해두고, 필요할 때마다 해당 pool에서 가져다 쓰는 의미로 사용됨\n",
    " - 위와 같이 하면, 초기 비용은 증가하나 그 후로는 생성비용이 적다는 장점이 있음\n",
    " - 함수와 데이터를 쉽게 병렬화 가능케 함"
   ]
  },
  {
   "cell_type": "code",
   "execution_count": null,
   "metadata": {
    "collapsed": false
   },
   "outputs": [],
   "source": [
    "from multiprocessing import Pool\n",
    "\n",
    "def run_cpu_intensive_multiprocess_pool():    \n",
    "    # 크기 4인 process pool 생성\n",
    "    pool = Pool(processes=4)\n",
    "    \n",
    "    # 함수와 iterable을 병렬화 하여 수행\n",
    "    return pool.map(work, numbers)\n",
    "        \n",
    "%timeit run_cpu_intensive_multiprocess_pool()\n",
    "\n",
    "# 반환값은 매핑된 리스트\n",
    "#print run_cpu_intensive_multiprocess_pool()"
   ]
  },
  {
   "cell_type": "code",
   "execution_count": null,
   "metadata": {
    "collapsed": false
   },
   "outputs": [],
   "source": [
    "from multiprocessing import Pool\n",
    "\n",
    "def run_cpu_intensive_multiprocess_pool():    \n",
    "    pool = Pool(processes=20)\n",
    "    pool.map(work, numbers)\n",
    "        \n",
    "%timeit run_cpu_intensive_multiprocess_pool()"
   ]
  },
  {
   "cell_type": "markdown",
   "metadata": {
    "collapsed": true
   },
   "source": [
    "## 결론\n",
    " - Thread - light-weight process\n",
    " - Python(CPython)은 GIL 때문에 한번에 하나의 thread만 실행됨\n",
    " - multithread 환경에서 공유자원에 접근하는 것을 race condition이라고 함\n",
    " - race condition 방지를 위해 thread synchronization(동기화) 필요\n",
    " - thread, process간의 메시지 전달은 Queue를 사용하여 전달 (Producer, Consumer 구조)\n",
    " - I/O intensive한 작업은 queue와 multithread를 이용하는 것이 더 효율적\n",
    " - CPU intensive한 경우는 multiprocess를 선별적으로 사용"
   ]
  },
  {
   "cell_type": "code",
   "execution_count": null,
   "metadata": {
    "collapsed": true
   },
   "outputs": [],
   "source": []
  }
 ],
 "metadata": {
  "kernelspec": {
   "display_name": "Python 2",
   "language": "python",
   "name": "python2"
  },
  "language_info": {
   "codemirror_mode": {
    "name": "ipython",
    "version": 2
   },
   "file_extension": ".py",
   "mimetype": "text/x-python",
   "name": "python",
   "nbconvert_exporter": "python",
   "pygments_lexer": "ipython2",
   "version": "2.7.13"
  }
 },
 "nbformat": 4,
 "nbformat_minor": 2
}
