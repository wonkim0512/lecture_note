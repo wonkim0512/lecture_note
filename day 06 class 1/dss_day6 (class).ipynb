{
 "cells": [
  {
   "cell_type": "markdown",
   "metadata": {},
   "source": [
    "# Class & Object "
   ]
  },
  {
   "cell_type": "markdown",
   "metadata": {},
   "source": [
    "## 학습목표\n",
    " 1. 클래스와 오브젝트에 대한 이해\n",
    " 2. 클래스 설계 구현 및 사용 숙지"
   ]
  },
  {
   "cell_type": "markdown",
   "metadata": {},
   "source": [
    "* class란?\n",
    " + 실세계의 것을 모델링하여 속성(attribute)와 동작(method)를 갖는 데이터 타입\n",
    " + string, int, list, dict.. 모두가 다 클래스\n",
    " + 예를들어 학생이라는 클래스를 만든다면, 학생을 나타내는 속성과 학생이 행하는 행동을 함께 정의 할 수 있음\n",
    " + 모델링에서 중요시 하는 속성에 따라 클래스의 속성과 행동이 각각 달라짐"
   ]
  },
  {
   "cell_type": "markdown",
   "metadata": {},
   "source": [
    "* object 란?\n",
    " - 클래스로 생성되어 구체화된 객체(인스턴스)\n",
    " - 파이썬의 모든 것(int, str, list..etc)은 객체(인스턴스)\n",
    " - 실제로 class가 인스턴스화 되어 메모리에 상주하는 상태를 의미\n",
    " - class가 빵틀이라면, object는 실제로 빵틀로 찍어낸 빵이라고 비유 가능\n"
   ]
  },
  {
   "cell_type": "code",
   "execution_count": 3,
   "metadata": {
    "collapsed": false
   },
   "outputs": [
    {
     "name": "stdout",
     "output_type": "stream",
     "text": [
      "['__abs__', '__add__', '__and__', '__class__', '__cmp__', '__coerce__', '__delattr__', '__div__', '__divmod__', '__doc__', '__float__', '__floordiv__', '__format__', '__getattribute__', '__getnewargs__', '__hash__', '__hex__', '__index__', '__init__', '__int__', '__invert__', '__long__', '__lshift__', '__mod__', '__mul__', '__neg__', '__new__', '__nonzero__', '__oct__', '__or__', '__pos__', '__pow__', '__radd__', '__rand__', '__rdiv__', '__rdivmod__', '__reduce__', '__reduce_ex__', '__repr__', '__rfloordiv__', '__rlshift__', '__rmod__', '__rmul__', '__ror__', '__rpow__', '__rrshift__', '__rshift__', '__rsub__', '__rtruediv__', '__rxor__', '__setattr__', '__sizeof__', '__str__', '__sub__', '__subclasshook__', '__truediv__', '__trunc__', '__xor__', 'bit_length', 'conjugate', 'denominator', 'imag', 'numerator', 'real']\n",
      "<type 'int'>\n",
      "7\n"
     ]
    }
   ],
   "source": [
    "# 실제로 메모리에 구체화된 값을 가진 실체\n",
    "# 속성(attribute), 동작(method)를 가짐\n",
    "num = 100\n",
    "print dir(num)\n",
    "print type(num)\n",
    "print num.bit_length()"
   ]
  },
  {
   "cell_type": "markdown",
   "metadata": {},
   "source": [
    "* class 선언하기"
   ]
  },
  {
   "cell_type": "code",
   "execution_count": 2,
   "metadata": {
    "collapsed": false
   },
   "outputs": [
    {
     "name": "stdout",
     "output_type": "stream",
     "text": [
      "<__main__.Person object at 0x1075c9a10>\n",
      "<class '__main__.Person'>\n"
     ]
    }
   ],
   "source": [
    "# camel case\n",
    "def test_simulation_method():\n",
    "    pass\n",
    "\n",
    "class StudentManager\n",
    "\n",
    "class Person():\n",
    "    pass\n",
    "\n",
    "class Person:\n",
    "    pass\n",
    "\n",
    "class Person(object):\n",
    "    pass\n",
    "\n",
    "\n",
    "p1 = Person()\n",
    "print p1\n",
    "print type(p1)"
   ]
  },
  {
   "cell_type": "markdown",
   "metadata": {},
   "source": [
    "* __init__(self)\n",
    " + 생성자, 클래스 인스턴스가 생성될 때 호출됨\n",
    " + self인자는 항상 첫번째에 오며 자기 자신을 가리킴\n",
    " + 이름이 꼭 self일 필요는 없지만, 일반적으로 self로 사용"
   ]
  },
  {
   "cell_type": "code",
   "execution_count": null,
   "metadata": {
    "collapsed": true
   },
   "outputs": [],
   "source": []
  },
  {
   "cell_type": "code",
   "execution_count": 10,
   "metadata": {
    "collapsed": false
   },
   "outputs": [
    {
     "name": "stdout",
     "output_type": "stream",
     "text": [
      "<__main__.Person object at 0x1075d7410>\n",
      "aaron\n",
      "160\n"
     ]
    }
   ],
   "source": [
    "'''class Person(object):\n",
    "    def __init__(self):\n",
    "        print self\n",
    "        print 'object is created'\n",
    "        \n",
    "    \n",
    "p1 = Person() # 객체 생성 생성자 함수(__init__)\n",
    "print p1'''\n",
    "\n",
    "\n",
    "class Person(object):\n",
    "    def __init__(self, a, b):\n",
    "        self.name = a # 멤버 변수(속성)\n",
    "        self.height = b\n",
    "        \n",
    "    def test(self): # 멤버 함수 (메쏘드)\n",
    "        pass\n",
    "        \n",
    "        \n",
    "        \n",
    "# Student 클래스의 정의를 찾고\n",
    "# object를 메모리에 초기화(생성)\n",
    "# __init__ method를 호출. 이때 새롭게 생성된 object를 self에 전달하고, 'aaron'을 name에 전달\n",
    "# object에 name값을 저장하고 \n",
    "# s1에 이 object를 연결한다\n",
    "s1 = Person('aaron')\n",
    "print s1\n",
    "print s1.name\n",
    "print s1.height"
   ]
  },
  {
   "cell_type": "markdown",
   "metadata": {},
   "source": [
    "* mehtod 정의\n",
    " + 멤버함수라고도 하며, 해당 클래스의 object에서만 호출가능하다.\n",
    " + {obj}.{method}() 형태로 호출됨"
   ]
  },
  {
   "cell_type": "code",
   "execution_count": 17,
   "metadata": {
    "collapsed": false
   },
   "outputs": [
    {
     "name": "stdout",
     "output_type": "stream",
     "text": [
      "Tracy works 10 hour very hard\n",
      "Aaron works 20 hour very hard\n"
     ]
    },
    {
     "ename": "AttributeError",
     "evalue": "'list' object has no attribute 'work'",
     "output_type": "error",
     "traceback": [
      "\u001b[0;31m---------------------------------------------------------------------------\u001b[0m",
      "\u001b[0;31mAttributeError\u001b[0m                            Traceback (most recent call last)",
      "\u001b[0;32m<ipython-input-17-d6ff159460ee>\u001b[0m in \u001b[0;36m<module>\u001b[0;34m()\u001b[0m\n\u001b[1;32m     17\u001b[0m \u001b[0;34m\u001b[0m\u001b[0m\n\u001b[1;32m     18\u001b[0m \u001b[0mp1\u001b[0m \u001b[0;34m=\u001b[0m \u001b[0;34m[\u001b[0m\u001b[0;36m1\u001b[0m\u001b[0;34m,\u001b[0m \u001b[0;36m2\u001b[0m\u001b[0;34m,\u001b[0m \u001b[0;36m34\u001b[0m\u001b[0;34m]\u001b[0m\u001b[0;34m\u001b[0m\u001b[0m\n\u001b[0;32m---> 19\u001b[0;31m \u001b[0mp1\u001b[0m\u001b[0;34m.\u001b[0m\u001b[0mwork\u001b[0m\u001b[0;34m(\u001b[0m\u001b[0;34m)\u001b[0m\u001b[0;34m\u001b[0m\u001b[0m\n\u001b[0m\u001b[1;32m     20\u001b[0m \u001b[0;34m\u001b[0m\u001b[0m\n\u001b[1;32m     21\u001b[0m \u001b[0mwork\u001b[0m\u001b[0;34m(\u001b[0m\u001b[0;34m)\u001b[0m\u001b[0;34m\u001b[0m\u001b[0m\n",
      "\u001b[0;31mAttributeError\u001b[0m: 'list' object has no attribute 'work'"
     ]
    }
   ],
   "source": [
    "class Person(object):\n",
    "    def __init__(self, name, height):\n",
    "        self.name = name\n",
    "        self.height = height\n",
    "        \n",
    "    def work(self, hour):\n",
    "        print '{} works {} hour very hard'.format(self.name, hour)\n",
    "        \n",
    "def work():\n",
    "    print 'dfadfaf'\n",
    "\n",
    "p1 = Person('Tracy', 190)\n",
    "p1.work(10)\n",
    "\n",
    "p2 = Person('Aaron', 190)\n",
    "p2.work(20)\n",
    "\n",
    "p1 = [1, 2, 34]\n",
    "p1.work()\n",
    "\n",
    "work()"
   ]
  },
  {
   "cell_type": "code",
   "execution_count": 19,
   "metadata": {
    "collapsed": false
   },
   "outputs": [
    {
     "name": "stdout",
     "output_type": "stream",
     "text": [
      "aaron works very hard\n",
      "aaron sleeps every day\n",
      "bob works very hard\n",
      "<__main__.Person object at 0x1076b8b50>\n",
      "<__main__.Person object at 0x10768f4d0>\n"
     ]
    }
   ],
   "source": [
    "class Person(object):\n",
    "    \n",
    "    def __init__(self, name):\n",
    "        self.name = name\n",
    "        \n",
    "    def work(self):\n",
    "        print '{} works very hard'.format(self.name)\n",
    "        \n",
    "    def sleep(self):\n",
    "        print '{} sleeps every day'.format(self.name)\n",
    "        \n",
    "\n",
    "p1 = Person('aaron')\n",
    "p1.work()\n",
    "p1.sleep()\n",
    "\n",
    "p2 = Person('bob')\n",
    "p2.work()\n",
    "\n",
    "\n",
    "print p1\n",
    "print p2"
   ]
  },
  {
   "cell_type": "markdown",
   "metadata": {},
   "source": [
    "* 연습문제\n",
    "0. Circle class를 작성하세요\n",
    "  - radius 속성을 갖습니다.\n",
    "  - 생성자에서 해당 속성을 초기화 합니다. __init__(self, radius)\n",
    "  - 넓이, 둘레를 구하는 함수를 작성하세요 get_area(self),  get_length(self)\n",
    "  \n",
    "1. BankAccount class를 작성하세요\n",
    "  - 해당 클래스는 amount라는 속성을 갖습니다.\n",
    "  - 생성자에서 해당 속성을 초기화 해줍니다. (__init__(self, amount))\n",
    "  - 해당 클래스는 인출, 저금의 기능을 갖습니다. withdraw(self, amount), save(self, amount)\n",
    "  - 해당 클래스는 잔액 확인 기능을 갖습니다. check(self)\n",
    "  - 해당 클래스는 복리 이자 체크 기능을 갖습니다. check_interest(self, interest_month, duration_month)\n",
    "\n",
    "2. 학생 성적 class관리를 위해 class를 작성하세요\n",
    " - 해당 클래스는 kor, eng, math라는 float 속성을 갖습니다.\n",
    " - 해당 클래스는 각 점수를 출력 기능을 갖습니다. print(self)\n",
    " - 해당 클래스는 점수의 평균을 반환하는 기능을 갖습니다. get_average(self)\n",
    " \n",
    "3. 비디오 가게 관리 class를 작성하세요\n",
    " - videos라는 딕셔너리 속성을 갖습니다.\n",
    " - 새 비디오 추가 기능 add_video(title)\n",
    " - 비디오 검색 기능 find_video(title)\n",
    " - 비디오가 신작인지 아닌지 판별하는 함수 (나온지 일주일 내를 신작이라고 평가) is_new_release(title)"
   ]
  },
  {
   "cell_type": "code",
   "execution_count": 20,
   "metadata": {
    "collapsed": false
   },
   "outputs": [
    {
     "name": "stdout",
     "output_type": "stream",
     "text": [
      "314.0\n",
      "1256.0\n",
      "62.8\n",
      "125.6\n"
     ]
    }
   ],
   "source": [
    "# radius 속성을 갖습니다.\n",
    "# 생성자에서 해당 속성을 초기화 합니다. __init__(self, radius)\n",
    "# 넓이, 둘레를 구하는 함수를 작성하세요 get_area(self),  get_length(self)\n",
    "class Circle(object):\n",
    "    \n",
    "    def __init__(self, r):\n",
    "        self.radius = r\n",
    "        \n",
    "    def get_area(self):\n",
    "        return 3.14 * self.radius * self.radius\n",
    "        \n",
    "    def get_length(self):\n",
    "        return 3.14 * 2 * self.radius\n",
    "    \n",
    "\n",
    "c1 = Circle(10)\n",
    "c2 = Circle(20)\n",
    "\n",
    "print c1.get_area()\n",
    "print c2.get_area()\n",
    "\n",
    "print c1.get_length()\n",
    "print c2.get_length()\n",
    "    "
   ]
  },
  {
   "cell_type": "code",
   "execution_count": 13,
   "metadata": {
    "collapsed": false
   },
   "outputs": [
    {
     "name": "stdout",
     "output_type": "stream",
     "text": [
      "deposit is 1100000\n",
      "1464100.0\n"
     ]
    }
   ],
   "source": [
    "#BankAccount class를 작성하세요\n",
    "# 해당 클래스는 amount라는 속성을 갖습니다.\n",
    "# 생성자에서 해당 속성을 초기화 해줍니다. (__init__(self, amount))\n",
    "# 해당 클래스는 인출, 저금의 기능을 갖습니다. withdraw(self, amount), save(self, amount)\n",
    "# 해당 클래스는 잔액 확인 기능을 갖습니다. check(self)\n",
    "# 해당 클래스는 복리 이자 체크 기능을 갖습니다. check_interest(self, interest_month, duration_month)\n",
    "\n",
    "\n",
    "class BankAccount(object):\n",
    "    def __init__(self, amount):\n",
    "        self.amount = amount\n",
    "        \n",
    "    def withdraw(self, money):\n",
    "        if self.amount >= money:\n",
    "            self.amount -= money\n",
    "        else:\n",
    "            print \"you can't\"\n",
    "        \n",
    "    def save(self, money):\n",
    "        self.amount += money\n",
    "        \n",
    "    def check(self):\n",
    "        print 'deposit is', self.amount\n",
    "        \n",
    "    def check_interest(self, interest_month, duration_month):\n",
    "        return self.amount * ((1 + interest_month) ** duration_month)\n",
    "    \n",
    "aaron = BankAccount(100000)\n",
    "bob = BankAccount(1000)\n",
    "\n",
    "aaron.save(1000000)\n",
    "aaron.check()\n",
    "print aaron.check_interest(0.1, 3)"
   ]
  },
  {
   "cell_type": "code",
   "execution_count": null,
   "metadata": {
    "collapsed": true
   },
   "outputs": [],
   "source": [
    "class ScoreManager(object):\n",
    "    \n",
    "    def __init__(self, kor, eng, math):\n",
    "        self.kor = kor\n",
    "        self.eng = eng\n",
    "        self.math = math \n",
    "        \n",
    "    def print_kor(self):\n",
    "        print 'kor : ', self.kor  \n",
    "        \n",
    "    def print_eng(self):\n",
    "        print 'eng : ', self.eng\n",
    "        \n",
    "    def print_math(self):\n",
    "        print 'math : ', self.math\n",
    "        \n",
    "        \n",
    "    def get_average(self):\n",
    "        avg = (self.kor + self.eng + self.math) / 3.0\n",
    "        return avg\n",
    "\n"
   ]
  },
  {
   "cell_type": "code",
   "execution_count": 21,
   "metadata": {
    "collapsed": false
   },
   "outputs": [
    {
     "name": "stdout",
     "output_type": "stream",
     "text": [
      "2017-01-16 11:06:06.634185 2017-01-09 11:06:06.634185\n"
     ]
    },
    {
     "data": {
      "text/plain": [
       "True"
      ]
     },
     "execution_count": 21,
     "metadata": {},
     "output_type": "execute_result"
    }
   ],
   "source": [
    "import datetime as dt\n",
    "today = dt.datetime.now()\n",
    "week_ago = today - dt.timedelta(days = 7)\n",
    "\n",
    "print today, week_ago\n",
    "week_ago < today"
   ]
  },
  {
   "cell_type": "code",
   "execution_count": 24,
   "metadata": {
    "collapsed": false
   },
   "outputs": [
    {
     "name": "stdout",
     "output_type": "stream",
     "text": [
      "True\n",
      "False\n"
     ]
    }
   ],
   "source": [
    "import datetime as dt\n",
    "\n",
    "class VideoManager(object):\n",
    "    def __init__(self):\n",
    "        self.video_dict = {}\n",
    "        \n",
    "    def add_video(self, title, date = dt.datetime.now()):\n",
    "        self.video_dict[title] = date\n",
    "        \n",
    "    def find_video(self, title):\n",
    "        if title in self.video_dict:\n",
    "            return title\n",
    "        else:\n",
    "            return 'no video named', title\n",
    "        \n",
    "    def is_new_release(self, title):\n",
    "        now = dt.datetime.now()\n",
    "        week_ago = now - dt.timedelta(days = 7)\n",
    "        \n",
    "        '''if self.video_dict[title] >= week_ago:\n",
    "            return True\n",
    "        else:\n",
    "            return False'''\n",
    "        \n",
    "        return self.video_dict[title] >= week_ago\n",
    "    \n",
    "    \n",
    "#print dt.datetime.now()\n",
    "#print dt.datetime(2017, 1, 17, 18, 24, 0)\n",
    "\n",
    "manager = VideoManager()\n",
    "manager.add_video('transformer')\n",
    "manager.add_video('abc', dt.datetime(2017, 1, 7, 18, 24, 0))\n",
    "\n",
    "print manager.is_new_release('transformer')\n",
    "print manager.is_new_release('abc')"
   ]
  },
  {
   "cell_type": "code",
   "execution_count": null,
   "metadata": {
    "collapsed": true
   },
   "outputs": [],
   "source": []
  },
  {
   "cell_type": "markdown",
   "metadata": {},
   "source": [
    " * Class Inheritance (상속)\n",
    "  - 기존에 정의해둔 클래스의 기능을 그대로 물려받을 수 있다.\n",
    "  - 기존 클래스에 기능 일부를 추가하거나, 변경하여 새로운 클래스를 정의한다.\n",
    "  - 코드를 재사용할 수 있게된다.\n",
    "  - 상속 받고자 하는 대상인 기존 클래스는 (Parent, Super, Base class 라고 부른다.)\n",
    "  - 상속 받는 새로운 클래스는(Child, Sub, Derived class 라고 부른다.)\n",
    "  - 의미적으로 is-a관계를 갖는다"
   ]
  },
  {
   "cell_type": "code",
   "execution_count": 25,
   "metadata": {
    "collapsed": false
   },
   "outputs": [
    {
     "name": "stdout",
     "output_type": "stream",
     "text": [
      "<__main__.Person object at 0x10768f9d0>\n",
      "<__main__.Student object at 0x10768f450>\n"
     ]
    }
   ],
   "source": [
    "class Person(object):\n",
    "    pass\n",
    "\n",
    "class Student(Person):\n",
    "    pass\n",
    "\n",
    "p1 = Person()\n",
    "s1 = Student()\n",
    "\n",
    "print p1\n",
    "print s1"
   ]
  },
  {
   "cell_type": "code",
   "execution_count": 28,
   "metadata": {
    "collapsed": false
   },
   "outputs": [
    {
     "name": "stdout",
     "output_type": "stream",
     "text": [
      "work hard\n",
      "work hard\n"
     ]
    }
   ],
   "source": [
    "class Person(object):\n",
    "    def work(self):\n",
    "        print 'work hard'\n",
    "\n",
    "#class Student(object):\n",
    "class Student(Person):\n",
    "    pass\n",
    "\n",
    "p1 = Person()\n",
    "s1 = Student()\n",
    "\n",
    "p1.work()\n",
    "s1.work()"
   ]
  },
  {
   "cell_type": "markdown",
   "metadata": {},
   "source": [
    "* method override\n",
    " - 부모 클래스의 method를 재정의(override)\n",
    " - 하위 클래스(자식 클래스) 의 인스턴스로 호출시, 재정의된 메소드가 호출됨"
   ]
  },
  {
   "cell_type": "code",
   "execution_count": 29,
   "metadata": {
    "collapsed": false
   },
   "outputs": [
    {
     "name": "stdout",
     "output_type": "stream",
     "text": [
      "work hard\n",
      "Study hard\n"
     ]
    }
   ],
   "source": [
    "class Person(object):\n",
    "    def work(self):\n",
    "        print 'work hard'\n",
    "\n",
    "class Student(Person):\n",
    "    def work(self):\n",
    "        print 'Study hard'\n",
    "        \n",
    "p1 = Person()\n",
    "s1 = Student()\n",
    "\n",
    "p1.work()\n",
    "s1.work()"
   ]
  },
  {
   "cell_type": "code",
   "execution_count": 30,
   "metadata": {
    "collapsed": false
   },
   "outputs": [
    {
     "name": "stdout",
     "output_type": "stream",
     "text": [
      "work hard\n",
      "Study hard\n",
      "Go to school\n"
     ]
    }
   ],
   "source": [
    "class Person(object):\n",
    "    def work(self):\n",
    "        print 'work hard'\n",
    "\n",
    "class Student(Person):\n",
    "    def work(self):\n",
    "        print 'Study hard'\n",
    "        \n",
    "    def go_to_school(self):\n",
    "        print 'Go to school'\n",
    "        \n",
    "\n",
    "p1 = Person()\n",
    "s1 = Student()\n",
    "\n",
    "p1.work()\n",
    "#p1.go_to_school()\n",
    "\n",
    "s1.work()\n",
    "s1.go_to_school()"
   ]
  },
  {
   "cell_type": "markdown",
   "metadata": {},
   "source": [
    "* super \n",
    " - 하위클래스(자식 클래스)에서 부모클래스의 method를 호출할 때 사용"
   ]
  },
  {
   "cell_type": "code",
   "execution_count": 31,
   "metadata": {
    "collapsed": false
   },
   "outputs": [
    {
     "name": "stdout",
     "output_type": "stream",
     "text": [
      "aaron\n",
      "aaron\n"
     ]
    }
   ],
   "source": [
    "class Person(object):\n",
    "    def __init__(self, name):\n",
    "        self.name = name\n",
    "        print self.name\n",
    "\n",
    "class Student(Person):\n",
    "    pass\n",
    "\n",
    "p1 = Person('aaron')\n",
    "s1 = Student('aaron')"
   ]
  },
  {
   "cell_type": "code",
   "execution_count": 21,
   "metadata": {
    "collapsed": false
   },
   "outputs": [
    {
     "name": "stdout",
     "output_type": "stream",
     "text": [
      "Dr.aaron\n",
      "True\n"
     ]
    }
   ],
   "source": [
    "class Person(object):\n",
    "    def __init__(self, name):\n",
    "        self.name = 'Dr.' + name\n",
    "        print self.name\n",
    "\n",
    "class Student(Person):\n",
    "    def __init__(self, name, email):\n",
    "        super(Student, self).__init__(name)\n",
    "        #self.name = name\n",
    "        self.email = email\n",
    "        \n",
    "\n",
    "class Student(Person):\n",
    "    def __init__(self, name, email):\n",
    "        self.name = name # 부모클래스에서 변경이 일어날 수 도 있다.\n",
    "        self.email = email\n",
    "\n",
    "p1 = Person('bob')\n",
    "s1 = Student('aaron', 'macmath22@gmail.com')\n",
    "\n",
    "print isinstance(s1, Person)       \n",
    "\n",
    "#print s1.name, s1.email\n",
    "#print p1.name, #p1.email"
   ]
  },
  {
   "cell_type": "markdown",
   "metadata": {},
   "source": [
    "* self\n",
    " - 파이썬의 method는 항상 첫번째 인자로 self를 전달\n",
    " - self는 현재 해당 메쏘드가 호출되는 객체 자신을 가리킴\n",
    " - C++/C#, Java의 this에 해당\n",
    " - 역시, 이름이 self일 필요는 없으나, 위치는 항상 맨 처음의 parameter이며 관례적으로 self로 사용"
   ]
  },
  {
   "cell_type": "code",
   "execution_count": 32,
   "metadata": {
    "collapsed": false
   },
   "outputs": [
    {
     "name": "stdout",
     "output_type": "stream",
     "text": [
      "bob\n",
      "<__main__.Person object at 0x1075d7590>\n",
      "<__main__.Person object at 0x1075d7590>\n",
      "bob is sleeping for  12 hour(s)\n"
     ]
    }
   ],
   "source": [
    "class Person(object):\n",
    "    def __init__(self, name):\n",
    "        self.name = name\n",
    "        print self.name\n",
    "    \n",
    "    def sleep(self, hour):\n",
    "        print self\n",
    "        print self.name, 'is sleeping for ', hour, 'hour(s)'\n",
    "        \n",
    "p1 = Person('bob')\n",
    "print p1\n",
    "p1.sleep(12)"
   ]
  },
  {
   "cell_type": "markdown",
   "metadata": {},
   "source": [
    "* method type\n",
    " - instance method - 객체로 호출\n",
    " - class method    - class로 호출\n"
   ]
  },
  {
   "cell_type": "code",
   "execution_count": 33,
   "metadata": {
    "collapsed": false
   },
   "outputs": [
    {
     "name": "stdout",
     "output_type": "stream",
     "text": [
      "1\n",
      "2\n",
      "44\n",
      "3\n"
     ]
    }
   ],
   "source": [
    "class A(object):\n",
    "    \n",
    "    count = 0 # static member (class variable)\n",
    "    \n",
    "    def __init__(self, cnt):\n",
    "        A.count += 1\n",
    "\n",
    "        self.cnt = cnt # member variable, attribute\n",
    "        \n",
    "    def print_cnt(self): # memeber function, method\n",
    "        print self.cnt\n",
    "        \n",
    "    @classmethod # class method, static function\n",
    "    def print_count(cls):\n",
    "        print cls.count\n",
    "        \n",
    "a1 = A(1)\n",
    "a2 = A(2)\n",
    "a3 = A(44)\n",
    "\n",
    "a1.print_cnt()\n",
    "a2.print_cnt()\n",
    "a3.print_cnt()\n",
    "\n",
    "A.print_count()"
   ]
  },
  {
   "cell_type": "markdown",
   "metadata": {},
   "source": [
    "* Duck typing\n",
    " - 다형성에 대한 느슨한 구현.\n",
    " - 클래스에 관계없이 같은 동작을 다른객체에 적용\n",
    " - 타입에 관계없이 같은 method를 구현한 것으로 다형성에 활용"
   ]
  },
  {
   "cell_type": "code",
   "execution_count": 80,
   "metadata": {
    "collapsed": false
   },
   "outputs": [
    {
     "name": "stdout",
     "output_type": "stream",
     "text": [
      "aaron play baseball\n",
      "sam play basketball\n",
      "knight play basketball\n",
      "bob play baseball\n",
      "mike play baseball\n",
      "tim play basketball\n"
     ]
    }
   ],
   "source": [
    "class BaseballPlayer(object):\n",
    "    def __init__(self, name):\n",
    "        self.name = name\n",
    "        \n",
    "    def play(self):\n",
    "        print self.name, 'play baseball'\n",
    "        \n",
    "class BasketballPlayer(object):\n",
    "    def __init__(self, name):\n",
    "        self.name = name\n",
    "        \n",
    "    def play(self):\n",
    "        print self.name, 'play basketball'\n",
    "        \n",
    "        \n",
    "b1 = BaseballPlayer('aaron')\n",
    "b2 = BaseballPlayer('bob')\n",
    "b3 = BaseballPlayer('mike')\n",
    "\n",
    "b11 = BasketballPlayer('sam')\n",
    "b12 = BasketballPlayer('knight')\n",
    "b13 = BasketballPlayer('tim')\n",
    "\n",
    "b1.play()\n",
    "b2.play()\n",
    "\n",
    "players = [b1, b11, b12, b2, b3, b13]\n",
    "\n",
    "for player in players:\n",
    "    player.play()\n",
    "        "
   ]
  },
  {
   "cell_type": "markdown",
   "metadata": {},
   "source": [
    "* special method\n",
    " - 2017. 01. 17 다시 시작\n",
    " - __로 시작\n",
    " - +, -, * 등의 연산자와 함께 사용 가능\n",
    " - https://docs.python.org/2/reference/datamodel.html"
   ]
  },
  {
   "cell_type": "code",
   "execution_count": 12,
   "metadata": {
    "collapsed": false
   },
   "outputs": [
    {
     "name": "stdout",
     "output_type": "stream",
     "text": [
      "False\n",
      "False\n",
      "False\n",
      "8\n",
      "5\n",
      "8\n",
      "[aaron123, Aaron, Bob, aaron123 Aaron]\n"
     ]
    }
   ],
   "source": [
    "class Word(object):\n",
    "    def __init__(self, text):\n",
    "        self.text = text\n",
    "        \n",
    "    def compare(self, word2):\n",
    "        return self.text.lower() == word2.text.lower()\n",
    "    \n",
    "    def __eq__(self, word2):\n",
    "        return self.text.lower() == word2.text.lower()\n",
    "    \n",
    "    def __len__(self):\n",
    "        return len(self.text)\n",
    "    \n",
    "    def length(self):\n",
    "        return len(self.text)\n",
    "    \n",
    "    def append(self, word2):\n",
    "        return Word(self.text + ' ' + word2.text)\n",
    "    \n",
    "    def __add__(self, word2):\n",
    "        return Word(self.text + ' ' + word2.text)\n",
    "    \n",
    "    def __str__(self):\n",
    "        return self.text\n",
    "    \n",
    "    def __repr__(self):\n",
    "        return self.text\n",
    "         \n",
    "    \n",
    "w1 = Word('aaron123')\n",
    "w2 = Word('Aaron')\n",
    "w3 = Word('Bob')\n",
    "\n",
    "print w1.compare(w2)\n",
    "print w1 == w2\n",
    "print w1.__eq__(w2)\n",
    "\n",
    "\n",
    "print len(w1)\n",
    "print len(w2)\n",
    "\n",
    "print w1.length()\n",
    "\n",
    "w4 = w1.append(w2)\n",
    "w5 = w1 + w2\n",
    "\n",
    "a = [w1, w2, w3, w4]\n",
    "print a"
   ]
  },
  {
   "cell_type": "code",
   "execution_count": 52,
   "metadata": {
    "collapsed": false
   },
   "outputs": [
    {
     "name": "stdout",
     "output_type": "stream",
     "text": [
      "aaronAaronTest\n",
      "28\n"
     ]
    }
   ],
   "source": [
    "class Word(object):\n",
    "    def __init__(self, text, num):\n",
    "        self.text = text\n",
    "        self.number = num\n",
    "        \n",
    "    def __eq__(self, word2):\n",
    "        return self.text.lower() == word2.text.lower()\n",
    "    \n",
    "    def __add__(self, word2):\n",
    "        return Word(self.text + word2.text, self.number)\n",
    "    \n",
    "    def __repr__(self):\n",
    "        return self.text\n",
    "    \n",
    "    def __str__(self):\n",
    "        return self.text\n",
    "    \n",
    "    def __len__(self):\n",
    "        return len(self.text) * 2\n",
    "\n",
    "    \n",
    "w1 = Word('aaron', 10)\n",
    "w2 = Word('Aaron', 20)\n",
    "w4 = Word('Test', 30)\n",
    "\n",
    "w3 = w1 + w2 + w4\n",
    "#w3 = w1.__add__(w2)\n",
    "\n",
    "print w3\n",
    "print len(w3)"
   ]
  },
  {
   "cell_type": "code",
   "execution_count": 118,
   "metadata": {
    "collapsed": true
   },
   "outputs": [],
   "source": [
    "w1 = Word('aaron')\n",
    "w2 = Word('Akronhaha')\n",
    "w3 = Word('Bob')\n",
    "w4 = Word('hb')\n",
    "\n",
    "words = [w1, w2, w3, w4]\n",
    "\n",
    "len(w1)\n",
    "\n",
    "__len__(self)\n",
    "\n",
    "__getitem__(self, key)\n",
    "\n",
    "w1[0]"
   ]
  },
  {
   "cell_type": "markdown",
   "metadata": {},
   "source": [
    "* 연습문제 \n",
    "  - Word 클래스를 생성하여 Word를 원소로 갖는 리스트를 생성하세요.\n",
    "   1. 문자의 길이를 기준으로 정렬해보세요. ( __len__(self)를 정의하면 len(w1)을 사용 할 수 있습니다. )\n",
    "   2. 두번째 문자를 기준으로 정렬해보세요. ( __getitem__(self, key)를 정의하면 w1[]을 사용 할 수 있습니다. )"
   ]
  },
  {
   "cell_type": "code",
   "execution_count": null,
   "metadata": {
    "collapsed": true
   },
   "outputs": [],
   "source": []
  },
  {
   "cell_type": "code",
   "execution_count": 14,
   "metadata": {
    "collapsed": true
   },
   "outputs": [],
   "source": [
    "class Word(object):\n",
    "    def __init__(self, text):\n",
    "        self.text = text\n",
    "        \n",
    "    def __eq__(self, word2):\n",
    "        return self.text.lower() == word2.text.lower()\n",
    "    \n",
    "    def __add__(self, word2):\n",
    "        return Word(self.text + word2.text)\n",
    "    \n",
    "    def __repr__(self):\n",
    "        return 'Word(\"' + self.text + '\")'\n",
    "    \n",
    "    def __str__(self):\n",
    "        return self.text\n",
    "    \n",
    "    def __len__(self):\n",
    "        return len(self.text)\n",
    "    \n",
    "    def __getitem__(self, key):\n",
    "        return self.text[key]\n",
    "    \n"
   ]
  },
  {
   "cell_type": "code",
   "execution_count": 15,
   "metadata": {
    "collapsed": false
   },
   "outputs": [
    {
     "name": "stdout",
     "output_type": "stream",
     "text": [
      "[Word(\"hb\"), Word(\"Bob\"), Word(\"aaron\"), Word(\"Akronhaha\")]\n",
      "[Word(\"aaron\"), Word(\"hb\"), Word(\"Akronhaha\"), Word(\"Bob\")]\n"
     ]
    }
   ],
   "source": [
    "w1 = Word('aaron')\n",
    "w2 = Word('Akronhaha')\n",
    "w3 = Word('Bob')\n",
    "w4 = Word('hb')\n",
    "\n",
    "words = [w1, w2, w3, w4]\n",
    "\n",
    "print w1\n",
    "\n",
    "print sorted(words, key = lambda x : len(x))\n",
    "print sorted(words, key = lambda x : x[1])"
   ]
  },
  {
   "cell_type": "code",
   "execution_count": null,
   "metadata": {
    "collapsed": true
   },
   "outputs": [],
   "source": []
  },
  {
   "cell_type": "markdown",
   "metadata": {},
   "source": [
    "* composition\n",
    " - 다른 클래스의 기능을 그대로 이용하고 싶으나, 상속을 피하고 싶을 때 사용\n",
    " - 컴포지션, 또는 어그리게이션(aggregation)이라고 한다.\n",
    " - 주로 의미적으로 is-a 관계가 맞지 않을 때 사용한다"
   ]
  },
  {
   "cell_type": "code",
   "execution_count": 122,
   "metadata": {
    "collapsed": false
   },
   "outputs": [
    {
     "name": "stdout",
     "output_type": "stream",
     "text": [
      "aaron has a bill and it is very good and a tail length of 8\n"
     ]
    }
   ],
   "source": [
    "class Bill(object):\n",
    "    def __init__(self, desc):\n",
    "        self.desc = desc\n",
    "        \n",
    "class Tail(object):\n",
    "    def __init__(self, length):\n",
    "        self.length = length\n",
    "        \n",
    "class Duck(object):\n",
    "    \n",
    "    def __init__(self, name):\n",
    "        self.bill = Bill()\n",
    "        self.tail = Tail()\n",
    "        self.name = name\n",
    "        \n",
    "    def about(self):\n",
    "        print self.name, 'has a bill and it is', self.bill.desc, 'and a tail length of', self.tail.length\n",
    "        \n",
    "tail = Tail(8)\n",
    "bill = Bill('very good')\n",
    "\n",
    "duck = Duck(bill, tail, 'aaron')\n",
    "duck.about()"
   ]
  },
  {
   "cell_type": "code",
   "execution_count": null,
   "metadata": {
    "collapsed": true
   },
   "outputs": [],
   "source": []
  },
  {
   "cell_type": "markdown",
   "metadata": {},
   "source": [
    "* 파이썬의 경우, 복소수를 지원하지만, 직접 만들어 봅시다"
   ]
  },
  {
   "cell_type": "code",
   "execution_count": 21,
   "metadata": {
    "collapsed": false
   },
   "outputs": [
    {
     "name": "stdout",
     "output_type": "stream",
     "text": [
      "4.0\n"
     ]
    },
    {
     "data": {
      "text/plain": [
       "2.23606797749979"
      ]
     },
     "execution_count": 21,
     "metadata": {},
     "output_type": "execute_result"
    }
   ],
   "source": [
    "1 + 4j + 2 + 5j\n",
    "\n",
    "import math\n",
    "print math.sqrt(16)\n",
    "\n",
    "5 ** 2\n",
    "5 ** 0.5\n",
    "\n",
    "math.pow(5, 0.5)"
   ]
  },
  {
   "cell_type": "markdown",
   "metadata": {},
   "source": [
    "* 연습문제)\n",
    " - 복소수 클래스를 정의 해봅시다.\n",
    " - 덧셈, 뺄셈, 곱셈 연산자 지원\n",
    " - 길이 (복소수의 크기) 지원 \n",
    " - 복소수 출력 '1 + 4j'와 같이 표현\n",
    " - 비교 연산 ==, != 지원\n",
    " - >=, <= , <, > 연산 지원\n"
   ]
  },
  {
   "cell_type": "code",
   "execution_count": 38,
   "metadata": {
    "collapsed": false
   },
   "outputs": [
    {
     "name": "stdout",
     "output_type": "stream",
     "text": [
      "3 + 5j\n",
      "5.83095189485\n",
      "True\n",
      "False\n"
     ]
    }
   ],
   "source": [
    "import math\n",
    "\n",
    "class ComplexNumber(object):\n",
    "    def __init__(self, num, img):\n",
    "        self.num = num\n",
    "        self.img = img\n",
    "        \n",
    "    def __repr__(self):\n",
    "        return '{} + {}j'.format(self.num, self.img)\n",
    "        \n",
    "    def __str__(self):\n",
    "        return '{} + {}j'.format(self.num, self.img)\n",
    "    \n",
    "    def __eq__(self, cn):\n",
    "        return self.num == cn.num and self.img == cn.img\n",
    "    \n",
    "    def __ne__(self, cn):\n",
    "        return not (self.num == cn.num and self.img == cn.img)\n",
    "    \n",
    "    def __add__(self, cn):\n",
    "        return ComplexNumber(self.num + cn.num, self.img + cn.img)\n",
    "    \n",
    "    def __sub__(self, cn):\n",
    "        return ComplexNumber(self.num - cn.num, self.img - cn.img)\n",
    "    \n",
    "    def __mul__(self, cn):\n",
    "        mul_num = self.num * cn.num - self.img * cn.img\n",
    "        mul_img = self.img * cn.num + self.num * cn.img\n",
    "        \n",
    "        return ComplexNumber(mul_num, mul_img)\n",
    "    \n",
    "    def __len__(self):\n",
    "        return math.sqrt(self.num ** 2 + self.img ** 2)\n",
    "    \n",
    "    def __abs__(self):\n",
    "        return math.sqrt(self.num ** 2 + self.img ** 2)\n",
    "    \n",
    "    def __gt__(self, other):\n",
    "        return abs(self) > abs(other)\n",
    "    \n",
    "    def __lt__(self, other):\n",
    "        return abs(self) < abs(other)\n",
    "        \n",
    "        \n",
    "c1 = ComplexNumber(3, 5)\n",
    "c2 = ComplexNumber(2, 5)\n",
    "c3 = ComplexNumber(2, 5)\n",
    "\n",
    "\n",
    "print c1\n",
    "print abs(c1)\n",
    "print c1 > c2\n",
    "print c1 < c2"
   ]
  },
  {
   "cell_type": "markdown",
   "metadata": {},
   "source": [
    "* class 설계를\n",
    " - 기능명세 작성\n",
    " - 기능을 담당할 클래스 추출\n",
    " - 멤버함수 정의\n",
    " \n",
    " \n",
    "* 연습문제\n",
    "* news를 crawling하여 해당 뉴스가 스포츠인지, 시사인지 경제인지 분류하는 소프트웨어 설계\n",
    " - 어떤 역할이 필요할까요?\n",
    " - 해당 역할을 클래스로 나누어 보세요\n",
    " - 클래스가 그려지면 각 클래스의 멤버함수는 어떻게 구성할 수 있을까요?"
   ]
  },
  {
   "cell_type": "code",
   "execution_count": null,
   "metadata": {
    "collapsed": true
   },
   "outputs": [],
   "source": []
  },
  {
   "cell_type": "markdown",
   "metadata": {},
   "source": [
    "* 연습문제)\n",
    "  - OrderedList 클래스를 만드세요\n",
    "  - 숫자 리스트를 속성으로 갖습니다.\n",
    "  - append(self, num), print(self), find(self, num) 멤버 함수를 갖습니다.\n",
    "  - print는 전체 리스트 출력\n",
    "  - append(num)은 새로운 숫자를 리스트에 추가하는데, 정렬된 상태로 추가합니다. 예를들어 [1, 3, 4, 7, 9]에 5를 추가하면 [1, 3, 4, 5, 7, 9] 가 됩니다.\n",
    "  - find(num)은 해당 숫자가 있는지 검색합니다."
   ]
  },
  {
   "cell_type": "code",
   "execution_count": null,
   "metadata": {
    "collapsed": true
   },
   "outputs": [],
   "source": []
  }
 ],
 "metadata": {
  "kernelspec": {
   "display_name": "Python 2",
   "language": "python",
   "name": "python2"
  },
  "language_info": {
   "codemirror_mode": {
    "name": "ipython",
    "version": 2
   },
   "file_extension": ".py",
   "mimetype": "text/x-python",
   "name": "python",
   "nbconvert_exporter": "python",
   "pygments_lexer": "ipython2",
   "version": "2.7.13"
  }
 },
 "nbformat": 4,
 "nbformat_minor": 1
}
