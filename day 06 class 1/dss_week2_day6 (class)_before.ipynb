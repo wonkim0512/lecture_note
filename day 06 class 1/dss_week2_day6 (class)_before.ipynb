{
 "cells": [
  {
   "cell_type": "markdown",
   "metadata": {},
   "source": [
    "# Class & Object "
   ]
  },
  {
   "cell_type": "markdown",
   "metadata": {},
   "source": [
    "## 학습목표\n",
    " 1. 클래스와 오브젝트에 대한 이해\n",
    " 2. 클래스 설계 구현 및 사용 숙지"
   ]
  },
  {
   "cell_type": "markdown",
   "metadata": {},
   "source": [
    "* class란? 새로운 type을 정의하는 것.\n",
    " + 실세계의 것을 모델링하여 속성(attribute)와 동작(method)를 갖는 데이터 타입\n",
    " + string, int, list, dict.. 모두가 다 클래스\n",
    " + 예를들어 학생이라는 클래스를 만든다면, 학생을 나타내는 속성과 학생이 행하는 행동을 함께 정의 할 수 있음. **속성과 행동**\n",
    " + 모델링에서 중요시 하는 속성에 따라 클래스의 속성과 행동이 각각 달라짐"
   ]
  },
  {
   "cell_type": "markdown",
   "metadata": {},
   "source": [
    "* object 란?\n",
    " - 클래스로 생성되어 구체화된 객체(인스턴스)\n",
    " - 파이썬의 모든 것(int, str, list..etc)은 객체(인스턴스)\n",
    " - 실제로 class가 인스턴스화 되어 메모리에 상주하는 상태를 의미\n",
    " - class가 빵틀이라면, object는 실제로 빵틀로 찍어낸 빵이라고 비유 가능\n"
   ]
  },
  {
   "cell_type": "code",
   "execution_count": 4,
   "metadata": {
    "collapsed": false
   },
   "outputs": [
    {
     "name": "stdout",
     "output_type": "stream",
     "text": [
      "['__abs__', '__add__', '__and__', '__class__', '__cmp__', '__coerce__', '__delattr__', '__div__', '__divmod__', '__doc__', '__float__', '__floordiv__', '__format__', '__getattribute__', '__getnewargs__', '__hash__', '__hex__', '__index__', '__init__', '__int__', '__invert__', '__long__', '__lshift__', '__mod__', '__mul__', '__neg__', '__new__', '__nonzero__', '__oct__', '__or__', '__pos__', '__pow__', '__radd__', '__rand__', '__rdiv__', '__rdivmod__', '__reduce__', '__reduce_ex__', '__repr__', '__rfloordiv__', '__rlshift__', '__rmod__', '__rmul__', '__ror__', '__rpow__', '__rrshift__', '__rshift__', '__rsub__', '__rtruediv__', '__rxor__', '__setattr__', '__sizeof__', '__str__', '__sub__', '__subclasshook__', '__truediv__', '__trunc__', '__xor__', 'bit_length', 'conjugate', 'denominator', 'imag', 'numerator', 'real']\n",
      "7\n"
     ]
    }
   ],
   "source": [
    "# 실제로 메모리에 구체화된 값을 가진 실체\n",
    "# 속성(attribute), 동작(method)를 가짐\n",
    "num = 100 #num은 지금 정수형(int)\n",
    "print dir(num) #int형이 가지고 있는 함수형 호출\n",
    "print num.bit_length() #int형도 객체니까 멤버함수 호출 가능"
   ]
  },
  {
   "cell_type": "markdown",
   "metadata": {},
   "source": [
    "* class 선언하기"
   ]
  },
  {
   "cell_type": "code",
   "execution_count": 10,
   "metadata": {
    "collapsed": false
   },
   "outputs": [
    {
     "name": "stdout",
     "output_type": "stream",
     "text": [
      "<__main__.Person object at 0x03338510>\n",
      "<class '__main__.Person'>\n"
     ]
    }
   ],
   "source": [
    "# 3가지 패턴 모두 가능\n",
    "class Person(): #camel case. class이름은 Person, StudentManager, PythonClass 이렇게 대소문자로. 관례임.\n",
    "    pass\n",
    "\n",
    "class Person:\n",
    "    pass\n",
    "\n",
    "#그래도 파이썬2에서는 이렇게 쓰도록 하자. 상속을 하는 경우가 많으니까\n",
    "class Person(object):\n",
    "    pass\n",
    "\n",
    "\n",
    "p1 = Person() #p1 은 Person이라는 class의 instance\n",
    "print(p1)\n",
    "print(type(p1)) #우리만의 type으로 생성할 수 있음"
   ]
  },
  {
   "cell_type": "markdown",
   "metadata": {},
   "source": [
    "* __init__(self)\n",
    " + 생성자.  클래스 인스턴스가 생성될 때 호출됨\n",
    " + self인자는 항상 첫번째에 오며 자기 자신을 가리킴\n",
    " + 이름이 꼭 self일 필요는 없지만, 일반적으로 self로 사용"
   ]
  },
  {
   "cell_type": "code",
   "execution_count": 101,
   "metadata": {
    "collapsed": false
   },
   "outputs": [
    {
     "name": "stdout",
     "output_type": "stream",
     "text": [
      "<__main__.Person object at 0x034D17F0>\n",
      "object is created\n",
      "<__main__.Person object at 0x034D17F0>\n",
      "****************************************************************************************************\n",
      "\n",
      "<__main__.Person object at 0x034D11F0>\n",
      "\n",
      "aaron\n"
     ]
    }
   ],
   "source": [
    "class Person(object):\n",
    "    def __init__(self): #self는 객체 자체를 가리킴.\n",
    "        print(self)\n",
    "        print(\"object is created\")\n",
    "\n",
    "p1 = Person() #객체를 생성. 이때 self 불린다.만들어진 Person()이 p1에 담긴다. 생성될 때만 실행. 즉, p1이라는 아이디로 person()에 회원가입.\n",
    "print(p1) #즉 self는 p1 자체다.\n",
    "\n",
    "\n",
    "print(\"*\"*100)\n",
    "\n",
    "\n",
    "class Person(object):\n",
    "    def __init__(self, a):\n",
    "        self.name = a # 멤버 변수(속성). 아예 회원가입할 때 이름 a까지 입력해라.\n",
    "        \n",
    "    def test(self): #멤버 함수(메소드)\n",
    "        pass\n",
    "        \n",
    "# Student 클래스의 정의를 찾고\n",
    "# object를 메모리에 초기화(생성)\n",
    "# __init__ method를 호출. 이때 새롭게 생성된 object를 self에 전달하고, 'aaron'을 a에 전달\n",
    "# object에 name값을 저장하고 \n",
    "# s1에 이 object를 연결한다\n",
    "s1 = Person('aaron')\n",
    "print\n",
    "print s1\n",
    "print\n",
    "print s1.name #파이썬에서 멤버 변수는 public이다. "
   ]
  },
  {
   "cell_type": "markdown",
   "metadata": {},
   "source": [
    "* mehtod 정의\n",
    " + 멤버함수라고도 하며, 해당 클래스의 object에서만 호출가능하다.\n",
    " + {obj}.{method}() 형태로 호출됨"
   ]
  },
  {
   "cell_type": "code",
   "execution_count": 20,
   "metadata": {
    "collapsed": false
   },
   "outputs": [
    {
     "name": "stdout",
     "output_type": "stream",
     "text": [
      "Tracy works very hard\n"
     ]
    },
    {
     "ename": "NameError",
     "evalue": "name 'work' is not defined",
     "output_type": "error",
     "traceback": [
      "\u001b[0;31m---------------------------------------------------------------------------\u001b[0m",
      "\u001b[0;31mNameError\u001b[0m                                 Traceback (most recent call last)",
      "\u001b[0;32m<ipython-input-20-0ee2e7d5eefa>\u001b[0m in \u001b[0;36m<module>\u001b[0;34m()\u001b[0m\n\u001b[1;32m     10\u001b[0m \u001b[0mp1\u001b[0m\u001b[1;33m.\u001b[0m\u001b[0mwork\u001b[0m\u001b[1;33m(\u001b[0m\u001b[1;33m)\u001b[0m\u001b[1;33m\u001b[0m\u001b[0m\n\u001b[1;32m     11\u001b[0m \u001b[1;33m\u001b[0m\u001b[0m\n\u001b[0;32m---> 12\u001b[0;31m \u001b[0mwork\u001b[0m\u001b[1;33m(\u001b[0m\u001b[1;33m)\u001b[0m\u001b[1;33m\u001b[0m\u001b[0m\n\u001b[0m",
      "\u001b[0;31mNameError\u001b[0m: name 'work' is not defined"
     ]
    }
   ],
   "source": [
    "class Person(object):\n",
    "    def __init__(self, name): #class 안에 정의된 함수가 멤버함수(메소드)\n",
    "        self.name = name\n",
    "        \n",
    "    def work(self):\n",
    "        print '{} works very hard'.format(self.name)\n",
    "        \n",
    "\n",
    "p1 = Person('Tracy')\n",
    "p1.work()\n",
    "\n",
    "work() #회원가입 안한 사람이 person의 work서비스 제공받으려하면 안되지."
   ]
  },
  {
   "cell_type": "code",
   "execution_count": 23,
   "metadata": {
    "collapsed": false
   },
   "outputs": [
    {
     "name": "stdout",
     "output_type": "stream",
     "text": [
      "aaron works very hard\n",
      "bob works very hard\n",
      "bob sleeps for 7 hours every day\n",
      "<__main__.Person object at 0x03441DD0>\n",
      "<__main__.Person object at 0x03441610>\n"
     ]
    }
   ],
   "source": [
    "class Person(object):\n",
    "    def __init__(self, name): \n",
    "        self.name = name\n",
    "        \n",
    "    def work(self): #class 내부에서 부르기 위해 self, 현재 객체를 참조하기 위해 부르는 것\n",
    "        print '{} works very hard'.format(self.name)\n",
    "        \n",
    "    def sleep(self, hour):\n",
    "        print '{} sleeps for {} hours every day'.format(self.name, hour)\n",
    "        \n",
    "\n",
    "p1 = Person('aaron')\n",
    "p1.work()\n",
    "\n",
    "p2 = Person('bob') #생성할 때는 __init__만 불린다. \n",
    "p2.work()\n",
    "p2.sleep(7)\n",
    "\n",
    "\n",
    "print p1\n",
    "print p2"
   ]
  },
  {
   "cell_type": "markdown",
   "metadata": {},
   "source": [
    "# OOP(Object Oriented Programming) 객체지향 프로그래밍\n",
    "\n",
    "\n",
    "+ '객체지향 프로그래밍'이란 객체들을 연결 시켜 프로그래밍 하는 것.\n",
    "+ 방법: 추상화, 캡슐화, 다형성, 상속을 이용. \n",
    "+ 효과: 코드 재사용을 증가시키고, 유지보수를 감소시키는 장점을 얻기 위해서 \n",
    "\n",
    "\n",
    "+ 이전까지 절차지향(procedure). 함수는 데이터를 가지고 있지않고 인수가 들어올 때마다 처리\n"
   ]
  },
  {
   "cell_type": "markdown",
   "metadata": {},
   "source": [
    "* 연습문제\n",
    "0. Circle class를 작성하세요\n",
    "  - radius 속성을 갖습니다.\n",
    "  - 생성자에서 해당 속성을 초기화 합니다. __init__(self, radius)\n",
    "  - 넓이, 둘레를 구하는 함수를 작성하세요 get_area(self),  get_length(self)\n",
    "  \n",
    "1. BankAccount class를 작성하세요\n",
    "  - 해당 클래스는 amount라는 속성을 갖습니다.\n",
    "  - 생성자에서 해당 속성을 초기화 해줍니다. (__init__(self, amount))\n",
    "  - 해당 클래스는 인출, 저금의 기능을 갖습니다. withdraw(self, amount), save(self, amount)\n",
    "  - 해당 클래스는 잔액 확인 기능을 갖습니다. check(self)\n",
    "  - 해당 클래스는 복리 이자 체크 기능을 갖습니다. check_interest(self, interest_month, duration_month)\n",
    "\n",
    "2. 학생 성적 class관리를 위해 class를 작성하세요\n",
    " - 해당 클래스는 kor, eng, math라는 float 속성을 갖습니다.\n",
    " - 해당 클래스는 각 점수를 출력 기능을 갖습니다. print(self)\n",
    " - 해당 클래스는 점수의 평균을 반환하는 기능을 갖습니다. get_average(self)\n",
    " \n",
    "3. 비디오 가게 관리 class를 작성하세요\n",
    " - videos라는 딕셔너리 속성을 갖습니다.\n",
    " - 새 비디오 추가 기능 add_video(title)\n",
    " - 비디오 검색 기능 find_video(title)\n",
    " - 비디오가 신작인지 아닌지 판별하는 함수 (나온지 일주일 내를 신작이라고 평가) is_new_release(title)"
   ]
  },
  {
   "cell_type": "code",
   "execution_count": 3,
   "metadata": {
    "collapsed": false
   },
   "outputs": [
    {
     "name": "stdout",
     "output_type": "stream",
     "text": [
      "314.159265359\n",
      "62.8318530718\n"
     ]
    }
   ],
   "source": [
    "import math\n",
    "\n",
    "class Circle(object):\n",
    "    \n",
    "    def __init__(self, radius):\n",
    "        self.r = radius\n",
    "        \n",
    "    def area(self):\n",
    "        return math.pi * (self.r ** 2)\n",
    "    \n",
    "    def length(self):\n",
    "        return 2 * math.pi * self.r\n",
    "\n",
    "c1 = Circle(10)\n",
    "print c1.area()\n",
    "print c1.length()"
   ]
  },
  {
   "cell_type": "code",
   "execution_count": 25,
   "metadata": {
    "collapsed": false
   },
   "outputs": [
    {
     "name": "stdout",
     "output_type": "stream",
     "text": [
      "314.159265359\n",
      "1256.63706144\n",
      "62.8318530718\n",
      "125.663706144\n"
     ]
    }
   ],
   "source": [
    "#Circle class를 작성하세요\n",
    "#radius 속성을 갖습니다.\n",
    "#생성자에서 해당 속성을 초기화 합니다. init(self, radius)\n",
    "#넓이, 둘레를 구하는 함수를 작성하세요 get_area(self), get_length(self)\n",
    "import math\n",
    "class Circle(object):\n",
    "    \n",
    "    def __init__(self,r):\n",
    "        self.radius = r\n",
    "        \n",
    "    def get_area(self):\n",
    "        return math.pi * (self.radius**2)\n",
    "    \n",
    "    def get_length(self):\n",
    "        return 2 * math.pi * self.radius\n",
    "    \n",
    "c1 = Circle(10) #얘가 전달되는 건 __init__이다. Circle(object)가 아니라.\n",
    "c2 = Circle(20)\n",
    "\n",
    "print(c1.get_area())\n",
    "print(c2.get_area())\n",
    "print(c1.get_length())\n",
    "print(c2.get_length())"
   ]
  },
  {
   "cell_type": "code",
   "execution_count": 102,
   "metadata": {
    "collapsed": false
   },
   "outputs": [
    {
     "name": "stdout",
     "output_type": "stream",
     "text": [
      "314.159265359\n",
      "62.8318530718\n"
     ]
    }
   ],
   "source": [
    "#Circle class를 작성하세요\n",
    "#radius 속성을 갖습니다.\n",
    "#생성자에서 해당 속성을 초기화 합니다. init(self, radius)\n",
    "#넓이, 둘레를 구하는 함수를 작성하세요 get_area(self), get_length(self)\n",
    "import math\n",
    "class Circle(object):\n",
    "    \n",
    "    def __init__(self, radius):\n",
    "        self.radius = radius\n",
    "        \n",
    "    def get_area(self):\n",
    "        return math.pi * (self.radius ** 2)\n",
    "    \n",
    "    def get_length(self):\n",
    "        return 2 * math.pi * self.radius\n",
    "    \n",
    "c1 = Circle(10)\n",
    "print(c1.get_area())\n",
    "print(c1.get_length())"
   ]
  },
  {
   "cell_type": "code",
   "execution_count": 70,
   "metadata": {
    "collapsed": false,
    "scrolled": true
   },
   "outputs": [
    {
     "name": "stdout",
     "output_type": "stream",
     "text": [
      "50\n",
      "250\n",
      "258.305978523\n"
     ]
    }
   ],
   "source": [
    "#BankAccount class를 작성하세요\n",
    "#해당 클래스는 amount라는 속성을 갖습니다.\n",
    "#생성자에서 해당 속성을 초기화 해줍니다. (init(self, amount))\n",
    "#해당 클래스는 인출, 저금의 기능을 갖습니다. withdraw(self, amount), save(self, amount)\n",
    "#해당 클래스는 잔액 확인 기능을 갖습니다. check(self)\n",
    "#해당 클래스는 복리 이자 체크 기능을 갖습니다. check_interest(self, interest_month, duration_month)\n",
    "\n",
    "class BankAccount(object):\n",
    "    \n",
    "    def __init__(self, amount):\n",
    "        self.amount = amount\n",
    "        \n",
    "    def withdraw(self, amount):\n",
    "        if self.amount >= amount:\n",
    "            self.amount -= amount\n",
    "            return self.amount\n",
    "        else:\n",
    "            return \"You can't withdraw beyond your account\"\n",
    "        \n",
    "    def save(self, amount):\n",
    "        self.amount += amount\n",
    "        return self.amount\n",
    "        \n",
    "    def check_interest(self, interest_month, duration_month):\n",
    "        self.interest_month = interest_month\n",
    "        self.duration_month = duration_month\n",
    "        self.amount = self.amount * (1 + self.interest_month/float(100))**(self.duration_month/float(12))\n",
    "        return self.amount\n",
    "\n",
    "won = BankAccount(100)\n",
    "print won.withdraw(50)\n",
    "print won.save(200)\n",
    "print won.check_interest(4, 10)\n",
    "\n",
    "\n"
   ]
  },
  {
   "cell_type": "code",
   "execution_count": 113,
   "metadata": {
    "collapsed": false
   },
   "outputs": [
    {
     "name": "stdout",
     "output_type": "stream",
     "text": [
      "You don't have enough money.\n",
      "200\n",
      "400\n",
      "400\n",
      "432.64\n"
     ]
    }
   ],
   "source": [
    "#BankAccount class를 작성하세요\n",
    "#해당 클래스는 amount라는 속성을 갖습니다.\n",
    "#생성자에서 해당 속성을 초기화 해줍니다. (init(self, amount))\n",
    "#해당 클래스는 인출, 저금의 기능을 갖습니다. withdraw(self, amount), save(self, amount)\n",
    "#해당 클래스는 잔액 확인 기능을 갖습니다. check(self)\n",
    "#해당 클래스는 복리 이자 체크 기능을 갖습니다. check_interest(self, interest_month, duration_month)\n",
    "\n",
    "class BankAccount(object):\n",
    "    \n",
    "    def __init__(self, amount):\n",
    "        self.amount = amount\n",
    "        \n",
    "    def withdraw(self, amount):\n",
    "        if amount > self.amount:\n",
    "            print(\"You don't have enough money.\")\n",
    "        else:\n",
    "            self.amount -= amount\n",
    "            return self.amount\n",
    "        \n",
    "    def save(self, amount):\n",
    "        self.amount += amount\n",
    "        return self.amount\n",
    "    \n",
    "    def check(self):\n",
    "        return self.amount\n",
    "    \n",
    "    def check_interest(self, interest_month, duration_month):\n",
    "        return self.amount * (1 + (interest_month / float(100))) ** (duration_month / float(12))\n",
    "    \n",
    "won = BankAccount(1000)\n",
    "won.withdraw(1200)\n",
    "print won.withdraw(800)\n",
    "print won.save(200)\n",
    "print won.check()\n",
    "print won.check_interest(4, 24)"
   ]
  },
  {
   "cell_type": "code",
   "execution_count": 80,
   "metadata": {
    "collapsed": false
   },
   "outputs": [
    {
     "name": "stdout",
     "output_type": "stream",
     "text": [
      "90.0\n",
      "95.0\n",
      "85.0\n",
      "90.0\n"
     ]
    }
   ],
   "source": [
    "#학생 성적 class관리를 위해 class를 작성하세요\n",
    "#해당 클래스는 kor, eng, math라는 float 속성을 갖습니다.\n",
    "#해당 클래스는 각 점수를 출력 기능을 갖습니다. print(self)\n",
    "#해당 클래스는 점수의 평균을 반환하는 기능을 갖습니다. get_average(self)\n",
    "\n",
    "class ScoreManager(object):\n",
    "    def __init__(self, kor, eng, math):\n",
    "        self.kor = float(kor)\n",
    "        self.eng = float(eng)\n",
    "        self.math = float(math)\n",
    "        \n",
    "    def print_kor(self):\n",
    "        print self.kor\n",
    "        \n",
    "    def print_eng(self):\n",
    "        print self.eng\n",
    "    \n",
    "    def print_math(self):\n",
    "        print self.math\n",
    "        \n",
    "    def get_average(self):\n",
    "        print (self.math + self.eng + self.kor)/float(3)\n",
    "    \n",
    "won = ScoreManager(90,95,85)\n",
    "won.print_kor()\n",
    "won.print_eng()\n",
    "won.print_math()\n",
    "won.get_average()"
   ]
  },
  {
   "cell_type": "code",
   "execution_count": 117,
   "metadata": {
    "collapsed": false
   },
   "outputs": [
    {
     "name": "stdout",
     "output_type": "stream",
     "text": [
      "100 97 96\n",
      "97.6666666667\n"
     ]
    }
   ],
   "source": [
    "#학생 성적 class관리를 위해 class를 작성하세요\n",
    "#해당 클래스는 kor, eng, math라는 float 속성을 갖습니다.\n",
    "#해당 클래스는 각 점수를 출력 기능을 갖습니다. print(self)\n",
    "#해당 클래스는 점수의 평균을 반환하는 기능을 갖습니다. get_average(self)\n",
    "\n",
    "class ScoreManager(object):\n",
    "    \n",
    "    def __init__(self, kor, eng, math):\n",
    "        self.kor = kor\n",
    "        self.eng = eng\n",
    "        self.math = math\n",
    "        \n",
    "    def print_scores(self):\n",
    "        print self.kor, self.eng, self.math\n",
    "        \n",
    "    def get_avg(self):\n",
    "        print (self.kor + self.eng + self.math)/float(3)\n",
    "\n",
    "student1 = ScoreManager(100, 97, 96)\n",
    "student1.print_scores()\n",
    "student1.get_avg()"
   ]
  },
  {
   "cell_type": "code",
   "execution_count": 76,
   "metadata": {
    "collapsed": false,
    "scrolled": true
   },
   "outputs": [
    {
     "name": "stdout",
     "output_type": "stream",
     "text": [
      "{'Holiday in Rome': datetime.datetime(2017, 1, 16, 11, 58, 4, 929000)}\n",
      "{'Jason Bourne': datetime.datetime(2017, 1, 16, 11, 58, 4, 929000), 'Holiday in Rome': datetime.datetime(2017, 1, 16, 11, 58, 4, 929000)}\n",
      "No, we don't have it.\n",
      "True\n"
     ]
    }
   ],
   "source": [
    "#비디오 가게 관리 class를 작성하세요\n",
    "#videos라는 딕셔너리 속성을 갖습니다.\n",
    "#새 비디오 추가 기능 add_video(title)\n",
    "#비디오 검색 기능 find_video(title)\n",
    "#비디오가 신작인지 아닌지 판별하는 함수 (나온지 일주일 내를 신작이라고 평가) is_new_release(title)\n",
    "import datetime as dt\n",
    "today = dt.datetime.now()\n",
    "week_ago = today - dt.timedelta(days = 7)\n",
    "\n",
    "class VideoStore(object):\n",
    "\n",
    "    def __init__(self):\n",
    "        self.videos = {}\n",
    "        \n",
    "    def add_video(self, title):\n",
    "        self.videos[title] = today\n",
    "        return self.videos\n",
    "        \n",
    "    def find_video(self, title):\n",
    "        if title in self.videos:\n",
    "            return \"Yes, we have it.\"\n",
    "            \n",
    "        else:\n",
    "            return \"No, we don't have it.\"\n",
    "    \n",
    "    def is_new_release(self, title):\n",
    "        '''if today > week_ago:\n",
    "            return \"It is released recently.\"\n",
    "            \n",
    "        else:\n",
    "            return \"It is not new one.\"'''\n",
    "        return today >= week_ago\n",
    "            \n",
    "gg512 = VideoStore()\n",
    "print(gg512.add_video(\"Holiday in Rome\"))\n",
    "print(gg512.add_video(\"Jason Bourne\"))\n",
    "print(gg512.find_video(\"La La Land\"))\n",
    "print(gg512.is_new_release(\"Holiday in Rome\"))"
   ]
  },
  {
   "cell_type": "code",
   "execution_count": 118,
   "metadata": {
    "collapsed": false
   },
   "outputs": [
    {
     "name": "stdout",
     "output_type": "stream",
     "text": [
      "7 days, 0:00:00\n",
      "2017-01-16 17:42:13.762000 2017-01-09 17:42:13.762000\n",
      "True\n"
     ]
    }
   ],
   "source": [
    "# datetime 모듈을 이용하여 날짜 계산 가능\n",
    "import datetime as dt\n",
    "today = dt.datetime.now() # 현재 시간 계산\n",
    "week_ago = today - dt.timedelta(days = 7) # 일주일전 시간 계산\n",
    "\n",
    "print dt.timedelta(days = 7)\n",
    "print today, week_ago\n",
    "print week_ago < today"
   ]
  },
  {
   "cell_type": "code",
   "execution_count": 137,
   "metadata": {
    "collapsed": false
   },
   "outputs": [
    {
     "name": "stdout",
     "output_type": "stream",
     "text": [
      "{'007': datetime.datetime(2017, 1, 16, 17, 57, 24, 175000)}\n",
      "-1\n",
      "{'La La Land': datetime.datetime(2017, 1, 16, 17, 57, 24, 175000), '007': datetime.datetime(2017, 1, 16, 17, 57, 24, 175000)}\n",
      "La La Land\n",
      "It is new\n",
      "It is new\n"
     ]
    }
   ],
   "source": [
    "#비디오 가게 관리 class를 작성하세요\n",
    "#videos라는 딕셔너리 속성을 갖습니다.\n",
    "#새 비디오 추가 기능 add_video(title)\n",
    "#비디오 검색 기능 find_video(title)\n",
    "#비디오가 신작인지 아닌지 판별하는 함수 (나온지 일주일 내를 신작이라고 평가) is_new_release(title)\n",
    "import datetime as dt\n",
    "now = dt.datetime.now()\n",
    "seconds_ago = now - dt.timedelta(seconds = 5)\n",
    "\n",
    "class VideoStore(object):\n",
    "    \n",
    "    def __init__(self):\n",
    "        self.video = {}\n",
    "        \n",
    "    def add(self, title):\n",
    "        self.video[title] = now\n",
    "        return self.video\n",
    "        \n",
    "    def find(self, title):\n",
    "        if title in self.video:\n",
    "            return title\n",
    "            \n",
    "        else :\n",
    "            return -1\n",
    "        \n",
    "    def is_new(self, title):\n",
    "        if now > seconds_ago:\n",
    "            return \"It is new\"\n",
    "        else:\n",
    "            return \"It is not new\"\n",
    "\n",
    "gg = VideoStore()\n",
    "print(gg.add(\"007\"))\n",
    "print(gg.find(\"Jason\"))\n",
    "print(gg.add(\"La La Land\"))\n",
    "print gg.find(\"La La Land\")\n",
    "print(gg.is_new(\"007\"))\n",
    "gg.add(\"La La Land\")\n",
    "print(gg.is_new(\"La La Land\"))"
   ]
  },
  {
   "cell_type": "code",
   "execution_count": null,
   "metadata": {
    "collapsed": true
   },
   "outputs": [],
   "source": []
  },
  {
   "cell_type": "code",
   "execution_count": null,
   "metadata": {
    "collapsed": true
   },
   "outputs": [],
   "source": []
  },
  {
   "cell_type": "code",
   "execution_count": null,
   "metadata": {
    "collapsed": true
   },
   "outputs": [],
   "source": []
  },
  {
   "cell_type": "code",
   "execution_count": null,
   "metadata": {
    "collapsed": true
   },
   "outputs": [],
   "source": []
  },
  {
   "cell_type": "markdown",
   "metadata": {},
   "source": [
    " * **Class Inheritance (상속)**\n",
    "  - 기존에 정의해둔 클래스의 기능을 그대로 물려받을 수 있다.\n",
    "  - 기존 클래스에 기능 일부를 추가하거나, 변경하여 새로운 클래스를 정의한다.\n",
    "  - 코드를 재사용할 수 있게된다.\n",
    "  - 상속 받고자 하는 대상인 기존 클래스는 (Parent, Super, Base class 라고 부른다.)\n",
    "  - 상속 받는 새로운 클래스는(Child, Sub, Derived class 라고 부른다.)\n",
    "  - 의미적으로 is-a관계를 갖는다"
   ]
  },
  {
   "cell_type": "code",
   "execution_count": 14,
   "metadata": {
    "collapsed": false
   },
   "outputs": [
    {
     "name": "stdout",
     "output_type": "stream",
     "text": [
      "<__main__.Person object at 0x0330FE70>\n",
      "<__main__.Student object at 0x0330FD70>\n"
     ]
    }
   ],
   "source": [
    "class Person(object):\n",
    "    pass\n",
    "\n",
    "class Student(Person):\n",
    "    pass\n",
    "\n",
    "p1 = Person()\n",
    "s1 = Student()\n",
    "\n",
    "print p1\n",
    "print s1"
   ]
  },
  {
   "cell_type": "code",
   "execution_count": 139,
   "metadata": {
    "collapsed": false
   },
   "outputs": [
    {
     "name": "stdout",
     "output_type": "stream",
     "text": [
      "work hard\n",
      "work hard for 9 hours\n"
     ]
    }
   ],
   "source": [
    "class Person(object):\n",
    "    def work(self):\n",
    "        print 'work hard'\n",
    "\n",
    "#class Student():\n",
    "class Student(Person): #student라는 class는 person이란 class를 상속받으니 person 속 메소드를 그대로 이용할 수 있다.\n",
    "    def work(self, hour):\n",
    "        print 'work hard for {} hours'.format(hour)\n",
    "\n",
    "p1 = Person()\n",
    "s1 = Student()\n",
    "\n",
    "p1.work()\n",
    "s1.work(9)"
   ]
  },
  {
   "cell_type": "markdown",
   "metadata": {},
   "source": [
    "* method override\n",
    " - 부모 클래스의 method를 재정의(override)\n",
    " - 하위 클래스(자식 클래스) 의 인스턴스로 호출시, 재정의된 메소드가 호출됨"
   ]
  },
  {
   "cell_type": "code",
   "execution_count": 81,
   "metadata": {
    "collapsed": false
   },
   "outputs": [
    {
     "name": "stdout",
     "output_type": "stream",
     "text": [
      "work hard\n",
      "Study hard\n"
     ]
    }
   ],
   "source": [
    "class Person(object):\n",
    "    def work(self):\n",
    "        print 'work hard'\n",
    "\n",
    "class Student(Person):\n",
    "    def work(self): #상속받은 class에서 메소드를 수정하고 싶어! override(재정의)\n",
    "        print 'Study hard'\n",
    "        \n",
    "p1 = Person()\n",
    "s1 = Student()\n",
    "\n",
    "p1.work()\n",
    "s1.work()"
   ]
  },
  {
   "cell_type": "code",
   "execution_count": 141,
   "metadata": {
    "collapsed": false
   },
   "outputs": [
    {
     "name": "stdout",
     "output_type": "stream",
     "text": [
      "work hard\n",
      "Study hard\n",
      "Go to school\n"
     ]
    }
   ],
   "source": [
    "class Person(object):\n",
    "    def work(self):\n",
    "        print 'work hard'\n",
    "\n",
    "class Student(Person):\n",
    "    def work(self):\n",
    "        print 'Study hard'\n",
    "        \n",
    "    def go_to_school(self): #person class에서는 go_to_school 호출 못해. override가 아니라 신규 추가.\n",
    "        print 'Go to school'\n",
    "        \n",
    "\n",
    "p1 = Person()\n",
    "s1 = Student()\n",
    "\n",
    "p1.work()\n",
    "#p1.go_to_school()\n",
    "\n",
    "s1.work()\n",
    "s1.go_to_school()"
   ]
  },
  {
   "cell_type": "markdown",
   "metadata": {},
   "source": [
    "* super \n",
    " - 하위클래스(자식 클래스)에서 부모클래스의 method를 호출할 때 사용\n",
    " - super는 부모를 가리킴"
   ]
  },
  {
   "cell_type": "code",
   "execution_count": 43,
   "metadata": {
    "collapsed": false
   },
   "outputs": [
    {
     "name": "stdout",
     "output_type": "stream",
     "text": [
      "aaron\n",
      "aaron\n"
     ]
    }
   ],
   "source": [
    "class Person(object):\n",
    "    def __init__(self, name):\n",
    "        self.name = name\n",
    "        print self.name\n",
    "\n",
    "class Student(Person):\n",
    "    pass\n",
    "\n",
    "p1 = Person('aaron')\n",
    "s1 = Student('aaron')"
   ]
  },
  {
   "cell_type": "markdown",
   "metadata": {},
   "source": [
    "# super(classname, self).__init__() 이거 잘 모르겠다..."
   ]
  },
  {
   "cell_type": "code",
   "execution_count": 82,
   "metadata": {
    "collapsed": false
   },
   "outputs": [
    {
     "name": "stdout",
     "output_type": "stream",
     "text": [
      "Dr.aaron\n",
      "True\n"
     ]
    }
   ],
   "source": [
    "class Person(object):\n",
    "    \n",
    "    def __init__(self, name):\n",
    "        self.name = 'Dr.' + name\n",
    "        print self.name\n",
    "\n",
    "class Student(Person): #자식클래스에서도 init을 하면, \n",
    "    \n",
    "    def __init__(self, name, email):\n",
    "        super(Student, self).__init__(name) # 이 문법이 의미하는 바가?\n",
    "        self.email = email\n",
    "        \n",
    "        \n",
    "\n",
    "class Student(Person):\n",
    "    \n",
    "    def __init__(self, name, email):\n",
    "        self.name = name # 부모클래스에서 변경이 일어날 수 도 있다.\n",
    "        self.email = email\n",
    "\n",
    "p1 = Person('aaron')\n",
    "s1 = Student('aaron', 'macmath22@gmail.com')\n",
    "\n",
    "print isinstance(s1, Person)       \n",
    "\n",
    "#print s1.name, s1.email\n",
    "#print p1.name, #p1.email"
   ]
  },
  {
   "cell_type": "markdown",
   "metadata": {},
   "source": [
    "* self\n",
    " - 파이썬의 method는 항상 첫번째 인자로 self를 전달\n",
    " - self는 현재 해당 메쏘드가 호출되는 객체 자신을 가리킴\n",
    " - C++/C#, Java의 this에 해당\n",
    " - 역시, 이름이 self일 필요는 없으나, 위치는 항상 맨 처음의 parameter이며 관례적으로 self로 사용"
   ]
  },
  {
   "cell_type": "code",
   "execution_count": 142,
   "metadata": {
    "collapsed": false
   },
   "outputs": [
    {
     "name": "stdout",
     "output_type": "stream",
     "text": [
      "bob\n",
      "\n",
      "<__main__.Person object at 0x034D6EF0>\n",
      "\n",
      "<__main__.Person object at 0x034D6EF0>\n",
      "bob is sleeping for  12 hour(s)\n"
     ]
    }
   ],
   "source": [
    "class Person(object):\n",
    "    def __init__(self, name):\n",
    "        self.name = name\n",
    "        print self.name\n",
    "    \n",
    "    def sleep(self, hour):\n",
    "        print self\n",
    "        print self.name, 'is sleeping for ', hour, 'hour(s)'\n",
    "        \n",
    "p1 = Person('bob')\n",
    "print\n",
    "print p1\n",
    "print\n",
    "p1.sleep(12)"
   ]
  },
  {
   "cell_type": "markdown",
   "metadata": {},
   "source": [
    "# 여기 잘 모르겠다. 이제 이해했어! \n",
    "\n",
    "* method type\n",
    " - instance method - 객체로 호출. 객체 단위로 변경되는 변수는 인스턴스 변수로 선언하여 사용.\n",
    " - class method    - class로 호출. 값이 변경되지 않아야하거나 여러 객체 사이에서 값이 공유되어야 하는 경우 클래스 변수 사용.\n",
    " - 변수 선선 위치에 따라 값을 변경할 수 있는 유효범위가 다르기 때문에 신중하게 코드 작성."
   ]
  },
  {
   "cell_type": "code",
   "execution_count": 16,
   "metadata": {
    "collapsed": false
   },
   "outputs": [
    {
     "name": "stdout",
     "output_type": "stream",
     "text": [
      "1\n",
      "2\n",
      "44\n",
      "3\n"
     ]
    }
   ],
   "source": [
    "class A(object):\n",
    "    \n",
    "    count = 0 # static member (class variable). class레벨로 공유한다.\n",
    "    \n",
    "    def __init__(self, cnt):\n",
    "        A.count += 1\n",
    "\n",
    "        self.cnt = cnt # member variable, attribute\n",
    "        \n",
    "    def print_cnt(self): # memeber function, method\n",
    "        print self.cnt\n",
    "        \n",
    "    @classmethod # class method, static function\n",
    "    def print_count(cls):\n",
    "        print cls.count\n",
    "        \n",
    "a1 = A(1) #count = 1, a1.cnt = 1\n",
    "a2 = A(2) #count = 2 a2.cnt 2\n",
    "a3 = A(44) #count = 3 ,a3.cnt = 44\n",
    "\n",
    "a1.print_cnt() # 1\n",
    "a2.print_cnt() # 2\n",
    "a3.print_cnt() # 44\n",
    "\n",
    "A.print_count() # 3"
   ]
  },
  {
   "cell_type": "markdown",
   "metadata": {},
   "source": [
    "* Duck typing\n",
    " - 다형성에 대한 느슨한 구현.\n",
    " - 클래스에 관계없이 같은 동작(동일한 함수)을 다른객체에 적용\n",
    " - 타입에 관계없이 같은 method를 구현한 것으로 다형성에 활용\n",
    " - 여러 가지 형에 대해 동작하는 함수들을 다형적(polymorphic)이라고 함. 다형성(polymorphism)은 코드 재사용을 촉진"
   ]
  },
  {
   "cell_type": "code",
   "execution_count": 85,
   "metadata": {
    "collapsed": false,
    "scrolled": true
   },
   "outputs": [
    {
     "name": "stdout",
     "output_type": "stream",
     "text": [
      "aaron plays baseball\n",
      "sam plays basketball\n",
      "bob plays baseball\n",
      "knight plays basketball\n",
      "mike plays baseball\n",
      "tim plays basketball\n"
     ]
    }
   ],
   "source": [
    "class BaseballPlayer(object):\n",
    "    def __init__(self, name):\n",
    "        self.name = name\n",
    "        \n",
    "    def play(self):\n",
    "        print self.name, 'plays baseball'\n",
    "        \n",
    "class BasketballPlayer(object):\n",
    "    def __init__(self, name):\n",
    "        self.name = name\n",
    "        \n",
    "    def play(self):\n",
    "        print self.name, 'plays basketball'\n",
    "        \n",
    "        \n",
    "bs1 = BaseballPlayer('aaron')\n",
    "bs2 = BaseballPlayer('bob')\n",
    "bs3 = BaseballPlayer('mike')\n",
    "\n",
    "bk1 = BasketballPlayer('sam')\n",
    "bk2 = BasketballPlayer('knight')\n",
    "bk3 = BasketballPlayer('tim')\n",
    "\n",
    "players = [bs1, bk1, bs2, bk2, bs3, bk3]\n",
    "\n",
    "for player in players:\n",
    "    player.play() #play이 있으니까 넌 player야."
   ]
  },
  {
   "cell_type": "code",
   "execution_count": 143,
   "metadata": {
    "collapsed": false
   },
   "outputs": [
    {
     "name": "stdout",
     "output_type": "stream",
     "text": [
      "james takes bus to go home.\n",
      "karen takes bus to go home.\n",
      "kevin takes bus to go home.\n",
      "alex takes subway to go home\n",
      "aaron takes subway to go home\n",
      "elvis takes subway to go home\n"
     ]
    }
   ],
   "source": [
    "class Bus(object):\n",
    "    \n",
    "    def __init__(self, name):\n",
    "        self.name = name\n",
    "        \n",
    "    def take(self):\n",
    "        print self.name, \"takes bus to go home.\"\n",
    "        \n",
    "class Subway(object):\n",
    "    \n",
    "    def __init__(self, name):\n",
    "        self.name = name\n",
    "        \n",
    "    def take(self):\n",
    "        print self.name, \"takes subway to go home\"\n",
    "        \n",
    "b1 = Bus(\"james\")\n",
    "b2 = Bus(\"karen\")\n",
    "b3 = Bus(\"kevin\")\n",
    "s1 = Subway(\"alex\")\n",
    "s2 = Subway(\"aaron\")\n",
    "s3 = Subway(\"elvis\")\n",
    "users = [b1,b2,b3,s1,s2,s3]\n",
    "\n",
    "for user in users:\n",
    "    user.take()"
   ]
  },
  {
   "cell_type": "markdown",
   "metadata": {},
   "source": [
    "* special method\n",
    " - __로 시작\n",
    " - +, -, * 등의 연산자와 함께 사용 가능\n",
    " - https://docs.python.org/2/reference/datamodel.html"
   ]
  },
  {
   "cell_type": "code",
   "execution_count": 3,
   "metadata": {
    "collapsed": false
   },
   "outputs": [
    {
     "name": "stdout",
     "output_type": "stream",
     "text": [
      "False\n",
      "\n",
      "True\n",
      "True\n",
      "\n",
      "False\n",
      "False\n",
      "5\n",
      "aaron Aaron <class '__main__.Word'>\n",
      "aaron Aaron\n",
      "aaron Aaron\n",
      "1aaron Aaron\n"
     ]
    }
   ],
   "source": [
    "class Word(object):\n",
    "    \n",
    "    def __init__(self, text):\n",
    "        self.text = text\n",
    "    \n",
    "    def compare(self, word2):\n",
    "        return self.text == word2.text\n",
    "    \n",
    "    def __eq__(self, word2):\n",
    "        return self.text.lower() == word2.text.lower()\n",
    "    \n",
    "    def __len__(self):\n",
    "        return len(self.text)\n",
    "    \n",
    "    #def length(self):\n",
    "        #return len(self.text)   물론 이렇게 써도 기능됨. 하지만 기왕 쓰는거 파이선에 있는대로 쓰자 이거지.'\n",
    "        \n",
    "    def append(self, word2):\n",
    "        return Word(self.text + ' ' + word2.text)\n",
    "    \n",
    "    def __add__(self, word2):\n",
    "        return Word(self.text + ' ' + word2.text)\n",
    "    \n",
    "\n",
    "    def __str__(self):#str로 변환해서 출력하고 싶을 때\n",
    "        return self.text\n",
    "    \n",
    "    def __repr__(self):\n",
    "        return '1' + self.text\n",
    "    \n",
    "    \n",
    "w1 = Word('aaron') #객체 생성\n",
    "w2 = Word('Aaron')\n",
    "w3 = Word('Bob')\n",
    "\n",
    "print(w1.compare(w2))\n",
    "print\n",
    "print w1 == w2\n",
    "print w1.__eq__(w2)\n",
    "print\n",
    "print w1 == w3 # w1.__eq__(w2), 즉  ==는 __eq__과 동일한 기능함. 파이썬이 == 이란 코드를 만나면 __eq__가 구현되어 있는지 봄. \n",
    "print w1.__eq__(w3)\n",
    "\n",
    "# print len(w1) 이렇게 하면 죽어. len은 list처럼 순회가능한 형에서 적용가능... 메소드에 __len__(self)를 만들어보면\n",
    "print(len(w1))\n",
    "\n",
    "w4 = w1.append(w2)\n",
    "print w4, type(w4)\n",
    "print w4.text\n",
    "w5 = w1 + w2\n",
    "print w5.text\n",
    "\n",
    "\n",
    "print w5.__repr__()"
   ]
  },
  {
   "cell_type": "code",
   "execution_count": 147,
   "metadata": {
    "collapsed": false
   },
   "outputs": [
    {
     "name": "stdout",
     "output_type": "stream",
     "text": [
      "True\n",
      "aaronAaron\n",
      "30\n"
     ]
    }
   ],
   "source": [
    "class Word(object):\n",
    "    def __init__(self, text):\n",
    "        self.text = text\n",
    "        \n",
    "    def __eq__(self, word2):\n",
    "        return self.text.lower() == word2.text.lower()\n",
    "    \n",
    "    def __add__(self, word2):\n",
    "        return Word(self.text + word2.text)\n",
    "    \n",
    "    def __repr__(self):\n",
    "        return 'Word(\"' + self.text + '\")'\n",
    "    \n",
    "    def __str__(self): #이게 구현 안 되어있으면 메모리랑 타입만 출력됨.\n",
    "        return self.text\n",
    "    \n",
    "    def __len__(self):\n",
    "        return len(self.text) * 3\n",
    "\n",
    "    \n",
    "w1 = Word('aaron')\n",
    "w2 = Word('Aaron')\n",
    "w3 = Word('Bob')\n",
    "\n",
    "print w1 == w2\n",
    "\n",
    "w3 = w1 + w2 # w1.__add__(w2)\n",
    "\n",
    "print w3\n",
    "\n",
    "w3\n",
    "print(len(w3))"
   ]
  },
  {
   "cell_type": "code",
   "execution_count": null,
   "metadata": {
    "collapsed": true
   },
   "outputs": [],
   "source": []
  },
  {
   "cell_type": "markdown",
   "metadata": {},
   "source": [
    "# 아직 이해 안됐음\n",
    "* 연습문제 \n",
    "  - Word 클래스를 생성하여 Word를 원소로 갖는 리스트를 생성하세요.\n",
    "   1. 문자의 길이를 기준으로 정렬해보세요. ( __len__(self)를 정의하면 len(w1)을 사용 할 수 있습니다. )\n",
    "   2. 두번째 문자를 기준으로 정렬해보세요. ( __getitem__(self, key)를 정의하면 w1[]을 사용 할 수 있습니다. )"
   ]
  },
  {
   "cell_type": "code",
   "execution_count": 15,
   "metadata": {
    "collapsed": false
   },
   "outputs": [
    {
     "name": "stdout",
     "output_type": "stream",
     "text": [
      "[Word('aaron'), Word('Akronhaha'), Word('Bob'), Word('hb')]\n",
      "[Word('hb'), Word('Bob'), Word('aaron'), Word('Akronhaha')]\n",
      "[Word('aaron'), Word('hb'), Word('Akronhaha'), Word('Bob')]\n"
     ]
    }
   ],
   "source": [
    "class Word(object):\n",
    "    def __init__(self, text):\n",
    "        self.text = text\n",
    "        \n",
    "    def __eq__(self):\n",
    "        return self.text.lower() == word2.text.lower()\n",
    "    \n",
    "    def __add__(self):\n",
    "        return Word(self.text + word2.text)\n",
    "    \n",
    "    def __repr__(self):\n",
    "        return \"Word('\" + self.text + \"')\"\n",
    "    \n",
    "    def __len__(self):\n",
    "        return len(self.text)\n",
    "    \n",
    "    def __getitem__(self, key):\n",
    "        return self.text[key]\n",
    "    \n",
    "w1 = Word('aaron')\n",
    "w2 = Word('Akronhaha')\n",
    "w3 = Word('Bob')\n",
    "w4 = Word('hb')\n",
    "\n",
    "words = [w1, w2, w3, w4]\n",
    "print words\n",
    "print sorted(words, key = lambda x : len(x)) #이게 어떻게 이렇게 되지??? \n",
    "print sorted(words, key = lambda x : x[1]) #x를 뭐로 인식? 입력한 단어로????"
   ]
  },
  {
   "cell_type": "code",
   "execution_count": 32,
   "metadata": {
    "collapsed": true
   },
   "outputs": [],
   "source": [
    "class Word(object):\n",
    "    def __init__(self, text):\n",
    "        self.text = text\n",
    "        \n",
    "    def __eq__(self, word2):\n",
    "        return self.text.lower() == word2.text.lower()\n",
    "    \n",
    "    def __add__(self, word2):\n",
    "        return Word(self.text + word2.text)\n",
    "    \n",
    "    def __repr__(self):\n",
    "        return 'Word(\"' + self.text + '\")'\n",
    "    \n",
    "    def __str__(self): #이게 구현 안 되어있으면 메모리랑 타입만 출력됨.\n",
    "        return self.text\n",
    "    \n",
    "    def __len__(self):\n",
    "        return len(self.text)\n",
    "\n",
    "    def __getitem__(self, key):\n",
    "        return self.text[key]"
   ]
  },
  {
   "cell_type": "code",
   "execution_count": 34,
   "metadata": {
    "collapsed": false
   },
   "outputs": [
    {
     "name": "stdout",
     "output_type": "stream",
     "text": [
      "[Word(\"aaron\"), Word(\"Akronhaha\"), Word(\"Bob\"), Word(\"hb\")]\n",
      "[Word(\"hb\"), Word(\"Bob\"), Word(\"aaron\"), Word(\"Akronhaha\")]\n",
      "[Word(\"aaron\"), Word(\"hb\"), Word(\"Akronhaha\"), Word(\"Bob\")]\n"
     ]
    }
   ],
   "source": [
    "w1 = Word('aaron')\n",
    "w2 = Word('Akronhaha')\n",
    "w3 = Word('Bob')\n",
    "w4 = Word('hb')\n",
    "\n",
    "words = [w1, w2, w3, w4]\n",
    "print words\n",
    "\n",
    "print sorted(words, key = lambda x : len(x))\n",
    "print sorted(words, key = lambda x : x[1])"
   ]
  },
  {
   "cell_type": "markdown",
   "metadata": {
    "collapsed": true
   },
   "source": [
    "# 상속과 포함.\n",
    "\n",
    "의미적으로 is a 면 상속, has a 면 포함"
   ]
  },
  {
   "cell_type": "markdown",
   "metadata": {},
   "source": [
    "* composition\n",
    " - 다른 클래스의 기능을 그대로 이용하고 싶으나, 상속을 피하고 싶을 때 사용\n",
    " - 컴포지션, 또는 어그리게이션(aggregation)이라고 한다.\n",
    " - 주로 의미적으로 is-a 관계가 맞지 않을 때 사용한다"
   ]
  },
  {
   "cell_type": "code",
   "execution_count": 122,
   "metadata": {
    "collapsed": false
   },
   "outputs": [
    {
     "name": "stdout",
     "output_type": "stream",
     "text": [
      "aaron has a bill and it is very good and a tail length of 8\n"
     ]
    }
   ],
   "source": [
    "class Bill(object):\n",
    "    def __init__(self, desc):\n",
    "        self.desc = desc\n",
    "        \n",
    "class Tail(object):\n",
    "    def __init__(self, length):\n",
    "        self.length = length\n",
    "        \n",
    "class Duck(object):\n",
    "    def __init__(self, bill, tail, name):\n",
    "        self.bill = bill\n",
    "        self.tail = tail\n",
    "        self.name = name\n",
    "        \n",
    "    def about(self):\n",
    "        print self.name, 'has a bill and it is', self.bill.desc, 'and a tail length of', self.tail.length\n",
    "        \n",
    "tail = Tail(8)\n",
    "bill = Bill('very good')\n",
    "\n",
    "duck = Duck(bill, tail, 'aaron')\n",
    "duck.about()"
   ]
  },
  {
   "cell_type": "code",
   "execution_count": null,
   "metadata": {
    "collapsed": true
   },
   "outputs": [],
   "source": []
  },
  {
   "cell_type": "markdown",
   "metadata": {},
   "source": [
    "* 파이썬의 경우, 복소수를 지원하지만, 직접 만들어 봅시다."
   ]
  },
  {
   "cell_type": "code",
   "execution_count": 35,
   "metadata": {
    "collapsed": false
   },
   "outputs": [
    {
     "data": {
      "text/plain": [
       "(3+9j)"
      ]
     },
     "execution_count": 35,
     "metadata": {},
     "output_type": "execute_result"
    }
   ],
   "source": [
    "1 + 4j + 2 + 5j\n",
    "\n",
    "#실수 부분은 실수 부분끼리, 허수 부분은 허수 부분끼리 연산함."
   ]
  },
  {
   "cell_type": "markdown",
   "metadata": {},
   "source": [
    "* 연습문제)\n",
    " - 복소수 클래스를 정의 해봅시다.\n",
    " - 덧셈, 뺄셈, 곱셈 연산자 지원\n",
    " - 길이 (복소수의 크기) 지원 \n",
    " - 복소수 출력 '1 + 4j'와 같이 표현\n",
    " - 비교 연산 ==, != 지원\n",
    " - >=, <= , <, > 연산 지원\n"
   ]
  },
  {
   "cell_type": "code",
   "execution_count": 54,
   "metadata": {
    "collapsed": false
   },
   "outputs": [
    {
     "name": "stdout",
     "output_type": "stream",
     "text": [
      "1 + 2j\n",
      "2 + -3j\n",
      "3 + -1j\n",
      "-1 + 5j\n",
      "8 + 1j\n"
     ]
    },
    {
     "ename": "NameError",
     "evalue": "name 'size' is not defined",
     "output_type": "error",
     "traceback": [
      "\u001b[0;31m---------------------------------------------------------------------------\u001b[0m",
      "\u001b[0;31mNameError\u001b[0m                                 Traceback (most recent call last)",
      "\u001b[0;32m<ipython-input-54-e270f976159c>\u001b[0m in \u001b[0;36m<module>\u001b[0;34m()\u001b[0m\n\u001b[1;32m     38\u001b[0m \u001b[1;32mprint\u001b[0m\u001b[1;33m(\u001b[0m\u001b[0mc1\u001b[0m\u001b[1;33m-\u001b[0m\u001b[0mc2\u001b[0m\u001b[1;33m)\u001b[0m\u001b[1;33m\u001b[0m\u001b[0m\n\u001b[1;32m     39\u001b[0m \u001b[1;32mprint\u001b[0m\u001b[1;33m(\u001b[0m\u001b[0mc1\u001b[0m\u001b[1;33m*\u001b[0m\u001b[0mc2\u001b[0m\u001b[1;33m)\u001b[0m\u001b[1;33m\u001b[0m\u001b[0m\n\u001b[0;32m---> 40\u001b[0;31m \u001b[1;32mprint\u001b[0m\u001b[1;33m(\u001b[0m\u001b[0msize\u001b[0m\u001b[1;33m(\u001b[0m\u001b[0mc1\u001b[0m\u001b[1;33m)\u001b[0m\u001b[1;33m)\u001b[0m\u001b[1;33m\u001b[0m\u001b[0m\n\u001b[0m",
      "\u001b[0;31mNameError\u001b[0m: name 'size' is not defined"
     ]
    }
   ],
   "source": [
    "import math\n",
    "class ComplexNumber(object):\n",
    "    \n",
    "    def __init__(self, num, img):\n",
    "        self.num = num\n",
    "        self.img = img\n",
    "        \n",
    "    def __add__(self, cn):\n",
    "        return ComplexNumber(self.num + cn.num, self.img + cn.img)\n",
    "\n",
    "    def __sub__(self, cn):\n",
    "        return ComplexNumber(self.num - cn.num, self.img - cn.img)\n",
    "    \n",
    "    def __mul__(self, cn):\n",
    "        return ComplexNumber(self.num * cn.num - self.img * cn.img, self.num * cn.img + self.img * cn.num)\n",
    "    \n",
    "    def __size__(self):\n",
    "        return math.sqrt(self.num**2 + self.img**2)\n",
    "        \n",
    "    def __repr__(self):\n",
    "        return \"{} + {}j\".format(self.num, self.img)\n",
    "    \n",
    "    def __str__(self):\n",
    "        return \"{} + {}j\".format(self.num, self.img)\n",
    "    \n",
    "    def __eq__(self, cn):\n",
    "        return self.num == cn.num and self.img == self.img\n",
    "    \n",
    "    def __ne__(self, cn):\n",
    "        return not (self.num == cn.num and self.img == self.img)\n",
    "    \n",
    "c1 = ComplexNumber(1, 2)\n",
    "c2 = ComplexNumber(2, -3)\n",
    "\n",
    "print(c1)\n",
    "print(c2)\n",
    "print(c1+c2)\n",
    "print(c1-c2)\n",
    "print(c1*c2)\n",
    "print(size(c1))"
   ]
  },
  {
   "cell_type": "code",
   "execution_count": null,
   "metadata": {
    "collapsed": true
   },
   "outputs": [],
   "source": []
  },
  {
   "cell_type": "code",
   "execution_count": null,
   "metadata": {
    "collapsed": true
   },
   "outputs": [],
   "source": []
  },
  {
   "cell_type": "code",
   "execution_count": 16,
   "metadata": {
    "collapsed": false
   },
   "outputs": [
    {
     "name": "stdout",
     "output_type": "stream",
     "text": [
      "3 + 4j\n",
      "True\n",
      "False\n",
      "True\n",
      "5 + 9j\n",
      "1 + -1j\n",
      "-14 + 23j\n",
      "5.0\n"
     ]
    }
   ],
   "source": [
    "import math\n",
    "\n",
    "class ComplexNumber(object):\n",
    "    def __init__(self, num, img):\n",
    "        self.num = num\n",
    "        self.img = img\n",
    "        \n",
    "    def __repr__(self):\n",
    "        return '{} + {}j'.format(self.num, self.img)\n",
    "        \n",
    "    def __str__(self):\n",
    "        return '{} + {}j'.format(self.num, self.img)\n",
    "    \n",
    "    def __eq__(self, cn):\n",
    "        return self.num == cn.num and self.img == cn.img\n",
    "    \n",
    "    def __ne__(self, cn):\n",
    "        return not (self.num == cn.num and self.img == cn.img)\n",
    "    \n",
    "    def __add__(self, cn):\n",
    "        return ComplexNumber(self.num + cn.num, self.img + cn.img)\n",
    "    \n",
    "    def __sub__(self, cn):\n",
    "        return ComplexNumber(self.num - cn.num, self.img - cn.img)\n",
    "    \n",
    "    def __mul__(self, cn):\n",
    "        mul_num = self.num * cn.num - self.img * cn.img\n",
    "        mul_img = self.img * cn.num + self.num * cn.img\n",
    "        \n",
    "        return ComplexNumber(mul_num, mul_img)\n",
    "    \n",
    "    def __abs__(self):\n",
    "        return math.sqrt(self.num ** 2 + self.img ** 2)\n",
    "        \n",
    "        \n",
    "c1 = ComplexNumber(3, 4)\n",
    "c2 = ComplexNumber(2, 5)\n",
    "c3 = ComplexNumber(2, 5)\n",
    "\n",
    "print c1\n",
    "print c2 == c3\n",
    "print c1 == c3\n",
    "print c1 != c3\n",
    "\n",
    "print c1 + c2\n",
    "print c1 - c2\n",
    "print c1 * c2\n",
    "\n",
    "print abs(c1)"
   ]
  },
  {
   "cell_type": "markdown",
   "metadata": {},
   "source": [
    "* class 설계\n",
    " - Single Resposibility Principle\n",
    " - 기능명세 작성\n",
    " - 기능을 담당할 클래스 추출\n",
    " - 멤버함수 정의\n",
    " \n",
    " \n",
    "* 연습문제\n",
    "* news를 crawling하여 해당 뉴스가 스포츠인지, 시사인지 경제인지 분류하는 소프트웨어 설계\n",
    " - 어떤 역할이 필요할까요?\n",
    " - 해당 역할을 클래스로 나누어 보세요\n",
    " - 클래스가 그려지면 각 클래스의 멤버함수는 어떻게 구성할 수 있을까요?"
   ]
  },
  {
   "cell_type": "code",
   "execution_count": null,
   "metadata": {
    "collapsed": true
   },
   "outputs": [],
   "source": []
  },
  {
   "cell_type": "markdown",
   "metadata": {},
   "source": [
    "* 연습문제)\n",
    "  - OrderedList 클래스를 만드세요\n",
    "  - 숫자 리스트를 속성으로 갖습니다.\n",
    "  - append(self, num), show(self), find(self, num) 멤버 함수를 갖습니다.\n",
    "  - show는 전체 리스트 출력\n",
    "  - append(num)은 새로운 숫자를 리스트에 추가하는데, 정렬된 상태로 추가합니다. 예를들어 [1, 3, 4, 7, 9]에 5를 추가하면 [1, 3, 4, 5, 7, 9] 가 됩니다.\n",
    "  - find(num)은 해당 숫자가 있는지 검색합니다."
   ]
  },
  {
   "cell_type": "code",
   "execution_count": null,
   "metadata": {
    "collapsed": true
   },
   "outputs": [],
   "source": []
  }
 ],
 "metadata": {
  "kernelspec": {
   "display_name": "Python 2",
   "language": "python",
   "name": "python2"
  },
  "language_info": {
   "codemirror_mode": {
    "name": "ipython",
    "version": 2
   },
   "file_extension": ".py",
   "mimetype": "text/x-python",
   "name": "python",
   "nbconvert_exporter": "python",
   "pygments_lexer": "ipython2",
   "version": "2.7.13"
  }
 },
 "nbformat": 4,
 "nbformat_minor": 1
}
