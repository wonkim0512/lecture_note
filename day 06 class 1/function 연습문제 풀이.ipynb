{
 "cells": [
  {
   "cell_type": "markdown",
   "metadata": {},
   "source": [
    "* 과제 \n",
    " 1. reduce를 직접 구현하세요 reduce2(func, iterable)\n",
    " 2. 이진탐색을 재귀함수로 구현해보세요."
   ]
  },
  {
   "cell_type": "code",
   "execution_count": 3,
   "metadata": {
    "collapsed": false
   },
   "outputs": [
    {
     "name": "stdout",
     "output_type": "stream",
     "text": [
      "27\n",
      "27\n",
      "9\n",
      "9\n"
     ]
    }
   ],
   "source": [
    "nums = [1, 3, 2, 9, 5, 7]\n",
    "def reduce2(func, iterable):\n",
    "    accumulated_val = iterable[0]\n",
    "    for i in range(1, len(iterable)):\n",
    "        accumulated_val = func(accumulated_val, iterable[i])\n",
    "        \n",
    "    return accumulated_val\n",
    "\n",
    "#lambda item : item % 2 == 0\n",
    "\n",
    "print reduce(lambda x, y: x + y, nums)\n",
    "print reduce2(lambda x, y: x + y, nums)\n",
    "\n",
    "#[i ** 2 if i % 2 == 0 else i + 2 for i in nums ]\n",
    "\n",
    "print reduce(lambda x, y: x if x > y else y, nums)\n",
    "print reduce2(lambda x, y: x if x > y else y, nums)"
   ]
  },
  {
   "cell_type": "code",
   "execution_count": 7,
   "metadata": {
    "collapsed": false
   },
   "outputs": [
    {
     "name": "stdout",
     "output_type": "stream",
     "text": [
      "0\n",
      "1\n",
      "-1\n",
      "-1\n",
      "-1\n",
      "5\n",
      "6\n",
      "8\n",
      "-1\n",
      "12\n",
      "-1\n",
      "13\n",
      "14\n"
     ]
    }
   ],
   "source": [
    "nums = [1, 2, 3, 7, 11, 18, 22, 23, 24, 56, 78, 89, 91, 99, 100]\n",
    "\n",
    "def recursive_binary_search(arr, num, start, end):\n",
    "    if start <= end:\n",
    "        mid = (start + end) / 2\n",
    "        if arr[mid] == num:\n",
    "            return mid\n",
    "        elif arr[mid] > num:\n",
    "            return recursive_binary_search(arr, num, start, mid - 1)\n",
    "        else:\n",
    "            return recursive_binary_search(arr, num, mid + 1, end) \n",
    "    return -1\n",
    "\n",
    "start = 0\n",
    "end = len(nums) - 1\n",
    "\n",
    "print recursive_binary_search(nums, 1, start, end)\n",
    "print recursive_binary_search(nums, 2, start, end)\n",
    "print recursive_binary_search(nums, 4, start, end)\n",
    "print recursive_binary_search(nums, 5, start, end)\n",
    "print recursive_binary_search(nums, 6, start, end)\n",
    "print recursive_binary_search(nums, 18, start, end)\n",
    "print recursive_binary_search(nums, 22, start, end)\n",
    "print recursive_binary_search(nums, 24, start, end)\n",
    "print recursive_binary_search(nums, 50, start, end)\n",
    "print recursive_binary_search(nums, 91, start, end)\n",
    "print recursive_binary_search(nums, 92, start, end)\n",
    "print recursive_binary_search(nums, 99, start, end)\n",
    "print recursive_binary_search(nums, 100, start, end)"
   ]
  },
  {
   "cell_type": "code",
   "execution_count": null,
   "metadata": {
    "collapsed": true
   },
   "outputs": [],
   "source": []
  }
 ],
 "metadata": {
  "kernelspec": {
   "display_name": "Python 2",
   "language": "python",
   "name": "python2"
  },
  "language_info": {
   "codemirror_mode": {
    "name": "ipython",
    "version": 2
   },
   "file_extension": ".py",
   "mimetype": "text/x-python",
   "name": "python",
   "nbconvert_exporter": "python",
   "pygments_lexer": "ipython2",
   "version": "2.7.13"
  }
 },
 "nbformat": 4,
 "nbformat_minor": 2
}
