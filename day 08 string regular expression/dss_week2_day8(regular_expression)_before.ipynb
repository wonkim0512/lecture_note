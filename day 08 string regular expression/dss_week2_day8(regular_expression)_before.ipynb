{
 "cells": [
  {
   "cell_type": "markdown",
   "metadata": {
    "collapsed": true
   },
   "source": [
    " # 정규표현식, virtualenv"
   ]
  },
  {
   "cell_type": "markdown",
   "metadata": {},
   "source": [
    "## 학습목표\n",
    " + 정규표현식(re) 에 대한 이해 및 숙지\n",
    " + virtualenv 이해 및 숙지"
   ]
  },
  {
   "cell_type": "markdown",
   "metadata": {},
   "source": [
    "* class 연습문제 tf-idf 구해보세요.\n",
    " - data_set/tf_idfx.txt를 읽어들여 각 단어들의 tf-idf 를 구하시오\n",
    " - term frequency : 각 문서에서 해당 단어가 나오는 빈도\n",
    " - document frequency : 해당 단어가 얼마나 많은 문서에서 나타나는가 하는 빈도\n",
    " - inverse document frequency : 1/df\n",
    " - tips import os os.walk 사용하기"
   ]
  },
  {
   "cell_type": "code",
   "execution_count": null,
   "metadata": {
    "collapsed": true
   },
   "outputs": [],
   "source": []
  },
  {
   "cell_type": "code",
   "execution_count": 4,
   "metadata": {
    "collapsed": false
   },
   "outputs": [],
   "source": [
    "# 해당 폴더의 모든 파일을 순환하며 읽어들이는 예제\n",
    "import os\n",
    "for root, dirs, files in os.walk('./data_set'): # ./ : 현재위치\n",
    "    for f in files:\n",
    "        print f\n",
    "        with open(os.path.join('./data_set', f), 'r') as fin:\n",
    "            data = fin.read()\n",
    "            print data"
   ]
  },
  {
   "cell_type": "code",
   "execution_count": null,
   "metadata": {
    "collapsed": true
   },
   "outputs": [],
   "source": []
  },
  {
   "cell_type": "markdown",
   "metadata": {},
   "source": [
    "* 정규표현식 \n",
    " - regular expression\n",
    " - 특정한 조건의 문자열를 '검색', '치환', '제거' 하는 도구\n",
    " - e.g) 이메일 형식 판별, 전화번호 형식 판별 등등"
   ]
  },
  {
   "cell_type": "markdown",
   "metadata": {},
   "source": [
    "python re module로 제공 (import re)\n",
    " - search\n",
    " - match\n",
    " - findall\n",
    " - sub (대체)\n",
    " - split\n",
    " - compile"
   ]
  },
  {
   "cell_type": "markdown",
   "metadata": {},
   "source": [
    "* 기본 패턴\n",
    " - a, X, 9 기본 character들은 정확히 해당 문자와 일치\n",
    " - ^ $ * + [] \\ | () 등의 특수문자 제외\n",
    " \n",
    " - . (마침표) - 어떤 한개의 character와 일치. 기호도 다 포함.\n",
    " \n",
    " - \\w - 문자 character와 일치 [a-zA-Z0-9_]  기호는 포함하지 않음\n",
    " - \\s - 공백문자와 일치\n",
    " - \\t, \\n, \\r - tab, newline, return \n",
    " - \\d - 숫자 character와 일치 [0-9]\n",
    " - ^ = 시작, $ = 끝. 각각 문자열의 시작과 끝을 의미\n",
    " - \\가 붙으면 스페셜한 의미가 없어짐. 예를들어 \\.는 .자체를 의미 \\\\는 \\를 의미"
   ]
  },
  {
   "cell_type": "markdown",
   "metadata": {},
   "source": [
    "* 반복패턴\n",
    " - '+' -> 1번 이상의 패턴이 발생\n",
    " - '*' -> 0번 이상의 패턴이 발생. \n",
    " - ? -> 0 혹은 1번의 패턴이 발생. 있거나 없거나"
   ]
  },
  {
   "cell_type": "markdown",
   "metadata": {},
   "source": [
    "* raw string 전체 다 string으로 인식"
   ]
  },
  {
   "cell_type": "code",
   "execution_count": 5,
   "metadata": {
    "collapsed": false
   },
   "outputs": [
    {
     "name": "stdout",
     "output_type": "stream",
     "text": [
      "abcdef\n",
      "\n",
      "abcdef\\n\n"
     ]
    }
   ],
   "source": [
    "a = 'abcdef\\n'\n",
    "print a\n",
    "\n",
    "# raw string:  r\"string\"\n",
    "b = r'abcdef\\n' # raw string r 이 붙었으므로 \\n도 string으로 인식됨.\n",
    "print b"
   ]
  },
  {
   "cell_type": "markdown",
   "metadata": {},
   "source": [
    "* search method\n",
    " - 첫번째로 패턴을 찾으면 멈춤"
   ]
  },
  {
   "cell_type": "code",
   "execution_count": 6,
   "metadata": {
    "collapsed": false
   },
   "outputs": [
    {
     "name": "stdout",
     "output_type": "stream",
     "text": [
      "<_sre.SRE_Match object at 0x034612C0>\n",
      "iii\n",
      "None\n"
     ]
    }
   ],
   "source": [
    "import re\n",
    "\n",
    "match = re.search(r'iii', 'piiig') #(정규표현식, 찾고자하는 문자열)\n",
    "print match\n",
    "print match.group() #Return subgroup(s) of the match by indices or names.\n",
    "\n",
    "match = re.search(r'iiiig', 'piiig')\n",
    "print match"
   ]
  },
  {
   "cell_type": "code",
   "execution_count": 14,
   "metadata": {
    "collapsed": false
   },
   "outputs": [
    {
     "name": "stdout",
     "output_type": "stream",
     "text": [
      "iig\n",
      "123\n",
      "123\n",
      "abc\n",
      "ab0\n",
      "None\n"
     ]
    }
   ],
   "source": [
    "m = re.search(r'..g', 'piiig') # . \n",
    "print m.group()\n",
    "\n",
    "m = re.search(r'\\d\\d\\d', 'p123g')  # \\d :  숫자(digit)\n",
    "print m.group()\n",
    "\n",
    "m = re.search(r'\\d\\d\\d', '오마이갓123이럴수가') \n",
    "print m.group()\n",
    "\n",
    "m = re.search(r'\\w\\w\\w', '@@abcd!!')\n",
    "print m.group()\n",
    "\n",
    "m = re.search(r'\\w\\w\\w', '@@ab0!!')\n",
    "print m.group()\n",
    "\n",
    "m = re.search(r'\\w\\w\\w', '@@ab!!')\n",
    "print m"
   ]
  },
  {
   "cell_type": "code",
   "execution_count": 17,
   "metadata": {
    "collapsed": false
   },
   "outputs": [
    {
     "name": "stdout",
     "output_type": "stream",
     "text": [
      "piiii\n"
     ]
    }
   ],
   "source": [
    "m = re.search(r'pi+', 'piiiipig') # +는 1번 이상. search는 맨 처음 찾은거만 가져온다. 그리고 maximum가져옴\n",
    "print m.group() "
   ]
  },
  {
   "cell_type": "code",
   "execution_count": 15,
   "metadata": {
    "collapsed": false
   },
   "outputs": [
    {
     "name": "stdout",
     "output_type": "stream",
     "text": [
      "ii\n"
     ]
    }
   ],
   "source": [
    "m = re.search(r'i+', 'piigiiii')\n",
    "print m.group() #맨 처음 찾은거 가져오니까."
   ]
  },
  {
   "cell_type": "code",
   "execution_count": 16,
   "metadata": {
    "collapsed": false
   },
   "outputs": [
    {
     "name": "stdout",
     "output_type": "stream",
     "text": [
      "1 2   3\n"
     ]
    }
   ],
   "source": [
    "m = re.search(r'\\d\\s*\\d\\s*\\d', 'xx1 2   3xx') # *는 있거나 없거나 상관없다는 뜻.\n",
    "print m.group()"
   ]
  },
  {
   "cell_type": "code",
   "execution_count": 19,
   "metadata": {
    "collapsed": false
   },
   "outputs": [
    {
     "name": "stdout",
     "output_type": "stream",
     "text": [
      "banana\n",
      "bar\n"
     ]
    }
   ],
   "source": [
    "m = re.search(r'^b\\w+', 'banana') # ^b : 처음 시작하는게 b여야 한다는 것.\n",
    "print m.group()\n",
    "\n",
    "m = re.search(r'b\\w+', 'foobar')\n",
    "print m.group()"
   ]
  },
  {
   "cell_type": "markdown",
   "metadata": {},
   "source": [
    "* email 주소 패턴"
   ]
  },
  {
   "cell_type": "code",
   "execution_count": 18,
   "metadata": {
    "collapsed": false
   },
   "outputs": [
    {
     "name": "stdout",
     "output_type": "stream",
     "text": [
      "macmath22@gmail\n"
     ]
    }
   ],
   "source": [
    "str = 'haha this is awesom macmath22@ macmath22@gmail.com monkey dishwasher'\n",
    "match = re.search(r'\\w+@\\w+', str)\n",
    "if match:\n",
    "    print match.group()"
   ]
  },
  {
   "cell_type": "code",
   "execution_count": null,
   "metadata": {
    "collapsed": true
   },
   "outputs": [],
   "source": [
    "* 표현식 안의 [] \n",
    "  - [abc_]  a or b or c or _  \n",
    "  ex) ab_dk 가 있으면 ab_까지 인식\n",
    "  - []안의 .은 .을 의미한다."
   ]
  },
  {
   "cell_type": "code",
   "execution_count": 20,
   "metadata": {
    "collapsed": false
   },
   "outputs": [
    {
     "name": "stdout",
     "output_type": "stream",
     "text": [
      "macmath22@gmail.com <type 'str'>\n",
      "()\n"
     ]
    }
   ],
   "source": [
    "m = re.search(r'[\\w.-]+@[\\w.-]+',\n",
    "              \"My email is macmath22@gmail.com\")\n",
    "\n",
    "print m.group(), type(m.group())\n",
    "print m.groups()"
   ]
  },
  {
   "cell_type": "markdown",
   "metadata": {},
   "source": [
    " * grouping"
   ]
  },
  {
   "cell_type": "code",
   "execution_count": 31,
   "metadata": {
    "collapsed": false
   },
   "outputs": [
    {
     "name": "stdout",
     "output_type": "stream",
     "text": [
      "macmath22@gmail.com\n",
      "('macmath22', 'gmail.com')\n",
      "macmath22\n",
      "gmail.com\n"
     ]
    }
   ],
   "source": [
    "m = re.search(r'([\\w.-]+)@([\\w.-]+)', #group1, group2\n",
    "              \"My email is macmath22@gmail.com, 21100127@handong.edu\") #search는 처음 만나는 것만 가져온다. 그러니 macmath22@gamil.com만 \n",
    "\n",
    "print m.group()\n",
    "print m.groups()\n",
    "\n",
    "print m.group(1)\n",
    "print m.group(2)"
   ]
  },
  {
   "cell_type": "markdown",
   "metadata": {},
   "source": [
    "* 연습문제) \n",
    " - 기자 이메일 주소 뽑아오기\n",
    " - 전화번호 패턴의 정규표현식을 만들어봅시다."
   ]
  },
  {
   "cell_type": "code",
   "execution_count": 33,
   "metadata": {
    "collapsed": false,
    "scrolled": false
   },
   "outputs": [
    {
     "name": "stdout",
     "output_type": "stream",
     "text": [
      " 비츠 포함시 온라인 블루투스 이어폰 시장 점유율 41.4%에 달해 【서울=뉴시스】최현 기자 = 애플이 아이폰 7시리즈를 내놓으면서 혁신 카드로 내세운 무선이어폰 '에어팟'이 큰 인기를 끌며 블루투스 이어폰 시장을 석권한 것으로 나타났다.12일 온라인쇼핑 시장조사기관 슬라이스 인텔리전스에 따르면 지난해 12월13일 출시된 애플의 에어팟은 미국 온라인 블루투스 이어폰 시장 점유율 26.0%를 기록한 것으로 조사됐다.에어팟이 출시되기 전에 점유율 24.1%로 블루투스 이어폰 시장 1위를 기록하고 있던 고급 음향업체 비츠 일렉트로닉스의 점유율은 15.4%로 떨어지며 3위로 밀려났다.다만 비츠는 애플의 오디오 전문 자회사다. 애플은 지난 2014년 비츠를 30억 달러에 인수한 바 있다. 이에 따라 애플의 온라인 블루투스 이어폰 시장 점유율은 41.4%에 달하게 됐다.오디오 전문업체 보스(Bose)는 2위 자리를 유지했지만 에어팟 출시 전 10.5%에서 16.1%로 점유율이 상승했다. 제이버드는 7.5%에서 2.5%로, 플랜트로닉스는 7.8%에서 2.2%로 각각 떨어졌다.소니는 3.6%에서 4.2%로 올랐지만 삼성전자와 LG전자를 비롯한 나머지 회사들의 시장 점유율은 하락했다. LG는 4.6%에서 1.4%로, 삼성은 1.0%에서 0.5%로 급감했다.애플의 에어팟은 블루투스 이어폰 시장의 성장세를 이끌고 있는 것으로 나타났다. 에어팟 출시 이후 미국 온라인 쇼핑몰에서 판매된 이어폰 및 헤드폰 중 75%는 무선 기기로 집계됐다. 에어팟 구매자 85%는 남성이었고, 이 중에 20~30대의 구매율이 35%에 달했다. forgetmenot@newsis.com\n",
      "\n",
      "email address from this article is forgetmenot@newsis.com\n"
     ]
    }
   ],
   "source": [
    "# pip install requests\n",
    "# pip install bs4 \n",
    "\n",
    "import requests\n",
    "from bs4 import BeautifulSoup\n",
    "\n",
    "def get_news_content(url):\n",
    "    response = requests.get(url)\n",
    "    content = response.text\n",
    "\n",
    "    soup = BeautifulSoup(content)\n",
    "\n",
    "    div = soup.find('div', attrs = {'id' : 'harmonyContainer'})\n",
    "    \n",
    "    content = ''\n",
    "    for paragraph in div.find_all('p'):\n",
    "        content += paragraph.get_text()\n",
    "        \n",
    "    return content.encode('utf-8')\n",
    "        \n",
    "news1 = get_news_content('http://v.media.daum.net/v/20170112152314639')\n",
    "print news1\n",
    "\n",
    "print\n",
    "email = re.search(r'[\\w.-]+@[\\w.-]+', news1)\n",
    "print \"email address from this article is\", email.group()"
   ]
  },
  {
   "cell_type": "code",
   "execution_count": null,
   "metadata": {
    "collapsed": true
   },
   "outputs": [],
   "source": []
  },
  {
   "cell_type": "markdown",
   "metadata": {},
   "source": [
    " {m} - 패턴 반복 회수를 명시할 수 있다. "
   ]
  },
  {
   "cell_type": "code",
   "execution_count": 34,
   "metadata": {
    "collapsed": false
   },
   "outputs": [
    {
     "name": "stdout",
     "output_type": "stream",
     "text": [
      "010-3713-0512\n"
     ]
    }
   ],
   "source": [
    "pattern = r'^0\\d{2}-\\d{4}-\\d{4}' #또는 r'^0\\d+-\\d+-\\d+'\n",
    "phone_number = re.search(pattern, '010-3713-0512')\n",
    "print phone_number.group()"
   ]
  },
  {
   "cell_type": "code",
   "execution_count": null,
   "metadata": {
    "collapsed": true
   },
   "outputs": [],
   "source": []
  },
  {
   "cell_type": "markdown",
   "metadata": {},
   "source": [
    "* match\n",
    " - 주어진 문자열의 첫문자열만을 비교하여 패턴이 있는지 확인"
   ]
  },
  {
   "cell_type": "code",
   "execution_count": 37,
   "metadata": {
    "collapsed": false
   },
   "outputs": [
    {
     "name": "stdout",
     "output_type": "stream",
     "text": [
      "No pattern\n",
      "macmath22@gmail.com\n"
     ]
    }
   ],
   "source": [
    "m = re.match(r'[\\w.-]+@[\\w.-]+',\n",
    "              \"My email is macmath22@gmail.com\") #match함수는 맨 처음 문자열만을 비교하여 패턴이 있는지 확인.즉 My 만 보고 아니라고 판단.\n",
    "\n",
    "if m != None:\n",
    "    print m.group()\n",
    "else:\n",
    "    print 'No pattern'\n",
    "    \n",
    "    \n",
    "m = re.match(r'[\\w.-]+@[\\w.-]+',\n",
    "              \"macmath22@gmail.com is my email\")\n",
    "\n",
    "if m != None:\n",
    "    print m.group()\n",
    "else:\n",
    "    print 'No pattern'"
   ]
  },
  {
   "cell_type": "markdown",
   "metadata": {},
   "source": [
    "* findall\n",
    " - search가 최초로 매칭되는 패턴만 반환한다면, findall은 매칭되는 전체의 패턴을 반환한다.\n",
    " - 리스트 형태로 반환"
   ]
  },
  {
   "cell_type": "code",
   "execution_count": 38,
   "metadata": {
    "collapsed": false
   },
   "outputs": [
    {
     "name": "stdout",
     "output_type": "stream",
     "text": [
      "['macmath22@gmail.com', 'test@test.com', 'mina@minas.net']\n",
      "macmath22@gmail.com\n",
      "test@test.com\n",
      "mina@minas.net\n"
     ]
    }
   ],
   "source": [
    "str = 'What a nice weather macmath22@gmail.com, test@test.com mina@minas.net'\n",
    "emails = re.findall(r'[\\w\\.-]+@[\\w\\.-]+', str) \n",
    "print(emails) #list로 return!\n",
    "for email in emails:\n",
    "    print email"
   ]
  },
  {
   "cell_type": "code",
   "execution_count": 40,
   "metadata": {
    "collapsed": false,
    "scrolled": true
   },
   "outputs": [
    {
     "name": "stdout",
     "output_type": "stream",
     "text": [
      "A���jhwg��,�����D�,�\f",
      "�1;\u0010�P�%�e�K����\u0018}۰6�v���M��i��I��b�p͙�M\u0010\teQ\u001f\u001e",
      "l\u0004���L�Ր���~\u0013�Ъ\u0016���D8ɰж���Q�4$\u00126c�|��J\u0002\u001f�oMR\u0017%��/��s�d�IJ����\b�[��\u0016$Ic�A��/�Y/\u001bU�\"��\u0002/؅�2�o����*/��\u0007y��\u0006[��\u0007��z\u0015��\u0001yY�t�$�]͒?(uͰ6�m\u0002���U\u001e",
      ",[\u0003_ISe���>ukL���V%�4�X�\u000b",
      "���X��\u0016�\u0005Ό�\u0013D����e2\"0�B��\u001c",
      "Ҵ�J>cz_\u0012�M�F;�2���R�FYlX�.��+��g/k���rhd���\u000f\u001c",
      "�v\u0007\u0006�C�o�w<\u0006�X�)�\n",
      "[]\n",
      "[]\n",
      "[]\n",
      "[]\n"
     ]
    }
   ],
   "source": [
    "f = open('./data_set/tf_idf1.txt', 'r') #아래처럼 출력이 되는데 해결할 방법은?\n",
    "\n",
    "content = f.read()\n",
    "print content\n",
    "strings = re.findall(r'[p]ython', content)\n",
    "print strings\n",
    "\n",
    "strings = re.findall(r'[P]ython', content)\n",
    "print strings\n",
    "\n",
    "strings = re.findall(r'[pP]ython', content)\n",
    "print strings\n",
    "\n",
    "strings = re.findall(r'python', content, re.IGNORECASE) #re.IGNORECASE . 철자만 python이면 되\n",
    "print strings\n",
    "\n",
    "f.close()"
   ]
  },
  {
   "cell_type": "code",
   "execution_count": null,
   "metadata": {
    "collapsed": true
   },
   "outputs": [],
   "source": []
  },
  {
   "cell_type": "code",
   "execution_count": 41,
   "metadata": {
    "collapsed": false
   },
   "outputs": [
    {
     "name": "stdout",
     "output_type": "stream",
     "text": [
      "('macmath22', 'gmail.com') macmath22 gmail.com\n",
      "('test', 'test.com') test test.com\n",
      "('mina', 'minas.net') mina minas.net\n"
     ]
    }
   ],
   "source": [
    "str = 'What a nice weather macmath22@gmail.com, test@test.com mina@minas.net'\n",
    "emails = re.findall(r'([\\w\\.-]+)@([\\w\\.-]+)', str) \n",
    "for email in emails:\n",
    "    print email, email[0], email[1] "
   ]
  },
  {
   "cell_type": "markdown",
   "metadata": {},
   "source": [
    "* 연습문제)\n",
    " - 문자열 리스트내에서 올바른 파이썬 변수명만 있는지 판단하시오\n",
    " - the가 모든 tf_idf.txt 문서에서 몇번 나왔는지 개수를 구하시오\n",
    " - def is_substring(s, query)를 구현하시오"
   ]
  },
  {
   "cell_type": "code",
   "execution_count": 52,
   "metadata": {
    "collapsed": false
   },
   "outputs": [
    {
     "name": "stdout",
     "output_type": "stream",
     "text": [
      "abc\n",
      "a_bdd\n",
      "good344\n",
      "aB_23\n"
     ]
    }
   ],
   "source": [
    "variables = ['abc', '3abd', 'a_bdd', 'good344', 'aB_23']\n",
    "for variable in variables:\n",
    "    m = re.match(r\"^[a-zA-Z]+[\\w\\d]\", variable) #앞에만 보면 되니까 이렇게 했는데 되는건지? 근데 여기서 m.groups() 출력하면 틀리네.\n",
    "    if m != None:\n",
    "        print variable"
   ]
  },
  {
   "cell_type": "code",
   "execution_count": 53,
   "metadata": {
    "collapsed": false
   },
   "outputs": [
    {
     "name": "stdout",
     "output_type": "stream",
     "text": [
      "abc\n",
      "a_bdd\n",
      "good3\n",
      "aB_2\n"
     ]
    }
   ],
   "source": [
    "variables = ['abc', '3abd', 'a_bdd', 'good344', 'aB_23']\n",
    "for v in variables:\n",
    "    m = re.search(r'^[a-zA-Z_]+[\\w\\d]', v)\n",
    "    if m != None:\n",
    "        print m.group()\n"
   ]
  },
  {
   "cell_type": "code",
   "execution_count": 54,
   "metadata": {
    "collapsed": false
   },
   "outputs": [
    {
     "name": "stdout",
     "output_type": "stream",
     "text": [
      "[]\n"
     ]
    }
   ],
   "source": [
    "with open('./data_set/tf_idf1.txt','r') as f:\n",
    "    content = f.read()\n",
    "    result = re.findall(r'\\bthe\\b', content, re.IGNORECASE)\n",
    "    \n",
    "    print result"
   ]
  },
  {
   "cell_type": "code",
   "execution_count": 67,
   "metadata": {
    "collapsed": false
   },
   "outputs": [
    {
     "name": "stdout",
     "output_type": "stream",
     "text": [
      "True\n"
     ]
    }
   ],
   "source": [
    "def is_substring(s,query):\n",
    "    return re.search(query, s) != None #모든 객체는 none이랑 비교될 수 있다. 있으면 none이 아닌 것. \n",
    "\n",
    "print is_substring('hahaha test',r'test')"
   ]
  },
  {
   "cell_type": "code",
   "execution_count": 52,
   "metadata": {
    "collapsed": false
   },
   "outputs": [
    {
     "name": "stdout",
     "output_type": "stream",
     "text": [
      "True\n"
     ]
    }
   ],
   "source": []
  },
  {
   "cell_type": "markdown",
   "metadata": {},
   "source": [
    "* sub (이걸, 이거로 바꿔줌)\n",
    " - 주어진 문자열에서 일치하는 모든 패턴을 replace\n",
    " - 그 결과를 문자열로 다시 반환함\n",
    " - 두번째 인자는 특정 문자열이 될 수도 있고, 함수가 될 수 도 있다.\n",
    " - count가 0인 경우는 전체를, 1이상이면 해당 숫자만큼 치환된다.\n",
    " - re.sub(pattern, repl, string, count=0, flags=0) count = 0 이면 다 바꾸고, 1,2 등 값주면 처음 하나, 처음 두개 바꿔줌. "
   ]
  },
  {
   "cell_type": "code",
   "execution_count": 62,
   "metadata": {
    "collapsed": false
   },
   "outputs": [
    {
     "name": "stdout",
     "output_type": "stream",
     "text": [
      "What a nice weather test, test test\n"
     ]
    }
   ],
   "source": [
    "str = 'What a nice weather macmath22@gmail.com, test@test.com mina@minas.net'\n",
    "replaced = re.sub(r'[\\w\\.-]+@[\\w\\.-]+', r'test', str) \n",
    "print replaced"
   ]
  },
  {
   "cell_type": "markdown",
   "metadata": {},
   "source": [
    "* 실습)\n",
    " - 010-3335-5555형식의 번호를 (010) 3335-5555로 변환하는 함수를 만드시오\n",
    " - grouping을 이용"
   ]
  },
  {
   "cell_type": "code",
   "execution_count": 58,
   "metadata": {
    "collapsed": false
   },
   "outputs": [
    {
     "name": "stdout",
     "output_type": "stream",
     "text": [
      "(010) 3335-5555\n"
     ]
    }
   ],
   "source": [
    "str = \"010-3335-5555\"\n",
    "pattern = r\"^0\\d{2}-\"\n",
    "subst = \"(010) \"\n",
    "phone_number = re.sub(pattern, subst, str)\n",
    "print phone_number"
   ]
  },
  {
   "cell_type": "code",
   "execution_count": 71,
   "metadata": {
    "collapsed": false
   },
   "outputs": [
    {
     "name": "stdout",
     "output_type": "stream",
     "text": [
      "(010) 3713-0512\n"
     ]
    }
   ],
   "source": [
    "pattern = r'(\\d{3})-(\\d{4})-(\\d{4})' #gruop\n",
    "replace = r'(\\1) \\2-\\3' #group 몇번째인지 \\1 가 첫번째 그룹 의미\n",
    "\n",
    "replaced = re.sub(pattern, replace, '010-3713-0512')\n",
    "print replaced"
   ]
  },
  {
   "cell_type": "code",
   "execution_count": 63,
   "metadata": {
    "collapsed": false
   },
   "outputs": [
    {
     "name": "stdout",
     "output_type": "stream",
     "text": [
      "(010) 3457-6360\n"
     ]
    }
   ],
   "source": [
    "pattern = r'(\\d{3})-(\\d{4})-(\\d{4})'\n",
    "replace = r'(\\1) \\2-\\3'\n",
    "\n",
    "result = re.sub(pattern, replace, '010-3457-6360')\n",
    "print result"
   ]
  },
  {
   "cell_type": "markdown",
   "metadata": {},
   "source": [
    "# 이거 잘 모르겠음\n",
    "* 연습문제\n",
    " - \"one, two three.four*five:six\"에서 one, two, three, four, five, six로 추출해보시오"
   ]
  },
  {
   "cell_type": "code",
   "execution_count": 82,
   "metadata": {
    "collapsed": false
   },
   "outputs": [
    {
     "name": "stdout",
     "output_type": "stream",
     "text": [
      "['one', ' two three.four*five:six']\n",
      "['', 'two', 'three.four*five:six']\n"
     ]
    }
   ],
   "source": [
    "a = \"one, two three.four*five:six\"\n",
    "b = a.split(\",\")\n",
    "c = b[1].split(\" \")\n",
    "d = c[2].split(\".\")\n",
    "print b\n",
    "print c"
   ]
  },
  {
   "cell_type": "code",
   "execution_count": 73,
   "metadata": {
    "collapsed": false
   },
   "outputs": [
    {
     "name": "stdout",
     "output_type": "stream",
     "text": [
      "['one', '', 'two', 'three', 'four', 'five', 'six']\n"
     ]
    }
   ],
   "source": [
    "a = \"one, two three.four*five:six\"\n",
    "splited = re.split(r\"[,.\\s*:]*\", a) # []에 *가 안붙으면 \" \"이 처리가 안됨.\n",
    "print splited"
   ]
  },
  {
   "cell_type": "markdown",
   "metadata": {},
   "source": [
    "* split "
   ]
  },
  {
   "cell_type": "code",
   "execution_count": 64,
   "metadata": {
    "collapsed": false
   },
   "outputs": [
    {
     "name": "stdout",
     "output_type": "stream",
     "text": [
      "['one', 'two', 'three', 'four', 'five', 'six']\n"
     ]
    }
   ],
   "source": [
    "a = \"one,two three.four*five:six\"\n",
    "print re.split(r'[:,.*\\s]*', a)"
   ]
  },
  {
   "cell_type": "markdown",
   "metadata": {},
   "source": [
    "* compile \n",
    " - 동일한 정규표현식을 매번 다시 쓰기 번거로움을 해결\n",
    " - compile로 해당표현식(패턴으로 보자)을 re.RegexObject 객체로 저장하여 사용가능"
   ]
  },
  {
   "cell_type": "code",
   "execution_count": 74,
   "metadata": {
    "collapsed": false
   },
   "outputs": [
    {
     "name": "stdout",
     "output_type": "stream",
     "text": [
      "macmath22@gmail.com\n",
      "['macmath22@gmail.com', 'test@test.com', 'mina@minas.net']\n",
      "My email is test\n"
     ]
    }
   ],
   "source": [
    "import re\n",
    "\n",
    "\n",
    "email_reg = re.compile(r'[\\w.-]+@[\\w.-]+')\n",
    "m = email_reg.search('What a nice weather macmath22@gmail.com, test@test.com mina@minas.net')\n",
    "if m:\n",
    "    print m.group()\n",
    "    \n",
    "\n",
    "print email_reg.findall('What a nice weather macmath22@gmail.com, test@test.com mina@minas.net')\n",
    "\n",
    "print email_reg.sub('test', 'My email is macmath22@gmail.com')"
   ]
  },
  {
   "cell_type": "code",
   "execution_count": 75,
   "metadata": {
    "collapsed": false
   },
   "outputs": [
    {
     "name": "stdout",
     "output_type": "stream",
     "text": [
      "macmath22@gmail.com\n",
      "['macmath22@gmail.com', 'test@test.com', 'mina@minas.net']\n",
      "What a nice weather test, test test\n"
     ]
    }
   ],
   "source": [
    "import re\n",
    "\n",
    "email_reg = re.compile(r\"[\\w.-]+@[\\w.-]+\")\n",
    "sen = 'What a nice weather macmath22@gmail.com, test@test.com mina@minas.net'\n",
    "#1.\n",
    "m = email_reg.search(sen)\n",
    "if m:#이게 말이 되나? \n",
    "    print m.group()\n",
    "\n",
    "#2.\n",
    "print email_reg.findall(sen)\n",
    "\n",
    "#3.\n",
    "print email_reg.sub(\"test\", sen)"
   ]
  },
  {
   "cell_type": "markdown",
   "metadata": {},
   "source": [
    " * 연습문제 \n",
    "  - ip address를 찾는 정규표현식을 구해, 아래 두 문자열이 올바른 ip 주소인지 판별하세요\n",
    "  - 다음중 올바른 (http, https) 웹페이지만 찾아서 urls.txt 파일에 쓰시오"
   ]
  },
  {
   "cell_type": "code",
   "execution_count": 97,
   "metadata": {
    "collapsed": false
   },
   "outputs": [
    {
     "name": "stdout",
     "output_type": "stream",
     "text": [
      "192.168.0.114 is appropriate IP address\n",
      "192.168.112. is wrong\n",
      "<_sre.SRE_Match object at 0x06552058>\n",
      "<_sre.SRE_Match object at 0x06552100>\n",
      "<_sre.SRE_Match object at 0x06552058>\n",
      "None\n",
      "None\n",
      "None\n",
      "<_sre.SRE_Match object at 0x06552058>\n",
      "<_sre.SRE_Match object at 0x06552100>\n"
     ]
    }
   ],
   "source": [
    "ip1 = '192.168.0.114'\n",
    "ip2 = '192.168.112.'\n",
    "\n",
    "\n",
    "ip_lst = [ip1.split(\".\"), ip2.split(\".\")]\n",
    "\n",
    "for ip in ip_lst:\n",
    "    if len(ip) == 4 and \"\" not in ip:\n",
    "        print \".\".join(ip), \"is appropriate IP address\"\n",
    "    else:\n",
    "        print \".\".join(ip), \"is wrong\"\n",
    "\n",
    "\n",
    "webs = ['http://www.test.com', \n",
    "        'https://www.test1.com', \n",
    "        'http://www.test.com', \n",
    "        'ftp://www.test.com', \n",
    "        'http:://www.test.com',\n",
    "       'htp://www.test.com',\n",
    "       'http://www.google.com', \n",
    "       'https://www.homepage.com']\n",
    "\n",
    "url_pattern = r'http[s]?://[\\w]+.[\\w]+.[\\w]+'\n",
    "for web in webs:\n",
    "    m = re.search(url_pattern, web)\n",
    "    print m"
   ]
  },
  {
   "cell_type": "code",
   "execution_count": 140,
   "metadata": {
    "collapsed": false
   },
   "outputs": [
    {
     "name": "stdout",
     "output_type": "stream",
     "text": [
      "<_sre.SRE_Match object at 0x109ed14a8>\n",
      "<_sre.SRE_Match object at 0x109ed1440>\n",
      "<_sre.SRE_Match object at 0x109ed14a8>\n",
      "None\n",
      "None\n",
      "None\n",
      "<_sre.SRE_Match object at 0x109ed14a8>\n",
      "<_sre.SRE_Match object at 0x109ed1440>\n"
     ]
    }
   ],
   "source": [
    "url_pattern = r'http[s]?://[\\w]+.[\\w]+.[\\w]+'\n",
    "\n",
    "for w in webs:\n",
    "    m = re.search(url_pattern, w)\n",
    "    print m"
   ]
  },
  {
   "cell_type": "markdown",
   "metadata": {},
   "source": [
    "* virtualenv\n",
    " - 독립된 파이썬 환경을 만들기 위한 툴\n",
    " - pip install virtualenv로 설치\n",
    " \n",
    " >  cd my_project_folder\n",
    " >  virtualenv venv\n",
    " \n",
    " > virtualenv -p /usr/bin/python2.7 venv\n",
    "  - 파이썬 버젼도 명시 가능\n",
    "  \n",
    " + https://pypi.python.org 에서 python package(module) 버젼 확인 가능 \n",
    "  \n",
    " + windows \n",
    "   - venv\\Scripts\\activate로 활성화\n",
    " + osx \n",
    "   - source venv/bin/activate로 활성화\n",
    " - deactivate 비활성화"
   ]
  },
  {
   "cell_type": "code",
   "execution_count": null,
   "metadata": {
    "collapsed": true
   },
   "outputs": [],
   "source": []
  },
  {
   "cell_type": "code",
   "execution_count": null,
   "metadata": {
    "collapsed": true
   },
   "outputs": [],
   "source": [
    "#연습문제풀이\n"
   ]
  }
 ],
 "metadata": {
  "kernelspec": {
   "display_name": "Python 2",
   "language": "python",
   "name": "python2"
  },
  "language_info": {
   "codemirror_mode": {
    "name": "ipython",
    "version": 2
   },
   "file_extension": ".py",
   "mimetype": "text/x-python",
   "name": "python",
   "nbconvert_exporter": "python",
   "pygments_lexer": "ipython2",
   "version": "2.7.13"
  }
 },
 "nbformat": 4,
 "nbformat_minor": 1
}
