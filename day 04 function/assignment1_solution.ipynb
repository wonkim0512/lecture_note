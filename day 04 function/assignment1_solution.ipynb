{
 "cells": [
  {
   "cell_type": "markdown",
   "metadata": {},
   "source": [
    "## 과제 풀어보기"
   ]
  },
  {
   "cell_type": "markdown",
   "metadata": {
    "collapsed": true
   },
   "source": [
    "* assignment\n",
    " 1. 1 - 1000까지 정수 중 소수만 출력하시오.\n",
    " 2. 1 - 9000까지 정수 중 palindrome의 개수는? palindrome은 11, 121, 1331, 999 등 앞으로 읽으나 뒤로 읽으나 같은 수를 의미 합니다.\n",
    " 3. 15번째까지 피보나치 수열을 출력하시오. f0 = 1, f1 = 1, fn = fn-1 + fn-2\n",
    " 4. bubble sort implementation\n",
    " 5. selection sort implementation "
   ]
  },
  {
   "cell_type": "code",
   "execution_count": 7,
   "metadata": {
    "collapsed": false
   },
   "outputs": [
    {
     "name": "stdout",
     "output_type": "stream",
     "text": [
      "[2, 3, 5, 7, 11, 13, 17, 19, 23, 29, 31, 37, 41, 43, 47, 53, 59, 61, 67, 71, 73, 79, 83, 89, 97, 101, 103, 107, 109, 113, 127, 131, 137, 139, 149, 151, 157, 163, 167, 173, 179, 181, 191, 193, 197, 199, 211, 223, 227, 229, 233, 239, 241, 251, 257, 263, 269, 271, 277, 281, 283, 293, 307, 311, 313, 317, 331, 337, 347, 349, 353, 359, 367, 373, 379, 383, 389, 397, 401, 409, 419, 421, 431, 433, 439, 443, 449, 457, 461, 463, 467, 479, 487, 491, 499, 503, 509, 521, 523, 541, 547, 557, 563, 569, 571, 577, 587, 593, 599, 601, 607, 613, 617, 619, 631, 641, 643, 647, 653, 659, 661, 673, 677, 683, 691, 701, 709, 719, 727, 733, 739, 743, 751, 757, 761, 769, 773, 787, 797, 809, 811, 821, 823, 827, 829, 839, 853, 857, 859, 863, 877, 881, 883, 887, 907, 911, 919, 929, 937, 941, 947, 953, 967, 971, 977, 983, 991, 997] 168\n"
     ]
    }
   ],
   "source": [
    "import math\n",
    "\n",
    "nums = range(3, 1001)\n",
    "primes = [2]\n",
    "\n",
    "for i in nums:\n",
    "    is_prime = True\n",
    "    for j in range(2, int(math.sqrt(i)+1)):\n",
    "        if i % j == 0:\n",
    "            is_prime = False\n",
    "            break\n",
    "    \n",
    "    if is_prime:\n",
    "        primes.append(i)\n",
    "        \n",
    "print primes, len(primes)"
   ]
  },
  {
   "cell_type": "code",
   "execution_count": 5,
   "metadata": {
    "collapsed": false
   },
   "outputs": [
    {
     "name": "stdout",
     "output_type": "stream",
     "text": [
      "[2, 3, 5, 7, 11, 13, 17, 19, 23, 29, 31, 37, 41, 43, 47, 53, 59, 61, 67, 71, 73, 79, 83, 89, 97, 101, 103, 107, 109, 113, 127, 131, 137, 139, 149, 151, 157, 163, 167, 173, 179, 181, 191, 193, 197, 199, 211, 223, 227, 229, 233, 239, 241, 251, 257, 263, 269, 271, 277, 281, 283, 293, 307, 311, 313, 317, 331, 337, 347, 349, 353, 359, 367, 373, 379, 383, 389, 397, 401, 409, 419, 421, 431, 433, 439, 443, 449, 457, 461, 463, 467, 479, 487, 491, 499, 503, 509, 521, 523, 541, 547, 557, 563, 569, 571, 577, 587, 593, 599, 601, 607, 613, 617, 619, 631, 641, 643, 647, 653, 659, 661, 673, 677, 683, 691, 701, 709, 719, 727, 733, 739, 743, 751, 757, 761, 769, 773, 787, 797, 809, 811, 821, 823, 827, 829, 839, 853, 857, 859, 863, 877, 881, 883, 887, 907, 911, 919, 929, 937, 941, 947, 953, 967, 971, 977, 983, 991, 997] 168\n"
     ]
    }
   ],
   "source": [
    "nums = range(2, 1001)\n",
    "\n",
    "# 에라토네스의 체를 그대로 구현했습니다. \n",
    "# https://ko.wikipedia.org/wiki/%EC%97%90%EB%9D%BC%ED%86%A0%EC%8A%A4%ED%85%8C%EB%84%A4%EC%8A%A4%EC%9D%98_%EC%B2%B4\n",
    "for i, num in enumerate(nums):\n",
    "    if num != 0:\n",
    "        to_zero = i + num\n",
    "        while to_zero < len(nums):\n",
    "            nums[to_zero] = 0\n",
    "            to_zero += num\n",
    "    \n",
    "primes = [p for p in nums if p != 0]\n",
    "print primes, len(primes)"
   ]
  },
  {
   "cell_type": "code",
   "execution_count": 9,
   "metadata": {
    "collapsed": false
   },
   "outputs": [
    {
     "name": "stdout",
     "output_type": "stream",
     "text": [
      "1111rts\n",
      "[1, 2, 3, 4, 5, 6, 7, 8, 9, 11, 22, 33, 44, 55, 66, 77, 88, 99, 101, 111, 121, 131, 141, 151, 161, 171, 181, 191, 202, 212, 222, 232, 242, 252, 262, 272, 282, 292, 303, 313, 323, 333, 343, 353, 363, 373, 383, 393, 404, 414, 424, 434, 444, 454, 464, 474, 484, 494, 505, 515, 525, 535, 545, 555, 565, 575, 585, 595, 606, 616, 626, 636, 646, 656, 666, 676, 686, 696, 707, 717, 727, 737, 747, 757, 767, 777, 787, 797, 808, 818, 828, 838, 848, 858, 868, 878, 888, 898, 909, 919, 929, 939, 949, 959, 969, 979, 989, 999, 1001, 1111, 1221, 1331, 1441, 1551, 1661, 1771, 1881, 1991, 2002, 2112, 2222, 2332, 2442, 2552, 2662, 2772, 2882, 2992, 3003, 3113, 3223, 3333, 3443, 3553, 3663, 3773, 3883, 3993, 4004, 4114, 4224, 4334, 4444, 4554, 4664, 4774, 4884, 4994, 5005, 5115, 5225, 5335, 5445, 5555, 5665, 5775, 5885, 5995, 6006, 6116, 6226, 6336, 6446, 6556, 6666, 6776, 6886, 6996, 7007, 7117, 7227, 7337, 7447, 7557, 7667, 7777, 7887, 7997, 8008, 8118, 8228, 8338, 8448, 8558, 8668, 8778, 8888, 8998]\n"
     ]
    }
   ],
   "source": [
    "nums = range(1, 9001)\n",
    "\n",
    "a = 'str1111'\n",
    "\n",
    "for i in nums:\n",
    "    nums.remove()\n",
    "\n",
    "print a[::-1]\n",
    "\n",
    "palindromes = []\n",
    "\n",
    "for n in nums:\n",
    "    str_num = str(n)\n",
    "    if str_num == str_num[::-1]: # 이런 트릭이!!\n",
    "        palindromes.append(n)\n",
    "        \n",
    "print palindromes"
   ]
  },
  {
   "cell_type": "code",
   "execution_count": 6,
   "metadata": {
    "collapsed": false
   },
   "outputs": [
    {
     "name": "stdout",
     "output_type": "stream",
     "text": [
      "610\n"
     ]
    }
   ],
   "source": [
    "fibo = [1, 1] # 초기 배열을 미리 생성해두어 인덱싱이 편하도록 했습니다.\n",
    "for i in range(2, 15):\n",
    "    fibo.append(fibo[i-1] + fibo[i-2])\n",
    "    \n",
    "print fibo[-1]"
   ]
  },
  {
   "cell_type": "code",
   "execution_count": 8,
   "metadata": {
    "collapsed": false
   },
   "outputs": [
    {
     "name": "stdout",
     "output_type": "stream",
     "text": [
      "[1, 2, 9, 15, 7, 8, 6, 4, 3, 17, 23]\n",
      "[1, 2, 9, 7, 8, 6, 4, 3, 15, 17, 23]\n",
      "[1, 2, 7, 8, 6, 4, 3, 9, 15, 17, 23]\n",
      "[1, 2, 7, 6, 4, 3, 8, 9, 15, 17, 23]\n",
      "[1, 2, 6, 4, 3, 7, 8, 9, 15, 17, 23]\n",
      "[1, 2, 4, 3, 6, 7, 8, 9, 15, 17, 23]\n",
      "[1, 2, 3, 4, 6, 7, 8, 9, 15, 17, 23]\n",
      "[1, 2, 3, 4, 6, 7, 8, 9, 15, 17, 23]\n",
      "[1, 2, 3, 4, 6, 7, 8, 9, 15, 17, 23]\n",
      "[1, 2, 3, 4, 6, 7, 8, 9, 15, 17, 23]\n",
      "[1, 2, 3, 4, 6, 7, 8, 9, 15, 17, 23]\n",
      "[1, 2, 3, 4, 6, 7, 8, 9, 15, 17, 23]\n"
     ]
    }
   ],
   "source": [
    "# bubble sort\n",
    "arr = [9, 1, 2, 15, 23, 7, 8, 6, 4, 3, 17]\n",
    "count = len(arr)\n",
    "\n",
    "for i in range(count):\n",
    "    for j in range(1, count - i):\n",
    "        if arr[j-1] > arr[j]:\n",
    "            temp = arr[j]\n",
    "            arr[j] = arr[j-1]\n",
    "            arr[j-1] = temp\n",
    "            \n",
    "    print arr\n",
    "            \n",
    "print arr"
   ]
  },
  {
   "cell_type": "code",
   "execution_count": null,
   "metadata": {
    "collapsed": true
   },
   "outputs": [],
   "source": [
    "# selection sort\n",
    "arr = [9, 1, 2, 15, 23, 7, 8, 6, 4, 3, 17]\n",
    "print arr\n",
    "\n",
    "count = len(arr)\n",
    "\n",
    "for i in range(count):\n",
    "    minimum = arr[i]\n",
    "    minimum_idx = i\n",
    "    \n",
    "    for j in range(i+1, count):\n",
    "        if minimum > arr[j]:\n",
    "            minimum = arr[j]\n",
    "            minimum_idx = j\n",
    "            \n",
    "    temp = arr[i]\n",
    "    arr[i] = arr[minimum_idx]\n",
    "    arr[minimum_idx] = temp\n",
    "    \n",
    "    print arr\n",
    "    \n",
    "\n",
    "print arr"
   ]
  },
  {
   "cell_type": "markdown",
   "metadata": {},
   "source": [
    "* 파이썬 리스트 비교 알아보기"
   ]
  },
  {
   "cell_type": "markdown",
   "metadata": {
    "collapsed": true
   },
   "source": [
    "python의 경우 리스트 객체를 == 로 비교 시, 모든 인덱스의 원소가 같은지 비교함"
   ]
  },
  {
   "cell_type": "code",
   "execution_count": 7,
   "metadata": {
    "collapsed": false
   },
   "outputs": [
    {
     "name": "stdout",
     "output_type": "stream",
     "text": [
      "[1, 2, 3, 4, 5]\n",
      "True\n",
      "False\n",
      "True\n",
      "True\n"
     ]
    }
   ],
   "source": [
    "a = [1, 2, 3, 4]\n",
    "b = range(1, 5)\n",
    "c = [1, 2, 3]\n",
    "d = [1, 2, 3, 4, 5]\n",
    "\n",
    "print a == b\n",
    "\n",
    "print a == c\n",
    "print a == c + [4]\n",
    "print b == d[:4]"
   ]
  },
  {
   "cell_type": "code",
   "execution_count": null,
   "metadata": {
    "collapsed": true
   },
   "outputs": [],
   "source": []
  }
 ],
 "metadata": {
  "kernelspec": {
   "display_name": "Python 2",
   "language": "python",
   "name": "python2"
  },
  "language_info": {
   "codemirror_mode": {
    "name": "ipython",
    "version": 2
   },
   "file_extension": ".py",
   "mimetype": "text/x-python",
   "name": "python",
   "nbconvert_exporter": "python",
   "pygments_lexer": "ipython2",
   "version": "2.7.13"
  }
 },
 "nbformat": 4,
 "nbformat_minor": 1
}
