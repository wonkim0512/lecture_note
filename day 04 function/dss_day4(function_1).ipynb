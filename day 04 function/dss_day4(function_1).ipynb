{
 "cells": [
  {
   "cell_type": "markdown",
   "metadata": {},
   "source": [
    "# Function 1\n",
    "\n",
    "## 학습목표\n",
    " 1. 함수의 이해\n",
    " 2. 함수 구현 및 사용 숙지\n",
    " 3. 재귀함수 구현 및 사용 숙지"
   ]
  },
  {
   "cell_type": "markdown",
   "metadata": {},
   "source": [
    "## Function basic "
   ]
  },
  {
   "cell_type": "code",
   "execution_count": 11,
   "metadata": {
    "collapsed": true
   },
   "outputs": [
    {
     "name": "stdout",
     "output_type": "stream",
     "text": [
      "55\n",
      "11\n"
     ]
    },
    {
     "ename": "NameError",
     "evalue": "name 'add' is not defined",
     "output_type": "error",
     "traceback": [
      "\u001b[0;31m---------------------------------------------------------------------------\u001b[0m",
      "\u001b[0;31mNameError\u001b[0m                                 Traceback (most recent call last)",
      "\u001b[0;32m<ipython-input-11-617336be7b97>\u001b[0m in \u001b[0;36m<module>\u001b[0;34m()\u001b[0m\n\u001b[1;32m      5\u001b[0m \u001b[0;32mprint\u001b[0m \u001b[0mlen\u001b[0m\u001b[0;34m(\u001b[0m\u001b[0mnums\u001b[0m\u001b[0;34m)\u001b[0m\u001b[0;34m\u001b[0m\u001b[0m\n\u001b[1;32m      6\u001b[0m \u001b[0;34m\u001b[0m\u001b[0m\n\u001b[0;32m----> 7\u001b[0;31m \u001b[0;32mprint\u001b[0m \u001b[0madd\u001b[0m\u001b[0;34m(\u001b[0m\u001b[0;36m2\u001b[0m\u001b[0;34m,\u001b[0m \u001b[0;36m3\u001b[0m\u001b[0;34m)\u001b[0m\u001b[0;34m\u001b[0m\u001b[0m\n\u001b[0m",
      "\u001b[0;31mNameError\u001b[0m: name 'add' is not defined"
     ]
    }
   ],
   "source": [
    "# 내장 함수의 예\n",
    "\n",
    "nums = range(11)\n",
    "print sum(nums)\n",
    "print len(nums)\n",
    "\n",
    "print add(2, 3)"
   ]
  },
  {
   "cell_type": "markdown",
   "metadata": {},
   "source": [
    "* 함수의 정의\n",
    "  + def 키워드 사용\n",
    "  + argument 정의 \n",
    "  + : (콜론) \n",
    "  + body (코드 부분)\n",
    "  + 함수의 네이밍 역시 중요!!"
   ]
  },
  {
   "cell_type": "code",
   "execution_count": 14,
   "metadata": {
    "collapsed": false
   },
   "outputs": [
    {
     "name": "stdout",
     "output_type": "stream",
     "text": [
      "255555\n"
     ]
    }
   ],
   "source": [
    "def add(num1, num2):\n",
    "    return num1 + num2\n",
    "\n",
    "result = add(232323, 23232)\n",
    "print result\n",
    "\n"
   ]
  },
  {
   "cell_type": "markdown",
   "metadata": {},
   "source": [
    "* 함수의 사용(호출)\n",
    " + add(1, 5)\n",
    " + 위와 같이 정의 된 함수의 이름과 전달되는 parameter(인자)를 전달"
   ]
  },
  {
   "cell_type": "code",
   "execution_count": 71,
   "metadata": {
    "collapsed": false
   },
   "outputs": [
    {
     "name": "stdout",
     "output_type": "stream",
     "text": [
      "None\n",
      "12\n"
     ]
    }
   ],
   "source": [
    "print add('dfafd', 'dfdafdfdaf')\n",
    "print mult(1+2, 4)"
   ]
  },
  {
   "cell_type": "markdown",
   "metadata": {},
   "source": [
    "* 함수 이름으로부터 기능이 명시 될 수록 좋다.\n",
    "* 의미와 반대되거나 맞지 않는 이름은 좋지 않다."
   ]
  },
  {
   "cell_type": "code",
   "execution_count": 65,
   "metadata": {
    "collapsed": false
   },
   "outputs": [
    {
     "name": "stdout",
     "output_type": "stream",
     "text": [
      "8\n"
     ]
    }
   ],
   "source": [
    "def test_substraction(a, b):\n",
    "    return a - b\n",
    "\n",
    "print substract(5, 3)"
   ]
  },
  {
   "cell_type": "markdown",
   "metadata": {},
   "source": [
    "* parameter(argument) (인자)\n",
    " + int, string, float, list 등등 어떤 파이썬 객체도 전달 될 수 있다.\n"
   ]
  },
  {
   "cell_type": "code",
   "execution_count": 12,
   "metadata": {
    "collapsed": true
   },
   "outputs": [],
   "source": [
    "def len2(string):\n",
    "    return len(string)\n",
    "    \n",
    "def sum2(nums):\n",
    "    return sum(nums)\n",
    "\n",
    "print len2('test')\n",
    "print sum2([1, 2, 3, 4])\n",
    "\n",
    "ordered_list = sort2([1, 9, 2, 3])"
   ]
  },
  {
   "cell_type": "markdown",
   "metadata": {},
   "source": [
    "* optional parameter\n",
    " + 기본값을 지정할 수 있다.\n",
    " + 인자 값을 전달하지 않을 경우, 위에서 정한 기본값이 전달 됨."
   ]
  },
  {
   "cell_type": "code",
   "execution_count": 18,
   "metadata": {
    "collapsed": false
   },
   "outputs": [
    {
     "ename": "TypeError",
     "evalue": "print_hello() takes no arguments (1 given)",
     "output_type": "error",
     "traceback": [
      "\u001b[0;31m---------------------------------------------------------------------------\u001b[0m",
      "\u001b[0;31mTypeError\u001b[0m                                 Traceback (most recent call last)",
      "\u001b[0;32m<ipython-input-18-f682ba7057b4>\u001b[0m in \u001b[0;36m<module>\u001b[0;34m()\u001b[0m\n\u001b[1;32m      2\u001b[0m     \u001b[0;32mpass\u001b[0m\u001b[0;34m\u001b[0m\u001b[0m\n\u001b[1;32m      3\u001b[0m \u001b[0;34m\u001b[0m\u001b[0m\n\u001b[0;32m----> 4\u001b[0;31m \u001b[0mprint_hello\u001b[0m\u001b[0;34m(\u001b[0m\u001b[0;34m'hi world'\u001b[0m\u001b[0;34m)\u001b[0m\u001b[0;34m\u001b[0m\u001b[0m\n\u001b[0m\u001b[1;32m      5\u001b[0m \u001b[0mprint_hello\u001b[0m\u001b[0;34m(\u001b[0m\u001b[0;34m)\u001b[0m\u001b[0;34m\u001b[0m\u001b[0m\n",
      "\u001b[0;31mTypeError\u001b[0m: print_hello() takes no arguments (1 given)"
     ]
    }
   ],
   "source": [
    "def print_hello(nums='hello world'):\n",
    "    return 1 + 3 + 4\n",
    "    \n",
    "print_hello('hi world')\n",
    "print_hello()"
   ]
  },
  {
   "cell_type": "code",
   "execution_count": 21,
   "metadata": {
    "collapsed": false
   },
   "outputs": [
    {
     "name": "stdout",
     "output_type": "stream",
     "text": [
      "46\n",
      "44\n"
     ]
    },
    {
     "ename": "TypeError",
     "evalue": "increment_by() takes at least 1 argument (0 given)",
     "output_type": "error",
     "traceback": [
      "\u001b[0;31m---------------------------------------------------------------------------\u001b[0m",
      "\u001b[0;31mTypeError\u001b[0m                                 Traceback (most recent call last)",
      "\u001b[0;32m<ipython-input-21-176620d21798>\u001b[0m in \u001b[0;36m<module>\u001b[0;34m()\u001b[0m\n\u001b[1;32m      6\u001b[0m \u001b[0;32mprint\u001b[0m \u001b[0mincrement_by\u001b[0m\u001b[0;34m(\u001b[0m\u001b[0;36m45\u001b[0m\u001b[0;34m)\u001b[0m\u001b[0;34m\u001b[0m\u001b[0m\n\u001b[1;32m      7\u001b[0m \u001b[0;32mprint\u001b[0m \u001b[0mincrement_by\u001b[0m\u001b[0;34m(\u001b[0m\u001b[0;36m34\u001b[0m\u001b[0;34m,\u001b[0m \u001b[0;36m10\u001b[0m\u001b[0;34m)\u001b[0m\u001b[0;34m\u001b[0m\u001b[0m\n\u001b[0;32m----> 8\u001b[0;31m \u001b[0;32mprint\u001b[0m \u001b[0mincrement_by\u001b[0m\u001b[0;34m(\u001b[0m\u001b[0;34m)\u001b[0m\u001b[0;34m\u001b[0m\u001b[0m\n\u001b[0m",
      "\u001b[0;31mTypeError\u001b[0m: increment_by() takes at least 1 argument (0 given)"
     ]
    }
   ],
   "source": [
    "#def increment_by(a = 2, b = 1):\n",
    "#def increment_by(a = 2, b): # 디폴트 파라미터 뒤에 일반 파라미터가 올 수 없다.\n",
    "def increment_by(a, b = 1):\n",
    "    return a + b\n",
    "\n",
    "print increment_by(45)\n",
    "print increment_by(34, 10)\n",
    "print increment_by()"
   ]
  },
  {
   "cell_type": "markdown",
   "metadata": {},
   "source": [
    "* keyword argument"
   ]
  },
  {
   "cell_type": "code",
   "execution_count": 23,
   "metadata": {
    "collapsed": false
   },
   "outputs": [
    {
     "name": "stdout",
     "output_type": "stream",
     "text": [
      "1 1 1 2\n",
      "1 1 3 4\n",
      "4 2 1 2\n",
      "1 7 10 20\n",
      "1 2 4 5\n"
     ]
    },
    {
     "ename": "TypeError",
     "evalue": "func_test() takes at least 2 arguments (0 given)",
     "output_type": "error",
     "traceback": [
      "\u001b[0;31m---------------------------------------------------------------------------\u001b[0m",
      "\u001b[0;31mTypeError\u001b[0m                                 Traceback (most recent call last)",
      "\u001b[0;32m<ipython-input-23-2c2ca77f2747>\u001b[0m in \u001b[0;36m<module>\u001b[0;34m()\u001b[0m\n\u001b[1;32m     12\u001b[0m \u001b[0;34m\u001b[0m\u001b[0m\n\u001b[1;32m     13\u001b[0m \u001b[0mfunc_test\u001b[0m\u001b[0;34m(\u001b[0m\u001b[0ma\u001b[0m \u001b[0;34m=\u001b[0m \u001b[0;36m1\u001b[0m\u001b[0;34m,\u001b[0m \u001b[0mb\u001b[0m \u001b[0;34m=\u001b[0m \u001b[0;36m2\u001b[0m\u001b[0;34m,\u001b[0m \u001b[0mc\u001b[0m \u001b[0;34m=\u001b[0m \u001b[0;36m4\u001b[0m\u001b[0;34m,\u001b[0m \u001b[0md\u001b[0m \u001b[0;34m=\u001b[0m \u001b[0;36m5\u001b[0m\u001b[0;34m)\u001b[0m\u001b[0;34m\u001b[0m\u001b[0m\n\u001b[0;32m---> 14\u001b[0;31m \u001b[0mfunc_test\u001b[0m\u001b[0;34m(\u001b[0m\u001b[0;34m)\u001b[0m\u001b[0;34m\u001b[0m\u001b[0m\n\u001b[0m",
      "\u001b[0;31mTypeError\u001b[0m: func_test() takes at least 2 arguments (0 given)"
     ]
    }
   ],
   "source": [
    "def func_test(a, b, c = 1, d = 2):\n",
    "    print a, b, c, d\n",
    "\n",
    "    \n",
    "func_test(1, 1)\n",
    "func_test(1, 1, 3, 4)\n",
    "\n",
    "\n",
    "func_test(b = 2, a = 4)\n",
    "\n",
    "func_test(1, 7, c = 10, d = 20)\n",
    "\n",
    "func_test(a = 1, b = 2, c = 4, d = 5)\n",
    "\n",
    "func_test()"
   ]
  },
  {
   "cell_type": "markdown",
   "metadata": {},
   "source": [
    "* return \n",
    " + 함수의 종료를 명시함\n",
    " + 값이 함께 오는 경우는 값을, 호출한 곳으로 반환하면서 종료\n",
    " + 리턴을 명시하지 않은 경우, 함수의 마지막라인이 실행된 후 리턴됨"
   ]
  },
  {
   "cell_type": "code",
   "execution_count": 76,
   "metadata": {
    "collapsed": false
   },
   "outputs": [
    {
     "name": "stdout",
     "output_type": "stream",
     "text": [
      "1\n"
     ]
    }
   ],
   "source": [
    "def simple():\n",
    "    return 1\n",
    "\n",
    "a = simple()\n",
    "print a"
   ]
  },
  {
   "cell_type": "code",
   "execution_count": 28,
   "metadata": {
    "collapsed": false
   },
   "outputs": [
    {
     "name": "stdout",
     "output_type": "stream",
     "text": [
      "dds\n",
      "None\n"
     ]
    }
   ],
   "source": [
    "def print_something(a):\n",
    "    print a\n",
    "    \n",
    "c = non_return('dds')\n",
    "print c\n"
   ]
  },
  {
   "cell_type": "code",
   "execution_count": 29,
   "metadata": {
    "collapsed": false
   },
   "outputs": [
    {
     "name": "stdout",
     "output_type": "stream",
     "text": [
      "None\n"
     ]
    }
   ],
   "source": [
    "def just_return():\n",
    "    a = 1\n",
    "    b = 1\n",
    "    return\n",
    "\n",
    "c = just_return()\n",
    "print c"
   ]
  },
  {
   "cell_type": "markdown",
   "metadata": {},
   "source": [
    "* multiple return\n",
    " + tuple반환을 하여 여러값을 리턴 할 수 있다."
   ]
  },
  {
   "cell_type": "code",
   "execution_count": 30,
   "metadata": {
    "collapsed": false
   },
   "outputs": [
    {
     "name": "stdout",
     "output_type": "stream",
     "text": [
      "<type 'tuple'> (9, -1)\n",
      "9 -1\n"
     ]
    }
   ],
   "source": [
    "def add_sub(a, b):\n",
    "    return a+b, a-b\n",
    "\n",
    "\n",
    "def add(a, b):\n",
    "    return a + b\n",
    "\n",
    "\n",
    "def sub(a, b):\n",
    "    return a - b\n",
    "\n",
    "c = add_sub(4, 5)\n",
    "e, f = add_sub(4, 5)\n",
    "\n",
    "print type(c), c\n",
    "print e, f"
   ]
  },
  {
   "cell_type": "markdown",
   "metadata": {},
   "source": [
    "* variable scope\n",
    " + 변수가 참조 가능한 코드상의 범위를 이야기 함\n",
    " + 지역변수(local variable)은 블락이 끝남과 동시에 소멸됨"
   ]
  },
  {
   "cell_type": "code",
   "execution_count": 32,
   "metadata": {
    "collapsed": false
   },
   "outputs": [
    {
     "name": "stdout",
     "output_type": "stream",
     "text": [
      "java\n"
     ]
    }
   ],
   "source": [
    "def f(): \n",
    "    s = 'java'\n",
    "    print s\n",
    "    \n",
    "s = \"Python\"\n",
    "\n",
    "f()"
   ]
  },
  {
   "cell_type": "code",
   "execution_count": 37,
   "metadata": {
    "collapsed": true
   },
   "outputs": [],
   "source": [
    "del s"
   ]
  },
  {
   "cell_type": "code",
   "execution_count": 38,
   "metadata": {
    "collapsed": false
   },
   "outputs": [
    {
     "name": "stdout",
     "output_type": "stream",
     "text": [
      "Perl\n"
     ]
    },
    {
     "ename": "NameError",
     "evalue": "name 's' is not defined",
     "output_type": "error",
     "traceback": [
      "\u001b[0;31m---------------------------------------------------------------------------\u001b[0m",
      "\u001b[0;31mNameError\u001b[0m                                 Traceback (most recent call last)",
      "\u001b[0;32m<ipython-input-38-21af57e769f8>\u001b[0m in \u001b[0;36m<module>\u001b[0;34m()\u001b[0m\n\u001b[1;32m      8\u001b[0m \u001b[0mf\u001b[0m\u001b[0;34m(\u001b[0m\u001b[0;34m)\u001b[0m\u001b[0;34m\u001b[0m\u001b[0m\n\u001b[1;32m      9\u001b[0m \u001b[0;34m\u001b[0m\u001b[0m\n\u001b[0;32m---> 10\u001b[0;31m \u001b[0;32mprint\u001b[0m \u001b[0ms\u001b[0m\u001b[0;34m\u001b[0m\u001b[0m\n\u001b[0m",
      "\u001b[0;31mNameError\u001b[0m: name 's' is not defined"
     ]
    }
   ],
   "source": [
    "\n",
    "\n",
    "def f(): \n",
    "    s = \"Perl\" # 로컬 변수 생성\n",
    "    print(s) \n",
    "\n",
    "\n",
    "f()\n",
    "\n",
    "print s"
   ]
  },
  {
   "cell_type": "code",
   "execution_count": 35,
   "metadata": {
    "collapsed": false
   },
   "outputs": [
    {
     "name": "stdout",
     "output_type": "stream",
     "text": [
      "test\n"
     ]
    },
    {
     "ename": "UnboundLocalError",
     "evalue": "local variable 's' referenced before assignment",
     "output_type": "error",
     "traceback": [
      "\u001b[0;31m---------------------------------------------------------------------------\u001b[0m",
      "\u001b[0;31mUnboundLocalError\u001b[0m                         Traceback (most recent call last)",
      "\u001b[0;32m<ipython-input-35-97cd301cb56d>\u001b[0m in \u001b[0;36m<module>\u001b[0;34m()\u001b[0m\n\u001b[1;32m      7\u001b[0m \u001b[0;34m\u001b[0m\u001b[0m\n\u001b[1;32m      8\u001b[0m \u001b[0ms\u001b[0m \u001b[0;34m=\u001b[0m \u001b[0;34m\"Python\"\u001b[0m\u001b[0;34m\u001b[0m\u001b[0m\n\u001b[0;32m----> 9\u001b[0;31m \u001b[0mf\u001b[0m\u001b[0;34m(\u001b[0m\u001b[0;34m)\u001b[0m\u001b[0;34m\u001b[0m\u001b[0m\n\u001b[0m\u001b[1;32m     10\u001b[0m \u001b[0;32mprint\u001b[0m \u001b[0ms\u001b[0m\u001b[0;34m\u001b[0m\u001b[0m\n",
      "\u001b[0;32m<ipython-input-35-97cd301cb56d>\u001b[0m in \u001b[0;36mf\u001b[0;34m()\u001b[0m\n\u001b[1;32m      1\u001b[0m \u001b[0;32mdef\u001b[0m \u001b[0mf\u001b[0m\u001b[0;34m(\u001b[0m\u001b[0;34m)\u001b[0m\u001b[0;34m:\u001b[0m\u001b[0;34m\u001b[0m\u001b[0m\n\u001b[1;32m      2\u001b[0m     \u001b[0;32mprint\u001b[0m \u001b[0;34m'test'\u001b[0m\u001b[0;34m\u001b[0m\u001b[0m\n\u001b[0;32m----> 3\u001b[0;31m     \u001b[0;32mprint\u001b[0m \u001b[0ms\u001b[0m \u001b[0;31m# 한 스코프 내에 동시에 글로벌 변수와 로컬 변수가 존재 할 수 없다.\u001b[0m\u001b[0;34m\u001b[0m\u001b[0m\n\u001b[0m\u001b[1;32m      4\u001b[0m     \u001b[0ms\u001b[0m \u001b[0;34m=\u001b[0m \u001b[0;34m\"Perl\"\u001b[0m\u001b[0;34m\u001b[0m\u001b[0m\n\u001b[1;32m      5\u001b[0m     \u001b[0;32mprint\u001b[0m \u001b[0ms\u001b[0m\u001b[0;34m\u001b[0m\u001b[0m\n",
      "\u001b[0;31mUnboundLocalError\u001b[0m: local variable 's' referenced before assignment"
     ]
    }
   ],
   "source": [
    "def f(): \n",
    "    print 'test'\n",
    "    print s # 한 스코프 내에 동시에 글로벌 변수와 로컬 변수가 존재 할 수 없다.\n",
    "    s = \"Perl\"\n",
    "    print s\n",
    "\n",
    "\n",
    "s = \"Python\" \n",
    "f()\n",
    "print s"
   ]
  },
  {
   "cell_type": "code",
   "execution_count": 2,
   "metadata": {
    "collapsed": false
   },
   "outputs": [
    {
     "name": "stdout",
     "output_type": "stream",
     "text": [
      "cat\n",
      "cat\n",
      "dog\n",
      "dog\n"
     ]
    }
   ],
   "source": [
    "def f():\n",
    "    global s # 명시적으로 global variable 임을 명시 해야 함\n",
    "    print s\n",
    "    s = \"dog\"\n",
    "    print s \n",
    "    \n",
    "s = \"cat\" \n",
    "print s\n",
    "f()\n",
    "print s"
   ]
  },
  {
   "cell_type": "markdown",
   "metadata": {},
   "source": [
    "* 연습문제 \n",
    " 1. 섭씨 온도를 입력받아, 화씨 온도로 변환하는 함수를 만들고, 섭씨 36.5의 화씨 값을 출력하세요. 화씨 = 섭씨x1.8 + 32\n",
    " 2. 숫자로 이루어진 리스트를 입력 받아, 그 수 중 홀수인 경우만 합하여 반환하는 함수를 만드세요.\n",
    " 3. 숫자로 이루어진 리스트를 입력 받아, 그 수 중 가장 큰 수를 반환하는 함수를 만드세요.\n",
    " 4. 문자열을 입력받아 거꾸로된 문자열을 반환하는 함수를 만드세요. \n",
    " 5. 숫자를 입력 받아 factorial을 반환하는 함수를 만드세요. 5! = factorial(5) = 5x4x3x2x1\n",
    " 6. 숫자로 이루어진 리스트를 입력 받아, 중복을 제거한 리스트만 반환하는 함수를 만드세요. 반환되는 리스트의 순서는 관계 없음 [1,1, 2, 3, 3, 2, 4] -> [1, 2, 3, 4]\n",
    " 7. 숫자로 이루어진 리스트를 입력 받아, 특정 숫자를 검색하는 함수를 만드세요. 없는 경우 -1 반환\n",
    " 8. 정렬된 숫자로 이루어진 리스트를 입력 받아, 이진탐색으로 특정 숫자를 검색하는 함수를 만드세요. 없는 경우 -1 반환 (설명 예정)"
   ]
  },
  {
   "cell_type": "code",
   "execution_count": 87,
   "metadata": {
    "collapsed": false
   },
   "outputs": [
    {
     "name": "stdout",
     "output_type": "stream",
     "text": [
      "97.7\n"
     ]
    }
   ],
   "source": [
    "def c_to_f(c):\n",
    "    f = 1.8 * c + 32\n",
    "    return f\n",
    "    \n",
    "print c_to_f(36.5)"
   ]
  },
  {
   "cell_type": "code",
   "execution_count": 39,
   "metadata": {
    "collapsed": false
   },
   "outputs": [
    {
     "name": "stdout",
     "output_type": "stream",
     "text": [
      "280\n",
      "280\n"
     ]
    }
   ],
   "source": [
    "def odd_sum(nums):\n",
    "    odd_sum = 0\n",
    "    for i in nums:\n",
    "        if i % 2 == 1:\n",
    "            odd_sum += i\n",
    "    return odd_sum\n",
    "\n",
    "def odd_sum2(nums):\n",
    "    return sum([i for i in nums if i % 2 == 1])\n",
    "\n",
    "a = [1, 2, 3, 7, 8, 10, 11, 13, 15, 29, 100, 201, 300]\n",
    "\n",
    "print odd_sum(a)\n",
    "print odd_sum2(a)"
   ]
  },
  {
   "cell_type": "code",
   "execution_count": 40,
   "metadata": {
    "collapsed": false
   },
   "outputs": [
    {
     "name": "stdout",
     "output_type": "stream",
     "text": [
      "300\n",
      "30\n"
     ]
    }
   ],
   "source": [
    "def max_val(nums):\n",
    "    mval = nums[0]\n",
    "    for i in nums:\n",
    "        if mval < i:\n",
    "            mval = i\n",
    "            \n",
    "    return mval\n",
    "\n",
    "print max_val(a)\n",
    "\n",
    "b = [30, 1, 2, 4, 7, 9]\n",
    "\n",
    "print max_val(b)"
   ]
  },
  {
   "cell_type": "code",
   "execution_count": 96,
   "metadata": {
    "collapsed": false
   },
   "outputs": [
    {
     "data": {
      "text/plain": [
       "720"
      ]
     },
     "execution_count": 96,
     "metadata": {},
     "output_type": "execute_result"
    }
   ],
   "source": [
    "def factorial(n):\n",
    "    mul = 1\n",
    "    for i in range(1, n+1):\n",
    "        mul *= i\n",
    "    return mul\n",
    "\n",
    "factorial(6)"
   ]
  },
  {
   "cell_type": "code",
   "execution_count": null,
   "metadata": {
    "collapsed": true
   },
   "outputs": [],
   "source": [
    "def remove_dup(nums):\n",
    "    return list(set(nums))\n",
    "\n",
    "def remove_dup2(nums):\n",
    "    ret = []\n",
    "    for i in nums:\n",
    "        if not  i in ret:\n",
    "            ret.append(i)\n",
    "    return ret\n",
    "        "
   ]
  },
  {
   "cell_type": "code",
   "execution_count": null,
   "metadata": {
    "collapsed": true
   },
   "outputs": [],
   "source": [
    "def reverse_str(string):\n",
    "    new_str = ''\n",
    "    i = len(string) - 1\n",
    "    \n",
    "    while i >= 0:\n",
    "        new_str += string[i]\n",
    "        i -= 1\n",
    "    return new_str"
   ]
  },
  {
   "cell_type": "code",
   "execution_count": null,
   "metadata": {
    "collapsed": true
   },
   "outputs": [],
   "source": [
    "def linear_search(nums, x):\n",
    "    for i, val in enumerate(nums):\n",
    "        if val == x:\n",
    "            return i\n",
    "    return -1"
   ]
  },
  {
   "cell_type": "code",
   "execution_count": 85,
   "metadata": {
    "collapsed": false
   },
   "outputs": [
    {
     "name": "stdout",
     "output_type": "stream",
     "text": [
      "5\n",
      "0\n",
      "10\n",
      "-1\n"
     ]
    }
   ],
   "source": [
    "# 구현은 다음 시간에 드리겠습니다."
   ]
  },
  {
   "cell_type": "markdown",
   "metadata": {},
   "source": [
    "+ variable length argument (가변길이 인자) \n",
    " > ***args**,  ****kwargs**"
   ]
  },
  {
   "cell_type": "code",
   "execution_count": 42,
   "metadata": {
    "collapsed": false
   },
   "outputs": [
    {
     "name": "stdout",
     "output_type": "stream",
     "text": [
      "5 4 3\n"
     ]
    }
   ],
   "source": [
    "print 4, 3\n",
    "\n"
   ]
  },
  {
   "cell_type": "code",
   "execution_count": 43,
   "metadata": {
    "collapsed": false
   },
   "outputs": [
    {
     "name": "stdout",
     "output_type": "stream",
     "text": [
      "formal arg: 1\n",
      "<type 'tuple'>\n",
      "another arg: two\n",
      "another arg: three\n",
      "------------------------------\n",
      "formal arg: 1\n",
      "<type 'tuple'>\n",
      "another arg: two\n",
      "------------------------------\n",
      "formal arg: 1\n",
      "<type 'tuple'>\n"
     ]
    }
   ],
   "source": [
    "def test_var_args(*args, **kwargs):\n",
    "    print \"formal arg:\", farg\n",
    "    print type(args)\n",
    "    \n",
    "    for arg in args:\n",
    "        print \"another arg:\", arg\n",
    "\n",
    "test_var_args(1, \"two\", 'three')\n",
    "\n",
    "print '-' * 30\n",
    "\n",
    "test_var_args(1, 'two')\n",
    "\n",
    "print '-' * 30\n",
    "\n",
    "test_var_args(1)"
   ]
  },
  {
   "cell_type": "code",
   "execution_count": 70,
   "metadata": {
    "collapsed": true
   },
   "outputs": [
    {
     "name": "stdout",
     "output_type": "stream",
     "text": [
      "------------------------------\n"
     ]
    },
    {
     "ename": "TypeError",
     "evalue": "test_tuple_args() takes exactly 2 arguments (1 given)",
     "output_type": "error",
     "traceback": [
      "\u001b[0;31m---------------------------------------------------------------------------\u001b[0m",
      "\u001b[0;31mTypeError\u001b[0m                                 Traceback (most recent call last)",
      "\u001b[0;32m<ipython-input-70-3626ff658388>\u001b[0m in \u001b[0;36m<module>\u001b[0;34m()\u001b[0m\n\u001b[1;32m      8\u001b[0m \u001b[0;31m#test_tuple_args(1, (\"two\", 3))\u001b[0m\u001b[0;34m\u001b[0m\u001b[0;34m\u001b[0m\u001b[0m\n\u001b[1;32m      9\u001b[0m \u001b[0;32mprint\u001b[0m \u001b[0;34m'-'\u001b[0m \u001b[0;34m*\u001b[0m \u001b[0;36m30\u001b[0m\u001b[0;34m\u001b[0m\u001b[0m\n\u001b[0;32m---> 10\u001b[0;31m \u001b[0mtest_tuple_args\u001b[0m\u001b[0;34m(\u001b[0m\u001b[0;36m1\u001b[0m\u001b[0;34m)\u001b[0m\u001b[0;34m\u001b[0m\u001b[0m\n\u001b[0m",
      "\u001b[0;31mTypeError\u001b[0m: test_tuple_args() takes exactly 2 arguments (1 given)"
     ]
    }
   ],
   "source": [
    "def test_tuple_args(farg, tuple_args):\n",
    "    print \"formal arg:\", farg\n",
    "    print type(tuple_args)\n",
    "    for arg in tuple_args:\n",
    "        print \"another arg:\", arg\n",
    "\n",
    "#test_tuple_args(1, \"two\", 3) 인자의 개수가 맞지 않아 에러 발생\n",
    "\n",
    "\n",
    "test_tuple_args(1, (\"two\", 3))\n",
    "print '-' * 30\n",
    "\n",
    "\n",
    "#test_tuple_args(1) 인자의 개수가 맞지 않아 에러 발생"
   ]
  },
  {
   "cell_type": "code",
   "execution_count": 44,
   "metadata": {
    "collapsed": false
   },
   "outputs": [
    {
     "name": "stdout",
     "output_type": "stream",
     "text": [
      "formal arg: 1\n",
      "<type 'dict'>\n",
      "another keyword arg: myarg2: two\n",
      "another keyword arg: myarg3: 3\n"
     ]
    }
   ],
   "source": [
    "def test_var_kwargs(**kwargs):\n",
    "    print type(kwargs)\n",
    "    for key in kwargs:\n",
    "        print \"another keyword arg: %s: %s\" % (key, kwargs[key])\n",
    "\n",
    "test_var_kwargs(two = \"two\", three = 'three')"
   ]
  },
  {
   "cell_type": "markdown",
   "metadata": {},
   "source": [
    "* 호출 시 사용 방법"
   ]
  },
  {
   "cell_type": "code",
   "execution_count": 78,
   "metadata": {
    "collapsed": false
   },
   "outputs": [
    {
     "name": "stdout",
     "output_type": "stream",
     "text": [
      "arg1: 1\n",
      "arg2: two\n",
      "arg3: 3\n"
     ]
    }
   ],
   "source": [
    "def test_var_args_call(arg1, arg2, arg3):\n",
    "    print \"arg1:\", arg1\n",
    "    print \"arg2:\", arg2\n",
    "    print \"arg3:\", arg3\n",
    "\n",
    "args = (\"two\", 3)\n",
    "test_var_args_call(1, *args)"
   ]
  },
  {
   "cell_type": "code",
   "execution_count": 79,
   "metadata": {
    "collapsed": false
   },
   "outputs": [
    {
     "name": "stdout",
     "output_type": "stream",
     "text": [
      "arg1: 1\n",
      "arg2: two\n",
      "arg3: 3\n"
     ]
    }
   ],
   "source": [
    "def test_var_args_call(arg1, arg2, arg3):\n",
    "    print \"arg1:\", arg1\n",
    "    print \"arg2:\", arg2\n",
    "    print \"arg3:\", arg3\n",
    "\n",
    "kwargs = {\"arg3\": 3, \"arg2\": \"two\"}\n",
    "test_var_args_call(1, **kwargs)"
   ]
  },
  {
   "cell_type": "markdown",
   "metadata": {},
   "source": [
    "* e.g) 문자열 포맷 함수"
   ]
  },
  {
   "cell_type": "code",
   "execution_count": 45,
   "metadata": {
    "collapsed": false
   },
   "outputs": [
    {
     "name": "stdout",
     "output_type": "stream",
     "text": [
      "Hi my name is younghyo and the weather is clear\n"
     ]
    }
   ],
   "source": [
    "str1 = 'Hi my name is {} and the weather is {}'.format('younghyo', 'clear')\n",
    "print str1"
   ]
  },
  {
   "cell_type": "code",
   "execution_count": 48,
   "metadata": {
    "collapsed": false
   },
   "outputs": [
    {
     "name": "stdout",
     "output_type": "stream",
     "text": [
      "hello mike world pop\n",
      "hello world aaron\n",
      "Hello 100! my name is aaron 200\n",
      "Hello aaron! my name is bryan\n",
      "Hello ! my name is dafdaf\n",
      "Hello aaron 4454 cathy\n"
     ]
    }
   ],
   "source": [
    "aa = 'hello {} world {}'.format('mike', 'pop')\n",
    "print aa\n",
    "\n",
    "\n",
    "a = 'hello world {}'.format('aaron')\n",
    "print a\n",
    "\n",
    "b = 'Hello {}! my name is {} {}'.format(100, 'aaron', 200)\n",
    "print b\n",
    "\n",
    "b = 'Hello {1}! my name is {0}'.format('bryan', 'aaron')\n",
    "print b\n",
    "\n",
    "#b = 'Hello {}! my name is {} {}'.format('bryan', 'aaron')\n",
    "#print b\n",
    "\n",
    "abc = ''\n",
    "ddd = 'dafdaf'\n",
    "\n",
    "c = 'Hello {aa}! my name is {bb}'.format(aa = abc, bb = ddd)\n",
    "print c\n",
    "\n",
    "\n",
    "d = 'Hello %s %d %s' % ('aaron', 4454, 'cathy')\n",
    "print d"
   ]
  },
  {
   "cell_type": "markdown",
   "metadata": {},
   "source": [
    "* 1st class citizen\n",
    " + 모든 것이 객체(object)다!\n",
    " + 숫자, 문자열, 튜플, 리스트, 딕셔너리 등등\n",
    " + 그리고 함수를 포함함\n",
    " + 1st class citizen이라 함은 함수를 변수에 할당 할 수 있고, 다른 함수의 인자로 전달 가능하며, 함수를 반환할 수 있다는 뜻."
   ]
  },
  {
   "cell_type": "code",
   "execution_count": 108,
   "metadata": {
    "collapsed": false
   },
   "outputs": [
    {
     "name": "stdout",
     "output_type": "stream",
     "text": [
      "23\n",
      "<function test1 at 0x10c285d70> <type 'function'>\n",
      "23\n"
     ]
    }
   ],
   "source": [
    "def test1():\n",
    "    print 23\n",
    "    \n",
    "def run_something(func):\n",
    "    func()\n",
    "    \n",
    "test2 = test1\n",
    "test2()\n",
    "\n",
    "print test1, type(test1)\n",
    "run_something(test1)\n",
    "\n",
    "\n",
    "\n",
    "def bubble_sort():\n",
    "    pass\n",
    "\n",
    "def quick_sort():\n",
    "    pass\n",
    "\n",
    "def sort(sort_method):\n",
    "    return sort_method()\n",
    "\n",
    "\n",
    "sort(bubble_sort)\n",
    "sort(quick_sort)\n",
    "    \n"
   ]
  },
  {
   "cell_type": "markdown",
   "metadata": {},
   "source": [
    "## Recursive Function"
   ]
  },
  {
   "cell_type": "markdown",
   "metadata": {},
   "source": [
    "* 재귀함수\n",
    "* 내부적으로 자기 자신을 호출함\n",
    "* 점화식으로 표현되는 모든 수식을 간결히 표현할 수 있음\n",
    "* 종료조건이 꼭! 필요함 (명시하지 않으면 무한 호출반복)\n",
    "* 코드는 간결하나, 호출에 따른 오버헤드가 큼)\n"
   ]
  },
  {
   "cell_type": "code",
   "execution_count": 51,
   "metadata": {
    "collapsed": false
   },
   "outputs": [],
   "source": [
    "# factorial을 다시 작성해 봅시다.\n",
    "def factorial(n):\n",
    "    mul = 1\n",
    "    for i in range(2, n+1):\n",
    "        mul *= i\n",
    "        \n",
    "    return mul\n",
    "\n",
    "\n",
    "assert(factorial(5) == 120)\n",
    "assert(factorial(4) == 24)\n",
    "assert(factorial(1) == 1)\n",
    "\n"
   ]
  },
  {
   "cell_type": "code",
   "execution_count": 52,
   "metadata": {
    "collapsed": true
   },
   "outputs": [],
   "source": [
    "def rf(n):\n",
    "    if n == 0:\n",
    "        return 1\n",
    "    \n",
    "    return n * rf(n-1)\n",
    "\n",
    "assert(rf(5) == 120)\n",
    "assert(rf(4) == 24)\n",
    "assert(rf(1) == 1)"
   ]
  },
  {
   "cell_type": "code",
   "execution_count": 53,
   "metadata": {
    "collapsed": false
   },
   "outputs": [
    {
     "name": "stdout",
     "output_type": "stream",
     "text": [
      "10 loops, best of 3: 20 ms per loop\n"
     ]
    }
   ],
   "source": [
    "%timeit factorial(10000)"
   ]
  },
  {
   "cell_type": "code",
   "execution_count": 54,
   "metadata": {
    "collapsed": false
   },
   "outputs": [
    {
     "name": "stdout",
     "output_type": "stream",
     "text": [
      "10 loops, best of 3: 23.8 ms per loop\n"
     ]
    }
   ],
   "source": [
    "import sys\n",
    "sys.setrecursionlimit(200000)\n",
    "%timeit rf(10000)"
   ]
  },
  {
   "cell_type": "code",
   "execution_count": 55,
   "metadata": {
    "collapsed": false
   },
   "outputs": [
    {
     "name": "stdout",
     "output_type": "stream",
     "text": [
      "610\n",
      "100000 loops, best of 3: 3.93 µs per loop\n"
     ]
    }
   ],
   "source": [
    "def fibonacci(n):\n",
    "    fibo = [1, 1]\n",
    "    for i in range(2, n):\n",
    "        fibo.append(fibo[i-1] + fibo[i-2])\n",
    "\n",
    "    return fibo[-1]\n",
    "\n",
    "print fibonacci(15)\n",
    "%timeit fibonacci(20)"
   ]
  },
  {
   "cell_type": "code",
   "execution_count": 56,
   "metadata": {
    "collapsed": false
   },
   "outputs": [
    {
     "name": "stdout",
     "output_type": "stream",
     "text": [
      "610\n",
      "1000 loops, best of 3: 1.6 ms per loop\n"
     ]
    }
   ],
   "source": [
    "def recursive_fibonacci(n):\n",
    "    if n == 1 or n == 2:\n",
    "        return 1\n",
    "    \n",
    "    return recursive_fibonacci(n-1) + recursive_fibonacci(n-2)\n",
    "\n",
    "print recursive_fibonacci(15)\n",
    "%timeit recursive_fibonacci(20)"
   ]
  },
  {
   "cell_type": "markdown",
   "metadata": {},
   "source": [
    "* memozation"
   ]
  },
  {
   "cell_type": "code",
   "execution_count": 57,
   "metadata": {
    "collapsed": false
   },
   "outputs": [
    {
     "name": "stdout",
     "output_type": "stream",
     "text": [
      "610\n",
      "The slowest run took 63.74 times longer than the fastest. This could mean that an intermediate result is being cached.\n",
      "10000000 loops, best of 3: 138 ns per loop\n"
     ]
    }
   ],
   "source": [
    "fib_cache = {}\n",
    "def recursive_fibonacci_memo(n):\n",
    "    if n in fib_cache:\n",
    "        return fib_cache[n]\n",
    "    else:\n",
    "        if n == 1 or n == 2:\n",
    "            fib_cache[n] = 1\n",
    "        else:\n",
    "            fib_cache[n] =  recursive_fibonacci_memo(n-2) + recursive_fibonacci_memo(n-1)\n",
    "            \n",
    "        return fib_cache[n]\n",
    "\n",
    "print recursive_fibonacci_memo(15)\n",
    "%timeit recursive_fibonacci_memo(20)"
   ]
  },
  {
   "cell_type": "markdown",
   "metadata": {},
   "source": [
    "* recursive function 연습문제\n",
    " 1. 숫자 리스트를 인자로 받아 그 숫자의 합을 구하는 재귀함수를 작성하시오.\n",
    " 2. 숫자를 입력받아 각 자리수의 합을 구하는 재귀함수를 작성하시오.\n",
    " 3. 주어진 두 수의 최대 공약수를 찾는 재귀함수를 작성하시오.\n",
    "    A와 B의 최대 공약수는 B와 A%B의 최대 공약수와 같다."
   ]
  },
  {
   "cell_type": "code",
   "execution_count": null,
   "metadata": {
    "collapsed": true
   },
   "outputs": [],
   "source": []
  },
  {
   "cell_type": "code",
   "execution_count": null,
   "metadata": {
    "collapsed": true
   },
   "outputs": [],
   "source": []
  }
 ],
 "metadata": {
  "kernelspec": {
   "display_name": "Python 2",
   "language": "python",
   "name": "python2"
  },
  "language_info": {
   "codemirror_mode": {
    "name": "ipython",
    "version": 2
   },
   "file_extension": ".py",
   "mimetype": "text/x-python",
   "name": "python",
   "nbconvert_exporter": "python",
   "pygments_lexer": "ipython2",
   "version": "2.7.13"
  }
 },
 "nbformat": 4,
 "nbformat_minor": 1
}
