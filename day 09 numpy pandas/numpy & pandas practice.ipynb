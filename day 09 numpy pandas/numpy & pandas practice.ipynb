{
 "cells": [
  {
   "cell_type": "markdown",
   "metadata": {},
   "source": [
    "## numpy"
   ]
  },
  {
   "cell_type": "code",
   "execution_count": 10,
   "metadata": {
    "collapsed": false,
    "scrolled": true
   },
   "outputs": [
    {
     "name": "stdout",
     "output_type": "stream",
     "text": [
      "[[2 3 4]\n",
      " [3 4 5]\n",
      " [4 5 6]]\n",
      "[[1 2 3]\n",
      " [2 3 4]\n",
      " [3 4 5]]\n"
     ]
    }
   ],
   "source": [
    "import numpy as np\n",
    "\n",
    "arr1 = np.array([[1,2,3], [2,3,4], [3,4,5]])\n",
    "arr2 = np.array([[1,1,1], [1,1,1], [1,1,1]])\n",
    "\n",
    "print arr1 + arr2\n",
    "print arr1 * arr2\n"
   ]
  },
  {
   "cell_type": "code",
   "execution_count": 18,
   "metadata": {
    "collapsed": false
   },
   "outputs": [
    {
     "name": "stdout",
     "output_type": "stream",
     "text": [
      "[1 2 3 4 5 6 7 8 9]\n",
      "[[ 0.  0.  0.  0.]\n",
      " [ 0.  0.  0.  0.]\n",
      " [ 0.  0.  0.  0.]\n",
      " [ 0.  0.  0.  0.]]\n",
      "[[ 1.  1.  1.  1.]\n",
      " [ 1.  1.  1.  1.]\n",
      " [ 1.  1.  1.  1.]\n",
      " [ 1.  1.  1.  1.]]\n"
     ]
    }
   ],
   "source": [
    "arr3 = np.arange(1,10)\n",
    "print(arr3)\n",
    "\n",
    "print np.zeros((4,4))\n",
    "print np.ones((4,4))"
   ]
  },
  {
   "cell_type": "code",
   "execution_count": 41,
   "metadata": {
    "collapsed": false
   },
   "outputs": [
    {
     "name": "stdout",
     "output_type": "stream",
     "text": [
      "[[ 0.58891388  0.20189882]\n",
      " [ 0.70337127  0.21969226]]\n",
      "\n",
      "[[ 1.55477274 -0.35452496]\n",
      " [-0.98796198 -0.07289024]]\n",
      "\n",
      "[2 2 3 2 3]\n"
     ]
    }
   ],
   "source": [
    "print np.random.rand(2,2)\n",
    "print\n",
    "print np.random.randn(2,2)\n",
    "print\n",
    "print np.random.randint(2,4,5) #randint(low, high=None, size=None, dtype='l')\n"
   ]
  },
  {
   "cell_type": "code",
   "execution_count": 57,
   "metadata": {
    "collapsed": false,
    "scrolled": true
   },
   "outputs": [
    {
     "name": "stdout",
     "output_type": "stream",
     "text": [
      "[[-1.02963517 -2.17220666 -0.11782192 -0.65497757]\n",
      " [-0.18953986 -0.0709924   0.42442585 -0.77893278]\n",
      " [-1.20560797  1.43956293  0.47724478 -0.06073908]\n",
      " [-0.502897    0.42428334  1.20344099  0.73430467]]\n",
      "\n",
      "[[ 0.47724478 -0.06073908]\n",
      " [ 1.20344099  0.73430467]]\n"
     ]
    }
   ],
   "source": [
    "arr4 = np.random.randn(4,4)\n",
    "print arr4\n",
    "print\n",
    "print arr4[2: , 2:]"
   ]
  },
  {
   "cell_type": "code",
   "execution_count": 59,
   "metadata": {
    "collapsed": false,
    "scrolled": false
   },
   "outputs": [
    {
     "name": "stdout",
     "output_type": "stream",
     "text": [
      "[[False False False False]\n",
      " [False False  True False]\n",
      " [False  True  True False]\n",
      " [False  True  True  True]]\n",
      "\n",
      "[ 0.42442585  1.43956293  0.47724478  0.42428334  1.20344099  0.73430467]\n",
      "\n",
      "[ 0.42442585  1.43956293  0.47724478  0.42428334  1.20344099  0.73430467]\n"
     ]
    }
   ],
   "source": [
    "positive_mask = (arr4 > 0)\n",
    "print positive_mask\n",
    "print\n",
    "print arr4[positive_mask]\n",
    "print\n",
    "print arr4[arr4 > 0]"
   ]
  },
  {
   "cell_type": "code",
   "execution_count": 64,
   "metadata": {
    "collapsed": false
   },
   "outputs": [
    {
     "name": "stdout",
     "output_type": "stream",
     "text": [
      "[ 2  4  6  8 10]\n",
      "[ 2  8 18 32 50]\n"
     ]
    }
   ],
   "source": [
    "arr = np.arange(1,6) * 2\n",
    "print arr\n",
    "\n",
    "arr2 = np.arange(1,6)\n",
    "print arr * arr2"
   ]
  },
  {
   "cell_type": "code",
   "execution_count": 65,
   "metadata": {
    "collapsed": false
   },
   "outputs": [
    {
     "name": "stdout",
     "output_type": "stream",
     "text": [
      "3.1492\n"
     ]
    }
   ],
   "source": [
    "import numpy as np\n",
    "\n",
    "def mathPi(n):\n",
    "    plots = np.random.rand(n, 2)\n",
    "    plots_sum = np.sum(plots ** 2, axis = 1)\n",
    "    plots_inside = np.sum(plots_sum <= 1)\n",
    "    pi = 4 * plots_inside / float(n)\n",
    "    return pi\n",
    "\n",
    "print mathPi(10000)"
   ]
  },
  {
   "cell_type": "code",
   "execution_count": null,
   "metadata": {
    "collapsed": true
   },
   "outputs": [],
   "source": []
  },
  {
   "cell_type": "markdown",
   "metadata": {},
   "source": [
    "## pandas"
   ]
  },
  {
   "cell_type": "code",
   "execution_count": 16,
   "metadata": {
    "collapsed": false,
    "scrolled": true
   },
   "outputs": [
    {
     "name": "stdout",
     "output_type": "stream",
     "text": [
      "0    A\n",
      "1    B\n",
      "dtype: object\n",
      "B\n",
      "RangeIndex(start=0, stop=10, step=1)\n",
      "[ 1  2  3  4  5  6  7  8  9 10]\n"
     ]
    },
    {
     "ename": "ValueError",
     "evalue": "Wrong number of items passed 10, placement implies 2",
     "output_type": "error",
     "traceback": [
      "\u001b[0;31m---------------------------------------------------------------------------\u001b[0m",
      "\u001b[0;31mValueError\u001b[0m                                Traceback (most recent call last)",
      "\u001b[0;32m<ipython-input-16-14ec5916458a>\u001b[0m in \u001b[0;36m<module>\u001b[0;34m()\u001b[0m\n\u001b[1;32m     11\u001b[0m \u001b[1;32mprint\u001b[0m \u001b[0ms3\u001b[0m\u001b[1;33m.\u001b[0m\u001b[0mvalues\u001b[0m\u001b[1;33m\u001b[0m\u001b[0m\n\u001b[1;32m     12\u001b[0m \u001b[1;33m\u001b[0m\u001b[0m\n\u001b[0;32m---> 13\u001b[0;31m \u001b[0ms4\u001b[0m \u001b[1;33m=\u001b[0m \u001b[0mpd\u001b[0m\u001b[1;33m.\u001b[0m\u001b[0mSeries\u001b[0m\u001b[1;33m(\u001b[0m\u001b[0mrange\u001b[0m\u001b[1;33m(\u001b[0m\u001b[1;36m1\u001b[0m\u001b[1;33m,\u001b[0m\u001b[1;36m11\u001b[0m\u001b[1;33m)\u001b[0m\u001b[1;33m,\u001b[0m \u001b[0mindex\u001b[0m \u001b[1;33m=\u001b[0m \u001b[1;33m[\u001b[0m\u001b[1;34m\"A\"\u001b[0m\u001b[1;33m,\u001b[0m\u001b[1;34m\"B\"\u001b[0m\u001b[1;33m]\u001b[0m\u001b[1;33m)\u001b[0m \u001b[1;31m#index와 values의 길이가 안맞아서 에러!\u001b[0m\u001b[1;33m\u001b[0m\u001b[0m\n\u001b[0m",
      "\u001b[0;32mc:\\python27\\lib\\site-packages\\pandas\\core\\series.pyc\u001b[0m in \u001b[0;36m__init__\u001b[0;34m(self, data, index, dtype, name, copy, fastpath)\u001b[0m\n\u001b[1;32m    243\u001b[0m                                        raise_cast_failure=True)\n\u001b[1;32m    244\u001b[0m \u001b[1;33m\u001b[0m\u001b[0m\n\u001b[0;32m--> 245\u001b[0;31m                 \u001b[0mdata\u001b[0m \u001b[1;33m=\u001b[0m \u001b[0mSingleBlockManager\u001b[0m\u001b[1;33m(\u001b[0m\u001b[0mdata\u001b[0m\u001b[1;33m,\u001b[0m \u001b[0mindex\u001b[0m\u001b[1;33m,\u001b[0m \u001b[0mfastpath\u001b[0m\u001b[1;33m=\u001b[0m\u001b[0mTrue\u001b[0m\u001b[1;33m)\u001b[0m\u001b[1;33m\u001b[0m\u001b[0m\n\u001b[0m\u001b[1;32m    246\u001b[0m \u001b[1;33m\u001b[0m\u001b[0m\n\u001b[1;32m    247\u001b[0m         \u001b[0mgeneric\u001b[0m\u001b[1;33m.\u001b[0m\u001b[0mNDFrame\u001b[0m\u001b[1;33m.\u001b[0m\u001b[0m__init__\u001b[0m\u001b[1;33m(\u001b[0m\u001b[0mself\u001b[0m\u001b[1;33m,\u001b[0m \u001b[0mdata\u001b[0m\u001b[1;33m,\u001b[0m \u001b[0mfastpath\u001b[0m\u001b[1;33m=\u001b[0m\u001b[0mTrue\u001b[0m\u001b[1;33m)\u001b[0m\u001b[1;33m\u001b[0m\u001b[0m\n",
      "\u001b[0;32mc:\\python27\\lib\\site-packages\\pandas\\core\\internals.pyc\u001b[0m in \u001b[0;36m__init__\u001b[0;34m(self, block, axis, do_integrity_check, fastpath)\u001b[0m\n\u001b[1;32m   4068\u001b[0m         \u001b[1;32mif\u001b[0m \u001b[1;32mnot\u001b[0m \u001b[0misinstance\u001b[0m\u001b[1;33m(\u001b[0m\u001b[0mblock\u001b[0m\u001b[1;33m,\u001b[0m \u001b[0mBlock\u001b[0m\u001b[1;33m)\u001b[0m\u001b[1;33m:\u001b[0m\u001b[1;33m\u001b[0m\u001b[0m\n\u001b[1;32m   4069\u001b[0m             block = make_block(block, placement=slice(0, len(axis)), ndim=1,\n\u001b[0;32m-> 4070\u001b[0;31m                                fastpath=True)\n\u001b[0m\u001b[1;32m   4071\u001b[0m \u001b[1;33m\u001b[0m\u001b[0m\n\u001b[1;32m   4072\u001b[0m         \u001b[0mself\u001b[0m\u001b[1;33m.\u001b[0m\u001b[0mblocks\u001b[0m \u001b[1;33m=\u001b[0m \u001b[1;33m[\u001b[0m\u001b[0mblock\u001b[0m\u001b[1;33m]\u001b[0m\u001b[1;33m\u001b[0m\u001b[0m\n",
      "\u001b[0;32mc:\\python27\\lib\\site-packages\\pandas\\core\\internals.pyc\u001b[0m in \u001b[0;36mmake_block\u001b[0;34m(values, placement, klass, ndim, dtype, fastpath)\u001b[0m\n\u001b[1;32m   2683\u001b[0m                      placement=placement, dtype=dtype)\n\u001b[1;32m   2684\u001b[0m \u001b[1;33m\u001b[0m\u001b[0m\n\u001b[0;32m-> 2685\u001b[0;31m     \u001b[1;32mreturn\u001b[0m \u001b[0mklass\u001b[0m\u001b[1;33m(\u001b[0m\u001b[0mvalues\u001b[0m\u001b[1;33m,\u001b[0m \u001b[0mndim\u001b[0m\u001b[1;33m=\u001b[0m\u001b[0mndim\u001b[0m\u001b[1;33m,\u001b[0m \u001b[0mfastpath\u001b[0m\u001b[1;33m=\u001b[0m\u001b[0mfastpath\u001b[0m\u001b[1;33m,\u001b[0m \u001b[0mplacement\u001b[0m\u001b[1;33m=\u001b[0m\u001b[0mplacement\u001b[0m\u001b[1;33m)\u001b[0m\u001b[1;33m\u001b[0m\u001b[0m\n\u001b[0m\u001b[1;32m   2686\u001b[0m \u001b[1;33m\u001b[0m\u001b[0m\n\u001b[1;32m   2687\u001b[0m \u001b[1;31m# TODO: flexible with index=None and/or items=None\u001b[0m\u001b[1;33m\u001b[0m\u001b[1;33m\u001b[0m\u001b[0m\n",
      "\u001b[0;32mc:\\python27\\lib\\site-packages\\pandas\\core\\internals.pyc\u001b[0m in \u001b[0;36m__init__\u001b[0;34m(self, values, placement, ndim, fastpath)\u001b[0m\n\u001b[1;32m    107\u001b[0m             raise ValueError('Wrong number of items passed %d, placement '\n\u001b[1;32m    108\u001b[0m                              'implies %d' % (len(self.values),\n\u001b[0;32m--> 109\u001b[0;31m                                              len(self.mgr_locs)))\n\u001b[0m\u001b[1;32m    110\u001b[0m \u001b[1;33m\u001b[0m\u001b[0m\n\u001b[1;32m    111\u001b[0m     \u001b[1;33m@\u001b[0m\u001b[0mproperty\u001b[0m\u001b[1;33m\u001b[0m\u001b[0m\n",
      "\u001b[0;31mValueError\u001b[0m: Wrong number of items passed 10, placement implies 2"
     ]
    }
   ],
   "source": [
    "import pandas as pd\n",
    "import numpy as nd\n",
    "\n",
    "s1 = pd.Series((\"A\",\"B\"))\n",
    "print s1\n",
    "print s1[1]\n",
    "\n",
    "s2 = pd.Series(range(1,11))\n",
    "print s2.index\n",
    "\n",
    "s3 = pd.Series(nd.arange(1,11))\n",
    "print s3.values\n",
    "\n",
    "s4 = pd.Series(range(1,11), index = [\"A\",\"B\"]) #index와 values의 길이가 안맞아서 에러!"
   ]
  },
  {
   "cell_type": "code",
   "execution_count": 21,
   "metadata": {
    "collapsed": false,
    "scrolled": true
   },
   "outputs": [
    {
     "name": "stdout",
     "output_type": "stream",
     "text": [
      "a    1\n",
      "b    2\n",
      "c    3\n",
      "d    4\n",
      "dtype: int64\n",
      "a    11\n",
      "b    12\n",
      "c    13\n",
      "d    14\n",
      "dtype: int64\n",
      "a    100\n",
      "b     97\n",
      "c     86\n",
      "dtype: int64\n"
     ]
    }
   ],
   "source": [
    "s5 = pd.Series(range(1,5), index = [\"a\",\"b\",\"c\",\"d\"])\n",
    "print s5\n",
    "\n",
    "s6 = pd.Series(range(11,15), index = s5.index)\n",
    "print s6\n",
    "\n",
    "s7 = pd.Series({\"a\": 100, \"b\": 97, \"c\": 86})\n",
    "print s7"
   ]
  },
  {
   "cell_type": "code",
   "execution_count": 33,
   "metadata": {
    "collapsed": false,
    "scrolled": true
   },
   "outputs": [
    {
     "name": "stdout",
     "output_type": "stream",
     "text": [
      "1     0.0\n",
      "2     1.0\n",
      "3     1.0\n",
      "4     2.0\n",
      "5     3.0\n",
      "6     4.0\n",
      "7     5.0\n",
      "8     6.0\n",
      "9     7.0\n",
      "10    8.0\n",
      "11    NaN\n",
      "dtype: float64\n",
      "11 11\n",
      "(11,)\n",
      "10\n",
      "[  0.   1.   2.   3.   4.   5.   6.   7.   8.  nan]\n"
     ]
    }
   ],
   "source": [
    "import numpy as np\n",
    "s = pd.Series([0,1,1,2,3,4,5,6,7,8,np.nan], index = range(1,12))\n",
    "print s\n",
    "print len(s), s.size\n",
    "print s.shape\n",
    "print s.count()\n",
    "print s.unique()"
   ]
  },
  {
   "cell_type": "code",
   "execution_count": 48,
   "metadata": {
    "collapsed": false,
    "scrolled": true
   },
   "outputs": [
    {
     "name": "stdout",
     "output_type": "stream",
     "text": [
      "0    0.0\n",
      "6    4.0\n",
      "8    6.0\n",
      "dtype: float64\n",
      "7    5.0\n",
      "9    7.0\n",
      "dtype: float64\n",
      "7    5.0\n",
      "8    6.0\n",
      "9    7.0\n",
      "dtype: float64\n"
     ]
    }
   ],
   "source": [
    "s = pd.Series([0,1,1,2,3,3,4,5,6,7,8,np.nan])\n",
    "print s[[0,6,8]]\n",
    "\n",
    "print s.iloc[[7,9]]\n",
    "print s.iloc[range(7,10)]"
   ]
  },
  {
   "cell_type": "code",
   "execution_count": 51,
   "metadata": {
    "collapsed": false,
    "scrolled": true
   },
   "outputs": [
    {
     "name": "stdout",
     "output_type": "stream",
     "text": [
      "0     6\n",
      "2    10\n",
      "dtype: int64\n",
      "0   NaN\n",
      "1   NaN\n",
      "2   NaN\n",
      "3   NaN\n",
      "dtype: float64\n"
     ]
    }
   ],
   "source": [
    "s1 = pd.Series([1,2,3,4])\n",
    "s2 = pd.Series([5,6,7,8])\n",
    "print s1[[0,2]] + s2[[0,2]] # 짝지어서 계산되고\n",
    "print s1[[0,2]] + s2[[1,3]] # NaN"
   ]
  },
  {
   "cell_type": "code",
   "execution_count": 53,
   "metadata": {
    "collapsed": false,
    "scrolled": true
   },
   "outputs": [
    {
     "name": "stdout",
     "output_type": "stream",
     "text": [
      "0     1\n",
      "1     4\n",
      "2     9\n",
      "3    16\n",
      "dtype: int64\n",
      "0     1\n",
      "1     4\n",
      "2     9\n",
      "3    16\n",
      "dtype: int64\n"
     ]
    }
   ],
   "source": [
    "exp = pd.Series(2, range(4))\n",
    "print s1 ** 2\n",
    "print s1 ** exp"
   ]
  },
  {
   "cell_type": "code",
   "execution_count": 57,
   "metadata": {
    "collapsed": false
   },
   "outputs": [
    {
     "name": "stdout",
     "output_type": "stream",
     "text": [
      "0     1\n",
      "1     2\n",
      "2     3\n",
      "3     4\n",
      "4     5\n",
      "5     6\n",
      "6     7\n",
      "7     8\n",
      "8     9\n",
      "9    10\n",
      "dtype: int32\n",
      "0    False\n",
      "1    False\n",
      "2    False\n",
      "3    False\n",
      "4    False\n",
      "5     True\n",
      "6     True\n",
      "7     True\n",
      "8     True\n",
      "9     True\n",
      "dtype: bool\n",
      "5     6\n",
      "6     7\n",
      "7     8\n",
      "8     9\n",
      "9    10\n",
      "dtype: int32\n"
     ]
    }
   ],
   "source": [
    "s = pd.Series(np.arange(1,11))\n",
    "print s\n",
    "print s > 5\n",
    "print s[s > 5]"
   ]
  },
  {
   "cell_type": "code",
   "execution_count": 63,
   "metadata": {
    "collapsed": false,
    "scrolled": false
   },
   "outputs": [
    {
     "name": "stdout",
     "output_type": "stream",
     "text": [
      "False\n",
      "True\n",
      "5\n",
      "40\n"
     ]
    }
   ],
   "source": [
    "print (s > 5).all() # 모두 저 조건 만족해? False\n",
    "print (s > 5).any() # 하나라도 저 조건 만족해? True\n",
    "print (s > 5).sum()\n",
    "print s[s > 5].sum() #두개가 뭐가 다른지 이젠 잘 알아야지~"
   ]
  },
  {
   "cell_type": "code",
   "execution_count": 1,
   "metadata": {
    "collapsed": false,
    "scrolled": false
   },
   "outputs": [
    {
     "ename": "NameError",
     "evalue": "name 'pd' is not defined",
     "output_type": "error",
     "traceback": [
      "\u001b[0;31m---------------------------------------------------------------------------\u001b[0m",
      "\u001b[0;31mNameError\u001b[0m                                 Traceback (most recent call last)",
      "\u001b[0;32m<ipython-input-1-4f00b5ab4622>\u001b[0m in \u001b[0;36m<module>\u001b[0;34m()\u001b[0m\n\u001b[0;32m----> 1\u001b[0;31m \u001b[0ms1\u001b[0m \u001b[1;33m=\u001b[0m \u001b[0mpd\u001b[0m\u001b[1;33m.\u001b[0m\u001b[0mSeries\u001b[0m\u001b[1;33m(\u001b[0m\u001b[0mrange\u001b[0m\u001b[1;33m(\u001b[0m\u001b[1;36m1\u001b[0m\u001b[1;33m,\u001b[0m\u001b[1;36m11\u001b[0m\u001b[1;33m)\u001b[0m\u001b[1;33m,\u001b[0m \u001b[0mrange\u001b[0m\u001b[1;33m(\u001b[0m\u001b[1;36m1\u001b[0m\u001b[1;33m,\u001b[0m\u001b[1;36m11\u001b[0m\u001b[1;33m)\u001b[0m\u001b[1;33m)\u001b[0m\u001b[1;33m\u001b[0m\u001b[0m\n\u001b[0m\u001b[1;32m      2\u001b[0m \u001b[1;32mprint\u001b[0m \u001b[0ms1\u001b[0m\u001b[1;33m\u001b[0m\u001b[0m\n\u001b[1;32m      3\u001b[0m \u001b[0ms1\u001b[0m\u001b[1;33m[\u001b[0m\u001b[1;36m11\u001b[0m\u001b[1;33m]\u001b[0m \u001b[1;33m=\u001b[0m \u001b[1;36m11\u001b[0m\u001b[1;33m\u001b[0m\u001b[0m\n\u001b[1;32m      4\u001b[0m \u001b[1;32mprint\u001b[0m \u001b[0ms1\u001b[0m\u001b[1;33m\u001b[0m\u001b[0m\n\u001b[1;32m      5\u001b[0m \u001b[1;32mdel\u001b[0m \u001b[0ms1\u001b[0m\u001b[1;33m[\u001b[0m\u001b[1;36m7\u001b[0m\u001b[1;33m]\u001b[0m\u001b[1;33m\u001b[0m\u001b[0m\n",
      "\u001b[0;31mNameError\u001b[0m: name 'pd' is not defined"
     ]
    }
   ],
   "source": [
    "s1 = pd.Series(range(1,11), range(1,11))\n",
    "print s1\n",
    "s1[11] = 11\n",
    "print s1\n",
    "del s1[7]\n",
    "print s1"
   ]
  },
  {
   "cell_type": "code",
   "execution_count": 2,
   "metadata": {
    "collapsed": true
   },
   "outputs": [],
   "source": [
    "import numpy as np\n",
    "import pandas as pd"
   ]
  },
  {
   "cell_type": "code",
   "execution_count": 22,
   "metadata": {
    "collapsed": false,
    "scrolled": false
   },
   "outputs": [
    {
     "name": "stdout",
     "output_type": "stream",
     "text": [
      "    a   b\n",
      "0  10  11\n",
      "1  12  13\n",
      "(2, 2)\n",
      "<class 'pandas.core.frame.DataFrame'>\n",
      "RangeIndex: 2 entries, 0 to 1\n",
      "Data columns (total 2 columns):\n",
      "a    2 non-null int32\n",
      "b    2 non-null int32\n",
      "dtypes: int32(2)\n",
      "memory usage: 52.0 bytes\n",
      "\n",
      "a b\n",
      "RangeIndex(start=0, stop=2, step=1)\n",
      "   c1  c2\n",
      "0   1   6\n",
      "1   2   7\n",
      "2   3   8\n",
      "3   4   9\n",
      "4   5  10\n"
     ]
    }
   ],
   "source": [
    "df = pd.DataFrame(np.array([[10,11],[12,13]]), columns = [\"a\", \"b\"] )\n",
    "print df\n",
    "print df.shape\n",
    "df.info()\n",
    "df.describe()\n",
    "print\n",
    "print df.columns[0], df.columns[1]\n",
    "print df.index\n",
    "\n",
    "s1 = pd.Series(np.arange(1,6))\n",
    "s2 = pd.Series(np.arange(6,11))\n",
    "df1 = pd.DataFrame({\"c1\": s1, \"c2\": s2})\n",
    "print df1"
   ]
  },
  {
   "cell_type": "code",
   "execution_count": 30,
   "metadata": {
    "collapsed": false,
    "scrolled": true
   },
   "outputs": [
    {
     "name": "stdout",
     "output_type": "stream",
     "text": [
      "                       Name                  Sector   Price  Book Value\n",
      "Symbol                                                                 \n",
      "MMM              3M Company             Industrials  177.12       19.34\n",
      "ABT     Abbott Laboratories             Health Care   41.89       14.10\n",
      "ABBV                 AbbVie             Health Care   64.16        2.87\n",
      "ACN           Accenture plc  Information Technology  115.11       11.45\n",
      "ATVI    Activision Blizzard  Information Technology   41.29       11.31\n",
      "\n",
      "86.0443055556\n",
      "504\n",
      "Index([u'MMM', u'ABT', u'ABBV', u'ACN', u'ATVI', u'AYI', u'ADBE', u'AAP',\n",
      "       u'AES', u'AET',\n",
      "       ...\n",
      "       u'XEL', u'XRX', u'XLNX', u'XL', u'XYL', u'YHOO', u'YUM', u'ZBH',\n",
      "       u'ZION', u'ZTS'],\n",
      "      dtype='object', name=u'Symbol', length=504)\n",
      "Index([u'Name', u'Sector', u'Price', u'Book Value'], dtype='object')\n"
     ]
    }
   ],
   "source": [
    "sample_df = pd.read_csv(\"sample.csv\", index_col = \"Symbol\", usecols = [0,1,2,3,7])\n",
    "print sample_df.head()\n",
    "print\n",
    "print sample_df[\"Price\"].mean()\n",
    "print len(sample_df)\n",
    "print sample_df.index\n",
    "print sample_df.columns"
   ]
  },
  {
   "cell_type": "code",
   "execution_count": 38,
   "metadata": {
    "collapsed": false
   },
   "outputs": [
    {
     "name": "stdout",
     "output_type": "stream",
     "text": [
      "        Date    Open    High     Low   Close    Volume\n",
      "0  30-Sep-16  112.46  113.37  111.80  113.05  36379106\n",
      "1  29-Sep-16  113.16  113.80  111.80  112.18  35886990\n",
      "2  28-Sep-16  113.69  114.64  113.43  113.95  29641085\n",
      "3  27-Sep-16  113.00  113.18  112.34  113.09  24607412\n",
      "4  26-Sep-16  111.64  113.39  111.55  112.88  29869442\n",
      "        Date    Open   Close\n",
      "0  30-Sep-16  112.46  113.05\n",
      "1  29-Sep-16  113.16  112.18\n",
      "2  28-Sep-16  113.69  113.95\n",
      "3  27-Sep-16  113.00  113.09\n",
      "4  26-Sep-16  111.64  112.88\n",
      "        Date    Open   Close\n",
      "0  30-Sep-16  112.46  113.05\n",
      "1  29-Sep-16  113.16  112.18\n",
      "2  28-Sep-16  113.69  113.95\n",
      "3  27-Sep-16  113.00  113.09\n",
      "4  26-Sep-16  111.64  112.88\n",
      "0    30-Sep-16\n",
      "1    29-Sep-16\n",
      "2    28-Sep-16\n",
      "3    27-Sep-16\n",
      "4    26-Sep-16\n",
      "Name: Date, dtype: object\n"
     ]
    }
   ],
   "source": [
    "apple_df = pd.read_csv(\"apple.csv\")\n",
    "print apple_df.head()\n",
    "print apple_df[[0,1,4]].head()\n",
    "print apple_df[[\"Date\", \"Open\", \"Close\"]].head()\n",
    "print apple_df.Date.head() #이렇게 선택할 수도 있음."
   ]
  },
  {
   "cell_type": "code",
   "execution_count": 44,
   "metadata": {
    "collapsed": false
   },
   "outputs": [
    {
     "name": "stdout",
     "output_type": "stream",
     "text": [
      "        Date    Open    High     Low   Close    Volume\n",
      "0  30-Sep-16  112.46  113.37  111.80  113.05  36379106\n",
      "1  29-Sep-16  113.16  113.80  111.80  112.18  35886990\n",
      "2  28-Sep-16  113.69  114.64  113.43  113.95  29641085\n",
      "3  27-Sep-16  113.00  113.18  112.34  113.09  24607412\n",
      "4  26-Sep-16  111.64  113.39  111.55  112.88  29869442\n",
      "\n",
      "                       Name                  Sector   Price  Book Value\n",
      "Symbol                                                                 \n",
      "ACN           Accenture plc  Information Technology  115.11       11.45\n",
      "ATVI    Activision Blizzard  Information Technology   41.29       11.31\n",
      "AYI       Acuity Brands Inc             Industrials  264.62       36.50\n",
      "ADBE      Adobe Systems Inc  Information Technology   96.79       14.53\n",
      "AAP      Advance Auto Parts  Consumer Discretionary  164.85       35.82\n",
      "AES                AES Corp               Utilities   12.32        4.86\n",
      "AET               Aetna Inc             Health Care  117.00       47.96\n"
     ]
    }
   ],
   "source": [
    "print apple_df[:5] #choose rows by index slicing \n",
    "print\n",
    "print sample_df[3:10]"
   ]
  },
  {
   "cell_type": "code",
   "execution_count": 56,
   "metadata": {
    "collapsed": false,
    "scrolled": true
   },
   "outputs": [
    {
     "name": "stdout",
     "output_type": "stream",
     "text": [
      "                       Name                  Sector   Price  Book Value\n",
      "Symbol                                                                 \n",
      "ACN           Accenture plc  Information Technology  115.11       11.45\n",
      "ATVI    Activision Blizzard  Information Technology   41.29       11.31\n",
      "AYI       Acuity Brands Inc             Industrials  264.62       36.50\n",
      "ADBE      Adobe Systems Inc  Information Technology   96.79       14.53\n",
      "AAP      Advance Auto Parts  Consumer Discretionary  164.85       35.82\n",
      "AES                AES Corp               Utilities   12.32        4.86\n",
      "\n",
      "                      Name                  Sector   Price  Book Value\n",
      "Symbol                                                                \n",
      "AYI      Acuity Brands Inc             Industrials  264.62       36.50\n",
      "ADBE     Adobe Systems Inc  Information Technology   96.79       14.53\n",
      "AAP     Advance Auto Parts  Consumer Discretionary  164.85       35.82\n",
      "\n",
      "                           Name                  Sector    Price  Book Value\n",
      "Symbol                                                                      \n",
      "GOOGL      Alphabet Inc Class A  Information Technology   717.78      179.92\n",
      "GOOG       Alphabet Inc Class C  Information Technology   705.63      179.92\n",
      "AMZN             Amazon.com Inc  Consumer Discretionary   745.81       31.26\n",
      "AZO                AutoZone Inc  Consumer Discretionary   815.02      -63.16\n",
      "BLK                   BlackRock              Financials   345.20      171.90\n",
      "CMG      Chipotle Mexican Grill  Consumer Discretionary   399.71       52.48\n",
      "EQIX                    Equinix  Information Technology   389.45       69.41\n",
      "ISRG    Intuitive Surgical Inc.             Health Care   678.84      124.68\n",
      "PCLN          Priceline.com Inc  Consumer Discretionary  1329.46      182.37\n",
      "REGN                  Regeneron             Health Care   378.35       36.10\n",
      "SHW            Sherwin-Williams               Materials   306.52       10.94\n",
      "\n",
      "Symbol\n",
      "GOOGL     717.78\n",
      "GOOG      705.63\n",
      "AMZN      745.81\n",
      "AZO       815.02\n",
      "BLK       345.20\n",
      "CMG       399.71\n",
      "EQIX      389.45\n",
      "ISRG      678.84\n",
      "PCLN     1329.46\n",
      "REGN      378.35\n",
      "SHW       306.52\n",
      "Name: Price, dtype: float64\n"
     ]
    }
   ],
   "source": [
    "print sample_df.ix[3:9]\n",
    "print\n",
    "print sample_df.ix[\"AYI\":\"AAP\"]\n",
    "print\n",
    "print sample_df[sample_df.Price > 300]\n",
    "print\n",
    "print sample_df[sample_df.Price > 300].Price"
   ]
  },
  {
   "cell_type": "code",
   "execution_count": 99,
   "metadata": {
    "collapsed": false
   },
   "outputs": [
    {
     "name": "stdout",
     "output_type": "stream",
     "text": [
      "                       Name                  Sector   Price  Book Value  \\\n",
      "Symbol                                                                    \n",
      "MMM              3M Company             Industrials  177.12       19.34   \n",
      "ABT     Abbott Laboratories             Health Care   41.89       14.10   \n",
      "ABBV                 AbbVie             Health Care   64.16        2.87   \n",
      "ACN           Accenture plc  Information Technology  115.11       11.45   \n",
      "ATVI    Activision Blizzard  Information Technology   41.29       11.31   \n",
      "\n",
      "        doublePrice  triplePrice  \n",
      "Symbol                            \n",
      "MMM          354.24       531.36  \n",
      "ABT           83.78       125.67  \n",
      "ABBV         128.32       192.48  \n",
      "ACN          230.22       345.33  \n",
      "ATVI          82.58       123.87  \n",
      "                       Name   Price  Book Value  doublePrice  triplePrice\n",
      "Symbol                                                                   \n",
      "MMM              3M Company  177.12       19.34       354.24       531.36\n",
      "ABT     Abbott Laboratories   41.89       14.10        83.78       125.67\n",
      "ABBV                 AbbVie   64.16        2.87       128.32       192.48\n",
      "ACN           Accenture plc  115.11       11.45       230.22       345.33\n",
      "ATVI    Activision Blizzard   41.29       11.31        82.58       123.87\n",
      "                                 Name   Price  Book Value  doublePrice  \\\n",
      "Symbol                                                                   \n",
      "MMM                        3M Company  177.12       19.34       354.24   \n",
      "ABT               Abbott Laboratories   41.89       14.10        83.78   \n",
      "ABBV                           AbbVie   64.16        2.87       128.32   \n",
      "ACN                     Accenture plc  115.11       11.45       230.22   \n",
      "ATVI              Activision Blizzard   41.29       11.31        82.58   \n",
      "AYI                 Acuity Brands Inc  264.62       36.50       529.24   \n",
      "ADBE                Adobe Systems Inc   96.79       14.53       193.58   \n",
      "AAP                Advance Auto Parts  164.85       35.82       329.70   \n",
      "AES                          AES Corp   12.32        4.86        24.64   \n",
      "AET                         Aetna Inc  117.00       47.96       234.00   \n",
      "AMG     Affiliated Managers Group Inc  138.85       53.30       277.70   \n",
      "AFL                         AFLAC Inc   72.49       48.22       144.98   \n",
      "A            Agilent Technologies Inc   45.48       12.79        90.96   \n",
      "APD      Air Products & Chemicals Inc  144.35       32.01       288.70   \n",
      "AKAM          Akamai Technologies Inc   56.38       17.69       112.76   \n",
      "ALK              Alaska Air Group Inc   59.86       19.81       119.72   \n",
      "ALB                    Albemarle Corp   83.58       31.53       167.16   \n",
      "AA                          Alcoa Inc    9.82        9.25        19.64   \n",
      "ALXN          Alexion Pharmaceuticals  124.42       35.96       248.84   \n",
      "ALLE                         Allegion   69.74        0.77       139.48   \n",
      "AGN                      Allergan plc  240.59      183.41       481.18   \n",
      "ADS             Alliance Data Systems  200.96       29.51       401.92   \n",
      "LNT               Alliant Energy Corp   40.55       16.58        81.10   \n",
      "ALL                     Allstate Corp   69.66       49.58       139.32   \n",
      "GOOGL            Alphabet Inc Class A  717.78      179.92      1435.56   \n",
      "GOOG             Alphabet Inc Class C  705.63      179.92      1411.26   \n",
      "MO                   Altria Group Inc   69.83        1.40       139.66   \n",
      "AMZN                   Amazon.com Inc  745.81       31.26      1491.62   \n",
      "AEE                       Ameren Corp   53.15       28.31       106.30   \n",
      "AAL           American Airlines Group   30.04        8.04        60.08   \n",
      "...                               ...     ...         ...          ...   \n",
      "V                           Visa Inc.   76.42       12.22       152.84   \n",
      "VNO              Vornado Realty Trust  100.46       27.80       200.92   \n",
      "VMC                  Vulcan Materials  123.61       33.15       247.22   \n",
      "WMT                   Wal-Mart Stores   73.84       24.06       147.68   \n",
      "WBA          Walgreens Boots Alliance   81.80       28.55       163.60   \n",
      "WM              Waste Management Inc.   67.61       11.90       135.22   \n",
      "WAT                Waters Corporation  146.53       25.97       293.06   \n",
      "WFC                       Wells Fargo   47.79       34.62        95.58   \n",
      "HCN                    Welltower Inc.   75.62       37.88       151.24   \n",
      "WDC                   Western Digital   49.35       41.24        98.70   \n",
      "WU                   Western Union Co   19.57        2.52        39.14   \n",
      "WRK                       Westrock Co   38.55       43.77        77.10   \n",
      "WY                 Weyerhaeuser Corp.   30.67       13.53        61.34   \n",
      "WHR                   Whirlpool Corp.  171.38       62.60       342.76   \n",
      "WFM                Whole Foods Market   33.58       10.11        67.16   \n",
      "WMB                     Williams Cos.   20.99        7.59        41.98   \n",
      "WLTW             Willis Towers Watson  125.06       80.57       250.12   \n",
      "WEC      Wisconsin Energy Corporation   65.03       27.94       130.06   \n",
      "WYN                 Wyndham Worldwide   72.35        7.48       144.70   \n",
      "WYNN                 Wynn Resorts Ltd   89.75       -0.83       179.50   \n",
      "XEL                   Xcel Energy Inc   44.59       21.01        89.18   \n",
      "XRX                       Xerox Corp.    9.54        9.01        19.08   \n",
      "XLNX                       Xilinx Inc   46.97       10.21        93.94   \n",
      "XL                         XL Capital   33.01       40.83        66.02   \n",
      "XYL                        Xylem Inc.   46.41       12.07        92.82   \n",
      "YHOO                       Yahoo Inc.   37.74       30.03        75.48   \n",
      "YUM                   Yum! Brands Inc   85.76        0.38       171.52   \n",
      "ZBH            Zimmer Biomet Holdings  124.89       48.52       249.78   \n",
      "ZION                    Zions Bancorp   24.74       33.23        49.48   \n",
      "ZTS                            Zoetis   48.50        2.35        97.00   \n",
      "\n",
      "        triplePrice  \n",
      "Symbol               \n",
      "MMM          531.36  \n",
      "ABT          125.67  \n",
      "ABBV         192.48  \n",
      "ACN          345.33  \n",
      "ATVI         123.87  \n",
      "AYI          793.86  \n",
      "ADBE         290.37  \n",
      "AAP          494.55  \n",
      "AES           36.96  \n",
      "AET          351.00  \n",
      "AMG          416.55  \n",
      "AFL          217.47  \n",
      "A            136.44  \n",
      "APD          433.05  \n",
      "AKAM         169.14  \n",
      "ALK          179.58  \n",
      "ALB          250.74  \n",
      "AA            29.46  \n",
      "ALXN         373.26  \n",
      "ALLE         209.22  \n",
      "AGN          721.77  \n",
      "ADS          602.88  \n",
      "LNT          121.65  \n",
      "ALL          208.98  \n",
      "GOOGL       2153.34  \n",
      "GOOG        2116.89  \n",
      "MO           209.49  \n",
      "AMZN        2237.43  \n",
      "AEE          159.45  \n",
      "AAL           90.12  \n",
      "...             ...  \n",
      "V            229.26  \n",
      "VNO          301.38  \n",
      "VMC          370.83  \n",
      "WMT          221.52  \n",
      "WBA          245.40  \n",
      "WM           202.83  \n",
      "WAT          439.59  \n",
      "WFC          143.37  \n",
      "HCN          226.86  \n",
      "WDC          148.05  \n",
      "WU            58.71  \n",
      "WRK          115.65  \n",
      "WY            92.01  \n",
      "WHR          514.14  \n",
      "WFM          100.74  \n",
      "WMB           62.97  \n",
      "WLTW         375.18  \n",
      "WEC          195.09  \n",
      "WYN          217.05  \n",
      "WYNN         269.25  \n",
      "XEL          133.77  \n",
      "XRX           28.62  \n",
      "XLNX         140.91  \n",
      "XL            99.03  \n",
      "XYL          139.23  \n",
      "YHOO         113.22  \n",
      "YUM          257.28  \n",
      "ZBH          374.67  \n",
      "ZION          74.22  \n",
      "ZTS          145.50  \n",
      "\n",
      "[504 rows x 5 columns]\n"
     ]
    }
   ],
   "source": [
    "copy = sample_df.copy()\n",
    "copy[\"doublePrice\"] = sample_df.Price  * 2\n",
    "copy.insert(5, \"triplePrice\", sample_df.Price * 3)\n",
    "print copy.head()\n",
    "\n",
    "del copy[\"Sector\"]\n",
    "print copy.head()\n",
    "print copy"
   ]
  },
  {
   "cell_type": "code",
   "execution_count": 100,
   "metadata": {
    "collapsed": false
   },
   "outputs": [
    {
     "name": "stdout",
     "output_type": "stream",
     "text": [
      "                          Name   Price  Book Value  doublePrice  triplePrice\n",
      "Symbol                                                                      \n",
      "YHOO                Yahoo Inc.   37.74       30.03        75.48       113.22\n",
      "YUM            Yum! Brands Inc   85.76        0.38       171.52       257.28\n",
      "ZBH     Zimmer Biomet Holdings  124.89       48.52       249.78       374.67\n",
      "ZION             Zions Bancorp   24.74       33.23        49.48        74.22\n",
      "ZTS                     Zoetis   48.50        2.35        97.00       145.50\n",
      "                       Name   Price  Book Value  doublePrice  triplePrice\n",
      "Symbol                                                                   \n",
      "ZION          Zions Bancorp   24.74       33.23        49.48        74.22\n",
      "ZTS                  Zoetis   48.50        2.35        97.00       145.50\n",
      "MMM              3M Company  177.12       19.34       354.24       531.36\n",
      "ABT     Abbott Laboratories   41.89       14.10        83.78       125.67\n",
      "ABBV                 AbbVie   64.16        2.87       128.32       192.48\n",
      "\n",
      "                       Name   Price  Book Value  doublePrice  triplePrice\n",
      "Symbol                                                                   \n",
      "MMM              3M Company  177.12       19.34       354.24       531.36\n",
      "ABT     Abbott Laboratories   41.89       14.10        83.78       125.67\n",
      "ABBV                 AbbVie   64.16        2.87       128.32       192.48\n",
      "ACN           Accenture plc  115.11       11.45       230.22       345.33\n",
      "ATVI    Activision Blizzard   41.29       11.31        82.58       123.87\n",
      "                       Name   Price  Book Value  doublePrice  triplePrice\n",
      "Symbol                                                                   \n",
      "ABT     Abbott Laboratories   41.89       14.10        83.78       125.67\n",
      "ABBV                 AbbVie   64.16        2.87       128.32       192.48\n",
      "ACN           Accenture plc  115.11       11.45       230.22       345.33\n",
      "ATVI    Activision Blizzard   41.29       11.31        82.58       123.87\n",
      "AYI       Acuity Brands Inc  264.62       36.50       529.24       793.86\n"
     ]
    }
   ],
   "source": [
    "df1 = copy.iloc[0:3].copy()\n",
    "print copy.tail()\n",
    "copy = copy.append(df1)\n",
    "print copy.tail()\n",
    "print\n",
    "\n",
    "copy.drop([\"MMM\"])\n",
    "print copy.head() #drop은 저장을 해줘야해\n",
    "copy = copy.drop([\"MMM\"])\n",
    "print copy.head()"
   ]
  },
  {
   "cell_type": "code",
   "execution_count": 107,
   "metadata": {
    "collapsed": false
   },
   "outputs": [
    {
     "name": "stdout",
     "output_type": "stream",
     "text": [
      "                           Name                  Sector    Price  Book Value\n",
      "Symbol                                                                      \n",
      "GOOGL      Alphabet Inc Class A  Information Technology   717.78      179.92\n",
      "GOOG       Alphabet Inc Class C  Information Technology   705.63      179.92\n",
      "AMZN             Amazon.com Inc  Consumer Discretionary   745.81       31.26\n",
      "AZO                AutoZone Inc  Consumer Discretionary   815.02      -63.16\n",
      "BLK                   BlackRock              Financials   345.20      171.90\n",
      "CMG      Chipotle Mexican Grill  Consumer Discretionary   399.71       52.48\n",
      "EQIX                    Equinix  Information Technology   389.45       69.41\n",
      "ISRG    Intuitive Surgical Inc.             Health Care   678.84      124.68\n",
      "PCLN          Priceline.com Inc  Consumer Discretionary  1329.46      182.37\n",
      "REGN                  Regeneron             Health Care   378.35       36.10\n",
      "\n",
      "                       Name                  Sector   Price  Book Value\n",
      "Symbol                                                                 \n",
      "MMM              3M Company             Industrials  177.12       19.34\n",
      "ABT     Abbott Laboratories             Health Care   41.89       14.10\n",
      "ABBV                 AbbVie             Health Care   64.16        2.87\n",
      "ACN           Accenture plc  Information Technology  115.11       11.45\n",
      "ATVI    Activision Blizzard  Information Technology   41.29       11.31\n"
     ]
    }
   ],
   "source": [
    "selection = sample_df.Price > 300\n",
    "print sample_df[selection].head(10)\n",
    "print\n",
    "print sample_df[-selection].head(5)"
   ]
  }
 ],
 "metadata": {
  "kernelspec": {
   "display_name": "Python 2",
   "language": "python",
   "name": "python2"
  },
  "language_info": {
   "codemirror_mode": {
    "name": "ipython",
    "version": 2
   },
   "file_extension": ".py",
   "mimetype": "text/x-python",
   "name": "python",
   "nbconvert_exporter": "python",
   "pygments_lexer": "ipython2",
   "version": "2.7.13"
  }
 },
 "nbformat": 4,
 "nbformat_minor": 2
}
