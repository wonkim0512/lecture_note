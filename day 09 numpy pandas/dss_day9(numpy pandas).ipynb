{
 "cells": [
  {
   "cell_type": "markdown",
   "metadata": {},
   "source": [
    "## 학습목표\n",
    " 1. numpy & pandas basic"
   ]
  },
  {
   "cell_type": "markdown",
   "metadata": {},
   "source": [
    "* 연습문제 풀이)\n",
    " - tf-idf는 각 문서에 있는 단어별로 구해야 함\n",
    " - the의 경우, 모든 문서에 나오기 때문에, 각각 문서에서의 각기 다른 tf-idf를 갖게 됨\n",
    " \n",
    " - ip address 정규표현식"
   ]
  },
  {
   "cell_type": "code",
   "execution_count": 16,
   "metadata": {
    "collapsed": true
   },
   "outputs": [
    {
     "name": "stdout",
     "output_type": "stream",
     "text": [
      "tf_idf2.txt\n",
      "OrderedDict([('weather', 5.0), ('forecast', 2.0), ('the', 1.3333333333333333), ('sometimes', 1.0), ('people', 1.0), ('is', 1.0), ('hard', 1.0), ('in', 1.0), ('incorrect', 1.0), ('their', 1.0), ('going', 1.0), ('super', 1.0), ('this', 1.0), ('computers', 1.0), ('days', 1.0), ('these', 1.0), ('friends.', 1.0), ('however,', 1.0), ('are', 0.6666666666666666), ('to', 0.6666666666666666), ('predict', 0.5), ('it', 0.5), ('out', 0.5), ('with', 0.5), ('today', 0.5), ('nice', 0.5), ('very', 0.5), ('many', 0.5), ('used', 0.3333333333333333)])\n",
      "tf_idf1.txt\n",
      "OrderedDict([('python', 6.0), ('tools', 3.0), ('language', 3.0), ('and', 2.0), ('for', 2.0), ('apis', 2.0), ('the', 1.6666666666666667), ('is', 1.3333333333333333), ('debugger', 1.0), ('concise', 1.0), ('reasons', 1.0), ('powerful', 1.0), ('implemented', 1.0), ('any', 1.0), ('web', 1.0), ('compared', 1.0), ('from', 1.0), ('built', 1.0), ('specification', 1.0), ('also', 1.0), ('other', 1.0), ('widely', 1.0), ('include', 1.0), ('mostly', 1.0), ('ones', 1.0), ('2', 1.0), ('ruby', 1.0), ('than', 1.0), ('compiler', 1.0), ('a', 1.0), ('about', 1.0), ('has', 1.0), ('faster', 1.0), ('times', 1.0), ('profiler', 1.0), ('very', 1.0), ('in', 0.5), ('nice', 0.5), ('be', 0.5), ('many', 0.5), ('can', 0.5), ('are', 0.3333333333333333), ('to', 0.3333333333333333), ('used', 0.3333333333333333)])\n",
      "tf_idf3.txt\n",
      "OrderedDict([('we', 3.0), ('of', 3.0), ('the', 2.3333333333333335), ('learning', 2.0), ('machine', 2.0), ('they', 2.0), ('have', 2.0), ('and', 1.0), ('features', 1.0), ('classification', 1.0), ('can', 1.0), ('predict', 1.0), ('intelligence', 1.0), ('one', 1.0), ('learnin', 1.0), ('result', 1.0), ('regression', 1.0), ('better', 1.0), ('data', 1.0), ('there', 1.0), ('artificial', 1.0), ('branch', 1.0), ('analyze', 1.0), ('more', 1.0), ('be', 1.0), ('price', 1.0), ('houses', 1.0), ('using', 1.0), ('will', 1.0), ('anywhere', 1.0), ('supervised', 1.0), ('classify', 1.0), ('bunch', 1.0), ('it', 0.5), ('out', 0.5), ('today', 0.5), ('with', 0.5), ('is', 0.3333333333333333), ('to', 0.3333333333333333), ('used', 0.3333333333333333), ('are', 0.3333333333333333)])\n"
     ]
    }
   ],
   "source": [
    "import os\n",
    "from collections import defaultdict\n",
    "from collections import OrderedDict\n",
    "\n",
    "class TFIDFCaculator(object):\n",
    "    def __init__(self, path):\n",
    "        self.path = path\n",
    "        self.tf_dict = {}\n",
    "        self.df_dict = defaultdict(int)\n",
    "\n",
    "    # 각 문서별 단어별 tf dictionary 생성\n",
    "    def build_tf_dict(self):\n",
    "        for root, dirs, files in os.walk(self.path): \n",
    "            for f in files: # 각 문서에 대해 순회\n",
    "                self.tf_dict[f] = defaultdict(int) # 문서별로 이름을 key로 갖는 dict 생성\n",
    "                with open(os.path.join(self.path, f), 'r') as fout:\n",
    "                    data = fout.read() # 각 문서의 모든 내용을 읽어들임\n",
    "                    # 각 내용을 공백으로 잘라서 소문자로 변경 후, 리스트로 만듦\n",
    "                    words = [word.lower() for word in data.split()] \n",
    "\n",
    "                    for w in words:\n",
    "                        # 앞서 만든 리스트를 순회하면서 각 단어가 출현할 때마 카운팅\n",
    "                        # f는 문서이름, w는 각 단어를 의미\n",
    "                        self.tf_dict[f][w] += 1\n",
    "                        \n",
    "                        \n",
    "    # 문서에 존재하는 모든 단어들에 대해 document frequency 생성\n",
    "    def build_df_dict(self):\n",
    "        \n",
    "        # 문서내에 존재하는 모든 단어 추출\n",
    "        all_keys = list(set([key for doc in self.tf_dict for key in self.tf_dict[doc]]))\n",
    "        \n",
    "        for key in all_keys: # 해당 단어 리스트를 순회\n",
    "            for root, dirs, files in os.walk(self.path):\n",
    "                for f in files:\n",
    "                    with open(os.path.join(self.path, f)) as fout:\n",
    "                        data = fout.read() \n",
    "                        words = [word.lower() for word in data.split()]  \n",
    "                        # 단어들이 전체 문서에서 몇번 출현했는지 빈도 확인\n",
    "                        if key in words:\n",
    "                            self.df_dict[key] += 1\n",
    "         \n",
    "    # tf, df를 이용하여 tf-idf 결과 생성\n",
    "    def get_tf_idf_dict(self, reverse = True):\n",
    "        tf_idf_dict = {}\n",
    "        \n",
    "        # doc은 각 문서의 명칭\n",
    "        for doc in self.tf_dict:\n",
    "            tf_idf_dict[doc] = {}\n",
    "            # key는 단어, value는 해당 단어가 doc에서 나타난 빈도수를 의미\n",
    "            for key, value in self.tf_dict[doc].items():\n",
    "                # 그것을 df_dict에 저장되어있는 출현한 문서수인 self.df_dict[key]로 나눔\n",
    "                tf_idf_dict[doc][key] = float(value) / self.df_dict[key]\n",
    "        \n",
    "        # 각 문서를 빈도수에 따라 정렬\n",
    "        for doc in tf_idf_dict:\n",
    "            tf_idf_dict_by_doc = tf_idf_dict[doc]\n",
    "            tf_idf_dict_by_doc = OrderedDict(sorted(tf_idf_dict_by_doc.items(), key = lambda x : x[1], reverse = reverse))\n",
    "            tf_idf_dict[doc] = tf_idf_dict_by_doc\n",
    "        return tf_idf_dict\n",
    "            \n",
    "            \n",
    "path = os.getcwd() + '/data_set'            \n",
    "tf_idf = TFIDFCaculator(path)            \n",
    "\n",
    "tf_idf.build_tf_dict()\n",
    "tf_idf.build_df_dict()\n",
    "\n",
    "for doc, tf_idf_dict in tf_idf.get_tf_idf_dict().items():\n",
    "    print doc \n",
    "    print tf_idf_dict"
   ]
  },
  {
   "cell_type": "code",
   "execution_count": 17,
   "metadata": {
    "collapsed": false
   },
   "outputs": [
    {
     "name": "stdout",
     "output_type": "stream",
     "text": [
      "255.9.1.0\n",
      "None\n",
      "pikpik\n"
     ]
    }
   ],
   "source": [
    "import re\n",
    "m = re.search(r'^((25[0-5]|2[0-4][0-9]|[01]?[0-9][0-9]?)\\.){3}(25[0-5]|2[0-4][0-9]|[01]?[0-9][0-9]?)$', '255.9.1.0')\n",
    "print m.group()\n",
    "\n",
    "m = re.search(r'^((25[0-5]|2[0-4][0-9]|[01]?[0-9][0-9]?)\\.){3}(25[0-5]|2[0-4][0-9]|[01]?[0-9][0-9]?)$', '256.9.1.0')\n",
    "print m\n",
    "\n",
    "#p|i [pi]\n",
    "print re.search(r'(pik)+', 'pikpikpippip').group()"
   ]
  },
  {
   "cell_type": "markdown",
   "metadata": {},
   "source": [
    "* numpy \n",
    "  - 기본 array 생성"
   ]
  },
  {
   "cell_type": "code",
   "execution_count": 2,
   "metadata": {
    "collapsed": false
   },
   "outputs": [
    {
     "name": "stdout",
     "output_type": "stream",
     "text": [
      "1.12.0\n"
     ]
    }
   ],
   "source": [
    "import numpy as np\n",
    "print np.__version__"
   ]
  },
  {
   "cell_type": "markdown",
   "metadata": {},
   "source": [
    "* ndarray\n",
    " - numpy의 기본 타입\n",
    " - vector, matrix를 표현\n",
    " - numpy.array([])로 생성"
   ]
  },
  {
   "cell_type": "code",
   "execution_count": 3,
   "metadata": {
    "collapsed": false
   },
   "outputs": [
    {
     "name": "stdout",
     "output_type": "stream",
     "text": [
      "[1 3 4 6] <type 'numpy.ndarray'>\n",
      "[[0 1 2]\n",
      " [2 4 6]] <type 'numpy.ndarray'>\n"
     ]
    }
   ],
   "source": [
    "arr1 = np.array([1, 3, 4, 6])\n",
    "arr2 = np.array([[0, 1, 2], [2, 4, 6]])\n",
    "\n",
    "print arr1, type(arr1)\n",
    "print arr2, type(arr2)"
   ]
  },
  {
   "cell_type": "markdown",
   "metadata": {},
   "source": [
    "* arange \n",
    " - range()와 동일한 기능을 수행함\n",
    " - ndarray 반환"
   ]
  },
  {
   "cell_type": "code",
   "execution_count": 4,
   "metadata": {
    "collapsed": false
   },
   "outputs": [
    {
     "name": "stdout",
     "output_type": "stream",
     "text": [
      "[ 1  2  3  4  5  6  7  8  9 10] <type 'numpy.ndarray'>\n"
     ]
    }
   ],
   "source": [
    "arr3 = np.arange(1, 11)\n",
    "print arr3, type(arr3)"
   ]
  },
  {
   "cell_type": "markdown",
   "metadata": {},
   "source": [
    "* linspace()\n",
    " - start, end를 n개의 균일한 간격으로 분할"
   ]
  },
  {
   "cell_type": "code",
   "execution_count": 5,
   "metadata": {
    "collapsed": false
   },
   "outputs": [
    {
     "name": "stdout",
     "output_type": "stream",
     "text": [
      "[ 0.  1.  2.]\n"
     ]
    }
   ],
   "source": [
    "# 0 - 2의 범위를 5-1 등분 한다는 이야기\n",
    "arr4 = np.linspace(0, 2, 3)\n",
    "print arr4"
   ]
  },
  {
   "cell_type": "markdown",
   "metadata": {},
   "source": [
    "* zeros\n",
    " - 전달된 tuple 사이즈 행렬 반환\n",
    " - 0으로 채워짐"
   ]
  },
  {
   "cell_type": "code",
   "execution_count": 6,
   "metadata": {
    "collapsed": false
   },
   "outputs": [
    {
     "name": "stdout",
     "output_type": "stream",
     "text": [
      "[[ 0.  0.  0.  0.]\n",
      " [ 0.  0.  0.  0.]]\n",
      "[ 0.  0.  0.  0.]\n"
     ]
    }
   ],
   "source": [
    "print np.zeros((2, 4))\n",
    "print np.zeros(4)"
   ]
  },
  {
   "cell_type": "markdown",
   "metadata": {},
   "source": [
    "* ones\n",
    " - 전달된 tuple 사이즈 행렬 반환\n",
    " - 1로 채워짐"
   ]
  },
  {
   "cell_type": "code",
   "execution_count": 8,
   "metadata": {
    "collapsed": false
   },
   "outputs": [
    {
     "name": "stdout",
     "output_type": "stream",
     "text": [
      "[[[[[ 1.  1.  1. ...,  1.  1.  1.]\n",
      "    [ 1.  1.  1. ...,  1.  1.  1.]\n",
      "    [ 1.  1.  1. ...,  1.  1.  1.]\n",
      "    ..., \n",
      "    [ 1.  1.  1. ...,  1.  1.  1.]\n",
      "    [ 1.  1.  1. ...,  1.  1.  1.]\n",
      "    [ 1.  1.  1. ...,  1.  1.  1.]]\n",
      "\n",
      "   [[ 1.  1.  1. ...,  1.  1.  1.]\n",
      "    [ 1.  1.  1. ...,  1.  1.  1.]\n",
      "    [ 1.  1.  1. ...,  1.  1.  1.]\n",
      "    ..., \n",
      "    [ 1.  1.  1. ...,  1.  1.  1.]\n",
      "    [ 1.  1.  1. ...,  1.  1.  1.]\n",
      "    [ 1.  1.  1. ...,  1.  1.  1.]]]\n",
      "\n",
      "\n",
      "  [[[ 1.  1.  1. ...,  1.  1.  1.]\n",
      "    [ 1.  1.  1. ...,  1.  1.  1.]\n",
      "    [ 1.  1.  1. ...,  1.  1.  1.]\n",
      "    ..., \n",
      "    [ 1.  1.  1. ...,  1.  1.  1.]\n",
      "    [ 1.  1.  1. ...,  1.  1.  1.]\n",
      "    [ 1.  1.  1. ...,  1.  1.  1.]]\n",
      "\n",
      "   [[ 1.  1.  1. ...,  1.  1.  1.]\n",
      "    [ 1.  1.  1. ...,  1.  1.  1.]\n",
      "    [ 1.  1.  1. ...,  1.  1.  1.]\n",
      "    ..., \n",
      "    [ 1.  1.  1. ...,  1.  1.  1.]\n",
      "    [ 1.  1.  1. ...,  1.  1.  1.]\n",
      "    [ 1.  1.  1. ...,  1.  1.  1.]]]\n",
      "\n",
      "\n",
      "  [[[ 1.  1.  1. ...,  1.  1.  1.]\n",
      "    [ 1.  1.  1. ...,  1.  1.  1.]\n",
      "    [ 1.  1.  1. ...,  1.  1.  1.]\n",
      "    ..., \n",
      "    [ 1.  1.  1. ...,  1.  1.  1.]\n",
      "    [ 1.  1.  1. ...,  1.  1.  1.]\n",
      "    [ 1.  1.  1. ...,  1.  1.  1.]]\n",
      "\n",
      "   [[ 1.  1.  1. ...,  1.  1.  1.]\n",
      "    [ 1.  1.  1. ...,  1.  1.  1.]\n",
      "    [ 1.  1.  1. ...,  1.  1.  1.]\n",
      "    ..., \n",
      "    [ 1.  1.  1. ...,  1.  1.  1.]\n",
      "    [ 1.  1.  1. ...,  1.  1.  1.]\n",
      "    [ 1.  1.  1. ...,  1.  1.  1.]]]]\n",
      "\n",
      "\n",
      "\n",
      " [[[[ 1.  1.  1. ...,  1.  1.  1.]\n",
      "    [ 1.  1.  1. ...,  1.  1.  1.]\n",
      "    [ 1.  1.  1. ...,  1.  1.  1.]\n",
      "    ..., \n",
      "    [ 1.  1.  1. ...,  1.  1.  1.]\n",
      "    [ 1.  1.  1. ...,  1.  1.  1.]\n",
      "    [ 1.  1.  1. ...,  1.  1.  1.]]\n",
      "\n",
      "   [[ 1.  1.  1. ...,  1.  1.  1.]\n",
      "    [ 1.  1.  1. ...,  1.  1.  1.]\n",
      "    [ 1.  1.  1. ...,  1.  1.  1.]\n",
      "    ..., \n",
      "    [ 1.  1.  1. ...,  1.  1.  1.]\n",
      "    [ 1.  1.  1. ...,  1.  1.  1.]\n",
      "    [ 1.  1.  1. ...,  1.  1.  1.]]]\n",
      "\n",
      "\n",
      "  [[[ 1.  1.  1. ...,  1.  1.  1.]\n",
      "    [ 1.  1.  1. ...,  1.  1.  1.]\n",
      "    [ 1.  1.  1. ...,  1.  1.  1.]\n",
      "    ..., \n",
      "    [ 1.  1.  1. ...,  1.  1.  1.]\n",
      "    [ 1.  1.  1. ...,  1.  1.  1.]\n",
      "    [ 1.  1.  1. ...,  1.  1.  1.]]\n",
      "\n",
      "   [[ 1.  1.  1. ...,  1.  1.  1.]\n",
      "    [ 1.  1.  1. ...,  1.  1.  1.]\n",
      "    [ 1.  1.  1. ...,  1.  1.  1.]\n",
      "    ..., \n",
      "    [ 1.  1.  1. ...,  1.  1.  1.]\n",
      "    [ 1.  1.  1. ...,  1.  1.  1.]\n",
      "    [ 1.  1.  1. ...,  1.  1.  1.]]]\n",
      "\n",
      "\n",
      "  [[[ 1.  1.  1. ...,  1.  1.  1.]\n",
      "    [ 1.  1.  1. ...,  1.  1.  1.]\n",
      "    [ 1.  1.  1. ...,  1.  1.  1.]\n",
      "    ..., \n",
      "    [ 1.  1.  1. ...,  1.  1.  1.]\n",
      "    [ 1.  1.  1. ...,  1.  1.  1.]\n",
      "    [ 1.  1.  1. ...,  1.  1.  1.]]\n",
      "\n",
      "   [[ 1.  1.  1. ...,  1.  1.  1.]\n",
      "    [ 1.  1.  1. ...,  1.  1.  1.]\n",
      "    [ 1.  1.  1. ...,  1.  1.  1.]\n",
      "    ..., \n",
      "    [ 1.  1.  1. ...,  1.  1.  1.]\n",
      "    [ 1.  1.  1. ...,  1.  1.  1.]\n",
      "    [ 1.  1.  1. ...,  1.  1.  1.]]]]\n",
      "\n",
      "\n",
      "\n",
      " [[[[ 1.  1.  1. ...,  1.  1.  1.]\n",
      "    [ 1.  1.  1. ...,  1.  1.  1.]\n",
      "    [ 1.  1.  1. ...,  1.  1.  1.]\n",
      "    ..., \n",
      "    [ 1.  1.  1. ...,  1.  1.  1.]\n",
      "    [ 1.  1.  1. ...,  1.  1.  1.]\n",
      "    [ 1.  1.  1. ...,  1.  1.  1.]]\n",
      "\n",
      "   [[ 1.  1.  1. ...,  1.  1.  1.]\n",
      "    [ 1.  1.  1. ...,  1.  1.  1.]\n",
      "    [ 1.  1.  1. ...,  1.  1.  1.]\n",
      "    ..., \n",
      "    [ 1.  1.  1. ...,  1.  1.  1.]\n",
      "    [ 1.  1.  1. ...,  1.  1.  1.]\n",
      "    [ 1.  1.  1. ...,  1.  1.  1.]]]\n",
      "\n",
      "\n",
      "  [[[ 1.  1.  1. ...,  1.  1.  1.]\n",
      "    [ 1.  1.  1. ...,  1.  1.  1.]\n",
      "    [ 1.  1.  1. ...,  1.  1.  1.]\n",
      "    ..., \n",
      "    [ 1.  1.  1. ...,  1.  1.  1.]\n",
      "    [ 1.  1.  1. ...,  1.  1.  1.]\n",
      "    [ 1.  1.  1. ...,  1.  1.  1.]]\n",
      "\n",
      "   [[ 1.  1.  1. ...,  1.  1.  1.]\n",
      "    [ 1.  1.  1. ...,  1.  1.  1.]\n",
      "    [ 1.  1.  1. ...,  1.  1.  1.]\n",
      "    ..., \n",
      "    [ 1.  1.  1. ...,  1.  1.  1.]\n",
      "    [ 1.  1.  1. ...,  1.  1.  1.]\n",
      "    [ 1.  1.  1. ...,  1.  1.  1.]]]\n",
      "\n",
      "\n",
      "  [[[ 1.  1.  1. ...,  1.  1.  1.]\n",
      "    [ 1.  1.  1. ...,  1.  1.  1.]\n",
      "    [ 1.  1.  1. ...,  1.  1.  1.]\n",
      "    ..., \n",
      "    [ 1.  1.  1. ...,  1.  1.  1.]\n",
      "    [ 1.  1.  1. ...,  1.  1.  1.]\n",
      "    [ 1.  1.  1. ...,  1.  1.  1.]]\n",
      "\n",
      "   [[ 1.  1.  1. ...,  1.  1.  1.]\n",
      "    [ 1.  1.  1. ...,  1.  1.  1.]\n",
      "    [ 1.  1.  1. ...,  1.  1.  1.]\n",
      "    ..., \n",
      "    [ 1.  1.  1. ...,  1.  1.  1.]\n",
      "    [ 1.  1.  1. ...,  1.  1.  1.]\n",
      "    [ 1.  1.  1. ...,  1.  1.  1.]]]]]\n"
     ]
    }
   ],
   "source": [
    "print np.ones((3, 3, 2, 7, 8))\n",
    "#print np.ones(3)"
   ]
  },
  {
   "cell_type": "markdown",
   "metadata": {},
   "source": [
    "* random sub package\n",
    " - 무작위에 관한 모든 기능이 들어있음"
   ]
  },
  {
   "cell_type": "code",
   "execution_count": 9,
   "metadata": {
    "collapsed": false
   },
   "outputs": [
    {
     "name": "stdout",
     "output_type": "stream",
     "text": [
      "[ 0.97410827  0.42025532  0.62058426]\n",
      "[-0.2953504  -0.58640909 -1.07161196]\n"
     ]
    }
   ],
   "source": [
    "print np.random.rand(3) # [0, 1) 사이 출력\n",
    "print np.random.randn(3) # 정규분포"
   ]
  },
  {
   "cell_type": "code",
   "execution_count": null,
   "metadata": {
    "collapsed": true
   },
   "outputs": [],
   "source": [
    "a = np.random.rand()"
   ]
  },
  {
   "cell_type": "code",
   "execution_count": null,
   "metadata": {
    "collapsed": true
   },
   "outputs": [],
   "source": [
    "print a"
   ]
  },
  {
   "cell_type": "markdown",
   "metadata": {},
   "source": [
    "seed 함수 동작 알아볼 것"
   ]
  },
  {
   "cell_type": "code",
   "execution_count": 24,
   "metadata": {
    "collapsed": false
   },
   "outputs": [
    {
     "name": "stdout",
     "output_type": "stream",
     "text": [
      "0.548813503927\n",
      "0.435994902142\n"
     ]
    }
   ],
   "source": [
    "np.random.seed(0) # 랜덤한 값을 계속 유지하고 싶을 때 사용\n",
    "print np.random.rand()\n",
    "\n",
    "np.random.seed(2) # 랜덤한 값을 계속 유지하고 싶을 때 사용\n",
    "print np.random.rand()"
   ]
  },
  {
   "cell_type": "markdown",
   "metadata": {},
   "source": [
    "* slicing\n",
    " - 리스트, 문자열 slicing과 동일함"
   ]
  },
  {
   "cell_type": "code",
   "execution_count": 25,
   "metadata": {
    "collapsed": true
   },
   "outputs": [],
   "source": [
    "arr1 = np.array([1, 3, 4, 6])\n",
    "arr2 = np.array([[0, 1, 3], [2, 4, 6]])"
   ]
  },
  {
   "cell_type": "code",
   "execution_count": 26,
   "metadata": {
    "collapsed": false
   },
   "outputs": [
    {
     "name": "stdout",
     "output_type": "stream",
     "text": [
      "1\n",
      "[3 4]\n"
     ]
    }
   ],
   "source": [
    "print arr1[0]\n",
    "print arr1[1:-1]"
   ]
  },
  {
   "cell_type": "code",
   "execution_count": 27,
   "metadata": {
    "collapsed": false
   },
   "outputs": [
    {
     "name": "stdout",
     "output_type": "stream",
     "text": [
      "[0 1 3]\n",
      "1\n",
      "[[2 4]]\n",
      "[3 6]\n",
      "[[1 3]\n",
      " [4 6]]\n"
     ]
    }
   ],
   "source": [
    "arr2 = np.array([[0, 1, 3], [2, 4, 6]])\n",
    "\n",
    "print arr2[0]\n",
    "print arr2[0, 1]\n",
    "print arr2[1:, :2]\n",
    "print arr2[:, 2]\n",
    "print arr2[:, 1:]\n"
   ]
  },
  {
   "cell_type": "markdown",
   "metadata": {},
   "source": [
    "* array masking\n",
    "  - numpy의 원소를 선택하거나 제거하여 추출하는 방법"
   ]
  },
  {
   "cell_type": "code",
   "execution_count": 28,
   "metadata": {
    "collapsed": false
   },
   "outputs": [
    {
     "name": "stdout",
     "output_type": "stream",
     "text": [
      "[26 20  3  4 33  3  5 24  4  6]\n"
     ]
    }
   ],
   "source": [
    "arr = np.random.randint(0, 35, 10)\n",
    "print arr"
   ]
  },
  {
   "cell_type": "code",
   "execution_count": 29,
   "metadata": {
    "collapsed": false
   },
   "outputs": [
    {
     "name": "stdout",
     "output_type": "stream",
     "text": [
      "[26 20  4 24  4  6]\n",
      "[26 20  4 24  4  6]\n"
     ]
    }
   ],
   "source": [
    "even_mask = (arr % 2 == 0)\n",
    "print arr[even_mask]\n",
    "\n",
    "#np.array([True, False])\n",
    "\n",
    "\n",
    "print arr[arr % 2 == 0]"
   ]
  },
  {
   "cell_type": "markdown",
   "metadata": {},
   "source": [
    "* operations\n",
    "  - 기본 연산은 벡터화되어 전체 원소에 적용된다."
   ]
  },
  {
   "cell_type": "code",
   "execution_count": 30,
   "metadata": {
    "collapsed": false
   },
   "outputs": [
    {
     "name": "stdout",
     "output_type": "stream",
     "text": [
      "[ 5 10 15 20 25 30]\n"
     ]
    }
   ],
   "source": [
    "#range(1, 7) * 5\n",
    "\n",
    "\n",
    "#for i in range(1, 7):\n",
    "#    i * 5\n",
    "\n",
    "arr = np.arange(1, 7) * 5\n",
    "print arr"
   ]
  },
  {
   "cell_type": "code",
   "execution_count": 31,
   "metadata": {
    "collapsed": false
   },
   "outputs": [
    {
     "name": "stdout",
     "output_type": "stream",
     "text": [
      "[   625  10000  50625 160000 390625 810000]\n",
      "[  25.  100.  225.  400.  625.  900.]\n"
     ]
    }
   ],
   "source": [
    "arr2 = arr ** 4\n",
    "print arr2\n",
    "print arr2 ** 0.5"
   ]
  },
  {
   "cell_type": "code",
   "execution_count": 35,
   "metadata": {
    "collapsed": false
   },
   "outputs": [
    {
     "name": "stdout",
     "output_type": "stream",
     "text": [
      "[ 3  6  9 12 15 18 21 24 27 30] [ 1  2  3  4  5  6  7  8  9 10]\n",
      "[ 2  4  6  8 10 12 14 16 18 20]\n",
      "[  3  12  27  48  75 108 147 192 243 300]\n",
      "[  9  36  81 144 225 324 441 576 729 900]\n",
      "[  9  36  81 144 225 324 441 576 729 900]\n"
     ]
    }
   ],
   "source": [
    "arr1 = np.arange(0, 30, 3) + 3\n",
    "arr2 = np.arange(1, 11)\n",
    "print arr1, arr2\n",
    "\n",
    "print arr1 - arr2\n",
    "print arr1 * arr2\n",
    "print arr1 * arr1\n",
    "#print arr1 ^2 \n",
    "print arr1 ** 2"
   ]
  },
  {
   "cell_type": "code",
   "execution_count": 83,
   "metadata": {
    "collapsed": false
   },
   "outputs": [
    {
     "name": "stdout",
     "output_type": "stream",
     "text": [
      "[[2 2]\n",
      " [2 2]]\n",
      "[[4 4]\n",
      " [4 4]]\n"
     ]
    }
   ],
   "source": [
    "arr1 = np.array([[1, 1], [1, 1]])\n",
    "arr2 = np.array([[2, 2], [2, 2]])\n",
    "\n",
    "print arr1 * arr2  # 원소끼리의 곱\n",
    "print arr1.dot(arr2) # 행렬 곱"
   ]
  },
  {
   "cell_type": "markdown",
   "metadata": {},
   "source": [
    "* logical operator \n",
    "  - all(), any()"
   ]
  },
  {
   "cell_type": "code",
   "execution_count": 36,
   "metadata": {
    "collapsed": false
   },
   "outputs": [
    {
     "name": "stdout",
     "output_type": "stream",
     "text": [
      "[[4 3 1 5]\n",
      " [3 5 2 8]\n",
      " [9 3 9 8]\n",
      " [2 7 9 6]]\n"
     ]
    }
   ],
   "source": [
    "arr = np.random.randint(1, 10, size = (4,4))\n",
    "print arr"
   ]
  },
  {
   "cell_type": "code",
   "execution_count": 37,
   "metadata": {
    "collapsed": false
   },
   "outputs": [
    {
     "name": "stdout",
     "output_type": "stream",
     "text": [
      "False\n"
     ]
    }
   ],
   "source": [
    "print np.all(arr < 7)"
   ]
  },
  {
   "cell_type": "code",
   "execution_count": 38,
   "metadata": {
    "collapsed": false
   },
   "outputs": [
    {
     "name": "stdout",
     "output_type": "stream",
     "text": [
      "True\n"
     ]
    }
   ],
   "source": [
    "print np.any(arr % 7 == 0)"
   ]
  },
  {
   "cell_type": "markdown",
   "metadata": {},
   "source": [
    "* ravel\n",
    "  - 다차원배열을 1차원으로 늘이기"
   ]
  },
  {
   "cell_type": "code",
   "execution_count": 39,
   "metadata": {
    "collapsed": false
   },
   "outputs": [
    {
     "name": "stdout",
     "output_type": "stream",
     "text": [
      "[[ 1  2  3  4  5]\n",
      " [10 11 12 13 14]]\n",
      "[ 1  2  3  4  5 10 11 12 13 14]\n"
     ]
    }
   ],
   "source": [
    "arr = np.array([np.arange(1, 6), np.arange(10, 15)])\n",
    "print arr\n",
    "print arr.ravel()"
   ]
  },
  {
   "cell_type": "markdown",
   "metadata": {},
   "source": [
    "* reshaping\n",
    " - array의 shape을 재정렬"
   ]
  },
  {
   "cell_type": "code",
   "execution_count": 40,
   "metadata": {
    "collapsed": false
   },
   "outputs": [
    {
     "name": "stdout",
     "output_type": "stream",
     "text": [
      "[ 1  2  3  4  5  6  7  8  9 10 11 12 13 14 15]\n",
      "[[ 1  2  3  4  5]\n",
      " [ 6  7  8  9 10]\n",
      " [11 12 13 14 15]]\n",
      "[ 1  2  3  4  5  6  7  8  9 10 11 12 13 14 15]\n"
     ]
    }
   ],
   "source": [
    "arr = np.arange(1, 16)\n",
    "print arr\n",
    "arr2 = arr.reshape(3, 5)\n",
    "print arr2\n",
    "print arr"
   ]
  },
  {
   "cell_type": "markdown",
   "metadata": {},
   "source": [
    "* 자주 쓰는 numpy 함수"
   ]
  },
  {
   "cell_type": "code",
   "execution_count": 42,
   "metadata": {
    "collapsed": false
   },
   "outputs": [
    {
     "name": "stdout",
     "output_type": "stream",
     "text": [
      "[ 1  2  3  4  5  6  7  8  9 10 11 12 13 14 15]\n",
      "1\n",
      "8.0\n",
      "8.0\n",
      "15\n",
      "4.32049379894\n",
      "0\n",
      "14\n",
      "120\n",
      "[ 1.          1.41421356  1.73205081  2.          2.23606798  2.44948974\n",
      "  2.64575131  2.82842712  3.          3.16227766  3.31662479  3.46410162\n",
      "  3.60555128  3.74165739  3.87298335]\n"
     ]
    }
   ],
   "source": [
    "print arr\n",
    "print np.min(arr)\n",
    "print np.mean(arr)\n",
    "print np.median(arr)\n",
    "print np.max(arr)\n",
    "print np.std(arr)\n",
    "print np.argmin(arr)\n",
    "print np.argmax(arr)\n",
    "print np.sum(arr)\n",
    "print np.sqrt(arr)"
   ]
  },
  {
   "cell_type": "code",
   "execution_count": 83,
   "metadata": {
    "collapsed": false
   },
   "outputs": [
    {
     "name": "stdout",
     "output_type": "stream",
     "text": [
      "8\n",
      "25\n"
     ]
    }
   ],
   "source": [
    "#bit-wise XOR\n",
    "a = 10\n",
    "print 10 ^ 2\n",
    "print 17 ^ 8"
   ]
  },
  {
   "cell_type": "markdown",
   "metadata": {},
   "source": [
    "* 연습문제)\n",
    "1. numpy를 이용하여 Math.pi 값을 다시 구해봅시다.\n",
    "2. python 기본 리스트 객체로 만든 두 행렬을 곱하는 코드를 작성하시오."
   ]
  },
  {
   "cell_type": "code",
   "execution_count": 84,
   "metadata": {
    "collapsed": true
   },
   "outputs": [
    {
     "name": "stdout",
     "output_type": "stream",
     "text": [
      "[[ 0.74194424  0.55825631]\n",
      " [ 0.18994125  0.78384214]\n",
      " [ 0.76263619  0.64420529]\n",
      " [ 0.73211458  0.77076316]\n",
      " [ 0.14700126  0.88059889]\n",
      " [ 0.03956389  0.99518171]\n",
      " [ 0.32738795  0.74726435]\n",
      " [ 0.81867304  0.81076625]\n",
      " [ 0.32953839  0.3979079 ]\n",
      " [ 0.07032064  0.80936446]\n",
      " [ 0.68850454  0.48001862]\n",
      " [ 0.47837648  0.30403261]\n",
      " [ 0.88256343  0.05919321]\n",
      " [ 0.54359925  0.5392251 ]\n",
      " [ 0.41792605  0.24464111]\n",
      " [ 0.50077178  0.90789841]\n",
      " [ 0.54133637  0.16143614]\n",
      " [ 0.0402756   0.83938844]\n",
      " [ 0.49649462  0.21771705]\n",
      " [ 0.57654428  0.47361565]\n",
      " [ 0.56798692  0.00572218]\n",
      " [ 0.05711627  0.82189308]\n",
      " [ 0.05126117  0.47141562]\n",
      " [ 0.82399147  0.5727931 ]\n",
      " [ 0.64950413  0.9960596 ]\n",
      " [ 0.78612537  0.67003927]\n",
      " [ 0.47437738  0.56428483]\n",
      " [ 0.94159002  0.8861331 ]\n",
      " [ 0.04100681  0.80051937]\n",
      " [ 0.07281738  0.09036695]\n",
      " [ 0.77311075  0.26572623]\n",
      " [ 0.56913808  0.70256569]\n",
      " [ 0.80697546  0.56747204]\n",
      " [ 0.31662221  0.73170283]\n",
      " [ 0.2471385   0.6074777 ]\n",
      " [ 0.25375347  0.71373537]\n",
      " [ 0.64794893  0.42725271]\n",
      " [ 0.08203788  0.27147352]\n",
      " [ 0.06660067  0.75407509]\n",
      " [ 0.95498952  0.43184767]\n",
      " [ 0.62293284  0.38316757]\n",
      " [ 0.47713025  0.91970161]\n",
      " [ 0.79050481  0.0517349 ]\n",
      " [ 0.97633118  0.72158528]\n",
      " [ 0.14961125  0.17140549]\n",
      " [ 0.57179833  0.33616737]\n",
      " [ 0.57351503  0.69863929]\n",
      " [ 0.31607386  0.30736556]\n",
      " [ 0.90198088  0.7342338 ]\n",
      " [ 0.78993691  0.28945445]\n",
      " [ 0.44284922  0.4220318 ]\n",
      " [ 0.01112686  0.10159268]\n",
      " [ 0.97203027  0.74410159]\n",
      " [ 0.74423962  0.82236404]\n",
      " [ 0.23448183  0.0858003 ]\n",
      " [ 0.48140707  0.9684283 ]\n",
      " [ 0.78646998  0.53069329]\n",
      " [ 0.99483724  0.38924941]\n",
      " [ 0.71271676  0.70983274]\n",
      " [ 0.99820749  0.69468322]\n",
      " [ 0.20786896  0.3794481 ]\n",
      " [ 0.39801681  0.12297938]\n",
      " [ 0.62470613  0.10925283]\n",
      " [ 0.16634079  0.27153772]\n",
      " [ 0.68654917  0.17301442]\n",
      " [ 0.54420784  0.98759702]\n",
      " [ 0.32584017  0.02854234]\n",
      " [ 0.02987372  0.28105967]\n",
      " [ 0.38523208  0.68400919]\n",
      " [ 0.84590471  0.71361066]\n",
      " [ 0.18013399  0.0481432 ]\n",
      " [ 0.05935487  0.39590923]\n",
      " [ 0.2744917   0.76053851]\n",
      " [ 0.97075823  0.20664974]\n",
      " [ 0.01247993  0.37904164]\n",
      " [ 0.59718917  0.64778917]\n",
      " [ 0.9376163   0.06144572]\n",
      " [ 0.76234137  0.45005731]\n",
      " [ 0.52908085  0.44734195]\n",
      " [ 0.18339686  0.8160241 ]\n",
      " [ 0.85415336  0.27068606]\n",
      " [ 0.15397532  0.17137962]\n",
      " [ 0.64079274  0.37367554]\n",
      " [ 0.14616215  0.32056554]\n",
      " [ 0.97670481  0.04766921]\n",
      " [ 0.25286965  0.48681059]\n",
      " [ 0.48606348  0.6426631 ]\n",
      " [ 0.07808281  0.18036216]\n",
      " [ 0.31594115  0.46541703]\n",
      " [ 0.40869875  0.49443536]\n",
      " [ 0.30695884  0.90885487]\n",
      " [ 0.66356527  0.1954385 ]\n",
      " [ 0.6698262   0.81891096]\n",
      " [ 0.76090127  0.76813206]\n",
      " [ 0.67647937  0.28502831]\n",
      " [ 0.92780193  0.85074157]\n",
      " [ 0.35096651  0.8850665 ]\n",
      " [ 0.97813207  0.94975376]\n",
      " [ 0.49946556  0.16736284]\n",
      " [ 0.08796331  0.53845286]]\n"
     ]
    }
   ],
   "source": [
    "a = np.random.rand(100, 2)\n",
    "print a"
   ]
  },
  {
   "cell_type": "code",
   "execution_count": 82,
   "metadata": {
    "collapsed": false
   },
   "outputs": [
    {
     "name": "stdout",
     "output_type": "stream",
     "text": [
      "107.790443869\n"
     ]
    }
   ],
   "source": [
    "print np.sum(a)"
   ]
  },
  {
   "cell_type": "code",
   "execution_count": 80,
   "metadata": {
    "collapsed": false
   },
   "outputs": [
    {
     "name": "stdout",
     "output_type": "stream",
     "text": [
      "[ 53.63023422  54.16020965]\n"
     ]
    }
   ],
   "source": [
    "print np.sum(a, axis=0)"
   ]
  },
  {
   "cell_type": "code",
   "execution_count": 81,
   "metadata": {
    "collapsed": false
   },
   "outputs": [
    {
     "name": "stdout",
     "output_type": "stream",
     "text": [
      "[ 0.7977368   1.30034321  0.69695946  1.77238152  0.35382177  0.92375354\n",
      "  1.53649751  0.962432    0.7767875   1.16135604  1.39164442  1.51223666\n",
      "  0.89526578  1.7959317   0.50129861  1.38494868  1.65248127  0.99926708\n",
      "  0.53731909  1.25381768  1.00538101  0.89769296  1.58346087  0.9198245\n",
      "  1.33298428  1.5877017   0.55381224  0.25284233  1.11568993  1.18842294\n",
      "  0.95663941  0.58957972  1.34904545  1.40723672  1.48724695  1.0999769\n",
      "  1.02706667  0.94619708  1.40060758  0.37026877  1.2407811   1.00102885\n",
      "  0.95967078  0.98091632  1.32886018  0.35456979  1.29823338  1.11369328\n",
      "  0.62958232  1.14879785  1.01013459  0.87219468  1.03579842  1.0910364\n",
      "  1.12169459  1.21533605  1.41186278  1.01348974  1.08275281  1.57232415\n",
      "  0.95349614  1.24424036  0.95305108  1.00708393  0.96147829  1.11219978\n",
      "  0.79699624  0.8133463   1.3674962   1.08348584  0.66983618  1.37508284\n",
      "  1.6724902   0.23958081  1.21795112  0.69773255  1.23740203  1.67142129\n",
      "  0.71290727  1.60703183  1.89942951  1.26392476  0.95972812  1.38193626\n",
      "  0.94944305  1.02431187  1.00938914  0.91925077  1.08316803  0.51853875\n",
      "  0.20038268  1.78721921  0.85520928  1.31550334  1.03293579  1.68289672\n",
      "  0.57939068  0.55616019  1.40557788  1.21102115]\n"
     ]
    }
   ],
   "source": [
    "print np.sum(a, axis=1)"
   ]
  },
  {
   "cell_type": "code",
   "execution_count": null,
   "metadata": {
    "collapsed": true
   },
   "outputs": [],
   "source": []
  },
  {
   "cell_type": "code",
   "execution_count": null,
   "metadata": {
    "collapsed": true
   },
   "outputs": [],
   "source": []
  },
  {
   "cell_type": "code",
   "execution_count": null,
   "metadata": {
    "collapsed": true
   },
   "outputs": [],
   "source": []
  },
  {
   "cell_type": "code",
   "execution_count": 86,
   "metadata": {
    "collapsed": false
   },
   "outputs": [
    {
     "name": "stdout",
     "output_type": "stream",
     "text": [
      "[ True  True  True ..., False  True False]\n",
      "3.14028\n"
     ]
    }
   ],
   "source": [
    "# numpy only\n",
    "count = 100000\n",
    "points = np.random.rand(count, 2)\n",
    "points_sum = np.sum(points ** 2, axis = 1)\n",
    "print points_sum <= 1.0\n",
    "p =  np.sum(points_sum <= 1.0) / float(count)\n",
    "print p * 4"
   ]
  },
  {
   "cell_type": "code",
   "execution_count": 42,
   "metadata": {
    "collapsed": false
   },
   "outputs": [
    {
     "name": "stdout",
     "output_type": "stream",
     "text": [
      "3.1458\n"
     ]
    }
   ],
   "source": [
    "# numpy & pure python\n",
    "total = 100000\n",
    "count = 0 \n",
    "for i in xrange(total):\n",
    "    point = np.random.rand(2)\n",
    "    \n",
    "    distance = np.sqrt(np.sum(point ** 2))\n",
    "    if distance <= 1:\n",
    "        count += 1\n",
    "        \n",
    "print count / float(total) * 4\n",
    "\n"
   ]
  },
  {
   "cell_type": "code",
   "execution_count": 43,
   "metadata": {
    "collapsed": false
   },
   "outputs": [
    {
     "name": "stdout",
     "output_type": "stream",
     "text": [
      "[[4, 6, 4, 4], [6, 8, 5, 5]]\n"
     ]
    }
   ],
   "source": [
    "def matrix_mul(m1, m2):\n",
    "    i = len(m1)\n",
    "    j = len(m2[0])\n",
    "    k = len(m1[0])\n",
    "    \n",
    "    row = [0] * j\n",
    "    result = []\n",
    "    for x in range(i):\n",
    "        result.append(row[:])\n",
    "        \n",
    "        \n",
    "    for a in range(i):\n",
    "        for b in range(j):\n",
    "            s = 0\n",
    "            for c in range(k):\n",
    "                s += m1[a][c] * m2[c][b];\n",
    "            result[a][b] = s\n",
    "            \n",
    "    return result\n",
    "\n",
    "x = [[1, 1, 1], [1, 2, 1]]\n",
    "y = [[1, 1, 1, 1], [2, 2, 1, 1], [1, 3, 2, 2]]\n",
    "print matrix_mul(x, y)"
   ]
  },
  {
   "cell_type": "markdown",
   "metadata": {},
   "source": [
    "* pandas basic\n",
    "  - http://pandas.pydata.org/\n",
    "  - Opensource python 고성능 데이터 분석 라이브러리\n",
    "  - DataFrame, Series 객체가 가장 많이 사용\n",
    "  - ML library인 scikit-learn과 함께 ML 분석에 많이 사용 됨\n",
    "  - pip install pandas로 설치"
   ]
  },
  {
   "cell_type": "code",
   "execution_count": 87,
   "metadata": {
    "collapsed": true
   },
   "outputs": [],
   "source": [
    "import numpy as np\n",
    "import pandas as pd"
   ]
  },
  {
   "cell_type": "markdown",
   "metadata": {},
   "source": [
    " * Series\n",
    "  - pandas의 기본 객체 중 하나\n",
    "  - numpy의 ndarray를 기반으로 인덱싱을 기능을 추가하여 1차원 배열을 나타냄\n",
    "  - index를 지정하지 않을 시, 기본적으로 ndarray와 같이 0-based 인덱스 생성\n",
    "  - 같은 타입의 0개 이상의 데이터를 가질 수 있음"
   ]
  },
  {
   "cell_type": "code",
   "execution_count": 88,
   "metadata": {
    "collapsed": false
   },
   "outputs": [
    {
     "name": "stdout",
     "output_type": "stream",
     "text": [
      "0    20\n",
      "dtype: int64\n"
     ]
    }
   ],
   "source": [
    "s1 = pd.Series(20)\n",
    "print s1"
   ]
  },
  {
   "cell_type": "code",
   "execution_count": 58,
   "metadata": {
    "collapsed": false
   },
   "outputs": [
    {
     "name": "stdout",
     "output_type": "stream",
     "text": [
      "20\n"
     ]
    }
   ],
   "source": [
    "print s1[0]"
   ]
  },
  {
   "cell_type": "code",
   "execution_count": 89,
   "metadata": {
    "collapsed": false
   },
   "outputs": [
    {
     "name": "stdout",
     "output_type": "stream",
     "text": [
      "0    1\n",
      "1    2\n",
      "2    3\n",
      "3    4\n",
      "4    5\n",
      "dtype: int64\n"
     ]
    }
   ],
   "source": [
    "s2 = pd.Series(range(1, 6))\n",
    "print s2"
   ]
  },
  {
   "cell_type": "markdown",
   "metadata": {},
   "source": [
    " * 값 및 인덱스 접근\n",
    "  - 각가 values, index 속성"
   ]
  },
  {
   "cell_type": "code",
   "execution_count": 248,
   "metadata": {
    "collapsed": false
   },
   "outputs": [
    {
     "name": "stdout",
     "output_type": "stream",
     "text": [
      "[1 2 3 4 5]\n"
     ]
    }
   ],
   "source": [
    "print s2.values"
   ]
  },
  {
   "cell_type": "code",
   "execution_count": 249,
   "metadata": {
    "collapsed": false
   },
   "outputs": [
    {
     "name": "stdout",
     "output_type": "stream",
     "text": [
      "RangeIndex(start=0, stop=5, step=1)\n"
     ]
    }
   ],
   "source": [
    "print s2.index"
   ]
  },
  {
   "cell_type": "markdown",
   "metadata": {},
   "source": [
    "* index 지정하기"
   ]
  },
  {
   "cell_type": "code",
   "execution_count": 90,
   "metadata": {
    "collapsed": false
   },
   "outputs": [
    {
     "name": "stdout",
     "output_type": "stream",
     "text": [
      "a    1\n",
      "b    2\n",
      "c    3\n",
      "dtype: int64\n",
      "\n",
      "[1 2 3]\n",
      "\n",
      "Index([u'a', u'b', u'c'], dtype='object')\n"
     ]
    }
   ],
   "source": [
    "s3 = pd.Series(range(1, 4), index = ['a', 'b', 'c'])\n",
    "print s3\n",
    "print\n",
    "print s3.values\n",
    "print\n",
    "print s3.index"
   ]
  },
  {
   "cell_type": "code",
   "execution_count": 91,
   "metadata": {
    "collapsed": false
   },
   "outputs": [
    {
     "name": "stdout",
     "output_type": "stream",
     "text": [
      "2\n",
      "3\n"
     ]
    }
   ],
   "source": [
    "print s3[1] # 기본 인덱스\n",
    "print s3['c'] "
   ]
  },
  {
   "cell_type": "markdown",
   "metadata": {},
   "source": [
    "* index 재사용"
   ]
  },
  {
   "cell_type": "code",
   "execution_count": 252,
   "metadata": {
    "collapsed": false
   },
   "outputs": [
    {
     "name": "stdout",
     "output_type": "stream",
     "text": [
      "a    2\n",
      "b    2\n",
      "c    2\n",
      "dtype: int64\n"
     ]
    }
   ],
   "source": [
    "s4 = pd.Series(2, index = s3.index)\n",
    "print s4"
   ]
  },
  {
   "cell_type": "code",
   "execution_count": 253,
   "metadata": {
    "collapsed": false
   },
   "outputs": [
    {
     "name": "stdout",
     "output_type": "stream",
     "text": [
      "0    0.817524\n",
      "1   -1.511287\n",
      "2    0.411231\n",
      "3    0.403211\n",
      "4   -0.716568\n",
      "dtype: float64\n"
     ]
    }
   ],
   "source": [
    "s5 = pd.Series(np.random.randn(5))\n",
    "print s5"
   ]
  },
  {
   "cell_type": "code",
   "execution_count": 254,
   "metadata": {
    "collapsed": false
   },
   "outputs": [
    {
     "name": "stdout",
     "output_type": "stream",
     "text": [
      "0    1\n",
      "1    2\n",
      "2    3\n",
      "3    4\n",
      "4    5\n",
      "5    6\n",
      "6    7\n",
      "7    8\n",
      "dtype: int64\n"
     ]
    }
   ],
   "source": [
    "s6 = pd.Series(np.arange(1, 9))\n",
    "print s6"
   ]
  },
  {
   "cell_type": "code",
   "execution_count": 255,
   "metadata": {
    "collapsed": false
   },
   "outputs": [
    {
     "name": "stdout",
     "output_type": "stream",
     "text": [
      "a     100\n",
      "b    1000\n",
      "c       2\n",
      "d       6\n",
      "dtype: int64\n",
      "1000\n"
     ]
    }
   ],
   "source": [
    "s7 = pd.Series({'a' : 100, 'b' : 1000, 'c' : 2, 'd' : 6})\n",
    "print s7\n",
    "print s7['b']"
   ]
  },
  {
   "cell_type": "markdown",
   "metadata": {},
   "source": [
    "* Series size, shape, unique, count"
   ]
  },
  {
   "cell_type": "code",
   "execution_count": 95,
   "metadata": {
    "collapsed": false
   },
   "outputs": [
    {
     "name": "stdout",
     "output_type": "stream",
     "text": [
      "0    0.0\n",
      "1    1.0\n",
      "2    1.0\n",
      "3    2.0\n",
      "4    3.0\n",
      "5    4.0\n",
      "6    5.0\n",
      "7    6.0\n",
      "8    7.0\n",
      "9    NaN\n",
      "dtype: float64\n"
     ]
    }
   ],
   "source": [
    "s = pd.Series([0, 1, 1, 2, 3, 4, 5, 6, 7, np.nan])\n",
    "print s"
   ]
  },
  {
   "cell_type": "code",
   "execution_count": 257,
   "metadata": {
    "collapsed": false
   },
   "outputs": [
    {
     "name": "stdout",
     "output_type": "stream",
     "text": [
      "10\n"
     ]
    }
   ],
   "source": [
    "print len(s)"
   ]
  },
  {
   "cell_type": "code",
   "execution_count": 258,
   "metadata": {
    "collapsed": false
   },
   "outputs": [
    {
     "name": "stdout",
     "output_type": "stream",
     "text": [
      "10\n"
     ]
    }
   ],
   "source": [
    "print s.size"
   ]
  },
  {
   "cell_type": "code",
   "execution_count": 89,
   "metadata": {
    "collapsed": false
   },
   "outputs": [
    {
     "name": "stdout",
     "output_type": "stream",
     "text": [
      "(10,)\n"
     ]
    }
   ],
   "source": [
    "print s.shape"
   ]
  },
  {
   "cell_type": "code",
   "execution_count": 259,
   "metadata": {
    "collapsed": false
   },
   "outputs": [
    {
     "name": "stdout",
     "output_type": "stream",
     "text": [
      "9\n"
     ]
    }
   ],
   "source": [
    "print s.count() # NaN을 제외한 값을 카운팅"
   ]
  },
  {
   "cell_type": "code",
   "execution_count": 260,
   "metadata": {
    "collapsed": false
   },
   "outputs": [
    {
     "name": "stdout",
     "output_type": "stream",
     "text": [
      "[  0.   1.   2.   3.   4.   5.   6.   7.  nan]\n"
     ]
    }
   ],
   "source": [
    "print s.unique()"
   ]
  },
  {
   "cell_type": "code",
   "execution_count": 95,
   "metadata": {
    "collapsed": false
   },
   "outputs": [
    {
     "name": "stdout",
     "output_type": "stream",
     "text": [
      "1.0    2\n",
      "7.0    1\n",
      "6.0    1\n",
      "5.0    1\n",
      "4.0    1\n",
      "3.0    1\n",
      "2.0    1\n",
      "0.0    1\n",
      "dtype: int64\n"
     ]
    }
   ],
   "source": [
    "print s.value_counts() # NaN 제외하고 값들을 카운팅 함"
   ]
  },
  {
   "cell_type": "markdown",
   "metadata": {},
   "source": [
    "* head, tail, take"
   ]
  },
  {
   "cell_type": "code",
   "execution_count": 97,
   "metadata": {
    "collapsed": false
   },
   "outputs": [
    {
     "data": {
      "text/plain": [
       "0    0.0\n",
       "1    1.0\n",
       "2    1.0\n",
       "3    2.0\n",
       "4    3.0\n",
       "dtype: float64"
      ]
     },
     "execution_count": 97,
     "metadata": {},
     "output_type": "execute_result"
    }
   ],
   "source": [
    "s.head() # 상위 5개 출력"
   ]
  },
  {
   "cell_type": "code",
   "execution_count": 270,
   "metadata": {
    "collapsed": false
   },
   "outputs": [
    {
     "data": {
      "text/plain": [
       "0    0.0\n",
       "1    1.0\n",
       "2    1.0\n",
       "dtype: float64"
      ]
     },
     "execution_count": 270,
     "metadata": {},
     "output_type": "execute_result"
    }
   ],
   "source": [
    "s.head(n = 3)"
   ]
  },
  {
   "cell_type": "code",
   "execution_count": 271,
   "metadata": {
    "collapsed": false
   },
   "outputs": [
    {
     "data": {
      "text/plain": [
       "5    4.0\n",
       "6    5.0\n",
       "7    6.0\n",
       "8    7.0\n",
       "9    NaN\n",
       "dtype: float64"
      ]
     },
     "execution_count": 271,
     "metadata": {},
     "output_type": "execute_result"
    }
   ],
   "source": [
    "s.tail()"
   ]
  },
  {
   "cell_type": "code",
   "execution_count": 100,
   "metadata": {
    "collapsed": true
   },
   "outputs": [
    {
     "data": {
      "text/plain": [
       "8    7.0\n",
       "9    NaN\n",
       "dtype: float64"
      ]
     },
     "execution_count": 100,
     "metadata": {},
     "output_type": "execute_result"
    }
   ],
   "source": [
    "s.tail(n = 2)"
   ]
  },
  {
   "cell_type": "code",
   "execution_count": 98,
   "metadata": {
    "collapsed": false
   },
   "outputs": [
    {
     "name": "stdout",
     "output_type": "stream",
     "text": [
      "0    0.0\n",
      "1    1.0\n",
      "2    1.0\n",
      "3    2.0\n",
      "4    3.0\n",
      "5    4.0\n",
      "6    5.0\n",
      "7    6.0\n",
      "8    7.0\n",
      "9    NaN\n",
      "dtype: float64\n",
      "\n",
      "0    0.0\n",
      "4    3.0\n",
      "3    2.0\n",
      "9    NaN\n",
      "dtype: float64\n"
     ]
    }
   ],
   "source": [
    "print s\n",
    "print \n",
    "print s.take([0, 4, 3, 9])"
   ]
  },
  {
   "cell_type": "code",
   "execution_count": 99,
   "metadata": {
    "collapsed": false
   },
   "outputs": [
    {
     "data": {
      "text/plain": [
       "x    1\n",
       "z    3\n",
       "dtype: int64"
      ]
     },
     "execution_count": 99,
     "metadata": {},
     "output_type": "execute_result"
    }
   ],
   "source": [
    "s = pd.Series(np.arange(1, 4), index = ['x', 'y', 'z'])\n",
    "s.take([0, 2])\n",
    "#s.take(['x', 'z']) #0 - based index만 가능"
   ]
  },
  {
   "cell_type": "markdown",
   "metadata": {},
   "source": [
    "* 값 접근하기"
   ]
  },
  {
   "cell_type": "markdown",
   "metadata": {},
   "source": [
    " * single value"
   ]
  },
  {
   "cell_type": "code",
   "execution_count": 273,
   "metadata": {
    "collapsed": false
   },
   "outputs": [
    {
     "name": "stdout",
     "output_type": "stream",
     "text": [
      "1\n"
     ]
    }
   ],
   "source": [
    "print s['x']"
   ]
  },
  {
   "cell_type": "code",
   "execution_count": 274,
   "metadata": {
    "collapsed": false
   },
   "outputs": [
    {
     "name": "stdout",
     "output_type": "stream",
     "text": [
      "2\n"
     ]
    }
   ],
   "source": [
    "print s[1]"
   ]
  },
  {
   "cell_type": "markdown",
   "metadata": {},
   "source": [
    "* multiple values"
   ]
  },
  {
   "cell_type": "code",
   "execution_count": 101,
   "metadata": {
    "collapsed": false
   },
   "outputs": [
    {
     "name": "stdout",
     "output_type": "stream",
     "text": [
      "x    1\n",
      "y    2\n",
      "z    3\n",
      "dtype: int64\n",
      "x    1\n",
      "z    3\n",
      "dtype: int64\n"
     ]
    }
   ],
   "source": [
    "print s\n",
    "print s[['x', 'z']]"
   ]
  },
  {
   "cell_type": "code",
   "execution_count": 103,
   "metadata": {
    "collapsed": false
   },
   "outputs": [
    {
     "name": "stdout",
     "output_type": "stream",
     "text": [
      "100    1\n",
      "101    2\n",
      "102    3\n",
      "dtype: int64\n"
     ]
    }
   ],
   "source": [
    "s = pd.Series([1, 2, 3], index = [100, 101, 102])\n",
    "print s"
   ]
  },
  {
   "cell_type": "markdown",
   "metadata": {},
   "source": [
    "* loc , iloc\n",
    "  - loc[] : index\n",
    "  - iloc[] : 0 based index"
   ]
  },
  {
   "cell_type": "code",
   "execution_count": 102,
   "metadata": {
    "collapsed": false
   },
   "outputs": [
    {
     "name": "stdout",
     "output_type": "stream",
     "text": [
      "x    1\n",
      "y    2\n",
      "z    3\n",
      "dtype: int64\n"
     ]
    }
   ],
   "source": [
    "print s"
   ]
  },
  {
   "cell_type": "code",
   "execution_count": 105,
   "metadata": {
    "collapsed": false
   },
   "outputs": [
    {
     "name": "stdout",
     "output_type": "stream",
     "text": [
      "1\n"
     ]
    }
   ],
   "source": [
    "print s.loc[100]"
   ]
  },
  {
   "cell_type": "code",
   "execution_count": 123,
   "metadata": {
    "collapsed": false
   },
   "outputs": [
    {
     "name": "stdout",
     "output_type": "stream",
     "text": [
      "1\n"
     ]
    }
   ],
   "source": [
    "print s.iloc[0]"
   ]
  },
  {
   "cell_type": "code",
   "execution_count": 124,
   "metadata": {
    "collapsed": false
   },
   "outputs": [
    {
     "name": "stdout",
     "output_type": "stream",
     "text": [
      "100    1\n",
      "102    3\n",
      "dtype: int64\n"
     ]
    }
   ],
   "source": [
    "print s.loc[[100, 102]]"
   ]
  },
  {
   "cell_type": "code",
   "execution_count": 125,
   "metadata": {
    "collapsed": false
   },
   "outputs": [
    {
     "name": "stdout",
     "output_type": "stream",
     "text": [
      "100    1\n",
      "102    3\n",
      "dtype: int64\n"
     ]
    }
   ],
   "source": [
    "print s.iloc[[0, 2]]"
   ]
  },
  {
   "cell_type": "code",
   "execution_count": 276,
   "metadata": {
    "collapsed": false
   },
   "outputs": [
    {
     "data": {
      "text/plain": [
       "100    1.0\n",
       "102    3.0\n",
       "104    NaN\n",
       "105    NaN\n",
       "dtype: float64"
      ]
     },
     "execution_count": 276,
     "metadata": {},
     "output_type": "execute_result"
    }
   ],
   "source": [
    "s.loc[[100, 102, 104, 105]]"
   ]
  },
  {
   "cell_type": "code",
   "execution_count": 277,
   "metadata": {
    "collapsed": true
   },
   "outputs": [
    {
     "ename": "IndexError",
     "evalue": "positional indexers are out-of-bounds",
     "output_type": "error",
     "traceback": [
      "\u001b[0;31m---------------------------------------------------------------------------\u001b[0m",
      "\u001b[0;31mIndexError\u001b[0m                                Traceback (most recent call last)",
      "\u001b[0;32m<ipython-input-277-34cace03b891>\u001b[0m in \u001b[0;36m<module>\u001b[0;34m()\u001b[0m\n\u001b[0;32m----> 1\u001b[0;31m \u001b[0ms\u001b[0m\u001b[0;34m.\u001b[0m\u001b[0miloc\u001b[0m\u001b[0;34m[\u001b[0m\u001b[0;34m[\u001b[0m\u001b[0;36m0\u001b[0m\u001b[0;34m,\u001b[0m \u001b[0;36m2\u001b[0m\u001b[0;34m,\u001b[0m \u001b[0;36m1\u001b[0m\u001b[0;34m,\u001b[0m \u001b[0;36m4\u001b[0m\u001b[0;34m,\u001b[0m \u001b[0;36m5\u001b[0m\u001b[0;34m]\u001b[0m\u001b[0;34m]\u001b[0m\u001b[0;34m\u001b[0m\u001b[0m\n\u001b[0m",
      "\u001b[0;32m/usr/local/lib/python2.7/site-packages/pandas/core/indexing.pyc\u001b[0m in \u001b[0;36m__getitem__\u001b[0;34m(self, key)\u001b[0m\n\u001b[1;32m   1294\u001b[0m             \u001b[0;32mreturn\u001b[0m \u001b[0mself\u001b[0m\u001b[0;34m.\u001b[0m\u001b[0m_getitem_tuple\u001b[0m\u001b[0;34m(\u001b[0m\u001b[0mkey\u001b[0m\u001b[0;34m)\u001b[0m\u001b[0;34m\u001b[0m\u001b[0m\n\u001b[1;32m   1295\u001b[0m         \u001b[0;32melse\u001b[0m\u001b[0;34m:\u001b[0m\u001b[0;34m\u001b[0m\u001b[0m\n\u001b[0;32m-> 1296\u001b[0;31m             \u001b[0;32mreturn\u001b[0m \u001b[0mself\u001b[0m\u001b[0;34m.\u001b[0m\u001b[0m_getitem_axis\u001b[0m\u001b[0;34m(\u001b[0m\u001b[0mkey\u001b[0m\u001b[0;34m,\u001b[0m \u001b[0maxis\u001b[0m\u001b[0;34m=\u001b[0m\u001b[0;36m0\u001b[0m\u001b[0;34m)\u001b[0m\u001b[0;34m\u001b[0m\u001b[0m\n\u001b[0m\u001b[1;32m   1297\u001b[0m \u001b[0;34m\u001b[0m\u001b[0m\n\u001b[1;32m   1298\u001b[0m     \u001b[0;32mdef\u001b[0m \u001b[0m_getitem_axis\u001b[0m\u001b[0;34m(\u001b[0m\u001b[0mself\u001b[0m\u001b[0;34m,\u001b[0m \u001b[0mkey\u001b[0m\u001b[0;34m,\u001b[0m \u001b[0maxis\u001b[0m\u001b[0;34m=\u001b[0m\u001b[0;36m0\u001b[0m\u001b[0;34m)\u001b[0m\u001b[0;34m:\u001b[0m\u001b[0;34m\u001b[0m\u001b[0m\n",
      "\u001b[0;32m/usr/local/lib/python2.7/site-packages/pandas/core/indexing.pyc\u001b[0m in \u001b[0;36m_getitem_axis\u001b[0;34m(self, key, axis)\u001b[0m\n\u001b[1;32m   1597\u001b[0m \u001b[0;34m\u001b[0m\u001b[0m\n\u001b[1;32m   1598\u001b[0m                 \u001b[0;31m# validate list bounds\u001b[0m\u001b[0;34m\u001b[0m\u001b[0;34m\u001b[0m\u001b[0m\n\u001b[0;32m-> 1599\u001b[0;31m                 \u001b[0mself\u001b[0m\u001b[0;34m.\u001b[0m\u001b[0m_is_valid_list_like\u001b[0m\u001b[0;34m(\u001b[0m\u001b[0mkey\u001b[0m\u001b[0;34m,\u001b[0m \u001b[0maxis\u001b[0m\u001b[0;34m)\u001b[0m\u001b[0;34m\u001b[0m\u001b[0m\n\u001b[0m\u001b[1;32m   1600\u001b[0m \u001b[0;34m\u001b[0m\u001b[0m\n\u001b[1;32m   1601\u001b[0m                 \u001b[0;31m# force an actual list\u001b[0m\u001b[0;34m\u001b[0m\u001b[0;34m\u001b[0m\u001b[0m\n",
      "\u001b[0;32m/usr/local/lib/python2.7/site-packages/pandas/core/indexing.pyc\u001b[0m in \u001b[0;36m_is_valid_list_like\u001b[0;34m(self, key, axis)\u001b[0m\n\u001b[1;32m   1536\u001b[0m         \u001b[0ml\u001b[0m \u001b[0;34m=\u001b[0m \u001b[0mlen\u001b[0m\u001b[0;34m(\u001b[0m\u001b[0max\u001b[0m\u001b[0;34m)\u001b[0m\u001b[0;34m\u001b[0m\u001b[0m\n\u001b[1;32m   1537\u001b[0m         \u001b[0;32mif\u001b[0m \u001b[0mlen\u001b[0m\u001b[0;34m(\u001b[0m\u001b[0marr\u001b[0m\u001b[0;34m)\u001b[0m \u001b[0;32mand\u001b[0m \u001b[0;34m(\u001b[0m\u001b[0marr\u001b[0m\u001b[0;34m.\u001b[0m\u001b[0mmax\u001b[0m\u001b[0;34m(\u001b[0m\u001b[0;34m)\u001b[0m \u001b[0;34m>=\u001b[0m \u001b[0ml\u001b[0m \u001b[0;32mor\u001b[0m \u001b[0marr\u001b[0m\u001b[0;34m.\u001b[0m\u001b[0mmin\u001b[0m\u001b[0;34m(\u001b[0m\u001b[0;34m)\u001b[0m \u001b[0;34m<\u001b[0m \u001b[0;34m-\u001b[0m\u001b[0ml\u001b[0m\u001b[0;34m)\u001b[0m\u001b[0;34m:\u001b[0m\u001b[0;34m\u001b[0m\u001b[0m\n\u001b[0;32m-> 1538\u001b[0;31m             \u001b[0;32mraise\u001b[0m \u001b[0mIndexError\u001b[0m\u001b[0;34m(\u001b[0m\u001b[0;34m\"positional indexers are out-of-bounds\"\u001b[0m\u001b[0;34m)\u001b[0m\u001b[0;34m\u001b[0m\u001b[0m\n\u001b[0m\u001b[1;32m   1539\u001b[0m \u001b[0;34m\u001b[0m\u001b[0m\n\u001b[1;32m   1540\u001b[0m         \u001b[0;32mreturn\u001b[0m \u001b[0mTrue\u001b[0m\u001b[0;34m\u001b[0m\u001b[0m\n",
      "\u001b[0;31mIndexError\u001b[0m: positional indexers are out-of-bounds"
     ]
    }
   ],
   "source": [
    "s.iloc[[0, 2, 1, 4, 5]]"
   ]
  },
  {
   "cell_type": "markdown",
   "metadata": {},
   "source": [
    "* index를 기준으로 더하기"
   ]
  },
  {
   "cell_type": "code",
   "execution_count": 110,
   "metadata": {
    "collapsed": false
   },
   "outputs": [
    {
     "name": "stdout",
     "output_type": "stream",
     "text": [
      "a    1\n",
      "b    2\n",
      "c    3\n",
      "d    4\n",
      "dtype: int64\n"
     ]
    }
   ],
   "source": [
    "s1 = pd.Series([1, 2, 3, 4], index=['a', 'b', 'c', 'd'])\n",
    "print s1"
   ]
  },
  {
   "cell_type": "code",
   "execution_count": 279,
   "metadata": {
    "collapsed": false
   },
   "outputs": [
    {
     "data": {
      "text/plain": [
       "d    4\n",
       "c    3\n",
       "b    2\n",
       "a    1\n",
       "dtype: int64"
      ]
     },
     "execution_count": 279,
     "metadata": {},
     "output_type": "execute_result"
    }
   ],
   "source": [
    "s2 = pd.Series([4, 3, 2, 1], index=['d', 'c', 'b', 'a'])\n",
    "s2"
   ]
  },
  {
   "cell_type": "code",
   "execution_count": 131,
   "metadata": {
    "collapsed": false
   },
   "outputs": [
    {
     "name": "stdout",
     "output_type": "stream",
     "text": [
      "a    2\n",
      "b    4\n",
      "c    6\n",
      "d    8\n",
      "dtype: int64\n"
     ]
    }
   ],
   "source": [
    "print s1 + s2"
   ]
  },
  {
   "cell_type": "code",
   "execution_count": 132,
   "metadata": {
    "collapsed": false
   },
   "outputs": [
    {
     "data": {
      "text/plain": [
       "array([5, 5, 5, 5])"
      ]
     },
     "execution_count": 132,
     "metadata": {},
     "output_type": "execute_result"
    }
   ],
   "source": [
    "a1 = np.array([1, 2, 3, 4])\n",
    "a2 = np.array([4, 3, 2, 1])\n",
    "a1 + a2"
   ]
  },
  {
   "cell_type": "markdown",
   "metadata": {},
   "source": [
    "* 산술연산"
   ]
  },
  {
   "cell_type": "code",
   "execution_count": 111,
   "metadata": {
    "collapsed": false
   },
   "outputs": [
    {
     "name": "stdout",
     "output_type": "stream",
     "text": [
      "a    1\n",
      "b    2\n",
      "c    3\n",
      "d    4\n",
      "dtype: int64\n"
     ]
    }
   ],
   "source": [
    "print s1"
   ]
  },
  {
   "cell_type": "code",
   "execution_count": 112,
   "metadata": {
    "collapsed": false
   },
   "outputs": [
    {
     "name": "stdout",
     "output_type": "stream",
     "text": [
      "a     1\n",
      "b     4\n",
      "c     9\n",
      "d    16\n",
      "dtype: int64\n",
      "a    1\n",
      "b    2\n",
      "c    3\n",
      "d    4\n",
      "dtype: int64\n"
     ]
    }
   ],
   "source": [
    "print s1 ** 2\n",
    "print s1"
   ]
  },
  {
   "cell_type": "code",
   "execution_count": 113,
   "metadata": {
    "collapsed": false
   },
   "outputs": [
    {
     "name": "stdout",
     "output_type": "stream",
     "text": [
      "a     1\n",
      "b     4\n",
      "c     9\n",
      "d    16\n",
      "dtype: int64\n"
     ]
    }
   ],
   "source": [
    "exp = pd.Series(2, s1.index)\n",
    "print s1 ** exp"
   ]
  },
  {
   "cell_type": "code",
   "execution_count": 114,
   "metadata": {
    "collapsed": false
   },
   "outputs": [
    {
     "name": "stdout",
     "output_type": "stream",
     "text": [
      "a     NaN\n",
      "b     8.0\n",
      "c    10.0\n",
      "d    14.0\n",
      "e     NaN\n",
      "dtype: float64\n"
     ]
    }
   ],
   "source": [
    "s1 = pd.Series({'a': 1, 'b': 2, 'c': 3, 'd': 5})\n",
    "s2 = pd.Series({'b': 6, 'c': 7, 'd': 9, 'e': 10})\n",
    "\n",
    "print s1 + s2"
   ]
  },
  {
   "cell_type": "markdown",
   "metadata": {},
   "source": [
    " * NaN\n",
    "  - numpy와 비교"
   ]
  },
  {
   "cell_type": "code",
   "execution_count": 115,
   "metadata": {
    "collapsed": false
   },
   "outputs": [
    {
     "data": {
      "text/plain": [
       "3.0"
      ]
     },
     "execution_count": 115,
     "metadata": {},
     "output_type": "execute_result"
    }
   ],
   "source": [
    "nda = np.array([1, 2, 3, 4, 5])\n",
    "nda.mean()\n",
    "np.mean(nda)"
   ]
  },
  {
   "cell_type": "code",
   "execution_count": 284,
   "metadata": {
    "collapsed": false
   },
   "outputs": [
    {
     "data": {
      "text/plain": [
       "nan"
      ]
     },
     "execution_count": 284,
     "metadata": {},
     "output_type": "execute_result"
    }
   ],
   "source": [
    "nda = np.array([1, 2, 3, 4, np.NaN])\n",
    "nda.mean()"
   ]
  },
  {
   "cell_type": "code",
   "execution_count": 144,
   "metadata": {
    "collapsed": false
   },
   "outputs": [
    {
     "name": "stdout",
     "output_type": "stream",
     "text": [
      "2.5\n",
      "nan\n"
     ]
    }
   ],
   "source": [
    "s = pd.Series([1, 2, 3, 4, np.NaN])\n",
    "print s.mean()\n",
    "print s.mean(skipna=False)"
   ]
  },
  {
   "cell_type": "markdown",
   "metadata": {},
   "source": [
    " * **Boolean selection**\n",
    "  - boolean Series가 []와 함께 사용되면 True 값에 해당하는 값만 새로 반환되는 Series객체에 포함됨"
   ]
  },
  {
   "cell_type": "code",
   "execution_count": 117,
   "metadata": {
    "collapsed": false
   },
   "outputs": [
    {
     "name": "stdout",
     "output_type": "stream",
     "text": [
      "5    6\n",
      "6    7\n",
      "7    8\n",
      "8    9\n",
      "dtype: int64\n"
     ]
    }
   ],
   "source": [
    "s = pd.Series(np.arange(1, 10))\n",
    "s > 5\n",
    "print s[s > 5]"
   ]
  },
  {
   "cell_type": "code",
   "execution_count": 286,
   "metadata": {
    "collapsed": false
   },
   "outputs": [
    {
     "name": "stdout",
     "output_type": "stream",
     "text": [
      "5    6\n",
      "6    7\n",
      "7    8\n",
      "8    9\n",
      "dtype: int64\n"
     ]
    }
   ],
   "source": [
    "my_logic = s > 5\n",
    "print s[my_logic]"
   ]
  },
  {
   "cell_type": "code",
   "execution_count": 147,
   "metadata": {
    "collapsed": true
   },
   "outputs": [
    {
     "name": "stdout",
     "output_type": "stream",
     "text": [
      "5    6\n",
      "6    7\n",
      "7    8\n",
      "8    9\n",
      "dtype: int64\n"
     ]
    }
   ],
   "source": [
    "print s[s > 5]\n"
   ]
  },
  {
   "cell_type": "code",
   "execution_count": 119,
   "metadata": {
    "collapsed": false
   },
   "outputs": [
    {
     "name": "stdout",
     "output_type": "stream",
     "text": [
      "5    6\n",
      "6    7\n",
      "dtype: int64\n"
     ]
    }
   ],
   "source": [
    "#print s > 5 and s < 8\n",
    "#print s[s > 5 and s < 8]\n",
    "print s[(s > 5) & (s < 8)] # & and , | or"
   ]
  },
  {
   "cell_type": "code",
   "execution_count": 288,
   "metadata": {
    "collapsed": false
   },
   "outputs": [
    {
     "name": "stdout",
     "output_type": "stream",
     "text": [
      "True\n",
      "False\n"
     ]
    }
   ],
   "source": [
    "print (s >= 0).all()\n",
    "print (s >= 2).all()"
   ]
  },
  {
   "cell_type": "code",
   "execution_count": 289,
   "metadata": {
    "collapsed": false
   },
   "outputs": [
    {
     "name": "stdout",
     "output_type": "stream",
     "text": [
      "True\n",
      "True\n"
     ]
    }
   ],
   "source": [
    "print (s < 2).any()\n",
    "print s[s < 2].any()"
   ]
  },
  {
   "cell_type": "code",
   "execution_count": 120,
   "metadata": {
    "collapsed": false
   },
   "outputs": [
    {
     "name": "stdout",
     "output_type": "stream",
     "text": [
      "0    1\n",
      "1    2\n",
      "2    3\n",
      "3    4\n",
      "4    5\n",
      "5    6\n",
      "6    7\n",
      "7    8\n",
      "8    9\n",
      "dtype: int64\n",
      "\n",
      "24\n",
      "3\n"
     ]
    }
   ],
   "source": [
    "print s\n",
    "print \n",
    "print s[s >= 7].sum()\n",
    "print (s >= 7).sum()"
   ]
  },
  {
   "cell_type": "markdown",
   "metadata": {},
   "source": [
    "* Series 값 변경\n"
   ]
  },
  {
   "cell_type": "code",
   "execution_count": 121,
   "metadata": {
    "collapsed": false
   },
   "outputs": [
    {
     "name": "stdout",
     "output_type": "stream",
     "text": [
      "a       1\n",
      "b      10\n",
      "c     100\n",
      "d    1000\n",
      "dtype: int64\n",
      "a        1\n",
      "b       10\n",
      "c      100\n",
      "d    10000\n",
      "dtype: int64\n"
     ]
    }
   ],
   "source": [
    "s = pd.Series([1, 10, 100], index = ['a', 'b', 'c'])\n",
    "s['d'] = 1000\n",
    "\n",
    "print s\n",
    "\n",
    "s['d'] = 10000\n",
    "print s"
   ]
  },
  {
   "cell_type": "code",
   "execution_count": 291,
   "metadata": {
    "collapsed": false
   },
   "outputs": [
    {
     "name": "stdout",
     "output_type": "stream",
     "text": [
      "b       10\n",
      "c      100\n",
      "d    10000\n",
      "dtype: int64\n"
     ]
    }
   ],
   "source": [
    "del s['a']\n",
    "print s"
   ]
  },
  {
   "cell_type": "markdown",
   "metadata": {},
   "source": [
    "* Slicing"
   ]
  },
  {
   "cell_type": "code",
   "execution_count": 123,
   "metadata": {
    "collapsed": false
   },
   "outputs": [
    {
     "data": {
      "text/plain": [
       "109    1\n",
       "108    1\n",
       "107    1\n",
       "106    1\n",
       "105    1\n",
       "104    1\n",
       "103    1\n",
       "102    1\n",
       "101    1\n",
       "100    1\n",
       "dtype: int64"
      ]
     },
     "execution_count": 123,
     "metadata": {},
     "output_type": "execute_result"
    }
   ],
   "source": [
    "s.value_counts()"
   ]
  },
  {
   "cell_type": "code",
   "execution_count": 122,
   "metadata": {
    "collapsed": false
   },
   "outputs": [
    {
     "name": "stdout",
     "output_type": "stream",
     "text": [
      "10    100\n",
      "11    101\n",
      "12    102\n",
      "13    103\n",
      "14    104\n",
      "15    105\n",
      "16    106\n",
      "17    107\n",
      "18    108\n",
      "19    109\n",
      "dtype: int64\n",
      "10    100\n",
      "11    101\n",
      "12    102\n",
      "13    103\n",
      "14    104\n",
      "dtype: int64\n",
      "10    100\n",
      "11    101\n",
      "12    102\n",
      "13    103\n",
      "14    104\n",
      "dtype: int64\n",
      "15    105\n",
      "16    106\n",
      "17    107\n",
      "18    108\n",
      "19    109\n",
      "dtype: int64\n",
      "17    107\n",
      "18    108\n",
      "19    109\n",
      "dtype: int64\n"
     ]
    }
   ],
   "source": [
    "s = pd.Series(np.arange(100, 110), index=np.arange(10, 20))\n",
    "print s\n",
    "print s[0:5]\n",
    "print s[:5]\n",
    "print s[5:]\n",
    "print s[-3:]"
   ]
  },
  {
   "cell_type": "markdown",
   "metadata": {},
   "source": [
    "* DataFrame\n",
    "  - Series가 1차원이라면 DataFrame은 2차원으로 확대된 버젼\n",
    "  - Excel spreadsheet이라고 생각하면 이해하기 쉬움\n",
    "  - 2차원이기 때문에 인덱스가 row, column로 구성됨"
   ]
  },
  {
   "cell_type": "code",
   "execution_count": 1,
   "metadata": {
    "collapsed": true
   },
   "outputs": [],
   "source": [
    "import numpy as np\n",
    "import pandas as pd"
   ]
  },
  {
   "cell_type": "code",
   "execution_count": 2,
   "metadata": {
    "collapsed": false
   },
   "outputs": [
    {
     "name": "stdout",
     "output_type": "stream",
     "text": [
      "    0   1\n",
      "0  10  11\n",
      "1  20  22\n"
     ]
    }
   ],
   "source": [
    "df = pd.DataFrame(np.array([[10, 11], [20, 22]]))\n",
    "print df"
   ]
  },
  {
   "cell_type": "code",
   "execution_count": 4,
   "metadata": {
    "collapsed": false
   },
   "outputs": [
    {
     "name": "stdout",
     "output_type": "stream",
     "text": [
      "   0\n",
      "0  2\n",
      "1  1\n",
      "2  2\n",
      "3  3 <class 'pandas.core.frame.DataFrame'>\n"
     ]
    }
   ],
   "source": [
    "df = pd.DataFrame(np.array([2, 1, 2, 3]))\n",
    "print df, type(df)"
   ]
  },
  {
   "cell_type": "markdown",
   "metadata": {},
   "source": [
    "* shape"
   ]
  },
  {
   "cell_type": "code",
   "execution_count": 127,
   "metadata": {
    "collapsed": false
   },
   "outputs": [
    {
     "name": "stdout",
     "output_type": "stream",
     "text": [
      "    0   1   2   3   4\n",
      "0  10  11  12  13  14\n",
      "1  20  21  22  23  24\n",
      "(2, 5)\n",
      "\n",
      "<class 'pandas.core.frame.DataFrame'>\n",
      "RangeIndex: 2 entries, 0 to 1\n",
      "Data columns (total 5 columns):\n",
      "0    2 non-null int64\n",
      "1    2 non-null int64\n",
      "2    2 non-null int64\n",
      "3    2 non-null int64\n",
      "4    2 non-null int64\n",
      "dtypes: int64(5)\n",
      "memory usage: 152.0 bytes\n",
      "None\n",
      "\n",
      "               0          1          2          3          4\n",
      "count   2.000000   2.000000   2.000000   2.000000   2.000000\n",
      "mean   15.000000  16.000000  17.000000  18.000000  19.000000\n",
      "std     7.071068   7.071068   7.071068   7.071068   7.071068\n",
      "min    10.000000  11.000000  12.000000  13.000000  14.000000\n",
      "25%    12.500000  13.500000  14.500000  15.500000  16.500000\n",
      "50%    15.000000  16.000000  17.000000  18.000000  19.000000\n",
      "75%    17.500000  18.500000  19.500000  20.500000  21.500000\n",
      "max    20.000000  21.000000  22.000000  23.000000  24.000000\n"
     ]
    }
   ],
   "source": [
    "df1 = pd.DataFrame([pd.Series(np.arange(10, 15)) ,\n",
    "            pd.Series(np.arange(20, 25))])\n",
    "print df1\n",
    "print df1.shape\n",
    "print \n",
    "print df1.info()\n",
    "print \n",
    "print df1.describe()"
   ]
  },
  {
   "cell_type": "code",
   "execution_count": 128,
   "metadata": {
    "collapsed": false
   },
   "outputs": [
    {
     "name": "stdout",
     "output_type": "stream",
     "text": [
      "    a   b\n",
      "0  10  20\n",
      "1  20  30\n",
      "Index([u'a', u'b'], dtype='object')\n",
      "a b\n",
      "   t1  t2\n",
      "0  10  20\n",
      "1  20  30\n"
     ]
    }
   ],
   "source": [
    "df = pd.DataFrame(np.array([[10, 20], [20, 30]]), columns = ['a', 'b'])\n",
    "print df\n",
    "print df.columns\n",
    "print df.columns[0], df.columns[1]\n",
    "\n",
    "df.columns = ['t1', 't2']\n",
    "print df"
   ]
  },
  {
   "cell_type": "code",
   "execution_count": 129,
   "metadata": {
    "collapsed": false
   },
   "outputs": [
    {
     "name": "stdout",
     "output_type": "stream",
     "text": [
      "     a   b\n",
      "d1  10  20\n",
      "d2  20  30\n",
      "Index([u'd1', u'd2'], dtype='object')\n"
     ]
    }
   ],
   "source": [
    "df = pd.DataFrame(np.array([[10, 20], [20, 30]]), \n",
    "                  columns = ['a', 'b'], index = ['d1', 'd2'])\n",
    "print df\n",
    "print df.index"
   ]
  },
  {
   "cell_type": "markdown",
   "metadata": {},
   "source": [
    "* Series dictionary로 부터 생성"
   ]
  },
  {
   "cell_type": "code",
   "execution_count": 297,
   "metadata": {
    "collapsed": false
   },
   "outputs": [
    {
     "name": "stdout",
     "output_type": "stream",
     "text": [
      "   c1  c2\n",
      "0   1   6\n",
      "1   2   7\n",
      "2   3   8\n",
      "3   4   9\n",
      "4   5  10\n"
     ]
    }
   ],
   "source": [
    "s1 = pd.Series(np.arange(1, 6, 1))\n",
    "s2 = pd.Series(np.arange(6, 11, 1))\n",
    "df = pd.DataFrame({'c1': s1, 'c2': s2})\n",
    "\n",
    "print df"
   ]
  },
  {
   "cell_type": "markdown",
   "metadata": {},
   "source": [
    "* 1 / 20 이어서 진행"
   ]
  },
  {
   "cell_type": "markdown",
   "metadata": {},
   "source": [
    "* csv 데이터로 부터 dataframe 생성"
   ]
  },
  {
   "cell_type": "code",
   "execution_count": 7,
   "metadata": {
    "collapsed": false
   },
   "outputs": [
    {
     "name": "stdout",
     "output_type": "stream",
     "text": [
      "  Symbol                 Name                  Sector   Price  Dividend Yield  \\\n",
      "0    MMM           3M Company             Industrials  177.12            2.53   \n",
      "1    ABT  Abbott Laboratories             Health Care   41.89            2.55   \n",
      "2   ABBV               AbbVie             Health Care   64.16            3.60   \n",
      "3    ACN        Accenture plc  Information Technology  115.11            1.94   \n",
      "4   ATVI  Activision Blizzard  Information Technology   41.29            0.64   \n",
      "\n",
      "   Price/Earnings  Earnings/Share  Book Value  52 week low  52 week high  \\\n",
      "0           22.77            7.78       19.34       134.00        177.79   \n",
      "1           25.79            1.62       14.10        36.00         51.74   \n",
      "2           19.29            3.33        2.87        45.45         71.60   \n",
      "3           19.45            5.92       11.45        88.43        120.78   \n",
      "4           37.06            1.11       11.31        24.04         41.32   \n",
      "\n",
      "   Market Cap  EBITDA  Price/Sales  Price/Book  \\\n",
      "0      107.43    8.57         3.52        9.04   \n",
      "1       61.54    4.40         2.98        2.93   \n",
      "2      103.77   10.30         4.31       22.09   \n",
      "3       71.66    5.42         2.17        9.84   \n",
      "4       30.48    1.59         6.16        3.57   \n",
      "\n",
      "                                         SEC Filings  \n",
      "0  http://www.sec.gov/cgi-bin/browse-edgar?action...  \n",
      "1  http://www.sec.gov/cgi-bin/browse-edgar?action...  \n",
      "2  http://www.sec.gov/cgi-bin/browse-edgar?action...  \n",
      "3  http://www.sec.gov/cgi-bin/browse-edgar?action...  \n",
      "4  http://www.sec.gov/cgi-bin/browse-edgar?action...  \n"
     ]
    }
   ],
   "source": [
    "sample_df = pd.read_csv('sample.csv')\n",
    "print sample_df.head()"
   ]
  },
  {
   "cell_type": "code",
   "execution_count": 8,
   "metadata": {
    "collapsed": false
   },
   "outputs": [
    {
     "name": "stdout",
     "output_type": "stream",
     "text": [
      "  Symbol                 Name                  Sector   Price  Book Value\n",
      "0    MMM           3M Company             Industrials  177.12       19.34\n",
      "1    ABT  Abbott Laboratories             Health Care   41.89       14.10\n",
      "2   ABBV               AbbVie             Health Care   64.16        2.87\n",
      "3    ACN        Accenture plc  Information Technology  115.11       11.45\n",
      "4   ATVI  Activision Blizzard  Information Technology   41.29       11.31\n"
     ]
    }
   ],
   "source": [
    "sample_df = pd.read_csv('sample.csv', usecols = [0, 1, 2, 3, 7])\n",
    "print sample_df.head()"
   ]
  },
  {
   "cell_type": "code",
   "execution_count": 9,
   "metadata": {
    "collapsed": false
   },
   "outputs": [
    {
     "name": "stdout",
     "output_type": "stream",
     "text": [
      "                       Name                  Sector   Price  Book Value\n",
      "Symbol                                                                 \n",
      "MMM              3M Company             Industrials  177.12       19.34\n",
      "ABT     Abbott Laboratories             Health Care   41.89       14.10\n",
      "ABBV                 AbbVie             Health Care   64.16        2.87\n",
      "ACN           Accenture plc  Information Technology  115.11       11.45\n",
      "ATVI    Activision Blizzard  Information Technology   41.29       11.31\n"
     ]
    }
   ],
   "source": [
    "sample_df = pd.read_csv('sample.csv', index_col = 'Symbol', usecols = [0, 1, 2, 3, 7])\n",
    "print sample_df.head()"
   ]
  },
  {
   "cell_type": "code",
   "execution_count": 147,
   "metadata": {
    "collapsed": false
   },
   "outputs": [
    {
     "name": "stdout",
     "output_type": "stream",
     "text": [
      "                       Name   Price\n",
      "Symbol                             \n",
      "MMM              3M Company  177.12\n",
      "ABT     Abbott Laboratories   41.89\n",
      "ABBV                 AbbVie   64.16\n",
      "ACN           Accenture plc  115.11\n",
      "ATVI    Activision Blizzard   41.29\n"
     ]
    }
   ],
   "source": [
    "sample_df = pd.read_csv('sample.csv', index_col = 'Symbol', usecols=['Name', 'Symbol', 'Price'])\n",
    "print sample_df.head()"
   ]
  },
  {
   "cell_type": "markdown",
   "metadata": {},
   "source": [
    "* data 개수"
   ]
  },
  {
   "cell_type": "code",
   "execution_count": 10,
   "metadata": {
    "collapsed": false
   },
   "outputs": [
    {
     "name": "stdout",
     "output_type": "stream",
     "text": [
      "504\n"
     ]
    }
   ],
   "source": [
    "print len(sample_df)"
   ]
  },
  {
   "cell_type": "code",
   "execution_count": 11,
   "metadata": {
    "collapsed": false
   },
   "outputs": [
    {
     "name": "stdout",
     "output_type": "stream",
     "text": [
      "Index([u'MMM', u'ABT', u'ABBV', u'ACN', u'ATVI', u'AYI', u'ADBE', u'AAP',\n",
      "       u'AES', u'AET',\n",
      "       ...\n",
      "       u'XEL', u'XRX', u'XLNX', u'XL', u'XYL', u'YHOO', u'YUM', u'ZBH',\n",
      "       u'ZION', u'ZTS'],\n",
      "      dtype='object', name=u'Symbol', length=504)\n",
      "\n",
      "Index([u'Name', u'Sector', u'Price', u'Book Value'], dtype='object')\n"
     ]
    }
   ],
   "source": [
    "print sample_df.index\n",
    "print \n",
    "print sample_df.columns"
   ]
  },
  {
   "cell_type": "code",
   "execution_count": 15,
   "metadata": {
    "collapsed": false
   },
   "outputs": [
    {
     "name": "stdout",
     "output_type": "stream",
     "text": [
      "        Date    Open    High     Low   Close    Volume\n",
      "0  30-Sep-16  112.46  113.37  111.80  113.05  36379106\n",
      "1  29-Sep-16  113.16  113.80  111.80  112.18  35886990\n",
      "2  28-Sep-16  113.69  114.64  113.43  113.95  29641085\n",
      "3  27-Sep-16  113.00  113.18  112.34  113.09  24607412\n",
      "4  26-Sep-16  111.64  113.39  111.55  112.88  29869442\n",
      "5  23-Sep-16  114.42  114.79  111.55  112.71  52481151\n",
      "6  22-Sep-16  114.35  114.94  114.00  114.62  31073984\n",
      "7  21-Sep-16  113.85  113.99  112.44  113.55  36003185\n",
      "8  20-Sep-16  113.05  114.12  112.51  113.57  34514269\n",
      "9  19-Sep-16  115.19  116.18  113.25  113.58  47023046\n"
     ]
    }
   ],
   "source": [
    "#apple_df = pd.read_csv('apple.csv', header = None)\n",
    "apple_df = pd.read_csv('apple.csv')\n",
    "print apple_df[:10]"
   ]
  },
  {
   "cell_type": "markdown",
   "metadata": {},
   "source": [
    "* column 선택하기"
   ]
  },
  {
   "cell_type": "code",
   "execution_count": 159,
   "metadata": {
    "collapsed": false
   },
   "outputs": [
    {
     "name": "stdout",
     "output_type": "stream",
     "text": [
      "         Date   Close     Volume\n",
      "0   30-Sep-16  113.05   36379106\n",
      "1   29-Sep-16  112.18   35886990\n",
      "2   28-Sep-16  113.95   29641085\n",
      "3   27-Sep-16  113.09   24607412\n",
      "4   26-Sep-16  112.88   29869442\n",
      "5   23-Sep-16  112.71   52481151\n",
      "6   22-Sep-16  114.62   31073984\n",
      "7   21-Sep-16  113.55   36003185\n",
      "8   20-Sep-16  113.57   34514269\n",
      "9   19-Sep-16  113.58   47023046\n",
      "10  16-Sep-16  114.92   79886911\n",
      "11  15-Sep-16  115.57   90613177\n",
      "12  14-Sep-16  111.77  112340318\n",
      "13  13-Sep-16  107.95   62176190\n",
      "14  12-Sep-16  105.44   45292770\n",
      "15   9-Sep-16  103.13   46556984\n",
      "16   8-Sep-16  105.52   53002026\n",
      "17   7-Sep-16  108.36   42364328\n",
      "18   6-Sep-16  107.70   26880391\n",
      "19   2-Sep-16  107.73   26334858\n",
      "20   1-Sep-16  106.73   26701523\n"
     ]
    }
   ],
   "source": [
    "print apple_df[[0, 4, 5]]"
   ]
  },
  {
   "cell_type": "code",
   "execution_count": 164,
   "metadata": {
    "collapsed": false
   },
   "outputs": [
    {
     "name": "stdout",
     "output_type": "stream",
     "text": [
      "<class 'pandas.core.frame.DataFrame'>\n",
      "<class 'pandas.core.frame.DataFrame'>\n",
      "<class 'pandas.core.frame.DataFrame'>\n",
      "<class 'pandas.core.frame.DataFrame'>\n",
      "<class 'pandas.core.series.Series'>\n"
     ]
    }
   ],
   "source": [
    "print type(apple_df[[0, 4, 5]])\n",
    "print type(apple_df[[0]])\n",
    "print type(apple_df[['Date']])\n",
    "print type(apple_df[['Date', 'Close']])\n",
    "print type(apple_df['Date'])"
   ]
  },
  {
   "cell_type": "code",
   "execution_count": 161,
   "metadata": {
    "collapsed": true
   },
   "outputs": [
    {
     "name": "stdout",
     "output_type": "stream",
     "text": [
      "0     30-Sep-16\n",
      "1     29-Sep-16\n",
      "2     28-Sep-16\n",
      "3     27-Sep-16\n",
      "4     26-Sep-16\n",
      "5     23-Sep-16\n",
      "6     22-Sep-16\n",
      "7     21-Sep-16\n",
      "8     20-Sep-16\n",
      "9     19-Sep-16\n",
      "10    16-Sep-16\n",
      "11    15-Sep-16\n",
      "12    14-Sep-16\n",
      "13    13-Sep-16\n",
      "14    12-Sep-16\n",
      "15     9-Sep-16\n",
      "16     8-Sep-16\n",
      "17     7-Sep-16\n",
      "18     6-Sep-16\n",
      "19     2-Sep-16\n",
      "20     1-Sep-16\n",
      "Name: Date, dtype: object\n",
      "0     113.05\n",
      "1     112.18\n",
      "2     113.95\n",
      "3     113.09\n",
      "4     112.88\n",
      "5     112.71\n",
      "6     114.62\n",
      "7     113.55\n",
      "8     113.57\n",
      "9     113.58\n",
      "10    114.92\n",
      "11    115.57\n",
      "12    111.77\n",
      "13    107.95\n",
      "14    105.44\n",
      "15    103.13\n",
      "16    105.52\n",
      "17    108.36\n",
      "18    107.70\n",
      "19    107.73\n",
      "20    106.73\n",
      "Name: Close, dtype: float64\n"
     ]
    }
   ],
   "source": [
    "print apple_df.Date\n",
    "print apple_df.Close"
   ]
  },
  {
   "cell_type": "markdown",
   "metadata": {},
   "source": [
    "* row 선택하기\n",
    "  - Seires의 경우 []로 row 선택이 가능하나, DataFrame의 경우는 기본적으로 column을 선택하도록 설계\n",
    "  - [:10]과 같이 slicing의 경우에는 row 선택 가능\n",
    "  - .loc, .iloc, .ix 의 함수로 row 선택 가능"
   ]
  },
  {
   "cell_type": "code",
   "execution_count": 16,
   "metadata": {
    "collapsed": false
   },
   "outputs": [
    {
     "name": "stdout",
     "output_type": "stream",
     "text": [
      "        Date    Open    High     Low   Close    Volume\n",
      "0  30-Sep-16  112.46  113.37  111.80  113.05  36379106\n",
      "1  29-Sep-16  113.16  113.80  111.80  112.18  35886990\n",
      "2  28-Sep-16  113.69  114.64  113.43  113.95  29641085\n",
      "3  27-Sep-16  113.00  113.18  112.34  113.09  24607412\n",
      "4  26-Sep-16  111.64  113.39  111.55  112.88  29869442\n",
      "5  23-Sep-16  114.42  114.79  111.55  112.71  52481151\n",
      "6  22-Sep-16  114.35  114.94  114.00  114.62  31073984\n",
      "7  21-Sep-16  113.85  113.99  112.44  113.55  36003185\n",
      "8  20-Sep-16  113.05  114.12  112.51  113.57  34514269\n",
      "9  19-Sep-16  115.19  116.18  113.25  113.58  47023046\n"
     ]
    }
   ],
   "source": [
    "print apple_df[0:10]"
   ]
  },
  {
   "cell_type": "code",
   "execution_count": 17,
   "metadata": {
    "collapsed": false
   },
   "outputs": [
    {
     "name": "stdout",
     "output_type": "stream",
     "text": [
      "                       Name       Sector   Price  Book Value\n",
      "Symbol                                                      \n",
      "MMM              3M Company  Industrials  177.12       19.34\n",
      "ABT     Abbott Laboratories  Health Care   41.89       14.10\n"
     ]
    }
   ],
   "source": [
    "sample_df = pd.read_csv('sample.csv', index_col = 'Symbol', usecols = [0, 1, 2, 3, 7])\n",
    "print sample_df['MMM':'ABT']"
   ]
  },
  {
   "cell_type": "code",
   "execution_count": 312,
   "metadata": {
    "collapsed": false
   },
   "outputs": [
    {
     "name": "stdout",
     "output_type": "stream",
     "text": [
      "Name           3M Company\n",
      "Sector        Industrials\n",
      "Price              177.12\n",
      "Book Value          19.34\n",
      "Name: MMM, dtype: object\n"
     ]
    }
   ],
   "source": [
    "print sample_df.loc['MMM']"
   ]
  },
  {
   "cell_type": "code",
   "execution_count": 313,
   "metadata": {
    "collapsed": false
   },
   "outputs": [
    {
     "name": "stdout",
     "output_type": "stream",
     "text": [
      "                   Name                  Sector   Price  Book Value\n",
      "Symbol                                                             \n",
      "MMM          3M Company             Industrials  177.12       19.34\n",
      "MSFT    Microsoft Corp.  Information Technology   52.30        9.51\n"
     ]
    }
   ],
   "source": [
    "print sample_df.loc[['MMM', 'MSFT']]"
   ]
  },
  {
   "cell_type": "code",
   "execution_count": 18,
   "metadata": {
    "collapsed": false
   },
   "outputs": [
    {
     "name": "stdout",
     "output_type": "stream",
     "text": [
      "                       Name       Sector   Price  Book Value\n",
      "Symbol                                                      \n",
      "MMM              3M Company  Industrials  177.12       19.34\n",
      "ABT     Abbott Laboratories  Health Care   41.89       14.10\n",
      "ABBV                 AbbVie  Health Care   64.16        2.87\n",
      "<class 'pandas.core.frame.DataFrame'>\n",
      "Name           3M Company\n",
      "Sector        Industrials\n",
      "Price              177.12\n",
      "Book Value          19.34\n",
      "Name: MMM, dtype: object\n",
      "<class 'pandas.core.series.Series'>\n"
     ]
    }
   ],
   "source": [
    "print sample_df.iloc[[0, 1, 2]]\n",
    "print type(sample_df.iloc[[0, 1, 2]])\n",
    "\n",
    "print sample_df.iloc[0] \n",
    "print type(sample_df.iloc[0])"
   ]
  },
  {
   "cell_type": "code",
   "execution_count": 19,
   "metadata": {
    "collapsed": false
   },
   "outputs": [
    {
     "name": "stdout",
     "output_type": "stream",
     "text": [
      "                   Name                  Sector  Price  Book Value\n",
      "Symbol                                                            \n",
      "MSFT    Microsoft Corp.  Information Technology   52.3        9.51\n",
      "ZTS              Zoetis             Health Care   48.5        2.35\n"
     ]
    }
   ],
   "source": [
    "print sample_df.ix[['MSFT', 'ZTS']]"
   ]
  },
  {
   "cell_type": "code",
   "execution_count": 168,
   "metadata": {
    "collapsed": false
   },
   "outputs": [
    {
     "name": "stdout",
     "output_type": "stream",
     "text": [
      "                                 Name       Sector   Price  Book Value\n",
      "Symbol                                                                \n",
      "AMG     Affiliated Managers Group Inc   Financials  138.85       53.30\n",
      "AFL                         AFLAC Inc   Financials   72.49       48.22\n",
      "A            Agilent Technologies Inc  Health Care   45.48       12.79\n",
      "ALK              Alaska Air Group Inc  Industrials   59.86       19.81\n"
     ]
    }
   ],
   "source": [
    "print sample_df.ix[[10, 11, 12, 15]]"
   ]
  },
  {
   "cell_type": "markdown",
   "metadata": {},
   "source": [
    "* boolean selection으로 row 선택하기"
   ]
  },
  {
   "cell_type": "code",
   "execution_count": 20,
   "metadata": {
    "collapsed": true
   },
   "outputs": [
    {
     "name": "stdout",
     "output_type": "stream",
     "text": [
      "Symbol\n",
      "MMM       True\n",
      "ABT      False\n",
      "ABBV     False\n",
      "ACN       True\n",
      "ATVI     False\n",
      "AYI       True\n",
      "ADBE     False\n",
      "AAP       True\n",
      "AES      False\n",
      "AET       True\n",
      "AMG       True\n",
      "AFL      False\n",
      "A        False\n",
      "APD       True\n",
      "AKAM     False\n",
      "ALK      False\n",
      "ALB      False\n",
      "AA       False\n",
      "ALXN      True\n",
      "ALLE     False\n",
      "AGN       True\n",
      "ADS       True\n",
      "LNT      False\n",
      "ALL      False\n",
      "GOOGL     True\n",
      "GOOG      True\n",
      "MO       False\n",
      "AMZN      True\n",
      "AEE      False\n",
      "AAL      False\n",
      "         ...  \n",
      "V        False\n",
      "VNO       True\n",
      "VMC       True\n",
      "WMT      False\n",
      "WBA      False\n",
      "WM       False\n",
      "WAT       True\n",
      "WFC      False\n",
      "HCN      False\n",
      "WDC      False\n",
      "WU       False\n",
      "WRK      False\n",
      "WY       False\n",
      "WHR       True\n",
      "WFM      False\n",
      "WMB      False\n",
      "WLTW      True\n",
      "WEC      False\n",
      "WYN      False\n",
      "WYNN     False\n",
      "XEL      False\n",
      "XRX      False\n",
      "XLNX     False\n",
      "XL       False\n",
      "XYL      False\n",
      "YHOO     False\n",
      "YUM      False\n",
      "ZBH       True\n",
      "ZION     False\n",
      "ZTS      False\n",
      "Name: Price, dtype: bool\n"
     ]
    }
   ],
   "source": [
    "print sample_df.Price > 100"
   ]
  },
  {
   "cell_type": "code",
   "execution_count": 21,
   "metadata": {
    "collapsed": true
   },
   "outputs": [
    {
     "name": "stdout",
     "output_type": "stream",
     "text": [
      "                                        Name                  Sector   Price  \\\n",
      "Symbol                                                                         \n",
      "MMM                               3M Company             Industrials  177.12   \n",
      "ACN                            Accenture plc  Information Technology  115.11   \n",
      "AYI                        Acuity Brands Inc             Industrials  264.62   \n",
      "AAP                       Advance Auto Parts  Consumer Discretionary  164.85   \n",
      "AET                                Aetna Inc             Health Care  117.00   \n",
      "AMG            Affiliated Managers Group Inc              Financials  138.85   \n",
      "APD             Air Products & Chemicals Inc               Materials  144.35   \n",
      "ALXN                 Alexion Pharmaceuticals             Health Care  124.42   \n",
      "AGN                             Allergan plc             Health Care  240.59   \n",
      "ADS                    Alliance Data Systems  Information Technology  200.96   \n",
      "GOOGL                   Alphabet Inc Class A  Information Technology  717.78   \n",
      "GOOG                    Alphabet Inc Class C  Information Technology  705.63   \n",
      "AMZN                          Amazon.com Inc  Consumer Discretionary  745.81   \n",
      "AMT                    American Tower Corp A              Financials  113.66   \n",
      "AMGN                               Amgen Inc             Health Care  161.10   \n",
      "ANTM                             Anthem Inc.             Health Care  132.15   \n",
      "AON                                  Aon plc              Financials  109.57   \n",
      "AZO                             AutoZone Inc  Consumer Discretionary  815.02   \n",
      "AVGO                      Avago Technologies  Information Technology  155.14   \n",
      "AVB              AvalonBay Communities, Inc.              Financials  184.94   \n",
      "BCR                         Bard (C.R.) Inc.             Health Care  239.00   \n",
      "BDX                         Becton Dickinson             Health Care  175.64   \n",
      "BRK-B                     Berkshire Hathaway              Financials  143.65   \n",
      "BIIB                        BIOGEN IDEC Inc.             Health Care  251.30   \n",
      "BLK                                BlackRock              Financials  345.20   \n",
      "BA                            Boeing Company             Industrials  130.09   \n",
      "BXP                        Boston Properties              Financials  133.32   \n",
      "CELG                           Celgene Corp.             Health Care  105.03   \n",
      "CVX                            Chevron Corp.                  Energy  104.77   \n",
      "CMG                   Chipotle Mexican Grill  Consumer Discretionary  399.71   \n",
      "...                                      ...                     ...     ...   \n",
      "RTN                             Raytheon Co.             Industrials  138.49   \n",
      "REGN                               Regeneron             Health Care  378.35   \n",
      "ROK                 Rockwell Automation Inc.             Industrials  115.70   \n",
      "ROP                         Roper Industries             Industrials  170.04   \n",
      "SPGI                        S&P Global, Inc.              Financials  108.87   \n",
      "SRE                            Sempra Energy               Utilities  114.11   \n",
      "SHW                         Sherwin-Williams               Materials  306.52   \n",
      "SPG                 Simon Property Group Inc              Financials  219.56   \n",
      "SLG                          SL Green Realty              Financials  105.98   \n",
      "SJM                           Smucker (J.M.)        Consumer Staples  154.08   \n",
      "SNA                             Snap-On Inc.  Consumer Discretionary  160.16   \n",
      "SWK                   Stanley Black & Decker  Consumer Discretionary  114.97   \n",
      "SRCL                          Stericycle Inc             Industrials  104.70   \n",
      "SYK                            Stryker Corp.             Health Care  122.29   \n",
      "CLX                       The Clorox Company        Consumer Staples  138.37   \n",
      "HSY                      The Hershey Company        Consumer Staples  110.70   \n",
      "TRV             The Travelers Companies Inc.              Financials  118.08   \n",
      "TMO                 Thermo Fisher Scientific             Health Care  152.69   \n",
      "TDG                          TransDigm Group             Industrials  269.81   \n",
      "ULTA    Ulta Salon Cosmetics & Fragrance Inc  Consumer Discretionary  250.82   \n",
      "UNH                 United Health Group Inc.             Health Care  141.27   \n",
      "UPS                    United Parcel Service             Industrials  109.52   \n",
      "UTX                      United Technologies             Industrials  103.66   \n",
      "UHS          Universal Health Services, Inc.             Health Care  137.16   \n",
      "VNO                     Vornado Realty Trust              Financials  100.46   \n",
      "VMC                         Vulcan Materials               Materials  123.61   \n",
      "WAT                       Waters Corporation             Health Care  146.53   \n",
      "WHR                          Whirlpool Corp.  Consumer Discretionary  171.38   \n",
      "WLTW                    Willis Towers Watson              Financials  125.06   \n",
      "ZBH                   Zimmer Biomet Holdings             Health Care  124.89   \n",
      "\n",
      "        Book Value  \n",
      "Symbol              \n",
      "MMM          19.34  \n",
      "ACN          11.45  \n",
      "AYI          36.50  \n",
      "AAP          35.82  \n",
      "AET          47.96  \n",
      "AMG          53.30  \n",
      "APD          32.01  \n",
      "ALXN         35.96  \n",
      "AGN         183.41  \n",
      "ADS          29.51  \n",
      "GOOGL       179.92  \n",
      "GOOG        179.92  \n",
      "AMZN         31.26  \n",
      "AMT          16.33  \n",
      "AMGN         38.18  \n",
      "ANTM         89.59  \n",
      "AON          19.94  \n",
      "AZO         -63.16  \n",
      "AVGO         49.90  \n",
      "AVB          71.79  \n",
      "BCR          19.91  \n",
      "BDX          36.13  \n",
      "BRK-B    157329.00  \n",
      "BIIB         47.14  \n",
      "BLK         171.90  \n",
      "BA            6.32  \n",
      "BXP          36.13  \n",
      "CELG          6.55  \n",
      "CVX          79.75  \n",
      "CMG          52.48  \n",
      "...            ...  \n",
      "RTN          34.10  \n",
      "REGN         36.10  \n",
      "ROK          17.01  \n",
      "ROP          53.77  \n",
      "SPGI          0.84  \n",
      "SRE          47.83  \n",
      "SHW          10.94  \n",
      "SPG          14.69  \n",
      "SLG          70.40  \n",
      "SJM          60.26  \n",
      "SNA          43.29  \n",
      "SWK          37.76  \n",
      "SRCL         33.08  \n",
      "SYK          23.55  \n",
      "CLX           2.00  \n",
      "HSY           3.88  \n",
      "TRV          82.65  \n",
      "TMO          53.17  \n",
      "TDG         -18.16  \n",
      "ULTA         21.07  \n",
      "UNH          36.87  \n",
      "UPS           2.78  \n",
      "UTX          33.88  \n",
      "UHS          44.20  \n",
      "VNO          27.80  \n",
      "VMC          33.15  \n",
      "WAT          25.97  \n",
      "WHR          62.60  \n",
      "WLTW         80.57  \n",
      "ZBH          48.52  \n",
      "\n",
      "[122 rows x 4 columns]\n"
     ]
    }
   ],
   "source": [
    "print sample_df[sample_df.Price > 100]"
   ]
  },
  {
   "cell_type": "code",
   "execution_count": 22,
   "metadata": {
    "collapsed": true
   },
   "outputs": [
    {
     "name": "stdout",
     "output_type": "stream",
     "text": [
      "         Price\n",
      "Symbol        \n",
      "MMM     177.12\n",
      "ACN     115.11\n",
      "AYI     264.62\n",
      "AAP     164.85\n",
      "AET     117.00\n",
      "AMG     138.85\n",
      "APD     144.35\n",
      "ALXN    124.42\n",
      "AGN     240.59\n",
      "ADS     200.96\n",
      "GOOGL   717.78\n",
      "GOOG    705.63\n",
      "AMZN    745.81\n",
      "AMT     113.66\n",
      "AMGN    161.10\n",
      "ANTM    132.15\n",
      "AON     109.57\n",
      "AZO     815.02\n",
      "AVGO    155.14\n",
      "AVB     184.94\n",
      "BCR     239.00\n",
      "BDX     175.64\n",
      "BRK-B   143.65\n",
      "BIIB    251.30\n",
      "BLK     345.20\n",
      "BA      130.09\n",
      "BXP     133.32\n",
      "CELG    105.03\n",
      "CVX     104.77\n",
      "CMG     399.71\n",
      "...        ...\n",
      "RTN     138.49\n",
      "REGN    378.35\n",
      "ROK     115.70\n",
      "ROP     170.04\n",
      "SPGI    108.87\n",
      "SRE     114.11\n",
      "SHW     306.52\n",
      "SPG     219.56\n",
      "SLG     105.98\n",
      "SJM     154.08\n",
      "SNA     160.16\n",
      "SWK     114.97\n",
      "SRCL    104.70\n",
      "SYK     122.29\n",
      "CLX     138.37\n",
      "HSY     110.70\n",
      "TRV     118.08\n",
      "TMO     152.69\n",
      "TDG     269.81\n",
      "ULTA    250.82\n",
      "UNH     141.27\n",
      "UPS     109.52\n",
      "UTX     103.66\n",
      "UHS     137.16\n",
      "VNO     100.46\n",
      "VMC     123.61\n",
      "WAT     146.53\n",
      "WHR     171.38\n",
      "WLTW    125.06\n",
      "ZBH     124.89\n",
      "\n",
      "[122 rows x 1 columns]\n"
     ]
    }
   ],
   "source": [
    "print sample_df[sample_df.Price > 100][['Price']]"
   ]
  },
  {
   "cell_type": "markdown",
   "metadata": {},
   "source": [
    "* 새 column 추가하기"
   ]
  },
  {
   "cell_type": "code",
   "execution_count": 23,
   "metadata": {
    "collapsed": false
   },
   "outputs": [
    {
     "name": "stdout",
     "output_type": "stream",
     "text": [
      "                       Name                  Sector   Price  Book Value  \\\n",
      "Symbol                                                                    \n",
      "MMM              3M Company             Industrials  177.12       19.34   \n",
      "ABT     Abbott Laboratories             Health Care   41.89       14.10   \n",
      "ABBV                 AbbVie             Health Care   64.16        2.87   \n",
      "ACN           Accenture plc  Information Technology  115.11       11.45   \n",
      "ATVI    Activision Blizzard  Information Technology   41.29       11.31   \n",
      "AYI       Acuity Brands Inc             Industrials  264.62       36.50   \n",
      "ADBE      Adobe Systems Inc  Information Technology   96.79       14.53   \n",
      "AAP      Advance Auto Parts  Consumer Discretionary  164.85       35.82   \n",
      "AES                AES Corp               Utilities   12.32        4.86   \n",
      "AET               Aetna Inc             Health Care  117.00       47.96   \n",
      "\n",
      "        TwicePrice  \n",
      "Symbol              \n",
      "MMM         354.24  \n",
      "ABT          83.78  \n",
      "ABBV        128.32  \n",
      "ACN         230.22  \n",
      "ATVI         82.58  \n",
      "AYI         529.24  \n",
      "ADBE        193.58  \n",
      "AAP         329.70  \n",
      "AES          24.64  \n",
      "AET         234.00  \n"
     ]
    }
   ],
   "source": [
    "copy = sample_df.copy()\n",
    "copy['TwicePrice'] = sample_df.Price * 2\n",
    "print copy[:10]"
   ]
  },
  {
   "cell_type": "code",
   "execution_count": 319,
   "metadata": {
    "collapsed": false
   },
   "outputs": [
    {
     "name": "stdout",
     "output_type": "stream",
     "text": [
      "                       Name  TriplePrice       Sector   Price  Book Value  \\\n",
      "Symbol                                                                      \n",
      "MMM              3M Company       531.36  Industrials  177.12       19.34   \n",
      "ABT     Abbott Laboratories       125.67  Health Care   41.89       14.10   \n",
      "\n",
      "        TwicePrice  \n",
      "Symbol              \n",
      "MMM         354.24  \n",
      "ABT          83.78  \n"
     ]
    }
   ],
   "source": [
    "copy.insert(1, 'TriplePrice', sample_df.Price * 3)\n",
    "print copy[:2]"
   ]
  },
  {
   "cell_type": "markdown",
   "metadata": {
    "collapsed": true
   },
   "source": [
    " * column 삭제하기"
   ]
  },
  {
   "cell_type": "code",
   "execution_count": 124,
   "metadata": {
    "collapsed": false
   },
   "outputs": [
    {
     "name": "stdout",
     "output_type": "stream",
     "text": [
      "                       Name  TriplePrice       Sector   Price  Book Value  \\\n",
      "Symbol                                                                      \n",
      "MMM              3M Company       531.36  Industrials  177.12       19.34   \n",
      "ABT     Abbott Laboratories       125.67  Health Care   41.89       14.10   \n",
      "\n",
      "        TwicePrice  \n",
      "Symbol              \n",
      "MMM         354.24  \n",
      "ABT          83.78  \n",
      "                       Name  TriplePrice   Price  Book Value  TwicePrice\n",
      "Symbol                                                                  \n",
      "MMM              3M Company       531.36  177.12       19.34      354.24\n",
      "ABT     Abbott Laboratories       125.67   41.89       14.10       83.78\n"
     ]
    }
   ],
   "source": [
    "print copy[:2]\n",
    "del copy['Sector']\n",
    "print copy[:2]"
   ]
  },
  {
   "cell_type": "markdown",
   "metadata": {},
   "source": [
    " * row 추가/삭제하기"
   ]
  },
  {
   "cell_type": "code",
   "execution_count": 25,
   "metadata": {
    "collapsed": false
   },
   "outputs": [
    {
     "name": "stdout",
     "output_type": "stream",
     "text": [
      "                       Name       Sector   Price  Book Value  TwicePrice\n",
      "Symbol                                                                  \n",
      "MMM              3M Company  Industrials  177.12       19.34      354.24\n",
      "ABT     Abbott Laboratories  Health Care   41.89       14.10       83.78\n",
      "ABBV                 AbbVie  Health Care   64.16        2.87      128.32\n"
     ]
    },
    {
     "data": {
      "text/html": [
       "<div>\n",
       "<table border=\"1\" class=\"dataframe\">\n",
       "  <thead>\n",
       "    <tr style=\"text-align: right;\">\n",
       "      <th></th>\n",
       "      <th>Name</th>\n",
       "      <th>Sector</th>\n",
       "      <th>Price</th>\n",
       "      <th>Book Value</th>\n",
       "      <th>TwicePrice</th>\n",
       "    </tr>\n",
       "    <tr>\n",
       "      <th>Symbol</th>\n",
       "      <th></th>\n",
       "      <th></th>\n",
       "      <th></th>\n",
       "      <th></th>\n",
       "      <th></th>\n",
       "    </tr>\n",
       "  </thead>\n",
       "  <tbody>\n",
       "    <tr>\n",
       "      <th>ABBV</th>\n",
       "      <td>AbbVie</td>\n",
       "      <td>Health Care</td>\n",
       "      <td>64.16</td>\n",
       "      <td>2.87</td>\n",
       "      <td>128.32</td>\n",
       "    </tr>\n",
       "    <tr>\n",
       "      <th>Aaron</th>\n",
       "      <td>Aaron</td>\n",
       "      <td>1000</td>\n",
       "      <td>1000.00</td>\n",
       "      <td>1000.00</td>\n",
       "      <td>2000.00</td>\n",
       "    </tr>\n",
       "    <tr>\n",
       "      <th>MMM</th>\n",
       "      <td>3M Company</td>\n",
       "      <td>Industrials</td>\n",
       "      <td>177.12</td>\n",
       "      <td>19.34</td>\n",
       "      <td>354.24</td>\n",
       "    </tr>\n",
       "    <tr>\n",
       "      <th>ABT</th>\n",
       "      <td>Abbott Laboratories</td>\n",
       "      <td>Health Care</td>\n",
       "      <td>41.89</td>\n",
       "      <td>14.10</td>\n",
       "      <td>83.78</td>\n",
       "    </tr>\n",
       "    <tr>\n",
       "      <th>ABBV</th>\n",
       "      <td>AbbVie</td>\n",
       "      <td>Health Care</td>\n",
       "      <td>64.16</td>\n",
       "      <td>2.87</td>\n",
       "      <td>128.32</td>\n",
       "    </tr>\n",
       "  </tbody>\n",
       "</table>\n",
       "</div>"
      ],
      "text/plain": [
       "                       Name       Sector    Price  Book Value  TwicePrice\n",
       "Symbol                                                                   \n",
       "ABBV                 AbbVie  Health Care    64.16        2.87      128.32\n",
       "Aaron                 Aaron         1000  1000.00     1000.00     2000.00\n",
       "MMM              3M Company  Industrials   177.12       19.34      354.24\n",
       "ABT     Abbott Laboratories  Health Care    41.89       14.10       83.78\n",
       "ABBV                 AbbVie  Health Care    64.16        2.87      128.32"
      ]
     },
     "execution_count": 25,
     "metadata": {},
     "output_type": "execute_result"
    }
   ],
   "source": [
    "df1 = copy.iloc[0:3].copy()\n",
    "print df1\n",
    "copy = copy.append(df1)\n",
    "copy.tail()\n",
    "\n",
    "copy.loc['Aaron'] = ['Aaron', 1000.0, 1000.0, 1000.0, 2000.0]\n",
    "copy.tail()"
   ]
  },
  {
   "cell_type": "code",
   "execution_count": 183,
   "metadata": {
    "collapsed": false
   },
   "outputs": [
    {
     "data": {
      "text/html": [
       "<div>\n",
       "<table border=\"1\" class=\"dataframe\">\n",
       "  <thead>\n",
       "    <tr style=\"text-align: right;\">\n",
       "      <th></th>\n",
       "      <th>Name</th>\n",
       "      <th>Sector</th>\n",
       "      <th>Price</th>\n",
       "      <th>Book Value</th>\n",
       "      <th>TwicePrice</th>\n",
       "    </tr>\n",
       "    <tr>\n",
       "      <th>Symbol</th>\n",
       "      <th></th>\n",
       "      <th></th>\n",
       "      <th></th>\n",
       "      <th></th>\n",
       "      <th></th>\n",
       "    </tr>\n",
       "  </thead>\n",
       "  <tbody>\n",
       "    <tr>\n",
       "      <th>ZION</th>\n",
       "      <td>Zions Bancorp</td>\n",
       "      <td>Financials</td>\n",
       "      <td>24.74</td>\n",
       "      <td>33.23</td>\n",
       "      <td>49.48</td>\n",
       "    </tr>\n",
       "    <tr>\n",
       "      <th>ZTS</th>\n",
       "      <td>Zoetis</td>\n",
       "      <td>Health Care</td>\n",
       "      <td>48.50</td>\n",
       "      <td>2.35</td>\n",
       "      <td>97.00</td>\n",
       "    </tr>\n",
       "    <tr>\n",
       "      <th>MMM</th>\n",
       "      <td>3M Company</td>\n",
       "      <td>Industrials</td>\n",
       "      <td>177.12</td>\n",
       "      <td>19.34</td>\n",
       "      <td>354.24</td>\n",
       "    </tr>\n",
       "    <tr>\n",
       "      <th>ABT</th>\n",
       "      <td>Abbott Laboratories</td>\n",
       "      <td>Health Care</td>\n",
       "      <td>41.89</td>\n",
       "      <td>14.10</td>\n",
       "      <td>83.78</td>\n",
       "    </tr>\n",
       "    <tr>\n",
       "      <th>ABBV</th>\n",
       "      <td>AbbVie</td>\n",
       "      <td>Health Care</td>\n",
       "      <td>64.16</td>\n",
       "      <td>2.87</td>\n",
       "      <td>128.32</td>\n",
       "    </tr>\n",
       "  </tbody>\n",
       "</table>\n",
       "</div>"
      ],
      "text/plain": [
       "                       Name       Sector   Price  Book Value  TwicePrice\n",
       "Symbol                                                                  \n",
       "ZION          Zions Bancorp   Financials   24.74       33.23       49.48\n",
       "ZTS                  Zoetis  Health Care   48.50        2.35       97.00\n",
       "MMM              3M Company  Industrials  177.12       19.34      354.24\n",
       "ABT     Abbott Laboratories  Health Care   41.89       14.10       83.78\n",
       "ABBV                 AbbVie  Health Care   64.16        2.87      128.32"
      ]
     },
     "execution_count": 183,
     "metadata": {},
     "output_type": "execute_result"
    }
   ],
   "source": [
    "copy = copy.drop(['Aaron'])\n",
    "copy.tail()"
   ]
  },
  {
   "cell_type": "code",
   "execution_count": 27,
   "metadata": {
    "collapsed": false
   },
   "outputs": [
    {
     "name": "stdout",
     "output_type": "stream",
     "text": [
      "                       Name       Sector   Price  Book Value\n",
      "Symbol                                                      \n",
      "MMM              3M Company  Industrials  177.12       19.34\n",
      "ABT     Abbott Laboratories  Health Care   41.89       14.10\n",
      "ABBV                 AbbVie  Health Care   64.16        2.87\n",
      "                         Name                  Sector   Price  Book Value\n",
      "Symbol                                                                   \n",
      "AYI         Acuity Brands Inc             Industrials  264.62       36.50\n",
      "AGN              Allergan plc             Health Care  240.59      183.41\n",
      "ADS     Alliance Data Systems  Information Technology  200.96       29.51\n"
     ]
    }
   ],
   "source": [
    "selection = sample_df.Price > 200\n",
    "lessthan200 = sample_df[-selection]\n",
    "print lessthan200[:3]\n",
    "\n",
    "morethan200 = sample_df[selection]\n",
    "print morethan200[:3]"
   ]
  },
  {
   "cell_type": "markdown",
   "metadata": {
    "collapsed": true
   },
   "source": [
    "* handwrittern 이미지 인식 실습"
   ]
  },
  {
   "cell_type": "code",
   "execution_count": 1,
   "metadata": {
    "collapsed": false
   },
   "outputs": [
    {
     "name": "stdout",
     "output_type": "stream",
     "text": [
      "1\n"
     ]
    },
    {
     "data": {
      "image/png": "[encoded data removed]",
      "text/plain": [
       "<matplotlib.figure.Figure at 0x10986ac10>"
      ]
     },
     "metadata": {},
     "output_type": "display_data"
    },
    {
     "name": "stdout",
     "output_type": "stream",
     "text": [
      "0\n"
     ]
    },
    {
     "data": {
      "image/png": "[encoded data removed]",
      "text/plain": [
       "<matplotlib.figure.Figure at 0x109bc5fd0>"
      ]
     },
     "metadata": {},
     "output_type": "display_data"
    },
    {
     "name": "stdout",
     "output_type": "stream",
     "text": [
      "about to fit\n",
      "score:  0.845\n",
      "[2]\n",
      "[1]\n",
      "[5]\n"
     ]
    },
    {
     "name": "stderr",
     "output_type": "stream",
     "text": [
      "/usr/local/lib/python2.7/site-packages/sklearn/utils/validation.py:395: DeprecationWarning: Passing 1d arrays as data is deprecated in 0.17 and will raise ValueError in 0.19. Reshape your data either using X.reshape(-1, 1) if your data has a single feature or X.reshape(1, -1) if it contains a single sample.\n",
      "  DeprecationWarning)\n",
      "/usr/local/lib/python2.7/site-packages/sklearn/utils/validation.py:395: DeprecationWarning: Passing 1d arrays as data is deprecated in 0.17 and will raise ValueError in 0.19. Reshape your data either using X.reshape(-1, 1) if your data has a single feature or X.reshape(1, -1) if it contains a single sample.\n",
      "  DeprecationWarning)\n",
      "/usr/local/lib/python2.7/site-packages/sklearn/utils/validation.py:395: DeprecationWarning: Passing 1d arrays as data is deprecated in 0.17 and will raise ValueError in 0.19. Reshape your data either using X.reshape(-1, 1) if your data has a single feature or X.reshape(1, -1) if it contains a single sample.\n",
      "  DeprecationWarning)\n"
     ]
    },
    {
     "data": {
      "image/png": "[encoded data removed]",
      "text/plain": [
       "<matplotlib.figure.Figure at 0x1045a3a10>"
      ]
     },
     "metadata": {},
     "output_type": "display_data"
    },
    {
     "data": {
      "image/png": "[encoded data removed]",
      "text/plain": [
       "<matplotlib.figure.Figure at 0x109f9d950>"
      ]
     },
     "metadata": {},
     "output_type": "display_data"
    },
    {
     "data": {
      "image/png": "[encoded data removed]",
      "text/plain": [
       "<matplotlib.figure.Figure at 0x10a184050>"
      ]
     },
     "metadata": {},
     "output_type": "display_data"
    }
   ],
   "source": [
    "import numpy as np\n",
    "import pandas as pd\n",
    "import matplotlib.pyplot as plt\n",
    "import matplotlib.cm as cm\n",
    "from sklearn import neighbors\n",
    "from sklearn import linear_model\n",
    "\n",
    "df = pd.read_csv(\"data.csv\", header=0)\n",
    "\n",
    "y = df[\"label\"]\n",
    "X = df.drop(\"label\", axis=1)\n",
    "\n",
    "y = np.array(y)\n",
    "X = np.array(X)\n",
    "\n",
    "y_train = y[0:999]\n",
    "X_train = X[0:999]\n",
    "\n",
    "y_test = y[1000:1200]\n",
    "X_test = X[1000:1200]\n",
    "\n",
    "print y[0]\n",
    "reshaped_example = X[0].reshape(28,28)\n",
    "image = plt.imshow(reshaped_example,cmap = cm.Greys_r)\n",
    "plt.show()\n",
    "\n",
    "print y[1]\n",
    "reshaped_example = X[1].reshape(28,28)\n",
    "image = plt.imshow(reshaped_example,cmap = cm.Greys_r)\n",
    "plt.show()\n",
    "\n",
    "classifier = neighbors.KNeighborsClassifier()\n",
    "\n",
    "print 'about to fit'\n",
    "classifier.fit(X_train, y_train)\n",
    "\n",
    "score = classifier.score(X_test, y_test)\n",
    "print 'score: ', score\n",
    "\n",
    "\n",
    "prediction = classifier.predict(X_test[-3])\n",
    "print prediction\n",
    "\n",
    "prediction = classifier.predict(X_test[-2])\n",
    "print prediction\n",
    "\n",
    "prediction = classifier.predict(X_test[-1])\n",
    "print prediction\n",
    "\n",
    "reshaped_example = X_test[-3].reshape(28,28)\n",
    "image = plt.imshow(reshaped_example,cmap = cm.Greys_r)\n",
    "plt.show()\n",
    "\n",
    "reshaped_example = X_test[-2].reshape(28,28)\n",
    "image = plt.imshow(reshaped_example,cmap = cm.Greys_r)\n",
    "plt.show()\n",
    "\n",
    "reshaped_example = X_test[-1].reshape(28,28)\n",
    "image = plt.imshow(reshaped_example,cmap = cm.Greys_r)\n",
    "plt.show()"
   ]
  },
  {
   "cell_type": "code",
   "execution_count": null,
   "metadata": {
    "collapsed": true
   },
   "outputs": [],
   "source": []
  }
 ],
 "metadata": {
  "kernelspec": {
   "display_name": "Python 2",
   "language": "python",
   "name": "python2"
  },
  "language_info": {
   "codemirror_mode": {
    "name": "ipython",
    "version": 2
   },
   "file_extension": ".py",
   "mimetype": "text/x-python",
   "name": "python",
   "nbconvert_exporter": "python",
   "pygments_lexer": "ipython2",
   "version": "2.7.13"
  }
 },
 "nbformat": 4,
 "nbformat_minor": 1
}
