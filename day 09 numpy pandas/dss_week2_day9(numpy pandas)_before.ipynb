{
 "cells": [
  {
   "cell_type": "markdown",
   "metadata": {},
   "source": [
    "## 학습목표\n",
    " 1. numpy & pandas basic"
   ]
  },
  {
   "cell_type": "markdown",
   "metadata": {},
   "source": [
    "* numpy \n",
    "  - 기본 array 생성"
   ]
  },
  {
   "cell_type": "code",
   "execution_count": 1,
   "metadata": {
    "collapsed": false
   },
   "outputs": [
    {
     "name": "stdout",
     "output_type": "stream",
     "text": [
      "1.12.0\n"
     ]
    }
   ],
   "source": [
    "import numpy as np\n",
    "print np.__version__\n",
    "#수치해석에 매우 좋은 파이썬이지만 느리다는 치명적 단점이 있다.\n",
    "#이를 해결하고자 나타난 것이 numpy. C언어로 짜여져있기 때문에 매우 빠르다.\n",
    "#업데이트하려면 cygwin에서 pip install -U numpy. pip가 왜 좋은지 알수 있지! 편리하다. \n",
    "#그리고 kernel restart하면 업데이트 된거 확인할 수 있어.\n",
    "#pip install --help 를 치면 pip install에 대한 도움말 볼 수 있음. -U 특히 많이 씀. upgrade"
   ]
  },
  {
   "cell_type": "code",
   "execution_count": 1,
   "metadata": {
    "collapsed": false
   },
   "outputs": [
    {
     "name": "stdout",
     "output_type": "stream",
     "text": [
      "1.12.0\n"
     ]
    }
   ],
   "source": [
    "import numpy as np\n",
    "print np.__version__"
   ]
  },
  {
   "cell_type": "markdown",
   "metadata": {},
   "source": [
    "* ndarray\n",
    " - numpy의 기본 타입\n",
    " - vector, matrix를 표현\n",
    " - numpy.array([])로 생성"
   ]
  },
  {
   "cell_type": "code",
   "execution_count": 2,
   "metadata": {
    "collapsed": false
   },
   "outputs": [
    {
     "name": "stdout",
     "output_type": "stream",
     "text": [
      "[1 3 4 6] <type 'numpy.ndarray'>\n",
      "\n",
      "[[0 1 2]\n",
      " [2 4 6]\n",
      " [3 6 9]] <type 'numpy.ndarray'>\n"
     ]
    }
   ],
   "source": [
    "arr1 = np.array([1, 3, 4, 6])\n",
    "arr2 = np.array([[0, 1, 2], [2, 4, 6],[3, 6, 9]])\n",
    "\n",
    "print arr1, type(arr1)\n",
    "print\n",
    "print arr2, type(arr2)"
   ]
  },
  {
   "cell_type": "code",
   "execution_count": 5,
   "metadata": {
    "collapsed": false
   },
   "outputs": [
    {
     "name": "stdout",
     "output_type": "stream",
     "text": [
      "[1 2 3 4] [1 4 6 8]\n",
      "[ 2  6  9 12]\n",
      "[ 1  8 18 32]\n"
     ]
    }
   ],
   "source": [
    "arr1 = np.array([1,2,3,4])\n",
    "arr2 = np.array([1,4,6,8])\n",
    "print arr1, arr2\n",
    "print arr1+arr2\n",
    "print arr1 * arr2"
   ]
  },
  {
   "cell_type": "markdown",
   "metadata": {},
   "source": [
    "* arange \n",
    " - range()와 동일한 기능을 수행함\n",
    " - 다만 list가 아닌 \n",
    " - ndarray를 반환"
   ]
  },
  {
   "cell_type": "code",
   "execution_count": 7,
   "metadata": {
    "collapsed": false
   },
   "outputs": [
    {
     "name": "stdout",
     "output_type": "stream",
     "text": [
      "[ 1  2  3  4  5  6  7  8  9 10] <type 'numpy.ndarray'>\n"
     ]
    }
   ],
   "source": [
    "arr3 = np.arange(1, 11)\n",
    "print arr3, type(arr3)"
   ]
  },
  {
   "cell_type": "code",
   "execution_count": 6,
   "metadata": {
    "collapsed": false
   },
   "outputs": [
    {
     "name": "stdout",
     "output_type": "stream",
     "text": [
      "[1 2 3 4 5 6 7 8 9]\n"
     ]
    }
   ],
   "source": [
    "arr3 = np.arange(1,10)\n",
    "print arr3"
   ]
  },
  {
   "cell_type": "markdown",
   "metadata": {},
   "source": [
    "* linspace()\n",
    " - start, end를 n개의 균일한 간격으로 분할"
   ]
  },
  {
   "cell_type": "code",
   "execution_count": 8,
   "metadata": {
    "collapsed": false
   },
   "outputs": [
    {
     "name": "stdout",
     "output_type": "stream",
     "text": [
      "[ 0.          0.66666667  1.33333333  2.        ]\n"
     ]
    }
   ],
   "source": [
    "arr4 = np.linspace(0,2,4)\n",
    "print arr4"
   ]
  },
  {
   "cell_type": "code",
   "execution_count": 9,
   "metadata": {
    "collapsed": false
   },
   "outputs": [
    {
     "name": "stdout",
     "output_type": "stream",
     "text": [
      "[ 0.   0.5  1.   1.5  2. ]\n"
     ]
    }
   ],
   "source": [
    "# 0 - 2의 범위를 5등분 한다는 이야기\n",
    "arr4 = np.linspace(0, 2, 5)\n",
    "print arr4"
   ]
  },
  {
   "cell_type": "markdown",
   "metadata": {},
   "source": [
    "* zeros\n",
    " - 전달된 tuple 사이즈 행렬 반환\n",
    " - 0으로 채워짐"
   ]
  },
  {
   "cell_type": "code",
   "execution_count": 15,
   "metadata": {
    "collapsed": false
   },
   "outputs": [
    {
     "name": "stdout",
     "output_type": "stream",
     "text": [
      "[[ 0.  0.  0.  0.]\n",
      " [ 0.  0.  0.  0.]\n",
      " [ 0.  0.  0.  0.]]\n",
      "\n",
      "[ 0.  0.  0.  0.]\n"
     ]
    }
   ],
   "source": [
    "print np.zeros((3, 4))\n",
    "print\n",
    "print np.zeros(4)"
   ]
  },
  {
   "cell_type": "code",
   "execution_count": 10,
   "metadata": {
    "collapsed": false,
    "scrolled": true
   },
   "outputs": [
    {
     "name": "stdout",
     "output_type": "stream",
     "text": [
      "[[ 0.  0.  0.  0.]\n",
      " [ 0.  0.  0.  0.]\n",
      " [ 0.  0.  0.  0.]\n",
      " [ 0.  0.  0.  0.]]\n"
     ]
    }
   ],
   "source": [
    "print np.zeros((4,4)) #행렬 사이즈를 tuple로 전달함"
   ]
  },
  {
   "cell_type": "markdown",
   "metadata": {},
   "source": [
    "* ones\n",
    " - 전달된 tuple 사이즈 행렬 반환\n",
    " - 1로 채워짐"
   ]
  },
  {
   "cell_type": "code",
   "execution_count": 13,
   "metadata": {
    "collapsed": false
   },
   "outputs": [
    {
     "name": "stdout",
     "output_type": "stream",
     "text": [
      "[[[ 1.  1.]\n",
      "  [ 1.  1.]\n",
      "  [ 1.  1.]]\n",
      "\n",
      " [[ 1.  1.]\n",
      "  [ 1.  1.]\n",
      "  [ 1.  1.]]\n",
      "\n",
      " [[ 1.  1.]\n",
      "  [ 1.  1.]\n",
      "  [ 1.  1.]]]\n",
      "\n",
      "[ 1.  1.  1.]\n"
     ]
    }
   ],
   "source": [
    "print np.ones((3, 3, 2)) # 3x2 행렬이 3개 생긴다. \n",
    "print\n",
    "print np.ones(3)"
   ]
  },
  {
   "cell_type": "code",
   "execution_count": 11,
   "metadata": {
    "collapsed": false
   },
   "outputs": [
    {
     "name": "stdout",
     "output_type": "stream",
     "text": [
      "[[ 1.  1.  1.  1.]\n",
      " [ 1.  1.  1.  1.]\n",
      " [ 1.  1.  1.  1.]\n",
      " [ 1.  1.  1.  1.]]\n"
     ]
    }
   ],
   "source": [
    "print np.ones((4,4))"
   ]
  },
  {
   "cell_type": "code",
   "execution_count": 17,
   "metadata": {
    "collapsed": false
   },
   "outputs": [
    {
     "name": "stdout",
     "output_type": "stream",
     "text": [
      "[ 0.10256794  0.03815951  0.44983344]\n",
      "[ 0.82081208 -0.20752858 -1.15797069]\n"
     ]
    }
   ],
   "source": [
    "print np.random.rand(3) # rand는 [0, 1) 사이에서. 지금 3개 출력하라는 명령 줬음.\n",
    "print np.random.randn(3) # randn은 정규분포. "
   ]
  },
  {
   "cell_type": "code",
   "execution_count": 16,
   "metadata": {
    "collapsed": false
   },
   "outputs": [
    {
     "name": "stdout",
     "output_type": "stream",
     "text": [
      "[ 0.3193874   0.60321769  0.85021375]\n",
      "[ 1.63949048  0.41172886 -0.95866112]\n"
     ]
    }
   ],
   "source": [
    "print np.random.rand(3)\n",
    "print np.random.randn(3)"
   ]
  },
  {
   "cell_type": "code",
   "execution_count": 29,
   "metadata": {
    "collapsed": false,
    "scrolled": true
   },
   "outputs": [
    {
     "name": "stdout",
     "output_type": "stream",
     "text": [
      "0.548813503927\n"
     ]
    }
   ],
   "source": [
    "np.random.seed(0) #랜덤한 값을 계속 유지하고 싶을 때 사용\n",
    "print np.random.rand()"
   ]
  },
  {
   "cell_type": "code",
   "execution_count": 25,
   "metadata": {
    "collapsed": false
   },
   "outputs": [
    {
     "name": "stdout",
     "output_type": "stream",
     "text": [
      "[ 0.77132064  0.02075195  0.63364823]\n"
     ]
    }
   ],
   "source": [
    "np.random.seed(10)\n",
    "print np.random.rand(3)"
   ]
  },
  {
   "cell_type": "markdown",
   "metadata": {},
   "source": [
    "* slicing\n",
    " - 리스트, 문자열 slicing과 동일함"
   ]
  },
  {
   "cell_type": "code",
   "execution_count": 32,
   "metadata": {
    "collapsed": false
   },
   "outputs": [
    {
     "name": "stdout",
     "output_type": "stream",
     "text": [
      "1\n",
      "[3 4]\n"
     ]
    }
   ],
   "source": [
    "arr1 = np.array([1, 3, 4, 6])\n",
    "print arr1[0]\n",
    "print arr1[1:-1]"
   ]
  },
  {
   "cell_type": "code",
   "execution_count": 30,
   "metadata": {
    "collapsed": false
   },
   "outputs": [
    {
     "name": "stdout",
     "output_type": "stream",
     "text": [
      "[4 7]\n",
      "[ 4  7 10]\n"
     ]
    }
   ],
   "source": [
    "arr1 = np.array([1,4,7,10, 12])\n",
    "print arr1[1:3]\n",
    "print arr1[1:-1]"
   ]
  },
  {
   "cell_type": "code",
   "execution_count": 36,
   "metadata": {
    "collapsed": false
   },
   "outputs": [
    {
     "name": "stdout",
     "output_type": "stream",
     "text": [
      "[0 1 3]\n",
      "1\n",
      "[[2 4]]\n",
      "[3 6]\n",
      "[[1 3]\n",
      " [4 6]]\n"
     ]
    }
   ],
   "source": [
    "arr2 = np.array([[0, 1, 3], [2, 4, 6]])\n",
    "\n",
    "print arr2[0]\n",
    "print arr2[0, 1]\n",
    "print arr2[1:, :2] # 1행이니까 2,4,6. 마지막 열 제거. 둘다 범위가 들어갔으니 범위 유지하면서 2차원으로 출력됨. \n",
    "print arr2[:, 2]\n",
    "print arr2[:, 1:]\n"
   ]
  },
  {
   "cell_type": "code",
   "execution_count": 35,
   "metadata": {
    "collapsed": false
   },
   "outputs": [
    {
     "name": "stdout",
     "output_type": "stream",
     "text": [
      "6\n",
      "[[2 6]\n",
      " [3 5]]\n"
     ]
    }
   ],
   "source": [
    "arr2 = np.array([[1,2,3], [2,6,10], [3,5,7]]) # [[], []] 이해하지?\n",
    "print arr2[1,1]\n",
    "print arr2[1:, :2]"
   ]
  },
  {
   "cell_type": "markdown",
   "metadata": {},
   "source": [
    "* array masking\n",
    "  - numpy의 원소를 선택하거나 제거하여 추출하는 방법"
   ]
  },
  {
   "cell_type": "code",
   "execution_count": 4,
   "metadata": {
    "collapsed": false
   },
   "outputs": [
    {
     "name": "stdout",
     "output_type": "stream",
     "text": [
      "[14 31  0 15 17  9 29 19 12 21]\n"
     ]
    }
   ],
   "source": [
    "arr = np.random.randint(0, 35, 10) #이 범위에서 10개 가져와라.\n",
    "print arr #ndarray"
   ]
  },
  {
   "cell_type": "code",
   "execution_count": 41,
   "metadata": {
    "collapsed": false,
    "scrolled": true
   },
   "outputs": [
    {
     "name": "stdout",
     "output_type": "stream",
     "text": [
      "[8 4 1]\n"
     ]
    }
   ],
   "source": [
    "arr = np.random.randint(0,10,3)\n",
    "print arr"
   ]
  },
  {
   "cell_type": "code",
   "execution_count": 5,
   "metadata": {
    "collapsed": false,
    "scrolled": true
   },
   "outputs": [
    {
     "name": "stdout",
     "output_type": "stream",
     "text": [
      "[ True False  True False False False False False  True False]\n",
      "\n",
      "[14  0 12]\n",
      "\n",
      "[14  0 12]\n"
     ]
    }
   ],
   "source": [
    "even_mask = (arr % 2 == 0) #numpy에서는 ndarray에 연산을 해버리면 원소 일일히 다 연산이 됨.\n",
    "print even_mask\n",
    "print \n",
    "print arr[even_mask] #True인 것만 가져온다\n",
    "print\n",
    "print arr[arr % 2 == 0]"
   ]
  },
  {
   "cell_type": "code",
   "execution_count": 56,
   "metadata": {
    "collapsed": false
   },
   "outputs": [
    {
     "name": "stdout",
     "output_type": "stream",
     "text": [
      "[False  True False False False  True False False  True  True]\n",
      "[ 2 52 84 48]\n",
      "[ 2 52 84 48]\n"
     ]
    }
   ],
   "source": [
    "arr = np.random.randint(0, 100, 10)\n",
    "even_masking = (arr % 2 == 0)\n",
    "print even_masking\n",
    "print arr[even_masking] #true인것만 가져와서 array만듬\n",
    "print arr[arr % 2 ==0]"
   ]
  },
  {
   "cell_type": "markdown",
   "metadata": {},
   "source": [
    "* operations\n",
    "  - 기본 연산은 벡터화되어 전체 원소에 적용된다.\n",
    "  - 벡터화: 한번에 해버려!"
   ]
  },
  {
   "cell_type": "code",
   "execution_count": 60,
   "metadata": {
    "collapsed": false
   },
   "outputs": [
    {
     "name": "stdout",
     "output_type": "stream",
     "text": [
      "[ 5 10 15 20 25 30]\n"
     ]
    }
   ],
   "source": [
    "arr = np.arange(1, 7) * 5\n",
    "print arr"
   ]
  },
  {
   "cell_type": "code",
   "execution_count": 62,
   "metadata": {
    "collapsed": false
   },
   "outputs": [
    {
     "name": "stdout",
     "output_type": "stream",
     "text": [
      "[ 1  8 27 64]\n",
      "[ 1.          2.82842712  5.19615242  8.        ]\n"
     ]
    }
   ],
   "source": [
    "arr2 = np.arange(1,5) ** 3\n",
    "print arr2\n",
    "print arr2 ** 0.5"
   ]
  },
  {
   "cell_type": "code",
   "execution_count": 58,
   "metadata": {
    "collapsed": false
   },
   "outputs": [
    {
     "name": "stdout",
     "output_type": "stream",
     "text": [
      "[ 3  6  9 12 15 18 21 24 27 30] [ 1  2  3  4  5  6  7  8  9 10]\n",
      "\n",
      "[ 2  4  6  8 10 12 14 16 18 20]\n",
      "[  3  12  27  48  75 108 147 192 243 300]\n"
     ]
    }
   ],
   "source": [
    "arr1 = np.arange(0, 30, 3) + 3\n",
    "arr2 = np.arange(1, 11)\n",
    "print arr1, arr2\n",
    "print\n",
    "print arr1 - arr2 \n",
    "print arr1 * arr2 #길이가 다르면 이건 계산 안되.\n"
   ]
  },
  {
   "cell_type": "code",
   "execution_count": 39,
   "metadata": {
    "collapsed": false
   },
   "outputs": [
    {
     "name": "stdout",
     "output_type": "stream",
     "text": [
      "6\n"
     ]
    }
   ],
   "source": [
    "#XoR\n",
    "\n",
    "print 4^2 #110, 10에서 다르면 1 같으면 0"
   ]
  },
  {
   "cell_type": "code",
   "execution_count": 66,
   "metadata": {
    "collapsed": false
   },
   "outputs": [
    {
     "name": "stdout",
     "output_type": "stream",
     "text": [
      "[[2 2]\n",
      " [2 2]]\n",
      "\n",
      "[[4 4]\n",
      " [4 4]]\n"
     ]
    }
   ],
   "source": [
    "arr1 = np.array([[1, 1], [1, 1]])\n",
    "arr2 = np.array([[2, 2], [2, 2]])\n",
    "\n",
    "print arr1 * arr2  # 원소끼리의 곱\n",
    "print\n",
    "print arr1.dot(arr2) # 행렬 곱"
   ]
  },
  {
   "cell_type": "markdown",
   "metadata": {},
   "source": [
    "* logical operator \n",
    "  - all(), any()"
   ]
  },
  {
   "cell_type": "code",
   "execution_count": 86,
   "metadata": {
    "collapsed": false
   },
   "outputs": [
    {
     "name": "stdout",
     "output_type": "stream",
     "text": [
      "[[7 6 8 4]\n",
      " [8 1 4 7]\n",
      " [1 8 3 6]\n",
      " [2 1 3 4]]\n"
     ]
    }
   ],
   "source": [
    "arr = np.random.randint(1, 10, size = (4,4)) #앞서 해봤듯이 tuple를 통해 행렬 size 지정할 수 있음\n",
    "print arr"
   ]
  },
  {
   "cell_type": "code",
   "execution_count": 87,
   "metadata": {
    "collapsed": false
   },
   "outputs": [
    {
     "name": "stdout",
     "output_type": "stream",
     "text": [
      "True\n",
      "True\n"
     ]
    }
   ],
   "source": [
    "print np.all(arr < 10) #모든 원소가 조건을 만족시키면 True반환\n",
    "print np.all(arr < 10)"
   ]
  },
  {
   "cell_type": "code",
   "execution_count": 88,
   "metadata": {
    "collapsed": false
   },
   "outputs": [
    {
     "name": "stdout",
     "output_type": "stream",
     "text": [
      "True\n",
      "False\n"
     ]
    }
   ],
   "source": [
    "print np.any(arr % 7 == 0) #1개의 원소라도 조건을 만족시키면 True반환\n",
    "print np.any(arr % 5 == 0 )"
   ]
  },
  {
   "cell_type": "markdown",
   "metadata": {},
   "source": [
    "* ravel\n",
    "  - 다차원배열을 1차원으로 늘이기"
   ]
  },
  {
   "cell_type": "code",
   "execution_count": 89,
   "metadata": {
    "collapsed": false,
    "scrolled": false
   },
   "outputs": [
    {
     "name": "stdout",
     "output_type": "stream",
     "text": [
      "[[ 1  2  3  4  5]\n",
      " [10 11 12 13 14]]\n",
      "\n",
      "[ 1  2  3  4  5 10 11 12 13 14]\n"
     ]
    }
   ],
   "source": [
    "arr = np.array([np.arange(1, 6), np.arange(10, 15)])\n",
    "print arr\n",
    "print\n",
    "print arr.ravel() #1차원으로 보내버림."
   ]
  },
  {
   "cell_type": "code",
   "execution_count": 98,
   "metadata": {
    "collapsed": false
   },
   "outputs": [
    {
     "name": "stdout",
     "output_type": "stream",
     "text": [
      "[[ 1  2  3  4  5]\n",
      " [10 11 12 13 14]]\n",
      "[ 1  2  3  4  5 10 11 12 13 14]\n",
      "[[ 1  2]\n",
      " [ 3  4]\n",
      " [ 5 10]\n",
      " [11 12]\n",
      " [13 14]]\n"
     ]
    }
   ],
   "source": [
    "arr = np.array([np.arange(1,6), np.arange(10,15)])\n",
    "print arr\n",
    "print arr.ravel()\n",
    "print arr.ravel().reshape(5,2)"
   ]
  },
  {
   "cell_type": "markdown",
   "metadata": {},
   "source": [
    "* reshaping\n",
    " - array의 shape을 재정렬"
   ]
  },
  {
   "cell_type": "code",
   "execution_count": 92,
   "metadata": {
    "collapsed": false
   },
   "outputs": [
    {
     "name": "stdout",
     "output_type": "stream",
     "text": [
      "[ 1  2  3  4  5  6  7  8  9 10 11 12 13 14 15]\n",
      "\n",
      "[[ 1  2  3  4  5]\n",
      " [ 6  7  8  9 10]\n",
      " [11 12 13 14 15]]\n",
      "\n",
      "[ 1  2  3  4  5  6  7  8  9 10 11 12 13 14 15]\n"
     ]
    }
   ],
   "source": [
    "arr = np.arange(1, 16)\n",
    "print arr\n",
    "print\n",
    "arr2 = arr.reshape(3, 5) #row, column 갯수 지정\n",
    "print arr2\n",
    "print\n",
    "print arr2.ravel()"
   ]
  },
  {
   "cell_type": "markdown",
   "metadata": {},
   "source": [
    "* 자주 쓰는 numpy 함수"
   ]
  },
  {
   "cell_type": "code",
   "execution_count": 106,
   "metadata": {
    "collapsed": false
   },
   "outputs": [
    {
     "name": "stdout",
     "output_type": "stream",
     "text": [
      "[ 1  2  3  4  5  6  7  8  9 10 11 12 13 14 15]\n",
      "1\n",
      "15\n",
      "8.0\n",
      "8.0\n",
      "4.32049379894\n",
      "0\n",
      "14\n",
      "120\n",
      "[ 1.          1.41421356  1.73205081  2.          2.23606798  2.44948974\n",
      "  2.64575131  2.82842712  3.          3.16227766  3.31662479  3.46410162\n",
      "  3.60555128  3.74165739  3.87298335]\n",
      "\n",
      "[10, 11, 12, 13, 14, 15]\n",
      "12.5\n",
      "[ 3.16227766  3.31662479  3.46410162  3.60555128  3.74165739  3.87298335]\n"
     ]
    }
   ],
   "source": [
    "arr = np.arange(1, 16)\n",
    "\n",
    "print arr\n",
    "print np.min(arr)\n",
    "print np.max(arr)\n",
    "print np.mean(arr)\n",
    "print np.median(arr)\n",
    "print np.std(arr)\n",
    "print np.argmin(arr) #최소값의 인덱스 반환\n",
    "print np.argmax(arr) #최대값의 인덱스 반환\n",
    "print np.sum(arr)\n",
    "print np.sqrt(arr) #각 원소별로 구함.\n",
    "print\n",
    "lst = range(10,16)\n",
    "print lst\n",
    "print np.mean(lst) #list에서도 쓸 수 있음.\n",
    "print np.sqrt(lst) #근데 값은 array로 반환함\n",
    "\n",
    "A =  [[2, 3, 4], [1, 2, 3]]\n",
    "B =  [[2, 3], [1, 2], [3, 4]]"
   ]
  },
  {
   "cell_type": "markdown",
   "metadata": {},
   "source": [
    "* 연습문제)\n",
    "1. numpy를 이용하여 Math.pi 값을 다시 구해봅시다.\n",
    "2. python 기본 리스트 객체로 만든 두 행렬을 곱하는 코드를 작성하시오."
   ]
  },
  {
   "cell_type": "code",
   "execution_count": 6,
   "metadata": {
    "collapsed": false,
    "scrolled": true
   },
   "outputs": [
    {
     "name": "stdout",
     "output_type": "stream",
     "text": [
      "3.1382\n"
     ]
    }
   ],
   "source": [
    "#1.\n",
    "import numpy as np\n",
    "number = 100000\n",
    "x = np.random.rand(number)\n",
    "y = np.random.rand(number)\n",
    "z = x**2 + y**2\n",
    "count = 0\n",
    "for i in z:\n",
    "    if i <= 1:\n",
    "        count += 1\n",
    "        \n",
    "print 4 * (count/float(number))\n"
   ]
  },
  {
   "cell_type": "code",
   "execution_count": 14,
   "metadata": {
    "collapsed": false,
    "scrolled": true
   },
   "outputs": [
    {
     "name": "stdout",
     "output_type": "stream",
     "text": [
      "[[ 0.49931798  0.82136635]\n",
      " [ 0.58634032  0.67444511]\n",
      " [ 0.5025245   0.97202871]\n",
      " [ 0.43896612  0.94436338]\n",
      " [ 0.58145476  0.752757  ]]\n",
      "[[ 0.24931844  0.67464268]\n",
      " [ 0.34379497  0.45487621]\n",
      " [ 0.25253087  0.94483982]\n",
      " [ 0.19269125  0.89182219]\n",
      " [ 0.33808964  0.5666431 ]]\n"
     ]
    },
    {
     "data": {
      "text/plain": [
       "array([ 1.32068433,  1.26078543,  1.47455321,  1.38332949,  1.33421177])"
      ]
     },
     "execution_count": 14,
     "metadata": {},
     "output_type": "execute_result"
    }
   ],
   "source": [
    "a = np.random.rand(5,2)\n",
    "print a\n",
    "print a**2\n",
    "np.sum(a) #다 더하는 것.\n",
    "np.sum(a, axis = 0) #행 따라가면서 더해라\n",
    "np.sum(a, axis = 1) #열 따라가면서 더해라"
   ]
  },
  {
   "cell_type": "code",
   "execution_count": 33,
   "metadata": {
    "collapsed": false
   },
   "outputs": [
    {
     "name": "stdout",
     "output_type": "stream",
     "text": [
      "[ True False False ...,  True  True False]\n",
      "3.1352\n"
     ]
    }
   ],
   "source": [
    "import numpy as np\n",
    "count = 10000\n",
    "points = np.random.rand(count,2)\n",
    "points_sum = np.sum(points ** 2, axis = 1)\n",
    "print (points_sum<=1.0) #True는 값으로 치면 1\n",
    "pi = np.sum(points_sum <= 1.0) / float(count)\n",
    "print pi * 4"
   ]
  },
  {
   "cell_type": "markdown",
   "metadata": {},
   "source": [
    "# numpy만으로 만들기! 더이상 loop 안쓰는 것을 지향하자. 이게 제일 중요."
   ]
  },
  {
   "cell_type": "code",
   "execution_count": 28,
   "metadata": {
    "collapsed": false
   },
   "outputs": [
    {
     "name": "stdout",
     "output_type": "stream",
     "text": [
      "3.14084\n"
     ]
    }
   ],
   "source": [
    "count = 1000000\n",
    "points = np.random.rand(count, 2)\n",
    "points_sum = np.sum(points**2, axis = 1) #제곱한 어레이를 열을 따라가면서 더함. 즉 x**2 + y**2 가 원소로 있는 세로로 기다란 어레이가 됨\n",
    "p = np.sum(points_sum<=1.0)/float(count) #True면 값은 1\n",
    "print p * 4"
   ]
  },
  {
   "cell_type": "code",
   "execution_count": null,
   "metadata": {
    "collapsed": true
   },
   "outputs": [],
   "source": []
  },
  {
   "cell_type": "code",
   "execution_count": 27,
   "metadata": {
    "collapsed": false
   },
   "outputs": [
    {
     "name": "stdout",
     "output_type": "stream",
     "text": [
      "[28, 34, 40, 49]\n"
     ]
    }
   ],
   "source": [
    "#2. python 기본 리스트 객체로 만든 두 행렬을 곱하는 코드를 작성하시오.\n",
    "a = [[1, 2, 3], [2, 3, 4]]\n",
    "b = [[2, 3], [4, 5], [6, 7]]\n",
    "\n",
    "l = len(b[0])\n",
    "n = len(b)\n",
    "m = len(a)\n",
    "\n",
    "result = []\n",
    "\n",
    "for j in range(m):\n",
    "    for k in range(l):\n",
    "        total = 0\n",
    "        for i in range(n):\n",
    "            total += a[j][i] * b[i][k]\n",
    "        result.append(total)\n",
    "\n",
    "print result"
   ]
  },
  {
   "cell_type": "code",
   "execution_count": null,
   "metadata": {
    "collapsed": true
   },
   "outputs": [],
   "source": []
  },
  {
   "cell_type": "markdown",
   "metadata": {},
   "source": [
    "* pandas basic\n",
    "  - http://pandas.pydata.org/\n",
    "  - Opensource python 고성능 데이터 분석 라이브러리\n",
    "  - numpy기반\n",
    "  - DataFrame(excel과 유사), Series 객체가 가장 많이 사용.\n",
    "  - ML library인 scikit-learn과 함께 ML 분석에 많이 사용 됨\n",
    "  - pip install pandas로 설치\n",
    "  \n",
    "  \n",
    "* 아나콘다\n",
    " - venv랑 충돌을 일으키므로 같이 사용하기 힘듬"
   ]
  },
  {
   "cell_type": "code",
   "execution_count": 108,
   "metadata": {
    "collapsed": true
   },
   "outputs": [],
   "source": [
    "import numpy as np\n",
    "import pandas as pd"
   ]
  },
  {
   "cell_type": "markdown",
   "metadata": {},
   "source": [
    " * Series\n",
    "  - pandas의 기본 객체 중 하나\n",
    "  - numpy의 ndarray를 기반으로 인덱싱을 기능을 추가하여 1차원 배열을 나타냄\n",
    "  - index를 지정하지 않을 시, 기본적으로 ndarray와 같이 0-based 인덱스 생성\n",
    "  - 같은 타입의 0개 이상의 데이터를 가질 수 있음\n",
    "  - 인덱스를 지정할 수 있음."
   ]
  },
  {
   "cell_type": "code",
   "execution_count": 118,
   "metadata": {
    "collapsed": false
   },
   "outputs": [
    {
     "name": "stdout",
     "output_type": "stream",
     "text": [
      "0    20\n",
      "dtype: int64\n",
      "0    A\n",
      "1    1\n",
      "dtype: object\n"
     ]
    }
   ],
   "source": [
    "s1 = pd.Series(20)\n",
    "print s1 #인덱스랑 데이터 출력. 아무것도 지정안해서 디폴트로 인덱스가 숫자로 나옴\n",
    "\n",
    "\n",
    "s2 = pd.Series((\"A\", 1))\n",
    "print s2"
   ]
  },
  {
   "cell_type": "code",
   "execution_count": 58,
   "metadata": {
    "collapsed": false
   },
   "outputs": [
    {
     "name": "stdout",
     "output_type": "stream",
     "text": [
      "20\n"
     ]
    }
   ],
   "source": [
    "print s1[0] #인덱스로 접근"
   ]
  },
  {
   "cell_type": "code",
   "execution_count": 117,
   "metadata": {
    "collapsed": false
   },
   "outputs": [
    {
     "name": "stdout",
     "output_type": "stream",
     "text": [
      "0    1\n",
      "1    2\n",
      "2    3\n",
      "3    4\n",
      "4    5\n",
      "dtype: int64\n",
      "0    1\n",
      "1    2\n",
      "2    3\n",
      "3    4\n",
      "4    5\n",
      "5    6\n",
      "6    7\n",
      "dtype: int32\n"
     ]
    }
   ],
   "source": [
    "s2 = pd.Series(range(1,6)) #range는 datatype이 int64\n",
    "print s2\n",
    "s3 = pd.Series(np.arange(1,8)) #np.arange는 datatype이 int32\n",
    "print s3"
   ]
  },
  {
   "cell_type": "markdown",
   "metadata": {},
   "source": [
    " * 값 및 인덱스 접근\n",
    "  - 각가 values, index 속성"
   ]
  },
  {
   "cell_type": "code",
   "execution_count": 126,
   "metadata": {
    "collapsed": false
   },
   "outputs": [
    {
     "name": "stdout",
     "output_type": "stream",
     "text": [
      "0    1\n",
      "1    2\n",
      "2    3\n",
      "3    4\n",
      "4    5\n",
      "dtype: int64\n",
      "[1 2 3 4 5]\n"
     ]
    }
   ],
   "source": [
    "s2 = pd.Series(range(1,6)) #range는 datatype이 int64\n",
    "print s2\n",
    "print s2.values"
   ]
  },
  {
   "cell_type": "code",
   "execution_count": 127,
   "metadata": {
    "collapsed": false
   },
   "outputs": [
    {
     "name": "stdout",
     "output_type": "stream",
     "text": [
      "RangeIndex(start=0, stop=5, step=1)\n",
      "a    1\n",
      "b    2\n",
      "c    3\n",
      "d    4\n",
      "e    5\n",
      "dtype: int64\n",
      "Index([u'a', u'b', u'c', u'd', u'e'], dtype='object')\n"
     ]
    }
   ],
   "source": [
    "print s2.index #stop은 포함 안함.\n"
   ]
  },
  {
   "cell_type": "markdown",
   "metadata": {},
   "source": [
    "* index 지정하기"
   ]
  },
  {
   "cell_type": "code",
   "execution_count": 159,
   "metadata": {
    "collapsed": false,
    "scrolled": true
   },
   "outputs": [
    {
     "name": "stdout",
     "output_type": "stream",
     "text": [
      "[1 2 3 4 5]\n",
      "Index([u'a', u'b', u'c', u'd', u'e'], dtype='object')\n"
     ]
    }
   ],
   "source": [
    "s3 = pd.Series(range(1,6), index = [\"a\", \"b\",\"c\",\"d\",\"e\"])\n",
    "print s3.values\n",
    "print s3.index"
   ]
  },
  {
   "cell_type": "code",
   "execution_count": 137,
   "metadata": {
    "collapsed": false,
    "scrolled": true
   },
   "outputs": [
    {
     "name": "stdout",
     "output_type": "stream",
     "text": [
      "2\n",
      "3\n",
      "3\n"
     ]
    }
   ],
   "source": [
    "print s3[1] # 기본 인덱스를 지정한 후에도 0based index로도 접근가능. 단 숫자로 index를 지정하면 0based인덱스는 사용못함\n",
    "print s3['c'] \n",
    "print s3[2]"
   ]
  },
  {
   "cell_type": "markdown",
   "metadata": {},
   "source": [
    "* index 재사용"
   ]
  },
  {
   "cell_type": "code",
   "execution_count": 138,
   "metadata": {
    "collapsed": false
   },
   "outputs": [
    {
     "name": "stdout",
     "output_type": "stream",
     "text": [
      "a    2\n",
      "b    2\n",
      "c    2\n",
      "d    2\n",
      "e    2\n",
      "dtype: int64\n",
      "a    5\n",
      "b    6\n",
      "c    7\n",
      "d    8\n",
      "e    9\n",
      "dtype: int64\n"
     ]
    }
   ],
   "source": [
    "s4 = pd.Series(2, index = s3.index)\n",
    "print s4\n",
    "\n",
    "s5 = pd.Series(range(5,10), index = s3.index)\n",
    "print s5"
   ]
  },
  {
   "cell_type": "code",
   "execution_count": 147,
   "metadata": {
    "collapsed": false
   },
   "outputs": [
    {
     "name": "stdout",
     "output_type": "stream",
     "text": [
      "0   -0.471400\n",
      "1    0.349476\n",
      "2    1.611457\n",
      "3    0.239339\n",
      "4    0.485003\n",
      "dtype: float64\n"
     ]
    }
   ],
   "source": [
    "s5 = pd.Series(np.random.randn(5)) #numpy.random.radnn: Return a sample (or samples) from the “standard normal” distribution.\n",
    "print s5"
   ]
  },
  {
   "cell_type": "code",
   "execution_count": 20,
   "metadata": {
    "collapsed": false
   },
   "outputs": [
    {
     "name": "stdout",
     "output_type": "stream",
     "text": [
      "0    1\n",
      "1    2\n",
      "2    3\n",
      "3    4\n",
      "4    5\n",
      "5    6\n",
      "6    7\n",
      "7    8\n",
      "dtype: int32\n"
     ]
    }
   ],
   "source": [
    "s6 = pd.Series(np.arange(1, 9))\n",
    "print s6"
   ]
  },
  {
   "cell_type": "code",
   "execution_count": 74,
   "metadata": {
    "collapsed": false
   },
   "outputs": [
    {
     "name": "stdout",
     "output_type": "stream",
     "text": [
      "a     100\n",
      "b    1000\n",
      "c       2\n",
      "d       6\n",
      "dtype: int64\n",
      "\n",
      "1000\n"
     ]
    }
   ],
   "source": [
    "s7 = pd.Series({'a' : 100, 'b' : 1000, 'c' : 2, 'd' : 6})\n",
    "print s7\n",
    "print\n",
    "print s7['b']"
   ]
  },
  {
   "cell_type": "markdown",
   "metadata": {},
   "source": [
    "* Series size, shape, unique, count"
   ]
  },
  {
   "cell_type": "code",
   "execution_count": 154,
   "metadata": {
    "collapsed": false
   },
   "outputs": [
    {
     "name": "stdout",
     "output_type": "stream",
     "text": [
      "0    0.0\n",
      "1    1.0\n",
      "2    1.0\n",
      "3    2.0\n",
      "4    3.0\n",
      "5    4.0\n",
      "6    5.0\n",
      "7    6.0\n",
      "8    7.0\n",
      "9    NaN\n",
      "dtype: float64\n"
     ]
    }
   ],
   "source": [
    "s = pd.Series([0, 1, 1, 2, 3, 4, 5, 6, 7, np.nan]) #nan = not a number\n",
    "print s"
   ]
  },
  {
   "cell_type": "code",
   "execution_count": 155,
   "metadata": {
    "collapsed": false
   },
   "outputs": [
    {
     "name": "stdout",
     "output_type": "stream",
     "text": [
      "10\n"
     ]
    }
   ],
   "source": [
    "print len(s)"
   ]
  },
  {
   "cell_type": "code",
   "execution_count": 156,
   "metadata": {
    "collapsed": false
   },
   "outputs": [
    {
     "name": "stdout",
     "output_type": "stream",
     "text": [
      "10\n"
     ]
    }
   ],
   "source": [
    "print s.size"
   ]
  },
  {
   "cell_type": "code",
   "execution_count": 160,
   "metadata": {
    "collapsed": false
   },
   "outputs": [
    {
     "name": "stdout",
     "output_type": "stream",
     "text": [
      "(10,)\n",
      "(5,)\n"
     ]
    }
   ],
   "source": [
    "print s.shape #return a tuple of the shape of the underlying data\n",
    "print s3.shape"
   ]
  },
  {
   "cell_type": "code",
   "execution_count": 161,
   "metadata": {
    "collapsed": false
   },
   "outputs": [
    {
     "name": "stdout",
     "output_type": "stream",
     "text": [
      "9\n"
     ]
    }
   ],
   "source": [
    "print s.count() # NaN을 제외한 값을 카운팅"
   ]
  },
  {
   "cell_type": "code",
   "execution_count": 163,
   "metadata": {
    "collapsed": false
   },
   "outputs": [
    {
     "name": "stdout",
     "output_type": "stream",
     "text": [
      "[  0.   1.   2.   3.   4.   5.   6.   7.  nan]\n"
     ]
    }
   ],
   "source": [
    "print s.unique() #중복된 것 제외하고 가져옴. NaN도 포함됨."
   ]
  },
  {
   "cell_type": "code",
   "execution_count": 164,
   "metadata": {
    "collapsed": false
   },
   "outputs": [
    {
     "name": "stdout",
     "output_type": "stream",
     "text": [
      "1.0    2\n",
      "7.0    1\n",
      "6.0    1\n",
      "5.0    1\n",
      "4.0    1\n",
      "3.0    1\n",
      "2.0    1\n",
      "0.0    1\n",
      "dtype: int64\n"
     ]
    },
    {
     "data": {
      "text/plain": [
       "''"
      ]
     },
     "execution_count": 164,
     "metadata": {},
     "output_type": "execute_result"
    }
   ],
   "source": [
    "print s.value_counts() # NaN 제외하고 값들을 카운팅하고 series 반환. 카운팅의 대상이 key가 되고, 빈도가 value가 된다. \n",
    "\n",
    "#dtype: int64 의 의미는? \n",
    "\"\"\"\"\"\""
   ]
  },
  {
   "cell_type": "markdown",
   "metadata": {},
   "source": [
    "* head, tail, take"
   ]
  },
  {
   "cell_type": "code",
   "execution_count": 84,
   "metadata": {
    "collapsed": false
   },
   "outputs": [
    {
     "data": {
      "text/plain": [
       "0    0.0\n",
       "1    1.0\n",
       "2    1.0\n",
       "3    2.0\n",
       "4    3.0\n",
       "dtype: float64"
      ]
     },
     "execution_count": 84,
     "metadata": {},
     "output_type": "execute_result"
    }
   ],
   "source": [
    "s.head() # 상위 5개 출력"
   ]
  },
  {
   "cell_type": "code",
   "execution_count": 85,
   "metadata": {
    "collapsed": false
   },
   "outputs": [
    {
     "data": {
      "text/plain": [
       "0    0.0\n",
       "1    1.0\n",
       "2    1.0\n",
       "dtype: float64"
      ]
     },
     "execution_count": 85,
     "metadata": {},
     "output_type": "execute_result"
    }
   ],
   "source": [
    "s.head(n = 3)"
   ]
  },
  {
   "cell_type": "code",
   "execution_count": 86,
   "metadata": {
    "collapsed": false
   },
   "outputs": [
    {
     "data": {
      "text/plain": [
       "5    4.0\n",
       "6    5.0\n",
       "7    6.0\n",
       "8    7.0\n",
       "9    NaN\n",
       "dtype: float64"
      ]
     },
     "execution_count": 86,
     "metadata": {},
     "output_type": "execute_result"
    }
   ],
   "source": [
    "s.tail()"
   ]
  },
  {
   "cell_type": "code",
   "execution_count": 87,
   "metadata": {
    "collapsed": false
   },
   "outputs": [
    {
     "data": {
      "text/plain": [
       "8    7.0\n",
       "9    NaN\n",
       "dtype: float64"
      ]
     },
     "execution_count": 87,
     "metadata": {},
     "output_type": "execute_result"
    }
   ],
   "source": [
    "s.tail(n = 2)"
   ]
  },
  {
   "cell_type": "code",
   "execution_count": 167,
   "metadata": {
    "collapsed": false
   },
   "outputs": [
    {
     "name": "stdout",
     "output_type": "stream",
     "text": [
      "0    0.0\n",
      "1    1.0\n",
      "2    1.0\n",
      "3    2.0\n",
      "4    3.0\n",
      "5    4.0\n",
      "6    5.0\n",
      "7    6.0\n",
      "8    7.0\n",
      "9    NaN\n",
      "dtype: float64\n",
      "\n",
      "0    0.0\n",
      "4    3.0\n",
      "3    2.0\n",
      "9    NaN\n",
      "dtype: float64\n"
     ]
    }
   ],
   "source": [
    "print s\n",
    "print \n",
    "print s.take([0, 4, 3, 9]) #지정한 인덱스의 series가져와서 반환"
   ]
  },
  {
   "cell_type": "code",
   "execution_count": 169,
   "metadata": {
    "collapsed": false
   },
   "outputs": [
    {
     "name": "stdout",
     "output_type": "stream",
     "text": [
      "x    1\n",
      "y    2\n",
      "z    3\n",
      "dtype: int32\n"
     ]
    },
    {
     "data": {
      "text/plain": [
       "x    1\n",
       "z    3\n",
       "dtype: int32"
      ]
     },
     "execution_count": 169,
     "metadata": {},
     "output_type": "execute_result"
    }
   ],
   "source": [
    "s = pd.Series(np.arange(1, 4), index = ['x', 'y', 'z'])\n",
    "print s\n",
    "s.take([0, 2])\n",
    "#s.take(['x', 'z']) #0 - based index만 가능"
   ]
  },
  {
   "cell_type": "markdown",
   "metadata": {},
   "source": [
    "* 값 접근하기"
   ]
  },
  {
   "cell_type": "markdown",
   "metadata": {},
   "source": [
    " * single value"
   ]
  },
  {
   "cell_type": "code",
   "execution_count": 34,
   "metadata": {
    "collapsed": false
   },
   "outputs": [
    {
     "name": "stdout",
     "output_type": "stream",
     "text": [
      "1\n"
     ]
    }
   ],
   "source": [
    "print s['x']"
   ]
  },
  {
   "cell_type": "code",
   "execution_count": 175,
   "metadata": {
    "collapsed": false
   },
   "outputs": [
    {
     "name": "stdout",
     "output_type": "stream",
     "text": [
      "2\n",
      "1\n",
      "1\n"
     ]
    }
   ],
   "source": [
    "print s[1]\n",
    "print s3[\"a\"] #내가 지정한 인덱스로도 접근 가능하고\n",
    "print s3[0]#인덱스를 지정했더라도 0based 인덱스로도 접근가능하고"
   ]
  },
  {
   "cell_type": "markdown",
   "metadata": {},
   "source": [
    "* multiple values"
   ]
  },
  {
   "cell_type": "code",
   "execution_count": 176,
   "metadata": {
    "collapsed": false
   },
   "outputs": [
    {
     "name": "stdout",
     "output_type": "stream",
     "text": [
      "x    1\n",
      "z    3\n",
      "dtype: int32\n"
     ]
    }
   ],
   "source": [
    "print s[['x', 'z']] #밖에 있는 []로 인덱스에 접근하는 것. 안에 있는 []리스트 표현"
   ]
  },
  {
   "cell_type": "code",
   "execution_count": 177,
   "metadata": {
    "collapsed": false
   },
   "outputs": [
    {
     "name": "stdout",
     "output_type": "stream",
     "text": [
      "100    1\n",
      "101    2\n",
      "102    3\n",
      "dtype: int64\n"
     ]
    }
   ],
   "source": [
    "s = pd.Series([1, 2, 3], index = [100, 101, 102])\n",
    "print s"
   ]
  },
  {
   "cell_type": "markdown",
   "metadata": {},
   "source": [
    "* loc , iloc\n",
    "  - loc[] : index\n",
    "  - iloc[] : 0 based index"
   ]
  },
  {
   "cell_type": "code",
   "execution_count": 38,
   "metadata": {
    "collapsed": false
   },
   "outputs": [
    {
     "name": "stdout",
     "output_type": "stream",
     "text": [
      "1\n"
     ]
    }
   ],
   "source": [
    "print s.loc[100] #loc: location. 내가 명시한 index로 접근해서 가져옴. dataframe에서 많이 씀!"
   ]
  },
  {
   "cell_type": "code",
   "execution_count": 96,
   "metadata": {
    "collapsed": false
   },
   "outputs": [
    {
     "name": "stdout",
     "output_type": "stream",
     "text": [
      "1\n"
     ]
    }
   ],
   "source": [
    "print s.iloc[0] #얘는 0based index로 접근."
   ]
  },
  {
   "cell_type": "code",
   "execution_count": 101,
   "metadata": {
    "collapsed": false
   },
   "outputs": [
    {
     "name": "stdout",
     "output_type": "stream",
     "text": [
      "100    1\n",
      "102    3\n",
      "dtype: int64\n"
     ]
    }
   ],
   "source": [
    "print s.loc[[100, 102]] #이것도 series로 반환. 한개만 주면 값만 나오고, 여러개주면 series로 반환"
   ]
  },
  {
   "cell_type": "code",
   "execution_count": 102,
   "metadata": {
    "collapsed": false
   },
   "outputs": [
    {
     "name": "stdout",
     "output_type": "stream",
     "text": [
      "100    1\n",
      "102    3\n",
      "dtype: int64\n"
     ]
    }
   ],
   "source": [
    "print s.iloc[[0, 2]] #iloc: integer location"
   ]
  },
  {
   "cell_type": "code",
   "execution_count": 104,
   "metadata": {
    "collapsed": false
   },
   "outputs": [
    {
     "data": {
      "text/plain": [
       "100    1.0\n",
       "102    3.0\n",
       "104    NaN\n",
       "105    NaN\n",
       "dtype: float64"
      ]
     },
     "execution_count": 104,
     "metadata": {},
     "output_type": "execute_result"
    }
   ],
   "source": [
    "s.loc[[100, 102, 104, 105]] #102까지 밖에 없는데 반환하라고 하니까 NaN반환"
   ]
  },
  {
   "cell_type": "code",
   "execution_count": 183,
   "metadata": {
    "collapsed": false
   },
   "outputs": [
    {
     "name": "stdout",
     "output_type": "stream",
     "text": [
      "0    1\n",
      "1    2\n",
      "2    3\n",
      "3    4\n",
      "4    5\n",
      "5    6\n",
      "dtype: int64\n"
     ]
    },
    {
     "data": {
      "text/plain": [
       "0    1\n",
       "2    3\n",
       "1    2\n",
       "5    6\n",
       "4    5\n",
       "dtype: int64"
      ]
     },
     "execution_count": 183,
     "metadata": {},
     "output_type": "execute_result"
    }
   ],
   "source": [
    "s11 = pd.Series(range(1,7))\n",
    "print s11\n",
    "s11.iloc[[0, 2, 1, 5, 4]]"
   ]
  },
  {
   "cell_type": "markdown",
   "metadata": {},
   "source": [
    "* index를 기준으로 더하기"
   ]
  },
  {
   "cell_type": "code",
   "execution_count": 4,
   "metadata": {
    "collapsed": false
   },
   "outputs": [
    {
     "name": "stdout",
     "output_type": "stream",
     "text": [
      "a    1\n",
      "b    2\n",
      "c    3\n",
      "d    4\n",
      "dtype: int64\n"
     ]
    }
   ],
   "source": [
    "s1 = pd.Series([1, 2, 3, 4], index=['a', 'b', 'c', 'd'])\n",
    "print s1"
   ]
  },
  {
   "cell_type": "code",
   "execution_count": 5,
   "metadata": {
    "collapsed": false
   },
   "outputs": [
    {
     "data": {
      "text/plain": [
       "d    4\n",
       "c    3\n",
       "b    2\n",
       "a    1\n",
       "dtype: int64"
      ]
     },
     "execution_count": 5,
     "metadata": {},
     "output_type": "execute_result"
    }
   ],
   "source": [
    "s2 = pd.Series([4, 3, 2, 1], index=['d', 'c', 'b', 'a'])\n",
    "s2"
   ]
  },
  {
   "cell_type": "code",
   "execution_count": 190,
   "metadata": {
    "collapsed": false
   },
   "outputs": [
    {
     "name": "stdout",
     "output_type": "stream",
     "text": [
      "a    2\n",
      "b    4\n",
      "c    6\n",
      "d    8\n",
      "dtype: int64\n"
     ]
    }
   ],
   "source": [
    "print s1 + s2 #인덱스 기준으로!"
   ]
  },
  {
   "cell_type": "code",
   "execution_count": 191,
   "metadata": {
    "collapsed": false
   },
   "outputs": [
    {
     "data": {
      "text/plain": [
       "array([5, 5, 5, 5])"
      ]
     },
     "execution_count": 191,
     "metadata": {},
     "output_type": "execute_result"
    }
   ],
   "source": [
    "a1 = np.array([1, 2, 3, 4])\n",
    "a2 = np.array([4, 3, 2, 1])\n",
    "a1 + a2"
   ]
  },
  {
   "cell_type": "markdown",
   "metadata": {},
   "source": [
    "* 산술연산"
   ]
  },
  {
   "cell_type": "code",
   "execution_count": 192,
   "metadata": {
    "collapsed": false
   },
   "outputs": [
    {
     "name": "stdout",
     "output_type": "stream",
     "text": [
      "a    1\n",
      "b    2\n",
      "c    3\n",
      "d    4\n",
      "dtype: int64\n",
      "a     1\n",
      "b     4\n",
      "c     9\n",
      "d    16\n",
      "dtype: int64\n",
      "a    1\n",
      "b    2\n",
      "c    3\n",
      "d    4\n",
      "dtype: int64\n"
     ]
    }
   ],
   "source": [
    "print s1\n",
    "print s1 ** 2 #원소마다 연산한 결과가 나오고\n",
    "print s1 #저장되진 않는다."
   ]
  },
  {
   "cell_type": "code",
   "execution_count": 196,
   "metadata": {
    "collapsed": false
   },
   "outputs": [
    {
     "name": "stdout",
     "output_type": "stream",
     "text": [
      "a    2\n",
      "b    2\n",
      "c    2\n",
      "d    2\n",
      "dtype: int64\n",
      "a     1\n",
      "b     4\n",
      "c     9\n",
      "d    16\n",
      "dtype: int64\n",
      "0    1\n",
      "1    2\n",
      "2    3\n",
      "3    4\n",
      "4    5\n",
      "5    6\n",
      "dtype: int64\n",
      "0     1\n",
      "1     4\n",
      "2     9\n",
      "3    16\n",
      "4    25\n",
      "5    36\n",
      "dtype: int64\n"
     ]
    }
   ],
   "source": [
    "exp = pd.Series(2, s1.index) \n",
    "print exp\n",
    "print s1 ** exp\n",
    "print s11\n",
    "exp = pd.Series(2, index = range(6)) \n",
    "print s11 ** exp"
   ]
  },
  {
   "cell_type": "code",
   "execution_count": 197,
   "metadata": {
    "collapsed": false
   },
   "outputs": [
    {
     "name": "stdout",
     "output_type": "stream",
     "text": [
      "a     NaN\n",
      "b     8.0\n",
      "c    10.0\n",
      "d    14.0\n",
      "e     NaN\n",
      "dtype: float64\n"
     ]
    }
   ],
   "source": [
    "s1 = pd.Series({'a': 1, 'b': 2, 'c': 3, 'd': 5})\n",
    "s2 = pd.Series({'b': 6, 'c': 7, 'd': 9, 'e': 10})\n",
    "\n",
    "print s1 + s2\n",
    "#한 쪽에만 있는 값은 NaN나옴!"
   ]
  },
  {
   "cell_type": "markdown",
   "metadata": {},
   "source": [
    "* NaN\n",
    "  - numpy와 비교"
   ]
  },
  {
   "cell_type": "code",
   "execution_count": 8,
   "metadata": {
    "collapsed": false
   },
   "outputs": [
    {
     "name": "stdout",
     "output_type": "stream",
     "text": [
      "[1 2 3 4 5]\n",
      "3.0\n",
      "3.0\n"
     ]
    }
   ],
   "source": [
    "nda = np.array([1, 2, 3, 4, 5])\n",
    "print nda\n",
    "print nda.mean()\n",
    "print np.mean(nda)#수학적 라이브러리"
   ]
  },
  {
   "cell_type": "code",
   "execution_count": 119,
   "metadata": {
    "collapsed": false
   },
   "outputs": [
    {
     "name": "stdout",
     "output_type": "stream",
     "text": [
      "nan\n"
     ]
    }
   ],
   "source": [
    "nda = np.array([1, 2, 3, 4, np.NaN])\n",
    "print nda.mean() #numpy 이용했을 때는 nan"
   ]
  },
  {
   "cell_type": "code",
   "execution_count": 9,
   "metadata": {
    "collapsed": false
   },
   "outputs": [
    {
     "name": "stdout",
     "output_type": "stream",
     "text": [
      "0    1.0\n",
      "1    2.0\n",
      "2    3.0\n",
      "3    4.0\n",
      "4    NaN\n",
      "dtype: float64\n",
      "\n",
      "2.5\n",
      "nan\n"
     ]
    }
   ],
   "source": [
    "s = pd.Series([1, 2, 3, 4, np.NaN])\n",
    "print s\n",
    "print\n",
    "print s.mean() #pandas 이용했을 때는 nan제외하고 계산\n",
    "print s.mean(skipna=False) #데이터 분석 라이브러리."
   ]
  },
  {
   "cell_type": "markdown",
   "metadata": {},
   "source": [
    " * **Boolean selection**\n",
    "  - **boolean Series가 []와 함께 사용되면 True 값에 해당하는 값만 새로 반환되는 Series객체에 포함됨**\n",
    "  - boolean으로 조건을 주면 True인 것만 가져온다."
   ]
  },
  {
   "cell_type": "code",
   "execution_count": 204,
   "metadata": {
    "collapsed": false
   },
   "outputs": [
    {
     "name": "stdout",
     "output_type": "stream",
     "text": [
      "0    1\n",
      "1    2\n",
      "2    3\n",
      "3    4\n",
      "4    5\n",
      "5    6\n",
      "6    7\n",
      "7    8\n",
      "8    9\n",
      "dtype: int32\n",
      "0    False\n",
      "1    False\n",
      "2    False\n",
      "3    False\n",
      "4    False\n",
      "5     True\n",
      "6     True\n",
      "7     True\n",
      "8     True\n",
      "dtype: bool\n",
      "5    6\n",
      "6    7\n",
      "7    8\n",
      "8    9\n",
      "dtype: int32\n"
     ]
    }
   ],
   "source": [
    "s = pd.Series(np.arange(1, 10))#np ndarray로부터 만들었다.\n",
    "print s\n",
    "print s > 5 # 이 조건을 만족하는 것들은 다 True.\n",
    "# 6부터 True.\n",
    "print s[s>5] #True인 것만 값으로 반환한다."
   ]
  },
  {
   "cell_type": "code",
   "execution_count": 205,
   "metadata": {
    "collapsed": false
   },
   "outputs": [
    {
     "name": "stdout",
     "output_type": "stream",
     "text": [
      "0    False\n",
      "1    False\n",
      "2    False\n",
      "3    False\n",
      "4    False\n",
      "5     True\n",
      "6     True\n",
      "7     True\n",
      "8     True\n",
      "dtype: bool\n",
      "5    6\n",
      "6    7\n",
      "7    8\n",
      "8    9\n",
      "dtype: int32\n"
     ]
    }
   ],
   "source": [
    "my_logic = s > 5\n",
    "print my_logic\n",
    "print s[my_logic]"
   ]
  },
  {
   "cell_type": "code",
   "execution_count": 206,
   "metadata": {
    "collapsed": false
   },
   "outputs": [
    {
     "name": "stdout",
     "output_type": "stream",
     "text": [
      "5    6\n",
      "6    7\n",
      "7    8\n",
      "8    9\n",
      "dtype: int32\n"
     ]
    }
   ],
   "source": [
    "print s[s > 5]"
   ]
  },
  {
   "cell_type": "code",
   "execution_count": 210,
   "metadata": {
    "collapsed": false
   },
   "outputs": [
    {
     "name": "stdout",
     "output_type": "stream",
     "text": [
      "5    6\n",
      "6    7\n",
      "dtype: int32\n"
     ]
    },
    {
     "ename": "ValueError",
     "evalue": "The truth value of a Series is ambiguous. Use a.empty, a.bool(), a.item(), a.any() or a.all().",
     "output_type": "error",
     "traceback": [
      "\u001b[0;31m---------------------------------------------------------------------------\u001b[0m",
      "\u001b[0;31mValueError\u001b[0m                                Traceback (most recent call last)",
      "\u001b[0;32m<ipython-input-210-b402e5b8b1ed>\u001b[0m in \u001b[0;36m<module>\u001b[0;34m()\u001b[0m\n\u001b[1;32m      2\u001b[0m \u001b[1;31m#print s[s > 5 and s < 8]\u001b[0m\u001b[1;33m\u001b[0m\u001b[1;33m\u001b[0m\u001b[0m\n\u001b[1;32m      3\u001b[0m \u001b[1;32mprint\u001b[0m \u001b[0ms\u001b[0m\u001b[1;33m[\u001b[0m\u001b[1;33m(\u001b[0m\u001b[0ms\u001b[0m \u001b[1;33m>\u001b[0m \u001b[1;36m5\u001b[0m\u001b[1;33m)\u001b[0m \u001b[1;33m&\u001b[0m \u001b[1;33m(\u001b[0m\u001b[0ms\u001b[0m \u001b[1;33m<\u001b[0m \u001b[1;36m8\u001b[0m\u001b[1;33m)\u001b[0m\u001b[1;33m]\u001b[0m \u001b[1;31m# & and , | or\u001b[0m\u001b[1;33m\u001b[0m\u001b[0m\n\u001b[0;32m----> 4\u001b[0;31m \u001b[1;32mprint\u001b[0m \u001b[0ms\u001b[0m\u001b[1;33m[\u001b[0m\u001b[1;36m5\u001b[0m\u001b[1;33m<\u001b[0m\u001b[0ms\u001b[0m\u001b[1;33m<\u001b[0m\u001b[1;36m8\u001b[0m\u001b[1;33m]\u001b[0m\u001b[1;33m\u001b[0m\u001b[0m\n\u001b[0m",
      "\u001b[0;32mc:\\python27\\lib\\site-packages\\pandas\\core\\generic.pyc\u001b[0m in \u001b[0;36m__nonzero__\u001b[0;34m(self)\u001b[0m\n\u001b[1;32m    915\u001b[0m         raise ValueError(\"The truth value of a {0} is ambiguous. \"\n\u001b[1;32m    916\u001b[0m                          \u001b[1;34m\"Use a.empty, a.bool(), a.item(), a.any() or a.all().\"\u001b[0m\u001b[1;33m\u001b[0m\u001b[0m\n\u001b[0;32m--> 917\u001b[0;31m                          .format(self.__class__.__name__))\n\u001b[0m\u001b[1;32m    918\u001b[0m \u001b[1;33m\u001b[0m\u001b[0m\n\u001b[1;32m    919\u001b[0m     \u001b[0m__bool__\u001b[0m \u001b[1;33m=\u001b[0m \u001b[0m__nonzero__\u001b[0m\u001b[1;33m\u001b[0m\u001b[0m\n",
      "\u001b[0;31mValueError\u001b[0m: The truth value of a Series is ambiguous. Use a.empty, a.bool(), a.item(), a.any() or a.all()."
     ]
    }
   ],
   "source": [
    "#print s > 5 and s < 8   #파이썬에서 원래 되는데 numpy, pandas에서 안됨.\n",
    "#print s[s > 5 and s < 8]\n",
    "print s[(s > 5) & (s < 8)] # & and , | or\n",
    "print s[5<s<8] #이거 안되"
   ]
  },
  {
   "cell_type": "code",
   "execution_count": 214,
   "metadata": {
    "collapsed": false
   },
   "outputs": [
    {
     "name": "stdout",
     "output_type": "stream",
     "text": [
      "0    1\n",
      "1    2\n",
      "2    3\n",
      "3    4\n",
      "4    5\n",
      "5    6\n",
      "6    7\n",
      "7    8\n",
      "8    9\n",
      "dtype: int32\n",
      "True\n",
      "False\n"
     ]
    }
   ],
   "source": [
    "print s\n",
    "print (s >= 0).all()\n",
    "print (s >= 2).all()"
   ]
  },
  {
   "cell_type": "code",
   "execution_count": 8,
   "metadata": {
    "collapsed": false
   },
   "outputs": [
    {
     "name": "stdout",
     "output_type": "stream",
     "text": [
      "True\n",
      "True\n"
     ]
    }
   ],
   "source": [
    "print (s < 2).any() #s.any() Returns whether any element is True over requested axis\n",
    "print s[s < 2].any()"
   ]
  },
  {
   "cell_type": "code",
   "execution_count": 218,
   "metadata": {
    "collapsed": false
   },
   "outputs": [
    {
     "name": "stdout",
     "output_type": "stream",
     "text": [
      "0    1\n",
      "1    2\n",
      "2    3\n",
      "3    4\n",
      "4    5\n",
      "5    6\n",
      "6    7\n",
      "7    8\n",
      "8    9\n",
      "dtype: int32\n",
      "6    7\n",
      "7    8\n",
      "8    9\n",
      "dtype: int32\n",
      "\n",
      "24\n",
      "3\n"
     ]
    }
   ],
   "source": [
    "print s\n",
    "print s[s>=7]\n",
    "print\n",
    "print s[s >= 7].sum() #7,8,9\n",
    "print (s >= 7).sum() #1,1,1 왜냐하면 True이므로"
   ]
  },
  {
   "cell_type": "markdown",
   "metadata": {},
   "source": [
    "* Series 값 변경\n",
    " - mutable"
   ]
  },
  {
   "cell_type": "code",
   "execution_count": 131,
   "metadata": {
    "collapsed": false,
    "scrolled": true
   },
   "outputs": [
    {
     "name": "stdout",
     "output_type": "stream",
     "text": [
      "a       1\n",
      "b      10\n",
      "c     100\n",
      "d    1000\n",
      "dtype: int64\n",
      "a        1\n",
      "b       10\n",
      "c      100\n",
      "d    10000\n",
      "dtype: int64\n"
     ]
    }
   ],
   "source": [
    "s = pd.Series([1, 10, 100], index = ['a', 'b', 'c'])\n",
    "s['d'] = 1000\n",
    "\n",
    "print s\n",
    "\n",
    "s['d'] = 10000\n",
    "print s"
   ]
  },
  {
   "cell_type": "code",
   "execution_count": 222,
   "metadata": {
    "collapsed": false
   },
   "outputs": [
    {
     "name": "stdout",
     "output_type": "stream",
     "text": [
      "0    1\n",
      "1    1\n",
      "2    2\n",
      "3    3\n",
      "4    4\n",
      "5    5\n",
      "9    5\n",
      "dtype: int64\n"
     ]
    }
   ],
   "source": [
    "s1 = pd.Series(range(6))\n",
    "s1[0] = 1\n",
    "s1[9] = 5\n",
    "print s1"
   ]
  },
  {
   "cell_type": "code",
   "execution_count": 291,
   "metadata": {
    "collapsed": false
   },
   "outputs": [
    {
     "name": "stdout",
     "output_type": "stream",
     "text": [
      "b       10\n",
      "c      100\n",
      "d    10000\n",
      "dtype: int64\n"
     ]
    }
   ],
   "source": [
    "del s['a']\n",
    "print s"
   ]
  },
  {
   "cell_type": "markdown",
   "metadata": {},
   "source": [
    "* Slicing"
   ]
  },
  {
   "cell_type": "code",
   "execution_count": 226,
   "metadata": {
    "collapsed": false
   },
   "outputs": [
    {
     "name": "stdout",
     "output_type": "stream",
     "text": [
      "10    100\n",
      "11    101\n",
      "12    102\n",
      "13    103\n",
      "14    104\n",
      "dtype: int32\n",
      "\n",
      "10    100\n",
      "11    101\n",
      "12    102\n",
      "13    103\n",
      "14    104\n",
      "dtype: int32\n",
      "\n",
      "15    105\n",
      "16    106\n",
      "17    107\n",
      "18    108\n",
      "19    109\n",
      "dtype: int32\n",
      "\n",
      "17    107\n",
      "18    108\n",
      "19    109\n",
      "dtype: int32\n"
     ]
    }
   ],
   "source": [
    "s = pd.Series(np.arange(100, 110), index=np.arange(10, 20))\n",
    "print s[0:5] #slicing은 0based\n",
    "print\n",
    "print s[:5] \n",
    "print\n",
    "print s[5:]\n",
    "print \n",
    "print s[-3:]"
   ]
  },
  {
   "cell_type": "code",
   "execution_count": 231,
   "metadata": {
    "collapsed": false,
    "scrolled": true
   },
   "outputs": [
    {
     "data": {
      "text/plain": [
       "109    1\n",
       "108    1\n",
       "107    1\n",
       "106    1\n",
       "105    1\n",
       "104    1\n",
       "103    1\n",
       "102    1\n",
       "101    1\n",
       "100    1\n",
       "dtype: int64"
      ]
     },
     "execution_count": 231,
     "metadata": {},
     "output_type": "execute_result"
    }
   ],
   "source": [
    "s.value_counts() # Returns object containing counts of unique values..   series에서 이것만 거의 많이씀. 그런데 왜 거꾸로 읽는거지?"
   ]
  },
  {
   "cell_type": "markdown",
   "metadata": {},
   "source": [
    "* DataFrame\n",
    "  - Series가 1차원이라면 DataFrame은 2차원으로 확대된 버젼\n",
    "  - Excel spreadsheet이라고 생각하면 이해하기 쉬움\n",
    "  - 2차원이기 때문에 인덱스가 row, column로 구성됨. table!"
   ]
  },
  {
   "cell_type": "code",
   "execution_count": 232,
   "metadata": {
    "collapsed": true
   },
   "outputs": [],
   "source": [
    "import numpy as np\n",
    "import pandas as pd"
   ]
  },
  {
   "cell_type": "code",
   "execution_count": 234,
   "metadata": {
    "collapsed": false
   },
   "outputs": [
    {
     "name": "stdout",
     "output_type": "stream",
     "text": [
      "    0   1\n",
      "0  10  11\n",
      "1  20  22\n"
     ]
    }
   ],
   "source": [
    "df = pd.DataFrame(np.array([[10, 11], [20, 22]])) #2차원 배열을 넣어줌.\n",
    "print df"
   ]
  },
  {
   "cell_type": "markdown",
   "metadata": {},
   "source": [
    "* shape"
   ]
  },
  {
   "cell_type": "code",
   "execution_count": 237,
   "metadata": {
    "collapsed": false
   },
   "outputs": [
    {
     "name": "stdout",
     "output_type": "stream",
     "text": [
      "    0   1   2   3   4\n",
      "0  10  11  12  13  14\n",
      "1  20  21  22  23  24\n",
      "\n",
      "\n",
      "(2, 5)\n",
      "\n",
      "<class 'pandas.core.frame.DataFrame'>\n",
      "RangeIndex: 2 entries, 0 to 1\n",
      "Data columns (total 5 columns):\n",
      "0    2 non-null int32\n",
      "1    2 non-null int32\n",
      "2    2 non-null int32\n",
      "3    2 non-null int32\n",
      "4    2 non-null int32\n",
      "dtypes: int32(5)\n",
      "memory usage: 76.0 bytes\n",
      "None\n",
      "\n",
      "               0          1          2          3          4\n",
      "count   2.000000   2.000000   2.000000   2.000000   2.000000\n",
      "mean   15.000000  16.000000  17.000000  18.000000  19.000000\n",
      "std     7.071068   7.071068   7.071068   7.071068   7.071068\n",
      "min    10.000000  11.000000  12.000000  13.000000  14.000000\n",
      "25%    12.500000  13.500000  14.500000  15.500000  16.500000\n",
      "50%    15.000000  16.000000  17.000000  18.000000  19.000000\n",
      "75%    17.500000  18.500000  19.500000  20.500000  21.500000\n",
      "max    20.000000  21.000000  22.000000  23.000000  24.000000\n"
     ]
    }
   ],
   "source": [
    "df1 = pd.DataFrame([pd.Series(np.arange(10, 15)) ,\n",
    "            pd.Series(np.arange(20, 25))])\n",
    "print df1\n",
    "print\n",
    "print \n",
    "print df1.shape #tuple이겠지 행,열 반환이니까. (행,열)\n",
    "print\n",
    "print df1.info()\n",
    "print\n",
    "print df1.describe() #중요. 딱 데이터를 처음 받으면 많이 호출하는게 head랑 describe\n",
    "#행은 데이터, 열은 속성. 그러니 decribe같은 경우는 각 속성에 대해서 알려주는 것."
   ]
  },
  {
   "cell_type": "code",
   "execution_count": 146,
   "metadata": {
    "collapsed": false
   },
   "outputs": [
    {
     "name": "stdout",
     "output_type": "stream",
     "text": [
      "    a   b\n",
      "0  10  20\n",
      "1  20  30\n",
      "\n",
      "Index([u'a', u'b'], dtype='object')\n",
      "\n",
      "a b\n",
      "\n",
      "   t1  t2\n",
      "0  10  20\n",
      "1  20  30\n"
     ]
    }
   ],
   "source": [
    "df = pd.DataFrame(np.array([[10, 20], [20, 30]]), columns = ['a', 'b'])\n",
    "print df\n",
    "print\n",
    "print df.columns\n",
    "print\n",
    "print df.columns[0], df.columns[1] #열은 리스트니까 이렇게 출력 가능\n",
    "print\n",
    "df.columns = ['t1', 't2'] #column이름 변경 가능.\n",
    "print df"
   ]
  },
  {
   "cell_type": "code",
   "execution_count": 147,
   "metadata": {
    "collapsed": false
   },
   "outputs": [
    {
     "name": "stdout",
     "output_type": "stream",
     "text": [
      "     a   b\n",
      "d1  10  20\n",
      "d2  20  30\n",
      "Index([u'd1', u'd2'], dtype='object')\n"
     ]
    }
   ],
   "source": [
    "df = pd.DataFrame(np.array([[10, 20], [20, 30]]), columns = ['a', 'b'], index = ['d1', 'd2']) #rows가 아니라 index로 지정함.\n",
    "print df\n",
    "print df.index"
   ]
  },
  {
   "cell_type": "markdown",
   "metadata": {},
   "source": [
    "* Series dictionary로 부터 생성"
   ]
  },
  {
   "cell_type": "code",
   "execution_count": 149,
   "metadata": {
    "collapsed": false,
    "scrolled": true
   },
   "outputs": [
    {
     "name": "stdout",
     "output_type": "stream",
     "text": [
      "   c1  c2\n",
      "0   1   6\n",
      "1   2   7\n",
      "2   3   8\n",
      "3   4   9\n",
      "4   5  10\n"
     ]
    }
   ],
   "source": [
    "s1 = pd.Series(np.arange(1, 6, 1))\n",
    "s2 = pd.Series(np.arange(6, 11, 1))\n",
    "df = pd.DataFrame({'c1': s1, 'c2': s2})\n",
    "\n",
    "print df"
   ]
  },
  {
   "cell_type": "markdown",
   "metadata": {},
   "source": [
    "# file이름만 주면 내용 전부 읽어옴."
   ]
  },
  {
   "cell_type": "code",
   "execution_count": 247,
   "metadata": {
    "collapsed": false
   },
   "outputs": [
    {
     "name": "stdout",
     "output_type": "stream",
     "text": [
      "  Symbol                 Name                  Sector   Price  Book Value\n",
      "0    MMM           3M Company             Industrials  177.12       19.34\n",
      "1    ABT  Abbott Laboratories             Health Care   41.89       14.10\n",
      "2   ABBV               AbbVie             Health Care   64.16        2.87\n",
      "3    ACN        Accenture plc  Information Technology  115.11       11.45\n",
      "4   ATVI  Activision Blizzard  Information Technology   41.29       11.31\n",
      "\n",
      "                       Name                  Sector   Price  Book Value\n",
      "Symbol                                                                 \n",
      "MMM              3M Company             Industrials  177.12       19.34\n",
      "ABT     Abbott Laboratories             Health Care   41.89       14.10\n",
      "ABBV                 AbbVie             Health Care   64.16        2.87\n",
      "ACN           Accenture plc  Information Technology  115.11       11.45\n",
      "ATVI    Activision Blizzard  Information Technology   41.29       11.31\n",
      "\n",
      "Price    86.044306\n",
      "dtype: float64\n"
     ]
    }
   ],
   "source": [
    "sample_df = pd.read_csv('sample.csv',  usecols = [0, 1, 2, 3, 7]) \n",
    "#sample_df = pd.read_csv('sample.csv')  usecols지정 안하면 전부 불러들임\n",
    "print sample_df.head() #그런데 symbol은 유니크하니까 이걸 인덱스로 사용할 수도 있겠지. 그렇게 하려면 index_col을 symbol로 지정하면됨.\n",
    "print\n",
    "sample_df = pd.read_csv('sample.csv', index_col = 'Symbol', usecols = [0, 1, 2, 3, 7]) #데이터 분석의 시작은 read csv. usecols로 내가 가져올 칼럼 정함.\n",
    "print sample_df.head()\n",
    "print\n",
    "print sample_df[['Price']].mean()"
   ]
  },
  {
   "cell_type": "code",
   "execution_count": 300,
   "metadata": {
    "collapsed": false
   },
   "outputs": [
    {
     "name": "stdout",
     "output_type": "stream",
     "text": [
      "504\n"
     ]
    }
   ],
   "source": [
    "print len(sample_df)"
   ]
  },
  {
   "cell_type": "code",
   "execution_count": 301,
   "metadata": {
    "collapsed": false
   },
   "outputs": [
    {
     "name": "stdout",
     "output_type": "stream",
     "text": [
      "Index([u'MMM', u'ABT', u'ABBV', u'ACN', u'ATVI', u'AYI', u'ADBE', u'AAP',\n",
      "       u'AES', u'AET',\n",
      "       ...\n",
      "       u'XEL', u'XRX', u'XLNX', u'XL', u'XYL', u'YHOO', u'YUM', u'ZBH',\n",
      "       u'ZION', u'ZTS'],\n",
      "      dtype='object', name=u'Symbol', length=504)\n",
      "\n",
      "Index([u'Name', u'Sector', u'Price', u'Book Value'], dtype='object')\n"
     ]
    }
   ],
   "source": [
    "print sample_df.index #앞에서 symbols를 인덱스로 주었지.\n",
    "print \n",
    "print sample_df.columns"
   ]
  },
  {
   "cell_type": "code",
   "execution_count": 253,
   "metadata": {
    "collapsed": false
   },
   "outputs": [
    {
     "name": "stdout",
     "output_type": "stream",
     "text": [
      "        Date    Open    High     Low   Close    Volume\n",
      "0  30-Sep-16  112.46  113.37  111.80  113.05  36379106\n",
      "1  29-Sep-16  113.16  113.80  111.80  112.18  35886990\n",
      "2  28-Sep-16  113.69  114.64  113.43  113.95  29641085\n",
      "3  27-Sep-16  113.00  113.18  112.34  113.09  24607412\n",
      "4  26-Sep-16  111.64  113.39  111.55  112.88  29869442\n",
      "5  23-Sep-16  114.42  114.79  111.55  112.71  52481151\n",
      "6  22-Sep-16  114.35  114.94  114.00  114.62  31073984\n",
      "7  21-Sep-16  113.85  113.99  112.44  113.55  36003185\n",
      "8  20-Sep-16  113.05  114.12  112.51  113.57  34514269\n",
      "9  19-Sep-16  115.19  116.18  113.25  113.58  47023046\n"
     ]
    }
   ],
   "source": [
    "#apple_df = pd.read_csv('apple.csv', header = None)\n",
    "apple_df = pd.read_csv('apple.csv')\n",
    "print apple_df[:10] # 이건 row를 선택해서 가져옴! 다만 slicing만 지원하고 [8] 같은 특정 indexing은 지원 안함."
   ]
  },
  {
   "cell_type": "markdown",
   "metadata": {},
   "source": [
    "* column 선택하기"
   ]
  },
  {
   "cell_type": "code",
   "execution_count": 255,
   "metadata": {
    "collapsed": false
   },
   "outputs": [
    {
     "name": "stdout",
     "output_type": "stream",
     "text": [
      "         Date   Close     Volume\n",
      "0   30-Sep-16  113.05   36379106\n",
      "1   29-Sep-16  112.18   35886990\n",
      "2   28-Sep-16  113.95   29641085\n",
      "3   27-Sep-16  113.09   24607412\n",
      "4   26-Sep-16  112.88   29869442\n",
      "5   23-Sep-16  112.71   52481151\n",
      "6   22-Sep-16  114.62   31073984\n",
      "7   21-Sep-16  113.55   36003185\n",
      "8   20-Sep-16  113.57   34514269\n",
      "9   19-Sep-16  113.58   47023046\n",
      "10  16-Sep-16  114.92   79886911\n",
      "11  15-Sep-16  115.57   90613177\n",
      "12  14-Sep-16  111.77  112340318\n",
      "13  13-Sep-16  107.95   62176190\n",
      "14  12-Sep-16  105.44   45292770\n",
      "15   9-Sep-16  103.13   46556984\n",
      "16   8-Sep-16  105.52   53002026\n",
      "17   7-Sep-16  108.36   42364328\n",
      "18   6-Sep-16  107.70   26880391\n",
      "19   2-Sep-16  107.73   26334858\n",
      "20   1-Sep-16  106.73   26701523\n"
     ]
    }
   ],
   "source": [
    "print apple_df[[0, 4, 5]] #0,4,5번째 컬럼을 가져옴. []안에 쓰면 인덱스로 받아들이므로, [[]] 안에 column지정해줘야함"
   ]
  },
  {
   "cell_type": "code",
   "execution_count": 256,
   "metadata": {
    "collapsed": false
   },
   "outputs": [
    {
     "name": "stdout",
     "output_type": "stream",
     "text": [
      "<class 'pandas.core.frame.DataFrame'>\n",
      "<class 'pandas.core.frame.DataFrame'>\n",
      "<class 'pandas.core.frame.DataFrame'>\n",
      "<class 'pandas.core.frame.DataFrame'>\n",
      "<class 'pandas.core.series.Series'>\n"
     ]
    }
   ],
   "source": [
    "print type(apple_df[[0, 4, 5]])\n",
    "print type(apple_df[[0]]) #한개만 주기 위해서 []사용.\n",
    "print type(apple_df[['Date']])\n",
    "print type(apple_df[['Date', 'Close']])\n",
    "print type(apple_df['Date']) #컬럼에 이름으로만 줄 때는 한개만 줌. 시리즈로 반환"
   ]
  },
  {
   "cell_type": "code",
   "execution_count": 257,
   "metadata": {
    "collapsed": false
   },
   "outputs": [
    {
     "name": "stdout",
     "output_type": "stream",
     "text": [
      "0     30-Sep-16\n",
      "1     29-Sep-16\n",
      "2     28-Sep-16\n",
      "3     27-Sep-16\n",
      "4     26-Sep-16\n",
      "5     23-Sep-16\n",
      "6     22-Sep-16\n",
      "7     21-Sep-16\n",
      "8     20-Sep-16\n",
      "9     19-Sep-16\n",
      "10    16-Sep-16\n",
      "11    15-Sep-16\n",
      "12    14-Sep-16\n",
      "13    13-Sep-16\n",
      "14    12-Sep-16\n",
      "15     9-Sep-16\n",
      "16     8-Sep-16\n",
      "17     7-Sep-16\n",
      "18     6-Sep-16\n",
      "19     2-Sep-16\n",
      "20     1-Sep-16\n",
      "Name: Date, dtype: object\n",
      "0     113.05\n",
      "1     112.18\n",
      "2     113.95\n",
      "3     113.09\n",
      "4     112.88\n",
      "5     112.71\n",
      "6     114.62\n",
      "7     113.55\n",
      "8     113.57\n",
      "9     113.58\n",
      "10    114.92\n",
      "11    115.57\n",
      "12    111.77\n",
      "13    107.95\n",
      "14    105.44\n",
      "15    103.13\n",
      "16    105.52\n",
      "17    108.36\n",
      "18    107.70\n",
      "19    107.73\n",
      "20    106.73\n",
      "Name: Close, dtype: float64\n"
     ]
    }
   ],
   "source": [
    "print apple_df.Date\n",
    "print apple_df.Close #이렇게 특정 칼럼 값들만 출력 가능"
   ]
  },
  {
   "cell_type": "markdown",
   "metadata": {},
   "source": [
    "* row 선택하기\n",
    "  - Seires의 경우 []로 row 선택이 가능하나, DataFrame의 경우는 기본적으로 column을 선택하도록 설계\n",
    "  - [:10]과 같이 slicing의 경우에는 row 선택 가능\n",
    "  - .loc, .iloc, .ix 의 함수로 row 선택 가능 .ix는 loc, iloc기능 둘다 지원"
   ]
  },
  {
   "cell_type": "code",
   "execution_count": 310,
   "metadata": {
    "collapsed": false
   },
   "outputs": [
    {
     "name": "stdout",
     "output_type": "stream",
     "text": [
      "        Date    Open    High     Low   Close    Volume\n",
      "0  30-Sep-16  112.46  113.37  111.80  113.05  36379106\n",
      "1  29-Sep-16  113.16  113.80  111.80  112.18  35886990\n",
      "2  28-Sep-16  113.69  114.64  113.43  113.95  29641085\n",
      "3  27-Sep-16  113.00  113.18  112.34  113.09  24607412\n",
      "4  26-Sep-16  111.64  113.39  111.55  112.88  29869442\n",
      "5  23-Sep-16  114.42  114.79  111.55  112.71  52481151\n",
      "6  22-Sep-16  114.35  114.94  114.00  114.62  31073984\n",
      "7  21-Sep-16  113.85  113.99  112.44  113.55  36003185\n",
      "8  20-Sep-16  113.05  114.12  112.51  113.57  34514269\n",
      "9  19-Sep-16  115.19  116.18  113.25  113.58  47023046\n"
     ]
    }
   ],
   "source": [
    "print apple_df[:10]"
   ]
  },
  {
   "cell_type": "code",
   "execution_count": 261,
   "metadata": {
    "collapsed": false,
    "scrolled": true
   },
   "outputs": [
    {
     "name": "stdout",
     "output_type": "stream",
     "text": [
      "                       Name                  Sector   Price  Book Value\n",
      "Symbol                                                                 \n",
      "MMM              3M Company             Industrials  177.12       19.34\n",
      "ABT     Abbott Laboratories             Health Care   41.89       14.10\n",
      "ABBV                 AbbVie             Health Care   64.16        2.87\n",
      "ACN           Accenture plc  Information Technology  115.11       11.45\n"
     ]
    }
   ],
   "source": [
    "sample_df = pd.read_csv('sample.csv', index_col = 'Symbol', usecols = [0, 1, 2, 3, 7])\n",
    "print sample_df['MMM' : 'ACN'] #문자열로 표시할 때는 마지막꺼도 포함. 숫자와 다르게."
   ]
  },
  {
   "cell_type": "code",
   "execution_count": null,
   "metadata": {
    "collapsed": true
   },
   "outputs": [],
   "source": []
  },
  {
   "cell_type": "code",
   "execution_count": 267,
   "metadata": {
    "collapsed": false
   },
   "outputs": [
    {
     "name": "stdout",
     "output_type": "stream",
     "text": [
      "Name           3M Company\n",
      "Sector        Industrials\n",
      "Price              177.12\n",
      "Book Value          19.34\n",
      "Name: MMM, dtype: object\n",
      "\n",
      "Name           3M Company\n",
      "Sector        Industrials\n",
      "Price              177.12\n",
      "Book Value          19.34\n",
      "Name: MMM, dtype: object\n"
     ]
    }
   ],
   "source": [
    "print sample_df.loc['MMM'] #loc을 쓰니까 row를 가져오겠다는 의지를 보인 것. loc이 없으면 column에 MMM없으니까 error.\n",
    "print\n",
    "print sample_df.iloc[0]"
   ]
  },
  {
   "cell_type": "code",
   "execution_count": 274,
   "metadata": {
    "collapsed": false
   },
   "outputs": [
    {
     "name": "stdout",
     "output_type": "stream",
     "text": [
      "                   Name                  Sector   Price  Book Value\n",
      "Symbol                                                             \n",
      "MMM          3M Company             Industrials  177.12       19.34\n",
      "MSFT    Microsoft Corp.  Information Technology   52.30        9.51\n",
      "\n",
      "177.12\n",
      "              Name       Sector   Price  Book Value\n",
      "Symbol                                             \n",
      "MMM     3M Company  Industrials  177.12       19.34\n",
      "ABBV        AbbVie  Health Care   64.16        2.87\n"
     ]
    }
   ],
   "source": [
    "print sample_df.loc[['MMM', 'MSFT']]\n",
    "print\n",
    "print sample_df.iloc[0,2] #여기서 출력되는 값은 뭐지???\n",
    "print sample_df.iloc[[0,2]]"
   ]
  },
  {
   "cell_type": "code",
   "execution_count": 271,
   "metadata": {
    "collapsed": false,
    "scrolled": true
   },
   "outputs": [
    {
     "name": "stdout",
     "output_type": "stream",
     "text": [
      "                       Name       Sector   Price  Book Value\n",
      "Symbol                                                      \n",
      "MMM              3M Company  Industrials  177.12       19.34\n",
      "ABT     Abbott Laboratories  Health Care   41.89       14.10\n",
      "ABBV                 AbbVie  Health Care   64.16        2.87\n",
      "<class 'pandas.core.frame.DataFrame'>\n",
      "Name           3M Company\n",
      "Sector        Industrials\n",
      "Price              177.12\n",
      "Book Value          19.34\n",
      "Name: MMM, dtype: object\n",
      "<class 'pandas.core.series.Series'>\n"
     ]
    }
   ],
   "source": [
    "print sample_df.iloc[[0, 1, 2]]\n",
    "print type(sample_df.iloc[[0, 1, 2]])\n",
    "\n",
    "print sample_df.iloc[0] \n",
    "print type(sample_df.iloc[0])"
   ]
  },
  {
   "cell_type": "code",
   "execution_count": 60,
   "metadata": {
    "collapsed": false
   },
   "outputs": [
    {
     "name": "stdout",
     "output_type": "stream",
     "text": [
      "                   Name                  Sector  Price  Book Value\n",
      "Symbol                                                            \n",
      "MSFT    Microsoft Corp.  Information Technology   52.3        9.51\n",
      "ZTS              Zoetis             Health Care   48.5        2.35\n"
     ]
    }
   ],
   "source": [
    "print sample_df.ix[['MSFT', 'ZTS']] #ix는 문자로든 숫자로든 인덱스 뭐든 줄 수 있음. 콜론(:)도 사용할 수 있고. 그래서 많이 쓰임"
   ]
  },
  {
   "cell_type": "code",
   "execution_count": 61,
   "metadata": {
    "collapsed": false
   },
   "outputs": [
    {
     "name": "stdout",
     "output_type": "stream",
     "text": [
      "                                 Name       Sector   Price  Book Value\n",
      "Symbol                                                                \n",
      "AMG     Affiliated Managers Group Inc   Financials  138.85       53.30\n",
      "AFL                         AFLAC Inc   Financials   72.49       48.22\n",
      "A            Agilent Technologies Inc  Health Care   45.48       12.79\n",
      "ALK              Alaska Air Group Inc  Industrials   59.86       19.81\n"
     ]
    }
   ],
   "source": [
    "print sample_df.ix[[10, 11, 12, 15]]"
   ]
  },
  {
   "cell_type": "markdown",
   "metadata": {},
   "source": [
    "* boolean selection으로 row 선택하기"
   ]
  },
  {
   "cell_type": "code",
   "execution_count": 278,
   "metadata": {
    "collapsed": false
   },
   "outputs": [
    {
     "name": "stdout",
     "output_type": "stream",
     "text": [
      "Symbol\n",
      "MMM       True\n",
      "ABT      False\n",
      "ABBV     False\n",
      "ACN       True\n",
      "ATVI     False\n",
      "AYI       True\n",
      "ADBE     False\n",
      "AAP       True\n",
      "AES      False\n",
      "AET       True\n",
      "AMG       True\n",
      "AFL      False\n",
      "A        False\n",
      "APD       True\n",
      "AKAM     False\n",
      "ALK      False\n",
      "ALB      False\n",
      "AA       False\n",
      "ALXN      True\n",
      "ALLE     False\n",
      "AGN       True\n",
      "ADS       True\n",
      "LNT      False\n",
      "ALL      False\n",
      "GOOGL     True\n",
      "GOOG      True\n",
      "MO       False\n",
      "AMZN      True\n",
      "AEE      False\n",
      "AAL      False\n",
      "         ...  \n",
      "V        False\n",
      "VNO       True\n",
      "VMC       True\n",
      "WMT      False\n",
      "WBA      False\n",
      "WM       False\n",
      "WAT       True\n",
      "WFC      False\n",
      "HCN      False\n",
      "WDC      False\n",
      "WU       False\n",
      "WRK      False\n",
      "WY       False\n",
      "WHR       True\n",
      "WFM      False\n",
      "WMB      False\n",
      "WLTW      True\n",
      "WEC      False\n",
      "WYN      False\n",
      "WYNN     False\n",
      "XEL      False\n",
      "XRX      False\n",
      "XLNX     False\n",
      "XL       False\n",
      "XYL      False\n",
      "YHOO     False\n",
      "YUM      False\n",
      "ZBH       True\n",
      "ZION     False\n",
      "ZTS      False\n",
      "Name: Price, dtype: bool\n"
     ]
    }
   ],
   "source": [
    "print sample_df.Price > 100 #이 조건에 대해 series로 T,F반환"
   ]
  },
  {
   "cell_type": "code",
   "execution_count": 71,
   "metadata": {
    "collapsed": false
   },
   "outputs": [
    {
     "name": "stdout",
     "output_type": "stream",
     "text": [
      "         Price\n",
      "Symbol        \n",
      "MMM     177.12\n",
      "ACN     115.11\n",
      "AYI     264.62\n",
      "AAP     164.85\n",
      "AET     117.00\n",
      "AMG     138.85\n",
      "APD     144.35\n",
      "ALXN    124.42\n",
      "AGN     240.59\n",
      "ADS     200.96\n",
      "GOOGL   717.78\n",
      "GOOG    705.63\n",
      "AMZN    745.81\n",
      "AMT     113.66\n",
      "AMGN    161.10\n",
      "ANTM    132.15\n",
      "AON     109.57\n",
      "AZO     815.02\n",
      "AVGO    155.14\n",
      "AVB     184.94\n",
      "BCR     239.00\n",
      "BDX     175.64\n",
      "BRK-B   143.65\n",
      "BIIB    251.30\n",
      "BLK     345.20\n",
      "BA      130.09\n",
      "BXP     133.32\n",
      "CELG    105.03\n",
      "CVX     104.77\n",
      "CMG     399.71\n",
      "...        ...\n",
      "RTN     138.49\n",
      "REGN    378.35\n",
      "ROK     115.70\n",
      "ROP     170.04\n",
      "SPGI    108.87\n",
      "SRE     114.11\n",
      "SHW     306.52\n",
      "SPG     219.56\n",
      "SLG     105.98\n",
      "SJM     154.08\n",
      "SNA     160.16\n",
      "SWK     114.97\n",
      "SRCL    104.70\n",
      "SYK     122.29\n",
      "CLX     138.37\n",
      "HSY     110.70\n",
      "TRV     118.08\n",
      "TMO     152.69\n",
      "TDG     269.81\n",
      "ULTA    250.82\n",
      "UNH     141.27\n",
      "UPS     109.52\n",
      "UTX     103.66\n",
      "UHS     137.16\n",
      "VNO     100.46\n",
      "VMC     123.61\n",
      "WAT     146.53\n",
      "WHR     171.38\n",
      "WLTW    125.06\n",
      "ZBH     124.89\n",
      "\n",
      "[122 rows x 1 columns]\n"
     ]
    }
   ],
   "source": [
    "print sample_df[sample_df.Price > 100][['Price']] #True인 것들만 값 반환. 타겟 조건을 다시 타겟 시리즈에 넣어줌."
   ]
  },
  {
   "cell_type": "markdown",
   "metadata": {},
   "source": [
    "* 새 column 추가하기"
   ]
  },
  {
   "cell_type": "code",
   "execution_count": 2,
   "metadata": {
    "collapsed": false
   },
   "outputs": [
    {
     "ename": "NameError",
     "evalue": "name 'sample_df' is not defined",
     "output_type": "error",
     "traceback": [
      "\u001b[0;31m---------------------------------------------------------------------------\u001b[0m",
      "\u001b[0;31mNameError\u001b[0m                                 Traceback (most recent call last)",
      "\u001b[0;32m<ipython-input-2-5662064978a7>\u001b[0m in \u001b[0;36m<module>\u001b[0;34m()\u001b[0m\n\u001b[0;32m----> 1\u001b[0;31m \u001b[0mcopy\u001b[0m \u001b[1;33m=\u001b[0m \u001b[0msample_df\u001b[0m\u001b[1;33m.\u001b[0m\u001b[0mcopy\u001b[0m\u001b[1;33m(\u001b[0m\u001b[1;33m)\u001b[0m \u001b[1;31m#원본을 유지하기 위해 copy하고\u001b[0m\u001b[1;33m\u001b[0m\u001b[0m\n\u001b[0m\u001b[1;32m      2\u001b[0m \u001b[0mcopy\u001b[0m\u001b[1;33m[\u001b[0m\u001b[1;34m'TwicePrice'\u001b[0m\u001b[1;33m]\u001b[0m \u001b[1;33m=\u001b[0m \u001b[0msample_df\u001b[0m\u001b[1;33m.\u001b[0m\u001b[0mPrice\u001b[0m \u001b[1;33m*\u001b[0m \u001b[1;36m2\u001b[0m\u001b[1;33m\u001b[0m\u001b[0m\n\u001b[1;32m      3\u001b[0m \u001b[0mcopy\u001b[0m\u001b[1;33m[\u001b[0m\u001b[1;34m\"TripePrice\"\u001b[0m\u001b[1;33m]\u001b[0m \u001b[1;33m=\u001b[0m \u001b[0msample_df\u001b[0m\u001b[1;33m.\u001b[0m\u001b[0mPrice\u001b[0m \u001b[1;33m*\u001b[0m \u001b[1;36m3\u001b[0m\u001b[1;33m\u001b[0m\u001b[0m\n\u001b[1;32m      4\u001b[0m \u001b[0mcopy\u001b[0m\u001b[1;33m.\u001b[0m\u001b[0minsert\u001b[0m\u001b[1;33m(\u001b[0m\u001b[1;36m4\u001b[0m\u001b[1;33m,\u001b[0m \u001b[1;34m\"SquaredPrice\"\u001b[0m\u001b[1;33m,\u001b[0m \u001b[0msample_df\u001b[0m\u001b[1;33m.\u001b[0m\u001b[0mPrice\u001b[0m \u001b[1;33m**\u001b[0m\u001b[1;36m2\u001b[0m\u001b[1;33m)\u001b[0m\u001b[1;33m\u001b[0m\u001b[0m\n\u001b[1;32m      5\u001b[0m \u001b[1;32mprint\u001b[0m \u001b[0mcopy\u001b[0m\u001b[1;33m[\u001b[0m\u001b[1;33m:\u001b[0m\u001b[1;36m10\u001b[0m\u001b[1;33m]\u001b[0m\u001b[1;33m\u001b[0m\u001b[0m\n",
      "\u001b[0;31mNameError\u001b[0m: name 'sample_df' is not defined"
     ]
    }
   ],
   "source": [
    "copy = sample_df.copy() #원본을 유지하기 위해 copy하고\n",
    "copy['TwicePrice'] = sample_df.Price * 2\n",
    "copy[\"TriplePrice\"] = sample_df.Price * 3\n",
    "copy.insert(4, \"SquaredPrice\", sample_df.Price **2)\n",
    "print copy[:10]"
   ]
  },
  {
   "cell_type": "code",
   "execution_count": 77,
   "metadata": {
    "collapsed": false
   },
   "outputs": [
    {
     "name": "stdout",
     "output_type": "stream",
     "text": [
      "                       Name  TriplePrice       Sector   Price  Book Value  \\\n",
      "Symbol                                                                      \n",
      "MMM              3M Company       531.36  Industrials  177.12       19.34   \n",
      "ABT     Abbott Laboratories       125.67  Health Care   41.89       14.10   \n",
      "\n",
      "        TwicePrice  \n",
      "Symbol              \n",
      "MMM         354.24  \n",
      "ABT          83.78  \n"
     ]
    }
   ],
   "source": [
    "copy.insert(1, 'TriplePrice', sample_df.Price * 3) #맨 마지막에 들어가는게 싫어서 내가 원하는 위치에 넣기 위해서 insert함수 사용\n",
    "print copy[:2]"
   ]
  },
  {
   "cell_type": "markdown",
   "metadata": {
    "collapsed": true
   },
   "source": [
    " * column 삭제하기"
   ]
  },
  {
   "cell_type": "code",
   "execution_count": 78,
   "metadata": {
    "collapsed": false
   },
   "outputs": [
    {
     "name": "stdout",
     "output_type": "stream",
     "text": [
      "                       Name  TriplePrice       Sector   Price  Book Value  \\\n",
      "Symbol                                                                      \n",
      "MMM              3M Company       531.36  Industrials  177.12       19.34   \n",
      "ABT     Abbott Laboratories       125.67  Health Care   41.89       14.10   \n",
      "\n",
      "        TwicePrice  \n",
      "Symbol              \n",
      "MMM         354.24  \n",
      "ABT          83.78  \n",
      "                       Name  TriplePrice   Price  Book Value  TwicePrice\n",
      "Symbol                                                                  \n",
      "MMM              3M Company       531.36  177.12       19.34      354.24\n",
      "ABT     Abbott Laboratories       125.67   41.89       14.10       83.78\n"
     ]
    }
   ],
   "source": [
    "print copy[:2]\n",
    "del copy['Sector']\n",
    "print copy[:2]"
   ]
  },
  {
   "cell_type": "markdown",
   "metadata": {},
   "source": [
    " * row 추가/삭제하기"
   ]
  },
  {
   "cell_type": "code",
   "execution_count": 3,
   "metadata": {
    "collapsed": false
   },
   "outputs": [
    {
     "ename": "NameError",
     "evalue": "name 'copy' is not defined",
     "output_type": "error",
     "traceback": [
      "\u001b[0;31m---------------------------------------------------------------------------\u001b[0m",
      "\u001b[0;31mNameError\u001b[0m                                 Traceback (most recent call last)",
      "\u001b[0;32m<ipython-input-3-16b1dded920e>\u001b[0m in \u001b[0;36m<module>\u001b[0;34m()\u001b[0m\n\u001b[0;32m----> 1\u001b[0;31m \u001b[0mdf1\u001b[0m \u001b[1;33m=\u001b[0m \u001b[0mcopy\u001b[0m\u001b[1;33m.\u001b[0m\u001b[0miloc\u001b[0m\u001b[1;33m[\u001b[0m\u001b[1;36m0\u001b[0m\u001b[1;33m:\u001b[0m\u001b[1;36m3\u001b[0m\u001b[1;33m]\u001b[0m\u001b[1;33m.\u001b[0m\u001b[0mcopy\u001b[0m\u001b[1;33m(\u001b[0m\u001b[1;33m)\u001b[0m \u001b[1;31m#copy에서 [0:3]만큼 떼어와서 다시 copy\u001b[0m\u001b[1;33m\u001b[0m\u001b[0m\n\u001b[0m\u001b[1;32m      2\u001b[0m \u001b[0mcopy\u001b[0m \u001b[1;33m=\u001b[0m \u001b[0mcopy\u001b[0m\u001b[1;33m.\u001b[0m\u001b[0mappend\u001b[0m\u001b[1;33m(\u001b[0m\u001b[0mdf1\u001b[0m\u001b[1;33m)\u001b[0m \u001b[1;31m#새로운 dataframe을 append하거나\u001b[0m\u001b[1;33m\u001b[0m\u001b[0m\n\u001b[1;32m      3\u001b[0m \u001b[1;32mprint\u001b[0m \u001b[0mcopy\u001b[0m\u001b[1;33m.\u001b[0m\u001b[0mtail\u001b[0m\u001b[1;33m(\u001b[0m\u001b[1;33m)\u001b[0m\u001b[1;33m\u001b[0m\u001b[0m\n\u001b[1;32m      4\u001b[0m \u001b[1;33m\u001b[0m\u001b[0m\n\u001b[1;32m      5\u001b[0m \u001b[0mcopy\u001b[0m\u001b[1;33m.\u001b[0m\u001b[0mloc\u001b[0m\u001b[1;33m[\u001b[0m\u001b[1;34m'Aaron'\u001b[0m\u001b[1;33m]\u001b[0m \u001b[1;33m=\u001b[0m \u001b[1;33m[\u001b[0m\u001b[1;34m'Aaron'\u001b[0m\u001b[1;33m,\u001b[0m \u001b[1;36m1000.0\u001b[0m\u001b[1;33m,\u001b[0m \u001b[1;36m1000.0\u001b[0m\u001b[1;33m,\u001b[0m \u001b[1;36m1000.0\u001b[0m\u001b[1;33m,\u001b[0m \u001b[1;36m2000.0\u001b[0m\u001b[1;33m]\u001b[0m \u001b[1;31m#직접 값을 입력하면 됨\u001b[0m\u001b[1;33m\u001b[0m\u001b[0m\n",
      "\u001b[0;31mNameError\u001b[0m: name 'copy' is not defined"
     ]
    }
   ],
   "source": [
    "df1 = copy.iloc[0:3].copy() #copy에서 [0:3]만큼 떼어와서 다시 copy\n",
    "copy = copy.append(df1) #새로운 dataframe을 append하거나\n",
    "print copy.tail()\n",
    "\n",
    "copy.loc['Aaron'] = ['Aaron', 1000.0, 1000.0, 1000.0, 2000.0] #직접 값을 입력하면 됨\n",
    "print copy.tail()\n",
    "#그런데 row는 한개씩 추가할 일이 많이 없을 것. "
   ]
  },
  {
   "cell_type": "code",
   "execution_count": 84,
   "metadata": {
    "collapsed": false
   },
   "outputs": [
    {
     "data": {
      "text/html": [
       "<div>\n",
       "<table border=\"1\" class=\"dataframe\">\n",
       "  <thead>\n",
       "    <tr style=\"text-align: right;\">\n",
       "      <th></th>\n",
       "      <th>Name</th>\n",
       "      <th>TriplePrice</th>\n",
       "      <th>Price</th>\n",
       "      <th>Book Value</th>\n",
       "      <th>TwicePrice</th>\n",
       "    </tr>\n",
       "    <tr>\n",
       "      <th>Symbol</th>\n",
       "      <th></th>\n",
       "      <th></th>\n",
       "      <th></th>\n",
       "      <th></th>\n",
       "      <th></th>\n",
       "    </tr>\n",
       "  </thead>\n",
       "  <tbody>\n",
       "    <tr>\n",
       "      <th>ABT</th>\n",
       "      <td>Abbott Laboratories</td>\n",
       "      <td>125.67</td>\n",
       "      <td>41.89</td>\n",
       "      <td>14.10</td>\n",
       "      <td>83.78</td>\n",
       "    </tr>\n",
       "    <tr>\n",
       "      <th>ABBV</th>\n",
       "      <td>AbbVie</td>\n",
       "      <td>192.48</td>\n",
       "      <td>64.16</td>\n",
       "      <td>2.87</td>\n",
       "      <td>128.32</td>\n",
       "    </tr>\n",
       "    <tr>\n",
       "      <th>MMM</th>\n",
       "      <td>3M Company</td>\n",
       "      <td>531.36</td>\n",
       "      <td>177.12</td>\n",
       "      <td>19.34</td>\n",
       "      <td>354.24</td>\n",
       "    </tr>\n",
       "    <tr>\n",
       "      <th>ABT</th>\n",
       "      <td>Abbott Laboratories</td>\n",
       "      <td>125.67</td>\n",
       "      <td>41.89</td>\n",
       "      <td>14.10</td>\n",
       "      <td>83.78</td>\n",
       "    </tr>\n",
       "    <tr>\n",
       "      <th>ABBV</th>\n",
       "      <td>AbbVie</td>\n",
       "      <td>192.48</td>\n",
       "      <td>64.16</td>\n",
       "      <td>2.87</td>\n",
       "      <td>128.32</td>\n",
       "    </tr>\n",
       "  </tbody>\n",
       "</table>\n",
       "</div>"
      ],
      "text/plain": [
       "                       Name  TriplePrice   Price  Book Value  TwicePrice\n",
       "Symbol                                                                  \n",
       "ABT     Abbott Laboratories       125.67   41.89       14.10       83.78\n",
       "ABBV                 AbbVie       192.48   64.16        2.87      128.32\n",
       "MMM              3M Company       531.36  177.12       19.34      354.24\n",
       "ABT     Abbott Laboratories       125.67   41.89       14.10       83.78\n",
       "ABBV                 AbbVie       192.48   64.16        2.87      128.32"
      ]
     },
     "execution_count": 84,
     "metadata": {},
     "output_type": "execute_result"
    }
   ],
   "source": [
    "copy = copy.drop(['Aaron']) #row 삭제할 때 drop\n",
    "copy.tail()"
   ]
  },
  {
   "cell_type": "code",
   "execution_count": 284,
   "metadata": {
    "collapsed": false,
    "scrolled": true
   },
   "outputs": [
    {
     "name": "stdout",
     "output_type": "stream",
     "text": [
      "                       Name       Sector   Price  Book Value\n",
      "Symbol                                                      \n",
      "MMM              3M Company  Industrials  177.12       19.34\n",
      "ABT     Abbott Laboratories  Health Care   41.89       14.10\n",
      "ABBV                 AbbVie  Health Care   64.16        2.87\n",
      "                         Name                  Sector   Price  Book Value\n",
      "Symbol                                                                   \n",
      "AYI         Acuity Brands Inc             Industrials  264.62       36.50\n",
      "AGN              Allergan plc             Health Care  240.59      183.41\n",
      "ADS     Alliance Data Systems  Information Technology  200.96       29.51\n"
     ]
    }
   ],
   "source": [
    "selection = sample_df.Price > 200\n",
    "lessthan200 = sample_df[-selection] # - 붙으면 반전. 즉  '<= 200'인 것만 나올 것.\n",
    "print lessthan200[:3]\n",
    "\n",
    "morethan200 = sample_df[selection]\n",
    "print morethan200[:3]"
   ]
  },
  {
   "cell_type": "markdown",
   "metadata": {
    "collapsed": true
   },
   "source": [
    "## 데이터가 broad하면 알고리즘에 따른 차이가 크지 않음.\n",
    "## 즉 잘 수집된 데이터는 설명력이 좋다.\n",
    "## scikit learn은 single core기반이라 좀 떨어짐. 그래도 우리 수준에서 큰 무리 없음."
   ]
  }
 ],
 "metadata": {
  "kernelspec": {
   "display_name": "Python 2",
   "language": "python",
   "name": "python2"
  },
  "language_info": {
   "codemirror_mode": {
    "name": "ipython",
    "version": 2
   },
   "file_extension": ".py",
   "mimetype": "text/x-python",
   "name": "python",
   "nbconvert_exporter": "python",
   "pygments_lexer": "ipython2",
   "version": "2.7.13"
  }
 },
 "nbformat": 4,
 "nbformat_minor": 1
}
