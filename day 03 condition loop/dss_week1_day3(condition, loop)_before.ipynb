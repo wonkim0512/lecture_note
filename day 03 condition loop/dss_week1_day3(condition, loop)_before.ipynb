{
 "cells": [
  {
   "cell_type": "markdown",
   "metadata": {},
   "source": [
    "# Condition & Loop"
   ]
  },
  {
   "cell_type": "markdown",
   "metadata": {},
   "source": [
    "## 학습목표\n",
    " * 조건문의 이해 및 활용 (if)\n",
    " * 반복문의 이해 및 활용 (while, for)"
   ]
  },
  {
   "cell_type": "code",
   "execution_count": null,
   "metadata": {
    "collapsed": true
   },
   "outputs": [],
   "source": []
  },
  {
   "cell_type": "markdown",
   "metadata": {},
   "source": [
    "* condition (조건문)\n",
    " + 두 상태를 비교할 때 사용함\n",
    " + if, elif, else 키워드를 사용"
   ]
  },
  {
   "cell_type": "code",
   "execution_count": 42,
   "metadata": {
    "collapsed": false
   },
   "outputs": [
    {
     "name": "stdout",
     "output_type": "stream",
     "text": [
      "True\n"
     ]
    }
   ],
   "source": [
    "if 5 < 6: # : -> 주의\n",
    "    print 'True'"
   ]
  },
  {
   "cell_type": "code",
   "execution_count": 9,
   "metadata": {
    "collapsed": true
   },
   "outputs": [],
   "source": [
    "if 5 > 6:\n",
    "    print 'Never printed' #조건이 거짓이므로 절대 수행되지 않는다."
   ]
  },
  {
   "cell_type": "code",
   "execution_count": 12,
   "metadata": {
    "collapsed": false
   },
   "outputs": [
    {
     "name": "stdout",
     "output_type": "stream",
     "text": [
      "---\n",
      "???\n"
     ]
    }
   ],
   "source": [
    "a = 100\n",
    "if a % 9 == 0:\n",
    "    print '!!!'\n",
    "if a % 9 != 0:\n",
    "    print '---'    \n",
    "if a % 9 == 1:\n",
    "    print '???'"
   ]
  },
  {
   "cell_type": "markdown",
   "metadata": {},
   "source": [
    "if는 혼자 존재 가능\n",
    "elif는 if가 아닌 다른 조건\n",
    "else는 if,elif 조건이 아닌 것 전부.\n",
    "\n",
    "elif,else는 optional이다.\n",
    "if,if,if로 이어진 것과 if,elif,elif로 이어진 것의 차이는??\n",
    "\n",
    "if는 하나하나 모두 보겠다는 것이고, if,elif는 한 군데 걸리면 그 아래 조건은 보지 않고 내려간다."
   ]
  },
  {
   "cell_type": "code",
   "execution_count": 22,
   "metadata": {
    "collapsed": false
   },
   "outputs": [
    {
     "name": "stdout",
     "output_type": "stream",
     "text": [
      "???\n"
     ]
    }
   ],
   "source": [
    "a = 100\n",
    "if a % 9 == 0:\n",
    "    print '!!!'\n",
    "elif a % 10 == 0:\n",
    "    print '???'\n",
    "else:\n",
    "    print 'hahaha'"
   ]
  },
  {
   "cell_type": "code",
   "execution_count": 25,
   "metadata": {
    "collapsed": false
   },
   "outputs": [
    {
     "name": "stdout",
     "output_type": "stream",
     "text": [
      "!!!\n",
      "!!!\n"
     ]
    }
   ],
   "source": [
    "#중첩 nested\n",
    "a = 99\n",
    "if a % 9 == 0:\n",
    "    if a%11==0:\n",
    "        print '!!!'\n",
    "elif a % 10 == 0:\n",
    "    print '???'\n",
    "else:\n",
    "    print 'hahaha'\n",
    "    \n",
    "#그런데 이렇게 하기보단 한번에 하는게 낫겠지? and로 연결하자. or로도 연결가능하고. 계속 이어줄 수 있고 우선순위가 있을 때는 괄호로 묶어줌\n",
    "a = 99\n",
    "if (a % 9 == 0 and a%11==0) or a%12==0:\n",
    "    print '!!!'\n",
    "elif a % 10 == 0:\n",
    "    print '???'\n",
    "else:\n",
    "    print 'hahaha'"
   ]
  },
  {
   "cell_type": "code",
   "execution_count": 24,
   "metadata": {
    "collapsed": false
   },
   "outputs": [
    {
     "name": "stdout",
     "output_type": "stream",
     "text": [
      "oh!\n"
     ]
    }
   ],
   "source": [
    "x = 7\n",
    "\n",
    "if (5 < x) and (x < 10): #타 언어들은 이렇게 적어야하는 반면\n",
    "    print 'oh!'"
   ]
  },
  {
   "cell_type": "code",
   "execution_count": 31,
   "metadata": {
    "collapsed": false
   },
   "outputs": [
    {
     "name": "stdout",
     "output_type": "stream",
     "text": [
      "oh!\n",
      "7\n",
      "****************************************************************************************************\n"
     ]
    }
   ],
   "source": [
    "x = 7\n",
    "if 5 < x < 10: #파이썬에서는 부등호로 연결가능. 이하,이상은 <=,>=로 표현\n",
    "    print 'oh!'\n",
    "    \n",
    "if x:\n",
    "    print x\n",
    "\n",
    "print \"*\"*100\n",
    "\n",
    "x = 0\n",
    "if 5 < x < 10: \n",
    "    print 'oh!'\n",
    "    \n",
    "if x:\n",
    "    print x #0은 false."
   ]
  },
  {
   "cell_type": "markdown",
   "metadata": {},
   "source": [
    "+ if 뒤가 bool이 아니라면?\n",
    " * None\n",
    " * 0\n",
    " * 0.0\n",
    " * ''\n",
    " * []\n",
    " * ()\n",
    " * {}\n",
    " * set()\n",
    " \n",
    " 모두 False로 간주"
   ]
  },
  {
   "cell_type": "code",
   "execution_count": 32,
   "metadata": {
    "collapsed": false
   },
   "outputs": [
    {
     "name": "stdout",
     "output_type": "stream",
     "text": [
      "empty\n"
     ]
    }
   ],
   "source": [
    "a = []\n",
    "\n",
    "if a:\n",
    "    print 'right!'\n",
    "else:\n",
    "    print 'empty' #빈 리스트는 false 그러므로 empty가 출력."
   ]
  },
  {
   "cell_type": "code",
   "execution_count": 33,
   "metadata": {
    "collapsed": false
   },
   "outputs": [
    {
     "name": "stdout",
     "output_type": "stream",
     "text": [
      "haha\n"
     ]
    }
   ],
   "source": [
    "a = 0\n",
    "if not a != 0: #not false면 true.\n",
    "    print 'haha'"
   ]
  },
  {
   "cell_type": "markdown",
   "metadata": {},
   "source": []
  },
  {
   "cell_type": "markdown",
   "metadata": {},
   "source": [
    "* loop (반복문)\n",
    " + 시퀀스 등을 순회하며 반복작업을 가능케 한다.\n",
    " + while, for 의 키워드 사용 가능\n",
    " + 코딩 시, 십중팔구 가장 많이 사용됨\n",
    " + for,while 뭐가 더 빠르고 그런거 없음. 상황에 맞게 편한 것, 맞는 것 쓰면 됨."
   ]
  },
  {
   "cell_type": "code",
   "execution_count": 37,
   "metadata": {
    "collapsed": false
   },
   "outputs": [
    {
     "name": "stdout",
     "output_type": "stream",
     "text": [
      "1\n",
      "2\n",
      "3\n",
      "1\n",
      "2\n",
      "3\n",
      "4\n",
      "5\n",
      "6\n",
      "7\n",
      "8\n",
      "9\n",
      "10\n",
      "11\n",
      "12\n",
      "13\n",
      "14\n",
      "15\n",
      "16\n",
      "17\n",
      "18\n",
      "19\n",
      "20\n"
     ]
    }
   ],
   "source": [
    "count = 1\n",
    "while count <= 3: #true니까 수행되고\n",
    "    print count\n",
    "    count += 1\n",
    "    \n",
    "count = 1\n",
    "while True: #무한루프돌 때 탈출방법 미리 넣어두려면\n",
    "    print count\n",
    "    count+=1\n",
    "    if count>20:\n",
    "        break"
   ]
  },
  {
   "cell_type": "markdown",
   "metadata": {},
   "source": [
    "* break \n",
    " + loop를 중단할 때 사용"
   ]
  },
  {
   "cell_type": "code",
   "execution_count": 12,
   "metadata": {
    "collapsed": false
   },
   "outputs": [
    {
     "name": "stdout",
     "output_type": "stream",
     "text": [
      "1\n",
      "2\n",
      "3\n"
     ]
    }
   ],
   "source": [
    "count = 1\n",
    "while True:\n",
    "    print count\n",
    "    count += 1\n",
    "    if count > 3 :\n",
    "        break\n",
    "    "
   ]
  },
  {
   "cell_type": "markdown",
   "metadata": {},
   "source": [
    "* continue\n",
    " + 반복을 중단하진 않지만, 다음 루프로 넘어갈 때 사용"
   ]
  },
  {
   "cell_type": "code",
   "execution_count": 38,
   "metadata": {
    "collapsed": false
   },
   "outputs": [
    {
     "name": "stdout",
     "output_type": "stream",
     "text": [
      "Current variable value : 6\n",
      "Current variable value : 4\n",
      "Current variable value : 3\n",
      "Current variable value : 2\n",
      "Current variable value : 1\n",
      "Current variable value : 0\n",
      "Good bye!\n"
     ]
    }
   ],
   "source": [
    "var = 7                    \n",
    "while var > 0:              \n",
    "   var -= 1\n",
    "   if var == 5:\n",
    "      continue   \n",
    "   print 'Current variable value :', var #good bye로 내려가지 않고 다시 while로 올라감.continue면 아래 명령 수행하지말고 조건식으로 올라가라'\n",
    "print \"Good bye!\" #출력값에 왜 5가 없는지 생각해보자!. "
   ]
  },
  {
   "cell_type": "markdown",
   "metadata": {},
   "source": [
    "* while - else\n",
    " + break 문에 걸리지 않고 while 종료 시, else문 호출 / break 걸려서 while 종료시 else 실행 안됨.\n",
    " + 지금 while과 else가 대치되는 것."
   ]
  },
  {
   "cell_type": "code",
   "execution_count": 4,
   "metadata": {
    "collapsed": false
   },
   "outputs": [
    {
     "name": "stdout",
     "output_type": "stream",
     "text": [
      "even number\n",
      "****************************************************************************************************\n",
      "no even number\n"
     ]
    }
   ],
   "source": [
    "nums = [1, 4, 3, 5]\n",
    "position = 0\n",
    "while position < len(nums):\n",
    "    number = nums[position]\n",
    "    \n",
    "    if number % 2 == 0:\n",
    "        print 'even number'\n",
    "        break\n",
    "        \n",
    "    position += 1\n",
    "else:\n",
    "    print 'no even number'\n",
    "\n",
    "   \n",
    "\n",
    "print \"*\"*100\n",
    "\n",
    "\n",
    "nums = [1, 3, 5]\n",
    "position = 0\n",
    "while position < len(nums): #길이보다 작게 하는 이유는 길이만큼 가면 out of range가 뜨기 때문에.\n",
    "    number = nums[position]\n",
    "    \n",
    "    if number % 2 == 0:\n",
    "        print 'even number'\n",
    "        break\n",
    "        \n",
    "    position += 1\n",
    "else:\n",
    "    print 'no even number'   "
   ]
  },
  {
   "cell_type": "code",
   "execution_count": 5,
   "metadata": {
    "collapsed": false
   },
   "outputs": [
    {
     "name": "stdout",
     "output_type": "stream",
     "text": [
      "There's even number in this list\n"
     ]
    }
   ],
   "source": [
    "nums = [1,3,5,7,8,9]\n",
    "position = 0\n",
    "while position < len(nums):\n",
    "    if nums[position] % 2 == 0:\n",
    "        print(\"There's even number in this list\")\n",
    "        break\n",
    "    position += 1 #if에 안걸리더라도 position은 올라가야하고, if전에 올리면 nums[position]값이 이상해지니까 여기 넣어준것.\n",
    "    \n",
    "else:\n",
    "    print(\"There's no even number in this list.\")"
   ]
  },
  {
   "cell_type": "code",
   "execution_count": null,
   "metadata": {
    "collapsed": true
   },
   "outputs": [],
   "source": []
  },
  {
   "cell_type": "code",
   "execution_count": 43,
   "metadata": {
    "collapsed": false
   },
   "outputs": [
    {
     "name": "stdout",
     "output_type": "stream",
     "text": [
      "1\n",
      "3\n",
      "2\n",
      "5\n",
      "4\n",
      "6\n",
      "7\n",
      "9\n",
      "8\n",
      "1 3 2 5 4 6 7 9 8\n"
     ]
    }
   ],
   "source": [
    "nums = [1, 3, 2, 5, 4, 6, 7, 9, 8]\n",
    "pos = 0\n",
    "while pos < len(nums):\n",
    "    print nums[pos]\n",
    "    pos += 1\n",
    "    \n",
    "nums = [1, 3, 2, 5, 4, 6, 7, 9, 8]\n",
    "pos = 0\n",
    "while pos < len(nums):\n",
    "    print nums[pos], #출력값을 같은 줄에 나오게 하려면\n",
    "    pos += 1"
   ]
  },
  {
   "cell_type": "code",
   "execution_count": 47,
   "metadata": {
    "collapsed": false
   },
   "outputs": [
    {
     "name": "stdout",
     "output_type": "stream",
     "text": [
      "True\n"
     ]
    }
   ],
   "source": [
    "#질문사항 답변. 주소, 값.\n",
    "a=[1,2,3,4]\n",
    "b=[1,2,3,4]\n",
    "print a==b"
   ]
  },
  {
   "cell_type": "markdown",
   "metadata": {},
   "source": [
    "+ for \n",
    " - 이터레이터가 내부적으로 생김\n",
    " - for [loop_var] in [sequence]: 로 쓰임\n",
    " - sequence는 리스트, 문자열, 튜플, 딕셔너리, 셋 등 순회 가능한 객체\n",
    " - 클래스 수업 이후, for에 적용가능한 커스텀 객체 생성 예정~\n",
    " - for는 while과 달리 index를 control할 필요가 없어서 편함!"
   ]
  },
  {
   "cell_type": "code",
   "execution_count": 58,
   "metadata": {
    "collapsed": false
   },
   "outputs": [
    {
     "name": "stdout",
     "output_type": "stream",
     "text": [
      "1 2 3 1 2 3 4 5\n",
      "1 2 3\n",
      "1 2 3 4 5\n"
     ]
    }
   ],
   "source": [
    "a=[1,2,3,4,5]\n",
    "for num in a:\n",
    "    if num<=3:\n",
    "        print num,\n",
    "        \n",
    "a=[1,2,3,4,5]\n",
    "for num in a:\n",
    "    print num,\n",
    "    \n",
    "print\n",
    "    \n",
    "    \n",
    "a=[1,2,3,4,5]\n",
    "for num in a:\n",
    "    if num<=3:\n",
    "        print num,\n",
    "print       \n",
    "a=[1,2,3,4,5]\n",
    "for num in a:\n",
    "    print num,"
   ]
  },
  {
   "cell_type": "code",
   "execution_count": 11,
   "metadata": {
    "collapsed": true
   },
   "outputs": [
    {
     "name": "stdout",
     "output_type": "stream",
     "text": [
      "1\n",
      "3\n",
      "2\n",
      "5\n",
      "4\n",
      "6\n",
      "7\n",
      "9\n",
      "8\n",
      "1\n",
      "3\n",
      "2\n",
      "5\n",
      "4\n",
      "6\n",
      "7\n",
      "9\n",
      "8\n",
      "1\n",
      "3\n",
      "2\n",
      "5\n",
      "4\n",
      "6\n",
      "7\n",
      "9\n",
      "8\n"
     ]
    }
   ],
   "source": [
    "nums = [1, 3, 2, 5, 4, 6, 7, 9, 8]\n",
    "for val in nums:\n",
    "    print val\n",
    "    \n",
    "for i in nums:\n",
    "    print i\n",
    "    \n",
    "for hahah in nums:\n",
    "    print hahah"
   ]
  },
  {
   "cell_type": "code",
   "execution_count": 5,
   "metadata": {
    "collapsed": false
   },
   "outputs": [
    {
     "name": "stdout",
     "output_type": "stream",
     "text": [
      "hello\n",
      "world\n",
      "h e l l o   w o r l d\n"
     ]
    }
   ],
   "source": [
    "str = 'hello world'\n",
    "for char in str.split():\n",
    "    print char\n",
    "\n",
    "str = 'hello world'\n",
    "for char in str:\n",
    "    print char,"
   ]
  },
  {
   "cell_type": "code",
   "execution_count": 75,
   "metadata": {
    "collapsed": false,
    "scrolled": true
   },
   "outputs": [
    {
     "name": "stdout",
     "output_type": "stream",
     "text": [
      "japan tokyo\n",
      "korea seoul\n",
      "usa Washington D.C\n",
      "japan\n",
      "korea\n",
      "usa\n",
      "tokyo\n",
      "seoul\n",
      "Washington D.C\n",
      "--------------------\n",
      "japan tokyo\n",
      "korea seoul\n",
      "usa Washington D.C\n",
      "('japan', 'tokyo')\n",
      "('korea', 'seoul')\n",
      "('usa', 'Washington D.C')\n",
      "japan tokyo\n",
      "korea seoul\n",
      "usa Washington D.C\n"
     ]
    }
   ],
   "source": [
    "capitals = {'korea' : 'seoul', 'japan' : 'tokyo', 'usa' : 'Washington D.C'}\n",
    "for country in capitals: #순회하는 변수는 key.\n",
    "    print country, capitals[country]\n",
    "\n",
    "    \n",
    "for key in capitals.keys(): #.keys()는 key를 모두 list로.\n",
    "    print key\n",
    "    \n",
    "for val in capitals.values():\n",
    "    print val\n",
    "    \n",
    "print '-' * 20\n",
    "    \n",
    "for k, v in capitals.items(): #.items() key와 value를 tuple로 만들어서 \n",
    "    print k, v\n",
    "for item in capitals.items(): #tuple로 가져올 때\n",
    "    print item\n",
    "for item in capitals.items(): #.items() key와 value를 tuple로 만들어서 \n",
    "    print item[0],item[1]"
   ]
  },
  {
   "cell_type": "markdown",
   "metadata": {},
   "source": [
    "+ for에서 index 사용하기\n",
    " - for index, value in enumerate([sequence]): 처럼 사용 가능"
   ]
  },
  {
   "cell_type": "code",
   "execution_count": 6,
   "metadata": {
    "collapsed": false
   },
   "outputs": [
    {
     "name": "stdout",
     "output_type": "stream",
     "text": [
      "1 3 2 5 4 6 7 9 8\n",
      "value at index 0 is 1\n",
      "value at index 1 is 3\n",
      "value at index 2 is 2\n",
      "value at index 3 is 5\n",
      "value at index 4 is 4\n",
      "value at index 5 is 6\n",
      "value at index 6 is 7\n",
      "value at index 7 is 9\n",
      "value at index 8 is 8\n",
      "value at index 0\n",
      "value at index 1\n",
      "value at index 2\n",
      "value at index 3\n",
      "value at index 4\n",
      "value at index 5\n",
      "value at index 6\n",
      "value at index 7\n",
      "value at index 8\n",
      "value at index (0, 1)\n",
      "value at index (1, 3)\n",
      "value at index (2, 2)\n",
      "value at index (3, 5)\n",
      "value at index (4, 4)\n",
      "value at index (5, 6)\n",
      "value at index (6, 7)\n",
      "value at index (7, 9)\n",
      "value at index (8, 8)\n"
     ]
    }
   ],
   "source": [
    "nums = [1, 3, 2, 5, 4, 6, 7, 9, 8]\n",
    "\n",
    "for val in nums:\n",
    "    print val,\n",
    "print\n",
    "for idx, val in enumerate(nums): #enumerate: list를 tuple로 바꿔줌\n",
    "    print 'value at index', idx, 'is', val\n",
    "    \n",
    "for i,_ in enumerate(nums): # tuple로 받는데 나는 i만 사용하겠다. _는 그 변수 무시하겠다는 의미\n",
    "    print 'value at index', i #안쓰겠다고 의도를 밝혔으므로  'is',val 지워줌!\n",
    "    \n",
    "for i in enumerate(nums): # tuple로 받는데 나는 i만 사용하겠다. _는 그 변수 무시하겠다는 의미\n",
    "    print 'value at index', i"
   ]
  },
  {
   "cell_type": "code",
   "execution_count": 8,
   "metadata": {
    "collapsed": false
   },
   "outputs": [
    {
     "name": "stdout",
     "output_type": "stream",
     "text": [
      "value at index 0 is 1\n",
      "value at index 1 is 3\n",
      "value at index 2 is 2\n",
      "value at index 3 is 5\n",
      "value at index 4 is 4\n",
      "value at index 5 is 6\n",
      "value at index 6 is 7\n"
     ]
    }
   ],
   "source": [
    "nums = [1, 3, 2, 5, 4, 6, 7, 9, 8]\n",
    "for i, val in enumerate(nums):\n",
    "    if i > 6: # if i > 8\n",
    "        break\n",
    "    print 'value at index', i, 'is', val\n",
    "else:\n",
    "    print 'all done'"
   ]
  },
  {
   "cell_type": "markdown",
   "metadata": {},
   "source": [
    "* nested for loop"
   ]
  },
  {
   "cell_type": "code",
   "execution_count": 21,
   "metadata": {
    "collapsed": false
   },
   "outputs": [
    {
     "name": "stdout",
     "output_type": "stream",
     "text": [
      "1 2\n",
      "1 3\n",
      "1 4\n",
      "2 2\n",
      "2 3\n",
      "2 4\n",
      "3 2\n",
      "3 3\n",
      "3 4\n",
      "4 2\n",
      "4 3\n",
      "4 4\n"
     ]
    }
   ],
   "source": [
    "a = [1, 2, 3, 4]\n",
    "b = [2, 3, 4] \n",
    "\n",
    "for i in a:\n",
    "    for j in b:\n",
    "        print i, j"
   ]
  },
  {
   "cell_type": "markdown",
   "metadata": {},
   "source": [
    " + if & for 연습문제\n",
    "   \n",
    "  1. 구구단을 2 - 9단까지 출력하시오.\n",
    "  2. 1 - 100까지 정수 중 2의 배수 또는 11의 배수를 모두 출력하시오. \n",
    "  4. a = [22, 1, 3, 4, 7, 98, 21, 55, 87, 99, 19, 20, 45] 에서 최대값과 최소값을 찾으시오. (sorted, sort 사용 금지)\n",
    "  5. a = [22, 1, 3, 4, 7, 98, 21, 55, 87, 99, 19, 20, 45] 에서 평균을 구하세요.\n",
    "  "
   ]
  },
  {
   "cell_type": "code",
   "execution_count": 14,
   "metadata": {
    "collapsed": false
   },
   "outputs": [
    {
     "name": "stdout",
     "output_type": "stream",
     "text": [
      "[2, 4, 6, 8, 10, 11, 12, 14, 16, 18, 20, 22, 24, 26, 28, 30, 32, 33, 34, 36, 38, 40, 42, 44, 46, 48, 50, 52, 54, 55, 56, 58, 60, 62, 64, 66, 68, 70, 72, 74, 76, 77, 78, 80, 82, 84, 86, 88, 90, 92, 94, 96, 98, 99, 100]\n",
      "99\n",
      "1\n",
      "37.0\n"
     ]
    }
   ],
   "source": [
    "#2.\n",
    "numbers = [number for number in range(1,101) if number % 2 == 0 or number % 11 ==0]\n",
    "print numbers\n",
    "\n",
    "#3.\n",
    "a = [22, 1, 3, 4, 7, 98, 21, 55, 87, 99, 19, 20, 45]\n",
    "max = a[0]\n",
    "for number in a[1:]:\n",
    "    if number > max:\n",
    "        max = number\n",
    "print max\n",
    "\n",
    "min = a[0]\n",
    "for number in a[1:]:\n",
    "    if number < min:\n",
    "        min = number\n",
    "print min\n",
    "\n",
    "#4.\n",
    "result = 0\n",
    "for number in a:\n",
    "    result += number\n",
    "    \n",
    "print result / float(len(a))"
   ]
  },
  {
   "cell_type": "code",
   "execution_count": null,
   "metadata": {
    "collapsed": true
   },
   "outputs": [],
   "source": []
  },
  {
   "cell_type": "code",
   "execution_count": null,
   "metadata": {
    "collapsed": true
   },
   "outputs": [],
   "source": []
  },
  {
   "cell_type": "code",
   "execution_count": null,
   "metadata": {
    "collapsed": true
   },
   "outputs": [],
   "source": []
  },
  {
   "cell_type": "code",
   "execution_count": null,
   "metadata": {
    "collapsed": true
   },
   "outputs": [],
   "source": []
  },
  {
   "cell_type": "code",
   "execution_count": 92,
   "metadata": {
    "collapsed": false
   },
   "outputs": [
    {
     "name": "stdout",
     "output_type": "stream",
     "text": [
      "2 * 1\n",
      "2 * 2\n",
      "2 * 3\n",
      "2 * 4\n",
      "2 * 5\n",
      "2 * 6\n",
      "2 * 7\n",
      "2 * 8\n",
      "2 * 9\n",
      "**********\n",
      "3 * 1\n",
      "3 * 2\n",
      "3 * 3\n",
      "3 * 4\n",
      "3 * 5\n",
      "3 * 6\n",
      "3 * 7\n",
      "3 * 8\n",
      "3 * 9\n",
      "**********\n",
      "4 * 1\n",
      "4 * 2\n",
      "4 * 3\n",
      "4 * 4\n",
      "4 * 5\n",
      "4 * 6\n",
      "4 * 7\n",
      "4 * 8\n",
      "4 * 9\n",
      "**********\n",
      "5 * 1\n",
      "5 * 2\n",
      "5 * 3\n",
      "5 * 4\n",
      "5 * 5\n",
      "5 * 6\n",
      "5 * 7\n",
      "5 * 8\n",
      "5 * 9\n",
      "**********\n",
      "6 * 1\n",
      "6 * 2\n",
      "6 * 3\n",
      "6 * 4\n",
      "6 * 5\n",
      "6 * 6\n",
      "6 * 7\n",
      "6 * 8\n",
      "6 * 9\n",
      "**********\n",
      "7 * 1\n",
      "7 * 2\n",
      "7 * 3\n",
      "7 * 4\n",
      "7 * 5\n",
      "7 * 6\n",
      "7 * 7\n",
      "7 * 8\n",
      "7 * 9\n",
      "**********\n",
      "8 * 1\n",
      "8 * 2\n",
      "8 * 3\n",
      "8 * 4\n",
      "8 * 5\n",
      "8 * 6\n",
      "8 * 7\n",
      "8 * 8\n",
      "8 * 9\n",
      "**********\n",
      "9 * 1\n",
      "9 * 2\n",
      "9 * 3\n",
      "9 * 4\n",
      "9 * 5\n",
      "9 * 6\n",
      "9 * 7\n",
      "9 * 8\n",
      "9 * 9\n",
      "**********\n"
     ]
    }
   ],
   "source": [
    "#1.\n",
    "for i in range(2,10):\n",
    "    for j in range(1,10):\n",
    "        print i,\"*\",j\n",
    "    print \"*\"*10"
   ]
  },
  {
   "cell_type": "code",
   "execution_count": 7,
   "metadata": {
    "collapsed": false
   },
   "outputs": [
    {
     "name": "stdout",
     "output_type": "stream",
     "text": [
      "2\n",
      "4\n",
      "6\n",
      "8\n",
      "10\n",
      "11\n",
      "12\n",
      "14\n",
      "16\n",
      "18\n",
      "20\n",
      "22\n",
      "24\n",
      "26\n",
      "28\n",
      "30\n",
      "32\n",
      "33\n",
      "34\n",
      "36\n",
      "38\n",
      "40\n",
      "42\n",
      "44\n",
      "46\n",
      "48\n",
      "50\n",
      "52\n",
      "54\n",
      "55\n",
      "56\n",
      "58\n",
      "60\n",
      "62\n",
      "64\n",
      "66\n",
      "68\n",
      "70\n",
      "72\n",
      "74\n",
      "76\n",
      "77\n",
      "78\n",
      "80\n",
      "82\n",
      "84\n",
      "86\n",
      "88\n",
      "90\n",
      "92\n",
      "94\n",
      "96\n",
      "98\n",
      "99\n",
      "100\n",
      "22\n",
      "44\n",
      "66\n",
      "88\n"
     ]
    }
   ],
   "source": [
    "#2. 1 - 100까지 정수 중 2의 배수 또는 11의 배수를 모두 출력하시오.\n",
    "for i in range(1,101):\n",
    "    if i%2==0 or i%11==0:\n",
    "        print i\n",
    "\n",
    "nums=range(1,101)\n",
    "for i in nums:\n",
    "    if i%2==0 and i%11==0:\n",
    "        print i"
   ]
  },
  {
   "cell_type": "code",
   "execution_count": 108,
   "metadata": {
    "collapsed": false
   },
   "outputs": [
    {
     "name": "stdout",
     "output_type": "stream",
     "text": [
      "min is 1 and max is 99\n"
     ]
    }
   ],
   "source": [
    "#3. a = [22, 1, 3, 4, 7, 98, 21, 55, 87, 99, 19, 20, 45] 에서 최대값과 최소값을 찾으시오. (sorted, sort 사용 금지)\n",
    "a = [22, 1, 3, 4, 7, 98, 21, 55, 87, 99, 19, 20, 45]\n",
    "min=a[0]\n",
    "max=a[0]\n",
    "for num in a:\n",
    "    if num<min:\n",
    "        min=num\n",
    "    elif num>max:\n",
    "        max=num\n",
    "print \"min is\",min,\"and\",\"max is\", max"
   ]
  },
  {
   "cell_type": "code",
   "execution_count": 106,
   "metadata": {
    "collapsed": false
   },
   "outputs": [
    {
     "name": "stdout",
     "output_type": "stream",
     "text": [
      "37.0\n"
     ]
    }
   ],
   "source": [
    "#4. a = [22, 1, 3, 4, 7, 98, 21, 55, 87, 99, 19, 20, 45] 에서 평균을 구하세요.\n",
    "a = [22, 1, 3, 4, 7, 98, 21, 55, 87, 99, 19, 20, 45]\n",
    "total=0\n",
    "for num in a:\n",
    "    total+=num\n",
    "avg=float(total)/len(a)\n",
    "print avg"
   ]
  },
  {
   "cell_type": "markdown",
   "metadata": {},
   "source": [
    "* 연습문제 2) sort algorithm animations 참고!\n",
    "big o notation, sorting의 중요성. ex)1조개의 숫자 sorting. bubble sorting으로 o(n^2)이면 10^24. 우리 컴퓨터의 클락이 보통 10^8이라 할때 10^16초 걸릴 것임. \n",
    "\n",
    " 알고리즘의 설명을 듣고 아래 두 코드를 작성하세요\n",
    " 1. 주어진 정수를 담는 리스트를 정렬하는 코드를 작성하세요. (bubble sort)    o(n^2)=n-1 + n-2 +...+1\n",
    " 2. 주어진 정수를 담는 리스트를 정렬하는 코드를 작성하세요. (selection sort) o(n^2)=n-1 + n-2 +...+1\n",
    " 3. 다음과 같은 점화식을 만족하는 수열을 피보나치 수열이라고 합니다. f0 = 1, f1 = 1, fn = fn-1 + fn-2 \n",
    "    이때, 15번째까지 피보나치 수열을 출력하시오."
   ]
  },
  {
   "cell_type": "code",
   "execution_count": 54,
   "metadata": {
    "collapsed": false
   },
   "outputs": [
    {
     "name": "stdout",
     "output_type": "stream",
     "text": [
      "[22, 1, 3, 4, 7, 98, 21, 55, 87, 99, 19, 20, 45]\n",
      "[1, 3, 4, 7, 19, 20, 21, 22, 45, 55, 87, 98, 99]\n"
     ]
    }
   ],
   "source": [
    "#1.\n",
    "def bubblesort(numbers):\n",
    "    for i in range(len(numbers)-1,0,-1):\n",
    "        for idx in range(i):\n",
    "            if numbers[idx] > numbers[idx+1]:\n",
    "                temp = numbers[idx]\n",
    "                numbers[idx] = numbers[idx+1]\n",
    "                numbers[idx+1] = temp\n",
    "    return numbers\n",
    "\n",
    "numbers = [22, 1, 3, 4, 7, 98, 21, 55, 87, 99, 19, 20, 45]\n",
    "print numbers\n",
    "print bubblesort(numbers)"
   ]
  },
  {
   "cell_type": "code",
   "execution_count": 70,
   "metadata": {
    "collapsed": false
   },
   "outputs": [
    {
     "name": "stdout",
     "output_type": "stream",
     "text": [
      "[22, 1, 3, 4, 7, 98, 21, 55, 87, 99, 19, 20, 45]\n",
      "[1, 3, 4, 7, 98, 21, 55, 87, 99, 19, 20, 45, 22]\n"
     ]
    }
   ],
   "source": [
    "#2.\n",
    "def selectionsort(alist):\n",
    "    for i in range(len(alist)-1, 0, -1):\n",
    "        position_of_max = 0\n",
    "        for location in range(1, i+1):\n",
    "            if alist[position_of_max] < alist[location]:\n",
    "                postion_of_max = location\n",
    "        \n",
    "        temp = alist[i]\n",
    "        alist[i] = alist[position_of_max]\n",
    "        alist[position_of_max] = temp\n",
    "    \n",
    "    return alist\n",
    "\n",
    "numbers = [22, 1, 3, 4, 7, 98, 21, 55, 87, 99, 19, 20, 45]\n",
    "print numbers\n",
    "print selectionsort(numbers)\n"
   ]
  },
  {
   "cell_type": "code",
   "execution_count": null,
   "metadata": {
    "collapsed": true
   },
   "outputs": [],
   "source": []
  },
  {
   "cell_type": "code",
   "execution_count": null,
   "metadata": {
    "collapsed": true
   },
   "outputs": [],
   "source": []
  },
  {
   "cell_type": "code",
   "execution_count": 44,
   "metadata": {
    "collapsed": false
   },
   "outputs": [
    {
     "name": "stdout",
     "output_type": "stream",
     "text": [
      "[1, 3, 4, 7, 22, 21, 55, 87, 98, 19, 20, 45, 99]\n",
      "[1, 3, 4, 7, 21, 22, 55, 87, 19, 20, 45, 98, 99]\n",
      "[1, 3, 4, 7, 21, 22, 55, 19, 20, 45, 87, 98, 99]\n",
      "[1, 3, 4, 7, 21, 22, 19, 20, 45, 55, 87, 98, 99]\n",
      "[1, 3, 4, 7, 21, 19, 20, 22, 45, 55, 87, 98, 99]\n",
      "[1, 3, 4, 7, 19, 20, 21, 22, 45, 55, 87, 98, 99]\n",
      "[1, 3, 4, 7, 19, 20, 21, 22, 45, 55, 87, 98, 99]\n",
      "[1, 3, 4, 7, 19, 20, 21, 22, 45, 55, 87, 98, 99]\n",
      "[1, 3, 4, 7, 19, 20, 21, 22, 45, 55, 87, 98, 99]\n",
      "[1, 3, 4, 7, 19, 20, 21, 22, 45, 55, 87, 98, 99]\n",
      "[1, 3, 4, 7, 19, 20, 21, 22, 45, 55, 87, 98, 99]\n",
      "[1, 3, 4, 7, 19, 20, 21, 22, 45, 55, 87, 98, 99]\n"
     ]
    }
   ],
   "source": [
    "#1.bubble sort\n",
    "a = [22, 1, 3, 4, 7, 98, 21, 55, 87, 99, 19, 20, 45]\n",
    "for num in range(len(a)-1,0,-1):\n",
    "    for i in range(num):\n",
    "        if a[i]>a[i+1]:\n",
    "            temp=a[i]\n",
    "            a[i]=a[i+1]\n",
    "            a[i+1]=temp\n",
    "    print a"
   ]
  },
  {
   "cell_type": "code",
   "execution_count": 42,
   "metadata": {
    "collapsed": false
   },
   "outputs": [
    {
     "name": "stdout",
     "output_type": "stream",
     "text": [
      "[22, 1, 3, 4, 7, 98, 21, 55, 87, 99, 19, 20, 45]\n",
      "[1, 22, 3, 4, 7, 98, 21, 55, 87, 99, 19, 20, 45]\n",
      "[1, 3, 22, 4, 7, 98, 21, 55, 87, 99, 19, 20, 45]\n",
      "[1, 3, 4, 22, 7, 98, 21, 55, 87, 99, 19, 20, 45]\n",
      "[1, 3, 4, 7, 22, 98, 21, 55, 87, 99, 19, 20, 45]\n",
      "[1, 3, 4, 7, 19, 98, 21, 55, 87, 99, 22, 20, 45]\n",
      "[1, 3, 4, 7, 19, 20, 21, 55, 87, 99, 22, 98, 45]\n",
      "[1, 3, 4, 7, 19, 20, 21, 55, 87, 99, 22, 98, 45]\n",
      "[1, 3, 4, 7, 19, 20, 21, 22, 87, 99, 55, 98, 45]\n",
      "[1, 3, 4, 7, 19, 20, 21, 22, 45, 99, 55, 98, 87]\n",
      "[1, 3, 4, 7, 19, 20, 21, 22, 45, 55, 99, 98, 87]\n",
      "[1, 3, 4, 7, 19, 20, 21, 22, 45, 55, 87, 98, 99]\n",
      "[1, 3, 4, 7, 19, 20, 21, 22, 45, 55, 87, 98, 99]\n",
      "[1, 3, 4, 7, 19, 20, 21, 22, 45, 55, 87, 98, 99]\n"
     ]
    }
   ],
   "source": [
    "#2.selection sort\n",
    "a = [22, 1, 3, 4, 7, 98, 21, 55, 87, 99, 19, 20, 45]\n",
    "\n",
    "print a\n",
    "for i in range(len(a)):\n",
    "    min = a[i]\n",
    "    min_idx=i\n",
    "    \n",
    "    for j in range(i+1,len(a)):\n",
    "        if min > a[j]:\n",
    "            min = a[j]\n",
    "            min_idx = j\n",
    "            \n",
    "    temp = a[i]\n",
    "    a[i] = a[min_idx]\n",
    "    a[min_idx] = temp\n",
    "        \n",
    "    print a\n",
    "\n"
   ]
  },
  {
   "cell_type": "code",
   "execution_count": 127,
   "metadata": {
    "collapsed": false
   },
   "outputs": [
    {
     "name": "stdout",
     "output_type": "stream",
     "text": [
      "610\n"
     ]
    }
   ],
   "source": [
    "#3.fibonazi\n",
    "fibo=[1,1]\n",
    "for i in range(2,15):\n",
    "    fibo.append(fibo[i-2]+fibo[i-1])\n",
    "print fibo[-1]"
   ]
  },
  {
   "cell_type": "code",
   "execution_count": null,
   "metadata": {
    "collapsed": true
   },
   "outputs": [],
   "source": []
  },
  {
   "cell_type": "code",
   "execution_count": 1,
   "metadata": {
    "collapsed": false,
    "scrolled": false
   },
   "outputs": [],
   "source": [
    "#1-1.주어진 정수를 담는 리스트를 정렬하는 코드를 작성하세요. (bubble sort) o(n^2)=n-1 + n-2 +...+1\n",
    "a = [22, 1, 3, 4, 7, 98, 21, 55, 87, 99, 19, 20, 45]\n"
   ]
  },
  {
   "cell_type": "code",
   "execution_count": 2,
   "metadata": {
    "collapsed": false
   },
   "outputs": [],
   "source": [
    "#2-1.주어진 정수를 담는 리스트를 정렬하는 코드를 작성하세요. (selection sort) o(n^2)=n-1 + n-2 +...+1\n",
    "a = [22, 1, 3, 4, 7, 98, 21, 55, 87, 99, 19, 20, 45]\n"
   ]
  },
  {
   "cell_type": "code",
   "execution_count": null,
   "metadata": {
    "collapsed": true
   },
   "outputs": [],
   "source": [
    "#3-1.다음과 같은 점화식을 만족하는 수열을 피보나치 수열이라고 합니다. f0 = 1, f1 = 1, fn = fn-1 + fn-2 이때, 15번째까지 피보나치 수열을 출력하시오."
   ]
  },
  {
   "cell_type": "code",
   "execution_count": null,
   "metadata": {
    "collapsed": true
   },
   "outputs": [],
   "source": []
  },
  {
   "cell_type": "code",
   "execution_count": null,
   "metadata": {
    "collapsed": true
   },
   "outputs": [],
   "source": []
  },
  {
   "cell_type": "code",
   "execution_count": null,
   "metadata": {
    "collapsed": true
   },
   "outputs": [],
   "source": []
  },
  {
   "cell_type": "code",
   "execution_count": null,
   "metadata": {
    "collapsed": true
   },
   "outputs": [],
   "source": []
  },
  {
   "cell_type": "code",
   "execution_count": null,
   "metadata": {
    "collapsed": true
   },
   "outputs": [],
   "source": []
  },
  {
   "cell_type": "markdown",
   "metadata": {},
   "source": [
    "* zip()으로 두개 이상의 시퀀스 묶기"
   ]
  },
  {
   "cell_type": "code",
   "execution_count": 20,
   "metadata": {
    "collapsed": false
   },
   "outputs": [
    {
     "name": "stdout",
     "output_type": "stream",
     "text": [
      "japan tokyo\n",
      "korea seoul\n",
      "usa Washington D.C\n",
      "\n",
      "japan tokyo\n",
      "korea seoul\n",
      "usa Washington D.C\n",
      "1 2 1\n",
      "2 4 4\n",
      "3 6 9\n"
     ]
    }
   ],
   "source": [
    "capitals = {'korea' : 'seoul', 'usa' : 'Washington D.C', 'japan' : 'tokyo'}\n",
    "countries = capitals.keys()\n",
    "cities = capitals.values()\n",
    "\n",
    "#print zip(countries, cities), type(zip(countries, cities)) #zip으로 리스트를 묶으면 tuple list가 됨! zip은 최소 길이 기준으로 맞춰짐!\n",
    "\n",
    "for country, city in zip(countries, cities):\n",
    "    print country, city\n",
    "\n",
    "print\n",
    "# 쌍을 보장해서 하려면. .items() \n",
    "for c,v in capitals.items():\n",
    "    print c,v \n",
    "    \n",
    "aa = [1, 2, 3]\n",
    "bb = [2, 4, 6]\n",
    "cc = [1, 4, 9]\n",
    "\n",
    "for a, b, c in zip(aa, bb, cc):\n",
    "    print a, b, c"
   ]
  },
  {
   "cell_type": "code",
   "execution_count": 22,
   "metadata": {
    "collapsed": false
   },
   "outputs": [
    {
     "name": "stdout",
     "output_type": "stream",
     "text": [
      "Japan Kyoto\n",
      "Korea Pohang\n",
      "USA NYC\n"
     ]
    }
   ],
   "source": [
    "city_lst = {\"Korea\" : \"Pohang\", \"Japan\" : \"Kyoto\", \"USA\" : \"NYC\"}\n",
    "countries = city_lst.keys()\n",
    "cities = city_lst.values()\n",
    "for country, city in zip(countries, cities):\n",
    "    print country, city"
   ]
  },
  {
   "cell_type": "markdown",
   "metadata": {},
   "source": [
    " + range()\n",
    "  - 숫자 시퀀스 생성"
   ]
  },
  {
   "cell_type": "code",
   "execution_count": 9,
   "metadata": {
    "collapsed": false
   },
   "outputs": [
    {
     "name": "stdout",
     "output_type": "stream",
     "text": [
      "[0, 1, 2] <type 'list'>\n",
      "[1, 2, 3, 4, 5, 6, 7, 8]\n",
      "[5, 10, 15, 20, 25, 30, 35, 40, 45, 50, 55, 60, 65, 70, 75, 80, 85, 90, 95, 100]\n",
      "[10, 8, 6, 4, 2, 0]\n"
     ]
    }
   ],
   "source": [
    "\n",
    "\n",
    "a = range(3)\n",
    "print a, type(a)\n",
    "\n",
    "b = range(1, 9)\n",
    "print b\n",
    "\n",
    "c = range(5, 105, 5)\n",
    "print c\n",
    "\n",
    "d = range(10, -1, -2)\n",
    "print d"
   ]
  },
  {
   "cell_type": "raw",
   "metadata": {},
   "source": [
    "* comprehension\n",
    " + 하나 이상의 iterator로 부터 파이썬의 자료 구조를 만드는 엘레강스하고 간결한 방법\n",
    " + list comprehension 매우 간편함!\n",
    " + comprehension은 일종의 언어적 장치!"
   ]
  },
  {
   "cell_type": "code",
   "execution_count": 26,
   "metadata": {
    "collapsed": false
   },
   "outputs": [
    {
     "name": "stdout",
     "output_type": "stream",
     "text": [
      "[2, 4, 6]\n",
      "[2, 4, 6]\n"
     ]
    }
   ],
   "source": [
    "nums = [1, 2, 3, 4, 5, 6]\n",
    "#nums = range(1, 7)\n",
    "\n",
    "even_nums = []\n",
    "for i in nums:\n",
    "    if i % 2 == 0:\n",
    "        even_nums.append(i)\n",
    "        \n",
    "print even_nums\n",
    "\n",
    "even_nums2 = [2*i for i in range(1,4)]\n",
    "print(even_nums2)"
   ]
  },
  {
   "cell_type": "code",
   "execution_count": 141,
   "metadata": {
    "collapsed": false
   },
   "outputs": [
    {
     "name": "stdout",
     "output_type": "stream",
     "text": [
      "[2, 4, 6, 8, 10, 12, 14]\n",
      "[5, 7, 9, 11, 13, 15, 17]\n"
     ]
    }
   ],
   "source": [
    "nums = range(1,15)\n",
    "even_nums2 = [i for i in nums if i % 2 == 0] #이게 그냥 list로 만들어짐.\n",
    "even_nums3 = [i+3 for i in nums if i % 2 == 0] #i+3을 list에 담음.\n",
    "print even_nums2\n",
    "print even_nums3"
   ]
  },
  {
   "cell_type": "code",
   "execution_count": 34,
   "metadata": {
    "collapsed": false
   },
   "outputs": [
    {
     "name": "stdout",
     "output_type": "stream",
     "text": [
      "[1, 2, 3, 4, 5, 6]\n",
      "[1, 4, 9, 16, 25, 36]\n"
     ]
    }
   ],
   "source": [
    "nums2 = [i for i in nums]\n",
    "nums3 = [i**2 for i in nums]\n",
    "\n",
    "print nums2\n",
    "print nums3"
   ]
  },
  {
   "cell_type": "markdown",
   "metadata": {},
   "source": [
    "* [expression for element in sequence]"
   ]
  },
  {
   "cell_type": "code",
   "execution_count": 20,
   "metadata": {
    "collapsed": false
   },
   "outputs": [
    {
     "name": "stdout",
     "output_type": "stream",
     "text": [
      "[2]\n",
      "[1, 2, 3, 0, 0, 0]\n",
      "[1, 9, 4, 10, 8, 12, 14, 18, 16]\n"
     ]
    }
   ],
   "source": [
    "nums4 = [2*i for i in nums if i < 2]\n",
    "\n",
    "nums6 = [i if i < 4 else 0 for i in range(1,7)]\n",
    "\n",
    "nums5 = [i**2 if i < 4 else i*2 for i in nums] #else를 쓰고 싶으면 if와 else를 for 앞에 써야한다. 1,2,3은 제곱하고 나머지는 2배. \n",
    "\n",
    "print nums4\n",
    "print nums6\n",
    "print nums5"
   ]
  },
  {
   "cell_type": "code",
   "execution_count": 146,
   "metadata": {
    "collapsed": false,
    "scrolled": true
   },
   "outputs": [
    {
     "name": "stdout",
     "output_type": "stream",
     "text": [
      "[0, 3, 6, 9]\n",
      "[(1, 1)]\n"
     ]
    }
   ],
   "source": [
    "nums = range(11)\n",
    "temp_nums = [i for i in nums if i % 3 == 0]\n",
    "print temp_nums\n",
    "temp_nums1 = [(i,1) for i in nums if i == 1]\n",
    "print temp_nums1"
   ]
  },
  {
   "cell_type": "code",
   "execution_count": 36,
   "metadata": {
    "collapsed": false
   },
   "outputs": [
    {
     "name": "stdout",
     "output_type": "stream",
     "text": [
      "[0, 3, 6, 9]\n"
     ]
    }
   ],
   "source": [
    "times_3 = [i for i in range(11) if i % 3 == 0]\n",
    "print(times_3)"
   ]
  },
  {
   "cell_type": "code",
   "execution_count": 38,
   "metadata": {
    "collapsed": false
   },
   "outputs": [
    {
     "name": "stdout",
     "output_type": "stream",
     "text": [
      "1 1\n",
      "1 2\n",
      "2 1\n",
      "2 2\n",
      "3 1\n",
      "3 2\n",
      "--------------------\n",
      "1 1\n",
      "1 2\n",
      "2 1\n",
      "2 2\n",
      "3 1\n",
      "3 2\n"
     ]
    }
   ],
   "source": [
    "rows = range(1, 4)\n",
    "cols = range(1, 3)\n",
    "\n",
    "for row in rows:\n",
    "    for col in cols:\n",
    "        print row, col\n",
    "        \n",
    "print '-' * 20\n",
    "        \n",
    "cells = [(row, col) for row in rows for col in cols]\n",
    "for row, col in cells:\n",
    "    print row, col"
   ]
  },
  {
   "cell_type": "code",
   "execution_count": 39,
   "metadata": {
    "collapsed": false
   },
   "outputs": [
    {
     "name": "stdout",
     "output_type": "stream",
     "text": [
      "1 1\n",
      "2 1\n",
      "2 2\n",
      "3 1\n",
      "3 2\n",
      "3 3\n"
     ]
    }
   ],
   "source": [
    "for i in range(1,4):\n",
    "    for j in range(1,i+1):\n",
    "        print i, j\n",
    "\n",
    "print\n",
    "\n"
   ]
  },
  {
   "cell_type": "markdown",
   "metadata": {},
   "source": [
    "* dictionary comprehension\n",
    " "
   ]
  },
  {
   "cell_type": "code",
   "execution_count": 147,
   "metadata": {
    "collapsed": false
   },
   "outputs": [
    {
     "name": "stdout",
     "output_type": "stream",
     "text": [
      "{'do': 2, 'chicago': 7, 'elephant': 8, 'apple': 5, 'banana': 6}\n",
      "{'do': 2, 'chicago': 7, 'elephant': 8, 'apple': 5, 'banana': 6}\n"
     ]
    }
   ],
   "source": [
    "words = ['apple', 'banana', 'chicago', 'do', 'elephant']\n",
    "\n",
    "dict1={}\n",
    "for w in words:\n",
    "    dict1[w]=len(w) #value is length of key\n",
    "print dict1\n",
    "\n",
    "\n",
    "words_dict = {w : len(w) for w in words} #a dict always needs keys.\n",
    "\n",
    "print words_dict"
   ]
  },
  {
   "cell_type": "code",
   "execution_count": null,
   "metadata": {
    "collapsed": true
   },
   "outputs": [],
   "source": []
  },
  {
   "cell_type": "code",
   "execution_count": 15,
   "metadata": {
    "collapsed": false
   },
   "outputs": [
    {
     "name": "stdout",
     "output_type": "stream",
     "text": [
      "{'do': 2, 'chicago': 7, 'elephant': 8, 'apple': 5, 'banana': 6}\n",
      "{'do': 2, 'chicago': 7, 'elephant': 8, 'apple': 5, 'banana': 6}\n"
     ]
    }
   ],
   "source": [
    "words = ['apple', 'banana', 'chicago', 'do', 'elephant']\n",
    "dict1 = {}\n",
    "for word in words:\n",
    "    dict1[word] = len(word)\n",
    "print(dict1)\n",
    "\n",
    "dict1 = {word: len(word) for word in words} # word:  로 표시한다!\n",
    "print(dict1)"
   ]
  },
  {
   "cell_type": "code",
   "execution_count": null,
   "metadata": {
    "collapsed": true
   },
   "outputs": [],
   "source": []
  },
  {
   "cell_type": "code",
   "execution_count": null,
   "metadata": {
    "collapsed": true
   },
   "outputs": [],
   "source": []
  },
  {
   "cell_type": "code",
   "execution_count": null,
   "metadata": {
    "collapsed": true
   },
   "outputs": [],
   "source": []
  },
  {
   "cell_type": "code",
   "execution_count": null,
   "metadata": {
    "collapsed": true
   },
   "outputs": [],
   "source": []
  },
  {
   "cell_type": "markdown",
   "metadata": {},
   "source": [
    "* comprehension 연습문제 (그냥 코딩해도 되지만 comprehension 연습해보자!)\n",
    " 1. Celsius = [39.2, 36.5, 37.3, 37.8] F = (9/5) * C + 32 일 때, 리스트의 각 값을 화씨로 바꾼 리스트를 만드시오.\n",
    " 2. 주어진 문자열에서 띄어쓰기의 개수는? 'Today is very nice and I want to go out for dinner'\n",
    " 3. 주어진 문자열에서 모음을 모두 제거하시오. 'Today is very nice and I want to go out for dinner'"
   ]
  },
  {
   "cell_type": "code",
   "execution_count": 30,
   "metadata": {
    "collapsed": false
   },
   "outputs": [
    {
     "name": "stdout",
     "output_type": "stream",
     "text": [
      "[71.2, 68.5, 69.3, 69.8]\n",
      "[' ', ' ', ' ', ' ', ' ', ' ', ' ', ' ', ' ', ' ', ' ']\n",
      "11\n",
      "t d y   s   v r y   n c   n d     w n t   t   g   t   f r   d n n r\n",
      "tdy s vry nc nd  wnt t g t fr dnnr\n"
     ]
    }
   ],
   "source": [
    "Celsius = [39.2, 36.5, 37.3, 37.8]\n",
    "Farenheit = [(9/5) * C + 32 for C in Celsius]\n",
    "print Farenheit\n",
    "\n",
    "a = 'Today is very nice and I want to go out for dinner'\n",
    "a_blank = [ch for ch in a if ch == \" \"]\n",
    "print a_blank\n",
    "print len(a_blank)\n",
    "\n",
    "vowels = 'aeiou'\n",
    "a_split = [ch for ch in a.lower() if ch not in vowels]\n",
    "print \" \".join(a_split)\n",
    "print \"\".join(a_split)"
   ]
  },
  {
   "cell_type": "code",
   "execution_count": null,
   "metadata": {
    "collapsed": true
   },
   "outputs": [],
   "source": []
  },
  {
   "cell_type": "code",
   "execution_count": null,
   "metadata": {
    "collapsed": true
   },
   "outputs": [],
   "source": []
  },
  {
   "cell_type": "code",
   "execution_count": null,
   "metadata": {
    "collapsed": true
   },
   "outputs": [],
   "source": []
  },
  {
   "cell_type": "code",
   "execution_count": null,
   "metadata": {
    "collapsed": true
   },
   "outputs": [],
   "source": []
  },
  {
   "cell_type": "code",
   "execution_count": null,
   "metadata": {
    "collapsed": true
   },
   "outputs": [],
   "source": []
  },
  {
   "cell_type": "code",
   "execution_count": 151,
   "metadata": {
    "collapsed": false
   },
   "outputs": [
    {
     "name": "stdout",
     "output_type": "stream",
     "text": [
      "[71.2, 68.5, 69.3, 69.8]\n"
     ]
    }
   ],
   "source": [
    "#1. Celsius = [39.2, 36.5, 37.3, 37.8] F = (9/5) * C + 32 일 때, 리스트의 각 값을 화씨로 바꾼 리스트를 만드시오.\n",
    "Celsius = [39.2, 36.5, 37.3, 37.8]\n",
    "Farenheit=[((9/5) * c + 32) for c in Celsius]\n",
    "print Farenheit"
   ]
  },
  {
   "cell_type": "code",
   "execution_count": 16,
   "metadata": {
    "collapsed": false
   },
   "outputs": [
    {
     "name": "stdout",
     "output_type": "stream",
     "text": [
      "[71.2, 68.5, 69.3, 69.8]\n"
     ]
    }
   ],
   "source": [
    "#1-1.\n",
    "Celsius = [39.2, 36.5, 37.3, 37.8] \n",
    "F = [(9/5) * C + 32 for C in Celsius]\n",
    "print F\n"
   ]
  },
  {
   "cell_type": "code",
   "execution_count": 22,
   "metadata": {
    "collapsed": false
   },
   "outputs": [
    {
     "name": "stdout",
     "output_type": "stream",
     "text": [
      "['Today', 'is', 'very', 'nice', 'and', 'I', 'want', 'to', 'go', 'out', 'for', 'dinner']\n",
      "11\n",
      "\n",
      "['T', 'o', 'd', 'a', 'y', ' ', 'i', 's', ' ', 'v', 'e', 'r', 'y', ' ', 'n', 'i', 'c', 'e', ' ', 'a', 'n', 'd', ' ', 'I', ' ', 'w', 'a', 'n', 't', ' ', 't', 'o', ' ', 'g', 'o', ' ', 'o', 'u', 't', ' ', 'f', 'o', 'r', ' ', 'd', 'i', 'n', 'n', 'e', 'r']\n",
      "11\n",
      "11\n"
     ]
    }
   ],
   "source": [
    "#2.주어진 문자열에서 띄어쓰기의 개수는? 'Today is very nice and I want to go out for dinner'\n",
    "sen='Today is very nice and I want to go out for dinner'\n",
    "sen_split=sen.split(' ')\n",
    "print sen_split\n",
    "print len(sen_split)-1\n",
    "print\n",
    "#2. comprehension 쓰면\n",
    "temp=[ch for ch in sen]\n",
    "print temp\n",
    "temp1=[ch for ch in sen if ch == ' ']\n",
    "print len(temp1)\n",
    "\n",
    "a='Today is very nice and I want to go out for dinner'\n",
    "a_ch = [ch for ch in a]\n",
    "a_ch_blank = [ch for ch in a_ch if ch == \" \"]\n",
    "print len(a_ch_blank)"
   ]
  },
  {
   "cell_type": "code",
   "execution_count": 47,
   "metadata": {
    "collapsed": false
   },
   "outputs": [
    {
     "name": "stdout",
     "output_type": "stream",
     "text": [
      "['Today', 'is', 'very', 'nice', 'and', 'I', 'want', 'to', 'go', 'out', 'for', 'dinner']\n",
      "11\n",
      "[' ', ' ', ' ', ' ', ' ', ' ', ' ', ' ', ' ', ' ', ' ']\n",
      "11\n"
     ]
    }
   ],
   "source": [
    "#2-1.주어진 문자열에서 띄어쓰기의 개수는? 'Today is very nice and I want to go out for dinner'\n",
    "sen='Today is very nice and I want to go out for dinner'\n",
    "sen_splited = sen.split()\n",
    "print(sen_splited)\n",
    "blank = len(sen_splited) - 1\n",
    "print(blank)\n",
    "\n",
    "#2-2. comprehension\n",
    "temp = [ch for ch in sen]\n",
    "temp1 = [ch for ch in temp if ch == \" \"]\n",
    "print(temp1)\n",
    "print(len(temp1))"
   ]
  },
  {
   "cell_type": "code",
   "execution_count": 175,
   "metadata": {
    "collapsed": false
   },
   "outputs": [
    {
     "name": "stdout",
     "output_type": "stream",
     "text": [
      "['T', 'o', 'd', 'a', 'y', ' ', 'i', 's', ' ', 'v', 'e', 'r', 'y', ' ', 'n', 'i', 'c', 'e', ' ', 'a', 'n', 'd', ' ', 'I', ' ', 'w', 'a', 'n', 't', ' ', 't', 'o', ' ', 'g', 'o', ' ', 'o', 'u', 't', ' ', 'f', 'o', 'r', ' ', 'd', 'i', 'n', 'n', 'e', 'r']\n",
      "['T', 'o', 'd', 'a', 'y', ' ', 'i', 's', ' ', 'v', 'e', 'r', 'y', ' ', 'n', 'i', 'c', 'e', ' ', 'a', 'n', 'd', ' ', 'I', ' ', 'w', 'a', 'n', 't', ' ', 't', 'o', ' ', 'g', 'o', ' ', 'o', 'u', 't', ' ', 'f', 'o', 'r', ' ', 'd', 'i', 'n', 'n', 'e', 'r']\n",
      "['T', 'd', 'y', ' ', 's', ' ', 'v', 'r', 'y', ' ', 'n', 'c', ' ', 'n', 'd', ' ', 'I', ' ', 'w', 'n', 't', ' ', 't', ' ', 'g', ' ', 't', ' ', 'f', 'r', ' ', 'd', 'n', 'n', 'r']\n",
      "Tdy s vry nc nd I wnt t g t fr dnnr\n"
     ]
    }
   ],
   "source": [
    "#3.주어진 문자열에서 모음을 모두 제거하시오. 'Today is very nice and I want to go out for dinner'\n",
    "sen='Today is very nice and I want to go out for dinner'\n",
    "temp=[ch for ch in sen]\n",
    "print temp\n",
    "vowels='aeiou'\n",
    "if ch in vowels:\n",
    "    temp.remove(ch)\n",
    "print temp\n",
    "\n",
    "#강사님 풀이.\n",
    "sen='Today is very nice and I want to go out for dinner'\n",
    "vowels='aeiou'\n",
    "temp=[ch for ch in sen if not ch in vowels] #remove하는 것 보다 not 을 쓰는게 편한 경우의 예시!\n",
    "print temp\n",
    "print ''.join(temp)"
   ]
  },
  {
   "cell_type": "code",
   "execution_count": 45,
   "metadata": {
    "collapsed": false
   },
   "outputs": [
    {
     "name": "stdout",
     "output_type": "stream",
     "text": [
      "Tdy s vry nc nd  wnt t g t fr dnnr\n",
      "['T', 'd', 'y', ' ', 's', ' ', 'v', 'r', 'y', ' ', 'n', 'c', ' ', 'n', 'd', ' ', ' ', 'w', 'n', 't', ' ', 't', ' ', 'g', ' ', 't', ' ', 'f', 'r', ' ', 'd', 'n', 'n', 'r']\n",
      "Tdy s vry nc nd  wnt t g t fr dnnr\n"
     ]
    }
   ],
   "source": [
    "#3.주어진 문자열에서 모음을 모두 제거하시오. 'Today is very nice and I want to go out for dinner'\n",
    "sen = 'Today is very nice and I want to go out for dinner'\n",
    "vowels = \"aeiouAEIOU\"\n",
    "empty_str = \"\"\n",
    "for ch in sen:\n",
    "    if ch not in vowels:\n",
    "        empty_str += ch\n",
    "print(empty_str)\n",
    "\n",
    "temp = [ch for ch in sen if ch not in vowels]\n",
    "print(temp)\n",
    "print(\"\".join(temp))"
   ]
  },
  {
   "cell_type": "code",
   "execution_count": 28,
   "metadata": {
    "collapsed": false
   },
   "outputs": [
    {
     "name": "stdout",
     "output_type": "stream",
     "text": [
      "dcba\n"
     ]
    }
   ],
   "source": [
    "a = \"abcd\"\n",
    "print a[::-1]"
   ]
  },
  {
   "cell_type": "markdown",
   "metadata": {},
   "source": [
    "* assignment\n",
    " 1. 1 - 1000까지 정수 중 소수만 출력하시오. prime number\n",
    " 2. 1 - 9000까지 정수 중 palindrome의 개수는? palindrome은 11, 121, 1331, 999 등 앞으로 읽으나 뒤로 읽으나 같은 수를 의미 합니다. 대칭.\n"
   ]
  },
  {
   "cell_type": "code",
   "execution_count": 26,
   "metadata": {
    "collapsed": false
   },
   "outputs": [
    {
     "name": "stdout",
     "output_type": "stream",
     "text": [
      "[2, 3, 5, 7, 11, 13, 17, 19, 23, 29, 31, 37, 41, 43, 47, 53, 59, 61, 67, 71, 73, 79, 83, 89, 97, 101, 103, 107, 109, 113, 127, 131, 137, 139, 149, 151, 157, 163, 167, 173, 179, 181, 191, 193, 197, 199, 211, 223, 227, 229, 233, 239, 241, 251, 257, 263, 269, 271, 277, 281, 283, 293, 307, 311, 313, 317, 331, 337, 347, 349, 353, 359, 367, 373, 379, 383, 389, 397, 401, 409, 419, 421, 431, 433, 439, 443, 449, 457, 461, 463, 467, 479, 487, 491, 499, 503, 509, 521, 523, 541, 547, 557, 563, 569, 571, 577, 587, 593, 599, 601, 607, 613, 617, 619, 631, 641, 643, 647, 653, 659, 661, 673, 677, 683, 691, 701, 709, 719, 727, 733, 739, 743, 751, 757, 761, 769, 773, 787, 797, 809, 811, 821, 823, 827, 829, 839, 853, 857, 859, 863, 877, 881, 883, 887, 907, 911, 919, 929, 937, 941, 947, 953, 967, 971, 977, 983, 991, 997]\n",
      "\n",
      "[2, 3, 5, 7, 11, 13, 17, 19, 23, 29, 31, 37, 41, 43, 47, 53, 59, 61, 67, 71, 73, 79, 83, 89, 97, 101, 103, 107, 109, 113, 127, 131, 137, 139, 149, 151, 157, 163, 167, 173, 179, 181, 191, 193, 197, 199, 211, 223, 227, 229, 233, 239, 241, 251, 257, 263, 269, 271, 277, 281, 283, 293, 307, 311, 313, 317, 331, 337, 347, 349, 353, 359, 367, 373, 379, 383, 389, 397, 401, 409, 419, 421, 431, 433, 439, 443, 449, 457, 461, 463, 467, 479, 487, 491, 499, 503, 509, 521, 523, 541, 547, 557, 563, 569, 571, 577, 587, 593, 599, 601, 607, 613, 617, 619, 631, 641, 643, 647, 653, 659, 661, 673, 677, 683, 691, 701, 709, 719, 727, 733, 739, 743, 751, 757, 761, 769, 773, 787, 797, 809, 811, 821, 823, 827, 829, 839, 853, 857, 859, 863, 877, 881, 883, 887, 907, 911, 919, 929, 937, 941, 947, 953, 967, 971, 977, 983, 991, 997]\n"
     ]
    }
   ],
   "source": [
    "#1.\n",
    "nums = range(3,1001)\n",
    "prime = [2]\n",
    "for i in nums:\n",
    "    is_prime = True\n",
    "    for j in range(2,i):\n",
    "        if i % j == 0:\n",
    "            is_prime = False\n",
    "            break\n",
    "            \n",
    "    if is_prime:\n",
    "        prime.append(i)\n",
    "print prime\n",
    "print\n",
    "#1. big o notation을 o(sqrt(n))으로 줄이려면?. 어차피 1~i까지 다 볼 필요 없다. sqrt(i)까지만 보면 알 수 있음. \n",
    "import math\n",
    "nums = range(3,1001)\n",
    "prime = [2]\n",
    "for i in nums:\n",
    "    is_prime = True\n",
    "    for j in range(2,int(math.sqrt(i)+1)):\n",
    "        if i % j == 0:\n",
    "            is_prime = False\n",
    "            break\n",
    "            \n",
    "    if is_prime:\n",
    "        prime.append(i)\n",
    "print prime\n",
    "\n",
    "\n",
    "#에라토네스의 체. 2,3,5의 배수를 모두 제거하면 소수만 남음!\n",
    "nums=range(2,1001)\n",
    "\n",
    "    "
   ]
  },
  {
   "cell_type": "code",
   "execution_count": 41,
   "metadata": {
    "collapsed": false,
    "scrolled": false
   },
   "outputs": [
    {
     "ename": "TypeError",
     "evalue": "'str' object is not callable",
     "output_type": "error",
     "traceback": [
      "\u001b[0;31m---------------------------------------------------------------------------\u001b[0m",
      "\u001b[0;31mTypeError\u001b[0m                                 Traceback (most recent call last)",
      "\u001b[0;32m<ipython-input-41-04cd2da00b4d>\u001b[0m in \u001b[0;36m<module>\u001b[0;34m()\u001b[0m\n\u001b[1;32m      3\u001b[0m \u001b[0mpalindrome\u001b[0m \u001b[1;33m=\u001b[0m \u001b[1;33m[\u001b[0m \u001b[1;33m]\u001b[0m\u001b[1;33m\u001b[0m\u001b[0m\n\u001b[1;32m      4\u001b[0m \u001b[1;32mfor\u001b[0m \u001b[0mnum\u001b[0m \u001b[1;32min\u001b[0m \u001b[0mnums\u001b[0m\u001b[1;33m:\u001b[0m\u001b[1;33m\u001b[0m\u001b[0m\n\u001b[0;32m----> 5\u001b[0;31m     \u001b[0mstr_num\u001b[0m \u001b[1;33m=\u001b[0m \u001b[0mstr\u001b[0m\u001b[1;33m(\u001b[0m\u001b[0mnum\u001b[0m\u001b[1;33m)\u001b[0m\u001b[1;33m\u001b[0m\u001b[0m\n\u001b[0m\u001b[1;32m      6\u001b[0m     \u001b[1;32mif\u001b[0m \u001b[0mstr_num\u001b[0m \u001b[1;33m==\u001b[0m \u001b[0mstr_num\u001b[0m\u001b[1;33m[\u001b[0m\u001b[1;33m:\u001b[0m\u001b[1;33m:\u001b[0m\u001b[1;33m-\u001b[0m\u001b[1;36m1\u001b[0m\u001b[1;33m]\u001b[0m\u001b[1;33m:\u001b[0m\u001b[1;33m\u001b[0m\u001b[0m\n\u001b[1;32m      7\u001b[0m         \u001b[0mpalindrome\u001b[0m\u001b[1;33m.\u001b[0m\u001b[0mappend\u001b[0m\u001b[1;33m(\u001b[0m\u001b[0mnum\u001b[0m\u001b[1;33m)\u001b[0m\u001b[1;33m\u001b[0m\u001b[0m\n",
      "\u001b[0;31mTypeError\u001b[0m: 'str' object is not callable"
     ]
    }
   ],
   "source": [
    "#2. 1 - 9000까지 정수 중 palindrome의 개수는? palindrome은 11, 121, 1331, 999 등 앞으로 읽으나 뒤로 읽으나 같은 수를 의미.\n",
    "nums = range(1,9001)\n",
    "palindrome = [ ]\n",
    "for num in nums:\n",
    "    str_num = str(num)\n",
    "    if str_num == str_num[::-1]:\n",
    "        palindrome.append(num)\n",
    "        \n",
    "print palindrome"
   ]
  },
  {
   "cell_type": "code",
   "execution_count": 59,
   "metadata": {
    "collapsed": false
   },
   "outputs": [
    {
     "name": "stdout",
     "output_type": "stream",
     "text": [
      "[2, 3, 5, 7, 11, 13, 17, 19, 23, 29, 31, 37, 41, 43, 47, 53, 59, 61, 67, 71, 73, 79, 83, 89, 97, 101, 103, 107, 109, 113, 127, 131, 137, 139, 149, 151, 157, 163, 167, 173, 179, 181, 191, 193, 197, 199, 211, 223, 227, 229, 233, 239, 241, 251, 257, 263, 269, 271, 277, 281, 283, 293, 307, 311, 313, 317, 331, 337, 347, 349, 353, 359, 367, 373, 379, 383, 389, 397, 401, 409, 419, 421, 431, 433, 439, 443, 449, 457, 461, 463, 467, 479, 487, 491, 499, 503, 509, 521, 523, 541, 547, 557, 563, 569, 571, 577, 587, 593, 599, 601, 607, 613, 617, 619, 631, 641, 643, 647, 653, 659, 661, 673, 677, 683, 691, 701, 709, 719, 727, 733, 739, 743, 751, 757, 761, 769, 773, 787, 797, 809, 811, 821, 823, 827, 829, 839, 853, 857, 859, 863, 877, 881, 883, 887, 907, 911, 919, 929, 937, 941, 947, 953, 967, 971, 977, 983, 991, 997]\n"
     ]
    }
   ],
   "source": [
    "#1-1.1 - 1000까지 정수 중 소수만 출력하시오. prime number\n",
    "import math\n",
    "prime = [2]\n",
    "for num in range(3,1001):\n",
    "    is_prime = True\n",
    "    for i in range(2,int(math.sqrt(num))+1):\n",
    "        if num % i == 0:\n",
    "            is_prime = False\n",
    "            break\n",
    "            \n",
    "    if is_prime == True:\n",
    "        prime.append(num)\n",
    "print(prime)"
   ]
  },
  {
   "cell_type": "code",
   "execution_count": 44,
   "metadata": {
    "collapsed": false
   },
   "outputs": [
    {
     "ename": "TypeError",
     "evalue": "'str' object is not callable",
     "output_type": "error",
     "traceback": [
      "\u001b[0;31m---------------------------------------------------------------------------\u001b[0m",
      "\u001b[0;31mTypeError\u001b[0m                                 Traceback (most recent call last)",
      "\u001b[0;32m<ipython-input-44-96d253af65b0>\u001b[0m in \u001b[0;36m<module>\u001b[0;34m()\u001b[0m\n\u001b[1;32m      2\u001b[0m \u001b[0mpalindrome\u001b[0m \u001b[1;33m=\u001b[0m \u001b[1;33m[\u001b[0m\u001b[1;33m]\u001b[0m\u001b[1;33m\u001b[0m\u001b[0m\n\u001b[1;32m      3\u001b[0m \u001b[1;32mfor\u001b[0m \u001b[0mnum\u001b[0m \u001b[1;32min\u001b[0m \u001b[0mrange\u001b[0m\u001b[1;33m(\u001b[0m\u001b[1;36m1\u001b[0m\u001b[1;33m,\u001b[0m\u001b[1;36m9001\u001b[0m\u001b[1;33m)\u001b[0m\u001b[1;33m:\u001b[0m\u001b[1;33m\u001b[0m\u001b[0m\n\u001b[0;32m----> 4\u001b[0;31m     \u001b[0mnum_str\u001b[0m \u001b[1;33m=\u001b[0m \u001b[0mstr\u001b[0m\u001b[1;33m(\u001b[0m\u001b[0mnum\u001b[0m\u001b[1;33m)\u001b[0m\u001b[1;33m\u001b[0m\u001b[0m\n\u001b[0m\u001b[1;32m      5\u001b[0m     \u001b[0mempty_str\u001b[0m \u001b[1;33m=\u001b[0m \u001b[1;34m\"\"\u001b[0m\u001b[1;33m\u001b[0m\u001b[0m\n\u001b[1;32m      6\u001b[0m     \u001b[1;32mfor\u001b[0m \u001b[0mch\u001b[0m \u001b[1;32min\u001b[0m \u001b[0mnum_str\u001b[0m\u001b[1;33m:\u001b[0m\u001b[1;33m\u001b[0m\u001b[0m\n",
      "\u001b[0;31mTypeError\u001b[0m: 'str' object is not callable"
     ]
    }
   ],
   "source": [
    "#2-1.1 - 9000까지 정수 중 palindrome의 개수는? palindrome은 11, 121, 1331, 999 등 앞으로 읽으나 뒤로 읽으나 같은 수를 의미 합니다. 대칭.\n",
    "palindrome = []\n",
    "for num in range(1,9001):\n",
    "    num_str = str(num)\n",
    "    empty_str = \"\"\n",
    "    for ch in num_str:\n",
    "        empty_str = ch + empty_str\n",
    "    \n",
    "    if num_str == empty_str:\n",
    "        palindrome.append(int(num_str))\n",
    "        \n",
    "print(palindrome)\n",
    "\n",
    "\n",
    "print(\"*\"*130)\n",
    "#2-2.\n",
    "palindrome = []\n",
    "for num in range(1,9001):\n",
    "    num_str = str(num)\n",
    "    if num_str == num_str[::-1]:\n",
    "        palindrome.append(num)\n",
    "        \n",
    "print(palindrome)"
   ]
  },
  {
   "cell_type": "code",
   "execution_count": 45,
   "metadata": {
    "collapsed": false,
    "scrolled": false
   },
   "outputs": [
    {
     "name": "stdout",
     "output_type": "stream",
     "text": [
      "[2, 3, 5, 7, 11, 13, 17, 19, 23, 29, 31, 37, 41, 43, 47, 53, 59, 61, 67, 71, 73, 79, 83, 89, 97, 101, 103, 107, 109, 113, 127, 131, 137, 139, 149, 151, 157, 163, 167, 173, 179, 181, 191, 193, 197, 199, 211, 223, 227, 229, 233, 239, 241, 251, 257, 263, 269, 271, 277, 281, 283, 293, 307, 311, 313, 317, 331, 337, 347, 349, 353, 359, 367, 373, 379, 383, 389, 397, 401, 409, 419, 421, 431, 433, 439, 443, 449, 457, 461, 463, 467, 479, 487, 491, 499, 503, 509, 521, 523, 541, 547, 557, 563, 569, 571, 577, 587, 593, 599, 601, 607, 613, 617, 619, 631, 641, 643, 647, 653, 659, 661, 673, 677, 683, 691, 701, 709, 719, 727, 733, 739, 743, 751, 757, 761, 769, 773, 787, 797, 809, 811, 821, 823, 827, 829, 839, 853, 857, 859, 863, 877, 881, 883, 887, 907, 911, 919, 929, 937, 941, 947, 953, 967, 971, 977, 983, 991, 997]\n"
     ]
    }
   ],
   "source": [
    "prime_number = [2]\n",
    "for i in range(3,1001):\n",
    "    for j in range(2,i):\n",
    "        if i % j == 0:\n",
    "            break\n",
    "            \n",
    "    else:\n",
    "        prime_number.append(i)\n",
    "print prime_number"
   ]
  },
  {
   "cell_type": "code",
   "execution_count": 46,
   "metadata": {
    "collapsed": false
   },
   "outputs": [
    {
     "ename": "TypeError",
     "evalue": "'str' object is not callable",
     "output_type": "error",
     "traceback": [
      "\u001b[0;31m---------------------------------------------------------------------------\u001b[0m",
      "\u001b[0;31mTypeError\u001b[0m                                 Traceback (most recent call last)",
      "\u001b[0;32m<ipython-input-46-fd95eaa0821d>\u001b[0m in \u001b[0;36m<module>\u001b[0;34m()\u001b[0m\n\u001b[1;32m      1\u001b[0m \u001b[0mlst\u001b[0m \u001b[1;33m=\u001b[0m \u001b[1;33m[\u001b[0m\u001b[1;33m]\u001b[0m\u001b[1;33m\u001b[0m\u001b[0m\n\u001b[1;32m      2\u001b[0m \u001b[1;32mfor\u001b[0m \u001b[0mnum\u001b[0m \u001b[1;32min\u001b[0m \u001b[0mrange\u001b[0m\u001b[1;33m(\u001b[0m\u001b[1;36m1\u001b[0m\u001b[1;33m,\u001b[0m\u001b[1;36m9001\u001b[0m\u001b[1;33m)\u001b[0m\u001b[1;33m:\u001b[0m\u001b[1;33m\u001b[0m\u001b[0m\n\u001b[0;32m----> 3\u001b[0;31m     \u001b[1;32mif\u001b[0m \u001b[0mstr\u001b[0m\u001b[1;33m(\u001b[0m\u001b[0mnum\u001b[0m\u001b[1;33m)\u001b[0m \u001b[1;33m==\u001b[0m \u001b[0mstr\u001b[0m\u001b[1;33m(\u001b[0m\u001b[0mnum\u001b[0m\u001b[1;33m)\u001b[0m\u001b[1;33m[\u001b[0m\u001b[1;33m:\u001b[0m\u001b[1;33m:\u001b[0m\u001b[1;33m-\u001b[0m\u001b[1;36m1\u001b[0m\u001b[1;33m]\u001b[0m\u001b[1;33m:\u001b[0m\u001b[1;33m\u001b[0m\u001b[0m\n\u001b[0m\u001b[1;32m      4\u001b[0m         \u001b[0mlst\u001b[0m\u001b[1;33m.\u001b[0m\u001b[0mappend\u001b[0m\u001b[1;33m(\u001b[0m\u001b[0mnum\u001b[0m\u001b[1;33m)\u001b[0m\u001b[1;33m\u001b[0m\u001b[0m\n\u001b[1;32m      5\u001b[0m \u001b[1;32mprint\u001b[0m \u001b[0mlst\u001b[0m\u001b[1;33m\u001b[0m\u001b[0m\n",
      "\u001b[0;31mTypeError\u001b[0m: 'str' object is not callable"
     ]
    }
   ],
   "source": [
    "lst = []\n",
    "for num in range(1,9001):\n",
    "    if str(num) == str(num)[::-1]:\n",
    "        lst.append(num)\n",
    "print lst"
   ]
  }
 ],
 "metadata": {
  "kernelspec": {
   "display_name": "Python 2",
   "language": "python",
   "name": "python2"
  },
  "language_info": {
   "codemirror_mode": {
    "name": "ipython",
    "version": 2
   },
   "file_extension": ".py",
   "mimetype": "text/x-python",
   "name": "python",
   "nbconvert_exporter": "python",
   "pygments_lexer": "ipython2",
   "version": "2.7.13"
  }
 },
 "nbformat": 4,
 "nbformat_minor": 1
}
