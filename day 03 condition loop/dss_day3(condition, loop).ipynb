{
 "cells": [
  {
   "cell_type": "markdown",
   "metadata": {},
   "source": [
    "# Condition & Loop"
   ]
  },
  {
   "cell_type": "markdown",
   "metadata": {},
   "source": [
    "## 학습목표\n",
    " * 조건문의 이해 및 활용 (if)\n",
    " * 반복문의 이해 및 활용 (while, for)"
   ]
  },
  {
   "cell_type": "markdown",
   "metadata": {},
   "source": []
  },
  {
   "cell_type": "code",
   "execution_count": null,
   "metadata": {
    "collapsed": true
   },
   "outputs": [],
   "source": []
  },
  {
   "cell_type": "code",
   "execution_count": null,
   "metadata": {
    "collapsed": true
   },
   "outputs": [],
   "source": []
  },
  {
   "cell_type": "markdown",
   "metadata": {},
   "source": [
    "* condition (조건문)\n",
    " + 두 상태를 비교할 때 사용함\n",
    " + if, elif, else 키워드를 사용"
   ]
  },
  {
   "cell_type": "code",
   "execution_count": 8,
   "metadata": {
    "collapsed": false
   },
   "outputs": [
    {
     "name": "stdout",
     "output_type": "stream",
     "text": [
      "cddf\n"
     ]
    }
   ],
   "source": [
    "\n",
    "if 5 == 6: # : -> 주의\n",
    "    print 'dfdf'\n",
    "    print 'a'\n",
    "    print 'c'\n",
    "    \n",
    "print 'cddf'"
   ]
  },
  {
   "cell_type": "code",
   "execution_count": 9,
   "metadata": {
    "collapsed": true
   },
   "outputs": [],
   "source": [
    "if 5 > 6:\n",
    "    print 'never printed'"
   ]
  },
  {
   "cell_type": "code",
   "execution_count": 10,
   "metadata": {
    "collapsed": false
   },
   "outputs": [
    {
     "name": "stdout",
     "output_type": "stream",
     "text": [
      "???\n"
     ]
    }
   ],
   "source": [
    "a = 100\n",
    "if a % 9 == 0:\n",
    "    print '!!!'\n",
    "if a % 9 == 1:\n",
    "    print '???'"
   ]
  },
  {
   "cell_type": "code",
   "execution_count": 12,
   "metadata": {
    "collapsed": false
   },
   "outputs": [
    {
     "name": "stdout",
     "output_type": "stream",
     "text": [
      "!!!\n"
     ]
    }
   ],
   "source": [
    "a = 99\n",
    "# 중첩 nested\n",
    "if a % 9 == 0:\n",
    "    if a % 11  == 0:\n",
    "        print '!!!'\n",
    "elif a % 10 == 0:\n",
    "    print '???'\n",
    "else:\n",
    "    print 'hahaha'\n",
    "    \n"
   ]
  },
  {
   "cell_type": "code",
   "execution_count": 17,
   "metadata": {
    "collapsed": false
   },
   "outputs": [
    {
     "name": "stdout",
     "output_type": "stream",
     "text": [
      "!!!\n"
     ]
    }
   ],
   "source": []
  },
  {
   "cell_type": "code",
   "execution_count": 18,
   "metadata": {
    "collapsed": false
   },
   "outputs": [
    {
     "name": "stdout",
     "output_type": "stream",
     "text": [
      "oh!\n"
     ]
    }
   ],
   "source": [
    "x = 7\n",
    "\n",
    "if (5 > x) and (x < 10):\n",
    "    print 'oh!'"
   ]
  },
  {
   "cell_type": "code",
   "execution_count": 23,
   "metadata": {
    "collapsed": false
   },
   "outputs": [],
   "source": [
    "a = []\n",
    "if a:\n",
    "    print a"
   ]
  },
  {
   "cell_type": "markdown",
   "metadata": {},
   "source": [
    "+ if 뒤가 bool이 아니라면?\n",
    " * None\n",
    " * 0\n",
    " * 0.0\n",
    " * ''\n",
    " * []\n",
    " * ()\n",
    " * {}\n",
    " * set()\n",
    " \n",
    " 모두 False로 간주"
   ]
  },
  {
   "cell_type": "code",
   "execution_count": 24,
   "metadata": {
    "collapsed": false
   },
   "outputs": [
    {
     "name": "stdout",
     "output_type": "stream",
     "text": [
      "empty\n"
     ]
    }
   ],
   "source": [
    "a = []\n",
    "\n",
    "if a:\n",
    "    print 'right!'\n",
    "else:\n",
    "    print 'empty'"
   ]
  },
  {
   "cell_type": "code",
   "execution_count": 26,
   "metadata": {
    "collapsed": false
   },
   "outputs": [],
   "source": [
    "5 == 6\n",
    "5 != 6\n",
    "\n",
    "\n",
    "a = 0\n",
    "if not a == 0:\n",
    "    print 'haha'"
   ]
  },
  {
   "cell_type": "markdown",
   "metadata": {},
   "source": [
    "* loop (반복문)\n",
    " + 시퀀스등을 순회하며 반복작업을 가능케 한다.\n",
    " + while, for 의 키워드 사용 가능\n",
    " + 코딩 시, 십중팔구 가장 많이 사용됨"
   ]
  },
  {
   "cell_type": "code",
   "execution_count": 11,
   "metadata": {
    "collapsed": false
   },
   "outputs": [
    {
     "name": "stdout",
     "output_type": "stream",
     "text": [
      "1\n",
      "2\n",
      "3\n"
     ]
    }
   ],
   "source": [
    "count = 1\n",
    "while count <= 3:\n",
    "    print count\n",
    "    count += 1\n",
    "    \n",
    "print count\n",
    "print 'a'"
   ]
  },
  {
   "cell_type": "markdown",
   "metadata": {},
   "source": [
    "* break \n",
    " + loop를 중단할 때 사용"
   ]
  },
  {
   "cell_type": "code",
   "execution_count": 30,
   "metadata": {
    "collapsed": false
   },
   "outputs": [
    {
     "name": "stdout",
     "output_type": "stream",
     "text": [
      "1\n",
      "2\n",
      "3\n"
     ]
    }
   ],
   "source": [
    "count = 1\n",
    "while True:\n",
    "    print count\n",
    "    count += 1\n",
    "    if count > 3 :\n",
    "        break\n",
    "    "
   ]
  },
  {
   "cell_type": "markdown",
   "metadata": {},
   "source": [
    "* continue\n",
    " + 반복을 중단하진 않지만, 다음 루프로 넘어갈 때 사용"
   ]
  },
  {
   "cell_type": "code",
   "execution_count": 31,
   "metadata": {
    "collapsed": false
   },
   "outputs": [
    {
     "name": "stdout",
     "output_type": "stream",
     "text": [
      "Current variable value : 6\n",
      "Current variable value : 4\n",
      "Current variable value : 3\n",
      "Current variable value : 2\n",
      "Current variable value : 1\n",
      "Current variable value : 0\n",
      "Good bye!\n"
     ]
    }
   ],
   "source": [
    "var = 7                    \n",
    "while var > 0:              \n",
    "   var -= 1\n",
    "   if var == 5:\n",
    "      continue\n",
    "    \n",
    "   print 'Current variable value :', var\n",
    "\n",
    "print \"Good bye!\""
   ]
  },
  {
   "cell_type": "markdown",
   "metadata": {},
   "source": [
    "* while - else\n",
    " + break 문에 걸리지 않고 while 종료 시, else문 호출"
   ]
  },
  {
   "cell_type": "code",
   "execution_count": 33,
   "metadata": {
    "collapsed": false
   },
   "outputs": [
    {
     "name": "stdout",
     "output_type": "stream",
     "text": [
      "no even number\n"
     ]
    }
   ],
   "source": [
    "nums = [1, 3, 5]\n",
    "\n",
    "position = 0\n",
    "\n",
    "while position < len(nums):\n",
    "    number = nums[position]\n",
    "    \n",
    "    if number % 2 == 0:\n",
    "        print 'even number'\n",
    "        break\n",
    "        \n",
    "    position += 1\n",
    "else:\n",
    "    print 'no even number'\n",
    "    \n",
    "    "
   ]
  },
  {
   "cell_type": "code",
   "execution_count": 35,
   "metadata": {
    "collapsed": false
   },
   "outputs": [
    {
     "name": "stdout",
     "output_type": "stream",
     "text": [
      "1 3 2 5 4 6 7 9 8\n"
     ]
    }
   ],
   "source": [
    "nums = [1, 3, 2, 5, 4, 6, 7, 9, 8]\n",
    "pos = 0\n",
    "while pos < len(nums):\n",
    "    print nums[pos],\n",
    "    pos += 1"
   ]
  },
  {
   "cell_type": "code",
   "execution_count": 39,
   "metadata": {
    "collapsed": false
   },
   "outputs": [
    {
     "name": "stdout",
     "output_type": "stream",
     "text": [
      "True\n"
     ]
    }
   ],
   "source": [
    "a = [1, 2, 3, 4]\n",
    "b = a\n",
    "\n",
    "print a == b\n",
    "\n",
    "# 내부적으로 어떻게 처리하는지 알아보기"
   ]
  },
  {
   "cell_type": "markdown",
   "metadata": {},
   "source": [
    "+ for \n",
    " - 이터레이터가 내부적으로 생김\n",
    " - for [loop_var] in [sequence]: 로 쓰임\n",
    " - sequence는 리스트, 문자열, 튜플, 딕셔너리, 셋 등 순회 가능한 객체\n",
    " - 클래스 수업 이후, for에 적용가능한 커스텀 객체 생성 예정~"
   ]
  },
  {
   "cell_type": "code",
   "execution_count": null,
   "metadata": {
    "collapsed": true
   },
   "outputs": [],
   "source": [
    "\n",
    "a = [1, 2, 3, 4, 5]\n",
    "for i in a:\n",
    "    print i\n",
    "\n",
    "\n"
   ]
  },
  {
   "cell_type": "code",
   "execution_count": 43,
   "metadata": {
    "collapsed": false
   },
   "outputs": [
    {
     "name": "stdout",
     "output_type": "stream",
     "text": [
      "1 3 2 5 4 6 7 9 8\n",
      "1 3 2 5 4 6 7 9 8\n",
      "1 3 2 5 4 6 7 9 8\n"
     ]
    }
   ],
   "source": [
    "nums = [1, 3, 2, 5, 4, 6, 7, 9, 8]\n",
    "for val in nums:\n",
    "    print val, \n",
    "    \n",
    "print \n",
    "for i in nums:\n",
    "    print i,\n",
    "    \n",
    "print\n",
    "for num in nums:\n",
    "    print num,"
   ]
  },
  {
   "cell_type": "code",
   "execution_count": 45,
   "metadata": {
    "collapsed": false
   },
   "outputs": [
    {
     "name": "stdout",
     "output_type": "stream",
     "text": [
      "h\n",
      "e\n",
      "l\n",
      "l\n",
      "o\n",
      " \n",
      "w\n",
      "o\n",
      "r\n",
      "l\n",
      "d\n"
     ]
    }
   ],
   "source": [
    "str = 'hello world'\n",
    "for char in str:\n",
    "    print char\n",
    "    "
   ]
  },
  {
   "cell_type": "code",
   "execution_count": 48,
   "metadata": {
    "collapsed": false
   },
   "outputs": [
    {
     "name": "stdout",
     "output_type": "stream",
     "text": [
      "japan tokyo\n",
      "korea seoul\n",
      "usa Washington D.C\n"
     ]
    }
   ],
   "source": [
    "capitals = {'korea' : 'seoul', 'japan' : 'tokyo', 'usa' : 'Washington D.C'}\n",
    "\n",
    "for country in capitals:\n",
    "    print country, capitals[country]\n",
    "\n",
    "    \n",
    "for key in capitals.keys():\n",
    "    print key\n",
    "    \n",
    "for val in capitals.values():\n",
    "    print val\n",
    "    \n",
    "print '-' * 20\n",
    "    \n",
    "for k, v in capitals.items():\n",
    "    print k, v"
   ]
  },
  {
   "cell_type": "markdown",
   "metadata": {},
   "source": [
    "+ for에서 index 사용하기\n",
    " - for index, value in enumerate([sequence]): 처럼 사용 가능"
   ]
  },
  {
   "cell_type": "code",
   "execution_count": 51,
   "metadata": {
    "collapsed": false
   },
   "outputs": [
    {
     "name": "stdout",
     "output_type": "stream",
     "text": [
      "1 3 2 5 4 6 7 9 8 <enumerate object at 0x1066fc640>\n",
      "value at index 0 is 8\n",
      "value at index 1 is 8\n",
      "value at index 2 is 8\n",
      "value at index 3 is 8\n",
      "value at index 4 is 8\n",
      "value at index 5 is 8\n",
      "value at index 6 is 8\n",
      "value at index 7 is 8\n",
      "value at index 8 is 8\n"
     ]
    }
   ],
   "source": [
    "nums = [1, 3, 2, 5, 4, 6, 7, 9, 8]\n",
    "\n",
    "for val in nums:\n",
    "    print val,\n",
    "\n",
    "    \n",
    "for i, _ in enumerate(nums):\n",
    "    print 'value at index', i\n",
    "    \n",
    "    \n",
    "# csv"
   ]
  },
  {
   "cell_type": "code",
   "execution_count": 25,
   "metadata": {
    "collapsed": true
   },
   "outputs": [
    {
     "name": "stdout",
     "output_type": "stream",
     "text": [
      "value at index 0 is 1\n",
      "value at index 1 is 3\n",
      "value at index 2 is 2\n",
      "value at index 3 is 5\n",
      "value at index 4 is 4\n",
      "value at index 5 is 6\n",
      "value at index 6 is 7\n",
      "value at index 7 is 9\n"
     ]
    }
   ],
   "source": [
    "nums = [1, 3, 2, 5, 4, 6, 7, 9, 8]\n",
    "for i, val in enumerate(nums):\n",
    "    if i > 7: # if i > 8\n",
    "        break\n",
    "    print 'value at index', i, 'is', val\n",
    "else:\n",
    "    print 'all done'"
   ]
  },
  {
   "cell_type": "code",
   "execution_count": 21,
   "metadata": {
    "collapsed": false
   },
   "outputs": [
    {
     "name": "stdout",
     "output_type": "stream",
     "text": [
      "1 2\n",
      "1 3\n",
      "1 4\n",
      "2 2\n",
      "2 3\n",
      "2 4\n",
      "3 2\n",
      "3 3\n",
      "3 4\n",
      "4 2\n",
      "4 3\n",
      "4 4\n"
     ]
    }
   ],
   "source": [
    "a = [1, 2, 3, 4]\n",
    "b = [2, 3, 4] \n",
    "\n",
    "for i in a:\n",
    "    for j in b:\n",
    "        print i, j"
   ]
  },
  {
   "cell_type": "code",
   "execution_count": 54,
   "metadata": {
    "collapsed": false
   },
   "outputs": [
    {
     "name": "stdout",
     "output_type": "stream",
     "text": [
      "[1, 2, 3, 4]\n"
     ]
    },
    {
     "data": {
      "text/plain": [
       "4"
      ]
     },
     "execution_count": 54,
     "metadata": {},
     "output_type": "execute_result"
    }
   ],
   "source": [
    "print a\n",
    "len(a)"
   ]
  },
  {
   "cell_type": "code",
   "execution_count": 61,
   "metadata": {
    "collapsed": false
   },
   "outputs": [
    {
     "name": "stdout",
     "output_type": "stream",
     "text": [
      "[2, 4, 6, 8, 10, 12, 14, 16, 18, 20, 22, 24, 26, 28, 30, 32, 34, 36, 38, 40, 42, 44, 46, 48, 50, 52, 54, 56, 58, 60, 62, 64, 66, 68, 70, 72, 74, 76, 78, 80, 82, 84, 86, 88, 90, 92, 94, 96, 98, 100]\n"
     ]
    }
   ],
   "source": [
    "#a = [1, 2, 3, 4, 5, 6, 7, 8, 9]\n",
    "a = range(11)\n",
    "b = range(2, 101, 2)\n",
    "print b"
   ]
  },
  {
   "cell_type": "code",
   "execution_count": null,
   "metadata": {
    "collapsed": true
   },
   "outputs": [],
   "source": []
  },
  {
   "cell_type": "code",
   "execution_count": null,
   "metadata": {
    "collapsed": true
   },
   "outputs": [],
   "source": []
  },
  {
   "cell_type": "code",
   "execution_count": null,
   "metadata": {
    "collapsed": true
   },
   "outputs": [],
   "source": []
  },
  {
   "cell_type": "code",
   "execution_count": null,
   "metadata": {
    "collapsed": true
   },
   "outputs": [],
   "source": []
  },
  {
   "cell_type": "markdown",
   "metadata": {},
   "source": [
    " + if & for 연습문제\n",
    "   \n",
    "  1. 구구단을 2 - 9단까지 출력하시오.\n",
    "  2. 1 - 100까지 정수 중 2의 배수 또는 11의 배수를 모두 출력하시오. \n",
    "  4. a = [22, 1, 3, 4, 7, 98, 21, 55, 87, 99, 19, 20, 45] 에서 최대값과 최소값을 찾으시오. (sorted, sort 사용 금지)\n",
    "  5. a = [22, 1, 3, 4, 7, 98, 21, 55, 87, 99, 19, 20, 45] 에서 평균을 구하세요.\n",
    "  "
   ]
  },
  {
   "cell_type": "code",
   "execution_count": 77,
   "metadata": {
    "collapsed": false
   },
   "outputs": [
    {
     "name": "stdout",
     "output_type": "stream",
     "text": [
      "22 44 66 88\n"
     ]
    }
   ],
   "source": [
    "nums = range(1, 101)\n",
    "\n",
    "for i in nums:\n",
    "    if i % 2 == 0 or i % 11 == 0:\n",
    "        print i,"
   ]
  },
  {
   "cell_type": "code",
   "execution_count": 80,
   "metadata": {
    "collapsed": false
   },
   "outputs": [
    {
     "name": "stdout",
     "output_type": "stream",
     "text": [
      "1\n"
     ]
    }
   ],
   "source": [
    "a = [22, 1, 3, 4, 7, 98, 21, 55, 87, 99, 19, 20, 45]\n",
    "\n",
    "minimum = a[0]\n",
    "\n",
    "for i in a[1:]:\n",
    "    if minimum > i:\n",
    "        minimum = i\n",
    "        \n",
    "print minimum\n"
   ]
  },
  {
   "cell_type": "code",
   "execution_count": 81,
   "metadata": {
    "collapsed": false
   },
   "outputs": [
    {
     "name": "stdout",
     "output_type": "stream",
     "text": [
      "37.0\n"
     ]
    }
   ],
   "source": [
    "a = [22, 1, 3, 4, 7, 98, 21, 55, 87, 99, 19, 20, 45]\n",
    "# 전체 합 / 개수\n",
    "\n",
    "sum1 = 0\n",
    "for i in a:\n",
    "    sum1 = sum1 + i\n",
    "    \n",
    "print float(sum1) / len(a)\n",
    "    \n",
    "\n",
    "\n"
   ]
  },
  {
   "cell_type": "code",
   "execution_count": 72,
   "metadata": {
    "collapsed": false
   },
   "outputs": [
    {
     "name": "stdout",
     "output_type": "stream",
     "text": [
      "('2*1=2', '2*2=4', '2*3=6', '2*4=8', '2*5=10', '2*6=12', '2*7=14', '2*8=16', '2*9=18')\n",
      "('3*1=3', '3*2=6', '3*3=9', '3*4=12', '3*5=15', '3*6=18', '3*7=21', '3*8=24', '3*9=27')\n",
      "('4*1=4', '4*2=8', '4*3=12', '4*4=16', '4*5=20', '4*6=24', '4*7=28', '4*8=32', '4*9=36')\n",
      "('5*1=5', '5*2=10', '5*3=15', '5*4=20', '5*5=25', '5*6=30', '5*7=35', '5*8=40', '5*9=45')\n",
      "('6*1=6', '6*2=12', '6*3=18', '6*4=24', '6*5=30', '6*6=36', '6*7=42', '6*8=48', '6*9=54')\n",
      "('7*1=7', '7*2=14', '7*3=21', '7*4=28', '7*5=35', '7*6=42', '7*7=49', '7*8=56', '7*9=63')\n",
      "('8*1=8', '8*2=16', '8*3=24', '8*4=32', '8*5=40', '8*6=48', '8*7=56', '8*8=64', '8*9=72')\n",
      "('9*1=9', '9*2=18', '9*3=27', '9*4=36', '9*5=45', '9*6=54', '9*7=63', '9*8=72', '9*9=81')\n"
     ]
    }
   ],
   "source": [
    "for i in range(2, 10):\n",
    "    temp = []\n",
    "    for j in range(1, 10):\n",
    "        str1 = str(i) + '*' + str(j) + '=' + str(i * j)\n",
    "        temp.append(str1)\n",
    "        \n",
    "    print tuple(temp)\n",
    "        \n"
   ]
  },
  {
   "cell_type": "code",
   "execution_count": null,
   "metadata": {
    "collapsed": true
   },
   "outputs": [],
   "source": []
  },
  {
   "cell_type": "code",
   "execution_count": null,
   "metadata": {
    "collapsed": true
   },
   "outputs": [],
   "source": []
  },
  {
   "cell_type": "code",
   "execution_count": null,
   "metadata": {
    "collapsed": true
   },
   "outputs": [],
   "source": []
  },
  {
   "cell_type": "code",
   "execution_count": null,
   "metadata": {
    "collapsed": true
   },
   "outputs": [],
   "source": []
  },
  {
   "cell_type": "code",
   "execution_count": null,
   "metadata": {
    "collapsed": true
   },
   "outputs": [],
   "source": []
  },
  {
   "cell_type": "code",
   "execution_count": null,
   "metadata": {
    "collapsed": true
   },
   "outputs": [],
   "source": []
  },
  {
   "cell_type": "code",
   "execution_count": null,
   "metadata": {
    "collapsed": true
   },
   "outputs": [],
   "source": []
  },
  {
   "cell_type": "code",
   "execution_count": null,
   "metadata": {
    "collapsed": true
   },
   "outputs": [],
   "source": []
  },
  {
   "cell_type": "code",
   "execution_count": 26,
   "metadata": {
    "collapsed": false
   },
   "outputs": [
    {
     "name": "stdout",
     "output_type": "stream",
     "text": [
      "[2, 4, 6, 8, 10, 11, 12, 14, 16, 18, 20, 22, 24, 26, 28, 30, 32, 33, 34, 36, 38, 40, 42, 44, 46, 48, 50, 52, 54, 55, 56, 58, 60, 62, 64, 66, 68, 70, 72, 74, 76, 77, 78, 80, 82, 84, 86, 88, 90, 92, 94, 96, 98, 99, 100]\n"
     ]
    }
   ],
   "source": [
    "result = []\n",
    "\n",
    "for i in range(1, 101):\n",
    "    if i % 2 == 0 or i % 11 == 0:\n",
    "        result.append(i)\n",
    "        \n",
    "print result"
   ]
  },
  {
   "cell_type": "code",
   "execution_count": null,
   "metadata": {
    "collapsed": true
   },
   "outputs": [],
   "source": [
    "a = [22, 1, 3, 4, 7, 98, 21, 55, 87, 99, 19, 20, 45]\n",
    "min = a[0]\n",
    "\n",
    "for i in a:\n",
    "    if min > i:\n",
    "        min = i"
   ]
  },
  {
   "cell_type": "code",
   "execution_count": null,
   "metadata": {
    "collapsed": true
   },
   "outputs": [],
   "source": [
    "a = [22, 1, 3, 4, 7, 98, 21, 55, 87, 99, 19, 20, 45]\n",
    "sum = 0\n",
    "for i in a:\n",
    "    sum += i\n",
    "    \n",
    "print float(sum) / len(a)"
   ]
  },
  {
   "cell_type": "markdown",
   "metadata": {},
   "source": [
    "* range 함수"
   ]
  },
  {
   "cell_type": "code",
   "execution_count": 7,
   "metadata": {
    "collapsed": false
   },
   "outputs": [
    {
     "name": "stdout",
     "output_type": "stream",
     "text": [
      "[0, 1, 2, 3, 4, 5, 6, 7, 8, 9]\n",
      "[1, 2, 3, 4, 5, 6, 7, 8, 9]\n",
      "[1, 3, 5, 7, 9]\n"
     ]
    }
   ],
   "source": [
    "print range(10)\n",
    "print range(1, 10)\n",
    "print range(1, 10, 2)"
   ]
  },
  {
   "cell_type": "markdown",
   "metadata": {},
   "source": [
    "* 연습문제 2)\n",
    "\n",
    " 알고리즘의 설명을 듣고 아래 두 코드를 작성하세요\n",
    " 1. 주어진 정수를 담는 리스트를 정렬하는 코드를 작성하세요. (bubble sort)\n",
    " 2. 주어진 정수를 담는 리스트를 정렬하는 코드를 작성하세요. (selection sort)\n",
    " 3. 다음과 같은 점화식을 만족하는 수열을 피보나치 수열이라고 합니다. f0 = 1, f1 = 1, fn = fn-1 + fn-2 \n",
    "    이때, 15번째까지 피보나치 수열을 출력하시오. "
   ]
  },
  {
   "cell_type": "code",
   "execution_count": 20,
   "metadata": {
    "collapsed": false
   },
   "outputs": [
    {
     "name": "stdout",
     "output_type": "stream",
     "text": [
      "[1, 2, 9, 15, 7, 8, 6, 4, 3, 17, 23]\n",
      "[1, 2, 9, 7, 8, 6, 4, 3, 15, 17, 23]\n",
      "[1, 2, 7, 8, 6, 4, 3, 9, 15, 17, 23]\n",
      "[1, 2, 7, 6, 4, 3, 8, 9, 15, 17, 23]\n",
      "[1, 2, 6, 4, 3, 7, 8, 9, 15, 17, 23]\n",
      "[1, 2, 4, 3, 6, 7, 8, 9, 15, 17, 23]\n",
      "[1, 2, 3, 4, 6, 7, 8, 9, 15, 17, 23]\n",
      "[1, 2, 3, 4, 6, 7, 8, 9, 15, 17, 23]\n",
      "[1, 2, 3, 4, 6, 7, 8, 9, 15, 17, 23]\n",
      "[1, 2, 3, 4, 6, 7, 8, 9, 15, 17, 23]\n",
      "[1, 2, 3, 4, 6, 7, 8, 9, 15, 17, 23]\n",
      "[1, 2, 3, 4, 6, 7, 8, 9, 15, 17, 23]\n"
     ]
    }
   ],
   "source": [
    "# bubble sort\n",
    "arr = [9, 1, 2, 15, 23, 7, 8, 6, 4, 3, 17]\n",
    "count = len(arr)\n",
    "\n",
    "for i in range(count):\n",
    "    for j in range(1, count - i):\n",
    "        if arr[j-1] > arr[j]:\n",
    "            temp = arr[j]\n",
    "            arr[j] = arr[j-1]\n",
    "            arr[j-1] = temp\n",
    "            \n",
    "    print arr\n",
    "            \n",
    "print arr\n"
   ]
  },
  {
   "cell_type": "code",
   "execution_count": 18,
   "metadata": {
    "collapsed": false
   },
   "outputs": [
    {
     "name": "stdout",
     "output_type": "stream",
     "text": [
      "[9, 1, 2, 15, 23, 7, 8, 6, 4, 3, 17]\n",
      "[1, 9, 2, 15, 23, 7, 8, 6, 4, 3, 17]\n",
      "[1, 2, 9, 15, 23, 7, 8, 6, 4, 3, 17]\n",
      "[1, 2, 3, 15, 23, 7, 8, 6, 4, 9, 17]\n",
      "[1, 2, 3, 4, 23, 7, 8, 6, 15, 9, 17]\n",
      "[1, 2, 3, 4, 6, 7, 8, 23, 15, 9, 17]\n",
      "[1, 2, 3, 4, 6, 7, 8, 23, 15, 9, 17]\n",
      "[1, 2, 3, 4, 6, 7, 8, 23, 15, 9, 17]\n",
      "[1, 2, 3, 4, 6, 7, 8, 9, 15, 23, 17]\n",
      "[1, 2, 3, 4, 6, 7, 8, 9, 15, 23, 17]\n",
      "[1, 2, 3, 4, 6, 7, 8, 9, 15, 17, 23]\n",
      "[1, 2, 3, 4, 6, 7, 8, 9, 15, 17, 23]\n",
      "[1, 2, 3, 4, 6, 7, 8, 9, 15, 17, 23]\n"
     ]
    }
   ],
   "source": [
    "# selection sort\n",
    "arr = [9, 1, 2, 15, 23, 7, 8, 6, 4, 3, 17]\n",
    "print arr\n",
    "\n",
    "count = len(arr)\n",
    "\n",
    "for i in range(count):\n",
    "    minimum = arr[i]\n",
    "    minimum_idx = i\n",
    "    \n",
    "    for j in range(i+1, count):\n",
    "        if minimum > arr[j]:\n",
    "            minimum = arr[j]\n",
    "            minimum_idx = j\n",
    "            \n",
    "    temp = arr[i]\n",
    "    arr[i] = arr[minimum_idx]\n",
    "    arr[minimum_idx] = temp\n",
    "    \n",
    "    print arr\n",
    "    \n",
    "\n",
    "print arr"
   ]
  },
  {
   "cell_type": "code",
   "execution_count": 22,
   "metadata": {
    "collapsed": false
   },
   "outputs": [
    {
     "name": "stdout",
     "output_type": "stream",
     "text": [
      "610\n"
     ]
    }
   ],
   "source": [
    "fibo = [1, 1]\n",
    "\n",
    "for i in range(2,15):\n",
    "    fibo.append(fibo[i-1]+fibo[i-2])\n",
    "    \n",
    "print fibo[-1]"
   ]
  },
  {
   "cell_type": "markdown",
   "metadata": {},
   "source": [
    "* zip()으로 두개 이상의 시퀀스 묶기"
   ]
  },
  {
   "cell_type": "code",
   "execution_count": 87,
   "metadata": {
    "collapsed": false
   },
   "outputs": [
    {
     "name": "stdout",
     "output_type": "stream",
     "text": [
      "japan tokyo\n",
      "korea seoul\n",
      "usa Washington D.C\n",
      "1 2 1\n",
      "2 4 4\n",
      "3 6 9\n"
     ]
    }
   ],
   "source": [
    "capitals = {'korea' : 'seoul', 'japan' : 'tokyo', 'usa' : 'Washington D.C'}\n",
    "countries = capitals.keys()\n",
    "cities = capitals.values()\n",
    "\n",
    "#print zip(countries, cities)\n",
    "\n",
    "for country, city in zip(countries, cities):\n",
    "    print country, city\n",
    "    \n",
    "    \n",
    "for k, v in capitals.items():\n",
    "    print k, v\n",
    "    \n",
    "    \n",
    "aa = [1, 2, 3]\n",
    "bb = [2, 4, 6]\n",
    "cc = [1, 4, 9]\n",
    "dd = [1, 4, 9]\n",
    "\n",
    "for a, b, c, d in zip(aa, bb, cc, dd):\n",
    "    print a, b, c, d"
   ]
  },
  {
   "cell_type": "markdown",
   "metadata": {},
   "source": [
    " + range()\n",
    "  - 숫자 시퀀스 생성"
   ]
  },
  {
   "cell_type": "code",
   "execution_count": 28,
   "metadata": {
    "collapsed": false
   },
   "outputs": [
    {
     "name": "stdout",
     "output_type": "stream",
     "text": [
      "<type 'list'> [0, 1, 2]\n",
      "[1, 2, 3, 4, 5, 6, 7, 8]\n",
      "[5, 10, 15, 20, 25, 30, 35, 40, 45, 50, 55, 60, 65, 70, 75, 80, 85, 90, 95, 100]\n",
      "[10, 9, 8, 7, 6, 5, 4, 3, 2, 1, 0]\n"
     ]
    }
   ],
   "source": [
    "\n",
    "\n",
    "a = range(3)\n",
    "print type(a), a\n",
    "\n",
    "b = range(1, 9)\n",
    "print b\n",
    "\n",
    "c = range(5, 105, 5)\n",
    "print c\n",
    "\n",
    "d = range(10, -1, -1)\n",
    "print d"
   ]
  },
  {
   "cell_type": "markdown",
   "metadata": {},
   "source": [
    "* comprehension\n",
    " + 하나 이상의 이터레이터로 부터 파이썬의 자료 구조를 만드는 엘레강스하고 간결한 방법"
   ]
  },
  {
   "cell_type": "code",
   "execution_count": 88,
   "metadata": {
    "collapsed": false
   },
   "outputs": [
    {
     "name": "stdout",
     "output_type": "stream",
     "text": [
      "[2, 4, 6]\n"
     ]
    }
   ],
   "source": [
    "nums = [1, 2, 3, 4, 5, 6]\n",
    "#nums = range(1, 7)\n",
    "\n",
    "even_nums = []\n",
    "for i in nums:\n",
    "    if i % 2 == 0:\n",
    "        even_nums.append(i)\n",
    "        \n",
    "print even_nums"
   ]
  },
  {
   "cell_type": "code",
   "execution_count": 89,
   "metadata": {
    "collapsed": false
   },
   "outputs": [
    {
     "name": "stdout",
     "output_type": "stream",
     "text": [
      "[2, 4, 6]\n",
      "[5, 7, 9]\n"
     ]
    }
   ],
   "source": [
    "nums = [1, 2, 3, 4, 5, 6]\n",
    "\n",
    "even_nums2 = [i for i in nums if i % 2 == 0]\n",
    "even_nums3 = [i + 3 for i in nums if i % 2 == 0]\n",
    "\n",
    "print even_nums2\n",
    "print even_nums3"
   ]
  },
  {
   "cell_type": "code",
   "execution_count": 34,
   "metadata": {
    "collapsed": false
   },
   "outputs": [
    {
     "name": "stdout",
     "output_type": "stream",
     "text": [
      "[1, 2, 3, 4, 5, 6]\n",
      "[1, 4, 9, 16, 25, 36]\n"
     ]
    }
   ],
   "source": [
    "nums2 = [i for i in nums]\n",
    "nums3 = [i**2 for i in nums]\n",
    "\n",
    "print nums2\n",
    "print nums3"
   ]
  },
  {
   "cell_type": "markdown",
   "metadata": {},
   "source": [
    "* [expression for element in sequence]"
   ]
  },
  {
   "cell_type": "code",
   "execution_count": 91,
   "metadata": {
    "collapsed": false
   },
   "outputs": [
    {
     "name": "stdout",
     "output_type": "stream",
     "text": [
      "[1, 2, 3]\n",
      "[1, 4, 9, 8, 10, 12]\n"
     ]
    }
   ],
   "source": [
    "nums4 = [i for i in nums if i < 4]\n",
    "\n",
    "#nums41 = [i for i in nums if i < 4 else 0]\n",
    "\n",
    "nums5 = [i**2 if i < 4 else i*2 for i in nums]\n",
    "\n",
    "print nums4\n",
    "print nums5"
   ]
  },
  {
   "cell_type": "code",
   "execution_count": 93,
   "metadata": {
    "collapsed": true
   },
   "outputs": [],
   "source": [
    "nums = range(11)\n",
    "\n",
    "temp_nums = [i for i in nums if i % 3 == 0]\n",
    "temp_nums = [(i, 1) for i in nums if i == 1]\n"
   ]
  },
  {
   "cell_type": "code",
   "execution_count": 92,
   "metadata": {
    "collapsed": false
   },
   "outputs": [
    {
     "name": "stdout",
     "output_type": "stream",
     "text": [
      "1 1\n",
      "1 2\n",
      "2 1\n",
      "2 2\n",
      "3 1\n",
      "3 2\n",
      "--------------------\n",
      "1 1\n",
      "1 2\n",
      "2 1\n",
      "2 2\n",
      "3 1\n",
      "3 2\n"
     ]
    }
   ],
   "source": [
    "rows = range(1, 4)\n",
    "cols = range(1, 3)\n",
    "\n",
    "for row in rows:\n",
    "    for col in cols:\n",
    "        print row, col\n",
    "        \n",
    "print '-' * 20\n",
    "        \n",
    "cells = [(row, col) for row in rows for col in cols]\n",
    "for row, col in cells:\n",
    "    print row, col"
   ]
  },
  {
   "cell_type": "markdown",
   "metadata": {},
   "source": [
    "* dictionary comprehension\n",
    " "
   ]
  },
  {
   "cell_type": "code",
   "execution_count": 95,
   "metadata": {
    "collapsed": false
   },
   "outputs": [
    {
     "name": "stdout",
     "output_type": "stream",
     "text": [
      "{'do': 2, 'chicago': 7, 'elephant': 8, 'apple': 5, 'banana': 6}\n",
      "{'do': 2, 'chicago': 7, 'elephant': 8, 'apple': 5, 'banana': 6}\n"
     ]
    }
   ],
   "source": [
    "words = ['apple', 'banana', 'chicago', 'do', 'elephant']\n",
    "\n",
    "dict1 = {}\n",
    "for w in words:\n",
    "    dict1[w] = len(w)\n",
    "    \n",
    "print dict1\n",
    "\n",
    "\n",
    "#언어적 장치\n",
    "\n",
    "words = ['apple', 'banana', 'chicago', 'do', 'elephant']\n",
    "words_dict = {w : len(w) for w in words}\n",
    "\n",
    "print words_dict"
   ]
  },
  {
   "cell_type": "markdown",
   "metadata": {},
   "source": [
    "* comprehension 연습문제\n",
    " 1. Celsius = [39.2, 36.5, 37.3, 37.8] F = (9/5) * C + 32 일 때, 리스트의 각 값을 화씨로 바꾼 리스트를 만드시오.\n",
    " 2. 주어진 문자열에서 띄어쓰기의 개수는? 'Today is very nice and I want to go out for dinner'\n",
    " 3. 주어진 문자열에서 모음을 모두 제거하시오. 'Today is very nice and I want to go out for dinner'"
   ]
  },
  {
   "cell_type": "code",
   "execution_count": 98,
   "metadata": {
    "collapsed": false
   },
   "outputs": [
    {
     "name": "stdout",
     "output_type": "stream",
     "text": [
      "[102.56, 97.7, 99.14, 100.03999999999999]\n"
     ]
    }
   ],
   "source": [
    "Celsius = [39.2, 36.5, 37.3, 37.8]\n",
    "F = [1.8 * c + 32  for c in Celsius]\n",
    "print F"
   ]
  },
  {
   "cell_type": "code",
   "execution_count": 103,
   "metadata": {
    "collapsed": false
   },
   "outputs": [
    {
     "name": "stdout",
     "output_type": "stream",
     "text": [
      "11\n"
     ]
    }
   ],
   "source": [
    "str1 = 'Today is very nice and I want to go out for dinner'\n",
    "\n",
    "temp = [ch for ch in str1 if ch == ' ']\n",
    "print len(temp)"
   ]
  },
  {
   "cell_type": "code",
   "execution_count": 106,
   "metadata": {
    "collapsed": false
   },
   "outputs": [
    {
     "name": "stdout",
     "output_type": "stream",
     "text": [
      "Tdy s vry nc nd I wnt t g t fr dnnr\n"
     ]
    }
   ],
   "source": [
    "str1 = 'Today is very nice and I want to go out for dinner'\n",
    "\n",
    "vowels = 'aeiou'\n",
    "temp = [ch for ch in str1 if not ch in vowels]\n",
    "print ''.join(temp)"
   ]
  },
  {
   "cell_type": "code",
   "execution_count": null,
   "metadata": {
    "collapsed": true
   },
   "outputs": [],
   "source": [
    "'22' in ['1', '22', '3', '4df']"
   ]
  },
  {
   "cell_type": "code",
   "execution_count": 107,
   "metadata": {
    "collapsed": false
   },
   "outputs": [
    {
     "data": {
      "text/plain": [
       "True"
      ]
     },
     "execution_count": 107,
     "metadata": {},
     "output_type": "execute_result"
    }
   ],
   "source": [
    "'ad' in 'adfdfda'"
   ]
  },
  {
   "cell_type": "code",
   "execution_count": null,
   "metadata": {
    "collapsed": true
   },
   "outputs": [],
   "source": []
  },
  {
   "cell_type": "code",
   "execution_count": null,
   "metadata": {
    "collapsed": true
   },
   "outputs": [],
   "source": []
  },
  {
   "cell_type": "code",
   "execution_count": 25,
   "metadata": {
    "collapsed": false
   },
   "outputs": [
    {
     "name": "stdout",
     "output_type": "stream",
     "text": [
      "11\n"
     ]
    }
   ],
   "source": [
    "str1 = 'Today is very nice and I want to go out for dinner'\n",
    "print len([word for word in str1 if word == ' '])"
   ]
  },
  {
   "cell_type": "code",
   "execution_count": 28,
   "metadata": {
    "collapsed": false
   },
   "outputs": [
    {
     "name": "stdout",
     "output_type": "stream",
     "text": [
      "Tdy s vry nc nd I wnt t g t fr dnnr\n"
     ]
    }
   ],
   "source": [
    "vowels = 'aeiou'\n",
    "str1 = 'Today is very nice and I want to go out for dinner'\n",
    "\n",
    "print ''.join([word for word in str1 if word not in vowels])"
   ]
  },
  {
   "cell_type": "markdown",
   "metadata": {},
   "source": [
    "* assignment\n",
    " 1. 1 - 1000까지 정수 중 소수만 출력하시오.\n",
    " 2. 1 - 9000까지 정수 중 palindrome의 개수는? palindrome은 11, 121, 1331, 999 등 앞으로 읽으나 뒤로 읽으나 같은 수를 의미 합니다.\n"
   ]
  },
  {
   "cell_type": "code",
   "execution_count": null,
   "metadata": {
    "collapsed": true
   },
   "outputs": [],
   "source": []
  },
  {
   "cell_type": "code",
   "execution_count": 114,
   "metadata": {
    "collapsed": false
   },
   "outputs": [
    {
     "name": "stdout",
     "output_type": "stream",
     "text": [
      "h ['h', 'e', 'o', 'l', 'l', 'o']\n",
      "e ['h', 'o', 'l', 'l', 'o']\n",
      "l ['h', 'o', 'l', 'l', 'o']\n",
      "l ['h', 'o', 'l', 'l', 'o']\n",
      "o ['h', 'l', 'l', 'o']\n",
      "hllo\n"
     ]
    }
   ],
   "source": [
    "def anti_vowel(text):\n",
    "    a = list(text)\n",
    "    v= list(\"aeiouAEIOU\")\n",
    "\n",
    "    for i in a:\n",
    "        if i in v:\n",
    "            a.remove(i)\n",
    "        print i, a\n",
    "        \n",
    "    return ''.join(a)\n",
    "\n",
    "print anti_vowel('heollo')"
   ]
  },
  {
   "cell_type": "code",
   "execution_count": null,
   "metadata": {
    "collapsed": true
   },
   "outputs": [],
   "source": []
  }
 ],
 "metadata": {
  "kernelspec": {
   "display_name": "Python 2",
   "language": "python",
   "name": "python2"
  },
  "language_info": {
   "codemirror_mode": {
    "name": "ipython",
    "version": 2
   },
   "file_extension": ".py",
   "mimetype": "text/x-python",
   "name": "python",
   "nbconvert_exporter": "python",
   "pygments_lexer": "ipython2",
   "version": "2.7.13"
  }
 },
 "nbformat": 4,
 "nbformat_minor": 1
}
