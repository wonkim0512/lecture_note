{
 "cells": [
  {
   "cell_type": "markdown",
   "metadata": {},
   "source": [
    "비밀번호 등 관리하는 법\n",
    "config.py 생성 후\n",
    "\n",
    "DB_host = '127.0.0.1'\n",
    "DB_port = 3307\n",
    "DB_user = 'root'\n",
    "DB_pwd = 'test1234'\n",
    "DB_db = 'test'\n",
    "\n",
    ":wq\n",
    "\n",
    "\n",
    "이렇게 만든다음\n",
    "\n",
    "newsdao에서 import 하도록\n",
    "\n",
    "import config as cfg\n",
    "\n",
    "\n",
    "connection_string = \"asdaasdasd://{}:{}\".format(cfg.DB_user,..)\n",
    "\n",
    "이런식으로 불러옴\n",
    "\n",
    "\n",
    "vi .gitignore\n",
    "config.py \n",
    "\n",
    "이렇게 config.py는 서버에 올라가지 않고 로컬에만 존재하도록\n"
   ]
  },
  {
   "cell_type": "markdown",
   "metadata": {},
   "source": [
    "# MongoDB"
   ]
  },
  {
   "cell_type": "markdown",
   "metadata": {},
   "source": [
    "- 스키마 필요없음\n",
    "- document 자체를 저장할 수 있고, 다른 document를 임베딩한 것도 넣을 수 있다.\n",
    "- RDB와 달리 join, transaction 등 지원하지 않음. 최근에는 지원하기도"
   ]
  },
  {
   "cell_type": "markdown",
   "metadata": {},
   "source": [
    "## 학습목표\n",
    "\n",
    " 1. mongodb 설치\n",
    " 2. mongodb CRUD\n",
    " 3. mongoimport / mongoexport 사용\n",
    " 3. mongodb aggregation 이해 및 숙지\n",
    " 4. pymongo 모듈을 통한 실습"
   ]
  },
  {
   "cell_type": "raw",
   "metadata": {},
   "source": []
  },
  {
   "cell_type": "markdown",
   "metadata": {},
   "source": [
    "### mongodb 설치\n",
    " * https://docs.mongodb.com/manual/installation/\n",
    " * community edition 설치\n",
    " \n",
    " * terminal에서 아래의 명령어 차례대로 수행\n",
    "   * sudo apt-key adv --keyserver hkp://keyserver.ubuntu.com:80 --recv 0C49F3730359A14518585931BC711F9BA15703C6\n",
    "   * lsb_release -a  (ubuntu 버젼 확인)\n",
    "   * ubuntu 12.04의 경우\n",
    "     * echo \"deb [ arch=amd64 ] http://repo.mongodb.org/apt/ubuntu precise/mongodb-org/3.4 multiverse\" | sudo tee /etc/apt/sources.list.d/mongodb-org-3.4.list\n",
    "   * ubuntu 14.04의 경우\n",
    "     * echo \"deb [ arch=amd64 ] http://repo.mongodb.org/apt/ubuntu trusty/mongodb-org/3.4 multiverse\" | sudo tee /etc/apt/sources.list.d/mongodb-org-3.4.list\n",
    "   * ubuntu 16.04의 경우\n",
    "     * echo \"deb [ arch=amd64,arm64 ] http://repo.mongodb.org/apt/ubuntu xenial/mongodb-org/3.4 multiverse\" | sudo tee /etc/apt/sources.list.d/mongodb-org-3.4.list\n",
    "   * sudo apt-get update\n",
    "   * sudo apt-get install -y mongodb-org\n",
    "   \n",
    "   * sudo vi /etc/mongod.conf\n",
    "     * bindIp: 127.0.0.1 -> 0.0.0.0으로 변경 (로컬에서 서버로)\n",
    "    \n",
    "   * sudo service mongod start or restart\n",
    "   * sudo service mongod status 로 확인하였을 때 active면 잘된 것.\n",
    "   * ctrl+c로 나가서 mongo입력하여 mongo에 접속\n",
    "   "
   ]
  },
  {
   "cell_type": "markdown",
   "metadata": {},
   "source": [
    "## mongodb 삭제\n",
    " * sudo apt-get purge mongodb-org*"
   ]
  },
  {
   "cell_type": "raw",
   "metadata": {},
   "source": []
  },
  {
   "cell_type": "markdown",
   "metadata": {},
   "source": [
    "* 설치 확인\n",
    " - 터미널에서 mongo 입력\n",
    " - mongo shell이 뜨는지 확인"
   ]
  },
  {
   "cell_type": "markdown",
   "metadata": {},
   "source": []
  },
  {
   "cell_type": "markdown",
   "metadata": {},
   "source": [
    "* local에서 접속 확인\n",
    "  * local에서 mongo 설치 (client)\n",
    "    * Mac OSX \n",
    "      - brew install mongo\n",
    "    * Windows \n",
    "      - https://www.mongodb.com/download-center?jmp=nav#community\n",
    "      - msi installer download\n",
    "      - path에 설치된 경로 추가 후 \n",
    "      \n",
    "  * mongo --host AWS_HOST --port 27017"
   ]
  },
  {
   "cell_type": "markdown",
   "metadata": {},
   "source": []
  },
  {
   "cell_type": "markdown",
   "metadata": {},
   "source": [
    "### Why mongodb?\n",
    " * rdb의 경우, 테이블 구조에 프로그램 객체를 맞추는 문제로 인해 개발 생산성이 떨어짐\n",
    "   - ORM 기술이 있긴 하지만, 개발자 입장에서 여전히 부자연 스러움\n",
    " * scheme 미리 정해져 있지 않기 때문에, 개발 생산성이 좋음\n",
    " * join, transaction을 지원하지 않기 때문에, 속도가 빠름\n"
   ]
  },
  {
   "cell_type": "raw",
   "metadata": {},
   "source": []
  },
  {
   "cell_type": "markdown",
   "metadata": {},
   "source": [
    "### mongodb의 데이터 구성\n",
    " - db, collection으로 구성\n",
    " - 데이터는 collection의 document 형식(python dictionary)으로 저장 됨\n",
    " - collection들의 논리적인 집합이 database\n",
    " \n",
    "### database 선택\n",
    " - show dbs - 전체 데이터베이스 열람\n",
    " - use [DB 이름] - 데이터베이스 선택\n",
    "   * e.g) use test - test 데이터베이스 선택\n",
    "   \n",
    " \n",
    " - show collections - 선택된 데이터베이스의 콜렉션 열람\n",
    " - db.[Collection 이름].함수() 로 해당 컬렉션의 데이터 열람 및 조작\n",
    "   * db를 고른 이후에는 db라는 이름으로 쓴다.\n",
    "   * e.g) db.actors.find() - actors 컬렉션에서 검색\n",
    "          db.actors.insertOne() - actors 컬렉션에서 삽입"
   ]
  },
  {
   "cell_type": "markdown",
   "metadata": {},
   "source": [
    "RDB는 테이블 구조에 내 데이터를 맞춰야하는데 \n",
    "몽고는 스키마 없이 그냥 내가 원하는 대로, 넣을 수 있음."
   ]
  },
  {
   "cell_type": "markdown",
   "metadata": {},
   "source": [
    "* Mongodb CRUD (deprecated)\n",
    "   - insert\n",
    "     * db.person.insert({ \"name\" : \"aaron\", \"age\" : 31, \"regdate\" : new Date() })\n",
    "     \n",
    "   - update\n",
    "     *  db.person.update({ name : \"aaron\" }, { $set : { gender : \"M\" }})\n",
    "     \n",
    "   - find / findOne\n",
    "   \n",
    "     * db.person.find()\n",
    "     * db.person.findOne()\n",
    "     * db.person.find({ name : \"aaron\" })\n",
    "     * db.person.find({ name : \"aaron\", or : [{ age : 30 }, { age : 21 }] })\n",
    "     * db.person.find({ name : \"aaron\", nor : [{ age : 20 }, { age : 21 }] })\n",
    "     * db.person.find({ age : { in : [20, 21] }})\n",
    "     * db.person.find({ age : { nin : [20, 21] }})\n",
    "     * db.person.findOne({name : 'Aaron'}, {name : 1, regdate : 1})\n",
    "     * db.person.find({ name : null })\n",
    "     * db.person.find().sort({ name : 1 }) # DESC\n",
    "     * db.person.find().sort({ name : -1 }) # ASC\n",
    "     * db.person.find().limit(2)\n",
    "     * db.person.find().limit(2).skip(2) # 2건너 뛰고 2개 가져옴\n",
    "     * db.person.find({ name : { $exists : false } }) # 특정 필드가 없는 문제 가져옴\n",
    "   - count\n",
    "     * db.person.count()\n",
    "     * db.person.find({ name : \"aaron\" }).count()\n",
    "   - remove\n",
    "     * db.person.remove({ name : \"aaron\" })\n",
    "   - drop - collection 삭제\n",
    "     * db.person.drop()"
   ]
  },
  {
   "cell_type": "raw",
   "metadata": {},
   "source": []
  },
  {
   "cell_type": "markdown",
   "metadata": {},
   "source": [
    "* mongodb CRUD \n",
    "  - insertOne, insertMany\n",
    "    - insertOne - 한개의 document 생성\n",
    "    - insertMany - list of document 생성\n",
    "  - findOne, find\n",
    "    - findOne - 매칭되는 한개의 document 검색\n",
    "    - find    - 매칭되는 list of document 검색 \n",
    "  - updateOne, updateMany\n",
    "    - updateOne - 매칭되는 한개의 document 업데이트\n",
    "    - updateMany - 매칭되는 list of document 업데이트\n",
    "  - removeOne, removeMany\n",
    "    - removeOne - 매칭되는 한개의 document 삭제\n",
    "    - removeMany - 매칭되는 list of document 삭제\n",
    "  "
   ]
  },
  {
   "cell_type": "raw",
   "metadata": {},
   "source": []
  },
  {
   "cell_type": "markdown",
   "metadata": {},
   "source": [
    "### mongo shell\n",
    " - 로컬에서 서버가 돌아갈 경우,\n",
    "   - mongo\n",
    " - 원격 서버에 접속할 경우 \n",
    "   - mongo --host 'host_address' --port 'port'\n",
    "   - e.g) mongo --host 1111.111.11.111 --port 27017\n"
   ]
  },
  {
   "cell_type": "raw",
   "metadata": {},
   "source": []
  },
  {
   "cell_type": "markdown",
   "metadata": {},
   "source": [
    "### pymongo\n",
    " - mongodb python module\n",
    " - https://api.mongodb.com/python/current/\n",
    " - pip install pymongo"
   ]
  },
  {
   "cell_type": "markdown",
   "metadata": {},
   "source": []
  },
  {
   "cell_type": "code",
   "execution_count": 1,
   "metadata": {
    "collapsed": true
   },
   "outputs": [],
   "source": [
    "mongo_server = '35.167.74.63' #내 IP\n",
    "import pymongo"
   ]
  },
  {
   "cell_type": "markdown",
   "metadata": {},
   "source": [
    "이제 DB에 추가하는 실습을 해보자.\n",
    "- MySQL은 존재하는 테이블에만 넣을 수 있다면 mongodb는 동적으로 생성하여 넣을 수 있다."
   ]
  },
  {
   "cell_type": "markdown",
   "metadata": {},
   "source": [
    "### insertion 예제"
   ]
  },
  {
   "cell_type": "markdown",
   "metadata": {},
   "source": [
    "* insert one"
   ]
  },
  {
   "cell_type": "code",
   "execution_count": 3,
   "metadata": {
    "collapsed": false
   },
   "outputs": [
    {
     "name": "stdout",
     "output_type": "stream",
     "text": [
      "유해진 송강호 이동휘 공유 조정석 한지민 현빈 이병헌 이준 정우성 엄지원 강동원 김주혁 조윤희 신성록 장영남 도경수 임지연 김우빈 김남길 김대명 이해영 조인성 오달수 정진영 엄태구 문정희 김아중\n"
     ]
    }
   ],
   "source": [
    "# insert_one으로 하나씩 삽입\n",
    "import requests\n",
    "import re\n",
    "import datetime\n",
    "from bs4 import BeautifulSoup\n",
    "from pymongo import MongoClient\n",
    "\n",
    "\n",
    "def get_hot_actors():\n",
    "    cine_url = 'http://www.cine21.com/rank/person/content'\n",
    "    \n",
    "    # mongo driver 생성\n",
    "    mongo = MongoClient(mongo_server, 27017)\n",
    "    \n",
    "    # cine21 database -> actor collection 를 지정\n",
    "    db = mongo.cine22\n",
    "    actor = db.actor\n",
    "    #actor = mongo.cine21.actor\n",
    "    \n",
    "    data1 = {}\n",
    "    data1['section'] = 'actor'\n",
    "    data1['period_start'] = '2016-09'\n",
    "    data1['gender'] = 'all'\n",
    "    \n",
    "    actors = []\n",
    "    for i in xrange(1, 5):\n",
    "        data1['page'] = i\n",
    "\n",
    "        res = requests.post(cine_url, data = data1)\n",
    "        \n",
    "        soup = BeautifulSoup(res.text)\n",
    "        # 이렇게 바로 utf-8으로 설정 할 수 도 있음\n",
    "        #soup = BeautifulSoup(res.content, from_encoding='utf-8')\n",
    "\n",
    "        names = soup.find_all('div', attrs = {'class' : 'name'})\n",
    "        for name in names:\n",
    "            actor_name = name.get_text()\n",
    "            actor_name = re.sub('\\(.+\\)', '', actor_name)\n",
    "            name = actor_name.encode('utf-8')\n",
    "            print name,\n",
    "            actor.insert_one({\"actor_name\" : name, \n",
    "                              'datetime' : datetime.datetime.now()}) # mongodb에서는 dict가 아니라 document라고 부른다.\n",
    "            \n",
    "get_hot_actors()"
   ]
  },
  {
   "cell_type": "markdown",
   "metadata": {},
   "source": [
    "* insert many"
   ]
  },
  {
   "cell_type": "code",
   "execution_count": 8,
   "metadata": {
    "collapsed": false
   },
   "outputs": [
    {
     "name": "stdout",
     "output_type": "stream",
     "text": [
      " 유해진 송강호 이동휘 공유 조정석 한지민 현빈 이병헌 이준 정우성 엄지원 강동원 김주혁 조윤희 신성록 장영남 도경수 임지연 김우빈 김남길 김대명 이해영 조인성 오달수 정진영 엄태구 문정희 김아중\n"
     ]
    }
   ],
   "source": [
    "# insert_many로 한꺼번에 삽입\n",
    "import requests\n",
    "import re\n",
    "from bs4 import BeautifulSoup\n",
    "from pymongo import MongoClient\n",
    "\n",
    "\n",
    "def get_hot_actors():\n",
    "    cine_url = 'http://www.cine21.com/rank/person/content'\n",
    "    \n",
    "    # mongo driver 생성\n",
    "    mongo = MongoClient(mongo_server, 27017)\n",
    "    \n",
    "    # cine21 database -> actor collection\n",
    "    #actor = mongo.cine21.actor\n",
    "    db = mongo.cine22\n",
    "    actor = db.actor2\n",
    "    \n",
    "    \n",
    "    data1 = {}\n",
    "    data1['section'] = 'actor'\n",
    "    data1['period_start'] = '2016-09'\n",
    "    data1['gender'] = 'all'\n",
    "    \n",
    "    actors = []\n",
    "    for i in xrange(1, 5):\n",
    "        data1['page'] = i\n",
    "\n",
    "        res = requests.post(cine_url, data = data1)\n",
    "        \n",
    "        soup = BeautifulSoup(res.text)\n",
    "        # 이렇게 바로 utf-8으로 설정 할 수 도 있음\n",
    "        #soup = BeautifulSoup(res.content, from_encoding='utf-8')\n",
    "\n",
    "        names = soup.find_all('div', attrs = {'class' : 'name'})\n",
    "        for name in names:\n",
    "            actor_name = name.get_text()\n",
    "            actor_name = re.sub('\\(.+\\)', '', actor_name)\n",
    "            name = actor_name.encode('utf-8')\n",
    "            print name,\n",
    "            actors.append({'name' : name})\n",
    "            \n",
    "    # insert_many를 이용하여 list를 한꺼번에 삽입\n",
    "    actor.insert_many(actors)\n",
    "            \n",
    "get_hot_actors()"
   ]
  },
  {
   "cell_type": "raw",
   "metadata": {},
   "source": []
  },
  {
   "cell_type": "markdown",
   "metadata": {},
   "source": [
    "* list, dict insertion\n",
    " - list와 dictionary로 삽입 가능\n",
    " - 빠른 개발 생산성과 직결됨"
   ]
  },
  {
   "cell_type": "code",
   "execution_count": 10,
   "metadata": {
    "collapsed": false
   },
   "outputs": [
    {
     "data": {
      "text/plain": [
       "<pymongo.results.InsertOneResult at 0x3bf47d8>"
      ]
     },
     "execution_count": 10,
     "metadata": {},
     "output_type": "execute_result"
    }
   ],
   "source": [
    "mongo = MongoClient(mongo_server, 27017)\n",
    "movie = mongo.test.movie\n",
    "\n",
    "# 리스트, 객체 삽입 가능\n",
    "movie.insert_one({'title' : '암살', 'castings' : ['이정재', '전지현', '하정우']})\n",
    "movie.insert_one({'title' : '실미도', 'castings' : ['설경구', '안성기'], \n",
    "                              'datetime' : {'year' : '2003', 'month' : 3}}) #document embeding을 무한정 할 수 있다.\n",
    "#shell에서 확인: use movie -> db.movie.find()"
   ]
  },
  {
   "cell_type": "code",
   "execution_count": 46,
   "metadata": {
    "collapsed": false
   },
   "outputs": [
    {
     "data": {
      "text/plain": [
       "<pymongo.results.InsertManyResult at 0x104032280>"
      ]
     },
     "execution_count": 46,
     "metadata": {},
     "output_type": "execute_result"
    }
   ],
   "source": [
    "data = []\n",
    "data.append({'name' : 'aaron', 'age' : 20})\n",
    "data.append({'name' : 'bob', 'age' : 30})\n",
    "data.append({'name' : 'cathy', 'age' : 25})\n",
    "data.append({'name' : 'david', 'age' : 27})\n",
    "data.append({'name' : 'erick', 'age' : 28})\n",
    "data.append({'name' : 'fox', 'age' : 32})\n",
    "data.append({'name' : 'hmm'})\n",
    "\n",
    "tmp = mongo.test.temp\n",
    "tmp.insert_many(data)"
   ]
  },
  {
   "cell_type": "code",
   "execution_count": 11,
   "metadata": {
    "collapsed": false
   },
   "outputs": [
    {
     "data": {
      "text/plain": [
       "<pymongo.results.InsertManyResult at 0x3657be8>"
      ]
     },
     "execution_count": 11,
     "metadata": {},
     "output_type": "execute_result"
    }
   ],
   "source": [
    "data = []\n",
    "data.append({'name' : 'aaron', 'age' : 20})\n",
    "data.append({'name' : 'bob', 'age' : 30})\n",
    "data.append({'name' : 'cathy', 'age' : 25})\n",
    "data.append({'name' : 'david', 'age' : 27})\n",
    "data.append({'name' : 'erick', 'age' : 28})\n",
    "data.append({'name' : 'fox', 'age' : 32})\n",
    "data.append({'name' : 'hmm'})\n",
    "\n",
    "tmp = mongo.test.temp2\n",
    "tmp.insert_many(data)"
   ]
  },
  {
   "cell_type": "markdown",
   "metadata": {},
   "source": [
    "### Find 예제"
   ]
  },
  {
   "cell_type": "markdown",
   "metadata": {},
   "source": [
    "* find_one, find"
   ]
  },
  {
   "cell_type": "code",
   "execution_count": 24,
   "metadata": {
    "collapsed": false
   },
   "outputs": [
    {
     "name": "stdout",
     "output_type": "stream",
     "text": [
      "None\n",
      "None\n",
      "{u'actor_name': u'\\uc1a1\\uac15\\ud638', u'_id': ObjectId('58c203d66c42db2b20dc9985'), u'datetime': datetime.datetime(2017, 3, 10, 10, 39, 34, 411000)}\n",
      "{u'actor_name': u'\\uc1a1\\uac15\\ud638', u'_id': ObjectId('58c203d66c42db2b20dc9985'), u'datetime': datetime.datetime(2017, 3, 10, 10, 39, 34, 411000)}\n",
      "송강호\n",
      "\n",
      "유해진\n",
      "송강호\n",
      "이동휘\n",
      "공유\n",
      "조정석\n",
      "한지민\n",
      "현빈\n",
      "이병헌\n",
      "이준\n",
      "정우성\n",
      "엄지원\n",
      "강동원\n",
      "김주혁\n",
      "조윤희\n",
      "신성록\n",
      "장영남\n",
      "도경수\n",
      "임지연\n",
      "김우빈\n",
      "김남길\n",
      "김대명\n",
      "이해영\n",
      "조인성\n",
      "오달수\n",
      "정진영\n",
      "엄태구\n",
      "문정희\n",
      "김아중\n"
     ]
    }
   ],
   "source": [
    "# findOne으로 찾기\n",
    "mongo = MongoClient(mongo_server, 27017)\n",
    "actor = mongo.cine21.actor\n",
    "\n",
    "result = actor.find_one({'actor_name' : '변영효'})\n",
    "print result\n",
    "\n",
    "result = actor.find_one({'actor_name' : '김원'})\n",
    "print result\n",
    "\n",
    "result = actor.find_one({'actor_name' : '송강호'})\n",
    "print result # 있는 경우 document를 반환함\n",
    "\n",
    "# find 의 경우 cursor 반환\n",
    "result = actor.find({'actor_name' : '송강호'})\n",
    "for record in result:\n",
    "    print record\n",
    "    print record['actor_name']\n",
    "    \n",
    "print\n",
    "result = actor.find()\n",
    "for record in result:\n",
    "    print record['actor_name']"
   ]
  },
  {
   "cell_type": "markdown",
   "metadata": {},
   "source": [
    "* sort\n",
    " - mysql의 order by에 해당\n",
    " - find로 데이터 열람 시, 정렬 조건 명시 가능"
   ]
  },
  {
   "cell_type": "code",
   "execution_count": 25,
   "metadata": {
    "collapsed": false
   },
   "outputs": [
    {
     "name": "stdout",
     "output_type": "stream",
     "text": [
      "{u'actor_name': u'\\uac15\\ub3d9\\uc6d0', u'_id': ObjectId('58c203d76c42db2b20dc998f'), u'datetime': datetime.datetime(2017, 3, 10, 10, 39, 35, 908000)}\n",
      "{u'actor_name': u'\\uacf5\\uc720', u'_id': ObjectId('58c203d66c42db2b20dc9987'), u'datetime': datetime.datetime(2017, 3, 10, 10, 39, 34, 665000)}\n",
      "{u'actor_name': u'\\uae40\\ub0a8\\uae38', u'_id': ObjectId('58c203d96c42db2b20dc9997'), u'datetime': datetime.datetime(2017, 3, 10, 10, 39, 37, 130000)}\n",
      "{u'actor_name': u'\\uae40\\ub300\\uba85', u'_id': ObjectId('58c203d96c42db2b20dc9998'), u'datetime': datetime.datetime(2017, 3, 10, 10, 39, 37, 257000)}\n",
      "{u'actor_name': u'\\uae40\\uc544\\uc911', u'_id': ObjectId('58c203da6c42db2b20dc999f'), u'datetime': datetime.datetime(2017, 3, 10, 10, 39, 38, 377000)}\n",
      "{u'actor_name': u'\\uae40\\uc6b0\\ube48', u'_id': ObjectId('58c203d96c42db2b20dc9996'), u'datetime': datetime.datetime(2017, 3, 10, 10, 39, 37, 1000)}\n",
      "{u'actor_name': u'\\uae40\\uc8fc\\ud601', u'_id': ObjectId('58c203d86c42db2b20dc9990'), u'datetime': datetime.datetime(2017, 3, 10, 10, 39, 36, 34000)}\n",
      "{u'actor_name': u'\\ub3c4\\uacbd\\uc218', u'_id': ObjectId('58c203d86c42db2b20dc9994'), u'datetime': datetime.datetime(2017, 3, 10, 10, 39, 36, 734000)}\n",
      "{u'actor_name': u'\\ubb38\\uc815\\ud76c', u'_id': ObjectId('58c203da6c42db2b20dc999e'), u'datetime': datetime.datetime(2017, 3, 10, 10, 39, 38, 249000)}\n",
      "{u'actor_name': u'\\uc1a1\\uac15\\ud638', u'_id': ObjectId('58c203d66c42db2b20dc9985'), u'datetime': datetime.datetime(2017, 3, 10, 10, 39, 34, 411000)}\n",
      "{u'actor_name': u'\\uc2e0\\uc131\\ub85d', u'_id': ObjectId('58c203d86c42db2b20dc9992'), u'datetime': datetime.datetime(2017, 3, 10, 10, 39, 36, 479000)}\n",
      "{u'actor_name': u'\\uc5c4\\uc9c0\\uc6d0', u'_id': ObjectId('58c203d76c42db2b20dc998e'), u'datetime': datetime.datetime(2017, 3, 10, 10, 39, 35, 781000)}\n",
      "{u'actor_name': u'\\uc5c4\\ud0dc\\uad6c', u'_id': ObjectId('58c203da6c42db2b20dc999d'), u'datetime': datetime.datetime(2017, 3, 10, 10, 39, 38, 122000)}\n",
      "{u'actor_name': u'\\uc624\\ub2ec\\uc218', u'_id': ObjectId('58c203d96c42db2b20dc999b'), u'datetime': datetime.datetime(2017, 3, 10, 10, 39, 37, 860000)}\n",
      "{u'actor_name': u'\\uc720\\ud574\\uc9c4', u'_id': ObjectId('58c203d56c42db2b20dc9984'), u'datetime': datetime.datetime(2017, 3, 10, 10, 39, 33, 989000)}\n",
      "{u'actor_name': u'\\uc774\\ub3d9\\ud718', u'_id': ObjectId('58c203d66c42db2b20dc9986'), u'datetime': datetime.datetime(2017, 3, 10, 10, 39, 34, 539000)}\n",
      "{u'actor_name': u'\\uc774\\ubcd1\\ud5cc', u'_id': ObjectId('58c203d76c42db2b20dc998b'), u'datetime': datetime.datetime(2017, 3, 10, 10, 39, 35, 400000)}\n",
      "{u'actor_name': u'\\uc774\\uc900', u'_id': ObjectId('58c203d76c42db2b20dc998c'), u'datetime': datetime.datetime(2017, 3, 10, 10, 39, 35, 527000)}\n",
      "{u'actor_name': u'\\uc774\\ud574\\uc601', u'_id': ObjectId('58c203d96c42db2b20dc9999'), u'datetime': datetime.datetime(2017, 3, 10, 10, 39, 37, 605000)}\n",
      "{u'actor_name': u'\\uc784\\uc9c0\\uc5f0', u'_id': ObjectId('58c203d86c42db2b20dc9995'), u'datetime': datetime.datetime(2017, 3, 10, 10, 39, 36, 862000)}\n",
      "{u'actor_name': u'\\uc7a5\\uc601\\ub0a8', u'_id': ObjectId('58c203d86c42db2b20dc9993'), u'datetime': datetime.datetime(2017, 3, 10, 10, 39, 36, 607000)}\n",
      "{u'actor_name': u'\\uc815\\uc6b0\\uc131', u'_id': ObjectId('58c203d76c42db2b20dc998d'), u'datetime': datetime.datetime(2017, 3, 10, 10, 39, 35, 653000)}\n",
      "{u'actor_name': u'\\uc815\\uc9c4\\uc601', u'_id': ObjectId('58c203d96c42db2b20dc999c'), u'datetime': datetime.datetime(2017, 3, 10, 10, 39, 37, 988000)}\n",
      "{u'actor_name': u'\\uc870\\uc724\\ud76c', u'_id': ObjectId('58c203d86c42db2b20dc9991'), u'datetime': datetime.datetime(2017, 3, 10, 10, 39, 36, 160000)}\n",
      "{u'actor_name': u'\\uc870\\uc778\\uc131', u'_id': ObjectId('58c203d96c42db2b20dc999a'), u'datetime': datetime.datetime(2017, 3, 10, 10, 39, 37, 733000)}\n",
      "{u'actor_name': u'\\uc870\\uc815\\uc11d', u'_id': ObjectId('58c203d66c42db2b20dc9988'), u'datetime': datetime.datetime(2017, 3, 10, 10, 39, 34, 792000)}\n",
      "{u'actor_name': u'\\ud55c\\uc9c0\\ubbfc', u'_id': ObjectId('58c203d66c42db2b20dc9989'), u'datetime': datetime.datetime(2017, 3, 10, 10, 39, 34, 920000)}\n",
      "{u'actor_name': u'\\ud604\\ube48', u'_id': ObjectId('58c203d76c42db2b20dc998a'), u'datetime': datetime.datetime(2017, 3, 10, 10, 39, 35, 47000)}\n",
      "{u'actor_name': u'\\uac15\\ub3d9\\uc6d0', u'_id': ObjectId('58c203d76c42db2b20dc998f'), u'datetime': datetime.datetime(2017, 3, 10, 10, 39, 35, 908000)}\n",
      "{u'actor_name': u'\\uacf5\\uc720', u'_id': ObjectId('58c203d66c42db2b20dc9987'), u'datetime': datetime.datetime(2017, 3, 10, 10, 39, 34, 665000)}\n",
      "{u'actor_name': u'\\uae40\\ub0a8\\uae38', u'_id': ObjectId('58c203d96c42db2b20dc9997'), u'datetime': datetime.datetime(2017, 3, 10, 10, 39, 37, 130000)}\n",
      "{u'actor_name': u'\\uae40\\ub300\\uba85', u'_id': ObjectId('58c203d96c42db2b20dc9998'), u'datetime': datetime.datetime(2017, 3, 10, 10, 39, 37, 257000)}\n",
      "{u'actor_name': u'\\uae40\\uc544\\uc911', u'_id': ObjectId('58c203da6c42db2b20dc999f'), u'datetime': datetime.datetime(2017, 3, 10, 10, 39, 38, 377000)}\n",
      "{u'actor_name': u'\\uae40\\uc6b0\\ube48', u'_id': ObjectId('58c203d96c42db2b20dc9996'), u'datetime': datetime.datetime(2017, 3, 10, 10, 39, 37, 1000)}\n",
      "{u'actor_name': u'\\uae40\\uc8fc\\ud601', u'_id': ObjectId('58c203d86c42db2b20dc9990'), u'datetime': datetime.datetime(2017, 3, 10, 10, 39, 36, 34000)}\n",
      "{u'actor_name': u'\\ub3c4\\uacbd\\uc218', u'_id': ObjectId('58c203d86c42db2b20dc9994'), u'datetime': datetime.datetime(2017, 3, 10, 10, 39, 36, 734000)}\n",
      "{u'actor_name': u'\\ubb38\\uc815\\ud76c', u'_id': ObjectId('58c203da6c42db2b20dc999e'), u'datetime': datetime.datetime(2017, 3, 10, 10, 39, 38, 249000)}\n",
      "{u'actor_name': u'\\uc1a1\\uac15\\ud638', u'_id': ObjectId('58c203d66c42db2b20dc9985'), u'datetime': datetime.datetime(2017, 3, 10, 10, 39, 34, 411000)}\n",
      "{u'actor_name': u'\\uc2e0\\uc131\\ub85d', u'_id': ObjectId('58c203d86c42db2b20dc9992'), u'datetime': datetime.datetime(2017, 3, 10, 10, 39, 36, 479000)}\n",
      "{u'actor_name': u'\\uc5c4\\uc9c0\\uc6d0', u'_id': ObjectId('58c203d76c42db2b20dc998e'), u'datetime': datetime.datetime(2017, 3, 10, 10, 39, 35, 781000)}\n",
      "{u'actor_name': u'\\uc5c4\\ud0dc\\uad6c', u'_id': ObjectId('58c203da6c42db2b20dc999d'), u'datetime': datetime.datetime(2017, 3, 10, 10, 39, 38, 122000)}\n",
      "{u'actor_name': u'\\uc624\\ub2ec\\uc218', u'_id': ObjectId('58c203d96c42db2b20dc999b'), u'datetime': datetime.datetime(2017, 3, 10, 10, 39, 37, 860000)}\n",
      "{u'actor_name': u'\\uc720\\ud574\\uc9c4', u'_id': ObjectId('58c203d56c42db2b20dc9984'), u'datetime': datetime.datetime(2017, 3, 10, 10, 39, 33, 989000)}\n",
      "{u'actor_name': u'\\uc774\\ub3d9\\ud718', u'_id': ObjectId('58c203d66c42db2b20dc9986'), u'datetime': datetime.datetime(2017, 3, 10, 10, 39, 34, 539000)}\n",
      "{u'actor_name': u'\\uc774\\ubcd1\\ud5cc', u'_id': ObjectId('58c203d76c42db2b20dc998b'), u'datetime': datetime.datetime(2017, 3, 10, 10, 39, 35, 400000)}\n",
      "{u'actor_name': u'\\uc774\\uc900', u'_id': ObjectId('58c203d76c42db2b20dc998c'), u'datetime': datetime.datetime(2017, 3, 10, 10, 39, 35, 527000)}\n",
      "{u'actor_name': u'\\uc774\\ud574\\uc601', u'_id': ObjectId('58c203d96c42db2b20dc9999'), u'datetime': datetime.datetime(2017, 3, 10, 10, 39, 37, 605000)}\n",
      "{u'actor_name': u'\\uc784\\uc9c0\\uc5f0', u'_id': ObjectId('58c203d86c42db2b20dc9995'), u'datetime': datetime.datetime(2017, 3, 10, 10, 39, 36, 862000)}\n",
      "{u'actor_name': u'\\uc7a5\\uc601\\ub0a8', u'_id': ObjectId('58c203d86c42db2b20dc9993'), u'datetime': datetime.datetime(2017, 3, 10, 10, 39, 36, 607000)}\n",
      "{u'actor_name': u'\\uc815\\uc6b0\\uc131', u'_id': ObjectId('58c203d76c42db2b20dc998d'), u'datetime': datetime.datetime(2017, 3, 10, 10, 39, 35, 653000)}\n",
      "{u'actor_name': u'\\uc815\\uc9c4\\uc601', u'_id': ObjectId('58c203d96c42db2b20dc999c'), u'datetime': datetime.datetime(2017, 3, 10, 10, 39, 37, 988000)}\n",
      "{u'actor_name': u'\\uc870\\uc724\\ud76c', u'_id': ObjectId('58c203d86c42db2b20dc9991'), u'datetime': datetime.datetime(2017, 3, 10, 10, 39, 36, 160000)}\n",
      "{u'actor_name': u'\\uc870\\uc778\\uc131', u'_id': ObjectId('58c203d96c42db2b20dc999a'), u'datetime': datetime.datetime(2017, 3, 10, 10, 39, 37, 733000)}\n",
      "{u'actor_name': u'\\uc870\\uc815\\uc11d', u'_id': ObjectId('58c203d66c42db2b20dc9988'), u'datetime': datetime.datetime(2017, 3, 10, 10, 39, 34, 792000)}\n",
      "{u'actor_name': u'\\ud55c\\uc9c0\\ubbfc', u'_id': ObjectId('58c203d66c42db2b20dc9989'), u'datetime': datetime.datetime(2017, 3, 10, 10, 39, 34, 920000)}\n",
      "{u'actor_name': u'\\ud604\\ube48', u'_id': ObjectId('58c203d76c42db2b20dc998a'), u'datetime': datetime.datetime(2017, 3, 10, 10, 39, 35, 47000)}\n",
      "{u'actor_name': u'\\ud604\\ube48', u'_id': ObjectId('58c203d76c42db2b20dc998a'), u'datetime': datetime.datetime(2017, 3, 10, 10, 39, 35, 47000)}\n",
      "{u'actor_name': u'\\ud55c\\uc9c0\\ubbfc', u'_id': ObjectId('58c203d66c42db2b20dc9989'), u'datetime': datetime.datetime(2017, 3, 10, 10, 39, 34, 920000)}\n",
      "{u'actor_name': u'\\uc870\\uc815\\uc11d', u'_id': ObjectId('58c203d66c42db2b20dc9988'), u'datetime': datetime.datetime(2017, 3, 10, 10, 39, 34, 792000)}\n",
      "{u'actor_name': u'\\uc870\\uc778\\uc131', u'_id': ObjectId('58c203d96c42db2b20dc999a'), u'datetime': datetime.datetime(2017, 3, 10, 10, 39, 37, 733000)}\n",
      "{u'actor_name': u'\\uc870\\uc724\\ud76c', u'_id': ObjectId('58c203d86c42db2b20dc9991'), u'datetime': datetime.datetime(2017, 3, 10, 10, 39, 36, 160000)}\n",
      "{u'actor_name': u'\\uc815\\uc9c4\\uc601', u'_id': ObjectId('58c203d96c42db2b20dc999c'), u'datetime': datetime.datetime(2017, 3, 10, 10, 39, 37, 988000)}\n",
      "{u'actor_name': u'\\uc815\\uc6b0\\uc131', u'_id': ObjectId('58c203d76c42db2b20dc998d'), u'datetime': datetime.datetime(2017, 3, 10, 10, 39, 35, 653000)}\n",
      "{u'actor_name': u'\\uc7a5\\uc601\\ub0a8', u'_id': ObjectId('58c203d86c42db2b20dc9993'), u'datetime': datetime.datetime(2017, 3, 10, 10, 39, 36, 607000)}\n",
      "{u'actor_name': u'\\uc784\\uc9c0\\uc5f0', u'_id': ObjectId('58c203d86c42db2b20dc9995'), u'datetime': datetime.datetime(2017, 3, 10, 10, 39, 36, 862000)}\n",
      "{u'actor_name': u'\\uc774\\ud574\\uc601', u'_id': ObjectId('58c203d96c42db2b20dc9999'), u'datetime': datetime.datetime(2017, 3, 10, 10, 39, 37, 605000)}\n",
      "{u'actor_name': u'\\uc774\\uc900', u'_id': ObjectId('58c203d76c42db2b20dc998c'), u'datetime': datetime.datetime(2017, 3, 10, 10, 39, 35, 527000)}\n",
      "{u'actor_name': u'\\uc774\\ubcd1\\ud5cc', u'_id': ObjectId('58c203d76c42db2b20dc998b'), u'datetime': datetime.datetime(2017, 3, 10, 10, 39, 35, 400000)}\n",
      "{u'actor_name': u'\\uc774\\ub3d9\\ud718', u'_id': ObjectId('58c203d66c42db2b20dc9986'), u'datetime': datetime.datetime(2017, 3, 10, 10, 39, 34, 539000)}\n",
      "{u'actor_name': u'\\uc720\\ud574\\uc9c4', u'_id': ObjectId('58c203d56c42db2b20dc9984'), u'datetime': datetime.datetime(2017, 3, 10, 10, 39, 33, 989000)}\n",
      "{u'actor_name': u'\\uc624\\ub2ec\\uc218', u'_id': ObjectId('58c203d96c42db2b20dc999b'), u'datetime': datetime.datetime(2017, 3, 10, 10, 39, 37, 860000)}\n",
      "{u'actor_name': u'\\uc5c4\\ud0dc\\uad6c', u'_id': ObjectId('58c203da6c42db2b20dc999d'), u'datetime': datetime.datetime(2017, 3, 10, 10, 39, 38, 122000)}\n",
      "{u'actor_name': u'\\uc5c4\\uc9c0\\uc6d0', u'_id': ObjectId('58c203d76c42db2b20dc998e'), u'datetime': datetime.datetime(2017, 3, 10, 10, 39, 35, 781000)}\n",
      "{u'actor_name': u'\\uc2e0\\uc131\\ub85d', u'_id': ObjectId('58c203d86c42db2b20dc9992'), u'datetime': datetime.datetime(2017, 3, 10, 10, 39, 36, 479000)}\n",
      "{u'actor_name': u'\\uc1a1\\uac15\\ud638', u'_id': ObjectId('58c203d66c42db2b20dc9985'), u'datetime': datetime.datetime(2017, 3, 10, 10, 39, 34, 411000)}\n",
      "{u'actor_name': u'\\ubb38\\uc815\\ud76c', u'_id': ObjectId('58c203da6c42db2b20dc999e'), u'datetime': datetime.datetime(2017, 3, 10, 10, 39, 38, 249000)}\n",
      "{u'actor_name': u'\\ub3c4\\uacbd\\uc218', u'_id': ObjectId('58c203d86c42db2b20dc9994'), u'datetime': datetime.datetime(2017, 3, 10, 10, 39, 36, 734000)}\n",
      "{u'actor_name': u'\\uae40\\uc8fc\\ud601', u'_id': ObjectId('58c203d86c42db2b20dc9990'), u'datetime': datetime.datetime(2017, 3, 10, 10, 39, 36, 34000)}\n",
      "{u'actor_name': u'\\uae40\\uc6b0\\ube48', u'_id': ObjectId('58c203d96c42db2b20dc9996'), u'datetime': datetime.datetime(2017, 3, 10, 10, 39, 37, 1000)}\n",
      "{u'actor_name': u'\\uae40\\uc544\\uc911', u'_id': ObjectId('58c203da6c42db2b20dc999f'), u'datetime': datetime.datetime(2017, 3, 10, 10, 39, 38, 377000)}\n",
      "{u'actor_name': u'\\uae40\\ub300\\uba85', u'_id': ObjectId('58c203d96c42db2b20dc9998'), u'datetime': datetime.datetime(2017, 3, 10, 10, 39, 37, 257000)}\n",
      "{u'actor_name': u'\\uae40\\ub0a8\\uae38', u'_id': ObjectId('58c203d96c42db2b20dc9997'), u'datetime': datetime.datetime(2017, 3, 10, 10, 39, 37, 130000)}\n",
      "{u'actor_name': u'\\uacf5\\uc720', u'_id': ObjectId('58c203d66c42db2b20dc9987'), u'datetime': datetime.datetime(2017, 3, 10, 10, 39, 34, 665000)}\n",
      "{u'actor_name': u'\\uac15\\ub3d9\\uc6d0', u'_id': ObjectId('58c203d76c42db2b20dc998f'), u'datetime': datetime.datetime(2017, 3, 10, 10, 39, 35, 908000)}\n",
      "{u'actor_name': u'\\uac15\\ub3d9\\uc6d0', u'_id': ObjectId('58c203d76c42db2b20dc998f'), u'datetime': datetime.datetime(2017, 3, 10, 10, 39, 35, 908000)}\n",
      "{u'actor_name': u'\\uacf5\\uc720', u'_id': ObjectId('58c203d66c42db2b20dc9987'), u'datetime': datetime.datetime(2017, 3, 10, 10, 39, 34, 665000)}\n",
      "{u'actor_name': u'\\uae40\\ub0a8\\uae38', u'_id': ObjectId('58c203d96c42db2b20dc9997'), u'datetime': datetime.datetime(2017, 3, 10, 10, 39, 37, 130000)}\n",
      "{u'actor_name': u'\\uae40\\ub300\\uba85', u'_id': ObjectId('58c203d96c42db2b20dc9998'), u'datetime': datetime.datetime(2017, 3, 10, 10, 39, 37, 257000)}\n",
      "{u'actor_name': u'\\uae40\\uc544\\uc911', u'_id': ObjectId('58c203da6c42db2b20dc999f'), u'datetime': datetime.datetime(2017, 3, 10, 10, 39, 38, 377000)}\n",
      "{u'actor_name': u'\\uae40\\uc6b0\\ube48', u'_id': ObjectId('58c203d96c42db2b20dc9996'), u'datetime': datetime.datetime(2017, 3, 10, 10, 39, 37, 1000)}\n",
      "{u'actor_name': u'\\uae40\\uc8fc\\ud601', u'_id': ObjectId('58c203d86c42db2b20dc9990'), u'datetime': datetime.datetime(2017, 3, 10, 10, 39, 36, 34000)}\n",
      "{u'actor_name': u'\\ub3c4\\uacbd\\uc218', u'_id': ObjectId('58c203d86c42db2b20dc9994'), u'datetime': datetime.datetime(2017, 3, 10, 10, 39, 36, 734000)}\n",
      "{u'actor_name': u'\\ubb38\\uc815\\ud76c', u'_id': ObjectId('58c203da6c42db2b20dc999e'), u'datetime': datetime.datetime(2017, 3, 10, 10, 39, 38, 249000)}\n",
      "{u'actor_name': u'\\uc1a1\\uac15\\ud638', u'_id': ObjectId('58c203d66c42db2b20dc9985'), u'datetime': datetime.datetime(2017, 3, 10, 10, 39, 34, 411000)}\n",
      "{u'actor_name': u'\\uc2e0\\uc131\\ub85d', u'_id': ObjectId('58c203d86c42db2b20dc9992'), u'datetime': datetime.datetime(2017, 3, 10, 10, 39, 36, 479000)}\n",
      "{u'actor_name': u'\\uc5c4\\uc9c0\\uc6d0', u'_id': ObjectId('58c203d76c42db2b20dc998e'), u'datetime': datetime.datetime(2017, 3, 10, 10, 39, 35, 781000)}\n",
      "{u'actor_name': u'\\uc5c4\\ud0dc\\uad6c', u'_id': ObjectId('58c203da6c42db2b20dc999d'), u'datetime': datetime.datetime(2017, 3, 10, 10, 39, 38, 122000)}\n",
      "{u'actor_name': u'\\uc624\\ub2ec\\uc218', u'_id': ObjectId('58c203d96c42db2b20dc999b'), u'datetime': datetime.datetime(2017, 3, 10, 10, 39, 37, 860000)}\n",
      "{u'actor_name': u'\\uc720\\ud574\\uc9c4', u'_id': ObjectId('58c203d56c42db2b20dc9984'), u'datetime': datetime.datetime(2017, 3, 10, 10, 39, 33, 989000)}\n",
      "{u'actor_name': u'\\uc774\\ub3d9\\ud718', u'_id': ObjectId('58c203d66c42db2b20dc9986'), u'datetime': datetime.datetime(2017, 3, 10, 10, 39, 34, 539000)}\n",
      "{u'actor_name': u'\\uc774\\ubcd1\\ud5cc', u'_id': ObjectId('58c203d76c42db2b20dc998b'), u'datetime': datetime.datetime(2017, 3, 10, 10, 39, 35, 400000)}\n",
      "{u'actor_name': u'\\uc774\\uc900', u'_id': ObjectId('58c203d76c42db2b20dc998c'), u'datetime': datetime.datetime(2017, 3, 10, 10, 39, 35, 527000)}\n",
      "{u'actor_name': u'\\uc774\\ud574\\uc601', u'_id': ObjectId('58c203d96c42db2b20dc9999'), u'datetime': datetime.datetime(2017, 3, 10, 10, 39, 37, 605000)}\n",
      "{u'actor_name': u'\\uc784\\uc9c0\\uc5f0', u'_id': ObjectId('58c203d86c42db2b20dc9995'), u'datetime': datetime.datetime(2017, 3, 10, 10, 39, 36, 862000)}\n",
      "{u'actor_name': u'\\uc7a5\\uc601\\ub0a8', u'_id': ObjectId('58c203d86c42db2b20dc9993'), u'datetime': datetime.datetime(2017, 3, 10, 10, 39, 36, 607000)}\n",
      "{u'actor_name': u'\\uc815\\uc6b0\\uc131', u'_id': ObjectId('58c203d76c42db2b20dc998d'), u'datetime': datetime.datetime(2017, 3, 10, 10, 39, 35, 653000)}\n",
      "{u'actor_name': u'\\uc815\\uc9c4\\uc601', u'_id': ObjectId('58c203d96c42db2b20dc999c'), u'datetime': datetime.datetime(2017, 3, 10, 10, 39, 37, 988000)}\n",
      "{u'actor_name': u'\\uc870\\uc724\\ud76c', u'_id': ObjectId('58c203d86c42db2b20dc9991'), u'datetime': datetime.datetime(2017, 3, 10, 10, 39, 36, 160000)}\n",
      "{u'actor_name': u'\\uc870\\uc778\\uc131', u'_id': ObjectId('58c203d96c42db2b20dc999a'), u'datetime': datetime.datetime(2017, 3, 10, 10, 39, 37, 733000)}\n",
      "{u'actor_name': u'\\uc870\\uc815\\uc11d', u'_id': ObjectId('58c203d66c42db2b20dc9988'), u'datetime': datetime.datetime(2017, 3, 10, 10, 39, 34, 792000)}\n",
      "{u'actor_name': u'\\ud55c\\uc9c0\\ubbfc', u'_id': ObjectId('58c203d66c42db2b20dc9989'), u'datetime': datetime.datetime(2017, 3, 10, 10, 39, 34, 920000)}\n",
      "{u'actor_name': u'\\ud604\\ube48', u'_id': ObjectId('58c203d76c42db2b20dc998a'), u'datetime': datetime.datetime(2017, 3, 10, 10, 39, 35, 47000)}\n"
     ]
    }
   ],
   "source": [
    "import pymongo\n",
    "\n",
    "# 기본적으로 오름차순\n",
    "result = actor.find().sort('actor_name')\n",
    "for record in result:\n",
    "    print record\n",
    "    \n",
    "result = actor.find().sort('actor_name', pymongo.ASCENDING) # pymongo에서 오름차순, 내림차순 할때\n",
    "for record in result:\n",
    "    print record\n",
    "\n",
    "# 내림차순 명시\n",
    "result = actor.find().sort('actor_name', pymongo.DESCENDING)\n",
    "for record in result:\n",
    "    print record\n",
    "    \n",
    "\n",
    "# sort by multiple fields\n",
    "result = actor.find().sort([('actor_name', pymongo.ASCENDING),\n",
    "                            ('datetime', pymongo.DESCENDING)]) #기준이 여러가지인 경우 tuple list로 주면 됨. 먼저 써준 기준이 먼저 적용됨\n",
    "\n",
    "# 한글이름이면 ㄱ,ㄴ,ㄷ 순\n",
    "\n",
    "for record in result:\n",
    "    print record"
   ]
  },
  {
   "cell_type": "markdown",
   "metadata": {},
   "source": [
    "* 필드값이 존재하는 경우 검색"
   ]
  },
  {
   "cell_type": "code",
   "execution_count": 26,
   "metadata": {
    "collapsed": false
   },
   "outputs": [
    {
     "name": "stdout",
     "output_type": "stream",
     "text": [
      "{u'_id': ObjectId('58c208bd6c42db2b20dc99ea'), u'name': u'hmm'}\n",
      "\n",
      "{u'age': 20, u'_id': ObjectId('58c208bd6c42db2b20dc99e4'), u'name': u'aaron'}\n",
      "{u'age': 30, u'_id': ObjectId('58c208bd6c42db2b20dc99e5'), u'name': u'bob'}\n",
      "{u'age': 25, u'_id': ObjectId('58c208bd6c42db2b20dc99e6'), u'name': u'cathy'}\n",
      "{u'age': 27, u'_id': ObjectId('58c208bd6c42db2b20dc99e7'), u'name': u'david'}\n",
      "{u'age': 28, u'_id': ObjectId('58c208bd6c42db2b20dc99e8'), u'name': u'erick'}\n",
      "{u'age': 32, u'_id': ObjectId('58c208bd6c42db2b20dc99e9'), u'name': u'fox'}\n"
     ]
    }
   ],
   "source": [
    "for doc in tmp.find({'age' : {'$exists' : False}}): # age가 존재하지 않는 것만 가져와라\n",
    "    print doc\n",
    "\n",
    "print \n",
    "for doc in tmp.find({'age' : {'$exists' : True}}):\n",
    "    print doc"
   ]
  },
  {
   "cell_type": "markdown",
   "metadata": {},
   "source": [
    "* 필드의 범위로 검색"
   ]
  },
  {
   "cell_type": "markdown",
   "metadata": {},
   "source": [
    "* gt, gte\n",
    " - gt : 크다, gte : 크거나 같다\n",
    "\n",
    "\n",
    "* lt, lte\n",
    " - lt : 작다, lte : 작거나 같다"
   ]
  },
  {
   "cell_type": "code",
   "execution_count": 27,
   "metadata": {
    "collapsed": false,
    "scrolled": true
   },
   "outputs": [
    {
     "name": "stdout",
     "output_type": "stream",
     "text": [
      "{u'age': 30, u'_id': ObjectId('58c208bd6c42db2b20dc99e5'), u'name': u'bob'}\n",
      "{u'age': 27, u'_id': ObjectId('58c208bd6c42db2b20dc99e7'), u'name': u'david'}\n",
      "{u'age': 28, u'_id': ObjectId('58c208bd6c42db2b20dc99e8'), u'name': u'erick'}\n",
      "{u'age': 32, u'_id': ObjectId('58c208bd6c42db2b20dc99e9'), u'name': u'fox'}\n"
     ]
    }
   ],
   "source": [
    "for doc in tmp.find({'age' : {'$gte' : 27}}): # 27살 이상\n",
    "    print doc"
   ]
  },
  {
   "cell_type": "code",
   "execution_count": 28,
   "metadata": {
    "collapsed": false
   },
   "outputs": [
    {
     "name": "stdout",
     "output_type": "stream",
     "text": [
      "{u'age': 30, u'_id': ObjectId('58c208bd6c42db2b20dc99e5'), u'name': u'bob'}\n",
      "{u'age': 27, u'_id': ObjectId('58c208bd6c42db2b20dc99e7'), u'name': u'david'}\n",
      "{u'age': 28, u'_id': ObjectId('58c208bd6c42db2b20dc99e8'), u'name': u'erick'}\n",
      "{u'age': 32, u'_id': ObjectId('58c208bd6c42db2b20dc99e9'), u'name': u'fox'}\n"
     ]
    }
   ],
   "source": [
    "for doc in tmp.find({'age' : {'$gte' : 27}}):\n",
    "    print doc"
   ]
  },
  {
   "cell_type": "markdown",
   "metadata": {},
   "source": [
    "* or, nor"
   ]
  },
  {
   "cell_type": "code",
   "execution_count": 29,
   "metadata": {
    "collapsed": false
   },
   "outputs": [
    {
     "name": "stdout",
     "output_type": "stream",
     "text": [
      "{u'age': 30, u'_id': ObjectId('58c208bd6c42db2b20dc99e5'), u'name': u'bob'}\n",
      "{u'age': 27, u'_id': ObjectId('58c208bd6c42db2b20dc99e7'), u'name': u'david'}\n"
     ]
    }
   ],
   "source": [
    "for doc in tmp.find({'$or' : [{'age' : 27}, {'age' : 30}]}):\n",
    "    print doc"
   ]
  },
  {
   "cell_type": "code",
   "execution_count": 30,
   "metadata": {
    "collapsed": false
   },
   "outputs": [
    {
     "name": "stdout",
     "output_type": "stream",
     "text": [
      "{u'age': 20, u'_id': ObjectId('58c208bd6c42db2b20dc99e4'), u'name': u'aaron'}\n"
     ]
    }
   ],
   "source": [
    "# name이 aaron이고, age가 20이거나 30인 doc\n",
    "for doc in tmp.find({'name' : 'aaron', '$or' : [{'age' : 20}, {'age' : 30}]}):\n",
    "    print doc"
   ]
  },
  {
   "cell_type": "code",
   "execution_count": 31,
   "metadata": {
    "collapsed": false
   },
   "outputs": [
    {
     "name": "stdout",
     "output_type": "stream",
     "text": [
      "{u'age': 20, u'_id': ObjectId('58c208bd6c42db2b20dc99e4'), u'name': u'aaron'}\n"
     ]
    }
   ],
   "source": [
    "# name이 aaron이고, age가 20이하 이거나 30인 doc\n",
    "for doc in tmp.find({'name' : 'aaron', '$or' : [{'age' : {'$lte':20}}, {'age' : 30}]}):\n",
    "    print doc"
   ]
  },
  {
   "cell_type": "code",
   "execution_count": 32,
   "metadata": {
    "collapsed": false
   },
   "outputs": [
    {
     "name": "stdout",
     "output_type": "stream",
     "text": [
      "{u'age': 20, u'_id': ObjectId('58c208bd6c42db2b20dc99e4'), u'name': u'aaron'}\n",
      "{u'age': 30, u'_id': ObjectId('58c208bd6c42db2b20dc99e5'), u'name': u'bob'}\n",
      "{u'age': 25, u'_id': ObjectId('58c208bd6c42db2b20dc99e6'), u'name': u'cathy'}\n",
      "{u'age': 32, u'_id': ObjectId('58c208bd6c42db2b20dc99e9'), u'name': u'fox'}\n"
     ]
    }
   ],
   "source": [
    "for doc in tmp.find({'$or' : [{'age' : {'$gte' : 29}}, {'age' : {'$lte' : 25}}]}):\n",
    "    print doc"
   ]
  },
  {
   "cell_type": "code",
   "execution_count": 33,
   "metadata": {
    "collapsed": false
   },
   "outputs": [
    {
     "name": "stdout",
     "output_type": "stream",
     "text": [
      "{u'age': 30, u'_id': ObjectId('58c208bd6c42db2b20dc99e5'), u'name': u'bob'}\n",
      "{u'age': 25, u'_id': ObjectId('58c208bd6c42db2b20dc99e6'), u'name': u'cathy'}\n",
      "{u'age': 32, u'_id': ObjectId('58c208bd6c42db2b20dc99e9'), u'name': u'fox'}\n"
     ]
    }
   ],
   "source": [
    "# age가 29 이상이거나 25인 doc\n",
    "for doc in tmp.find({'$or' : [{'age' : {'$gte' : 29}}, {'age' : 25}]}):\n",
    "    print doc"
   ]
  },
  {
   "cell_type": "markdown",
   "metadata": {},
   "source": [
    "* nor\n",
    " - not or"
   ]
  },
  {
   "cell_type": "code",
   "execution_count": 34,
   "metadata": {
    "collapsed": false
   },
   "outputs": [
    {
     "name": "stdout",
     "output_type": "stream",
     "text": [
      "{u'age': 20, u'_id': ObjectId('58c208bd6c42db2b20dc99e4'), u'name': u'aaron'}\n",
      "{u'age': 27, u'_id': ObjectId('58c208bd6c42db2b20dc99e7'), u'name': u'david'}\n",
      "{u'age': 28, u'_id': ObjectId('58c208bd6c42db2b20dc99e8'), u'name': u'erick'}\n",
      "{u'_id': ObjectId('58c208bd6c42db2b20dc99ea'), u'name': u'hmm'}\n"
     ]
    }
   ],
   "source": [
    "for doc in tmp.find({'$nor' : [{'age' : {'$gte' : 29}}, {'age' : 25}]}):\n",
    "    print doc"
   ]
  },
  {
   "cell_type": "raw",
   "metadata": {},
   "source": []
  },
  {
   "cell_type": "markdown",
   "metadata": {},
   "source": [
    "* in, nin\n",
    "- mysql에서의 in과 같다. 그 필드 안의 것만 가져온다."
   ]
  },
  {
   "cell_type": "code",
   "execution_count": 35,
   "metadata": {
    "collapsed": false
   },
   "outputs": [
    {
     "name": "stdout",
     "output_type": "stream",
     "text": [
      "{u'age': 20, u'_id': ObjectId('58c208bd6c42db2b20dc99e4'), u'name': u'aaron'}\n",
      "{u'age': 25, u'_id': ObjectId('58c208bd6c42db2b20dc99e6'), u'name': u'cathy'}\n",
      "{u'age': 27, u'_id': ObjectId('58c208bd6c42db2b20dc99e7'), u'name': u'david'}\n"
     ]
    }
   ],
   "source": [
    "# age가 해당 리스트안에 존재하는 원소와 일치할 떄\n",
    "for doc in tmp.find({'age' : {'$in' : [20, 21, 25, 27]}}):\n",
    "    print doc"
   ]
  },
  {
   "cell_type": "code",
   "execution_count": 36,
   "metadata": {
    "collapsed": false
   },
   "outputs": [
    {
     "name": "stdout",
     "output_type": "stream",
     "text": [
      "{u'age': 30, u'_id': ObjectId('58c208bd6c42db2b20dc99e5'), u'name': u'bob'}\n",
      "{u'age': 28, u'_id': ObjectId('58c208bd6c42db2b20dc99e8'), u'name': u'erick'}\n",
      "{u'age': 32, u'_id': ObjectId('58c208bd6c42db2b20dc99e9'), u'name': u'fox'}\n",
      "{u'_id': ObjectId('58c208bd6c42db2b20dc99ea'), u'name': u'hmm'}\n"
     ]
    }
   ],
   "source": [
    "# nin : not in\n",
    "for doc in tmp.find({'age' : {'$nin' : [20, 21, 25, 27]}}):\n",
    "    print doc"
   ]
  },
  {
   "cell_type": "markdown",
   "metadata": {},
   "source": [
    "* skip, limit\n",
    " - skip(n) : 검색 결과 n개만큼 건너뜀\n",
    " - limit(n) : 검색 결과 n개로 제한"
   ]
  },
  {
   "cell_type": "code",
   "execution_count": 37,
   "metadata": {
    "collapsed": false
   },
   "outputs": [
    {
     "name": "stdout",
     "output_type": "stream",
     "text": [
      "{u'_id': ObjectId('58c208bd6c42db2b20dc99ea'), u'name': u'hmm'}\n"
     ]
    }
   ],
   "source": [
    "for doc in tmp.find({'age' : {'$nin' : [20, 21, 25, 27]}}).skip(3):\n",
    "    print doc"
   ]
  },
  {
   "cell_type": "code",
   "execution_count": 38,
   "metadata": {
    "collapsed": false
   },
   "outputs": [
    {
     "name": "stdout",
     "output_type": "stream",
     "text": [
      "{u'age': 30, u'_id': ObjectId('58c208bd6c42db2b20dc99e5'), u'name': u'bob'}\n",
      "{u'age': 28, u'_id': ObjectId('58c208bd6c42db2b20dc99e8'), u'name': u'erick'}\n",
      "{u'age': 32, u'_id': ObjectId('58c208bd6c42db2b20dc99e9'), u'name': u'fox'}\n"
     ]
    }
   ],
   "source": [
    "for doc in tmp.find({'age' : {'$nin' : [20, 21, 25, 27]}}).limit(3):\n",
    "    print doc"
   ]
  },
  {
   "cell_type": "code",
   "execution_count": 39,
   "metadata": {
    "collapsed": false
   },
   "outputs": [
    {
     "name": "stdout",
     "output_type": "stream",
     "text": [
      "{u'age': 28, u'_id': ObjectId('58c208bd6c42db2b20dc99e8'), u'name': u'erick'}\n",
      "{u'age': 32, u'_id': ObjectId('58c208bd6c42db2b20dc99e9'), u'name': u'fox'}\n",
      "{u'_id': ObjectId('58c208bd6c42db2b20dc99ea'), u'name': u'hmm'}\n"
     ]
    }
   ],
   "source": [
    "# skip limit 동시 사용 가능\n",
    "for doc in tmp.find({'age' : {'$nin' : [20, 21, 25, 27]}}).skip(1).limit(3):\n",
    "    print doc"
   ]
  },
  {
   "cell_type": "markdown",
   "metadata": {},
   "source": [
    "* list, embedded document 검색"
   ]
  },
  {
   "cell_type": "markdown",
   "metadata": {},
   "source": [
    "* embedded document 검색\n",
    " - document depth를 .연산자를 통하여 접근 가능"
   ]
  },
  {
   "cell_type": "code",
   "execution_count": 51,
   "metadata": {
    "collapsed": false
   },
   "outputs": [
    {
     "name": "stdout",
     "output_type": "stream",
     "text": [
      "{u'title': u'\\uc2e4\\ubbf8\\ub3c4', u'castings': [u'\\uc124\\uacbd\\uad6c', u'\\uc548\\uc131\\uae30'], u'_id': ObjectId('58c206c56c42db2b20dc99e0'), u'datetime': {u'year': u'2003', u'month': 3}}\n",
      "{u'title': u'\\uc2e4\\ubbf8\\ub3c4', u'castings': [u'\\uc124\\uacbd\\uad6c', u'\\uc548\\uc131\\uae30'], u'_id': ObjectId('58c207186c42db2b20dc99e3'), u'datetime': {u'year': u'2003', u'month': 3}}\n"
     ]
    }
   ],
   "source": [
    "# query for embedded doc\n",
    "for doc in movie.find({'datetime.year' : '2003'}):\n",
    "    print doc\n",
    "    "
   ]
  },
  {
   "cell_type": "markdown",
   "metadata": {},
   "source": [
    "* list 검색"
   ]
  },
  {
   "cell_type": "code",
   "execution_count": 52,
   "metadata": {
    "collapsed": false
   },
   "outputs": [
    {
     "name": "stdout",
     "output_type": "stream",
     "text": [
      "암살\n",
      "암살\n"
     ]
    }
   ],
   "source": [
    "# 리스트 원소에 이정재를 포함하는 경우 전부 반환\n",
    "for doc in movie.find({'castings' : '이정재'}):\n",
    "    print doc['title']"
   ]
  },
  {
   "cell_type": "code",
   "execution_count": 44,
   "metadata": {
    "collapsed": false
   },
   "outputs": [
    {
     "name": "stdout",
     "output_type": "stream",
     "text": [
      "암살\n",
      "암살\n"
     ]
    }
   ],
   "source": [
    "# 원소에 이정재와 전지현을 포함하는 경우\n",
    "for doc in movie.find({'castings' : '이정재', 'castings' : '전지현'}): # ,는 and\n",
    "    print doc['title']"
   ]
  },
  {
   "cell_type": "code",
   "execution_count": 53,
   "metadata": {
    "collapsed": false
   },
   "outputs": [
    {
     "name": "stdout",
     "output_type": "stream",
     "text": [
      "암살\n",
      "실미도\n",
      "암살\n",
      "실미도\n"
     ]
    }
   ],
   "source": [
    "# 원소에 이정재를 또는 안성기를 포함하는 경우\n",
    "for doc in movie.find({'$or' : [{'castings' : '이정재'}, {'castings' : '안성기'}]}): # '또는'으로 묶었으므로\n",
    "    print doc['title']"
   ]
  },
  {
   "cell_type": "markdown",
   "metadata": {},
   "source": []
  },
  {
   "cell_type": "markdown",
   "metadata": {},
   "source": [
    "* 리스트로 비교하기 위해서는 순서와 값이 정확히 일치해야 함"
   ]
  },
  {
   "cell_type": "code",
   "execution_count": 46,
   "metadata": {
    "collapsed": false
   },
   "outputs": [
    {
     "name": "stdout",
     "output_type": "stream",
     "text": [
      "암살\n",
      "암살\n"
     ]
    }
   ],
   "source": [
    "for doc in movie.find({'castings' : ['이정재', '전지현', '하정우']}):\n",
    "    print doc['title']"
   ]
  },
  {
   "cell_type": "code",
   "execution_count": 47,
   "metadata": {
    "collapsed": true
   },
   "outputs": [],
   "source": [
    "# 결과 없음\n",
    "for doc in movie.find({'castings' : ['이정재', '전지현']}): # 부분집합이어도 안됨. 정확하게 매칭이 되어야함.\n",
    "    print doc['title']"
   ]
  },
  {
   "cell_type": "code",
   "execution_count": 48,
   "metadata": {
    "collapsed": true
   },
   "outputs": [],
   "source": [
    "# 결과 없음\n",
    "for doc in movie.find({'castings' : ['이정재', '하정우', '전지현']}):\n",
    "    print doc['title']"
   ]
  },
  {
   "cell_type": "markdown",
   "metadata": {},
   "source": [
    "* 순서에 관계 없이 찾고자 하는 경우"
   ]
  },
  {
   "cell_type": "code",
   "execution_count": 54,
   "metadata": {
    "collapsed": false
   },
   "outputs": [
    {
     "name": "stdout",
     "output_type": "stream",
     "text": [
      "암살\n",
      "암살\n"
     ]
    }
   ],
   "source": [
    "# 이정재, 하정우, 전지현이 모두 있는 경우 검색\n",
    "for doc in movie.find({'castings' : {'$all' :  ['이정재', '하정우', '전지현'] }} ): # 순서 상관없음\n",
    "    print doc['title']\n",
    "# all 뒤에는 무조건 list가 옴. 원소가 하나여도 list로 해줘야함."
   ]
  },
  {
   "cell_type": "code",
   "execution_count": 55,
   "metadata": {
    "collapsed": false
   },
   "outputs": [
    {
     "name": "stdout",
     "output_type": "stream",
     "text": [
      "암살\n",
      "암살\n"
     ]
    }
   ],
   "source": [
    "for doc in movie.find({'castings' : {'$all' :  ['하정우', '전지현'] }} ):\n",
    "    print doc['title']\n",
    "    "
   ]
  },
  {
   "cell_type": "raw",
   "metadata": {},
   "source": []
  },
  {
   "cell_type": "markdown",
   "metadata": {},
   "source": [
    "* elemMatch\n",
    " - 적어도 한개 이상의 원소가 복수개의 조건을 동시에 만족하는 경우\n",
    " - 조건이 한개인 경우는 사용하지 않음"
   ]
  },
  {
   "cell_type": "code",
   "execution_count": 56,
   "metadata": {
    "collapsed": true
   },
   "outputs": [],
   "source": [
    "score = mongo.test.score"
   ]
  },
  {
   "cell_type": "code",
   "execution_count": 57,
   "metadata": {
    "collapsed": false
   },
   "outputs": [
    {
     "data": {
      "text/plain": [
       "<pymongo.results.InsertManyResult at 0x3d0a760>"
      ]
     },
     "execution_count": 57,
     "metadata": {},
     "output_type": "execute_result"
    }
   ],
   "source": [
    "score.insert_many([\n",
    "{ '_id': 1, 'results': [ 82, 85, 88 ] },\n",
    "{ '_id': 2, 'results': [ 75, 88, 89 ] }])"
   ]
  },
  {
   "cell_type": "code",
   "execution_count": 58,
   "metadata": {
    "collapsed": false
   },
   "outputs": [
    {
     "name": "stdout",
     "output_type": "stream",
     "text": [
      "{u'_id': 1, u'results': [82, 85, 88]}\n",
      "{u'_id': 2, u'results': [75, 88, 89]}\n"
     ]
    }
   ],
   "source": [
    "# 각 원소별로 하나라도 만족하는 경우\n",
    "for doc in score.find({'results' : { '$gte': 80, '$lt': 85 }}): #여기서는 and가 아니다.\n",
    "    print doc"
   ]
  },
  {
   "cell_type": "code",
   "execution_count": 63,
   "metadata": {
    "collapsed": false
   },
   "outputs": [
    {
     "name": "stdout",
     "output_type": "stream",
     "text": [
      "{u'_id': 1, u'results': [82, 85, 88]}\n"
     ]
    }
   ],
   "source": [
    "# 적어도 한개의 원소(82) 가 80 <= 82 <= 85를 만족함\n",
    "for doc in score.find({'results' :  {'$elemMatch' : { '$gte': 80, '$lt': 85 }}}): #elements를 사용하면 and로 묶어준다. 80이상 85미만\n",
    "    print doc"
   ]
  },
  {
   "cell_type": "code",
   "execution_count": null,
   "metadata": {
    "collapsed": true
   },
   "outputs": [],
   "source": []
  },
  {
   "cell_type": "markdown",
   "metadata": {},
   "source": [
    "* 인덱스를 특정하여 검색하기"
   ]
  },
  {
   "cell_type": "code",
   "execution_count": 64,
   "metadata": {
    "collapsed": false
   },
   "outputs": [
    {
     "name": "stdout",
     "output_type": "stream",
     "text": [
      "암살\n",
      "암살\n"
     ]
    }
   ],
   "source": [
    "# castings의 1번째 원소가 전지현인 것 검색\n",
    "for doc in movie.find({'castings.1' : '전지현'} ):\n",
    "    print doc['title']"
   ]
  },
  {
   "cell_type": "code",
   "execution_count": 65,
   "metadata": {
    "collapsed": false
   },
   "outputs": [],
   "source": [
    "# castings의 2번째 원소가 전지현인 것 검색\n",
    "# 결과 없음\n",
    "for doc in movie.find({'castings.2' : '전지현'} ):\n",
    "    print doc['title']"
   ]
  },
  {
   "cell_type": "markdown",
   "metadata": {},
   "source": [
    "* 리스트의 원소의 개수를 기준으로 검색"
   ]
  },
  {
   "cell_type": "code",
   "execution_count": 62,
   "metadata": {
    "collapsed": false
   },
   "outputs": [
    {
     "name": "stdout",
     "output_type": "stream",
     "text": [
      "암살\n",
      "암살\n"
     ]
    }
   ],
   "source": [
    "for doc in movie.find({'castings' : {'$size' : 3}} ):\n",
    "    print doc['title']"
   ]
  },
  {
   "cell_type": "code",
   "execution_count": 66,
   "metadata": {
    "collapsed": false
   },
   "outputs": [
    {
     "name": "stdout",
     "output_type": "stream",
     "text": [
      "암살\n",
      "암살\n"
     ]
    },
    {
     "ename": "OperationFailure",
     "evalue": "$size needs a number",
     "output_type": "error",
     "traceback": [
      "\u001b[0;31m---------------------------------------------------------------------------\u001b[0m",
      "\u001b[0;31mOperationFailure\u001b[0m                          Traceback (most recent call last)",
      "\u001b[0;32m<ipython-input-66-cf3eea410e2b>\u001b[0m in \u001b[0;36m<module>\u001b[0;34m()\u001b[0m\n\u001b[1;32m      4\u001b[0m     \u001b[1;32mprint\u001b[0m \u001b[0mdoc\u001b[0m\u001b[1;33m[\u001b[0m\u001b[1;34m'title'\u001b[0m\u001b[1;33m]\u001b[0m\u001b[1;33m\u001b[0m\u001b[0m\n\u001b[1;32m      5\u001b[0m \u001b[1;33m\u001b[0m\u001b[0m\n\u001b[0;32m----> 6\u001b[0;31m \u001b[1;32mfor\u001b[0m \u001b[0mdoc\u001b[0m \u001b[1;32min\u001b[0m \u001b[0mmovie\u001b[0m\u001b[1;33m.\u001b[0m\u001b[0mfind\u001b[0m\u001b[1;33m(\u001b[0m\u001b[1;33m{\u001b[0m\u001b[1;34m'castings'\u001b[0m \u001b[1;33m:\u001b[0m \u001b[1;33m{\u001b[0m\u001b[1;34m'$size'\u001b[0m \u001b[1;33m:\u001b[0m \u001b[1;33m{\u001b[0m\u001b[1;34m'$gt'\u001b[0m \u001b[1;33m:\u001b[0m \u001b[1;36m3\u001b[0m\u001b[1;33m}\u001b[0m\u001b[1;33m}\u001b[0m\u001b[1;33m}\u001b[0m \u001b[1;33m)\u001b[0m\u001b[1;33m:\u001b[0m \u001b[1;31m# 이거 안됨\u001b[0m\u001b[1;33m\u001b[0m\u001b[0m\n\u001b[0m\u001b[1;32m      7\u001b[0m     \u001b[1;32mprint\u001b[0m \u001b[0mdoc\u001b[0m\u001b[1;33m[\u001b[0m\u001b[1;34m'title'\u001b[0m\u001b[1;33m]\u001b[0m\u001b[1;33m\u001b[0m\u001b[0m\n",
      "\u001b[0;32mc:\\python27\\lib\\site-packages\\pymongo\\cursor.pyc\u001b[0m in \u001b[0;36mnext\u001b[0;34m(self)\u001b[0m\n\u001b[1;32m   1112\u001b[0m             \u001b[1;32mraise\u001b[0m \u001b[0mStopIteration\u001b[0m\u001b[1;33m\u001b[0m\u001b[0m\n\u001b[1;32m   1113\u001b[0m         \u001b[0m_db\u001b[0m \u001b[1;33m=\u001b[0m \u001b[0mself\u001b[0m\u001b[1;33m.\u001b[0m\u001b[0m__collection\u001b[0m\u001b[1;33m.\u001b[0m\u001b[0mdatabase\u001b[0m\u001b[1;33m\u001b[0m\u001b[0m\n\u001b[0;32m-> 1114\u001b[0;31m         \u001b[1;32mif\u001b[0m \u001b[0mlen\u001b[0m\u001b[1;33m(\u001b[0m\u001b[0mself\u001b[0m\u001b[1;33m.\u001b[0m\u001b[0m__data\u001b[0m\u001b[1;33m)\u001b[0m \u001b[1;32mor\u001b[0m \u001b[0mself\u001b[0m\u001b[1;33m.\u001b[0m\u001b[0m_refresh\u001b[0m\u001b[1;33m(\u001b[0m\u001b[1;33m)\u001b[0m\u001b[1;33m:\u001b[0m\u001b[1;33m\u001b[0m\u001b[0m\n\u001b[0m\u001b[1;32m   1115\u001b[0m             \u001b[1;32mif\u001b[0m \u001b[0mself\u001b[0m\u001b[1;33m.\u001b[0m\u001b[0m__manipulate\u001b[0m\u001b[1;33m:\u001b[0m\u001b[1;33m\u001b[0m\u001b[0m\n\u001b[1;32m   1116\u001b[0m                 return _db._fix_outgoing(self.__data.popleft(),\n",
      "\u001b[0;32mc:\\python27\\lib\\site-packages\\pymongo\\cursor.pyc\u001b[0m in \u001b[0;36m_refresh\u001b[0;34m(self)\u001b[0m\n\u001b[1;32m   1034\u001b[0m                                        \u001b[0mself\u001b[0m\u001b[1;33m.\u001b[0m\u001b[0m__batch_size\u001b[0m\u001b[1;33m,\u001b[0m\u001b[1;33m\u001b[0m\u001b[0m\n\u001b[1;32m   1035\u001b[0m                                        \u001b[0mself\u001b[0m\u001b[1;33m.\u001b[0m\u001b[0m__read_concern\u001b[0m\u001b[1;33m,\u001b[0m\u001b[1;33m\u001b[0m\u001b[0m\n\u001b[0;32m-> 1036\u001b[0;31m                                        self.__collation))\n\u001b[0m\u001b[1;32m   1037\u001b[0m             \u001b[1;32mif\u001b[0m \u001b[1;32mnot\u001b[0m \u001b[0mself\u001b[0m\u001b[1;33m.\u001b[0m\u001b[0m__id\u001b[0m\u001b[1;33m:\u001b[0m\u001b[1;33m\u001b[0m\u001b[0m\n\u001b[1;32m   1038\u001b[0m                 \u001b[0mself\u001b[0m\u001b[1;33m.\u001b[0m\u001b[0m__killed\u001b[0m \u001b[1;33m=\u001b[0m \u001b[0mTrue\u001b[0m\u001b[1;33m\u001b[0m\u001b[0m\n",
      "\u001b[0;32mc:\\python27\\lib\\site-packages\\pymongo\\cursor.pyc\u001b[0m in \u001b[0;36m__send_message\u001b[0;34m(self, operation)\u001b[0m\n\u001b[1;32m    926\u001b[0m                                            codec_options=self.__codec_options)\n\u001b[1;32m    927\u001b[0m             \u001b[1;32mif\u001b[0m \u001b[0mfrom_command\u001b[0m\u001b[1;33m:\u001b[0m\u001b[1;33m\u001b[0m\u001b[0m\n\u001b[0;32m--> 928\u001b[0;31m                 \u001b[0mhelpers\u001b[0m\u001b[1;33m.\u001b[0m\u001b[0m_check_command_response\u001b[0m\u001b[1;33m(\u001b[0m\u001b[0mdoc\u001b[0m\u001b[1;33m[\u001b[0m\u001b[1;34m'data'\u001b[0m\u001b[1;33m]\u001b[0m\u001b[1;33m[\u001b[0m\u001b[1;36m0\u001b[0m\u001b[1;33m]\u001b[0m\u001b[1;33m)\u001b[0m\u001b[1;33m\u001b[0m\u001b[0m\n\u001b[0m\u001b[1;32m    929\u001b[0m         \u001b[1;32mexcept\u001b[0m \u001b[0mOperationFailure\u001b[0m \u001b[1;32mas\u001b[0m \u001b[0mexc\u001b[0m\u001b[1;33m:\u001b[0m\u001b[1;33m\u001b[0m\u001b[0m\n\u001b[1;32m    930\u001b[0m             \u001b[0mself\u001b[0m\u001b[1;33m.\u001b[0m\u001b[0m__killed\u001b[0m \u001b[1;33m=\u001b[0m \u001b[0mTrue\u001b[0m\u001b[1;33m\u001b[0m\u001b[0m\n",
      "\u001b[0;32mc:\\python27\\lib\\site-packages\\pymongo\\helpers.pyc\u001b[0m in \u001b[0;36m_check_command_response\u001b[0;34m(response, msg, allowable_errors, parse_write_concern_error)\u001b[0m\n\u001b[1;32m    208\u001b[0m \u001b[1;33m\u001b[0m\u001b[0m\n\u001b[1;32m    209\u001b[0m             \u001b[0mmsg\u001b[0m \u001b[1;33m=\u001b[0m \u001b[0mmsg\u001b[0m \u001b[1;32mor\u001b[0m \u001b[1;34m\"%s\"\u001b[0m\u001b[1;33m\u001b[0m\u001b[0m\n\u001b[0;32m--> 210\u001b[0;31m             \u001b[1;32mraise\u001b[0m \u001b[0mOperationFailure\u001b[0m\u001b[1;33m(\u001b[0m\u001b[0mmsg\u001b[0m \u001b[1;33m%\u001b[0m \u001b[0merrmsg\u001b[0m\u001b[1;33m,\u001b[0m \u001b[0mcode\u001b[0m\u001b[1;33m,\u001b[0m \u001b[0mresponse\u001b[0m\u001b[1;33m)\u001b[0m\u001b[1;33m\u001b[0m\u001b[0m\n\u001b[0m\u001b[1;32m    211\u001b[0m \u001b[1;33m\u001b[0m\u001b[0m\n\u001b[1;32m    212\u001b[0m \u001b[1;33m\u001b[0m\u001b[0m\n",
      "\u001b[0;31mOperationFailure\u001b[0m: $size needs a number"
     ]
    }
   ],
   "source": [
    "# $size의 경우, 범위 지정 불가\n",
    "# 범위를 지정하기 위해서는 별도의 field를 두고, 리스트의 개수를 업데이트 해야함\n",
    "for doc in movie.find({'castings' : {'$size' : 3}} ):\n",
    "    print doc['title']\n",
    "    \n",
    "for doc in movie.find({'castings' : {'$size' : {'$gt' : 3}}} ): # 이거 안됨. 별도의 필드를 만들어야 함.\n",
    "    print doc['title'] "
   ]
  },
  {
   "cell_type": "raw",
   "metadata": {},
   "source": []
  },
  {
   "cell_type": "markdown",
   "metadata": {},
   "source": [
    "### Update 예제"
   ]
  },
  {
   "cell_type": "code",
   "execution_count": 70,
   "metadata": {
    "collapsed": false
   },
   "outputs": [
    {
     "name": "stdout",
     "output_type": "stream",
     "text": [
      "<pymongo.results.UpdateResult object at 0x03EDB7B0>\n",
      "0\n"
     ]
    }
   ],
   "source": [
    "# update_one\n",
    "mongo = MongoClient(mongo_server, 27017)\n",
    "actor = mongo.cine21.actor\n",
    "\n",
    "result = actor.update_one({'name' : '송강호'}, {'$set' : {'name' : '송광호'}}) # 맨 처음 것만 바꿈\n",
    "\n",
    "print result\n",
    "print result.modified_count"
   ]
  },
  {
   "cell_type": "code",
   "execution_count": 71,
   "metadata": {
    "collapsed": false
   },
   "outputs": [
    {
     "name": "stdout",
     "output_type": "stream",
     "text": [
      "<pymongo.results.UpdateResult object at 0x0381C738>\n",
      "0\n"
     ]
    }
   ],
   "source": [
    "# update_many로 매칭되는 모든 doc 업데이트\n",
    "result = actor.update_many({'name' : '송강호'}, {'$set' : {'name' : '송광호'}})\n",
    "print result\n",
    "print result.modified_count"
   ]
  },
  {
   "cell_type": "markdown",
   "metadata": {},
   "source": [
    "* upsert option\n",
    " - update method의 upsert parameter가 True로 전달하면, 매칭되는 document를 찾지 못한 경우, insert 수행"
   ]
  },
  {
   "cell_type": "code",
   "execution_count": 72,
   "metadata": {
    "collapsed": false
   },
   "outputs": [
    {
     "name": "stdout",
     "output_type": "stream",
     "text": [
      "<pymongo.results.UpdateResult object at 0x03A94558>\n",
      "0\n",
      "<pymongo.results.UpdateResult object at 0x0381C738>\n",
      "58c2170b1d543988885bb7bb\n",
      "0\n"
     ]
    }
   ],
   "source": [
    "result = actor.update_many({'name' : '송광호'}, {'$set' : {'name' : '오바마'}}, upsert=True) #못찾으면 추가. udate + insert\n",
    "print result\n",
    "print result.modified_count\n",
    "\n",
    "result = actor.update_many({'name' : '클린턴'}, {'$set' : {'name' : '힐러리'}}, upsert=True)\n",
    "print result\n",
    "print result.upserted_id # 새로 삽입된 객체의 아이디\n",
    "print result.modified_count"
   ]
  },
  {
   "cell_type": "code",
   "execution_count": 73,
   "metadata": {
    "collapsed": false
   },
   "outputs": [],
   "source": [
    "result = actor.update_one({'name' : '힐러리'}, \n",
    "                            {'$set' : {'name' : '캐서린', 'age' : 30}}, upsert=True)"
   ]
  },
  {
   "cell_type": "markdown",
   "metadata": {},
   "source": [
    "### Delete 예제 "
   ]
  },
  {
   "cell_type": "code",
   "execution_count": 33,
   "metadata": {
    "collapsed": false
   },
   "outputs": [
    {
     "name": "stdout",
     "output_type": "stream",
     "text": [
      "1\n",
      "4\n"
     ]
    }
   ],
   "source": [
    "result = actor.delete_one({'name' : '캐서린'})\n",
    "print result.deleted_count\n",
    "\n",
    "result = actor.delete_many({'name' : '오바마'})\n",
    "print result.deleted_count"
   ]
  },
  {
   "cell_type": "raw",
   "metadata": {},
   "source": []
  },
  {
   "cell_type": "markdown",
   "metadata": {},
   "source": [
    "* wget\n",
    " + 웹상의 파일을 다운로드 하는 프로그램\n",
    " + e.g) wget https://raw.githubusercontent.com/mongodb/docs-assets/primer-dataset/primer-dataset.json"
   ]
  },
  {
   "cell_type": "raw",
   "metadata": {},
   "source": []
  },
  {
   "cell_type": "markdown",
   "metadata": {},
   "source": [
    "* mongoimport \n",
    "  - 파일로부터 db 생성\n",
    "  - mongoimport --db test --collection zip --drop --file zips.json\n",
    "  \n",
    "* mongoexport \n",
    "  - db의 데이터를 파일에 백업\n",
    "  - mongoexport --db test --collection news -o news.json"
   ]
  },
  {
   "cell_type": "markdown",
   "metadata": {},
   "source": []
  },
  {
   "cell_type": "markdown",
   "metadata": {},
   "source": [
    "* mongodb index\n",
    " - https://docs.mongodb.com/manual/indexes/\n",
    " - SQL index와 개념적으로 동일\n",
    " - 즉, 검색을 더 빠르게 수행하고자 만드는 추가적인 data structure\n",
    " - index가 없으면 모든 collection의 document를 scan해야함"
   ]
  },
  {
   "cell_type": "markdown",
   "metadata": {},
   "source": [
    "db.collection.createIndex({field1 : 1, field2 : 1 ...})\n",
    "\n",
    "키의 값에는 1, -1 둘중의 하나가 올 수 있다.\n",
    "1 : 순방향(ASCENDING), -1 : 역방향(DESCENDING)"
   ]
  },
  {
   "cell_type": "markdown",
   "metadata": {},
   "source": [
    "* single field index\n",
    " - 한개의 필드에만 인덱스를 생성하는 경우\n",
    " - 방향은 중요하지 않음\n",
    " - db.student.createIndex({'name' : 1}) 이나 db.student.createIndex({'name' : -1})\n",
    " - 위의 두 인덱스 모두, query에 동일한 영향을 미침"
   ]
  },
  {
   "cell_type": "markdown",
   "metadata": {},
   "source": [
    "* compound index\n",
    " - 복수개의 필드에 인덱스 생성 ex) score에도 걸고, name에도 걸고\n",
    " - 인덱스의 순서, 방향이 중요함\n",
    " - 즉, 맨처음 나타나틑 필드를 제외하고는 인덱스의 방향이 중요\n",
    " \n",
    " - 인덱스 방향의 중요성\n",
    "   - createIndex({a : 1, b : -1})로 생성한 경우\n",
    "   - db.x.find({a : 1, b : -1}), db.x.find({a : -1, b : 1}) 의 쿼리만 효과를 봄\n",
    "   - db.x.find({a : 1, b : 1}), db.x.find({a : -1, b : -1}) 의 쿼리는 효과 없음\n",
    "   \n",
    " - prefix\n",
    "   - createIndex({a : 1, b : 1, c : 1, d : 1})로 생성한 경우\n",
    "   - 효과 있는 쿼리\n",
    "     - {a : 1} \n",
    "     - {a : 1, b : 1} \n",
    "     - {a : 1, b : 1, c : 1} \n",
    "     - {a : 1, b : 1, c : 1, d : 1}\n",
    "   - 효과 없는 쿼리\n",
    "     - {a : 1, c : 1}\n",
    "     - {a : 1, b : 1, d : 1}\n",
    "     - {b : 1, c : 1}\n",
    "     - etc..\n",
    " - 즉, prefix를 갖는 인덱스를 중복하여 만들 필요가 없다.\n",
    " - 또한 복합인덱스의 경우 필드의 개수가 31개를 넘을 수 없다.\n",
    "   "
   ]
  },
  {
   "cell_type": "markdown",
   "metadata": {},
   "source": [
    "* text index\n",
    " - https://docs.mongodb.com/manual/reference/operator/query/text/#text-query-operator-behavior\n",
    " - text 필드의 검색을 위한 인덱스\n",
    " - createIndex({field : 'text'})로 생성"
   ]
  },
  {
   "cell_type": "code",
   "execution_count": 2,
   "metadata": {
    "collapsed": false
   },
   "outputs": [
    {
     "ename": "SyntaxError",
     "evalue": "invalid syntax (<ipython-input-2-5abc2ae380d0>, line 13)",
     "output_type": "error",
     "traceback": [
      "\u001b[0;36m  File \u001b[0;32m\"<ipython-input-2-5abc2ae380d0>\"\u001b[0;36m, line \u001b[0;32m13\u001b[0m\n\u001b[0;31m    { _id: 9, subject: \"coffees\", author: \"xyz\", views: 10 },\u001b[0m\n\u001b[0m    ^\u001b[0m\n\u001b[0;31mSyntaxError\u001b[0m\u001b[0;31m:\u001b[0m invalid syntax\n"
     ]
    }
   ],
   "source": [
    "# test data 삽입\n",
    "\n",
    "db.articles.insert(\n",
    "   [\n",
    "     { _id: 1, subject: \"coffee\", author: \"xyz\", views: 50 },\n",
    "     { _id: 2, subject: \"Coffee Shopping\", author: \"efg\", views: 5 },\n",
    "     { _id: 3, subject: \"Baking a cake\", author: \"abc\", views: 90  },\n",
    "     { _id: 4, subject: \"baking\", author: \"xyz\", views: 100 },\n",
    "     { _id: 5, subject: \"Café Con Leche\", author: \"abc\", views: 200 },\n",
    "     { _id: 6, subject: \"Сырники\", author: \"jkl\", views: 80 },\n",
    "     { _id: 7, subject: \"coffee and cream\", author: \"efg\", views: 10 },\n",
    "     { _id: 8, subject: \"Cafe con Leche\", author: \"xyz\", views: 10 }\n",
    "     { _id: 9, subject: \"coffees\", author: \"xyz\", views: 10 },\n",
    "     { _id: 10, subject: \"coffee1\", author: \"xyz\", views: 10 },\n",
    "   ]\n",
    ")\n",
    "\n",
    "# text 인덱스 생성 \n",
    "db.articles.createIndex({'subject' : 'text'})\n",
    "\n",
    "\n",
    "# query (stemmed word 검색)\n",
    "# 기본적으로 대소문자 구별하지 않음\n",
    "db.articles.find({'$text' : {'$search' : 'coffee'}})\n",
    "\n",
    "# 대소문자 구별\n",
    "db.articles.find({'$text' : {'$search' : 'coffee', '$caseSensitive' : true}})\n",
    "\n",
    "# 띄어쓰기 있는 문자열\n",
    "# 각 단어를 검색한 결과를 or로 연결\n",
    "db.articles.find({'$text' : {'$search' : 'coffee cake cream'}})\n",
    "\n",
    "# 매칭 단어 검색\n",
    "# escaped \"를 사용\n",
    "db.articles.find({'$text' : {'$search' : '\\\"coffee and\\\"'}})\n",
    "\n",
    "# 정규표현식\n",
    "db.articles.find({'subject' : {'$regex' : /cof/}})\n",
    "db.articles.find({'subject' : {'$regex' : 'cof.+'}})"
   ]
  },
  {
   "cell_type": "markdown",
   "metadata": {},
   "source": [
    "* index 삭제\n",
    " - db.x.dropIndex({'field' : 1}) 와 같이 생성한 문서 그대로 전달하여 삭제"
   ]
  },
  {
   "cell_type": "markdown",
   "metadata": {},
   "source": [
    "* index 확인\n",
    "  - db.x.getIndexes()로 생성된 인덱스 확인 가능"
   ]
  },
  {
   "cell_type": "raw",
   "metadata": {},
   "source": []
  },
  {
   "cell_type": "markdown",
   "metadata": {},
   "source": [
    "* mongodb aggregation\n",
    "  - 저장되어 있는 복수개의 documents grouping, filtering 등 다양한 연산을 적용하여 계산된 결과를 반환하는 것\n",
    "  - aggregation 파이프라인을 사용\n",
    "  - https://docs.mongodb.com/manual/meta/aggregation-quick-reference/#aggregation-expressions\n",
    "  - e.g) filtering, like operation, transforming\n",
    "  - ![aggregation](https://docs.mongodb.com/v3.2/_images/aggregation-pipeline.png)\n",
    "    이미지 출처 - https://docs.mongodb.com/manual/aggregation/#aggregation-framework"
   ]
  },
  {
   "cell_type": "markdown",
   "metadata": {},
   "source": [
    " * 예제1) 미국 zip code 데이터 이용하기\n",
    "  - http://media.mongodb.org/zips.json\n",
    "  \n",
    "  "
   ]
  },
  {
   "cell_type": "markdown",
   "metadata": {},
   "source": [
    " * 1000만 이상의 state만 가져오기\n",
    "   - group : 문자 그대로 grouping의 역할을 함.\n",
    "   - match : 조건에 맞는 documents만 필터링 함"
   ]
  },
  {
   "cell_type": "markdown",
   "metadata": {},
   "source": [
    " db.zip.aggregate([\n",
    "             {$group : {_id : '$state', totalPop : {$sum : '$pop'}}}, \n",
    "             {$match : {totalPop : {$gte : 10 * 1000 * 1000}}}\n",
    "])"
   ]
  },
  {
   "cell_type": "markdown",
   "metadata": {},
   "source": [
    "* 주별 평균 city 인구 수 구하기"
   ]
  },
  {
   "cell_type": "markdown",
   "metadata": {},
   "source": [
    "db.zip.aggregate([ \n",
    "            { $group: { _id: { state: \"$state\"}, pop: { $sum: \"$pop\" }}}, \n",
    "            { $group: { _id: \"$_id.state\", avgCityPop: { $avg: \"$pop\" }}} \n",
    "] )"
   ]
  },
  {
   "cell_type": "markdown",
   "metadata": {},
   "source": [
    "* 주별 최대, 최소 인구 수 city 구하기\n",
    "  - project : 문서 필드 추가, 삭제 이름 변경 등 각 문서별로 적용"
   ]
  },
  {
   "cell_type": "code",
   "execution_count": null,
   "metadata": {
    "collapsed": true
   },
   "outputs": [],
   "source": [
    "db.zip.aggregate( [\n",
    "   { $group:\n",
    "      {\n",
    "        _id: { state: \"$state\", city: \"$city\" },\n",
    "        pop: { $sum: \"$pop\" }\n",
    "      }\n",
    "   },\n",
    "   { $sort: { pop: 1 } },\n",
    "   { $group:\n",
    "      {\n",
    "        _id : \"$_id.state\",\n",
    "        biggestCity:  { $last: \"$_id.city\" },\n",
    "        biggestPop:   { $last: \"$pop\" },\n",
    "        smallestCity: { $first: \"$_id.city\" },\n",
    "        smallestPop:  { $first: \"$pop\" }\n",
    "      }\n",
    "   },\n",
    "\n",
    "  { $project:\n",
    "    { _id: 0,\n",
    "      state: \"$_id\",\n",
    "      biggestCity:  { name: \"$biggestCity\",  pop: \"$biggestPop\" },\n",
    "      smallestCity: { name: \"$smallestCity\", pop: \"$smallestPop\" }\n",
    "    }\n",
    "  }\n",
    "] )"
   ]
  },
  {
   "cell_type": "markdown",
   "metadata": {},
   "source": [
    "* pymongo aggregation\n",
    "  - 위의 예제들을 그대로 pymongo로 실행"
   ]
  },
  {
   "cell_type": "code",
   "execution_count": 23,
   "metadata": {
    "collapsed": false
   },
   "outputs": [
    {
     "name": "stdout",
     "output_type": "stream",
     "text": [
      "<class 'pymongo.command_cursor.CommandCursor'>\n",
      "{u'_id': u'CA', u'totalPop': 29754890}\n",
      "{u'_id': u'FL', u'totalPop': 12686644}\n",
      "{u'_id': u'PA', u'totalPop': 11881643}\n",
      "{u'_id': u'NY', u'totalPop': 17990402}\n",
      "{u'_id': u'OH', u'totalPop': 10846517}\n",
      "{u'_id': u'IL', u'totalPop': 11427576}\n",
      "{u'_id': u'TX', u'totalPop': 16984601}\n"
     ]
    }
   ],
   "source": [
    "from pymongo import MongoClient\n",
    "mongo = MongoClient(mongo_server, 27017)\n",
    "\n",
    "col = mongo.test.zip\n",
    "\n",
    "'''{$group : {_id : '$state', totalPop : {$sum : '$pop'}}}, \n",
    "   {$match : {totalPop : {$gte : 10 * 1000 * 1000}}}'''\n",
    "\n",
    "pipelines = []\n",
    "pipelines.append({'$group' : {'_id' : '$state', 'totalPop' : {'$sum' : '$pop'}}})\n",
    "pipelines.append({'$match' : {'totalPop' : {'$gte' : 10 * 1000 * 1000}}})\n",
    "\n",
    "result = col.aggregate(pipelines)\n",
    "print type(result)\n",
    "for doc in result:\n",
    "    print doc"
   ]
  },
  {
   "cell_type": "code",
   "execution_count": 24,
   "metadata": {
    "collapsed": true
   },
   "outputs": [
    {
     "name": "stdout",
     "output_type": "stream",
     "text": [
      "<class 'pymongo.command_cursor.CommandCursor'>\n",
      "{u'_id': u'DC', u'avgCityPop': 303450.0}\n",
      "{u'_id': u'DE', u'avgCityPop': 14481.91304347826}\n",
      "{u'_id': u'VT', u'avgCityPop': 2315.8765432098767}\n",
      "{u'_id': u'ME', u'avgCityPop': 3006.4901960784314}\n",
      "{u'_id': u'NJ', u'avgCityPop': 15775.89387755102}\n",
      "{u'_id': u'MT', u'avgCityPop': 2593.987012987013}\n",
      "{u'_id': u'CA', u'avgCityPop': 27756.42723880597}\n",
      "{u'_id': u'KS', u'avgCityPop': 3819.884259259259}\n",
      "{u'_id': u'MO', u'avgCityPop': 5672.195338512764}\n",
      "{u'_id': u'NH', u'avgCityPop': 5232.320754716981}\n",
      "{u'_id': u'OK', u'avgCityPop': 6155.743639921722}\n",
      "{u'_id': u'NE', u'avgCityPop': 3034.882692307692}\n",
      "{u'_id': u'CO', u'avgCityPop': 9981.075757575758}\n",
      "{u'_id': u'NC', u'avgCityPop': 10622.815705128205}\n",
      "{u'_id': u'TX', u'avgCityPop': 13775.02108678021}\n",
      "{u'_id': u'ND', u'avgCityPop': 1645.0309278350514}\n",
      "{u'_id': u'NY', u'avgCityPop': 13131.680291970803}\n",
      "{u'_id': u'NM', u'avgCityPop': 5872.360465116279}\n",
      "{u'_id': u'IL', u'avgCityPop': 9954.334494773519}\n",
      "{u'_id': u'AL', u'avgCityPop': 7907.2152641878665}\n",
      "{u'_id': u'OR', u'avgCityPop': 8262.561046511628}\n",
      "{u'_id': u'MD', u'avgCityPop': 12615.775725593667}\n",
      "{u'_id': u'AR', u'avgCityPop': 4175.355239786856}\n",
      "{u'_id': u'FL', u'avgCityPop': 27400.958963282937}\n",
      "{u'_id': u'MA', u'avgCityPop': 14855.37037037037}\n",
      "{u'_id': u'NV', u'avgCityPop': 18209.590909090908}\n",
      "{u'_id': u'LA', u'avgCityPop': 10465.496277915632}\n",
      "{u'_id': u'ID', u'avgCityPop': 4320.811158798283}\n",
      "{u'_id': u'AZ', u'avgCityPop': 20591.16853932584}\n",
      "{u'_id': u'WY', u'avgCityPop': 3384.5373134328356}\n",
      "{u'_id': u'UT', u'avgCityPop': 9518.508287292818}\n",
      "{u'_id': u'KY', u'avgCityPop': 4767.164721141375}\n",
      "{u'_id': u'OH', u'avgCityPop': 12700.839578454332}\n",
      "{u'_id': u'MN', u'avgCityPop': 5372.21375921376}\n",
      "{u'_id': u'GA', u'avgCityPop': 11547.62210338681}\n",
      "{u'_id': u'IN', u'avgCityPop': 9271.130434782608}\n",
      "{u'_id': u'SD', u'avgCityPop': 1839.6746031746031}\n",
      "{u'_id': u'VA', u'avgCityPop': 8526.177931034483}\n",
      "{u'_id': u'MS', u'avgCityPop': 7524.023391812865}\n",
      "{u'_id': u'HI', u'avgCityPop': 15831.842857142858}\n",
      "{u'_id': u'MI', u'avgCityPop': 12087.512353706112}\n",
      "{u'_id': u'PA', u'avgCityPop': 8679.067202337472}\n",
      "{u'_id': u'WA', u'avgCityPop': 12258.670025188916}\n",
      "{u'_id': u'SC', u'avgCityPop': 11139.626198083068}\n",
      "{u'_id': u'CT', u'avgCityPop': 14674.625}\n",
      "{u'_id': u'WI', u'avgCityPop': 7323.00748502994}\n",
      "{u'_id': u'AK', u'avgCityPop': 2976.4918032786886}\n",
      "{u'_id': u'WV', u'avgCityPop': 2771.4775888717154}\n",
      "{u'_id': u'IA', u'avgCityPop': 3123.0821147356583}\n",
      "{u'_id': u'TN', u'avgCityPop': 9656.350495049504}\n",
      "{u'_id': u'RI', u'avgCityPop': 19292.653846153848}\n"
     ]
    }
   ],
   "source": [
    "mongo = MongoClient(mongo_server, 27017)\n",
    "\n",
    "col = mongo.test.zip\n",
    "\n",
    "'''{ $group: { _id: { state: \"$state\", city: \"$city\" }, pop: { $sum: \"$pop\" }}}, \n",
    "   { $group: { _id: \"$_id.state\", avgCityPop: { $avg: \"$pop\" }}}'''\n",
    "\n",
    "pipelines = []\n",
    "pipelines.append({ '$group': { '_id': { 'state': \"$state\", 'city': \"$city\" }, 'pop': { '$sum': \"$pop\" }}})\n",
    "pipelines.append({ '$group': { '_id': \"$_id.state\", 'avgCityPop': { '$avg': \"$pop\" }}})\n",
    "\n",
    "result = col.aggregate(pipelines)\n",
    "print type(result)\n",
    "for doc in result:\n",
    "    print doc"
   ]
  },
  {
   "cell_type": "code",
   "execution_count": 25,
   "metadata": {
    "collapsed": true
   },
   "outputs": [
    {
     "name": "stdout",
     "output_type": "stream",
     "text": [
      "<class 'pymongo.command_cursor.CommandCursor'>\n",
      "{u'state': u'DE', u'biggestCity': {u'name': u'NEWARK', u'pop': 111674}, u'smallestCity': {u'name': u'BETHEL', u'pop': 108}}\n",
      "{u'state': u'MS', u'biggestCity': {u'name': u'JACKSON', u'pop': 204788}, u'smallestCity': {u'name': u'CHUNKY', u'pop': 79}}\n",
      "{u'state': u'RI', u'biggestCity': {u'name': u'CRANSTON', u'pop': 176404}, u'smallestCity': {u'name': u'CLAYVILLE', u'pop': 45}}\n",
      "{u'state': u'MO', u'biggestCity': {u'name': u'SAINT LOUIS', u'pop': 397802}, u'smallestCity': {u'name': u'BENDAVIS', u'pop': 44}}\n",
      "{u'state': u'GA', u'biggestCity': {u'name': u'ATLANTA', u'pop': 609591}, u'smallestCity': {u'name': u'FORT STEWART', u'pop': 0}}\n",
      "{u'state': u'MN', u'biggestCity': {u'name': u'MINNEAPOLIS', u'pop': 344719}, u'smallestCity': {u'name': u'JOHNSON', u'pop': 12}}\n",
      "{u'state': u'VT', u'biggestCity': {u'name': u'BURLINGTON', u'pop': 39127}, u'smallestCity': {u'name': u'UNIV OF VERMONT', u'pop': 0}}\n",
      "{u'state': u'NM', u'biggestCity': {u'name': u'ALBUQUERQUE', u'pop': 449584}, u'smallestCity': {u'name': u'MONUMENT', u'pop': 0}}\n",
      "{u'state': u'FL', u'biggestCity': {u'name': u'MIAMI', u'pop': 825232}, u'smallestCity': {u'name': u'CECIL FIELD NAS', u'pop': 0}}\n",
      "{u'state': u'AR', u'biggestCity': {u'name': u'LITTLE ROCK', u'pop': 192895}, u'smallestCity': {u'name': u'TOMATO', u'pop': 0}}\n",
      "{u'state': u'CA', u'biggestCity': {u'name': u'LOS ANGELES', u'pop': 2102295}, u'smallestCity': {u'name': u'OREGON HOUSE', u'pop': 0}}\n",
      "{u'state': u'MT', u'biggestCity': {u'name': u'BILLINGS', u'pop': 78805}, u'smallestCity': {u'name': u'MOSBY', u'pop': 7}}\n",
      "{u'state': u'MD', u'biggestCity': {u'name': u'BALTIMORE', u'pop': 733081}, u'smallestCity': {u'name': u'ANNAPOLIS JUNCTI', u'pop': 32}}\n",
      "{u'state': u'CO', u'biggestCity': {u'name': u'DENVER', u'pop': 451182}, u'smallestCity': {u'name': u'CHEYENNE MTN AFB', u'pop': 0}}\n",
      "{u'state': u'PA', u'biggestCity': {u'name': u'PHILADELPHIA', u'pop': 1610956}, u'smallestCity': {u'name': u'HAMILTON', u'pop': 0}}\n",
      "{u'state': u'OR', u'biggestCity': {u'name': u'PORTLAND', u'pop': 518543}, u'smallestCity': {u'name': u'LYONS', u'pop': 0}}\n",
      "{u'state': u'AL', u'biggestCity': {u'name': u'BIRMINGHAM', u'pop': 242606}, u'smallestCity': {u'name': u'ALLEN', u'pop': 0}}\n",
      "{u'state': u'KS', u'biggestCity': {u'name': u'WICHITA', u'pop': 295115}, u'smallestCity': {u'name': u'ARNOLD', u'pop': 0}}\n",
      "{u'state': u'ME', u'biggestCity': {u'name': u'PORTLAND', u'pop': 63268}, u'smallestCity': {u'name': u'BUSTINS ISLAND', u'pop': 0}}\n",
      "{u'state': u'MI', u'biggestCity': {u'name': u'DETROIT', u'pop': 963243}, u'smallestCity': {u'name': u'LELAND', u'pop': 0}}\n",
      "{u'state': u'HI', u'biggestCity': {u'name': u'HONOLULU', u'pop': 396643}, u'smallestCity': {u'name': u'NINOLE', u'pop': 0}}\n",
      "{u'state': u'MA', u'biggestCity': {u'name': u'WORCESTER', u'pop': 169856}, u'smallestCity': {u'name': u'BUCKLAND', u'pop': 16}}\n",
      "{u'state': u'ID', u'biggestCity': {u'name': u'BOISE', u'pop': 165522}, u'smallestCity': {u'name': u'KEUTERVILLE', u'pop': 0}}\n",
      "{u'state': u'LA', u'biggestCity': {u'name': u'NEW ORLEANS', u'pop': 496937}, u'smallestCity': {u'name': u'LAFITTE', u'pop': 0}}\n",
      "{u'state': u'TX', u'biggestCity': {u'name': u'HOUSTON', u'pop': 2095918}, u'smallestCity': {u'name': u'ECLETO', u'pop': 0}}\n",
      "{u'state': u'NC', u'biggestCity': {u'name': u'CHARLOTTE', u'pop': 465833}, u'smallestCity': {u'name': u'GLOUCESTER', u'pop': 0}}\n",
      "{u'state': u'NE', u'biggestCity': {u'name': u'OMAHA', u'pop': 358930}, u'smallestCity': {u'name': u'LAKESIDE', u'pop': 5}}\n",
      "{u'state': u'NV', u'biggestCity': {u'name': u'LAS VEGAS', u'pop': 597557}, u'smallestCity': {u'name': u'TUSCARORA', u'pop': 1}}\n",
      "{u'state': u'AZ', u'biggestCity': {u'name': u'PHOENIX', u'pop': 890853}, u'smallestCity': {u'name': u'HUALAPAI', u'pop': 2}}\n",
      "{u'state': u'DC', u'biggestCity': {u'name': u'WASHINGTON', u'pop': 606879}, u'smallestCity': {u'name': u'PENTAGON', u'pop': 21}}\n",
      "{u'state': u'SC', u'biggestCity': {u'name': u'COLUMBIA', u'pop': 269521}, u'smallestCity': {u'name': u'QUINBY', u'pop': 0}}\n",
      "{u'state': u'WA', u'biggestCity': {u'name': u'SEATTLE', u'pop': 520096}, u'smallestCity': {u'name': u'BENGE', u'pop': 2}}\n",
      "{u'state': u'TN', u'biggestCity': {u'name': u'MEMPHIS', u'pop': 632837}, u'smallestCity': {u'name': u'ALLRED', u'pop': 2}}\n",
      "{u'state': u'WI', u'biggestCity': {u'name': u'MILWAUKEE', u'pop': 597324}, u'smallestCity': {u'name': u'CLAM LAKE', u'pop': 2}}\n",
      "{u'state': u'NH', u'biggestCity': {u'name': u'MANCHESTER', u'pop': 106452}, u'smallestCity': {u'name': u'WEST NOTTINGHAM', u'pop': 27}}\n",
      "{u'state': u'OK', u'biggestCity': {u'name': u'TULSA', u'pop': 389072}, u'smallestCity': {u'name': u'SOUTHARD', u'pop': 8}}\n",
      "{u'state': u'IN', u'biggestCity': {u'name': u'INDIANAPOLIS', u'pop': 348868}, u'smallestCity': {u'name': u'WESTPOINT', u'pop': 145}}\n",
      "{u'state': u'VA', u'biggestCity': {u'name': u'VIRGINIA BEACH', u'pop': 385080}, u'smallestCity': {u'name': u'WALLOPS ISLAND', u'pop': 0}}\n",
      "{u'state': u'SD', u'biggestCity': {u'name': u'SIOUX FALLS', u'pop': 102046}, u'smallestCity': {u'name': u'ZEONA', u'pop': 8}}\n",
      "{u'state': u'WY', u'biggestCity': {u'name': u'CHEYENNE', u'pop': 70185}, u'smallestCity': {u'name': u'LOST SPRINGS', u'pop': 6}}\n",
      "{u'state': u'UT', u'biggestCity': {u'name': u'SALT LAKE CITY', u'pop': 186346}, u'smallestCity': {u'name': u'MODENA', u'pop': 9}}\n",
      "{u'state': u'KY', u'biggestCity': {u'name': u'LOUISVILLE', u'pop': 288058}, u'smallestCity': {u'name': u'BIG LAUREL', u'pop': 0}}\n",
      "{u'state': u'OH', u'biggestCity': {u'name': u'CLEVELAND', u'pop': 536759}, u'smallestCity': {u'name': u'ISLE SAINT GEORG', u'pop': 38}}\n",
      "{u'state': u'NY', u'biggestCity': {u'name': u'BROOKLYN', u'pop': 2300504}, u'smallestCity': {u'name': u'RAQUETTE LAKE', u'pop': 0}}\n",
      "{u'state': u'ND', u'biggestCity': {u'name': u'GRAND FORKS', u'pop': 59527}, u'smallestCity': {u'name': u'TROTTERS', u'pop': 12}}\n",
      "{u'state': u'NJ', u'biggestCity': {u'name': u'NEWARK', u'pop': 275572}, u'smallestCity': {u'name': u'IMLAYSTOWN', u'pop': 17}}\n",
      "{u'state': u'WV', u'biggestCity': {u'name': u'HUNTINGTON', u'pop': 75343}, u'smallestCity': {u'name': u'MOUNT CARBON', u'pop': 0}}\n",
      "{u'state': u'AK', u'biggestCity': {u'name': u'ANCHORAGE', u'pop': 183987}, u'smallestCity': {u'name': u'GRAYLING', u'pop': 0}}\n",
      "{u'state': u'IA', u'biggestCity': {u'name': u'DES MOINES', u'pop': 148155}, u'smallestCity': {u'name': u'DOUDS', u'pop': 15}}\n",
      "{u'state': u'CT', u'biggestCity': {u'name': u'BRIDGEPORT', u'pop': 141638}, u'smallestCity': {u'name': u'EAST KILLINGLY', u'pop': 25}}\n",
      "{u'state': u'IL', u'biggestCity': {u'name': u'CHICAGO', u'pop': 2452177}, u'smallestCity': {u'name': u'ANCONA', u'pop': 38}}\n"
     ]
    }
   ],
   "source": [
    "mongo = MongoClient(mongo_server, 27017)\n",
    "\n",
    "col = mongo.test.zip\n",
    "\n",
    "'''{ $group:\n",
    "      {\n",
    "        _id: { state: \"$state\", city: \"$city\" },\n",
    "        pop: { $sum: \"$pop\" }\n",
    "      }\n",
    "   },\n",
    "   { $sort: { pop: 1 } },\n",
    "   { $group:\n",
    "      {\n",
    "        _id : \"$_id.state\",\n",
    "        biggestCity:  { $last: \"$_id.city\" },\n",
    "        biggestPop:   { $last: \"$pop\" },\n",
    "        smallestCity: { $first: \"$_id.city\" },\n",
    "        smallestPop:  { $first: \"$pop\" }\n",
    "      }\n",
    "   },\n",
    "\n",
    "  { $project:\n",
    "    { _id: 0,\n",
    "      state: \"$_id\",\n",
    "      biggestCity:  { name: \"$biggestCity\",  pop: \"$biggestPop\" },\n",
    "      smallestCity: { name: \"$smallestCity\", pop: \"$smallestPop\" }\n",
    "    }\n",
    "  }'''\n",
    "\n",
    "pipelines = []\n",
    "pipelines.append({ '$group': { '_id': { 'state': \"$state\", 'city': \"$city\" }, 'pop': { '$sum': \"$pop\" }}})\n",
    "pipelines.append({ '$sort': { 'pop': 1 } })\n",
    "pipelines.append({ '$group' : {'_id' : \"$_id.state\", 'biggestCity':  { '$last': \"$_id.city\" }, 'biggestPop' : { '$last': \"$pop\" }, 'smallestCity': { '$first': \"$_id.city\" }, 'smallestPop':  { '$first': \"$pop\" }}})\n",
    "pipelines.append({ '$project' : { '_id' : 0, 'state': \"$_id\", 'biggestCity':  { 'name': \"$biggestCity\",  'pop': \"$biggestPop\" }, 'smallestCity': { 'name': \"$smallestCity\", 'pop': \"$smallestPop\" }}})\n",
    "\n",
    "result = col.aggregate(pipelines)\n",
    "print type(result)\n",
    "for doc in result:\n",
    "    print doc"
   ]
  },
  {
   "cell_type": "markdown",
   "metadata": {},
   "source": [
    "* 연습문제) \n",
    " 0. 위의 예제 1번을 직접 python으로 구현해보세요.\n",
    " 1. import한 restaurant 데이터를 가지고 각 borough 마다 레스토랑이 몇 개있는지 계산하시오.\n",
    " 2. address의 zipcode별로 'Brazilian' 레스토랑이 몇개 있는지 계산하시오.\n",
    " 3. 각자의 데이터에 필요한 aggregation을 진행해보세요. (자유롭게 질문하시면 됩니다.)\n",
    " \n",
    " \n",
    " \n",
    " \n",
    " \n",
    " \n",
    " \n",
    " \n",
    " \n",
    " \n",
    " \n",
    " \n",
    " "
   ]
  }
 ],
 "metadata": {
  "kernelspec": {
   "display_name": "Python 2",
   "language": "python",
   "name": "python2"
  },
  "language_info": {
   "codemirror_mode": {
    "name": "ipython",
    "version": 2
   },
   "file_extension": ".py",
   "mimetype": "text/x-python",
   "name": "python",
   "nbconvert_exporter": "python",
   "pygments_lexer": "ipython2",
   "version": "2.7.13"
  }
 },
 "nbformat": 4,
 "nbformat_minor": 1
}
