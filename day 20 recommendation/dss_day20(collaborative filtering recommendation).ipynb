{
 "cells": [
  {
   "cell_type": "markdown",
   "metadata": {},
   "source": [
    "## 학습목표\n",
    "\n",
    " 1. Recommendation 및 Collaborative Filtering Algorithm의 이해. 협업필터링 -> 너와 비슷한 사람이 이걸 좋아하니까 너도 이걸 좋아할거야\n",
    " 2. Recommendation Engine 구현"
   ]
  },
  {
   "cell_type": "markdown",
   "metadata": {},
   "source": [
    "* Recommendation\n",
    " - Selection, Search로 부터의 한단계 진화\n",
    " - item 개수가 한명의 사용자가 한번에 열람 가능한 경우, 보통 사용자는 본인 기준에 의해 selection 함\n",
    " - item 개수가 많아지면, 사용자는 원하는 query(질의어)로 search를 시도\n",
    " - item 개수도 많고, 원하는 질의(query)가 무엇인지조차 모를 때, recommendation이 매우 유용\n",
    " - Amazon, Netflix 등이 recommendation으로 엄청난 성장을 이룸"
   ]
  },
  {
   "cell_type": "markdown",
   "metadata": {},
   "source": [
    "* Popularity, High Rated Based\n",
    " - 가장 쉽게 인기도, 즉 높은 평점을 갖는 item을 추천 가능\n",
    " - 모두에게 동일한 item이 추천 됨"
   ]
  },
  {
   "cell_type": "markdown",
   "metadata": {},
   "source": [
    "* Personalization (개인화)\n",
    "  - 모두에게 동일한 item이 아닌, 각 개인의 성향에 맞는 item을 추천\n",
    "  - user-item rating으로 Collaborative Filtering Algorithm, Matrix Factorization 등이 사용 됨"
   ]
  },
  {
   "cell_type": "markdown",
   "metadata": {},
   "source": [
    "* Collaborative Filtering\n",
    " - user & item간의 rating을 이용하여, 사용자끼리의 유사도를 찾음\n",
    " - 특정 user와 유사한 사용자들이 남긴 평점을 기반으로 해당 user의 평점을 예측\n",
    "   - explicit 한 평점이 있을 경우에는, 해당 평점을 사용\n",
    "   - 그렇지 않은 경우에는 explicit한 평점으로 변환\n",
    "     - e.g) music domain의 경우에는, user가 해당 음악을 들을 횟수로 평점으로 변환하여 사용\n",
    " - 즉, 해당 user가 해당 item을 얼마나 좋아할 것인지 수치적으로 예측하는 것을 의미\n",
    " - User-User 또는 Item-Item similarity를 이용.\n",
    "   - 일반적으로 recommendation이 필요한 시스템에서는 Item개수가 user를 월등히 능가함\n",
    "   - 각각 User-based CF, Item-based CF라고도 함\n",
    " - Similarity\n",
    "   - cosine, pearson, jaccard 등등 여러 수학적 유사도 계산 방법이 존재\n",
    " - similarity가 높은 사용자 집단에서 각 사용자들이 남긴 평점을 weighted sum으로 계산하여 평점 예측\n",
    " - 또는 해당 사용자의 평균평점을 similarity가 높은 사용자 집단의 weighted 조정평균과 더하여 평점 예측\n",
    " - 문제점\n",
    "   - Cold Start Problem\n",
    "     - 첫 방문한 사용자는 유사한 사용자가 없기 때문에 추천이 되질 않음\n",
    "     - 따라서, Netflix나 Watcha에서는 첫 방문 시, 일정 개수 이상의 영화에 평점을 남기는 것을 유도\n",
    "   - User-Rating sparsity Problem\n",
    "     - 대부분의 사용자는 평점을 잘 남기지 않는 경향이 있음\n",
    "     - 이들에게는 개인화가 어려움, Popularity based 추천을 하기도 함"
   ]
  },
  {
   "cell_type": "markdown",
   "metadata": {},
   "source": [
    " * 연습문제)\n",
    "  1. Highly rated based recommendation engine 구현\n",
    "  2. User based CF recommendation engine 구현\n",
    "  \n",
    "  db schema - rec.sql 참조"
   ]
  }
 ],
 "metadata": {
  "kernelspec": {
   "display_name": "Python 2",
   "language": "python",
   "name": "python2"
  },
  "language_info": {
   "codemirror_mode": {
    "name": "ipython",
    "version": 2
   },
   "file_extension": ".py",
   "mimetype": "text/x-python",
   "name": "python",
   "nbconvert_exporter": "python",
   "pygments_lexer": "ipython2",
   "version": "2.7.13"
  }
 },
 "nbformat": 4,
 "nbformat_minor": 1
}
