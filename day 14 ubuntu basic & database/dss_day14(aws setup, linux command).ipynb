{
 "cells": [
  {
   "cell_type": "markdown",
   "metadata": {},
   "source": [
    "## 학습목표\n",
    "\n",
    " 1. aws instance 띄우기, linux basic 2, program 설치\n",
    " 2. mysql server 설치 및 SQL 기초 실습"
   ]
  },
  {
   "cell_type": "markdown",
   "metadata": {
    "collapsed": true
   },
   "source": [
    "ssh를 이용해 main frame에 접속\n",
    "\n",
    "이제 클라우드로 설명"
   ]
  },
  {
   "cell_type": "markdown",
   "metadata": {},
   "source": [
    " * aws 서버 생성 및 접속하기\n",
    "  - instance 생성\n",
    "  - 서버 접속 (osx, windows)\n",
    "    + os x\n",
    "      - chmod [pem_file]\n",
    "      - ssh -i path/[pemfile] ubuntu@[aws]\n",
    "    + windows (https://docs.aws.amazon.com/AWSEC2/latest/UserGuide/putty.html)\n",
    "      - putty, puttygen download(http://www.chiark.greenend.org.uk/~sgtatham/putty/download.html)\n",
    "      \n",
    " \n",
    " - Web API 작성\n",
    "      \n",
    "      \n",
    "  - Linux basic 2 \n",
    "    + 기본 명령어\n",
    "      - cd             디렉토리 이동\n",
    "      - cat            파일 내용 출력\n",
    "      - ls             파일/디렉토리 열람\n",
    "      파란색이 폴더, 하얀색이 파일\n",
    "      - ls -al         모든 파일을 다 보여달라. 숨김파일까지 다\n",
    "      - pwd            현재 위치 출력\n",
    "      - cp/mv          파일 복사, 이동\n",
    "      - rm/rmdir       파일 디렉토리 삭제\n",
    "      - touch          파일 생성\n",
    "      - mkdir          폴더생성\n",
    "      - history        명령어 히스토리 출력\n",
    "      - ps             실행중인 프로세스 확인\n",
    "      - vi             vi 실행 \n",
    "      \n",
    "      - vi 상에서 shift+4 가 줄 맨뒤로 가는것, shift+6가 맨 앞으로\n",
    "      w는 단어별로 건너가기, b는 단어별로 앞으로 오기\n",
    "      dd는 모두 지우기. 라인 복사는 yy\n",
    "      p는 paste\n",
    "      \n",
    "      \n",
    "      \n",
    "      \n",
    "      - man + 명령어     명령어 도움말 \n",
    "      - 명령어 redirect vs pipeline\n",
    "        + 표준입력 - 키보드, 표준출력 - 콘솔\n",
    "        + cat test.txt > test.py   (표준출력을 파일로 리다이렉션)\n",
    "        + cat test.txt >> test.py  (표준출력을 파일로 리다이렉션, 기존 파일에 추가)\n",
    "        + ps -ef | grep python     (전 명령의 표준출력을 다음 명령의 표준입력으로 지정)\n",
    "      - apt-get install [package_name] package 설치\n",
    "      \n",
    "      \n",
    "  - python 관련 개발 툴 설치\n",
    "    + apt-get 은 ubuntu package manager (osx에서 brew와 같은 역할을 함)\n",
    "    + sudo apt-get update\n",
    "    + sudo apt-get install python-pip\n",
    "    + sudo apt-get install python-dev\n",
    "    + sudo apt-get install cython\n",
    "    + sudo pip install numpy\n",
    "    + sudo pip install pandas\n",
    "    + sudo pip install requests\n",
    "    + sudo pip install bs4\n",
    "    \n",
    "    \n",
    "  - mysql 설치 \n",
    "    - sudo apt-get install mysql-server\n",
    "    - aws console에서 3306 port 열기\n",
    "    - sudo vi /etc/mysql/my.cnf 열고 bind-address 0.0.0.0로 변경\n",
    "    - sudo service mysql restart\n",
    "  \n",
    "    - mysql -uroot -p 후 비밀번호 입력\n",
    "    - GRANT ALL PRIVILEGES ON *.* TO 'root'@'%' IDENTIFIED BY '비밀번호' WITH GRANT OPTION;\n",
    "      모든 권한 부여\n",
    "\n",
    "    \n",
    " \n",
    "  - mongodb 설치\n",
    "    + https://docs.mongodb.com/manual/tutorial/install-mongodb-on-ubuntu/\n",
    "    + sudo apt-key adv --keyserver hkp://keyserver.ubuntu.com:80 --recv EA312927\n",
    "    + echo \"deb http://repo.mongodb.org/apt/ubuntu trusty/mongodb-org/3.2 multiverse\" | sudo tee /etc/apt/sources.list.d/mongodb-org-3.2.list\n",
    "    + sudo apt-get update\n",
    "    + sudo apt-get install -y mongodb-org\n",
    "    + AWS console에서 Inbound port 27017 열기\n",
    "    + .bashrc에 export LC_ALL=C 추가\n",
    "    + sudo vi /etc/mongod.conf bindIP 127.0.0.1 -> 0.0.0.0으로 변경\n",
    "    + sudo service mongod restart\n",
    "          \n",
    "      \n",
    "  - crontab 사용법\n",
    "    + cron 파일 위치 (/etc/crontab)\n",
    "      - m h dom mon dow user command (분, 시각, 일, 월, 요일, 사용자, 명령어)\n",
    "      - 30 09 10 06 * ubuntu python test.py       6월 10일 9시 30분에 실행\n",
    "      - 00 11,16 * * * ubuntu python test.py      매일 11시, 16시에 실행\n",
    "      - 00 09-18 * * 1-5 ubuntu python test.py    월-금 9시, 10시...18시에 실행\n",
    "      - 00/10 * * * *    ubuntu python test.py     10분마다 실행\n",
    "      \n",
    "    \n",
    "  - tmux 사용법\n",
    "    + tmux new -s [session]  새로운 세션 생성\n",
    "    + tmux attach -t [session] 세션에 접속\n",
    "    + tmux ls 현재 실행중인 세션 나열\n",
    "    \n",
    "    + ctrl + b, c - 세션 새 윈도우 생성\n",
    "    + ctrl + b, w - 세션 윈도우 리스트로 이동\n",
    "    + ctrl + b, , - 윈도우 이름 변경\n",
    "    + ctrl + b, [ - 윈도우 스크롤링\n",
    "    + ctrl + b, & - 윈도우 삭제\n",
    "    \n",
    "    * tmux script 작성\n",
    "      + tmux send -t [session]:[no] \"command\" ENTER\n",
    "      + e.g)\n",
    "       + tmux send -t dev:7 \"python /home/dev/test.py\" ENTER\n",
    "       \n",
    "       \n",
    "  - vi에서 한글 작성 중 한글이 깨져보일 시\n",
    "    - sudo apt-get install language-pack-ko\n",
    "    - sudo locale-gen ko_KR.UTF-8\n",
    "    - sudo dpkg-reconfigure locales\n",
    "    + vi ~/.vimrc 에서 아래 두 줄 추가  \n",
    "      - set encoding=utf-8\n",
    "      - set fileencodings=utf-8,euckr\n"
   ]
  },
  {
   "cell_type": "code",
   "execution_count": null,
   "metadata": {
    "collapsed": true
   },
   "outputs": [],
   "source": []
  },
  {
   "cell_type": "markdown",
   "metadata": {},
   "source": [
    "* 서버에 파일 전송\n",
    " - OSX : scp 명령어 이용\n",
    "   + scp -i [pem] [file_to_be_copied]  ubuntu@[server_ip]:[path]\n",
    "   + e.g) scp -i Downloads/dss_server.pem Desktop/dss/week6/primer-dataset.json  ubuntu@ec2-54-191-110-146.us-west-2.compute.amazonaws.com:/home/ubuntu\n",
    " - Widnows : winscp 이용 (http://winscp.net/eng/download.php)\n",
    "   + ppk 파일 설정 (http://jinpyolab.tistory.com/75)\n",
    "   + GUI를 이용하여 파일 복사"
   ]
  },
  {
   "cell_type": "code",
   "execution_count": null,
   "metadata": {
    "collapsed": true
   },
   "outputs": [],
   "source": []
  },
  {
   "cell_type": "markdown",
   "metadata": {},
   "source": [
    "* mysqlworkbench \n",
    " - mysql 클라이언트\n",
    " - query 질의, 데이터 추가, 변형, 삭제 가능\n",
    " - https://dev.mysql.com/downloads/workbench/ 에서 workbench download"
   ]
  },
  {
   "cell_type": "code",
   "execution_count": null,
   "metadata": {
    "collapsed": true
   },
   "outputs": [],
   "source": []
  },
  {
   "cell_type": "markdown",
   "metadata": {},
   "source": [
    " * Relational Database\n",
    "   - 키와 값들의 관계를 테이블화 한 데이터 저장공간\n",
    "   - 기본적으로 spreadsheet(table) 이지만, 데이터 이외에도 table 사이의 관계를 명시하여 관계 설정 가능\n",
    "  \n",
    "  \n",
    " * SQL (Structured Query Language)\n",
    "   - Relational Database에 질의할 수 있는 문법을 갖춘 언어\n",
    "   - 보통 query라고 함"
   ]
  },
  {
   "cell_type": "markdown",
   "metadata": {},
   "source": [
    "* mysql 실습 데이터 다운로드\n",
    "  - https://dev.mysql.com/doc/index-other.html\n",
    "  - word database zip 파일 다운로드"
   ]
  },
  {
   "cell_type": "markdown",
   "metadata": {},
   "source": []
  },
  {
   "cell_type": "markdown",
   "metadata": {},
   "source": [
    "* 테이블 생성"
   ]
  },
  {
   "cell_type": "raw",
   "metadata": {},
   "source": [
    " - Create table [table_name] (fields...)\n",
    " - 예시)\n",
    " CREATE TABLE MyGuests ( # MyGuests 라는 테이블 생성\n",
    "    id INT(6) UNSIGNED AUTO_INCREMENT PRIMARY KEY, # id 필드는 정수형의 primary key, 자동증가 \n",
    "    firstname VARCHAR(30) NOT NULL,                # firstname 필드는 문자열30 글자, null 허용 안함\n",
    "    lastname VARCHAR(30) NOT NULL,                 # lastname 필드는 문자열30 글자, null 허용 안함\n",
    "    email VARCHAR(50),                             # email 필드는 문자열50 글자\n",
    "    reg_date TIMESTAMP                             # reg_date 필드는 TIMESTAMP타입\n",
    " )"
   ]
  },
  {
   "cell_type": "code",
   "execution_count": null,
   "metadata": {
    "collapsed": true
   },
   "outputs": [],
   "source": []
  },
  {
   "cell_type": "markdown",
   "metadata": {},
   "source": [
    "* CRUD operation\n",
    " - create, read, update, delete"
   ]
  },
  {
   "cell_type": "code",
   "execution_count": null,
   "metadata": {
    "collapsed": true
   },
   "outputs": [],
   "source": []
  },
  {
   "cell_type": "markdown",
   "metadata": {},
   "source": [
    "* select 문\n",
    " - SQL의 기본, database로부터 data를 가져옴.\n",
    " - select * from [table];\n",
    " - select * from [table] where [condition];"
   ]
  },
  {
   "cell_type": "markdown",
   "metadata": {},
   "source": [
    "* insert into 문\n",
    "  - 데이터 삽입\n",
    "  - INSERT INTO [table] VALUES (value1,value2,value3,...);"
   ]
  },
  {
   "cell_type": "markdown",
   "metadata": {},
   "source": [
    "* update 문\n",
    "  - 데이터 변경\n",
    "  - UPDATE [table] SET column1=value1,column2=value2,...WHERE some_column=some_value;"
   ]
  },
  {
   "cell_type": "markdown",
   "metadata": {},
   "source": [
    "* delete 문\n",
    "  - delete from [table] where [condition]"
   ]
  },
  {
   "cell_type": "markdown",
   "metadata": {},
   "source": []
  },
  {
   "cell_type": "markdown",
   "metadata": {},
   "source": [
    "* world databse query 실습"
   ]
  },
  {
   "cell_type": "code",
   "execution_count": null,
   "metadata": {
    "collapsed": true
   },
   "outputs": [],
   "source": []
  }
 ],
 "metadata": {
  "kernelspec": {
   "display_name": "Python 2",
   "language": "python",
   "name": "python2"
  },
  "language_info": {
   "codemirror_mode": {
    "name": "ipython",
    "version": 2
   },
   "file_extension": ".py",
   "mimetype": "text/x-python",
   "name": "python",
   "nbconvert_exporter": "python",
   "pygments_lexer": "ipython2",
   "version": "2.7.13"
  }
 },
 "nbformat": 4,
 "nbformat_minor": 1
}
