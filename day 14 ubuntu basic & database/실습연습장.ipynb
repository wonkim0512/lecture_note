{
 "cells": [
  {
   "cell_type": "markdown",
   "metadata": {
    "collapsed": true
   },
   "source": [
    "# 2월10일\n",
    "- aws 이거만 잘쓰려해도 1년 걸린다. \n"
   ]
  },
  {
   "cell_type": "code",
   "execution_count": 9,
   "metadata": {
    "collapsed": true
   },
   "outputs": [],
   "source": [
    "from selenium import webdriver"
   ]
  },
  {
   "cell_type": "code",
   "execution_count": 10,
   "metadata": {
    "collapsed": false
   },
   "outputs": [
    {
     "ename": "SyntaxError",
     "evalue": "invalid syntax (<ipython-input-10-c3b008a9b29f>, line 2)",
     "output_type": "error",
     "traceback": [
      "\u001b[0;36m  File \u001b[0;32m\"<ipython-input-10-c3b008a9b29f>\"\u001b[0;36m, line \u001b[0;32m2\u001b[0m\n\u001b[0;31m    많은 서비스들이 있다.\u001b[0m\n\u001b[0m    ^\u001b[0m\n\u001b[0;31mSyntaxError\u001b[0m\u001b[0;31m:\u001b[0m invalid syntax\n"
     ]
    }
   ],
   "source": [
    "# compute EC2 를 쓴다. \n",
    "많은 서비스들이 있다. \n",
    "러닝 인스턴스 서버 Launch Instance 서버를 띄운다. \n",
    "커널 - I/O   , Files, Scheduling 이런걸 커널이라 한다. \n",
    "Linux는 커널이고\n",
    "Ubuntu 는 배포판이다. \n",
    "옛날에 Fedora, Redhat, Centos , AMI, OSX\n",
    "리눅스가 유닉스를 거의 따라만듦\n",
    "\n",
    "서버로 많d이 쓰는게 ubuntu/ CentOS이다. \n",
    "ubuntu 클릭 \n",
    "그 다음은 서버의 타입이다.(Instance Type)\n",
    "t2.micro\n",
    "review and luanch 를 누른다. \n",
    "Launch를 누른다. \n",
    "create a new key pair를 누른다. \n",
    "이 키를 꼭 알아야 한다. 이거 모르면 서버를 버려야 한다. \n",
    "jjm_key\n",
    "파일 받은거 절대로 잃어버리면 안된다. 이 파일을 이용해서 서버에 접속한다. \n",
    "그리고 지금밖에 생성하지 못한다\n",
    "아마존 데이터웨어하우스 어딘가에서 돌고있을 것이다. \n",
    "\n",
    "이제 서버에 접속해야 한다. \n",
    "aws접속\n",
    "puttygen 은 pem 파일을 읽지 못하기 때문에 한번만 다운받으면 된다. \n",
    "load\n",
    "save private key\n",
    "그러면 ppk파일 생긴다. \n",
    "앞으로 접속할때는 ppk만 필요하다 다른기기에서 쓰려면 pem도 필요하다\n",
    "aws management에 가면 서버 ip주소 알수있다. \n",
    "\n",
    "public dns가 서버 주소이다. \n",
    "키를 집어넣는다\n",
    "connection 에 auth 에 들어간다.  제일밑에 Browse한다. \n",
    "\n"
   ]
  },
  {
   "cell_type": "code",
   "execution_count": 11,
   "metadata": {
    "collapsed": false
   },
   "outputs": [
    {
     "ename": "SyntaxError",
     "evalue": "invalid syntax (<ipython-input-11-3b803b58f603>, line 1)",
     "output_type": "error",
     "traceback": [
      "\u001b[0;36m  File \u001b[0;32m\"<ipython-input-11-3b803b58f603>\"\u001b[0;36m, line \u001b[0;32m1\u001b[0m\n\u001b[0;31m    아마존이 초기에 예측을 못해서 서버를 엄청 많이 만들어놨다.\u001b[0m\n\u001b[0m    ^\u001b[0m\n\u001b[0;31mSyntaxError\u001b[0m\u001b[0;31m:\u001b[0m invalid syntax\n"
     ]
    }
   ],
   "source": [
    "아마존이 초기에 예측을 못해서 서버를 엄청 많이 만들어놨다. \n",
    "놀고있는 서버들이 엄청 많았다. => aws만들자\n",
    "Mac 은 alias 이용\n",
    "source .bash_profile\n",
    "ls -al\n",
    "기본적으로 .붙은 파일은 숨김파일이다. => ls -al 해야지 다 보인다. \n",
    "drwxr-xr-x 뭐 이런거에서 제일앞에 d는 폴더이다. \n",
    "chmod 체인지모드\n",
    "root / 사용자 그룹/ 사용자\n",
    "rwx rwx rwx\n",
    "root 그룹 사용자\n",
    "chmod 777 다 된다. \n",
    "r-4 w-2 x-1\n",
    "chmod 400 root만 권한이 있는거\n",
    "어떤 파일 안되면 권한을 봐라 .\n",
    "775는 root랑 그룹은 다 할수 있는데 사용자만 rx가 되는것이다. \n",
    "\n",
    "ls --help\n",
    "man ls   메뉴얼\n",
    "cat 같은 거 궁금하면 man cat\n",
    ". 현재\n",
    ".. 부모\n",
    "\n",
    "부모의 부모는 cd ../..\n",
    "cd /home/ubuntu/test 하면 경로에 바로간다. \n",
    "rm -rf 파일명 \n",
    "rmdir 파일명\n",
    "rm -rf /  절대 하면 안된다. \n",
    "\n",
    "cd ~ 하면 항상 home으로 간다. \n",
    "cd / 는 제일 최상위로 간다. \n",
    "\n",
    "\n",
    " "
   ]
  },
  {
   "cell_type": "code",
   "execution_count": null,
   "metadata": {
    "collapsed": true
   },
   "outputs": [],
   "source": [
    "winSCP\n",
    "새사이트\n",
    "프로토콜 SCP \n",
    "\n",
    "shift $ 하면 제일 뒤로가고\n",
    "shift ^ 하면 제일 앞으로 간다. \n",
    "\n",
    "w누르면 앞으로 b누르면 뒤로 단어별로 간다. \n",
    "\n",
    "yy누르면 커서 있는줄 복사된다. \n",
    "p를 누르면 paste한다. \n",
    "dd누르면 삭제\n",
    "검색하고 싶을때 /를 누르면 검색가능하다. \n",
    "그리고 n을 누르면 다음 거로 간다. \n",
    "대문자 N은앞으로 간다. \n",
    "입력\n",
    "i를 누르면 t앞에 생긴다. a를 누르면 커서가 하나 이동한다. t바로 뒤에부터 쓴다. \n"
   ]
  },
  {
   "cell_type": "code",
   "execution_count": null,
   "metadata": {
    "collapsed": true
   },
   "outputs": [],
   "source": [
    "cat 은 출력으로 나온다. \n",
    "간단하게 보고싶을때는 cat을 쓴다. \n",
    "cat + 파일명 => 표준출력으로 나온다. 화면\n",
    "\n",
    "표준입력 : 키보드 \n",
    "표준출력: 콘솔\n",
    "cat test5 > test6 copy랑 동일하다. \n",
    "\n",
    "ls -al > lsresult.txt 이렇게 하면 파일로 저장된다. \n",
    ">> 도 있다. redirection \n",
    ">> 는 단순히 append이다. \n",
    "\n",
    "| \n",
    "pipline 명령어들을 계속 연결해준다. \n",
    "이 명령어의 출력을 다음 명령어의 입력으로 전달해라 \n",
    "뭐 이런뜻이다. \n",
    "\n",
    " ps 시행중인 프로세스를 다 띄운다. \n",
    "ps -ef 하면 전체 보여준다.\n",
    "ps -ef | grep ssh \n",
    "\n",
    "ls -al | grep test => test가 들어간것만 출력한다. \n",
    "\n",
    "apt-get 이란 명령어 ubuntu\n",
    "apt-get install 소프트웨어명렁어\n",
    "apt-get update 를 해서 다 최신버전으로 한다. \n",
    "\n",
    "기본적으로 web서버는 80번\n",
    "머신에 하는게 아니라 머신에 있는 port에 접속하는 것이다. \n",
    "ssh는 22번이고\n",
    "mysql 3306\n",
    "port 는 16비트 65000개 가능\n",
    "0-1024는 이미 되어져 있어서 웬만하면 다른거를 사용한다. \n",
    "\n",
    "127.0.0.1  이건 내거라서\n",
    "\n",
    "\n",
    "\n",
    "/~ vi test.py\n",
    "/~ vi /test.py      => / root경로이다. home에 생긴다. \n",
    "\n",
    "\n",
    "sudo service mysql restart\n",
    "\n",
    "sudo service mysql status 서버 확인 가능\n",
    "q로 나간다. \n",
    "\n",
    "mysql -uroot p\n",
    "GRANT ALL PRIVILEGES ON *.* TO 'root'@'%' IDENTIFIED BY 'root' WITH GRANT OPTION;"
   ]
  },
  {
   "cell_type": "code",
   "execution_count": null,
   "metadata": {
    "collapsed": true
   },
   "outputs": [],
   "source": [
    "aws 에 가서 포트 22번쓰겠다 말해야 한다. \n",
    "서버는 amazon이 관리하기 때문에 기본적으로 다 port를 막기 때문에 aws console에 가서 열어주면 된다. \n",
    "amazon console에 security groups에 들어간다. 바로 옆에 링크 클릭\n",
    "inbound 들어오는거 \n",
    "우리가 할건 inbouond\n",
    "편집은 edit\n",
    "add rule\n",
    "\n",
    "3306 하고 0.0.0.0/0\n",
    "\n",
    "여러가지 설치할텐데 다 해주면된다. \n",
    "\n"
   ]
  },
  {
   "cell_type": "code",
   "execution_count": null,
   "metadata": {
    "collapsed": true
   },
   "outputs": [],
   "source": []
  },
  {
   "cell_type": "code",
   "execution_count": null,
   "metadata": {
    "collapsed": true
   },
   "outputs": [],
   "source": [
    "aws에 mysql 서버를 만든 것.\n",
    "데이터가 없으니까 연습용으로 world 데이터 받아서 실습\n",
    "\n",
    "sql 작성한 쿼리를 서버에 보내고 다시 받아본다. \n",
    "서버만 돌고 있으면 putty는 연결 안되어있어도 됨.\n",
    "aws 저장용량 약 8gb\n",
    "\n",
    "램과 하드의 차이.-> 노트필기 확인\n",
    "\n",
    "world가 bold로 나오고 있다는건 무슨 뜻?\n",
    "rdb는 관계가 테이블이다. 테이블 간 관계를 연결, 묶고, 활용하는게 rdb\n",
    "rdb에 질의하는 언어가 sql(구조화된 질의 언어)\n",
    "\n",
    "rdb 프로그램인 dbms는 mysql, oracle, ms-sql 등이 있음\n",
    "\n",
    "\n",
    "\n",
    "table이름 오른쪽 스패너 표시 클릭 - indexes에서 내가 설정한 index들 볼 수 있음.\n",
    "\n",
    "db에서 가공할 수 있는 것은 최대한 db에서 하는 것이 좋다. 파이썬에서 동적으로 하지말고.\n"
   ]
  }
 ],
 "metadata": {
  "kernelspec": {
   "display_name": "Python 2",
   "language": "python",
   "name": "python2"
  },
  "language_info": {
   "codemirror_mode": {
    "name": "ipython",
    "version": 2
   },
   "file_extension": ".py",
   "mimetype": "text/x-python",
   "name": "python",
   "nbconvert_exporter": "python",
   "pygments_lexer": "ipython2",
   "version": "2.7.13"
  }
 },
 "nbformat": 4,
 "nbformat_minor": 2
}
