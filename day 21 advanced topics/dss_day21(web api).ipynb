{
 "cells": [
  {
   "cell_type": "markdown",
   "metadata": {
    "collapsed": true
   },
   "source": [
    "# 학습목표\n",
    " 1. flask를 이용한 REST API(GET, POST)실습\n",
    " 2. 데이터분석 결과 REST API로 생성\n"
   ]
  },
  {
   "cell_type": "markdown",
   "metadata": {},
   "source": [
    "* flask module\n",
    " - http://flask.pocoo.org/\n",
    " - micro-framework for python\n",
    " - jinja2 html template을 이용하여 rendering"
   ]
  },
  {
   "cell_type": "code",
   "execution_count": 19,
   "metadata": {
    "collapsed": false
   },
   "outputs": [],
   "source": [
    "from flask import Flask\n",
    "\n",
    "# flask 객체 생성\n",
    "app = Flask(__name__)"
   ]
  },
  {
   "cell_type": "markdown",
   "metadata": {},
   "source": [
    "* plain text serving\n",
    " - 단순 텍스트를 반환"
   ]
  },
  {
   "cell_type": "code",
   "execution_count": null,
   "metadata": {
    "collapsed": true
   },
   "outputs": [],
   "source": [
    "# /txt_test url과 함수를 연결하는 decorator\n",
    "@app.route('/txt_test')\n",
    "def hello_plain():\n",
    "    return 'plain text'"
   ]
  },
  {
   "cell_type": "markdown",
   "metadata": {},
   "source": [
    "* json serving\n",
    " - json 형식으로 반환\n",
    " - API에서 가장 많이 사용되는 형태"
   ]
  },
  {
   "cell_type": "code",
   "execution_count": 20,
   "metadata": {
    "collapsed": true
   },
   "outputs": [],
   "source": [
    "from flask import jsonify\n",
    "\n",
    "@app.route('/json_test')\n",
    "def hello_json():\n",
    "    data = {'name' : 'Aaron', 'family' : 'Byun'}\n",
    "    return jsonify(data)"
   ]
  },
  {
   "cell_type": "markdown",
   "metadata": {},
   "source": [
    "* html serving\n",
    " - 일반적인 웹페이지에 접속하는 과정이라고 생각하면 됨\n",
    " - 서버는 요청을 받아, 적절한 처리를 한뒤 html을 반환함"
   ]
  },
  {
   "cell_type": "code",
   "execution_count": 21,
   "metadata": {
    "collapsed": true
   },
   "outputs": [],
   "source": [
    "@app.route('/html_test')\n",
    "def hello_html():\n",
    "    # html file은 templates 폴더에 위치해야 함\n",
    "    return render_template('simple.html')"
   ]
  },
  {
   "cell_type": "raw",
   "metadata": {},
   "source": [
    "/templates/simple.html\n",
    "\n",
    "<html>\n",
    "  <head>\n",
    "    <title>Simple page</title>\n",
    "  </head>\n",
    "  <body>\n",
    "    <div id='main'>\n",
    "      <h3> This is a title </h3>\n",
    "      <p>\n",
    "        This is a content\n",
    "      </p>\n",
    "    </div>\n",
    "  </body>\n",
    "</html>\n"
   ]
  },
  {
   "cell_type": "markdown",
   "metadata": {},
   "source": [
    "* html template\n",
    " - jinja2 engine을 사용\n",
    " - {{}} 일반 값\n",
    " - {% for %} {% endfor %} 반복문\n",
    " - {% if %} {% elif %} {% else %} {% endif %} 조건문\n",
    " - simple2.html, app.py 참조 "
   ]
  },
  {
   "cell_type": "code",
   "execution_count": null,
   "metadata": {
    "collapsed": true
   },
   "outputs": [],
   "source": []
  },
  {
   "cell_type": "markdown",
   "metadata": {},
   "source": [
    "* post method\n",
    " - crawling시, POST 요청으로 받는 url은 아래와 같이 구현됨\n",
    " - request.form dict를 이용하여 parameter 추출 가능"
   ]
  },
  {
   "cell_type": "code",
   "execution_count": 22,
   "metadata": {
    "collapsed": true
   },
   "outputs": [],
   "source": [
    "from flask import request\n",
    "\n",
    "# POST임을 명시\n",
    "@app.route('/register', methods=['POST'])\n",
    "def register():\n",
    "    \n",
    "    # post parameter 가져오기\n",
    "    username = request.form['username']\n",
    "    password = request.form['password']\n",
    "    \n",
    "    return username"
   ]
  },
  {
   "cell_type": "code",
   "execution_count": null,
   "metadata": {
    "collapsed": true
   },
   "outputs": [],
   "source": []
  },
  {
   "cell_type": "markdown",
   "metadata": {},
   "source": [
    "* konlpy 모듈\n",
    " - 한글 NLP(자연어 처리) 모듈\n",
    " - http://konlpy.org/en/v0.4.4/\n",
    " \n",
    "* 설치 안내 \n",
    " - http://konlpy.org/en/v0.4.4/install/\n",
    " - mac에서 실행 시, Unable to load DLL 에러 발생 시 아래 링크 참고\n",
    " - https://github.com/konlpy/konlpy/issues/76\n",
    " \n",
    "* 품사 (POS, part-of-speech) 비교표\n",
    " - https://docs.google.com/spreadsheets/d/1OGAjUvalBuX-oZvZ_-9tEfYD2gQe7hTGsgUpiiBSXI8/edit#gid=0\n",
    " \n",
    "* 형태소 (morph)\n",
    " - 언어에서 의미적으로 더이상 쪼갤 수 없는 가장 작은 단위"
   ]
  },
  {
   "cell_type": "code",
   "execution_count": 13,
   "metadata": {
    "collapsed": true
   },
   "outputs": [
    {
     "name": "stdout",
     "output_type": "stream",
     "text": [
      "[안녕하세요,\n",
      " 좋은 아침 입니다,\n",
      " 식사는 하셨어요?,\n",
      " 이따가 만납시다]\n",
      "[안녕, 아침, 식사]\n",
      "[(안녕, NNG),\n",
      " (하, XSV),\n",
      " (세요, EFN),\n",
      " (좋, VA),\n",
      " (은, ETD),\n",
      " (아침, NNG),\n",
      " (이, VCP),\n",
      " (ㅂ니다, EFN),\n",
      " (식사, NNG),\n",
      " (는, JX),\n",
      " (하, VV),\n",
      " (시, EPH),\n",
      " (었, EPT),\n",
      " (어요, EFN),\n",
      " (?, SF),\n",
      " (이따가, MAG),\n",
      " (만나, VV),\n",
      " (ㅂ시다, EFA)]\n",
      "[안녕,\n",
      " 하,\n",
      " 세요,\n",
      " 좋,\n",
      " 은,\n",
      " 아침,\n",
      " 이,\n",
      " ㅂ니다,\n",
      " 식사,\n",
      " 는,\n",
      " 하,\n",
      " 시,\n",
      " 었,\n",
      " 어요,\n",
      " ?,\n",
      " 이따가,\n",
      " 만나,\n",
      " ㅂ시다]\n",
      "[아침, 식사]\n",
      "[안녕, 아침, 식사]\n",
      "['__doc__', '__init__', '__module__', 'jki', 'morphs', 'nouns', 'phrases', 'pos', 'tagset']\n"
     ]
    }
   ],
   "source": [
    "from konlpy.tag import Kkma, Hannanum, Komoran, Twitter\n",
    "from konlpy.utils import pprint\n",
    "\n",
    "kkma = Kkma()\n",
    "hann = Hannanum()\n",
    "komoran = Komoran()\n",
    "twitter = Twitter()\n",
    "\n",
    "ustr = u'안녕하세요 좋은 아침 입니다 식사는 하셨어요? 이따가 만납시다'\n",
    "\n",
    "# 문장 단위 분리\n",
    "pprint(kkma.sentences(ustr))\n",
    "\n",
    "# 명사 추출\n",
    "pprint(kkma.nouns(ustr))\n",
    "\n",
    "# POS(Part Of Speech) 태깅\n",
    "pprint(kkma.pos(ustr))\n",
    "\n",
    "# 형태소 추출\n",
    "pprint(kkma.morphs(ustr))\n",
    "\n",
    "pprint(twitter.nouns(ustr))\n",
    "pprint(hann.nouns(ustr))\n",
    "\n",
    "print dir(twitter)\n"
   ]
  },
  {
   "cell_type": "code",
   "execution_count": null,
   "metadata": {
    "collapsed": true
   },
   "outputs": [],
   "source": []
  },
  {
   "cell_type": "markdown",
   "metadata": {
    "collapsed": true
   },
   "source": [
    "* 연습문제) \n",
    " 1. 회원 가입 기능 구현\n",
    " 2. 로그인 기능 구현\n",
    " 3. 뉴스 검색 페이지 / API 구현(키워드 검색)\n",
    "   - 해당 키워드를 포함하는 뉴스를 반환하는 페이지와 API 구현\n",
    "   - 성능 향상을 위한 참고자료 https://docs.mongodb.com/v3.4/core/index-text/\n",
    " 4. 실시간 / 배치 유사 뉴스 찾기 기능 구현\n",
    "   - 실시간(real-time) : 요청이 오는 즉시 프로세싱하여 결과를 반환(느림, 최신정보 반영 가능)\n",
    "   - 배치(batch)      : 주기적으로 결과를 생성하여 요청이 오면 해당 시점의 결과를 반환(빠름, 다소 정보 누락이 있을 수 있음)\n",
    "   - 유사 뉴스 찾기\n",
    "      - 단어(여기서는 간단히 하기 위해 명사) 벡터를 만들어 각각 다른 뉴스와 similarity 계산 후(cosine), 가장 높은 것을 반환\n",
    " 5. 뉴스 컨텐츠 요약 기능 구현\n",
    "   - 각 문서에서 핵심 키워드 몇개를 찾고, 핵심 키워드를 포함하는 횟수에 따라 문장 스코어링 후, 낮은 스코어의 문장을 버림\n",
    " 6. 뉴스 카테고리 분류기 구현\n",
    "   - 전체 문서 집합 단어에 대해, feature vector를 만들어 모델링"
   ]
  }
 ],
 "metadata": {
  "kernelspec": {
   "display_name": "Python 2",
   "language": "python",
   "name": "python2"
  },
  "language_info": {
   "codemirror_mode": {
    "name": "ipython",
    "version": 2
   },
   "file_extension": ".py",
   "mimetype": "text/x-python",
   "name": "python",
   "nbconvert_exporter": "python",
   "pygments_lexer": "ipython2",
   "version": "2.7.13"
  }
 },
 "nbformat": 4,
 "nbformat_minor": 2
}
