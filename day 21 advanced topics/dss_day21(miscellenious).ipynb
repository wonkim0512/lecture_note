{
 "cells": [
  {
   "cell_type": "markdown",
   "metadata": {
    "collapsed": true
   },
   "source": [
    "## 학습목표\n",
    "\n",
    " * unittest 이해 및 실습\n",
    " * pickle 모듈 이해 및 실습\n",
    " * argparse 모듈 이해 및 실습"
   ]
  },
  {
   "cell_type": "markdown",
   "metadata": {},
   "source": [
    " * Unit Test\n",
    "   - 모듈 혹은 함수 단위의 자동화 된 코드 레벨 테스트\n",
    "   - unit test의 경우 I/O, network, db 접속을 최소화 하여 테스트\n",
    "   - 위의 사항을 테스트 하는 경우는 functional, integration, stress test 등으로 진행. \n",
    "   - TDD(Test Driven Development)의 기본개념으로, 테스트 케이스를 먼저 작성 함\n",
    "  "
   ]
  },
  {
   "cell_type": "markdown",
   "metadata": {},
   "source": [
    "* QA(Quality Assurance)가 우리나라에서는 무시받는 경향이 있다.\n",
    "하지만 미국 등에서는 SDET. Software Development Engineering Test. 가 오히려 연봉도 더 높다"
   ]
  },
  {
   "cell_type": "markdown",
   "metadata": {},
   "source": [
    "* unittest \n",
    " - 내장 unittest module \n",
    " - JUnit의 python version\n",
    " - unittest.TestCase를 상속받아 구현\n",
    " - test 접두사로 시작하는 method에 한해 test 실행\n",
    " - setUp\n",
    "   - test를 준비. 테스트 실행하기 전 호출\n",
    " - tearDown\n",
    "   - test 메소드가 실행되고 난 후 호출\n",
    " \n",
    "* unittest 실행 방법\n",
    " - python file.py\n",
    " - python file.py -v (실행되는 함수 열람)\n",
    " - python -m unittest file file2 (한꺼번에 여러개의 unittest 실행)"
   ]
  },
  {
   "cell_type": "markdown",
   "metadata": {},
   "source": [
    "### TDD(Test Driven Development)\n",
    "\n",
    "test를 먼저 만든 후 기능을 구현하는 것"
   ]
  },
  {
   "cell_type": "code",
   "execution_count": null,
   "metadata": {
    "collapsed": true
   },
   "outputs": [],
   "source": []
  },
  {
   "cell_type": "markdown",
   "metadata": {},
   "source": [
    "* 연습문제) \n",
    " 1. email 정규표현식을 만든다고 할 때, test case를 만들어보세요.\n",
    " 2. 정렬함수를 만든다고 할 때, test case를 만들어보세요.\n",
    " 3. numpy intersect1d의 test case를 만들어보세요.\n",
    " \n",
    " \n",
    " \n",
    " \n",
    " \n",
    " \n",
    " \n",
    " \n",
    " \n",
    " \n",
    " \n",
    " \n",
    " \n",
    " "
   ]
  },
  {
   "cell_type": "code",
   "execution_count": 1,
   "metadata": {
    "collapsed": true
   },
   "outputs": [],
   "source": [
    "# 2. -> unittest4.py 에 추가함.\n",
    "def test_sorting(self):\n",
    "    a = [7,9,2,1,3,5]\n",
    "    self.assertEqual(sort2(a), [1,2,3,5,7,9])\n",
    "\n",
    "    a = [1,2,3,5,7,9]\n",
    "    self.assertEqual(sort2(a), [1,2,3,5,7,9])"
   ]
  },
  {
   "cell_type": "code",
   "execution_count": null,
   "metadata": {
    "collapsed": true
   },
   "outputs": [],
   "source": []
  },
  {
   "cell_type": "code",
   "execution_count": 3,
   "metadata": {
    "collapsed": false
   },
   "outputs": [
    {
     "name": "stdout",
     "output_type": "stream",
     "text": [
      "<_sre.SRE_Match object at 0x034172F0>\n",
      "macmath22@gmail.com\n"
     ]
    }
   ],
   "source": [
    "import re\n",
    "m = re.search(r'([\\w.-]+)@([\\w.-]+)',\n",
    "              \"My email is macmath22@gmail.com\")\n",
    "\n",
    "print m\n",
    "print m.group()"
   ]
  },
  {
   "cell_type": "code",
   "execution_count": null,
   "metadata": {
    "collapsed": true
   },
   "outputs": [],
   "source": []
  },
  {
   "cell_type": "markdown",
   "metadata": {},
   "source": [
    "* pickle (python에서 직렬화를 구현하는 모듈)\n",
    " - python serialization module (직렬화 serialization)\n",
    "   + 객체를 다시 해당객체로 변환이 가능한 문자열로 변환\n",
    "   + 네트워크로 전송 혹은 파일에 저장하기 위해 사용\n",
    "     + 객체 자체를 네트워크, 파일에 저장할 수 없음\n",
    " - https://docs.python.org/2/library/pickle.html"
   ]
  },
  {
   "cell_type": "code",
   "execution_count": 4,
   "metadata": {
    "collapsed": true
   },
   "outputs": [],
   "source": [
    "import pickle\n",
    "\n",
    "persons = {'aaron' : 1, 'bob' : 2, 'cathy' : 3}\n",
    "\n",
    "# 파일에 객체를 저장\n",
    "pickle.dump(persons, open('save.p', 'wb')) # 객체가 문자열로 바뀐다음 저장됨."
   ]
  },
  {
   "cell_type": "code",
   "execution_count": 5,
   "metadata": {
    "collapsed": false
   },
   "outputs": [
    {
     "name": "stdout",
     "output_type": "stream",
     "text": [
      "{'cathy': 3, 'aaron': 1, 'bob': 2}\n"
     ]
    }
   ],
   "source": [
    "import pickle\n",
    "\n",
    "# 파일에서 객체를 읽어옴\n",
    "p2 = pickle.load(open('save.p', 'rb'))\n",
    "print p2"
   ]
  },
  {
   "cell_type": "code",
   "execution_count": 6,
   "metadata": {
    "collapsed": true
   },
   "outputs": [
    {
     "data": {
      "text/plain": [
       "['APPEND',\n",
       " 'APPENDS',\n",
       " 'BINFLOAT',\n",
       " 'BINGET',\n",
       " 'BININT',\n",
       " 'BININT1',\n",
       " 'BININT2',\n",
       " 'BINPERSID',\n",
       " 'BINPUT',\n",
       " 'BINSTRING',\n",
       " 'BINUNICODE',\n",
       " 'BUILD',\n",
       " 'BooleanType',\n",
       " 'BufferType',\n",
       " 'BuiltinFunctionType',\n",
       " 'BuiltinMethodType',\n",
       " 'ClassType',\n",
       " 'CodeType',\n",
       " 'ComplexType',\n",
       " 'DICT',\n",
       " 'DUP',\n",
       " 'DictProxyType',\n",
       " 'DictType',\n",
       " 'DictionaryType',\n",
       " 'EMPTY_DICT',\n",
       " 'EMPTY_LIST',\n",
       " 'EMPTY_TUPLE',\n",
       " 'EXT1',\n",
       " 'EXT2',\n",
       " 'EXT4',\n",
       " 'EllipsisType',\n",
       " 'FALSE',\n",
       " 'FLOAT',\n",
       " 'FileType',\n",
       " 'FloatType',\n",
       " 'FrameType',\n",
       " 'FunctionType',\n",
       " 'GET',\n",
       " 'GLOBAL',\n",
       " 'GeneratorType',\n",
       " 'GetSetDescriptorType',\n",
       " 'HIGHEST_PROTOCOL',\n",
       " 'INST',\n",
       " 'INT',\n",
       " 'InstanceType',\n",
       " 'IntType',\n",
       " 'LIST',\n",
       " 'LONG',\n",
       " 'LONG1',\n",
       " 'LONG4',\n",
       " 'LONG_BINGET',\n",
       " 'LONG_BINPUT',\n",
       " 'LambdaType',\n",
       " 'ListType',\n",
       " 'LongType',\n",
       " 'MARK',\n",
       " 'MemberDescriptorType',\n",
       " 'MethodType',\n",
       " 'ModuleType',\n",
       " 'NEWFALSE',\n",
       " 'NEWOBJ',\n",
       " 'NEWTRUE',\n",
       " 'NONE',\n",
       " 'NoneType',\n",
       " 'NotImplementedType',\n",
       " 'OBJ',\n",
       " 'ObjectType',\n",
       " 'PERSID',\n",
       " 'POP',\n",
       " 'POP_MARK',\n",
       " 'PROTO',\n",
       " 'PUT',\n",
       " 'PickleError',\n",
       " 'Pickler',\n",
       " 'PicklingError',\n",
       " 'PyStringMap',\n",
       " 'REDUCE',\n",
       " 'SETITEM',\n",
       " 'SETITEMS',\n",
       " 'SHORT_BINSTRING',\n",
       " 'STOP',\n",
       " 'STRING',\n",
       " 'SliceType',\n",
       " 'StringIO',\n",
       " 'StringType',\n",
       " 'StringTypes',\n",
       " 'TRUE',\n",
       " 'TUPLE',\n",
       " 'TUPLE1',\n",
       " 'TUPLE2',\n",
       " 'TUPLE3',\n",
       " 'TracebackType',\n",
       " 'TupleType',\n",
       " 'TypeType',\n",
       " 'UNICODE',\n",
       " 'UnboundMethodType',\n",
       " 'UnicodeType',\n",
       " 'Unpickler',\n",
       " 'UnpicklingError',\n",
       " 'XRangeType',\n",
       " '_EmptyClass',\n",
       " '_Stop',\n",
       " '__all__',\n",
       " '__builtins__',\n",
       " '__doc__',\n",
       " '__file__',\n",
       " '__name__',\n",
       " '__package__',\n",
       " '__version__',\n",
       " '_binascii',\n",
       " '_extension_cache',\n",
       " '_extension_registry',\n",
       " '_inverted_registry',\n",
       " '_keep_alive',\n",
       " '_test',\n",
       " '_tuplesize2code',\n",
       " 'classmap',\n",
       " 'compatible_formats',\n",
       " 'decode_long',\n",
       " 'dispatch_table',\n",
       " 'dump',\n",
       " 'dumps',\n",
       " 'encode_long',\n",
       " 'format_version',\n",
       " 'load',\n",
       " 'loads',\n",
       " 'marshal',\n",
       " 'mloads',\n",
       " 're',\n",
       " 'struct',\n",
       " 'sys',\n",
       " 'whichmodule']"
      ]
     },
     "execution_count": 6,
     "metadata": {},
     "output_type": "execute_result"
    }
   ],
   "source": [
    "dir(pickle)"
   ]
  },
  {
   "cell_type": "code",
   "execution_count": 7,
   "metadata": {
    "collapsed": false,
    "scrolled": true
   },
   "outputs": [
    {
     "name": "stdout",
     "output_type": "stream",
     "text": [
      "(dp0\n",
      "S'cathy'\n",
      "p1\n",
      "I3\n",
      "sS'aaron'\n",
      "p2\n",
      "I1\n",
      "sS'bob'\n",
      "p3\n",
      "I2\n",
      "s.\n",
      "{'cathy': 3, 'aaron': 1, 'bob': 2}\n"
     ]
    }
   ],
   "source": [
    "# 객체를 문자열로 저장\n",
    "string = pickle.dumps(persons)\n",
    "print string\n",
    "\n",
    "# 문자열을 객체로 변환\n",
    "print pickle.loads(string)"
   ]
  },
  {
   "cell_type": "markdown",
   "metadata": {},
   "source": [
    "* 연습문제) \n",
    " - 추천 결과(dict)를 redis에 저장 후, 다시 가져오기\n",
    " - 생성에 수행 시간이 오래 걸리는 객체등을 생성한 뒤, 저장해 둘 수 있음"
   ]
  },
  {
   "cell_type": "code",
   "execution_count": 8,
   "metadata": {
    "collapsed": false
   },
   "outputs": [
    {
     "data": {
      "text/plain": [
       "Redis<ConnectionPool<Connection<host=35.167.74.63,port=6379,db=0>>>"
      ]
     },
     "execution_count": 8,
     "metadata": {},
     "output_type": "execute_result"
    }
   ],
   "source": [
    "import redis\n",
    "redis.Redis(host = \"35.167.74.63\", port = 6379)"
   ]
  },
  {
   "cell_type": "code",
   "execution_count": 11,
   "metadata": {
    "collapsed": false
   },
   "outputs": [
    {
     "name": "stdout",
     "output_type": "stream",
     "text": [
      "None\n"
     ]
    },
    {
     "ename": "TypeError",
     "evalue": "StringIO() argument 1 must be string or buffer, not None",
     "output_type": "error",
     "traceback": [
      "\u001b[0;31m---------------------------------------------------------------------------\u001b[0m",
      "\u001b[0;31mTypeError\u001b[0m                                 Traceback (most recent call last)",
      "\u001b[0;32m<ipython-input-11-7be5aaf3c737>\u001b[0m in \u001b[0;36m<module>\u001b[0;34m()\u001b[0m\n\u001b[1;32m     15\u001b[0m \u001b[0mobj_str2\u001b[0m \u001b[1;33m=\u001b[0m \u001b[0mr\u001b[0m\u001b[1;33m.\u001b[0m\u001b[0mget\u001b[0m\u001b[1;33m(\u001b[0m\u001b[1;34m'object'\u001b[0m\u001b[1;33m)\u001b[0m\u001b[1;33m\u001b[0m\u001b[0m\n\u001b[1;32m     16\u001b[0m \u001b[1;32mprint\u001b[0m \u001b[0mobj_str2\u001b[0m\u001b[1;33m\u001b[0m\u001b[0m\n\u001b[0;32m---> 17\u001b[0;31m \u001b[0mobj2\u001b[0m \u001b[1;33m=\u001b[0m \u001b[0mpickle\u001b[0m\u001b[1;33m.\u001b[0m\u001b[0mloads\u001b[0m\u001b[1;33m(\u001b[0m\u001b[0mobj_str2\u001b[0m\u001b[1;33m)\u001b[0m\u001b[1;33m\u001b[0m\u001b[0m\n\u001b[0m\u001b[1;32m     18\u001b[0m \u001b[0mobj2\u001b[0m\u001b[1;33m.\u001b[0m\u001b[0mtest\u001b[0m\u001b[1;33m(\u001b[0m\u001b[1;33m)\u001b[0m\u001b[1;33m\u001b[0m\u001b[0m\n\u001b[1;32m     19\u001b[0m \u001b[1;32mprint\u001b[0m \u001b[0mobj2\u001b[0m\u001b[1;33m\u001b[0m\u001b[0m\n",
      "\u001b[0;32mc:\\python27\\lib\\pickle.pyc\u001b[0m in \u001b[0;36mloads\u001b[0;34m(str)\u001b[0m\n\u001b[1;32m   1385\u001b[0m \u001b[1;33m\u001b[0m\u001b[0m\n\u001b[1;32m   1386\u001b[0m \u001b[1;32mdef\u001b[0m \u001b[0mloads\u001b[0m\u001b[1;33m(\u001b[0m\u001b[0mstr\u001b[0m\u001b[1;33m)\u001b[0m\u001b[1;33m:\u001b[0m\u001b[1;33m\u001b[0m\u001b[0m\n\u001b[0;32m-> 1387\u001b[0;31m     \u001b[0mfile\u001b[0m \u001b[1;33m=\u001b[0m \u001b[0mStringIO\u001b[0m\u001b[1;33m(\u001b[0m\u001b[0mstr\u001b[0m\u001b[1;33m)\u001b[0m\u001b[1;33m\u001b[0m\u001b[0m\n\u001b[0m\u001b[1;32m   1388\u001b[0m     \u001b[1;32mreturn\u001b[0m \u001b[0mUnpickler\u001b[0m\u001b[1;33m(\u001b[0m\u001b[0mfile\u001b[0m\u001b[1;33m)\u001b[0m\u001b[1;33m.\u001b[0m\u001b[0mload\u001b[0m\u001b[1;33m(\u001b[0m\u001b[1;33m)\u001b[0m\u001b[1;33m\u001b[0m\u001b[0m\n\u001b[1;32m   1389\u001b[0m \u001b[1;33m\u001b[0m\u001b[0m\n",
      "\u001b[0;31mTypeError\u001b[0m: StringIO() argument 1 must be string or buffer, not None"
     ]
    }
   ],
   "source": [
    "class Test(object):\n",
    "    def __init__(self, a, b):\n",
    "        self.a = a\n",
    "        self.b = b\n",
    "        \n",
    "    def test(self):\n",
    "        print self.a, self.b\n",
    "        \n",
    "import redis\n",
    "r = redis.Redis(host = \"35.167.74.63\", port = 6379)\n",
    "\n",
    "obj = Test(3,4)\n",
    "obj_str = pickle.dumps(obj)\n",
    "\n",
    "obj_str2 = r.get('object')\n",
    "print obj_str2\n",
    "obj2 = pickle.loads(obj_str2)\n",
    "obj2.test()\n",
    "print obj2"
   ]
  },
  {
   "cell_type": "markdown",
   "metadata": {},
   "source": [
    "* argparse\n",
    " - 프로그램 실행 시, 커맨드 라인 인자 처리를 손 쉽게 처리\n",
    " - argparse_example 폴더 참조"
   ]
  },
  {
   "cell_type": "code",
   "execution_count": null,
   "metadata": {
    "collapsed": true
   },
   "outputs": [],
   "source": []
  },
  {
   "cell_type": "markdown",
   "metadata": {},
   "source": [
    "* 연습문제\n",
    " 1) url, number를 인자로 받아서 number 개수만큼 request를 날려 해당 페이지의 제목을 가져오는 프로그램을 작성하세요"
   ]
  },
  {
   "cell_type": "code",
   "execution_count": 12,
   "metadata": {
    "collapsed": false
   },
   "outputs": [
    {
     "name": "stderr",
     "output_type": "stream",
     "text": [
      "usage: __main__.py [-h] [--number NUMBER] [--url URL]\n",
      "__main__.py: error: unrecognized arguments: -f C:\\Users\\woni\\AppData\\Roaming\\jupyter\\runtime\\kernel-57a5fc5b-0bcc-4428-a96c-0d1dafdb76df.json\n"
     ]
    },
    {
     "ename": "SystemExit",
     "evalue": "2",
     "output_type": "error",
     "traceback": [
      "An exception has occurred, use %tb to see the full traceback.\n",
      "\u001b[0;31mSystemExit\u001b[0m\u001b[0;31m:\u001b[0m 2\n"
     ]
    },
    {
     "name": "stderr",
     "output_type": "stream",
     "text": [
      "c:\\python27\\lib\\site-packages\\IPython\\core\\interactiveshell.py:2889: UserWarning: To exit: use 'exit', 'quit', or Ctrl-D.\n",
      "  warn(\"To exit: use 'exit', 'quit', or Ctrl-D.\", stacklevel=1)\n"
     ]
    }
   ],
   "source": [
    "import argparse\n",
    "import requests\n",
    "from bs4 import BeautifulSoup\n",
    "\n",
    "parser = argparse.ArgumentParser()\n",
    "\n",
    "parser.add_argument('--number', '-n', help = 'number of requests', type = int)\n",
    "parser.add_argument('--url', '-u', help = 'url to make http request')\n",
    "args = parser.parse_args()\n",
    "\n",
    "res = requests.get(url)\n"
   ]
  },
  {
   "cell_type": "code",
   "execution_count": null,
   "metadata": {
    "collapsed": true
   },
   "outputs": [],
   "source": []
  }
 ],
 "metadata": {
  "kernelspec": {
   "display_name": "Python 2",
   "language": "python",
   "name": "python2"
  },
  "language_info": {
   "codemirror_mode": {
    "name": "ipython",
    "version": 2
   },
   "file_extension": ".py",
   "mimetype": "text/x-python",
   "name": "python",
   "nbconvert_exporter": "python",
   "pygments_lexer": "ipython2",
   "version": "2.7.13"
  }
 },
 "nbformat": 4,
 "nbformat_minor": 1
}
