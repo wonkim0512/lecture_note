{
 "cells": [
  {
   "cell_type": "markdown",
   "metadata": {
    "collapsed": true
   },
   "source": [
    "## 학습목표\n",
    "\n",
    " * unittest 이해 및 실습\n",
    " * pickle 모듈 이해 및 실습\n",
    " * argparse 모듈 이해 및 실습"
   ]
  },
  {
   "cell_type": "markdown",
   "metadata": {},
   "source": [
    " * Unit Test\n",
    "   - 모듈 혹은 함수 단위의 자동화 된 코드 레벨 테스트\n",
    "   - unit test의 경우 I/O, network, db 접속을 최소화 하여 테스트\n",
    "   - 위의 사항을 테스트 하는 경우는 functional, integration, stress test 등으로 진행\n",
    "   - TDD(Test Driven Development)의 기본개념으로, 테스트 케이스를 먼저 작성 함\n",
    "  "
   ]
  },
  {
   "cell_type": "markdown",
   "metadata": {},
   "source": [
    "* unittest \n",
    " - 내장 unittest module \n",
    " - JUnit의 python version\n",
    " - unittest.TestCase를 상속받아 구현\n",
    " - test 접두사로 시작하는 method에 한해 test 실행\n",
    " - setUp\n",
    "   - test를 준비. 테스트 실행하기 전 호출\n",
    " - tearDown\n",
    "   - test 메소드가 실행되고 난 후 호출\n",
    " \n",
    "* unittest 실행 방법\n",
    " - python file.py\n",
    " - python file.py -v (실행되는 함수 열람)\n",
    " - python -m unittest file file2 (한꺼번에 여러개의 unittest 실행)"
   ]
  },
  {
   "cell_type": "raw",
   "metadata": {},
   "source": []
  },
  {
   "cell_type": "markdown",
   "metadata": {},
   "source": [
    "* 연습문제) \n",
    " 1. email 정규표현식을 만든다고 할 때, test case를 만들어보세요.\n",
    " 2. 정렬함수를 만든다고 할 때, test case를 만들어보세요.\n",
    " 3. numpy intersect1d의 test case를 만들어보세요.\n",
    " \n",
    " \n",
    " \n",
    " \n",
    " \n",
    " \n",
    " \n",
    " \n",
    " \n",
    " \n",
    " \n",
    " \n",
    " \n",
    " "
   ]
  },
  {
   "cell_type": "code",
   "execution_count": null,
   "metadata": {
    "collapsed": false
   },
   "outputs": [],
   "source": [
    "import re\n",
    "m = re.search(r'([\\w.-]+)@([\\w.-]+)',\n",
    "              \"My email is macmath22@gmail.com\")\n",
    "\n",
    "\n",
    "print m.group()"
   ]
  },
  {
   "cell_type": "code",
   "execution_count": null,
   "metadata": {
    "collapsed": true
   },
   "outputs": [],
   "source": []
  },
  {
   "cell_type": "markdown",
   "metadata": {},
   "source": [
    "* pickle\n",
    " - python serialization module\n",
    "   + 객체를 다시 해당객체로 변환이 가능한 문자열로 변환\n",
    "   + 네트워크로 전송 혹은 파일에 저장하기 위해 사용\n",
    "     + 객체 자체를 네트워크, 파일에 저장할 수 없음\n",
    " - https://docs.python.org/2/library/pickle.html"
   ]
  },
  {
   "cell_type": "code",
   "execution_count": null,
   "metadata": {
    "collapsed": true
   },
   "outputs": [],
   "source": [
    "import pickle\n",
    "\n",
    "persons = {'aaron' : 1, 'bob' : 2, 'cathy' : 3}\n",
    "\n",
    "# 파일에 객체를 저장\n",
    "pickle.dump(persons, open('save.p', 'wb'))"
   ]
  },
  {
   "cell_type": "code",
   "execution_count": null,
   "metadata": {
    "collapsed": false
   },
   "outputs": [],
   "source": [
    "import pickle\n",
    "\n",
    "# 파일에서 객체를 읽어옴\n",
    "p2 = pickle.load(open('save.p', 'rb'))\n",
    "print p2"
   ]
  },
  {
   "cell_type": "code",
   "execution_count": null,
   "metadata": {
    "collapsed": true
   },
   "outputs": [],
   "source": [
    "dir(pickle)"
   ]
  },
  {
   "cell_type": "code",
   "execution_count": null,
   "metadata": {
    "collapsed": false
   },
   "outputs": [],
   "source": [
    "# 객체를 문자열로 저장\n",
    "string = pickle.dumps(persons)\n",
    "print string\n",
    "\n",
    "# 문자열을 객체로 변환\n",
    "print pickle.loads(string)"
   ]
  },
  {
   "cell_type": "markdown",
   "metadata": {},
   "source": [
    "* 연습문제) \n",
    " - 추천 결과(dict)를 redis에 저장 후, 다시 가져오기\n",
    " - 생성에 수행 시간이 오래 걸리는 객체등을 생성한 뒤, 저장해 둘 수 있음"
   ]
  },
  {
   "cell_type": "code",
   "execution_count": null,
   "metadata": {
    "collapsed": true
   },
   "outputs": [],
   "source": [
    "class Test(object):\n",
    "    def __init__(self, a, b):\n",
    "        self.a = a\n",
    "        self.b = b\n",
    "        \n",
    "    def test(self):\n",
    "        print self.a, self.b\n",
    "        \n",
    "import redis\n",
    "\n",
    "r = redis.Redis(host = '', port = 6379)\n",
    "\n",
    "obj = Test\n",
    "obj_str = pickle.dumps(obj)\n",
    "\n",
    "r.set('object', obj_str)\n",
    "obj_str2 = r.get('object')\n",
    "\n",
    "print obj_str2\n",
    "obj2 = pickle.loads(obj_str2)\n",
    "obj2.test()\n",
    "print obj2"
   ]
  },
  {
   "cell_type": "markdown",
   "metadata": {
    "collapsed": true
   },
   "source": []
  },
  {
   "cell_type": "markdown",
   "metadata": {},
   "source": [
    "* argparse\n",
    " - 프로그램 실행 시, 커맨드 라인 인자 처리를 손 쉽게 처리\n",
    " - argparse_example 폴더 참조"
   ]
  },
  {
   "cell_type": "code",
   "execution_count": null,
   "metadata": {
    "collapsed": true
   },
   "outputs": [],
   "source": []
  },
  {
   "cell_type": "markdown",
   "metadata": {},
   "source": [
    "* 연습문제\n",
    " 1) url, number를 인자로 받아서 number 개수만큼 request를 날려 해당 페이지의 제목을 가져오는 프로그램을 작성하세요"
   ]
  }
 ],
 "metadata": {
  "kernelspec": {
   "display_name": "Python 2",
   "language": "python",
   "name": "python2"
  },
  "language_info": {
   "codemirror_mode": {
    "name": "ipython",
    "version": 2
   },
   "file_extension": ".py",
   "mimetype": "text/x-python",
   "name": "python",
   "nbconvert_exporter": "python",
   "pygments_lexer": "ipython2",
   "version": "2.7.13"
  }
 },
 "nbformat": 4,
 "nbformat_minor": 1
}
