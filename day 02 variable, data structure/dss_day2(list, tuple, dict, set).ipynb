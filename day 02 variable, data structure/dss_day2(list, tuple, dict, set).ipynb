{
 "cells": [
  {
   "cell_type": "markdown",
   "metadata": {},
   "source": [
    "# Data Science & Python"
   ]
  },
  {
   "cell_type": "markdown",
   "metadata": {},
   "source": [
    "## 학습목표\n",
    " 1. list, tuple, dictionary, set에 대해 이해 및 실습\n"
   ]
  },
  {
   "cell_type": "markdown",
   "metadata": {},
   "source": [
    "## shift + tab -> 함수 도움말"
   ]
  },
  {
   "cell_type": "markdown",
   "metadata": {},
   "source": [
    "## List, Tuple, Dictionary, Set"
   ]
  },
  {
   "cell_type": "markdown",
   "metadata": {},
   "source": [
    "+ list & tuple\n",
    " * list - mutable  (자유롭게 값이 변경 될 수 있다.)\n",
    " * tuple - immutable (한번 생성되면 값을 바꿀 수 없다는 의미)"
   ]
  },
  {
   "cell_type": "code",
   "execution_count": null,
   "metadata": {
    "collapsed": true
   },
   "outputs": [],
   "source": [
    "a = 'python is dfdfdf'\n",
    "a = 'Python is dfdfd'"
   ]
  },
  {
   "cell_type": "code",
   "execution_count": 3,
   "metadata": {
    "collapsed": false
   },
   "outputs": [
    {
     "name": "stdout",
     "output_type": "stream",
     "text": [
      "[1, 2, 3, 1, 2, 3] <type 'list'>\n"
     ]
    }
   ],
   "source": [
    "a = [1, 2, 3, 1, 2, 3]\n",
    "print a, type(a)"
   ]
  },
  {
   "cell_type": "code",
   "execution_count": 4,
   "metadata": {
    "collapsed": false
   },
   "outputs": [
    {
     "name": "stdout",
     "output_type": "stream",
     "text": [
      "[1, 4, 5, 3]\n",
      "[]\n",
      "['Aaron', 'David', 'Bill', 'Michael', 'John']\n",
      "[]\n"
     ]
    }
   ],
   "source": [
    "a = []\n",
    "\n",
    "\n",
    "empty_list = []\n",
    "first_names = ['Aaron', 'David', 'Bill', 'Michael', 'John']\n",
    "\n",
    "nums = [1, 4, 5, 3]\n",
    "print nums\n",
    "\n",
    "print empty_list\n",
    "print first_names\n",
    "\n",
    "empty_list2 = list() # []\n",
    "print empty_list2"
   ]
  },
  {
   "cell_type": "markdown",
   "metadata": {},
   "source": [
    "+ list() 함수\n",
    " + 다른 데이터 타입을 리스트로 변환할 때 사용"
   ]
  },
  {
   "cell_type": "code",
   "execution_count": 5,
   "metadata": {
    "collapsed": false
   },
   "outputs": [
    {
     "name": "stdout",
     "output_type": "stream",
     "text": [
      "['c', 'a', 't']\n",
      "<type 'tuple'>\n",
      "['Monday', 'Tuesday', 'Wednesday'] <type 'list'>\n"
     ]
    }
   ],
   "source": [
    "cat = 'cat'\n",
    "print list(cat)\n",
    "\n",
    "test_tuple = ('Monday', 'Tuesday', 'Wednesday')\n",
    "print type(test_tuple)\n",
    "print list(test_tuple), type(list(test_tuple))"
   ]
  },
  {
   "cell_type": "markdown",
   "metadata": {},
   "source": [
    "+ string split 함수\n",
    " * 구분자로 구분되는 리스트를 반환 (빈번히 사용 됨)"
   ]
  },
  {
   "cell_type": "code",
   "execution_count": 8,
   "metadata": {
    "collapsed": false
   },
   "outputs": [
    {
     "name": "stdout",
     "output_type": "stream",
     "text": [
      "['1986/', '3/2', '']\n",
      "['python', 'is', 'easy', 'to', 'learn']\n"
     ]
    }
   ],
   "source": [
    "a = '1986/03/20'\n",
    "result = a.split('0')\n",
    "print result\n",
    "\n",
    "python_str = 'python is easy to learn'\n",
    "print python_str.split()"
   ]
  },
  {
   "cell_type": "code",
   "execution_count": 9,
   "metadata": {
    "collapsed": false
   },
   "outputs": [
    {
     "name": "stdout",
     "output_type": "stream",
     "text": [
      "['a', 'b', '', 'c', 'd', '', '', 'e']\n",
      "['a/b', 'c/d', '/e']\n"
     ]
    }
   ],
   "source": [
    "a = 'a/b//c/d///e'\n",
    "print a.split('/')\n",
    "print a.split('//')"
   ]
  },
  {
   "cell_type": "markdown",
   "metadata": {},
   "source": [
    "+ indexing\n",
    " * [] 연산자를 이용하여 항목 얻어오기\n",
    " * [i] - i번째 원소를 반환\n",
    " * i가 음수인 경우도 가능하며 마지막원소가 -1로 하여 앞으로 갈때마다 1씩 감소함"
   ]
  },
  {
   "cell_type": "code",
   "execution_count": 10,
   "metadata": {
    "collapsed": false
   },
   "outputs": [
    {
     "name": "stdout",
     "output_type": "stream",
     "text": [
      "1988\n",
      "1989\n",
      "2013\n",
      "2019\n",
      "2019\n"
     ]
    },
    {
     "ename": "IndexError",
     "evalue": "list index out of range",
     "output_type": "error",
     "traceback": [
      "\u001b[0;31m---------------------------------------------------------------------------\u001b[0m",
      "\u001b[0;31mIndexError\u001b[0m                                Traceback (most recent call last)",
      "\u001b[0;32m<ipython-input-10-4a3fa64e9b75>\u001b[0m in \u001b[0;36m<module>\u001b[0;34m()\u001b[0m\n\u001b[1;32m      9\u001b[0m \u001b[0;34m\u001b[0m\u001b[0m\n\u001b[1;32m     10\u001b[0m \u001b[0;31m# 예외 발생 (index가 bound를 넘어감)\u001b[0m\u001b[0;34m\u001b[0m\u001b[0;34m\u001b[0m\u001b[0m\n\u001b[0;32m---> 11\u001b[0;31m \u001b[0;32mprint\u001b[0m \u001b[0myears\u001b[0m\u001b[0;34m[\u001b[0m\u001b[0;36m5\u001b[0m\u001b[0;34m]\u001b[0m\u001b[0;34m\u001b[0m\u001b[0m\n\u001b[0m",
      "\u001b[0;31mIndexError\u001b[0m: list index out of range"
     ]
    }
   ],
   "source": [
    "years = ['1988', '1989', '2013', '2016', '2019']\n",
    "print years[0]\n",
    "print years[1]\n",
    "print years[2]\n",
    "\n",
    "# 마지막 원소에 대한 접근 \n",
    "print years[len(years) - 1]\n",
    "print years[-1]\n",
    "\n",
    "# 예외 발생 (index가 bound를 넘어감)\n",
    "print years[5] "
   ]
  },
  {
   "cell_type": "code",
   "execution_count": 16,
   "metadata": {
    "collapsed": false
   },
   "outputs": [
    {
     "name": "stdout",
     "output_type": "stream",
     "text": [
      "123.3\n"
     ]
    }
   ],
   "source": [
    "seoul = ['sinsa', 'gangnam', 'jongro']\n",
    "gyeonggi = ['pangyo', 'gwacheon', 'guri', 1, 2, 100]\n",
    "jeju = ['seogwipo', 123.3]\n",
    "\n",
    "korea = [seoul, gyeonggi, jeju, 'pyungchang']\n",
    "\n",
    "print korea[2][1]"
   ]
  },
  {
   "cell_type": "code",
   "execution_count": 18,
   "metadata": {
    "collapsed": false
   },
   "outputs": [
    {
     "name": "stdout",
     "output_type": "stream",
     "text": [
      "['1988', '1989', '2013', '2016', '2019']\n",
      "['1988', '1986', '2013', '2016', '2019']\n"
     ]
    }
   ],
   "source": [
    "print years\n",
    "years[1] = '1986'\n",
    "print years"
   ]
  },
  {
   "cell_type": "markdown",
   "metadata": {},
   "source": [
    "* slicing"
   ]
  },
  {
   "cell_type": "code",
   "execution_count": 22,
   "metadata": {
    "collapsed": false
   },
   "outputs": [
    {
     "ename": "SyntaxError",
     "evalue": "invalid syntax (<ipython-input-22-5c880376a505>, line 1)",
     "output_type": "error",
     "traceback": [
      "\u001b[0;36m  File \u001b[0;32m\"<ipython-input-22-5c880376a505>\"\u001b[0;36m, line \u001b[0;32m1\u001b[0m\n\u001b[0;31m    print years[]\u001b[0m\n\u001b[0m                ^\u001b[0m\n\u001b[0;31mSyntaxError\u001b[0m\u001b[0;31m:\u001b[0m invalid syntax\n"
     ]
    }
   ],
   "source": [
    "print years[]"
   ]
  },
  {
   "cell_type": "markdown",
   "metadata": {},
   "source": [
    "* append() \n",
    " + 리스트의 끝에 항목을 추가함"
   ]
  },
  {
   "cell_type": "code",
   "execution_count": 33,
   "metadata": {
    "collapsed": false
   },
   "outputs": [
    {
     "name": "stdout",
     "output_type": "stream",
     "text": [
      "[1, 2, 3, 4, 5] [1, 3]\n",
      "[1, 2, 3, 4, 5, [1, 3]]\n"
     ]
    }
   ],
   "source": [
    "a = [1, 2, 3, 4]\n",
    "b = [1]\n",
    "\n",
    "\n",
    "a.append(5)\n",
    "b.append(3)\n",
    "\n",
    "\n",
    "print a, b\n",
    "\n",
    "a.append(b)\n",
    "print a"
   ]
  },
  {
   "cell_type": "markdown",
   "metadata": {},
   "source": [
    "+ extend() \n",
    " * 리스트 합치기\n",
    " * += 로도 가능함"
   ]
  },
  {
   "cell_type": "code",
   "execution_count": 38,
   "metadata": {
    "collapsed": false
   },
   "outputs": [
    {
     "name": "stdout",
     "output_type": "stream",
     "text": [
      "[10, 20, 30, 40]\n",
      "[10, 20, 30, 40, 1, 2, 3, 4, 10, 20, 30, 40]\n"
     ]
    }
   ],
   "source": [
    "a = [1, 2, 3, 4]\n",
    "b = [10, 20, 30, 40]\n",
    "\n",
    "#a.append(b)\n",
    "a.extend(b)\n",
    "\n",
    "print b\n",
    "b += a\n",
    "\n",
    "print b"
   ]
  },
  {
   "cell_type": "markdown",
   "metadata": {},
   "source": [
    "+ insert()로 항목추가\n",
    " * 리스트의 원하는 위치에 추가 가능"
   ]
  },
  {
   "cell_type": "code",
   "execution_count": 37,
   "metadata": {
    "collapsed": false
   },
   "outputs": [
    {
     "name": "stdout",
     "output_type": "stream",
     "text": [
      "[1, 2, 3, 4, 5, 10]\n"
     ]
    }
   ],
   "source": [
    "a = [1, 2, 4, 5, 10]\n",
    "a.insert(2, 3)\n",
    "print a"
   ]
  },
  {
   "cell_type": "markdown",
   "metadata": {},
   "source": [
    "+ 인덱스로 아이템 삭제하기\n",
    " * del - list 객체의 함수가 아님"
   ]
  },
  {
   "cell_type": "code",
   "execution_count": 39,
   "metadata": {
    "collapsed": true
   },
   "outputs": [
    {
     "name": "stdout",
     "output_type": "stream",
     "text": [
      "30\n"
     ]
    },
    {
     "ename": "NameError",
     "evalue": "name 'a' is not defined",
     "output_type": "error",
     "traceback": [
      "\u001b[0;31m---------------------------------------------------------------------------\u001b[0m",
      "\u001b[0;31mNameError\u001b[0m                                 Traceback (most recent call last)",
      "\u001b[0;32m<ipython-input-39-55fdf6e3b473>\u001b[0m in \u001b[0;36m<module>\u001b[0;34m()\u001b[0m\n\u001b[1;32m      2\u001b[0m \u001b[0;32mprint\u001b[0m \u001b[0ma\u001b[0m\u001b[0;34m\u001b[0m\u001b[0m\n\u001b[1;32m      3\u001b[0m \u001b[0;32mdel\u001b[0m \u001b[0ma\u001b[0m\u001b[0;34m\u001b[0m\u001b[0m\n\u001b[0;32m----> 4\u001b[0;31m \u001b[0;32mprint\u001b[0m \u001b[0ma\u001b[0m\u001b[0;34m\u001b[0m\u001b[0m\n\u001b[0m",
      "\u001b[0;31mNameError\u001b[0m: name 'a' is not defined"
     ]
    }
   ],
   "source": [
    "a = 30\n",
    "print a\n",
    "del a\n",
    "print a"
   ]
  },
  {
   "cell_type": "code",
   "execution_count": 17,
   "metadata": {
    "collapsed": false
   },
   "outputs": [
    {
     "name": "stdout",
     "output_type": "stream",
     "text": [
      "[9, 1, 2, 3, 4, 5, 10, 100]\n",
      "[1, 2, 3, 4, 5, 10]\n"
     ]
    }
   ],
   "source": [
    "a = [9, 1, 2, 3, 4, 5, 10, 100]\n",
    "print a\n",
    "\n",
    "del a[-1] # python 구문 (할당연산자인 = 와 반대 역할을 함)\n",
    "del a[0]\n",
    "\n",
    "print a"
   ]
  },
  {
   "cell_type": "markdown",
   "metadata": {},
   "source": [
    "+ remove()\n",
    " * 값으로 항목 삭제 하기"
   ]
  },
  {
   "cell_type": "code",
   "execution_count": 2,
   "metadata": {
    "collapsed": false
   },
   "outputs": [
    {
     "name": "stdout",
     "output_type": "stream",
     "text": [
      "[1, 2, 1, 3, 4, 5]\n",
      "[2, 1, 3, 4, 5]\n"
     ]
    },
    {
     "ename": "ValueError",
     "evalue": "list.remove(x): x not in list",
     "output_type": "error",
     "traceback": [
      "\u001b[0;31m---------------------------------------------------------------------------\u001b[0m",
      "\u001b[0;31mValueError\u001b[0m                                Traceback (most recent call last)",
      "\u001b[0;32m<ipython-input-2-a2894727c799>\u001b[0m in \u001b[0;36m<module>\u001b[0;34m()\u001b[0m\n\u001b[1;32m      3\u001b[0m \u001b[0ma\u001b[0m\u001b[0;34m.\u001b[0m\u001b[0mremove\u001b[0m\u001b[0;34m(\u001b[0m\u001b[0;36m1\u001b[0m\u001b[0;34m)\u001b[0m\u001b[0;34m\u001b[0m\u001b[0m\n\u001b[1;32m      4\u001b[0m \u001b[0;32mprint\u001b[0m \u001b[0ma\u001b[0m\u001b[0;34m\u001b[0m\u001b[0m\n\u001b[0;32m----> 5\u001b[0;31m \u001b[0ma\u001b[0m\u001b[0;34m.\u001b[0m\u001b[0mremove\u001b[0m\u001b[0;34m(\u001b[0m\u001b[0;36m88\u001b[0m\u001b[0;34m)\u001b[0m\u001b[0;34m\u001b[0m\u001b[0m\n\u001b[0m",
      "\u001b[0;31mValueError\u001b[0m: list.remove(x): x not in list"
     ]
    }
   ],
   "source": [
    "a = [1, 2, 1, 3, 4, 5]\n",
    "print a\n",
    "a.remove(1)\n",
    "print a\n",
    "a.remove(88)"
   ]
  },
  {
   "cell_type": "markdown",
   "metadata": {},
   "source": [
    "+ pop() 항목을 얻은 후, 삭제"
   ]
  },
  {
   "cell_type": "code",
   "execution_count": 40,
   "metadata": {
    "collapsed": false
   },
   "outputs": [
    {
     "name": "stdout",
     "output_type": "stream",
     "text": [
      "5\n",
      "[2, 1, 3, 4]\n",
      "2\n",
      "[1, 3, 4]\n"
     ]
    }
   ],
   "source": [
    "a = [1, 2, 1, 3, 4, 5]\n",
    "a.remove(1)\n",
    "\n",
    "b = a.pop()\n",
    "print b\n",
    "print a\n",
    "\n",
    "print a.pop(0)\n",
    "print a"
   ]
  },
  {
   "cell_type": "markdown",
   "metadata": {},
   "source": [
    "+ index()\n",
    " * 값으로 인덱스를 찾을 수 있다."
   ]
  },
  {
   "cell_type": "code",
   "execution_count": 51,
   "metadata": {
    "collapsed": false
   },
   "outputs": [
    {
     "name": "stdout",
     "output_type": "stream",
     "text": [
      "0\n",
      "2\n",
      "2\n"
     ]
    },
    {
     "ename": "ValueError",
     "evalue": "1 is not in list",
     "output_type": "error",
     "traceback": [
      "\u001b[0;31m---------------------------------------------------------------------------\u001b[0m",
      "\u001b[0;31mValueError\u001b[0m                                Traceback (most recent call last)",
      "\u001b[0;32m<ipython-input-51-e20a00fe85d2>\u001b[0m in \u001b[0;36m<module>\u001b[0;34m()\u001b[0m\n\u001b[1;32m      4\u001b[0m \u001b[0;32mprint\u001b[0m \u001b[0ma\u001b[0m\u001b[0;34m.\u001b[0m\u001b[0mindex\u001b[0m\u001b[0;34m(\u001b[0m\u001b[0;36m1\u001b[0m\u001b[0;34m,\u001b[0m \u001b[0;36m1\u001b[0m\u001b[0;34m)\u001b[0m\u001b[0;34m\u001b[0m\u001b[0m\n\u001b[1;32m      5\u001b[0m \u001b[0;32mprint\u001b[0m \u001b[0ma\u001b[0m\u001b[0;34m.\u001b[0m\u001b[0mindex\u001b[0m\u001b[0;34m(\u001b[0m\u001b[0;36m1\u001b[0m\u001b[0;34m,\u001b[0m \u001b[0;36m1\u001b[0m\u001b[0;34m,\u001b[0m \u001b[0;36m3\u001b[0m\u001b[0;34m)\u001b[0m\u001b[0;34m\u001b[0m\u001b[0m\n\u001b[0;32m----> 6\u001b[0;31m \u001b[0;32mprint\u001b[0m \u001b[0ma\u001b[0m\u001b[0;34m.\u001b[0m\u001b[0mindex\u001b[0m\u001b[0;34m(\u001b[0m\u001b[0;36m1\u001b[0m\u001b[0;34m,\u001b[0m \u001b[0;36m1\u001b[0m\u001b[0;34m,\u001b[0m \u001b[0;36m1\u001b[0m\u001b[0;34m)\u001b[0m\u001b[0;34m\u001b[0m\u001b[0m\n\u001b[0m",
      "\u001b[0;31mValueError\u001b[0m: 1 is not in list"
     ]
    }
   ],
   "source": [
    "a = [1, 2, 1, 3, 4, 5]\n",
    "\n",
    "print a.index(1)\n",
    "print a.index(1, 1)\n",
    "print a.index(1, 1, 3)\n",
    "print a.index(1, 1, 1)\n"
   ]
  },
  {
   "cell_type": "markdown",
   "metadata": {},
   "source": [
    "* in \n",
    " + 리스트 내에 해당 값이 존재하는지 확인\n",
    " + value in [list]\n",
    " + True, False 중 한가지로 반환"
   ]
  },
  {
   "cell_type": "code",
   "execution_count": 42,
   "metadata": {
    "collapsed": false
   },
   "outputs": [
    {
     "name": "stdout",
     "output_type": "stream",
     "text": [
      "False\n",
      "True\n",
      "False\n"
     ]
    }
   ],
   "source": [
    "years = ['1988', '1989', '2013', '2016', '2019', '2019']\n",
    "\n",
    "print '19888' in years\n",
    "print '1989' in years\n",
    "print 1989 in years"
   ]
  },
  {
   "cell_type": "markdown",
   "metadata": {},
   "source": [
    "* count()\n",
    " + 리스트 내에 해당 값이 얼마나 존재하는지 확인"
   ]
  },
  {
   "cell_type": "code",
   "execution_count": 23,
   "metadata": {
    "collapsed": false
   },
   "outputs": [
    {
     "name": "stdout",
     "output_type": "stream",
     "text": [
      "['1986', '1989', '2013', '2016', '2019', '2020', '2022', ['2024', '2025']]\n",
      "0\n",
      "0\n",
      "1\n"
     ]
    }
   ],
   "source": [
    "print years\n",
    "print years.count('19888')\n",
    "print years.count('1988')\n",
    "print years.count('2019')"
   ]
  },
  {
   "cell_type": "markdown",
   "metadata": {},
   "source": [
    "* join() \n",
    " + 리스트의 원소를 구분자를 이용하여 문자열로 합친다\n",
    " + join은 string의 함수이다\n",
    " + list의 split() 함수와 반대의 작업을 함"
   ]
  },
  {
   "cell_type": "code",
   "execution_count": 43,
   "metadata": {
    "collapsed": false
   },
   "outputs": [
    {
     "name": "stdout",
     "output_type": "stream",
     "text": [
      "['python', 'is', 'good']\n"
     ]
    }
   ],
   "source": [
    "a = 'python is good'\n",
    "print a.split()"
   ]
  },
  {
   "cell_type": "code",
   "execution_count": 44,
   "metadata": {
    "collapsed": false
   },
   "outputs": [
    {
     "name": "stdout",
     "output_type": "stream",
     "text": [
      "1986/03/20\n"
     ]
    }
   ],
   "source": [
    "\n",
    "birth_date_components = ['1986', '03', '20']\n",
    "print '/'.join(birth_date_components)"
   ]
  },
  {
   "cell_type": "markdown",
   "metadata": {},
   "source": [
    "* list 정렬\n",
    " + sort() -> 리스트 자체를 내부적으로 정렬\n",
    " + sorted() -> 리스트의 정렬된 복사본을 반환"
   ]
  },
  {
   "cell_type": "code",
   "execution_count": 52,
   "metadata": {
    "collapsed": false
   },
   "outputs": [
    {
     "name": "stdout",
     "output_type": "stream",
     "text": [
      "[1, 2, 3, 4, 5, 6, 7, 8, 9]\n",
      "[9, 8, 1, 2, 7, 5, 6, 3, 4]\n"
     ]
    }
   ],
   "source": [
    "#오름차순 - 작은거부터 \n",
    "#내림차순 - 큰거부터\n",
    "\n",
    "a = [9, 8, 1, 2, 7, 5, 6, 3, 4]\n",
    "a.sort()\n",
    "\n",
    "a = [9, 8, 1, 2, 7, 5, 6, 3, 4]\n",
    "\n",
    "b = sorted(a)\n",
    "print b\n",
    "print a"
   ]
  },
  {
   "cell_type": "markdown",
   "metadata": {},
   "source": [
    "* =, copy()\n",
    " + = -> 할당\n",
    " + copy() -> 복사"
   ]
  },
  {
   "cell_type": "code",
   "execution_count": 53,
   "metadata": {
    "collapsed": false
   },
   "outputs": [
    {
     "name": "stdout",
     "output_type": "stream",
     "text": [
      "[1, 2, 3, 4]\n",
      "[1, 2, 3, 4]\n",
      "--------------------\n",
      "[22, 2, 3, 4]\n",
      "[1, 2, 3, 4]\n"
     ]
    }
   ],
   "source": [
    "a = [1, 2, 3, 4]\n",
    "\n",
    "b = a[:]\n",
    "\n",
    "print a\n",
    "print b\n",
    "print '-' * 20\n",
    "\n",
    "a[0] = 22\n",
    "\n",
    "print a\n",
    "print b"
   ]
  },
  {
   "cell_type": "markdown",
   "metadata": {},
   "source": [
    "* **quiz1)** 리스트 b를 출력한 결과는?"
   ]
  },
  {
   "cell_type": "code",
   "execution_count": null,
   "metadata": {
    "collapsed": true
   },
   "outputs": [],
   "source": []
  },
  {
   "cell_type": "code",
   "execution_count": 31,
   "metadata": {
    "collapsed": false
   },
   "outputs": [
    {
     "name": "stdout",
     "output_type": "stream",
     "text": [
      "[99, 2, 3, 4]\n",
      "[22, 2, 3, 4]\n",
      "[22, 2, 3, 4]\n"
     ]
    }
   ],
   "source": [
    "#b = a\n",
    "b = list(a)\n",
    "c = a[:]\n",
    "\n",
    "a[0] = 99\n",
    "print a\n",
    "print b\n",
    "print c"
   ]
  },
  {
   "cell_type": "markdown",
   "metadata": {},
   "source": [
    "* list 연습문제\n",
    " 1. 리스트가 주어졌을 때, 처음과 마지막 원소만 갖는 리스트로 변환하시오. [1, 2, 3] -> [1, 3], [2, 3, 4, 5] -> [2, 5]  \n",
    " 2. 리스트가 주어졌을 때, 임의의 두 원소의 합의 최대값을 구하시오. [1, 9, 7, 8, 2, 5, 11]\n",
    " \n",
    " \n",
    " \n",
    " \n",
    " \n",
    " \n",
    " \n",
    " \n",
    " \n",
    " \n",
    " \n",
    " \n",
    " \n",
    " \n",
    " \n",
    " \n",
    " \n",
    " \n",
    " "
   ]
  },
  {
   "cell_type": "code",
   "execution_count": 54,
   "metadata": {
    "collapsed": false
   },
   "outputs": [
    {
     "data": {
      "text/plain": [
       "[1, 5]"
      ]
     },
     "execution_count": 54,
     "metadata": {},
     "output_type": "execute_result"
    }
   ],
   "source": [
    "a = [1, 2, 3, 4, 5]\n",
    "[a[0], a[-1]] \n",
    "\n",
    "\n",
    "\n",
    "\n",
    "\n",
    "\n",
    "\n",
    "\n",
    "\n",
    "\n",
    "\n",
    "\n",
    "\n",
    "\n",
    "\n",
    "\n",
    "\n",
    "\n",
    "\n"
   ]
  },
  {
   "cell_type": "code",
   "execution_count": 55,
   "metadata": {
    "collapsed": false
   },
   "outputs": [
    {
     "name": "stdout",
     "output_type": "stream",
     "text": [
      "20\n"
     ]
    }
   ],
   "source": [
    "a = [1, 9, 7, 8, 2, 5, 11]\n",
    "a.sort()\n",
    "print a[-1] + a[-2]\n"
   ]
  },
  {
   "cell_type": "markdown",
   "metadata": {},
   "source": [
    "+ tuple 생성하기"
   ]
  },
  {
   "cell_type": "code",
   "execution_count": 35,
   "metadata": {
    "collapsed": false
   },
   "outputs": [
    {
     "name": "stdout",
     "output_type": "stream",
     "text": [
      "()\n",
      "('aaron',)\n",
      "('aaron2',)\n",
      "('a', 'b', 'c')\n"
     ]
    }
   ],
   "source": [
    "empty_tuple = ()\n",
    "print empty_tuple\n",
    "\n",
    "one_tuple = 'aaron',\n",
    "another_tuple = ('aaron2',)\n",
    "\n",
    "print one_tuple\n",
    "print another_tuple\n",
    "\n",
    "more_tuple = ('a', 'b', 'c')\n",
    "print more_tuple"
   ]
  },
  {
   "cell_type": "markdown",
   "metadata": {},
   "source": [
    "* tuple unpacking"
   ]
  },
  {
   "cell_type": "code",
   "execution_count": 56,
   "metadata": {
    "collapsed": false
   },
   "outputs": [
    {
     "name": "stdout",
     "output_type": "stream",
     "text": [
      "1 2 3\n"
     ]
    }
   ],
   "source": [
    "a, b, c = 1, 2, 3\n",
    "print a, b, c\n",
    "\n",
    "\n",
    "a = 5\n",
    "b = 4\n",
    "\n",
    "a = 4\n",
    "b = 5"
   ]
  },
  {
   "cell_type": "markdown",
   "metadata": {},
   "source": [
    "* **quiz2)** a와 b의 값을 교환하시오"
   ]
  },
  {
   "cell_type": "code",
   "execution_count": 58,
   "metadata": {
    "collapsed": false
   },
   "outputs": [
    {
     "name": "stdout",
     "output_type": "stream",
     "text": [
      "4 5\n",
      "4 5\n"
     ]
    }
   ],
   "source": [
    "a = 5\n",
    "b = 4\n",
    "\n",
    "temp = a\n",
    "a = b\n",
    "b = temp\n",
    "print a, b\n",
    "\n",
    "a = 5\n",
    "b = 4\n",
    "\n",
    "b, a = a, b\n",
    "print a, b"
   ]
  },
  {
   "cell_type": "markdown",
   "metadata": {},
   "source": [
    "* tuple() \n",
    " + 다른 객체를 튜플로 변경함"
   ]
  },
  {
   "cell_type": "code",
   "execution_count": 39,
   "metadata": {
    "collapsed": false
   },
   "outputs": [
    {
     "name": "stdout",
     "output_type": "stream",
     "text": [
      "(1, 2, 3, 4)\n",
      "('1', '2', '3', '4')\n"
     ]
    }
   ],
   "source": [
    "print tuple([1, 2, 3, 4])\n",
    "print tuple('1234')"
   ]
  },
  {
   "cell_type": "markdown",
   "metadata": {},
   "source": [
    "+ why tuple?\n",
    "1. 더 적은 메모리 사용\n",
    "2. immutable(불변)이기 때문에, 실수로 값이 바뀌지 않음 등등"
   ]
  },
  {
   "cell_type": "markdown",
   "metadata": {},
   "source": [
    "* tuple 연습문제\n",
    "\n",
    " 1. 임의의 이메일 주소를 받아서 사용자 아이다와 도메인을 각각 추출 후, 출력하시오\n",
    "e.g) apple@google.com을 사용자명(apple)과 도메인(google.com)으로 분리"
   ]
  },
  {
   "cell_type": "code",
   "execution_count": 77,
   "metadata": {
    "collapsed": true
   },
   "outputs": [],
   "source": [
    "nums_stiudndfadfdafdfdf = 100"
   ]
  },
  {
   "cell_type": "code",
   "execution_count": 78,
   "metadata": {
    "collapsed": true
   },
   "outputs": [],
   "source": [
    "import math"
   ]
  },
  {
   "cell_type": "code",
   "execution_count": null,
   "metadata": {
    "collapsed": true
   },
   "outputs": [],
   "source": []
  },
  {
   "cell_type": "markdown",
   "metadata": {},
   "source": []
  },
  {
   "cell_type": "code",
   "execution_count": null,
   "metadata": {
    "collapsed": true
   },
   "outputs": [],
   "source": []
  },
  {
   "cell_type": "code",
   "execution_count": null,
   "metadata": {
    "collapsed": true
   },
   "outputs": [],
   "source": []
  },
  {
   "cell_type": "code",
   "execution_count": null,
   "metadata": {
    "collapsed": true
   },
   "outputs": [],
   "source": []
  },
  {
   "cell_type": "code",
   "execution_count": null,
   "metadata": {
    "collapsed": true
   },
   "outputs": [],
   "source": []
  },
  {
   "cell_type": "code",
   "execution_count": null,
   "metadata": {
    "collapsed": true
   },
   "outputs": [],
   "source": []
  },
  {
   "cell_type": "code",
   "execution_count": null,
   "metadata": {
    "collapsed": true
   },
   "outputs": [],
   "source": []
  },
  {
   "cell_type": "code",
   "execution_count": 61,
   "metadata": {
    "collapsed": false
   },
   "outputs": [
    {
     "name": "stdout",
     "output_type": "stream",
     "text": [
      "macmath22\n"
     ]
    }
   ],
   "source": [
    "a = 'macmath22@gmail.com'\n",
    "name = a.split('@')[0]\n",
    "print name"
   ]
  },
  {
   "cell_type": "markdown",
   "metadata": {},
   "source": [
    "* dictionary\n",
    " + 키와 값을 갖는 data structure\n",
    " + 키는 해쉬값으로 저장됨\n",
    " + 순서를 따지지 않음. 즉, 인덱스가 없음"
   ]
  },
  {
   "cell_type": "code",
   "execution_count": 63,
   "metadata": {
    "collapsed": false
   },
   "outputs": [
    {
     "name": "stdout",
     "output_type": "stream",
     "text": [
      "{}\n",
      "{'python': 'best', 'java': 'good', 'c++': 'better'}\n",
      "{'python': 'best222', 'java': 'good'}\n"
     ]
    }
   ],
   "source": [
    "empty_dict = {}\n",
    "print empty_dict\n",
    "\n",
    "dict1 = {'python' : 'best', 'java' : 'good', 'c++' : 'better'}\n",
    "print dict1\n",
    "\n",
    "dict2 = {}\n",
    "\n",
    "dict2['python'] = 'best'\n",
    "dict2['java'] = 'good'\n",
    "dict2['python'] = 'best222'\n",
    "\n",
    "print dict2"
   ]
  },
  {
   "cell_type": "markdown",
   "metadata": {},
   "source": [
    "* dict()\n",
    " + dictionary로 변환.\n",
    " + 두값으로 이루어진 시퀀스를 변환 가능. 첫번째 항목이 key, 두번째 항목이 value로 사용됨\n",
    " "
   ]
  },
  {
   "cell_type": "code",
   "execution_count": 64,
   "metadata": {
    "collapsed": false
   },
   "outputs": [
    {
     "name": "stdout",
     "output_type": "stream",
     "text": [
      "{1: 2, 2: 3, 3: 6}\n",
      "{1: 2, 2: 3, 3: 6}\n",
      "{1: 2, 2: 3, 3: 6}\n"
     ]
    }
   ],
   "source": [
    "a = [[1, 2], [2, 3], [3, 6]]\n",
    "print dict(a)\n",
    "\n",
    "a = [(1, 2), (2, 3), (3, 6)]\n",
    "print dict(a)\n",
    "\n",
    "a = ((1, 2), (2, 3), (3, 6))\n",
    "print dict(a)"
   ]
  },
  {
   "cell_type": "markdown",
   "metadata": {},
   "source": [
    "+ 항목 추가하고 변경하기"
   ]
  },
  {
   "cell_type": "code",
   "execution_count": 46,
   "metadata": {
    "collapsed": false
   },
   "outputs": [
    {
     "name": "stdout",
     "output_type": "stream",
     "text": [
      "{'python': 'best', 'go': 'gogogo', 'java': 'soso', 'c++': 'better'}\n"
     ]
    }
   ],
   "source": [
    "dict1 = {'python' : 'best', 'java' : 'good', 'c++' : 'better'}\n",
    "dict1['go'] = 'gogogo'\n",
    "dict1['java'] = 'soso'\n",
    "\n",
    "print dict1"
   ]
  },
  {
   "cell_type": "markdown",
   "metadata": {},
   "source": [
    "+ update()\n",
    " * 두 딕셔너리를 병합함\n",
    " * 겹치는 키가 있다면 parameter로 전달되는 키 값이 overwrite된다."
   ]
  },
  {
   "cell_type": "code",
   "execution_count": 65,
   "metadata": {
    "collapsed": false
   },
   "outputs": [
    {
     "name": "stdout",
     "output_type": "stream",
     "text": [
      "{'java': 'soso', 'python': 'best', 'javascript': 'too much', 'ruby': 'elegant', 'c++': 'better'}\n",
      "{'java': 'soso', 'javascript': 'too much', 'ruby': 'elegant'}\n"
     ]
    }
   ],
   "source": [
    "dict1 = {'python' : 'best', 'java' : 'good', 'c++' : 'better'}\n",
    "dict2 = {'ruby' : 'elegant', 'javascript' : 'too much', 'java' : 'soso'}\n",
    "\n",
    "dict1.update(dict2)\n",
    "print dict1\n",
    "print dict2"
   ]
  },
  {
   "cell_type": "code",
   "execution_count": 66,
   "metadata": {
    "collapsed": false
   },
   "outputs": [
    {
     "ename": "KeyError",
     "evalue": "'jasa'",
     "output_type": "error",
     "traceback": [
      "\u001b[0;31m---------------------------------------------------------------------------\u001b[0m",
      "\u001b[0;31mKeyError\u001b[0m                                  Traceback (most recent call last)",
      "\u001b[0;32m<ipython-input-66-e6fba3ee9f66>\u001b[0m in \u001b[0;36m<module>\u001b[0;34m()\u001b[0m\n\u001b[1;32m      1\u001b[0m \u001b[0;32mdel\u001b[0m \u001b[0mdict1\u001b[0m\u001b[0;34m[\u001b[0m\u001b[0;34m'java'\u001b[0m\u001b[0;34m]\u001b[0m\u001b[0;34m\u001b[0m\u001b[0m\n\u001b[0;32m----> 2\u001b[0;31m \u001b[0;32mdel\u001b[0m \u001b[0mdict1\u001b[0m\u001b[0;34m[\u001b[0m\u001b[0;34m'jasa'\u001b[0m\u001b[0;34m]\u001b[0m\u001b[0;34m\u001b[0m\u001b[0m\n\u001b[0m\u001b[1;32m      3\u001b[0m \u001b[0;34m\u001b[0m\u001b[0m\n\u001b[1;32m      4\u001b[0m \u001b[0;31m#dict['dfdf'] = 'dfdf'\u001b[0m\u001b[0;34m\u001b[0m\u001b[0;34m\u001b[0m\u001b[0m\n\u001b[1;32m      5\u001b[0m \u001b[0;31m#del dict['dicdf']\u001b[0m\u001b[0;34m\u001b[0m\u001b[0;34m\u001b[0m\u001b[0m\n",
      "\u001b[0;31mKeyError\u001b[0m: 'jasa'"
     ]
    }
   ],
   "source": [
    "del dict1['java']\n",
    "del dict1['jasa']\n",
    "\n",
    "#dict['dfdf'] = 'dfdf'\n",
    "#del dict['dicdf']"
   ]
  },
  {
   "cell_type": "markdown",
   "metadata": {},
   "source": [
    "* clear()\n",
    " + 딕셔너리의 모든 값을 초기화\n"
   ]
  },
  {
   "cell_type": "code",
   "execution_count": 116,
   "metadata": {
    "collapsed": true
   },
   "outputs": [
    {
     "name": "stdout",
     "output_type": "stream",
     "text": [
      "{1: 2, 2: 4, 4: 5}\n",
      "{}\n"
     ]
    }
   ],
   "source": [
    "a = {1 : 2, 2: 4, 4 : 5}\n",
    "print a\n",
    "a.clear()\n",
    "print a"
   ]
  },
  {
   "cell_type": "markdown",
   "metadata": {},
   "source": [
    "* in\n",
    " + key값 존재 확인"
   ]
  },
  {
   "cell_type": "code",
   "execution_count": 52,
   "metadata": {
    "collapsed": false
   },
   "outputs": [
    {
     "name": "stdout",
     "output_type": "stream",
     "text": [
      "False\n",
      "2\n"
     ]
    }
   ],
   "source": [
    "a = {'1' : 2, '2': 4, '4' : 5}\n",
    "print 1 in a\n",
    "print a['1']\n"
   ]
  },
  {
   "cell_type": "markdown",
   "metadata": {},
   "source": [
    "* value 얻기\n",
    " + [key]로 얻거나\n",
    " + .get() 함수로 얻음"
   ]
  },
  {
   "cell_type": "code",
   "execution_count": 67,
   "metadata": {
    "collapsed": false
   },
   "outputs": [
    {
     "name": "stdout",
     "output_type": "stream",
     "text": [
      "2\n"
     ]
    },
    {
     "ename": "KeyError",
     "evalue": "'3'",
     "output_type": "error",
     "traceback": [
      "\u001b[0;31m---------------------------------------------------------------------------\u001b[0m",
      "\u001b[0;31mKeyError\u001b[0m                                  Traceback (most recent call last)",
      "\u001b[0;32m<ipython-input-67-db24a6666a60>\u001b[0m in \u001b[0;36m<module>\u001b[0;34m()\u001b[0m\n\u001b[1;32m      2\u001b[0m \u001b[0;34m\u001b[0m\u001b[0m\n\u001b[1;32m      3\u001b[0m \u001b[0;32mprint\u001b[0m \u001b[0ma\u001b[0m\u001b[0;34m[\u001b[0m\u001b[0;34m'1'\u001b[0m\u001b[0;34m]\u001b[0m\u001b[0;34m\u001b[0m\u001b[0m\n\u001b[0;32m----> 4\u001b[0;31m \u001b[0;32mprint\u001b[0m \u001b[0ma\u001b[0m\u001b[0;34m[\u001b[0m\u001b[0;34m'3'\u001b[0m\u001b[0;34m]\u001b[0m\u001b[0;34m\u001b[0m\u001b[0m\n\u001b[0m",
      "\u001b[0;31mKeyError\u001b[0m: '3'"
     ]
    }
   ],
   "source": [
    "a = {'1' : 2, '2': 4, '4' : 5}\n",
    "\n",
    "print a['1']\n",
    "print a['3']"
   ]
  },
  {
   "cell_type": "code",
   "execution_count": 54,
   "metadata": {
    "collapsed": false
   },
   "outputs": [
    {
     "name": "stdout",
     "output_type": "stream",
     "text": [
      "2\n",
      "default\n",
      "None\n"
     ]
    }
   ],
   "source": [
    "print a.get('1')\n",
    "print a.get('3', 'default')\n",
    "print a.get('3')"
   ]
  },
  {
   "cell_type": "markdown",
   "metadata": {},
   "source": [
    "* 모든 keys, 모든 values 얻기\n",
    " + keys()\n",
    " + values()\n",
    "* 키-값 튜플로 얻기\n",
    " + items()"
   ]
  },
  {
   "cell_type": "code",
   "execution_count": 69,
   "metadata": {
    "collapsed": false
   },
   "outputs": [
    {
     "name": "stdout",
     "output_type": "stream",
     "text": [
      "['green', 'red', 'yellow'] ['fly', 'stop', 'go faster']\n"
     ]
    }
   ],
   "source": [
    "signals = {'green' : 'fly', 'yellow' : 'go faster', 'red' : 'stop'}\n",
    "keys = signals.keys()\n",
    "values = signals.values()\n",
    "\n",
    "print keys, values"
   ]
  },
  {
   "cell_type": "code",
   "execution_count": 70,
   "metadata": {
    "collapsed": false
   },
   "outputs": [
    {
     "name": "stdout",
     "output_type": "stream",
     "text": [
      "[('green', 'fly'), ('red', 'stop'), ('yellow', 'go faster')]\n"
     ]
    }
   ],
   "source": [
    "print signals.items()"
   ]
  },
  {
   "cell_type": "markdown",
   "metadata": {},
   "source": [
    "* dictionary 연습문제\n",
    " 1. a = {11 : 3, 4 : 9, 14 : 22, 21 : 20, 5 : 8, 2 : 23} 에서 키의 최소값에 대응하는 값과, 키의 최대값에 대응하는 값을 출력하시오\n",
    " 2. 주어진 dictionary를 가지고, 다음 문장을 번역 하시오. translator = {'This' : 'Este', 'is' : 'es', 'python' : 'piton'}\n",
    "\n",
    "    \"This is python\"  "
   ]
  },
  {
   "cell_type": "code",
   "execution_count": 80,
   "metadata": {
    "collapsed": false
   },
   "outputs": [
    {
     "name": "stdout",
     "output_type": "stream",
     "text": [
      "23\n",
      "Este es piton\n"
     ]
    }
   ],
   "source": [
    "a = {11 : 3, 4 : 9, 14 : 22, 21 : 20, 5 : 8, 2 : 23}\n",
    "b = a.keys()\n",
    "b.sort()\n",
    "\n",
    "print a[b[0]]\n",
    "\n",
    "\n",
    "translator = {'This' : 'Este', 'is' : 'es', 'python' : 'piton'}\n",
    "\n",
    "a = \"This is python\".replace('This', translator['This'])\n",
    "b = a.replace('is', translator['is'])\n",
    "c = b.replace('python', translator['python'])\n",
    "\n",
    "print \"This is python\".replace('This', translator['This']).replace('is', translator['is']).replace('python', translator['python'])"
   ]
  },
  {
   "cell_type": "markdown",
   "metadata": {},
   "source": [
    "* set\n",
    " + dictionary에서 key만 남은 케이스\n",
    " + 수학에서의 집합과 동일함"
   ]
  },
  {
   "cell_type": "code",
   "execution_count": 81,
   "metadata": {
    "collapsed": false
   },
   "outputs": [
    {
     "name": "stdout",
     "output_type": "stream",
     "text": [
      "set([])\n",
      "set([8, 2, 4, 6])\n",
      "set([1, 3, 9, 5, 7])\n"
     ]
    }
   ],
   "source": [
    "empty_set = set()\n",
    "print empty_set\n",
    "\n",
    "even_nums = {2, 4, 6, 8}\n",
    "print even_nums\n",
    "\n",
    "odd_nums = {1, 3, 5, 7, 7, 9}\n",
    "print odd_nums\n",
    "\n",
    "# 순서가 없다."
   ]
  },
  {
   "cell_type": "markdown",
   "metadata": {},
   "source": [
    "* set()으로 집합으로 변환"
   ]
  },
  {
   "cell_type": "code",
   "execution_count": 59,
   "metadata": {
    "collapsed": false
   },
   "outputs": [
    {
     "name": "stdout",
     "output_type": "stream",
     "text": [
      "set(['i', 'p', 's', 'm'])\n",
      "set([1, 2, 3, 4])\n",
      "set([1, 3, 4])\n"
     ]
    }
   ],
   "source": [
    "print set('mississippi')\n",
    "print set([1, 2, 3, 1, 2, 3, 1, 3, 4])\n",
    "print set({1 : 2, 4 : 9, 3 : 8})"
   ]
  },
  {
   "cell_type": "markdown",
   "metadata": {},
   "source": [
    "+ set operations"
   ]
  },
  {
   "cell_type": "code",
   "execution_count": 82,
   "metadata": {
    "collapsed": false
   },
   "outputs": [
    {
     "name": "stdout",
     "output_type": "stream",
     "text": [
      "set([2])\n",
      "set([2])\n",
      "set([1, 2, 3, 4])\n",
      "set([1, 2, 3, 4])\n",
      "set([1])\n",
      "set([1])\n",
      "set([1, 3, 4])\n",
      "set([1, 3, 4])\n",
      "False\n",
      "False\n"
     ]
    }
   ],
   "source": [
    "a = {1, 2}\n",
    "b = {2, 3, 4}\n",
    "\n",
    "print a.intersection(b)\n",
    "print a & b\n",
    "\n",
    "print a.union(b)\n",
    "print a | b\n",
    "\n",
    "print a.difference(b)\n",
    "print a - b\n",
    "\n",
    "print a ^ b\n",
    "print a.symmetric_difference(b) # 양쪽 모두에 들어있지 않은 멤버\n",
    "\n",
    "print a <= b\n",
    "print a.issubset(b)"
   ]
  },
  {
   "cell_type": "markdown",
   "metadata": {},
   "source": [
    "* set 연습문제\n",
    " 1. 영어 수업을 듣는 학생 집합 : {'Aaron', 'Tracy', 'David', 'Grant', 'Michael', 'Tim'}\n",
    "    수학 수업을 듣는 학생 집합 : {'Aaron', 'David', 'Smith', 'Bill', 'Tim', 'Cathy', 'Carl'}\n",
    "    \n",
    "    이라고 할 때, 전체 학생 중 두과목 모두 듣는 학생의 비율은 얼마인가?"
   ]
  },
  {
   "cell_type": "code",
   "execution_count": 65,
   "metadata": {
    "collapsed": false
   },
   "outputs": [
    {
     "name": "stdout",
     "output_type": "stream",
     "text": [
      "0.3\n"
     ]
    }
   ],
   "source": [
    "a = {'Aaron', 'Tracy', 'David', 'Grant', 'Michael', 'Tim'} \n",
    "b = {'Aaron', 'David', 'Smith', 'Bill', 'Tim', 'Cathy', 'Carl'}\n",
    "\n",
    "c = len(a | b)\n",
    "d = len(a & b)\n",
    "\n",
    "print float(c) / d"
   ]
  }
 ],
 "metadata": {
  "kernelspec": {
   "display_name": "Python 2",
   "language": "python",
   "name": "python2"
  },
  "language_info": {
   "codemirror_mode": {
    "name": "ipython",
    "version": 2
   },
   "file_extension": ".py",
   "mimetype": "text/x-python",
   "name": "python",
   "nbconvert_exporter": "python",
   "pygments_lexer": "ipython2",
   "version": "2.7.13"
  }
 },
 "nbformat": 4,
 "nbformat_minor": 1
}
