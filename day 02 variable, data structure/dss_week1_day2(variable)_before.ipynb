{
 "cells": [
  {
   "cell_type": "markdown",
   "metadata": {},
   "source": [
    "# Data Science & Python "
   ]
  },
  {
   "cell_type": "markdown",
   "metadata": {},
   "source": [
    "## Hello python"
   ]
  },
  {
   "cell_type": "code",
   "execution_count": 140,
   "metadata": {
    "collapsed": false
   },
   "outputs": [
    {
     "name": "stdout",
     "output_type": "stream",
     "text": [
      "Hello World\n"
     ]
    }
   ],
   "source": [
    "print 'Hello World'"
   ]
  },
  {
   "cell_type": "markdown",
   "metadata": {},
   "source": [
    "#### Markdown practice"
   ]
  },
  {
   "cell_type": "markdown",
   "metadata": {},
   "source": [
    "# Hello Python\n",
    "## hello\n",
    "### 제목크기는 #의 갯수로 지정할 수 있다.\n",
    "### 셀 선택 후 m누르면 주석으로 달수 있음."
   ]
  },
  {
   "cell_type": "code",
   "execution_count": 141,
   "metadata": {
    "collapsed": false
   },
   "outputs": [
    {
     "name": "stdout",
     "output_type": "stream",
     "text": [
      "hello world\n"
     ]
    }
   ],
   "source": [
    "print \"hello world\""
   ]
  },
  {
   "cell_type": "markdown",
   "metadata": {},
   "source": [
    "# Hello markdown1\n",
    "## Hello markdown2\n",
    "### Hello markdown3\n",
    "#### Hello markdown4\n",
    "\n",
    "* python 2.7\n",
    "* python 3.5\n",
    "\n",
    "```python\n",
    "s = \"Python syntax highlighting\"\n",
    "print s\n",
    "def add(a, b):\n",
    "    return a + b\n",
    "```\n",
    "\n",
    "> Blockquotes starts\n",
    "> This line is part of the same quote.\n",
    "\n",
    "> Good\n",
    "\n",
    "\n",
    "This is *python* #앞뒤로 *를 주면 이탤릭이 된다.\n",
    "\n",
    "This is **python** #* 두개 주면 강조.\n",
    "\n",
    "This is python\n",
    "\n",
    "[python webpage](https://www.python.org) #대괄호를 치면 링크 제목, 괄호 이용해서 주소.\n"
   ]
  },
  {
   "cell_type": "markdown",
   "metadata": {},
   "source": [
    "## Basic data type\n",
    "* variable declaration & value assignment (변수 선언 및 값 할당)"
   ]
  },
  {
   "cell_type": "markdown",
   "metadata": {},
   "source": [
    "##### = -> 대입 연산자,  == -> 비교 연산자 "
   ]
  },
  {
   "cell_type": "code",
   "execution_count": 142,
   "metadata": {
    "collapsed": true
   },
   "outputs": [],
   "source": [
    "a = 9   # int\n",
    "b = 1000 # int\n",
    "c = 12.677 # float\n",
    "\n",
    "d = 'this is python' #문자열 string\n",
    "\n",
    "e = True \n",
    "f = False # Boolean 주석\n",
    "\n",
    "g = 1.633e8 # 가독성"
   ]
  },
  {
   "cell_type": "code",
   "execution_count": 143,
   "metadata": {
    "collapsed": false
   },
   "outputs": [
    {
     "name": "stdout",
     "output_type": "stream",
     "text": [
      "9\n",
      "9 1000\n",
      "1000\n",
      "12.677\n",
      "this is python\n",
      "True\n",
      "False\n",
      "163300000.0\n"
     ]
    }
   ],
   "source": [
    "print a\n",
    "print a, b #한 칸 띄고 같이 쓸수 있음\n",
    "print b\n",
    "print c\n",
    "print d\n",
    "print e\n",
    "print f\n",
    "print g"
   ]
  },
  {
   "cell_type": "markdown",
   "metadata": {},
   "source": [
    "* variable naming (변수 이름 규칙)"
   ]
  },
  {
   "cell_type": "code",
   "execution_count": 144,
   "metadata": {
    "collapsed": false
   },
   "outputs": [
    {
     "ename": "SyntaxError",
     "evalue": "invalid syntax (<ipython-input-144-0bf0f3f6c1d7>, line 9)",
     "output_type": "error",
     "traceback": [
      "\u001b[0;36m  File \u001b[0;32m\"<ipython-input-144-0bf0f3f6c1d7>\"\u001b[0;36m, line \u001b[0;32m9\u001b[0m\n\u001b[0;31m    3abd=3 #숫자가 먼저 나오면 안됨. 숫자만 나오면 헷갈리니까!\u001b[0m\n\u001b[0m       ^\u001b[0m\n\u001b[0;31mSyntaxError\u001b[0m\u001b[0;31m:\u001b[0m invalid syntax\n"
     ]
    }
   ],
   "source": [
    "a = 4\n",
    "a1 = 5\n",
    "a_123 = 4545\n",
    "ABC = 'ABC'\n",
    "_124 = 'string'\n",
    "_abc = 'abc'\n",
    "\n",
    "#안되는 것들\n",
    "3abd=3 #숫자가 먼저 나오면 안됨. 숫자만 나오면 헷갈리니까!\n",
    "#띄어쓰기가 필요한 경우는 _ 이용."
   ]
  },
  {
   "cell_type": "markdown",
   "metadata": {},
   "source": [
    "* reserved keywords (예약어)도 변수명으로 사용할 수 없다."
   ]
  },
  {
   "cell_type": "code",
   "execution_count": 145,
   "metadata": {
    "collapsed": false
   },
   "outputs": [
    {
     "ename": "SyntaxError",
     "evalue": "invalid syntax (<ipython-input-145-0e03c891206d>, line 1)",
     "output_type": "error",
     "traceback": [
      "\u001b[0;36m  File \u001b[0;32m\"<ipython-input-145-0e03c891206d>\"\u001b[0;36m, line \u001b[0;32m1\u001b[0m\n\u001b[0;31m    class = 3\u001b[0m\n\u001b[0m          ^\u001b[0m\n\u001b[0;31mSyntaxError\u001b[0m\u001b[0;31m:\u001b[0m invalid syntax\n"
     ]
    }
   ],
   "source": [
    "class = 3\n",
    "return = 5\n",
    "for = 4 \n",
    "if = 5\n",
    "while = 0\n",
    "def = 11\n"
   ]
  },
  {
   "cell_type": "markdown",
   "metadata": {},
   "source": [
    "* check variable type (변수 타입) "
   ]
  },
  {
   "cell_type": "code",
   "execution_count": 146,
   "metadata": {
    "collapsed": false
   },
   "outputs": [
    {
     "name": "stdout",
     "output_type": "stream",
     "text": [
      "9\n",
      "<type 'int'>\n",
      "1000\n",
      "<type 'int'>\n",
      "12.677\n",
      "<type 'float'>\n",
      "this is python\n",
      "<type 'str'>\n",
      "True\n",
      "<type 'bool'>\n",
      "[<type 'int'>, <type 'int'>, <type 'float'>, <type 'str'>]\n"
     ]
    }
   ],
   "source": [
    "print a\n",
    "print type(a)\n",
    "print b\n",
    "print type(b)\n",
    "print c\n",
    "print type(c)\n",
    "print d\n",
    "print type(d)\n",
    "print e\n",
    "print type(e)\n",
    "print [type(a),type(b),type(c),type(d)]"
   ]
  },
  {
   "cell_type": "code",
   "execution_count": 2,
   "metadata": {
    "collapsed": false
   },
   "outputs": [
    {
     "name": "stdout",
     "output_type": "stream",
     "text": [
      "<type 'int'>\n",
      "<type 'float'>\n",
      "<type 'str'>\n"
     ]
    }
   ],
   "source": [
    "integer_ex = 1234\n",
    "float_ex = 123.45\n",
    "string_ex = \"python\"\n",
    "\n",
    "print(type(integer_ex))\n",
    "print(type(float_ex))\n",
    "print(type(string_ex))"
   ]
  },
  {
   "cell_type": "markdown",
   "metadata": {},
   "source": [
    "* numbers"
   ]
  },
  {
   "cell_type": "code",
   "execution_count": 147,
   "metadata": {
    "collapsed": false
   },
   "outputs": [
    {
     "name": "stdout",
     "output_type": "stream",
     "text": [
      "78\n",
      "12\n",
      "85\n",
      "3.4\n",
      "3.0\n",
      "2\n",
      "64\n"
     ]
    }
   ],
   "source": [
    "print 17 + 5 + 56\n",
    "print 17 - 5\n",
    "print 17 * 5\n",
    "\n",
    "print 17.0 / 5 #실수가 정수에 우선함.\n",
    "print 17.0 // 5 #몫만 나오게\n",
    "\n",
    "print 17 % 5 #나머지만 나오게\n",
    "print 4 ** 3 #제곱"
   ]
  },
  {
   "cell_type": "code",
   "execution_count": 7,
   "metadata": {
    "collapsed": false
   },
   "outputs": [
    {
     "name": "stdout",
     "output_type": "stream",
     "text": [
      "4.0\n",
      "2\n",
      "2.25\n"
     ]
    }
   ],
   "source": [
    "print(8/2.0)\n",
    "print(9/4) #python3에서는 아래와 결과값 같게 나오지만, python2에서는 integer끼리의 계산은 integer만 나옴. 2.25 is rounded down to 2\n",
    "print(9/4.0)"
   ]
  },
  {
   "cell_type": "code",
   "execution_count": 148,
   "metadata": {
    "collapsed": false
   },
   "outputs": [
    {
     "name": "stdout",
     "output_type": "stream",
     "text": [
      "1014\n",
      "-986\n",
      "12\n",
      "12.5\n"
     ]
    }
   ],
   "source": [
    "a=14\n",
    "b1=25\n",
    "b2=25.0\n",
    "print a+b\n",
    "print a-b\n",
    "print b1/2 #둘의 차이를 명확히. 위에서 이미 다룬 적 있음.\n",
    "print b2/2"
   ]
  },
  {
   "cell_type": "code",
   "execution_count": 149,
   "metadata": {
    "collapsed": false
   },
   "outputs": [
    {
     "ename": "ZeroDivisionError",
     "evalue": "integer division or modulo by zero",
     "output_type": "error",
     "traceback": [
      "\u001b[0;31m---------------------------------------------------------------------------\u001b[0m",
      "\u001b[0;31mZeroDivisionError\u001b[0m                         Traceback (most recent call last)",
      "\u001b[0;32m<ipython-input-149-a7561d933d33>\u001b[0m in \u001b[0;36m<module>\u001b[0;34m()\u001b[0m\n\u001b[1;32m      1\u001b[0m \u001b[0ma\u001b[0m \u001b[1;33m=\u001b[0m \u001b[1;36m100\u001b[0m\u001b[1;33m\u001b[0m\u001b[0m\n\u001b[1;32m      2\u001b[0m \u001b[0ma\u001b[0m \u001b[1;33m=\u001b[0m \u001b[1;36m0\u001b[0m\u001b[1;33m\u001b[0m\u001b[0m\n\u001b[0;32m----> 3\u001b[0;31m \u001b[1;32mprint\u001b[0m \u001b[1;36m5\u001b[0m \u001b[1;33m/\u001b[0m \u001b[0ma\u001b[0m\u001b[1;33m\u001b[0m\u001b[0m\n\u001b[0m",
      "\u001b[0;31mZeroDivisionError\u001b[0m: integer division or modulo by zero"
     ]
    }
   ],
   "source": [
    "a = 100\n",
    "a = 0\n",
    "print 5 / a #division by zero"
   ]
  },
  {
   "cell_type": "markdown",
   "metadata": {},
   "source": [
    "* operator priorities (연산자 우선순위)"
   ]
  },
  {
   "cell_type": "code",
   "execution_count": 150,
   "metadata": {
    "collapsed": false
   },
   "outputs": [
    {
     "name": "stdout",
     "output_type": "stream",
     "text": [
      "23\n",
      "32\n"
     ]
    }
   ],
   "source": [
    "print 3 + 5 * 4\n",
    "print (3 + 5) * 4    "
   ]
  },
  {
   "cell_type": "markdown",
   "metadata": {},
   "source": [
    "*  **quiz1)** 다음의 각 a값을 출력 했을 때 결과는? \n"
   ]
  },
  {
   "cell_type": "code",
   "execution_count": 8,
   "metadata": {
    "collapsed": false
   },
   "outputs": [
    {
     "name": "stdout",
     "output_type": "stream",
     "text": [
      "9\n",
      "6\n",
      "9\n"
     ]
    }
   ],
   "source": [
    "a = 9\n",
    "print a\n",
    "a - 3 #실행만 하고 출력은 일어나지 않는 것.\n",
    "print(a-3) #이렇게 하면 6 출력되겠지\n",
    "print a #변수는 대입이 일어나지 않는 이상 바뀌지 않는다.\n",
    "#output 없애는 게 o"
   ]
  },
  {
   "cell_type": "markdown",
   "metadata": {},
   "source": [
    "* expression evaluation & assignment (식평가 & 대입)"
   ]
  },
  {
   "cell_type": "code",
   "execution_count": 10,
   "metadata": {
    "collapsed": false
   },
   "outputs": [
    {
     "name": "stdout",
     "output_type": "stream",
     "text": [
      "6\n",
      "2 1\n"
     ]
    }
   ],
   "source": [
    "a = 9\n",
    "temp = a - 3\n",
    "a = temp\n",
    "print a\n",
    "\n",
    "# 두 변수의 값 바꿀 때 temp is used.\n",
    "won = 1\n",
    "two = 2\n",
    "temp = won\n",
    "won = two\n",
    "two = temp\n",
    "print won, two"
   ]
  },
  {
   "cell_type": "code",
   "execution_count": 14,
   "metadata": {
    "collapsed": false,
    "scrolled": true
   },
   "outputs": [
    {
     "name": "stdout",
     "output_type": "stream",
     "text": [
      "6\n",
      "3\n",
      "0\n"
     ]
    }
   ],
   "source": [
    "#python의 간결함\n",
    "a = 9\n",
    "a = a - 3 #a-3을 다시 a에 대입하는 것.\n",
    "print a\n",
    "a -= 3  # a = a-3\n",
    "print a\n",
    "a -= 3\n",
    "print(a)"
   ]
  },
  {
   "cell_type": "code",
   "execution_count": 154,
   "metadata": {
    "collapsed": false
   },
   "outputs": [
    {
     "name": "stdout",
     "output_type": "stream",
     "text": [
      "18\n",
      "20\n",
      "400\n"
     ]
    }
   ],
   "source": [
    "a = 9\n",
    "a *= 2\n",
    "print a\n",
    "\n",
    "a += 2\n",
    "print a\n",
    "\n",
    "a **= 2\n",
    "\n",
    "print a"
   ]
  },
  {
   "cell_type": "markdown",
   "metadata": {},
   "source": [
    "* type conversion (형변환)"
   ]
  },
  {
   "cell_type": "code",
   "execution_count": 15,
   "metadata": {
    "collapsed": false
   },
   "outputs": [
    {
     "name": "stdout",
     "output_type": "stream",
     "text": [
      "1\n",
      "0\n",
      "1.0\n",
      "0.0\n",
      "True\n",
      "False\n",
      "**************************************************\n",
      "1\n",
      "1.0\n",
      "True\n",
      "0\n",
      "0.0\n",
      "False\n"
     ]
    }
   ],
   "source": [
    "# bool type\n",
    "# int()\n",
    "\n",
    "print int(True)\n",
    "print int(False)\n",
    "print float(True)\n",
    "print float(False)\n",
    "print str(True)\n",
    "print str(False)\n",
    "\n",
    "print(\"*\"*50)\n",
    "\n",
    "print(int(True))\n",
    "print(float(True))\n",
    "print(str(True))\n",
    "\n",
    "print(int(False))\n",
    "print(float(False))\n",
    "print(str(False))\n"
   ]
  },
  {
   "cell_type": "code",
   "execution_count": 16,
   "metadata": {
    "collapsed": false
   },
   "outputs": [
    {
     "name": "stdout",
     "output_type": "stream",
     "text": [
      "98\n",
      "-23\n",
      "-23\n",
      "1234\n"
     ]
    }
   ],
   "source": [
    "print int(98.4432)\n",
    "print int('-23')\n",
    "print int(-23) \n",
    "print(int('1234')) #이건 int가 될 수 있지만,"
   ]
  },
  {
   "cell_type": "code",
   "execution_count": 157,
   "metadata": {
    "collapsed": false
   },
   "outputs": [
    {
     "ename": "ValueError",
     "evalue": "invalid literal for int() with base 10: 'python'",
     "output_type": "error",
     "traceback": [
      "\u001b[0;31m---------------------------------------------------------------------------\u001b[0m",
      "\u001b[0;31mValueError\u001b[0m                                Traceback (most recent call last)",
      "\u001b[0;32m<ipython-input-157-7ebb5b97ee44>\u001b[0m in \u001b[0;36m<module>\u001b[0;34m()\u001b[0m\n\u001b[0;32m----> 1\u001b[0;31m \u001b[1;32mprint\u001b[0m \u001b[0mint\u001b[0m\u001b[1;33m(\u001b[0m\u001b[1;34m'python'\u001b[0m\u001b[1;33m)\u001b[0m\u001b[1;33m\u001b[0m\u001b[0m\n\u001b[0m",
      "\u001b[0;31mValueError\u001b[0m: invalid literal for int() with base 10: 'python'"
     ]
    }
   ],
   "source": [
    "print int('python') #이건 int가 될 수 없다..."
   ]
  },
  {
   "cell_type": "markdown",
   "metadata": {},
   "source": [
    "* import math "
   ]
  },
  {
   "cell_type": "code",
   "execution_count": 158,
   "metadata": {
    "collapsed": true
   },
   "outputs": [],
   "source": [
    "import math"
   ]
  },
  {
   "cell_type": "code",
   "execution_count": 159,
   "metadata": {
    "collapsed": false
   },
   "outputs": [
    {
     "name": "stdout",
     "output_type": "stream",
     "text": [
      "['__doc__', '__name__', '__package__', 'acos', 'acosh', 'asin', 'asinh', 'atan', 'atan2', 'atanh', 'ceil', 'copysign', 'cos', 'cosh', 'degrees', 'e', 'erf', 'erfc', 'exp', 'expm1', 'fabs', 'factorial', 'floor', 'fmod', 'frexp', 'fsum', 'gamma', 'hypot', 'isinf', 'isnan', 'ldexp', 'lgamma', 'log', 'log10', 'log1p', 'modf', 'pi', 'pow', 'radians', 'sin', 'sinh', 'sqrt', 'tan', 'tanh', 'trunc']\n",
      "3.14159265359\n",
      "0.999822729504\n",
      "0.909297426826\n",
      "2.71828182846\n",
      "1.0\n"
     ]
    }
   ],
   "source": [
    "print dir(math)\n",
    "print math.pi\n",
    "print math.log(2.7178)\n",
    "print math.sin(2)\n",
    "print math.e\n",
    "print math.log(math.e) #e를 자연로그 취하니까."
   ]
  },
  {
   "cell_type": "code",
   "execution_count": null,
   "metadata": {
    "collapsed": true
   },
   "outputs": [],
   "source": []
  },
  {
   "cell_type": "markdown",
   "metadata": {},
   "source": [
    "* float (부동소수점, 한마디로 실수)"
   ]
  },
  {
   "cell_type": "code",
   "execution_count": 23,
   "metadata": {
    "collapsed": false
   },
   "outputs": [
    {
     "name": "stdout",
     "output_type": "stream",
     "text": [
      "98.45\n",
      "154300000.0\n",
      "0.0123\n",
      "\n",
      "98.343\n",
      "1332000000.0\n",
      "5.66666666667\n",
      "123.0\n"
     ]
    }
   ],
   "source": [
    "print 98.45\n",
    "print 1.543e8\n",
    "print(12.3e-3)\n",
    "print\n",
    "a = 98.343\n",
    "b = 1332.e6\n",
    "c = 17.0 / 3\n",
    "\n",
    "print a\n",
    "print b\n",
    "print c\n",
    "print 1.23e2"
   ]
  },
  {
   "cell_type": "markdown",
   "metadata": {},
   "source": [
    "* string (문자열)"
   ]
  },
  {
   "cell_type": "code",
   "execution_count": 25,
   "metadata": {
    "collapsed": false
   },
   "outputs": [
    {
     "name": "stdout",
     "output_type": "stream",
     "text": [
      "python\n",
      "python\n",
      "python\n",
      "two lines\n",
      "python\n",
      "two lines\n"
     ]
    }
   ],
   "source": [
    "#차이점 없음!\n",
    "print 'python' #제일 편함\n",
    "print \"python\"\n",
    "print '''python\n",
    "two lines'''\n",
    "print \"\"\"python\n",
    "two lines\"\"\""
   ]
  },
  {
   "cell_type": "code",
   "execution_count": 162,
   "metadata": {
    "collapsed": false
   },
   "outputs": [
    {
     "name": "stdout",
     "output_type": "stream",
     "text": [
      "python's nickname\n",
      "\"Did you have dinner?\"\n",
      "What's up buddy?\n",
      "How have you been?\n"
     ]
    }
   ],
   "source": [
    "print \"python's nickname\"\n",
    "print '\"Did you have dinner?\"'\n",
    "print \"\"\"What's up buddy?\n",
    "How have you been?\"\"\""
   ]
  },
  {
   "cell_type": "code",
   "execution_count": 163,
   "metadata": {
    "collapsed": false
   },
   "outputs": [
    {
     "name": "stdout",
     "output_type": "stream",
     "text": [
      "This is very long dffadfadfadfadfdafdafadffdafadff\n",
      "string....\n"
     ]
    }
   ],
   "source": [
    "print '''This is very long dffadfadfadfadfdafdafadffdafadff\n",
    "string....'''"
   ]
  },
  {
   "cell_type": "markdown",
   "metadata": {},
   "source": [
    "* string conversion (문자열 변환)"
   ]
  },
  {
   "cell_type": "code",
   "execution_count": 164,
   "metadata": {
    "collapsed": false
   },
   "outputs": [
    {
     "name": "stdout",
     "output_type": "stream",
     "text": [
      "98.4 <type 'float'>\n",
      "98.4 <type 'str'>\n",
      "99.4\n"
     ]
    }
   ],
   "source": [
    "a=98.4\n",
    "print str(a), type(a) #str(a) 는 여기서만 str로 print 하는거니까 type of a is still 'float'.\n",
    "print str(98.4), type(str(98.4))\n",
    "print a+1\n"
   ]
  },
  {
   "cell_type": "markdown",
   "metadata": {},
   "source": [
    "#### escape string (이스케이프 문자)\n",
    "* 문자열내의 일부 문자의 의미를 달리하여 `특정한 효과`를 주는 것\n",
    "* `\\n` : new line `\\t` : tab 등등\n",
    "\n"
   ]
  },
  {
   "cell_type": "code",
   "execution_count": 26,
   "metadata": {
    "collapsed": false
   },
   "outputs": [
    {
     "name": "stdout",
     "output_type": "stream",
     "text": [
      "The value is \t100\n",
      "The value is \n",
      "100\n"
     ]
    }
   ],
   "source": [
    "\n",
    "a = 100\n",
    "str1 = 'The value is \\t'\n",
    "\n",
    "print str1 + str(a)\n",
    "\n",
    "str2='The value is \\n'\n",
    "print str2 + str(a)"
   ]
  },
  {
   "cell_type": "code",
   "execution_count": 166,
   "metadata": {
    "collapsed": false
   },
   "outputs": [
    {
     "name": "stdout",
     "output_type": "stream",
     "text": [
      "Hello World\n",
      "<type 'str'>\n",
      "**********\n"
     ]
    }
   ],
   "source": [
    "print 'Hello' + ' World'\n",
    "print type('Hello')\n",
    "print '*'*10"
   ]
  },
  {
   "cell_type": "markdown",
   "metadata": {},
   "source": [
    "* **quiz2)** str2의 값은 무엇일까요?"
   ]
  },
  {
   "cell_type": "code",
   "execution_count": 167,
   "metadata": {
    "collapsed": false
   },
   "outputs": [
    {
     "name": "stdout",
     "output_type": "stream",
     "text": [
      "HaHaHaHaHo\n"
     ]
    }
   ],
   "source": [
    "str2 = 'Ha' * 4 + 'Ho'\n",
    "print str2"
   ]
  },
  {
   "cell_type": "markdown",
   "metadata": {},
   "source": [
    "* slicing string (문자 추출)\n",
    "* [start:end]"
   ]
  },
  {
   "cell_type": "code",
   "execution_count": 5,
   "metadata": {
    "collapsed": false
   },
   "outputs": [
    {
     "name": "stdout",
     "output_type": "stream",
     "text": [
      "1\n",
      "b\n",
      "d\n",
      "9\n",
      "\n",
      "13\n",
      "d\n",
      "\n"
     ]
    }
   ],
   "source": [
    "a = '123456789abcd'\n",
    "print a[0] #R을 제외한 모든 언어가 0부터 시작함\n",
    "print a[10]\n",
    "print a[-1] #뒤에서부터 몇번째인지.\n",
    "print a[-5]\n",
    "print\n",
    "print len(a) #length를 알아보고\n",
    "print a[len(a)-1] #마지막꺼 가져오기. len(list)-1 하면 맨 마지막 index가 되겠네. index가 0부터 시작하니까.\n",
    "#print letters[13]\n",
    "print a[13:19] # 이렇게 표현하는건 되는구나. out of range 안뜨네."
   ]
  },
  {
   "cell_type": "markdown",
   "metadata": {},
   "source": [
    "* Slicing"
   ]
  },
  {
   "cell_type": "code",
   "execution_count": 8,
   "metadata": {
    "collapsed": false
   },
   "outputs": [
    {
     "name": "stdout",
     "output_type": "stream",
     "text": [
      "H\n",
      "lo\n",
      "Hell\n",
      "\n",
      "Hell\n",
      "Hell\n",
      "Hello\n"
     ]
    }
   ],
   "source": [
    "letters=\"Hello\"\n",
    "print letters[0:1] #[출발:끝] 끝은 포함 안함.\n",
    "print letters[3:]\n",
    "print letters[:4]\n",
    "print\n",
    "print letters[0:-1]\n",
    "print letters[:-1]\n",
    "print letters[:]"
   ]
  },
  {
   "cell_type": "code",
   "execution_count": 13,
   "metadata": {
    "collapsed": false
   },
   "outputs": [
    {
     "name": "stdout",
     "output_type": "stream",
     "text": [
      "Hl\n",
      "Ho\n",
      "2468\n"
     ]
    }
   ],
   "source": [
    "#간격을 주고 싶으면?\n",
    "print letters[0:-1:2] #[출발:끝:주기]\n",
    "print(letters[0::4])\n",
    "\n",
    "a = '123456789abcd'\n",
    "print a[1:8:2]"
   ]
  },
  {
   "cell_type": "markdown",
   "metadata": {},
   "source": [
    "* string length (문자열의 길이)"
   ]
  },
  {
   "cell_type": "code",
   "execution_count": 15,
   "metadata": {
    "collapsed": false
   },
   "outputs": [
    {
     "name": "stdout",
     "output_type": "stream",
     "text": [
      "hello\n",
      "HELLO\n",
      "[2, 4, 1, 3]\n",
      "[1, 2, 3, 4]\n"
     ]
    }
   ],
   "source": [
    "a = \"hello\"\n",
    "a.replace('h', 'p')\n",
    "print(a) #a.replace()는 변화된 내용이 a에 저장되지 않는구나. .sort()와는 다름.\n",
    "print(a.upper()) #replace한것을 다시 a에 저장하지 않았으므로 바뀌지 않음\n",
    "a.lower()\n",
    "\n",
    "\n",
    "a = [2,4,1,3]\n",
    "print(a)\n",
    "a.sort()\n",
    "print(a) #a.sort()는 변화된 내용이 a에 저장됨."
   ]
  },
  {
   "cell_type": "markdown",
   "metadata": {},
   "source": [
    "#### 연습문제\n",
    "1. 1주일은 몇초 입니까?\n",
    "2. 구구단 7단을 계산하여 답을 순서대로 출력하시오\n",
    "3. 1에서 11까지의 합을 구하시오\n",
    "4. 우사인 볼트는 100m를 9.5초에 뛰었습니다. 이때 우사인 볼트의 평균 시속은 몇km인가요?\n",
    "5. 반지름이 10cm인 원의 넓이와 둘레를 출력하세요. \n",
    "6. a = 'python is a great language' 일 때, 맨 처음의 소문자 p를 대문자 P로 변경하고 싶다. 어떻게 하면 될까?"
   ]
  },
  {
   "cell_type": "code",
   "execution_count": 5,
   "metadata": {
    "collapsed": false
   },
   "outputs": [
    {
     "name": "stdout",
     "output_type": "stream",
     "text": [
      "604800\n",
      "7\n",
      "14\n",
      "21\n",
      "28\n",
      "35\n",
      "42\n",
      "49\n",
      "56\n",
      "63\n",
      "66\n",
      "37.8947368421\n",
      "314.159265359\n",
      "62.8318530718\n",
      "314.159265359\n",
      "62.8318530718\n",
      "Python is a great language\n"
     ]
    }
   ],
   "source": [
    "#1주일은 몇초인가.\n",
    "print 1*7*24*60*60\n",
    "\n",
    "#구구단 7단\n",
    "for i in [1,2,3,4,5,6,7,8,9]:\n",
    "    print 7*i\n",
    "    \n",
    "#1부터 11까지의 합.\n",
    "sum=0\n",
    "for i in [1,2,3,4,5,6,7,8,9,10,11]:\n",
    "    sum+=i\n",
    "print sum\n",
    "\n",
    "#100m를 9.5초에, 평균 시속은 몇 km?\n",
    "avg_vel=(3600/9.5)*0.1\n",
    "print avg_vel\n",
    "\n",
    "#반지름이 10cm인 원의 넓이와 둘레를 출력\n",
    "import math\n",
    "r=10\n",
    "s=math.pi*(r**2)\n",
    "l=2*math.pi*r\n",
    "print s\n",
    "print l\n",
    "\n",
    "pi=math.pi\n",
    "print pi*(r**2)\n",
    "print pi*r*2\n",
    "#a = 'python is a great language' 일 때, 맨 처음의 소문자 p를 대문자 P로 변경하고 싶다. 어떻게 하면 될까?\n",
    "sen = 'python is a great language'\n",
    "sen=sen.upper()[0]+sen[1:]\n",
    "print sen"
   ]
  },
  {
   "cell_type": "code",
   "execution_count": 1,
   "metadata": {
    "collapsed": false
   },
   "outputs": [
    {
     "name": "stdout",
     "output_type": "stream",
     "text": [
      "604800\n",
      "7\n",
      "14\n",
      "21\n",
      "28\n",
      "35\n",
      "42\n",
      "49\n",
      "56\n",
      "63\n",
      "66\n",
      "314.159265359\n",
      "62.8318530718\n",
      "Python is a great language\n",
      "Python is a great language\n"
     ]
    }
   ],
   "source": [
    "#1주일은 몇초 입니까?\n",
    "week_seconds = 1 * 7 * 24 * 60 *60\n",
    "print(week_seconds)\n",
    "\n",
    "#구구단 7단을 계산하여 답을 순서대로 출력하시오\n",
    "for i in range(1,10):\n",
    "    print(7*i)\n",
    "    \n",
    "#1에서 11까지의 합을 구하시오\n",
    "total = 0\n",
    "for i in range(1,12):\n",
    "    total += i\n",
    "    \n",
    "print(total)\n",
    "\n",
    "#우사인 볼트는 100m를 9.5초에 뛰었습니다. 이때 우사인 볼트의 평균 시속은 몇km인가요?\n",
    "\n",
    "\n",
    "#반지름이 10cm인 원의 넓이와 둘레를 출력하세요.\n",
    "import math\n",
    "r = 10\n",
    "s = math.pi * r**2\n",
    "l = 2 * math.pi * r\n",
    "print(s)\n",
    "print(l)\n",
    "\n",
    "#a = 'python is a great language' 일 때, 맨 처음의 소문자 p를 대문자 P로 변경하고 싶다. 어떻게 하면 될까?\n",
    "a = 'python is a great language'\n",
    "print(a[0].upper() + a[1:])\n",
    "#간단한 방법으로 capitalize를 이용할 수 있음.\n",
    "print(a.capitalize())"
   ]
  }
 ],
 "metadata": {
  "kernelspec": {
   "display_name": "Python 2",
   "language": "python",
   "name": "python2"
  },
  "language_info": {
   "codemirror_mode": {
    "name": "ipython",
    "version": 2
   },
   "file_extension": ".py",
   "mimetype": "text/x-python",
   "name": "python",
   "nbconvert_exporter": "python",
   "pygments_lexer": "ipython2",
   "version": "2.7.13"
  }
 },
 "nbformat": 4,
 "nbformat_minor": 1
}
