{
 "cells": [
  {
   "cell_type": "markdown",
   "metadata": {},
   "source": [
    "# Data Science & Python"
   ]
  },
  {
   "cell_type": "markdown",
   "metadata": {},
   "source": [
    "## 학습목표\n",
    " 1. list, tuple, dictionary, set에 대해 이해 및 실습\n"
   ]
  },
  {
   "cell_type": "markdown",
   "metadata": {},
   "source": [
    "## shift + tab -> 함수 도움말"
   ]
  },
  {
   "cell_type": "markdown",
   "metadata": {},
   "source": [
    "## List, Tuple, Dictionary, Set"
   ]
  },
  {
   "cell_type": "markdown",
   "metadata": {},
   "source": [
    "+ list & tuple\n",
    " * list - mutable  (자유롭게 값이 변경 될 수 있다.)\n",
    " * tuple - immutable (한번 생성되면 값을 바꿀 수 없다는 의미) string도 immutable"
   ]
  },
  {
   "cell_type": "code",
   "execution_count": 16,
   "metadata": {
    "collapsed": false
   },
   "outputs": [
    {
     "name": "stdout",
     "output_type": "stream",
     "text": [
      "[]\n",
      "<type 'list'>\n",
      "[]\n"
     ]
    }
   ],
   "source": [
    "a=[]\n",
    "print a\n",
    "print type(a)\n",
    "\n",
    "b=list()\n",
    "print b"
   ]
  },
  {
   "cell_type": "code",
   "execution_count": 17,
   "metadata": {
    "collapsed": false
   },
   "outputs": [
    {
     "name": "stdout",
     "output_type": "stream",
     "text": [
      "[1, 4, 5, 3]\n",
      "[]\n",
      "['Aaron', 'David', 'Bill', 'Michael', 'John']\n",
      "[]\n"
     ]
    }
   ],
   "source": [
    "empty_list = []\n",
    "first_names = ['Aaron', 'David', 'Bill', 'Michael', 'John']\n",
    "\n",
    "nums = [1, 4, 5, 3]\n",
    "print(nums)\n",
    "\n",
    "print(empty_list)\n",
    "print(first_names)\n",
    "\n",
    "empty_list2 = list() # []\n",
    "print empty_list2"
   ]
  },
  {
   "cell_type": "markdown",
   "metadata": {},
   "source": [
    "+ list() 함수\n",
    " + 다른 데이터 타입을 리스트로 변환할 때 사용"
   ]
  },
  {
   "cell_type": "code",
   "execution_count": 1,
   "metadata": {
    "collapsed": false
   },
   "outputs": [
    {
     "name": "stdout",
     "output_type": "stream",
     "text": [
      "['c', 'a', 't']\n",
      "['b', 'e', 'n', 'z', '&', 'b', 'm', 'w']\n",
      "('Monday', 'Tuesday', 'Wednesday')\n",
      "<type 'tuple'>\n",
      "['Monday', 'Tuesday', 'Wednesday'] <type 'list'>\n"
     ]
    }
   ],
   "source": [
    "a = 'cat'\n",
    "print list(a) # ''하나로 이루어진 string을 list로 바꾸면 한 글자씩 list에 반영됨.\n",
    "\n",
    "car=\"benz&bmw\"\n",
    "print list(car)\n",
    "\n",
    "test_tuple = ('Monday', 'Tuesday', 'Wednesday')\n",
    "print test_tuple\n",
    "print type(test_tuple)\n",
    "print list(test_tuple), type(list(test_tuple)) #list()를 통해, tuple을 list로 바꿀 수 있다."
   ]
  },
  {
   "cell_type": "markdown",
   "metadata": {},
   "source": [
    "+ string split 함수\n",
    " * 구분자로 구분되는 리스트를 반환 (빈번히 사용 됨)"
   ]
  },
  {
   "cell_type": "code",
   "execution_count": 4,
   "metadata": {
    "collapsed": false
   },
   "outputs": [
    {
     "name": "stdout",
     "output_type": "stream",
     "text": [
      "['1986/', '3/2', '']\n",
      "['199', '/05/1', '']\n",
      "['1986', '03', '20']\n",
      "['python', 'is', 'easy', 'to', 'learn']\n",
      "['python', 'is', 'easy', 'to', 'learn']\n",
      "[\"it's\", 'been', 'a', 'long', 'time', 'my', 'church']\n",
      "[\"it's\", 'been', 'a', 'long', 'time', 'my', 'church']\n"
     ]
    }
   ],
   "source": [
    "my_birth_day = '1986/03/20'\n",
    "print my_birth_day.split('0') #함수에 커서 놓고 shift+tab 하면 어떤 기능인지 볼 수 있음.\n",
    "my_bday = '1992/05/12'\n",
    "print my_bday.split(\"2\")\n",
    "\n",
    "result = my_birth_day.split('/')\n",
    "print result\n",
    "\n",
    "python_str = 'python is easy to learn'\n",
    "print python_str.split() #이건 공백과 같은 의미\n",
    "print python_str.split(' ')\n",
    "\n",
    "church = \"it's been a long time my church\"\n",
    "print(church.split())\n",
    "print(church.split(\" \"))"
   ]
  },
  {
   "cell_type": "code",
   "execution_count": 20,
   "metadata": {
    "collapsed": false
   },
   "outputs": [
    {
     "name": "stdout",
     "output_type": "stream",
     "text": [
      "['a', 'b', '', 'c', 'd', '', '', 'e']\n",
      "['a/b', 'c/d', '/e']\n"
     ]
    }
   ],
   "source": [
    "a = 'a/b//c/d///e'\n",
    "print a.split('/')\n",
    "print a.split('//')"
   ]
  },
  {
   "cell_type": "markdown",
   "metadata": {},
   "source": [
    "+ indexing\n",
    " * [] 연산자를 이용하여 항목 얻어오기\n",
    " * [i] - i번째 원소를 반환\n",
    " * i가 음수인 경우도 가능하며 마지막원소가 -1로 하여 앞으로 갈때마다 1씩 감소함"
   ]
  },
  {
   "cell_type": "code",
   "execution_count": 5,
   "metadata": {
    "collapsed": false
   },
   "outputs": [
    {
     "name": "stdout",
     "output_type": "stream",
     "text": [
      "1988\n",
      "1989\n",
      "2013\n",
      "['respond!', '1989', '2013', '2016', '2019']\n",
      "2019\n",
      "2016\n"
     ]
    },
    {
     "ename": "IndexError",
     "evalue": "list index out of range",
     "output_type": "error",
     "traceback": [
      "\u001b[0;31m---------------------------------------------------------------------------\u001b[0m",
      "\u001b[0;31mIndexError\u001b[0m                                Traceback (most recent call last)",
      "\u001b[0;32m<ipython-input-5-c8f6b80af06d>\u001b[0m in \u001b[0;36m<module>\u001b[0;34m()\u001b[0m\n\u001b[1;32m     13\u001b[0m \u001b[1;33m\u001b[0m\u001b[0m\n\u001b[1;32m     14\u001b[0m \u001b[1;31m# 예외 발생 (index가 bound를 넘어감)\u001b[0m\u001b[1;33m\u001b[0m\u001b[1;33m\u001b[0m\u001b[0m\n\u001b[0;32m---> 15\u001b[0;31m \u001b[1;32mprint\u001b[0m \u001b[0myears\u001b[0m\u001b[1;33m[\u001b[0m\u001b[1;36m5\u001b[0m\u001b[1;33m]\u001b[0m \u001b[1;31m#out of range\u001b[0m\u001b[1;33m\u001b[0m\u001b[0m\n\u001b[0m",
      "\u001b[0;31mIndexError\u001b[0m: list index out of range"
     ]
    }
   ],
   "source": [
    "#문자열에서 했던 것과 마찬가지\n",
    "#그러나 immutable이었던 string과 달리 list is mutable.\n",
    "years = ['1988', '1989', '2013', '2016', '2019']\n",
    "print years[0]\n",
    "print years[1]\n",
    "print years[2]\n",
    "years[0]='respond!' #mutable\n",
    "print years\n",
    "\n",
    "# 마지막 원소에 대한 접근 \n",
    "print years[len(years) - 1]\n",
    "print years[-2]\n",
    "\n",
    "# 예외 발생 (index가 bound를 넘어감)\n",
    "print years[5] #out of range"
   ]
  },
  {
   "cell_type": "code",
   "execution_count": 22,
   "metadata": {
    "collapsed": false
   },
   "outputs": [
    {
     "name": "stdout",
     "output_type": "stream",
     "text": [
      "[['sinsa', 'gangnam', 'jongro'], ['pangyo', 'gwacheon', 'guri', 1, 2, 100], ['seogwipo', 123.3], 'pyungchang']\n",
      "['sinsa', 'gangnam', 'jongro']\n",
      "jongro\n",
      "j\n",
      "123.3\n",
      "[['discrete', 'multivariate'], ['abnormal', 'addictive'], ['micro', 'macro']]\n",
      "['discrete', 'abnormal', 'micro']\n"
     ]
    }
   ],
   "source": [
    "seoul = ['sinsa', 'gangnam', 'jongro']\n",
    "gyeonggi = ['pangyo', 'gwacheon', 'guri', 1, 2, 100] #type이 달라도 담을 수 있다.\n",
    "jeju = ['seogwipo', 123.3]\n",
    "\n",
    "korea = [seoul, gyeonggi, jeju, 'pyungchang'] #list안에 list를 담고, string도 동시에 담은 list\n",
    "#print korea\n",
    "print korea\n",
    "#print korea[0]\n",
    "print korea[0]\n",
    "print korea[0][-1] #seoul의 마지막 원소\n",
    "print korea[0][-1][0] #seoul 안 jongro의 첫번째 원소\n",
    "print korea[2][1]\n",
    "\n",
    "cs = [\"discrete\", \"multivariate\"]\n",
    "ps = ['abnormal', 'addictive']\n",
    "econ = ['micro', 'macro']\n",
    "cu = [cs, ps, econ]\n",
    "print(cu)\n",
    "\n",
    "subject_freshmen = []\n",
    "for i in range(3):\n",
    "    subject_freshmen.append(cu[i][0])\n",
    "    \n",
    "print(subject_freshmen)"
   ]
  },
  {
   "cell_type": "code",
   "execution_count": 23,
   "metadata": {
    "collapsed": false
   },
   "outputs": [
    {
     "name": "stdout",
     "output_type": "stream",
     "text": [
      "['respond!', '1989', '2013', '2016', '2019']\n",
      "['1986', '1989', '2013', '2016', '2019']\n"
     ]
    }
   ],
   "source": [
    "print years\n",
    "years[0] = '1986' #mutable list\n",
    "print years"
   ]
  },
  {
   "cell_type": "markdown",
   "metadata": {},
   "source": [
    "* slicing"
   ]
  },
  {
   "cell_type": "code",
   "execution_count": 6,
   "metadata": {
    "collapsed": false
   },
   "outputs": [
    {
     "name": "stdout",
     "output_type": "stream",
     "text": [
      "['respond!', '1989']\n",
      "['1989', '2013', '2016', '2019']\n",
      "['respond!', '1989', '2013', '2016']\n"
     ]
    }
   ],
   "source": [
    "print years[0:2]\n",
    "print years[1:]\n",
    "print years[:-1]"
   ]
  },
  {
   "cell_type": "markdown",
   "metadata": {},
   "source": [
    "##함수를 사용해보자\n",
    "* append() \n",
    " + 리스트의 끝에 항목을 추가함"
   ]
  },
  {
   "cell_type": "code",
   "execution_count": 25,
   "metadata": {
    "collapsed": false
   },
   "outputs": [
    {
     "name": "stdout",
     "output_type": "stream",
     "text": [
      "[1, 2, 3, 4]\n",
      "[1, 2, 3, 4] [10, 20, 30, 40]\n",
      "[1, 2, 3, 4, [10, 20, 30, 40]]\n",
      "[1, 2, 3, 4, [10, 20, 30, 40], 10, 20, 30, 40]\n",
      "[1, 2, 3, 4, [10, 20, 30, 40], 10, 20, 30, 40, 100]\n",
      "[1, 2, 3, 4, [10, 20, 30, 40], 10, 20, 30, 40, 100, 'c']\n",
      "[10, 20, 30, 40, 123]\n"
     ]
    }
   ],
   "source": [
    "a=[1,2,3,4]\n",
    "b=[10,20,30,40]\n",
    "print a\n",
    "print a,b\n",
    "a.append(b) #list 안에 다른 type도 들어갈 수 있으므로 list 안에 list가 추가됨.\n",
    "print a\n",
    "\n",
    "a.extend(b) #list안의 원소만 list에 추가하고 싶으면 extend 이용하면 됨.\n",
    "print a\n",
    "\n",
    "a.append(100)\n",
    "print a\n",
    "\n",
    "a.append(\"c\")\n",
    "print a\n",
    "\n",
    "b.append(123)\n",
    "print b"
   ]
  },
  {
   "cell_type": "code",
   "execution_count": 26,
   "metadata": {
    "collapsed": false
   },
   "outputs": [
    {
     "name": "stdout",
     "output_type": "stream",
     "text": [
      "['1986', '1989', '2013', '2016', '2019']\n",
      "['1986', '1989', '2013', '2016', '2019', '2020']\n",
      "['1986', '1989', '2013', '2016', '2019', '2020', '2022']\n",
      "['1986', '1989', '2013', '2016', '2019', '2020', '2022', ['2024', '2025']]\n",
      "['1986', '1989', '2013', '2016', '2019', '2020', '2022', ['2024', '2025'], '2024', '2025']\n"
     ]
    }
   ],
   "source": [
    "print years\n",
    "years.append('2020')\n",
    "print years\n",
    "\n",
    "years.append('2022')\n",
    "print years\n",
    "\n",
    "years.append(['2024', '2025']) \n",
    "print years\n",
    "\n",
    "years.extend(['2024', '2025']) #extend는 원소만 추가!\n",
    "print years\n",
    "\n"
   ]
  },
  {
   "cell_type": "markdown",
   "metadata": {},
   "source": [
    "+ extend() \n",
    " * 리스트 합치기\n",
    " * += 로도 가능함"
   ]
  },
  {
   "cell_type": "code",
   "execution_count": 16,
   "metadata": {
    "collapsed": false
   },
   "outputs": [
    {
     "name": "stdout",
     "output_type": "stream",
     "text": [
      "[1, 2, 3, 4, 10, 20, 30, 40]\n",
      "[10, 20, 30, 40]\n",
      "[10, 20, 30, 40, 1, 2, 3, 4, 10, 20, 30, 40]\n"
     ]
    }
   ],
   "source": [
    "a = [1, 2, 3, 4]\n",
    "b = [10, 20, 30, 40]\n",
    "\n",
    "#a.append(b)\n",
    "a.extend(b)\n",
    "print a\n",
    "\n",
    "print b\n",
    "b += a #+는 extend와 같다.\n",
    "print b"
   ]
  },
  {
   "cell_type": "markdown",
   "metadata": {},
   "source": [
    "+ insert()로 항목추가\n",
    " * 리스트의 '원하는 위치'에 추가 가능 cf) append, extend는 무조건 뒤에 따라붙음"
   ]
  },
  {
   "cell_type": "code",
   "execution_count": 11,
   "metadata": {
    "collapsed": false,
    "scrolled": true
   },
   "outputs": [
    {
     "name": "stdout",
     "output_type": "stream",
     "text": [
      "[1, 2, 3, 4, 5, 10]\n",
      "[9, 1, 2, 3, 4, 5, 10, 100]\n"
     ]
    }
   ],
   "source": [
    "a = [1, 2, 4, 5, 10]\n",
    "\n",
    "a.insert(2, 3) # L.insert(index, object)\n",
    "print a\n",
    "a.insert(0, 9)\n",
    "\n",
    "a.insert(10, 100) # bound를 넘어가면 append와 동일하게 동작함. 마지막에 붙음.\n",
    "print a"
   ]
  },
  {
   "cell_type": "markdown",
   "metadata": {},
   "source": [
    "+ 인덱스로 아이템 삭제하기\n",
    " * del - list 객체의 함수가 아님"
   ]
  },
  {
   "cell_type": "code",
   "execution_count": 12,
   "metadata": {
    "collapsed": false
   },
   "outputs": [
    {
     "name": "stdout",
     "output_type": "stream",
     "text": [
      "[1, 2, 3, 4, 5]\n",
      "\n",
      "[1, 2, 3, 4]\n",
      "\n",
      "[2, 3, 4]\n"
     ]
    }
   ],
   "source": [
    "a = [1,2,3,4,5]\n",
    "print a\n",
    "print\n",
    "del a[-1] # python 구문 (할당연산자인 = 와 반대 역할을 함). del은 indexing으로 삭제함.\n",
    "print(a)\n",
    "print\n",
    "del a[0]\n",
    "print a"
   ]
  },
  {
   "cell_type": "markdown",
   "metadata": {},
   "source": [
    "+ remove()\n",
    " * 값으로 항목 삭제 하기"
   ]
  },
  {
   "cell_type": "code",
   "execution_count": 14,
   "metadata": {
    "collapsed": false
   },
   "outputs": [
    {
     "name": "stdout",
     "output_type": "stream",
     "text": [
      "[1, 2, 3, 4, 5]\n",
      "[1, 2, 4, 5]\n"
     ]
    },
    {
     "ename": "ValueError",
     "evalue": "list.remove(x): x not in list",
     "output_type": "error",
     "traceback": [
      "\u001b[0;31m---------------------------------------------------------------------------\u001b[0m",
      "\u001b[0;31mValueError\u001b[0m                                Traceback (most recent call last)",
      "\u001b[0;32m<ipython-input-14-8bd6544f0b71>\u001b[0m in \u001b[0;36m<module>\u001b[0;34m()\u001b[0m\n\u001b[1;32m      3\u001b[0m \u001b[0ma\u001b[0m\u001b[1;33m.\u001b[0m\u001b[0mremove\u001b[0m\u001b[1;33m(\u001b[0m\u001b[1;36m3\u001b[0m\u001b[1;33m)\u001b[0m \u001b[1;31m#값으로 지울 수 있다. 하지만 첫번째 만나는 것만 지움.\u001b[0m\u001b[1;33m\u001b[0m\u001b[0m\n\u001b[1;32m      4\u001b[0m \u001b[1;32mprint\u001b[0m \u001b[0ma\u001b[0m\u001b[1;33m\u001b[0m\u001b[0m\n\u001b[0;32m----> 5\u001b[0;31m \u001b[0ma\u001b[0m\u001b[1;33m.\u001b[0m\u001b[0mremove\u001b[0m\u001b[1;33m(\u001b[0m\u001b[1;36m88\u001b[0m\u001b[1;33m)\u001b[0m \u001b[1;31m#list에 없는 값을 지우려할 때 error 발생\u001b[0m\u001b[1;33m\u001b[0m\u001b[0m\n\u001b[0m",
      "\u001b[0;31mValueError\u001b[0m: list.remove(x): x not in list"
     ]
    }
   ],
   "source": [
    "a = [1, 2,3,4,5]\n",
    "print a\n",
    "a.remove(3) #값으로 지울 수 있다. 하지만 첫번째 만나는 것만 지움.\n",
    "print a\n",
    "a.remove(88) #list에 없는 값을 지우려할 때 error 발생"
   ]
  },
  {
   "cell_type": "markdown",
   "metadata": {},
   "source": [
    "+ pop() 항목을 얻은 후, 삭제"
   ]
  },
  {
   "cell_type": "code",
   "execution_count": 38,
   "metadata": {
    "collapsed": false
   },
   "outputs": [
    {
     "name": "stdout",
     "output_type": "stream",
     "text": [
      "[2, 1, 3, 4, 5]\n",
      "\n",
      "5\n",
      "[2, 1, 3, 4]\n",
      "\n",
      "2\n",
      "[1, 3, 4]\n"
     ]
    }
   ],
   "source": [
    "a = [1, 2, 1, 3, 4, 5]\n",
    "a.remove(1) #remove는 값으로 지운다.\n",
    "print a\n",
    "print\n",
    "b = a.pop() #빼내서 저장해라. index 안쓰면 마지막 꺼(-1)\n",
    "print b\n",
    "print a #pop한게 빠져나간 뒤 a 저장됨.\n",
    "print\n",
    "print a.pop(0)# index를 적어준다! pop이니까 index를 적어주는게 맞겠지!\n",
    "print a"
   ]
  },
  {
   "cell_type": "markdown",
   "metadata": {},
   "source": [
    "+ index()\n",
    " * 값으로 인덱스를 찾을 수 있다."
   ]
  },
  {
   "cell_type": "code",
   "execution_count": 1,
   "metadata": {
    "collapsed": false
   },
   "outputs": [
    {
     "name": "stdout",
     "output_type": "stream",
     "text": [
      "0\n",
      "2\n",
      "2\n"
     ]
    },
    {
     "ename": "ValueError",
     "evalue": "3 is not in list",
     "output_type": "error",
     "traceback": [
      "\u001b[0;31m---------------------------------------------------------------------------\u001b[0m",
      "\u001b[0;31mValueError\u001b[0m                                Traceback (most recent call last)",
      "\u001b[0;32m<ipython-input-1-67e32653153e>\u001b[0m in \u001b[0;36m<module>\u001b[0;34m()\u001b[0m\n\u001b[1;32m      7\u001b[0m \u001b[1;33m\u001b[0m\u001b[0m\n\u001b[1;32m      8\u001b[0m \u001b[0ma\u001b[0m\u001b[1;33m=\u001b[0m\u001b[1;33m[\u001b[0m\u001b[1;36m1\u001b[0m\u001b[1;33m,\u001b[0m\u001b[1;36m2\u001b[0m\u001b[1;33m,\u001b[0m\u001b[1;36m3\u001b[0m\u001b[1;33m,\u001b[0m\u001b[1;36m4\u001b[0m\u001b[1;33m]\u001b[0m\u001b[1;33m\u001b[0m\u001b[0m\n\u001b[0;32m----> 9\u001b[0;31m \u001b[1;32mprint\u001b[0m \u001b[0ma\u001b[0m\u001b[1;33m.\u001b[0m\u001b[0mindex\u001b[0m\u001b[1;33m(\u001b[0m\u001b[1;36m3\u001b[0m\u001b[1;33m,\u001b[0m\u001b[1;36m1\u001b[0m\u001b[1;33m,\u001b[0m\u001b[1;36m2\u001b[0m\u001b[1;33m)\u001b[0m\u001b[1;33m\u001b[0m\u001b[0m\n\u001b[0m",
      "\u001b[0;31mValueError\u001b[0m: 3 is not in list"
     ]
    }
   ],
   "source": [
    "a = [1, 2, 1, 3, 4, 5]\n",
    "\n",
    "print a.index(1) # L.index(value, [start, [stop]])\n",
    "print a.index(1, 1) #index 1부터 찾아라 즉 여기선 2(value) 이후 찾아라.\n",
    "#print a.index(1, 1, 1) #1부터 1까지 찾아라 그러니 없다.\n",
    "print a.index(1, 1, 7)\n",
    "\n",
    "a=[1,2,3,4]\n",
    "print a.index(3,1,2) #stop은 포함안됨."
   ]
  },
  {
   "cell_type": "markdown",
   "metadata": {},
   "source": [
    "* in \n",
    " + 리스트 내에 해당 값이 존재하는지 확인\n",
    " + value in [list]\n",
    " + True, False 중 한가지로 반환"
   ]
  },
  {
   "cell_type": "code",
   "execution_count": 42,
   "metadata": {
    "collapsed": false
   },
   "outputs": [
    {
     "name": "stdout",
     "output_type": "stream",
     "text": [
      "19888 is not in the list\n",
      "True\n",
      "False\n"
     ]
    }
   ],
   "source": [
    "years = ['1988', '1989', '2013', '2016', '2019', '2019']\n",
    "\n",
    "if '19888' in years:\n",
    "    print('19888 is in the list')\n",
    "else:\n",
    "    print(\"19888 is not in the list\")\n",
    "print '1989' in years\n",
    "print 1989 in years #list안에 string으로 저장되어 있다. int로 찾으면 못 찾음."
   ]
  },
  {
   "cell_type": "markdown",
   "metadata": {},
   "source": [
    "* count()\n",
    " + 리스트 내에 해당 값이 얼마나 존재하는지 확인"
   ]
  },
  {
   "cell_type": "code",
   "execution_count": 50,
   "metadata": {
    "collapsed": false
   },
   "outputs": [
    {
     "name": "stdout",
     "output_type": "stream",
     "text": [
      "['1988', '1989', '2013', '2016', '2019', '2019']\n",
      "0\n",
      "1\n",
      "2\n"
     ]
    }
   ],
   "source": [
    "print years\n",
    "print years.count('19888') #list 안에 몇개가 있는지 새는 것.\n",
    "print years.count('1988')\n",
    "print years.count('2019')"
   ]
  },
  {
   "cell_type": "markdown",
   "metadata": {},
   "source": [
    "* join() \n",
    " + 리스트의 원소를 구분자를 이용하여 문자열로 합친다\n",
    " + join은 string의 함수이다\n",
    " + list의 split() 함수와 반대의 작업을 함"
   ]
  },
  {
   "cell_type": "code",
   "execution_count": 53,
   "metadata": {
    "collapsed": false
   },
   "outputs": [
    {
     "name": "stdout",
     "output_type": "stream",
     "text": [
      "['Python', 'is', 'good']\n",
      "Python/is/good\n"
     ]
    }
   ],
   "source": [
    "a=\"Python is good\"\n",
    "print a.split()\n",
    "word=a.split()\n",
    "print '/'.join(word)"
   ]
  },
  {
   "cell_type": "code",
   "execution_count": 29,
   "metadata": {
    "collapsed": false
   },
   "outputs": [
    {
     "name": "stdout",
     "output_type": "stream",
     "text": [
      "1986/03/20\n"
     ]
    }
   ],
   "source": [
    "birth_date_components = ['1986', '03', '20']\n",
    "print '/'.join(birth_date_components)"
   ]
  },
  {
   "cell_type": "markdown",
   "metadata": {},
   "source": [
    "* list 정렬\n",
    " + sort() -> 리스트 자체를 내부적으로 정렬\n",
    " + sorted() -> 리스트의 정렬된 복사본을 반환"
   ]
  },
  {
   "cell_type": "code",
   "execution_count": 44,
   "metadata": {
    "collapsed": false
   },
   "outputs": [
    {
     "name": "stdout",
     "output_type": "stream",
     "text": [
      "None\n",
      "[1, 2, 3, 4, 5, 6, 7, 8, 9]\n",
      "\n",
      "[1, 2, 3, 4, 5, 6, 7, 8, 9]\n",
      "[9, 8, 1, 2, 7, 5, 6, 3, 4]\n"
     ]
    }
   ],
   "source": [
    "#오름차순 - 작은거부터 \n",
    "#내림차순 - 큰거부터\n",
    "a = [9, 8, 1, 2, 7, 5, 6, 3, 4]\n",
    "print a.sort() #none이 나옴.\n",
    "a.sort() #a.sort()는 a 자체를 sort해서 바꿈. 즉 정렬한 후 a에 다시 저장한 후 return\n",
    "print a\n",
    "print\n",
    "a = [9, 8, 1, 2, 7, 5, 6, 3, 4]\n",
    "b = sorted(a) #sorted(a)는 일회성. a 자체를 바꾸지는 못함.\n",
    "print b\n",
    "print a"
   ]
  },
  {
   "cell_type": "markdown",
   "metadata": {},
   "source": [
    "* = 와 copy() 의 차이\n",
    " + = 는  할당\n",
    " + copy() 는  복사"
   ]
  },
  {
   "cell_type": "code",
   "execution_count": 2,
   "metadata": {
    "collapsed": false
   },
   "outputs": [
    {
     "name": "stdout",
     "output_type": "stream",
     "text": [
      "[1, 2, 3, 4]\n",
      "[1, 2, 3, 4]\n",
      "[22, 2, 3, 4]\n",
      "[22, 2, 3, 4]\n",
      "--------------------------------------------------\n",
      "[1, 2, 3, 4]\n",
      "[1, 2, 3, 4]\n",
      "[22, 2, 3, 4]\n",
      "[1, 2, 3, 4]\n"
     ]
    }
   ],
   "source": [
    "a = [1, 2, 3, 4]\n",
    "b = a\n",
    "print a\n",
    "print b\n",
    "\n",
    "a[0] = 22 #list is mutable.\n",
    "print a\n",
    "print b #b = a 라고 할당되므로\n",
    "print '-' * 50\n",
    "\n",
    "a = [1, 2, 3, 4]\n",
    "b = a[:] #b는 a의 복사일 뿐이니 \n",
    "print a\n",
    "print b\n",
    "\n",
    "a[0] = 22 #list is mutable.\n",
    "print a\n",
    "print b"
   ]
  },
  {
   "cell_type": "markdown",
   "metadata": {},
   "source": [
    "* **quiz1)** 리스트 b를 출력한 결과는?"
   ]
  },
  {
   "cell_type": "code",
   "execution_count": 46,
   "metadata": {
    "collapsed": false
   },
   "outputs": [
    {
     "name": "stdout",
     "output_type": "stream",
     "text": [
      "[99, 2, 3, 4]\n",
      "[22, 2, 3, 4]\n",
      "[22, 2, 3, 4]\n"
     ]
    }
   ],
   "source": [
    "#b = a\n",
    "a = [22, 2, 3, 4]\n",
    "b = list(a)\n",
    "c = a[:]\n",
    "\n",
    "a[0] = 99\n",
    "print a\n",
    "print b\n",
    "print c"
   ]
  },
  {
   "cell_type": "markdown",
   "metadata": {},
   "source": [
    "* list 연습문제\n",
    " 1. 리스트가 주어졌을 때, 처음과 마지막 원소만 갖는 리스트로 변환하시오. [1, 2, 3] -> [1, 3], [2, 3, 4, 5] -> [2, 5]  \n",
    " 2. 리스트가 주어졌을 때, 임의의 두 원소의 합의 최대값을 구하시오. [1, 9, 7, 8, 2, 5, 11]"
   ]
  },
  {
   "cell_type": "code",
   "execution_count": 4,
   "metadata": {
    "collapsed": false
   },
   "outputs": [
    {
     "name": "stdout",
     "output_type": "stream",
     "text": [
      "[1, 2]\n",
      "20\n"
     ]
    }
   ],
   "source": [
    "#1.\n",
    "lst = [1,3,6,4,2,5,4,2]\n",
    "new_lst = [lst[0], lst[-1]]\n",
    "print new_lst\n",
    "\n",
    "#2.\n",
    "lst = [1, 9, 7, 8, 2, 5, 11]\n",
    "sorted_lst = sorted(lst)\n",
    "max_sum = sorted_lst[-1] + sorted_lst[-2]\n",
    "print max_sum"
   ]
  },
  {
   "cell_type": "code",
   "execution_count": 47,
   "metadata": {
    "collapsed": false
   },
   "outputs": [
    {
     "name": "stdout",
     "output_type": "stream",
     "text": [
      "[1, 5]\n",
      "[1, 5]\n",
      "\n",
      "[1, 2, 5, 7, 8, 9, 11]\n",
      "20\n"
     ]
    }
   ],
   "source": [
    "#1.\n",
    "a=[1,2,3,4,5]\n",
    "b=list()\n",
    "\n",
    "b.append(a[0])\n",
    "b.append(a[len(a)-1])\n",
    "print b\n",
    "print [a[0],a[-1]]\n",
    "print\n",
    "#2.\n",
    "c=[1, 9, 7, 8, 2, 5, 11]\n",
    "c_sorted=sorted(c)\n",
    "print c_sorted\n",
    "max_sum=c_sorted[-1]+c_sorted[-2]\n",
    "print max_sum"
   ]
  },
  {
   "cell_type": "code",
   "execution_count": null,
   "metadata": {
    "collapsed": true
   },
   "outputs": [],
   "source": []
  },
  {
   "cell_type": "markdown",
   "metadata": {},
   "source": [
    "+ tuple 생성하기  tuple은 고정된 list"
   ]
  },
  {
   "cell_type": "code",
   "execution_count": 6,
   "metadata": {
    "collapsed": false
   },
   "outputs": [
    {
     "name": "stdout",
     "output_type": "stream",
     "text": [
      "()\n",
      "('aaron',)\n",
      "('aaron2',)\n",
      "('a', 'b', 'c')\n"
     ]
    }
   ],
   "source": [
    "empty_tuple = ()\n",
    "print empty_tuple\n",
    "\n",
    "one_tuple = 'aaron',\n",
    "another_tuple = ('aaron2',)\n",
    "\n",
    "print(one_tuple)\n",
    "print(another_tuple)\n",
    "\n",
    "more_tuple = ('a', 'b', 'c')\n",
    "print(more_tuple)"
   ]
  },
  {
   "cell_type": "code",
   "execution_count": null,
   "metadata": {
    "collapsed": true
   },
   "outputs": [],
   "source": []
  },
  {
   "cell_type": "code",
   "execution_count": 18,
   "metadata": {
    "collapsed": false
   },
   "outputs": [
    {
     "name": "stdout",
     "output_type": "stream",
     "text": [
      "4 5\n",
      "5 4\n",
      "\n",
      "1 2\n",
      "2 1\n"
     ]
    }
   ],
   "source": [
    "a=5\n",
    "b=4\n",
    "#일때  a=4, b=5로 바꾸기. temp 변수 이용!\n",
    "\n",
    "temp=a\n",
    "a=b\n",
    "b=temp\n",
    "print a,b\n",
    "\n",
    "#그런데 파이썬에서는 이런 방법이 가능함!!!\n",
    "b,a = a,b\n",
    "print a,b\n",
    "print\n",
    "\n",
    "one = 1\n",
    "two = 2\n",
    "print one, two\n",
    "one, two = two, one\n",
    "print one, two"
   ]
  },
  {
   "cell_type": "code",
   "execution_count": null,
   "metadata": {
    "collapsed": true
   },
   "outputs": [],
   "source": []
  },
  {
   "cell_type": "code",
   "execution_count": null,
   "metadata": {
    "collapsed": true
   },
   "outputs": [],
   "source": []
  },
  {
   "cell_type": "markdown",
   "metadata": {},
   "source": [
    "* tuple unpacking"
   ]
  },
  {
   "cell_type": "code",
   "execution_count": 8,
   "metadata": {
    "collapsed": false
   },
   "outputs": [
    {
     "name": "stdout",
     "output_type": "stream",
     "text": [
      "a b c\n"
     ]
    }
   ],
   "source": [
    "A, B, C= more_tuple # tuple unpacking.  A, B,C 각각에 tuple 내 a,b,c를 지정하는 것. \n",
    "print A, B, C"
   ]
  },
  {
   "cell_type": "markdown",
   "metadata": {},
   "source": [
    "* **quiz2)** a와 b의 값을 교환하시오"
   ]
  },
  {
   "cell_type": "code",
   "execution_count": 10,
   "metadata": {
    "collapsed": false
   },
   "outputs": [
    {
     "name": "stdout",
     "output_type": "stream",
     "text": [
      "10 20\n",
      "20 10\n"
     ]
    }
   ],
   "source": [
    "a = 10\n",
    "b = 20\n",
    "print a, b\n",
    "a, b = b, a #temp를 이용하지 않고 tuple을 이용한 교환\n",
    "print a, b"
   ]
  },
  {
   "cell_type": "markdown",
   "metadata": {},
   "source": [
    "* tuple() \n",
    " + 다른 객체를 튜플로 변경함"
   ]
  },
  {
   "cell_type": "code",
   "execution_count": 60,
   "metadata": {
    "collapsed": false
   },
   "outputs": [
    {
     "name": "stdout",
     "output_type": "stream",
     "text": [
      "(1, 2, 3, 4)\n",
      "('1', '2', '3', '4')\n"
     ]
    }
   ],
   "source": [
    "# print(tuple(1,2,3,4)) tuple은 한개의 argument만 받음\n",
    "print tuple([1, 2, 3, 4])\n",
    "print tuple('1234') #이건 왜 이렇게 되는거지?? 위의 리스트 1개가 튜플 한개로 나뉘듯 이것도 마찬가지인듯.."
   ]
  },
  {
   "cell_type": "markdown",
   "metadata": {},
   "source": [
    "+ why tuple?\n",
    "1. 더 적은 memory 사용\n",
    "2. immutable(불변)이기 때문에, 실수로 값이 바뀌지 않음\n",
    "3. tuple을 dictionary key로 사용할 수 있다.\n",
    "4. named tuple은 객체의 단순한 대안이 될 수 있다\n",
    "5. 함수의 인자들은 튜플로 전달된다. 등등"
   ]
  },
  {
   "cell_type": "markdown",
   "metadata": {},
   "source": [
    "* tuple 연습문제\n",
    "\n",
    " 1. 임의의 이메일 주소를 받아서 사용자 아이다와 도메인을 각각 추출 후, 출력하시오\n",
    "e.g) apple@google.com을 사용자명(apple)과 도메인(google.com)으로 분리"
   ]
  },
  {
   "cell_type": "code",
   "execution_count": 14,
   "metadata": {
    "collapsed": false
   },
   "outputs": [
    {
     "name": "stdout",
     "output_type": "stream",
     "text": [
      "user_name =  gg512 ,domain =  naver.com\n",
      "gg512 naver.com\n"
     ]
    }
   ],
   "source": [
    "id='gg512@naver.com'\n",
    "splited_lst = id.split(\"@\")\n",
    "print \"user_name = \",splited_lst[0],\",domain = \",splited_lst[1]\n",
    "\n",
    "id='gg512@naver.com'\n",
    "name, domain = tuple(id.split(\"@\"))\n",
    "print name, domain\n"
   ]
  },
  {
   "cell_type": "code",
   "execution_count": 98,
   "metadata": {
    "collapsed": false
   },
   "outputs": [
    {
     "name": "stdout",
     "output_type": "stream",
     "text": [
      "gg512 naver.com\n",
      "gg512\n",
      "gg512\n"
     ]
    }
   ],
   "source": [
    "id='gg512@naver.com'\n",
    "name, domain = tuple(id.split('@'))\n",
    "print name, domain\n",
    "print name\n",
    "\n",
    "name = id.split(\"@\")[0]\n",
    "print name"
   ]
  },
  {
   "cell_type": "code",
   "execution_count": 3,
   "metadata": {
    "collapsed": false
   },
   "outputs": [
    {
     "name": "stdout",
     "output_type": "stream",
     "text": [
      "What is your email address?:21100127@handong.edu\n",
      "Do you have another email address? Enter yes or no:yes\n",
      "What is your email address?:gg512@naver.com\n",
      "Do you have another email address? Enter yes or no:no\n",
      "ID=21100127 , domain=handong.edu\n",
      "ID=gg512 , domain=naver.com\n"
     ]
    }
   ],
   "source": [
    "id = []\n",
    "domain = []\n",
    "while True:\n",
    "    address = raw_input(\"What is your email address?:\")\n",
    "    address_splited = address.split(\"@\")\n",
    "    id.append(address_splited[0]) #id.append(address.split(\"@\")[0])\n",
    "    domain.append(address_splited[1]) #domain.append(address.split(\"@\")[1]) 이거와 다른점은?\n",
    "    another = raw_input(\"Do you have another email address? Enter yes or no:\")\n",
    "    \n",
    "    if another == \"yes\" or another == \"Yes\" or another == \"YES\" or another == \"Y\" or another == \"y\":\n",
    "        continue #return True라고 하니 return outside function이라고 뜨네...\n",
    "    else: \n",
    "        break\n",
    "\n",
    "for i in range(len(id)):\n",
    "    print \"ID=\"+id[i],\", domain=\"+domain[i]"
   ]
  },
  {
   "cell_type": "code",
   "execution_count": 4,
   "metadata": {
    "collapsed": false
   },
   "outputs": [
    {
     "name": "stdout",
     "output_type": "stream",
     "text": [
      "What is your email address?:21100127@handong.edu\n",
      "Do you have another email address? Enter yes or no:yes\n",
      "What is your email address?:gg512@naver.com\n",
      "Do you have another email address? Enter yes or no:no\n",
      "ID=21100127 , domain=handong.edu\n",
      "ID=gg512 , domain=naver.com\n"
     ]
    }
   ],
   "source": [
    "id = []\n",
    "domain = []\n",
    "while True:\n",
    "    address = raw_input(\"What is your email address?:\")\n",
    "    id.append(address.split(\"@\")[0])\n",
    "    domain.append(address.split(\"@\")[1]) \n",
    "    another = raw_input(\"Do you have another email address? Enter yes or no:\")\n",
    "    \n",
    "    if another == \"yes\" or another == \"Yes\" or another == \"YES\" or another == \"Y\" or another == \"y\":\n",
    "        continue #return True라고 하니 return outside function이라고 뜨네...\n",
    "    else: \n",
    "        break\n",
    "\n",
    "for i in range(len(id)):\n",
    "    print \"ID=\"+id[i],\", domain=\"+domain[i]"
   ]
  },
  {
   "cell_type": "code",
   "execution_count": null,
   "metadata": {
    "collapsed": true
   },
   "outputs": [],
   "source": []
  },
  {
   "cell_type": "markdown",
   "metadata": {
    "collapsed": true
   },
   "source": [
    "* dictionary\n",
    " + key와 value을 갖는 data structure\n",
    " + key는 해쉬값으로 저장됨\n",
    " + 순서를 따지지 않음. 즉, 인덱스가 없음"
   ]
  },
  {
   "cell_type": "code",
   "execution_count": 8,
   "metadata": {
    "collapsed": false
   },
   "outputs": [
    {
     "name": "stdout",
     "output_type": "stream",
     "text": [
      "{}\n",
      "{'python': 'best', 'java': 'good', 'c++': 'better'}\n",
      "{'python': 'best of best', 'java': 'good'}\n"
     ]
    },
    {
     "ename": "KeyError",
     "evalue": "'best'",
     "output_type": "error",
     "traceback": [
      "\u001b[0;31m---------------------------------------------------------------------------\u001b[0m",
      "\u001b[0;31mKeyError\u001b[0m                                  Traceback (most recent call last)",
      "\u001b[0;32m<ipython-input-8-ad8aba90aa1d>\u001b[0m in \u001b[0;36m<module>\u001b[0;34m()\u001b[0m\n\u001b[1;32m     11\u001b[0m \u001b[0mdict2\u001b[0m\u001b[1;33m[\u001b[0m\u001b[1;34m'python'\u001b[0m\u001b[1;33m]\u001b[0m \u001b[1;33m=\u001b[0m \u001b[1;34m'best of best'\u001b[0m \u001b[1;31m#dictionary is mutable.\u001b[0m\u001b[1;33m\u001b[0m\u001b[0m\n\u001b[1;32m     12\u001b[0m \u001b[1;32mprint\u001b[0m \u001b[0mdict2\u001b[0m\u001b[1;33m\u001b[0m\u001b[0m\n\u001b[0;32m---> 13\u001b[0;31m \u001b[1;32mprint\u001b[0m\u001b[1;33m(\u001b[0m\u001b[0mdict2\u001b[0m\u001b[1;33m[\u001b[0m\u001b[1;34m'best'\u001b[0m\u001b[1;33m]\u001b[0m\u001b[1;33m)\u001b[0m\u001b[1;33m\u001b[0m\u001b[0m\n\u001b[0m",
      "\u001b[0;31mKeyError\u001b[0m: 'best'"
     ]
    }
   ],
   "source": [
    "empty_dict = {}\n",
    "print empty_dict\n",
    "\n",
    "dict1 = {'python' : 'best', 'java' : 'good', 'c++' : 'better'} \n",
    "# dict={key : value} 항상 key에 쌍으로 value가 있으므로 key와 value의 개수 같음\n",
    "print dict1\n",
    "\n",
    "dict2 = {}\n",
    "dict2['python'] = 'best'\n",
    "dict2['java'] = 'good'\n",
    "dict2['python'] = 'best of best' #dictionary is mutable.\n",
    "print dict2\n",
    "print(dict2['best']) #error 뜸. 'best'라는 key없으므로."
   ]
  },
  {
   "cell_type": "markdown",
   "metadata": {},
   "source": [
    "* dict()\n",
    " + dictionary로 변환.\n",
    " + 두값으로 이루어진 시퀀스를 변환 가능. 첫번째 항목이 key, 두번째 항목이 value로 사용됨\n",
    " "
   ]
  },
  {
   "cell_type": "code",
   "execution_count": 21,
   "metadata": {
    "collapsed": false
   },
   "outputs": [
    {
     "name": "stdout",
     "output_type": "stream",
     "text": [
      "{1: 2, 2: 3, 3: 6}\n",
      "{1: 2, 2: 3, 3: 6}\n",
      "{1: 2, 2: 3, 3: 6}\n",
      "{'a': [1, 2, 3], 'c': [1, 3, 5], 'b': [2, 4, 6]}\n",
      "{'cs': ['cs1', 'cs2'], 'ps': ['ps1', 'ps2'], 'econ': ['econ1', 'econ2']}\n"
     ]
    }
   ],
   "source": [
    "a = [[1, 2], [2, 3], [3, 6]]\n",
    "print dict(a)\n",
    "\n",
    "a = [(1, 2), (2, 3), (3, 6)]\n",
    "print dict(a)\n",
    "\n",
    "a = ((1, 2), (2, 3), (3, 6))\n",
    "print dict(a)\n",
    "\n",
    "a = [[\"a\", [1,2,3]], [\"b\", [2,4,6]], [\"c\", [1,3,5]]]\n",
    "print dict(a)\n",
    "\n",
    "a = [[\"econ\", [\"econ1\", \"econ2\"]], [\"cs\", [\"cs1\", \"cs2\"]], [\"ps\",[\"ps1\",\"ps2\"]]] #[[key1,value1],[key2,value2]] 형태로 넣어줘야함.\n",
    "b = dict(a) \n",
    "print(b)"
   ]
  },
  {
   "cell_type": "markdown",
   "metadata": {},
   "source": [
    "+ 항목 추가하고 변경하기"
   ]
  },
  {
   "cell_type": "code",
   "execution_count": 46,
   "metadata": {
    "collapsed": false
   },
   "outputs": [
    {
     "name": "stdout",
     "output_type": "stream",
     "text": [
      "{'python': 'best', 'go': 'gogogo', 'java': 'soso', 'c++': 'better'}\n"
     ]
    }
   ],
   "source": [
    "dict1 = {'python' : 'best', 'java' : 'good', 'c++' : 'better'}\n",
    "dict1['go'] = 'gogogo' #새로운 key&value 추가\n",
    "dict1['java'] = 'soso' #value변경. mutable\n",
    "\n",
    "print dict1"
   ]
  },
  {
   "cell_type": "markdown",
   "metadata": {},
   "source": [
    "+ update()\n",
    " * 두 딕셔너리를 병합함\n",
    " * 겹치는 키가 있다면 parameter로 전달되는 키 값이 overwrite된다."
   ]
  },
  {
   "cell_type": "code",
   "execution_count": 22,
   "metadata": {
    "collapsed": false
   },
   "outputs": [
    {
     "name": "stdout",
     "output_type": "stream",
     "text": [
      "{'java': 'soso', 'python': 'best', 'javascript': 'too much', 'ruby': 'elegant', 'c++': 'better'}\n",
      "{'java': 'soso', 'javascript': 'too much', 'ruby': 'elegant'}\n"
     ]
    }
   ],
   "source": [
    "dict1 = {'python' : 'best', 'java' : 'good', 'c++' : 'better'}\n",
    "dict2 = {'ruby' : 'elegant', 'javascript' : 'too much', 'java' : 'soso'}\n",
    "\n",
    "dict1.update(dict2) #병합\n",
    "print dict1 #java가 겹쳐서 overwrite됨.\n",
    "print dict2"
   ]
  },
  {
   "cell_type": "code",
   "execution_count": 9,
   "metadata": {
    "collapsed": false
   },
   "outputs": [
    {
     "name": "stdout",
     "output_type": "stream",
     "text": [
      "{'python': 'best', 'c++': 'better'}\n"
     ]
    },
    {
     "ename": "KeyError",
     "evalue": "'jasa'",
     "output_type": "error",
     "traceback": [
      "\u001b[0;31m---------------------------------------------------------------------------\u001b[0m",
      "\u001b[0;31mKeyError\u001b[0m                                  Traceback (most recent call last)",
      "\u001b[0;32m<ipython-input-9-1c85408d0b16>\u001b[0m in \u001b[0;36m<module>\u001b[0;34m()\u001b[0m\n\u001b[1;32m      1\u001b[0m \u001b[1;32mdel\u001b[0m \u001b[0mdict1\u001b[0m\u001b[1;33m[\u001b[0m\u001b[1;34m'java'\u001b[0m\u001b[1;33m]\u001b[0m\u001b[1;33m\u001b[0m\u001b[0m\n\u001b[1;32m      2\u001b[0m \u001b[1;32mprint\u001b[0m\u001b[1;33m(\u001b[0m\u001b[0mdict1\u001b[0m\u001b[1;33m)\u001b[0m\u001b[1;33m\u001b[0m\u001b[0m\n\u001b[0;32m----> 3\u001b[0;31m \u001b[1;32mdel\u001b[0m \u001b[0mdict1\u001b[0m\u001b[1;33m[\u001b[0m\u001b[1;34m'jasa'\u001b[0m\u001b[1;33m]\u001b[0m\u001b[1;33m\u001b[0m\u001b[0m\n\u001b[0m\u001b[1;32m      4\u001b[0m \u001b[1;33m\u001b[0m\u001b[0m\n\u001b[1;32m      5\u001b[0m \u001b[1;31m#dict['dfdf'] = 'dfdf'\u001b[0m\u001b[1;33m\u001b[0m\u001b[1;33m\u001b[0m\u001b[0m\n",
      "\u001b[0;31mKeyError\u001b[0m: 'jasa'"
     ]
    }
   ],
   "source": [
    "del dict1['java']\n",
    "print(dict1)\n",
    "del dict1['jasa']\n",
    "\n",
    "#dict['dfdf'] = 'dfdf'\n",
    "#del dict['dicdf']"
   ]
  },
  {
   "cell_type": "markdown",
   "metadata": {},
   "source": [
    "* clear()\n",
    " + 딕셔너리의 모든 값을 초기화\n"
   ]
  },
  {
   "cell_type": "code",
   "execution_count": 23,
   "metadata": {
    "collapsed": false
   },
   "outputs": [
    {
     "name": "stdout",
     "output_type": "stream",
     "text": [
      "{1: 2, 2: 4, 4: 5}\n",
      "{}\n"
     ]
    }
   ],
   "source": [
    "a = {1 : 2, 2: 4, 4 : 5}\n",
    "print a\n",
    "a.clear()\n",
    "print a"
   ]
  },
  {
   "cell_type": "markdown",
   "metadata": {},
   "source": [
    "* in\n",
    " + key값 존재 확인"
   ]
  },
  {
   "cell_type": "code",
   "execution_count": 27,
   "metadata": {
    "collapsed": false
   },
   "outputs": [
    {
     "name": "stdout",
     "output_type": "stream",
     "text": [
      "False\n",
      "True\n",
      "True\n",
      "2\n"
     ]
    }
   ],
   "source": [
    "a = {'1' : 2, '2': 4, '4' : 5, 6: 6}\n",
    "print 1 in a\n",
    "print '1' in a\n",
    "print 6 in a\n",
    "print a['1']\n"
   ]
  },
  {
   "cell_type": "markdown",
   "metadata": {},
   "source": [
    "* value 얻기\n",
    " + [key]로 얻거나\n",
    " + .get() 함수로 얻음"
   ]
  },
  {
   "cell_type": "code",
   "execution_count": 16,
   "metadata": {
    "collapsed": false
   },
   "outputs": [
    {
     "name": "stdout",
     "output_type": "stream",
     "text": [
      "2\n"
     ]
    },
    {
     "ename": "KeyError",
     "evalue": "'3'",
     "output_type": "error",
     "traceback": [
      "\u001b[0;31m---------------------------------------------------------------------------\u001b[0m",
      "\u001b[0;31mKeyError\u001b[0m                                  Traceback (most recent call last)",
      "\u001b[0;32m<ipython-input-16-60e0a7fe9a13>\u001b[0m in \u001b[0;36m<module>\u001b[0;34m()\u001b[0m\n\u001b[1;32m      2\u001b[0m \u001b[1;33m\u001b[0m\u001b[0m\n\u001b[1;32m      3\u001b[0m \u001b[1;32mprint\u001b[0m \u001b[0ma\u001b[0m\u001b[1;33m[\u001b[0m\u001b[1;34m'1'\u001b[0m\u001b[1;33m]\u001b[0m\u001b[1;33m\u001b[0m\u001b[0m\n\u001b[0;32m----> 4\u001b[0;31m \u001b[1;32mprint\u001b[0m \u001b[0ma\u001b[0m\u001b[1;33m[\u001b[0m\u001b[1;34m'3'\u001b[0m\u001b[1;33m]\u001b[0m \u001b[1;31m#없으니까 print 에러. 아래 get과 차이 비교! 3이라는 키로 받아오는데 없으니까 에러\u001b[0m\u001b[1;33m\u001b[0m\u001b[0m\n\u001b[0m",
      "\u001b[0;31mKeyError\u001b[0m: '3'"
     ]
    }
   ],
   "source": [
    "a = {'1' : 2, '2': 4, '4' : 5}\n",
    "\n",
    "print a['1']\n",
    "print a['3'] #없으니까 print 에러. 아래 get과 차이 비교! 3이라는 키로 받아오는데 없으니까 에러"
   ]
  },
  {
   "cell_type": "code",
   "execution_count": 54,
   "metadata": {
    "collapsed": false
   },
   "outputs": [
    {
     "name": "stdout",
     "output_type": "stream",
     "text": [
      "2\n",
      "default\n",
      "None\n"
     ]
    }
   ],
   "source": [
    "print a.get('1')\n",
    "print a.get('3', 'default') #'3'이 없으면 default를 준다.\n",
    "print a.get('3') #없으니까 get none. 3을 얻고 싶은데 없으니까 none"
   ]
  },
  {
   "cell_type": "markdown",
   "metadata": {},
   "source": [
    "* 모든 keys, 모든 values 얻기\n",
    " + keys()\n",
    " + values()\n",
    "* 키-값 튜플로 얻기\n",
    " + items()"
   ]
  },
  {
   "cell_type": "code",
   "execution_count": 37,
   "metadata": {
    "collapsed": false
   },
   "outputs": [
    {
     "name": "stdout",
     "output_type": "stream",
     "text": [
      "['green', 'red', 'yellow'] ['fly', 'stop', 'go faster']\n",
      "\n",
      "['cs', 'ps', 'econ'] [['cs1', 'cs2'], ['ps1', 'ps2'], ['econ1', 'econ2']]\n",
      "[('cs', ['cs1', 'cs2']), ('ps', ['ps1', 'ps2']), ('econ', ['econ1', 'econ2'])]\n"
     ]
    }
   ],
   "source": [
    "signals = {'green' : 'fly', 'yellow' : 'go faster', 'red' : 'stop'}\n",
    "keys = signals.keys() #key들의 list로 반환\n",
    "values = signals.values()\n",
    "\n",
    "print keys, values\n",
    "print\n",
    "\n",
    "\n",
    "courses_lst = [[\"econ\", [\"econ1\", \"econ2\"]], [\"cs\", [\"cs1\", \"cs2\"]], [\"ps\",[\"ps1\",\"ps2\"]]] \n",
    "courses = dict(courses)\n",
    "majors = courses.keys()\n",
    "subjects = courses.values()\n",
    "combined = courses.items()\n",
    "print majors, subjects\n",
    "print combined"
   ]
  },
  {
   "cell_type": "code",
   "execution_count": 126,
   "metadata": {
    "collapsed": false,
    "scrolled": true
   },
   "outputs": [
    {
     "name": "stdout",
     "output_type": "stream",
     "text": [
      "[('green', 'fly'), ('red', 'stop'), ('yellow', 'go faster')]\n"
     ]
    }
   ],
   "source": [
    "print signals.items()"
   ]
  },
  {
   "cell_type": "markdown",
   "metadata": {},
   "source": [
    "* dictionary 연습문제\n",
    " 1. a = {11 : 3, 4 : 9, 14 : 22, 21 : 20, 5 : 8, 2 : 23} 에서 키의 최소값에 대응하는 값과, 키의 최대값에 대응하는 값을 출력하시오\n",
    " 2. 주어진 dictionary를 가지고, 다음 문장을 번역 하시오. translator = {'This' : 'Este', 'is' : 'es', 'python' : 'piton'}\n",
    "\n",
    "    \"This is python\"  "
   ]
  },
  {
   "cell_type": "code",
   "execution_count": 19,
   "metadata": {
    "collapsed": false
   },
   "outputs": [
    {
     "name": "stdout",
     "output_type": "stream",
     "text": [
      "23 20\n",
      "Este es piton\n"
     ]
    }
   ],
   "source": [
    "a = {11 : 3, 4 : 9, 14 : 22, 21 : 20, 5 : 8, 2 : 23} \n",
    "keys = a.keys()\n",
    "keys.sort()\n",
    "min_key = keys[0]\n",
    "max_key = keys[-1]\n",
    "print a[min_key], a[max_key]\n",
    "\n",
    "translator = {'This' : 'Este', 'is' : 'es', 'python' : 'piton'}\n",
    "sentence = \"This is python\"\n",
    "a = sentence.replace(\"This\", translator[\"This\"])\n",
    "b = a.replace(\"is\", translator[\"is\"])\n",
    "c = b.replace(\"python\", translator[\"python\"])\n",
    "print c"
   ]
  },
  {
   "cell_type": "code",
   "execution_count": 38,
   "metadata": {
    "collapsed": false
   },
   "outputs": [
    {
     "name": "stdout",
     "output_type": "stream",
     "text": [
      "[2, 4, 5, 11, 14, 21]\n",
      "23 20\n"
     ]
    }
   ],
   "source": [
    "#1.\n",
    "a = {11 : 3, 4 : 9, 14 : 22, 21 : 20, 5 : 8, 2 : 23}\n",
    "keys_list=a.keys()\n",
    "keys_list.sort()\n",
    "print(keys_list)\n",
    "print a[keys_list[0]], a[keys_list[-1]]"
   ]
  },
  {
   "cell_type": "code",
   "execution_count": 125,
   "metadata": {
    "collapsed": false
   },
   "outputs": [
    {
     "name": "stdout",
     "output_type": "stream",
     "text": [
      "Este es piton\n",
      "Este es piton\n",
      "Este es piton\n"
     ]
    }
   ],
   "source": [
    "#2.\n",
    "translator = {'This' : 'Este', 'is' : 'es', 'python' : 'piton'}\n",
    "#\"This is python\"\n",
    "translated = translator[\"This\"]+\" \"+translator[\"is\"]+\" \"+translator[\"python\"]\n",
    "print translated\n",
    "\n",
    "#순차적으로 하려면.\n",
    "a = \"This is python\".replace(\"This\",translator[\"This\"])\n",
    "b = a.replace(\"is\",translator[\"is\"])\n",
    "c = b.replace(\"python\",translator[\"python\"])\n",
    "print c\n",
    "\n",
    "#바로 할 수 있음! replace한걸 replace하고 또 replace하면\n",
    "d = \"This is python\".replace(\"This\",translator[\"This\"]).replace(\"is\",translator[\"is\"]).replace(\"python\",translator[\"python\"]) \n",
    "print d"
   ]
  },
  {
   "cell_type": "code",
   "execution_count": null,
   "metadata": {
    "collapsed": true
   },
   "outputs": [],
   "source": []
  },
  {
   "cell_type": "code",
   "execution_count": null,
   "metadata": {
    "collapsed": true
   },
   "outputs": [],
   "source": []
  },
  {
   "cell_type": "markdown",
   "metadata": {
    "collapsed": true
   },
   "source": [
    "* set\n",
    " + dictionary에서 key만 남은 케이스\n",
    " + 수학에서의 집합과 동일함\n",
    " + set은 잘 안쓰이지만, 뭔가 unique한 것 찾아올 때 많이 씀\n",
    " + set은 중복을 허용하지 않는다.(no duplication)\n",
    " + set은 순서가 없다.(unordered) -> indexing 불가능. set에 저장된 값을 indexing으로 접근하려면 list나 tuple로 변환한 후 접근해야함."
   ]
  },
  {
   "cell_type": "code",
   "execution_count": 51,
   "metadata": {
    "collapsed": false
   },
   "outputs": [
    {
     "name": "stdout",
     "output_type": "stream",
     "text": [
      "set([1, 2, 3])\n",
      "[1, 2, 3]\n",
      "\n",
      "set([' ', 'e', 'i', 'h', 's', 't'])\n",
      "[' ', 'e', 'i', 'h', 's', 't']\n"
     ]
    }
   ],
   "source": [
    "s1 = set([1,2,3]) # = {1,2,3}\n",
    "print(s1)\n",
    "s1_list = list(s1)\n",
    "print(s1_list)\n",
    "print\n",
    "s2 = set(\"this is set\")\n",
    "print(s2)\n",
    "s2_list = list(s2)\n",
    "print(s2_list)"
   ]
  },
  {
   "cell_type": "code",
   "execution_count": 49,
   "metadata": {
    "collapsed": false
   },
   "outputs": [
    {
     "name": "stdout",
     "output_type": "stream",
     "text": [
      "set([])\n",
      "set([8, 2, 4, 6])\n",
      "set([1, 3, 9, 5, 7])\n"
     ]
    }
   ],
   "source": [
    "empty_set = set() # () 표현은 tuple이 이미 쓰고 있으니까 set()으로 표현. 또는 {}로 표현!!!\n",
    "print empty_set\n",
    "\n",
    "even_nums = {2, 4, 6, 8}\n",
    "print even_nums\n",
    "\n",
    "odd_nums = {1, 3, 5, 7, 7, 9}\n",
    "print odd_nums\n",
    "\n",
    "# 순서가 없다."
   ]
  },
  {
   "cell_type": "markdown",
   "metadata": {},
   "source": [
    "* set()으로 집합으로 변환"
   ]
  },
  {
   "cell_type": "code",
   "execution_count": 52,
   "metadata": {
    "collapsed": false
   },
   "outputs": [
    {
     "name": "stdout",
     "output_type": "stream",
     "text": [
      "set(['i', 'p', 's', 'm'])\n",
      "set([1, 2, 3, 4])\n",
      "set([1, 3, 4])\n",
      "set(['cs', 'ps', 'econ'])\n"
     ]
    }
   ],
   "source": [
    "print set('mississippi')\n",
    "print set([1, 2, 3, 1, 2, 3, 1, 3, 4])\n",
    "print set({1 : 2, 4 : 9, 3 : 8})\n",
    "print(set(courses)) #key값만 가져온다."
   ]
  },
  {
   "cell_type": "markdown",
   "metadata": {},
   "source": [
    "+ set operations"
   ]
  },
  {
   "cell_type": "code",
   "execution_count": 21,
   "metadata": {
    "collapsed": false
   },
   "outputs": [
    {
     "name": "stdout",
     "output_type": "stream",
     "text": [
      "set([1, 2]) set([2, 3, 4])\n",
      "set([2])\n",
      "set([2])\n",
      "\n",
      "set([1, 2, 3, 4])\n",
      "set([1, 2, 3, 4])\n",
      "\n",
      "set([1])\n",
      "set([1])\n",
      "\n",
      "set([1, 3, 4])\n",
      "set([1, 3, 4])\n",
      "\n",
      "False\n",
      "False\n"
     ]
    }
   ],
   "source": [
    "a = {1, 2}\n",
    "b = {2, 3, 4}\n",
    "print a, b\n",
    "print a.intersection(b)\n",
    "print a & b\n",
    "print\n",
    "print a.union(b)\n",
    "print a | b\n",
    "print\n",
    "print a.difference(b)\n",
    "print a - b\n",
    "print\n",
    "print a ^ b\n",
    "print a.symmetric_difference(b) # 양쪽 모두에 들어있지 않은 멤버\n",
    "print\n",
    "print a <= b\n",
    "print a.issubset(b) #부분집합인지 확인할 때"
   ]
  },
  {
   "cell_type": "markdown",
   "metadata": {},
   "source": [
    "* set 연습문제\n",
    " 1. 영어 수업을 듣는 학생 집합 : {'Aaron', 'Tracy', 'David', 'Grant', 'Michael', 'Tim'}\n",
    "    수학 수업을 듣는 학생 집합 : {'Aaron', 'David', 'Smith', 'Bill', 'Tim', 'Cathy', 'Carl'}\n",
    "    \n",
    "    이라고 할 때, 전체 학생 중 두과목 모두 듣는 학생의 비율은 얼마인가?"
   ]
  },
  {
   "cell_type": "code",
   "execution_count": 62,
   "metadata": {
    "collapsed": false,
    "scrolled": true
   },
   "outputs": [
    {
     "name": "stdout",
     "output_type": "stream",
     "text": [
      "set(['Grant', 'Michael', 'David', 'Tim', 'Aaron', 'Tracy'])\n",
      "set(['Bill', 'Smith', 'David', 'Tim', 'Aaron', 'Carl', 'Cathy'])\n",
      "set(['Tim', 'Aaron', 'David'])\n",
      "set(['Grant', 'Smith', 'Bill', 'Michael', 'David', 'Tim', 'Aaron', 'Carl', 'Cathy', 'Tracy'])\n",
      "0.3\n"
     ]
    }
   ],
   "source": [
    "a={'Aaron', 'Tracy', 'David', 'Grant', 'Michael', 'Tim'}\n",
    "b={'Aaron', 'David', 'Smith', 'Bill', 'Tim', 'Cathy', 'Carl'}\n",
    "print(a)\n",
    "print(b)\n",
    "c = a & b\n",
    "print(c)\n",
    "d = a | b\n",
    "print(d)\n",
    "print(float(len(c))/len(d))"
   ]
  }
 ],
 "metadata": {
  "kernelspec": {
   "display_name": "Python 2",
   "language": "python",
   "name": "python2"
  },
  "language_info": {
   "codemirror_mode": {
    "name": "ipython",
    "version": 2
   },
   "file_extension": ".py",
   "mimetype": "text/x-python",
   "name": "python",
   "nbconvert_exporter": "python",
   "pygments_lexer": "ipython2",
   "version": "2.7.13"
  }
 },
 "nbformat": 4,
 "nbformat_minor": 1
}
