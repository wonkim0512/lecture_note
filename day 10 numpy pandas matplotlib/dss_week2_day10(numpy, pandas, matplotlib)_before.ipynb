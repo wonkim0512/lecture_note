{
 "cells": [
  {
   "cell_type": "markdown",
   "metadata": {},
   "source": [
    "## 학습목표\n",
    " 1. numpy, pandas를 이용한 수치 및 데이터 처리\n",
    " 3. matplotlib 이해 및 그래프 출력 방법 확인"
   ]
  },
  {
   "cell_type": "markdown",
   "metadata": {
    "collapsed": true
   },
   "source": [
    "* numpy 복습"
   ]
  },
  {
   "cell_type": "code",
   "execution_count": 1,
   "metadata": {
    "collapsed": true
   },
   "outputs": [],
   "source": [
    "import numpy as np #수학 연산 많이 이용함"
   ]
  },
  {
   "cell_type": "code",
   "execution_count": 3,
   "metadata": {
    "collapsed": false
   },
   "outputs": [
    {
     "name": "stdout",
     "output_type": "stream",
     "text": [
      "[[-1.58491503  0.44557788  1.40684657]\n",
      " [ 0.56040474  1.61203653  0.01243734]]\n",
      "[[  3.72377974e-01   3.59871897e-01  -1.48899310e-01   6.85018861e-01]\n",
      " [  2.23025484e-01  -1.02976605e+00   3.88380541e-01   1.23098479e-01]\n",
      " [ -2.06981808e+00  -2.99065620e-01  -2.27272121e-01   2.07299708e-04]]\n"
     ]
    }
   ],
   "source": [
    "data = np.random.randn(2, 3) #행렬반환 row:2, col:3\n",
    "print data\n",
    "data1= np.random.randn(3,4)\n",
    "print data1"
   ]
  },
  {
   "cell_type": "code",
   "execution_count": 5,
   "metadata": {
    "collapsed": false
   },
   "outputs": [
    {
     "name": "stdout",
     "output_type": "stream",
     "text": [
      "[[ 14.77977622 -13.76957108  -2.26121257]\n",
      " [  1.40048356  11.8045356    5.56066063]]\n"
     ]
    }
   ],
   "source": [
    "print data * 10 #numpy는 바로 연산 적용"
   ]
  },
  {
   "cell_type": "code",
   "execution_count": 6,
   "metadata": {
    "collapsed": false
   },
   "outputs": [
    {
     "name": "stdout",
     "output_type": "stream",
     "text": [
      "[[ 2.95595524 -2.75391422 -0.45224251]\n",
      " [ 0.28009671  2.36090712  1.11213213]]\n"
     ]
    }
   ],
   "source": [
    "print data + data"
   ]
  },
  {
   "cell_type": "code",
   "execution_count": 7,
   "metadata": {
    "collapsed": false
   },
   "outputs": [
    {
     "name": "stdout",
     "output_type": "stream",
     "text": [
      "float64 (2, 3)\n"
     ]
    }
   ],
   "source": [
    "print data.dtype, data.shape #dtype은 각 원소의 type. float64는 실수형을 표현하는데 64bit라는 것."
   ]
  },
  {
   "cell_type": "code",
   "execution_count": 7,
   "metadata": {
    "collapsed": false
   },
   "outputs": [
    {
     "data": {
      "text/plain": [
       "array([[ 0.,  0.,  0.],\n",
       "       [ 0.,  0.,  0.]])"
      ]
     },
     "execution_count": 7,
     "metadata": {},
     "output_type": "execute_result"
    }
   ],
   "source": [
    "np.zeros((2, 3))"
   ]
  },
  {
   "cell_type": "code",
   "execution_count": 8,
   "metadata": {
    "collapsed": false
   },
   "outputs": [
    {
     "data": {
      "text/plain": [
       "array([[ 1.,  1.,  1.],\n",
       "       [ 1.,  1.,  1.]])"
      ]
     },
     "execution_count": 8,
     "metadata": {},
     "output_type": "execute_result"
    }
   ],
   "source": [
    "np.ones((2, 3))"
   ]
  },
  {
   "cell_type": "code",
   "execution_count": 8,
   "metadata": {
    "collapsed": false
   },
   "outputs": [
    {
     "data": {
      "text/plain": [
       "array([ 1,  2,  3,  4,  5,  6,  7,  8,  9, 10, 11, 12, 13, 14])"
      ]
     },
     "execution_count": 8,
     "metadata": {},
     "output_type": "execute_result"
    }
   ],
   "source": [
    "np.arange(1, 15) #차이점은 ndarray로 반환된다는 것뿐. range는 list반환"
   ]
  },
  {
   "cell_type": "code",
   "execution_count": 10,
   "metadata": {
    "collapsed": false
   },
   "outputs": [
    {
     "name": "stdout",
     "output_type": "stream",
     "text": [
      "[[-0.76854367 -3.56543722  1.56106381]\n",
      " [-2.74468036  0.96267548 -0.97459351]]\n",
      "[[-0.19213592 -0.89135931  0.39026595]\n",
      " [-0.68617009  0.24066887 -0.24364838]]\n",
      "[[ 0.14766484  3.17808565  0.60923005]\n",
      " [ 1.88331757  0.23168602  0.23745813]]\n"
     ]
    }
   ],
   "source": [
    "a = np.random.randn(2, 3)\n",
    "print a * 2\n",
    "print a / 2\n",
    "print a ** 2"
   ]
  },
  {
   "cell_type": "markdown",
   "metadata": {},
   "source": [
    "* reshape"
   ]
  },
  {
   "cell_type": "code",
   "execution_count": 6,
   "metadata": {
    "collapsed": false
   },
   "outputs": [
    {
     "name": "stdout",
     "output_type": "stream",
     "text": [
      "[[ 0  1  2  3  4  5  6  7]\n",
      " [ 8  9 10 11 12 13 14 15]\n",
      " [16 17 18 19 20 21 22 23]\n",
      " [24 25 26 27 28 29 30 31]]\n",
      "[[ 0  1  2  3]\n",
      " [ 4  5  6  7]\n",
      " [ 8  9 10 11]\n",
      " [12 13 14 15]\n",
      " [16 17 18 19]\n",
      " [20 21 22 23]\n",
      " [24 25 26 27]\n",
      " [28 29 30 31]]\n"
     ]
    }
   ],
   "source": [
    "print np.arange(32).reshape((4, 8))\n",
    "print np.arange(32).reshape((8, 4))"
   ]
  },
  {
   "cell_type": "markdown",
   "metadata": {},
   "source": [
    "* transpose\n",
    "  - 배열 전치\n",
    "  - 데이터를 복사하지 않고 데이터 모양이 바뀐 뷰를 반환"
   ]
  },
  {
   "cell_type": "code",
   "execution_count": 9,
   "metadata": {
    "collapsed": false
   },
   "outputs": [
    {
     "name": "stdout",
     "output_type": "stream",
     "text": [
      "[[ 0  1  2]\n",
      " [ 3  4  5]\n",
      " [ 6  7  8]\n",
      " [ 9 10 11]\n",
      " [12 13 14]]\n",
      "[[ 0  3  6  9 12]\n",
      " [ 1  4  7 10 13]\n",
      " [ 2  5  8 11 14]]\n",
      "[[ 0  1  2]\n",
      " [ 3  4  5]\n",
      " [ 6  7  8]\n",
      " [ 9 10 11]\n",
      " [12 13 14]]\n"
     ]
    }
   ],
   "source": [
    "arr = np.arange(15).reshape(5, 3)\n",
    "print arr\n",
    "print arr.T\n",
    "print arr #저장은 안됨"
   ]
  },
  {
   "cell_type": "code",
   "execution_count": 14,
   "metadata": {
    "collapsed": false
   },
   "outputs": [
    {
     "name": "stdout",
     "output_type": "stream",
     "text": [
      "[[ 1  2  3  4]\n",
      " [ 5  6  7  8]\n",
      " [ 9 10 11 12]\n",
      " [13 14 15 16]]\n",
      "\n",
      "[[ 30  70 110 150]\n",
      " [ 70 174 278 382]\n",
      " [110 278 446 614]\n",
      " [150 382 614 846]]\n"
     ]
    },
    {
     "ename": "NameError",
     "evalue": "name 'inv' is not defined",
     "output_type": "error",
     "traceback": [
      "\u001b[0;31m---------------------------------------------------------------------------\u001b[0m",
      "\u001b[0;31mNameError\u001b[0m                                 Traceback (most recent call last)",
      "\u001b[0;32m<ipython-input-14-2b3c25b20813>\u001b[0m in \u001b[0;36m<module>\u001b[0;34m()\u001b[0m\n\u001b[1;32m      3\u001b[0m \u001b[1;32mprint\u001b[0m\u001b[1;33m\u001b[0m\u001b[0m\n\u001b[1;32m      4\u001b[0m \u001b[1;32mprint\u001b[0m \u001b[0mnp\u001b[0m\u001b[1;33m.\u001b[0m\u001b[0mdot\u001b[0m\u001b[1;33m(\u001b[0m\u001b[0mdata_2\u001b[0m\u001b[1;33m,\u001b[0m \u001b[0mdata_2\u001b[0m\u001b[1;33m.\u001b[0m\u001b[0mT\u001b[0m\u001b[1;33m)\u001b[0m\u001b[1;33m\u001b[0m\u001b[0m\n\u001b[0;32m----> 5\u001b[0;31m \u001b[1;32mprint\u001b[0m \u001b[0mnp\u001b[0m\u001b[1;33m.\u001b[0m\u001b[0mdot\u001b[0m\u001b[1;33m(\u001b[0m\u001b[0mdata_2\u001b[0m\u001b[1;33m,\u001b[0m \u001b[0minv\u001b[0m\u001b[1;33m(\u001b[0m\u001b[0mdata_2\u001b[0m\u001b[1;33m)\u001b[0m\u001b[1;33m)\u001b[0m\u001b[1;33m\u001b[0m\u001b[0m\n\u001b[0m",
      "\u001b[0;31mNameError\u001b[0m: name 'inv' is not defined"
     ]
    }
   ],
   "source": [
    "data_2 = np.arange(1,17).reshape(4,4)\n",
    "print data_2\n",
    "print\n",
    "print np.dot(data_2, data_2.T)\n",
    "#print np.dot(data_2, inv(data_2)) inverse 곱은 뒤에서 살펴보자"
   ]
  },
  {
   "cell_type": "code",
   "execution_count": 16,
   "metadata": {
    "collapsed": false
   },
   "outputs": [
    {
     "data": {
      "text/plain": [
       "array([[270, 300, 330],\n",
       "       [300, 335, 370],\n",
       "       [330, 370, 410]])"
      ]
     },
     "execution_count": 16,
     "metadata": {},
     "output_type": "execute_result"
    }
   ],
   "source": [
    "np.dot(arr.T, arr)"
   ]
  },
  {
   "cell_type": "markdown",
   "metadata": {},
   "source": [
    "* universial function\n",
    "  - ndarray 의 각각 원소별로 연산을 수행함\n",
    "  - 벡터화 연산으로 매우 고속으로 처리됨. loop 안 쓰고\n",
    "  - sqrt, exp 등 간단한 변형을 전체 원소에 적용"
   ]
  },
  {
   "cell_type": "code",
   "execution_count": 11,
   "metadata": {
    "collapsed": false
   },
   "outputs": [
    {
     "name": "stdout",
     "output_type": "stream",
     "text": [
      "The slowest run took 6.71 times longer than the fastest. This could mean that an intermediate result is being cached.\n",
      "10000 loops, best of 3: 75.7 µs per loop\n",
      "****************************************************************************************************\n",
      "100 loops, best of 3: 2.65 ms per loop\n"
     ]
    }
   ],
   "source": [
    "from math import sqrt\n",
    "\n",
    "arr = np.arange(10000) \n",
    "%timeit np.sqrt(arr) #벡터화 연산\n",
    "print '*' * 100\n",
    "\n",
    "%timeit [sqrt(i) for i in arr] #루프 이용해 새로운 리스트 생성. 오래걸림"
   ]
  },
  {
   "cell_type": "code",
   "execution_count": 15,
   "metadata": {
    "collapsed": false
   },
   "outputs": [
    {
     "name": "stdout",
     "output_type": "stream",
     "text": [
      "[0 1 2 3 4 5 6 7 8 9]\n",
      "[  1.00000000e+00   2.71828183e+00   7.38905610e+00   2.00855369e+01\n",
      "   5.45981500e+01   1.48413159e+02   4.03428793e+02   1.09663316e+03\n",
      "   2.98095799e+03   8.10308393e+03]\n"
     ]
    }
   ],
   "source": [
    "arr = np.arange(10)\n",
    "print arr\n",
    "print np.exp(arr) #Calculate the exponential of all elements in the input array."
   ]
  },
  {
   "cell_type": "code",
   "execution_count": 13,
   "metadata": {
    "collapsed": false
   },
   "outputs": [
    {
     "name": "stdout",
     "output_type": "stream",
     "text": [
      "[ 0.47890103  0.18465702  0.43346473  0.96445753  0.31599974 -0.13103984\n",
      "  0.56278868 -0.88197302]\n",
      "[ 1.18972357 -1.80766176 -0.05719002 -1.58394036  0.44427027  0.33671386\n",
      " -0.32649998 -0.30629748]\n"
     ]
    }
   ],
   "source": [
    "x = np.random.randn(8)\n",
    "y = np.random.randn(8)\n",
    "\n",
    "print x\n",
    "print y"
   ]
  },
  {
   "cell_type": "code",
   "execution_count": 16,
   "metadata": {
    "collapsed": false
   },
   "outputs": [
    {
     "name": "stdout",
     "output_type": "stream",
     "text": [
      "[ 1.18972357  0.18465702  0.43346473  0.96445753  0.44427027  0.33671386\n",
      "  0.56278868 -0.30629748]\n",
      "[ 0.47890103 -1.80766176 -0.05719002 -1.58394036  0.31599974 -0.13103984\n",
      " -0.32649998 -0.88197302]\n"
     ]
    }
   ],
   "source": [
    "print np.maximum(x, y) #counterpart를 비교해서 큰것만 가져옴.\n",
    "print np.minimum(x, y) #작은 것"
   ]
  },
  {
   "cell_type": "code",
   "execution_count": 19,
   "metadata": {
    "collapsed": false
   },
   "outputs": [
    {
     "name": "stdout",
     "output_type": "stream",
     "text": [
      "[0 6 1 9 7 8 9 9 9 2]\n",
      "[2 2 7 5 4 9 2 7 0 5]\n",
      "[2 6 7 9 7 9 9 9 9 5]\n"
     ]
    }
   ],
   "source": [
    "x1 = np.random.randint(0,10,10)\n",
    "y1 = np.random.randint(0,10,10)\n",
    "print x1\n",
    "print y1\n",
    "print np.maximum(x1, y1)"
   ]
  },
  {
   "cell_type": "code",
   "execution_count": null,
   "metadata": {
    "collapsed": true
   },
   "outputs": [],
   "source": []
  },
  {
   "cell_type": "code",
   "execution_count": 20,
   "metadata": {
    "collapsed": false
   },
   "outputs": [
    {
     "name": "stdout",
     "output_type": "stream",
     "text": [
      "[-5.32909811 -4.03528765  4.60933414  4.56308325 -0.60188271 -3.50984936\n",
      " -4.74933144]\n"
     ]
    },
    {
     "data": {
      "text/plain": [
       "(array([-0.32909811, -0.03528765,  0.60933414,  0.56308325, -0.60188271,\n",
       "        -0.50984936, -0.74933144]), array([-5., -4.,  4.,  4., -0., -3., -4.]))"
      ]
     },
     "execution_count": 20,
     "metadata": {},
     "output_type": "execute_result"
    }
   ],
   "source": [
    "arr = np.random.randn(7) * 5\n",
    "print arr\n",
    "np.modf(arr) #Return the fractional and integral parts of an array, element-wise."
   ]
  },
  {
   "cell_type": "markdown",
   "metadata": {},
   "source": [
    "* 조건\n",
    " - numpy where 함수 (x if condition else y) 삼항식의 벡터화된 버젼, Return elements, either from x or y, depending on condition.\n",
    " - np.where(condition, val1, val2)"
   ]
  },
  {
   "cell_type": "code",
   "execution_count": 21,
   "metadata": {
    "collapsed": false
   },
   "outputs": [
    {
     "name": "stdout",
     "output_type": "stream",
     "text": [
      "[1.0, 3.0, 1.3, 1.5, 2.5]\n"
     ]
    }
   ],
   "source": [
    "xarr = np.array([1.0, 1.0, 1.3, 1.5, 1.5])\n",
    "yarr = np.array([2.0, 3.0, 2.3, 2.7, 2.5])\n",
    "\n",
    "cond = np.array([True, False, True, True, False])\n",
    "\n",
    "# 순수 파이썬으로 수행되기 때문에 느리다.\n",
    "result = [x if c else y for c, x, y in zip(cond, xarr, yarr)] #True면 x꺼 가져오고, False면 y꺼 가져온다.\n",
    "print result"
   ]
  },
  {
   "cell_type": "code",
   "execution_count": 23,
   "metadata": {
    "collapsed": false
   },
   "outputs": [
    {
     "name": "stdout",
     "output_type": "stream",
     "text": [
      "['A', 'B', 'c']\n"
     ]
    }
   ],
   "source": [
    "twice = np.array([\"A\",\"B\",\"C\"])\n",
    "sosi = np.array([\"a\",\"b\",\"c\"])\n",
    "condition = [True, True, False]\n",
    "\n",
    "result = [t if c else s for t,s,c in zip(twice, sosi, condition)]\n",
    "print result"
   ]
  },
  {
   "cell_type": "code",
   "execution_count": 31,
   "metadata": {
    "collapsed": false
   },
   "outputs": [
    {
     "name": "stdout",
     "output_type": "stream",
     "text": [
      "[ 1.   3.   1.3  1.5  2.5]\n"
     ]
    }
   ],
   "source": [
    "# where 의 x,y 위치에는 벡터도 스칼라값도 올 수 있다.\n",
    "result = np.where(cond, xarr, yarr)\n",
    "print result"
   ]
  },
  {
   "cell_type": "code",
   "execution_count": 24,
   "metadata": {
    "collapsed": false
   },
   "outputs": [
    {
     "name": "stdout",
     "output_type": "stream",
     "text": [
      "['A' 'B' 'c']\n"
     ]
    }
   ],
   "source": [
    "result = np.where(condition, twice, sosi)\n",
    "print result"
   ]
  },
  {
   "cell_type": "markdown",
   "metadata": {},
   "source": [
    "* 연습문제) \n",
    "  - 랜덤한 4*4 행렬을 생성 한 뒤, 양수는 1 음수는 -1로 바뀐 행렬을 출력하세요\n",
    "  - 랜덤한 4*4 행렬을 생성 한 뒤, 양수는 1 음수는 그대로한 행렬을 출력하세요\n",
    "  "
   ]
  },
  {
   "cell_type": "code",
   "execution_count": 33,
   "metadata": {
    "collapsed": false
   },
   "outputs": [
    {
     "name": "stdout",
     "output_type": "stream",
     "text": [
      "[[-0.11268457  1.43254922  1.33330592  1.81457419]\n",
      " [ 2.55191945  0.14074564 -0.24257491 -0.00705061]\n",
      " [ 0.03591891 -1.16712214 -0.20769943  0.02323569]\n",
      " [ 1.58539382  0.21051882  0.54143143 -0.39001902]]\n",
      "[[-1  1  1  1]\n",
      " [ 1  1 -1 -1]\n",
      " [ 1 -1 -1  1]\n",
      " [ 1  1  1 -1]]\n",
      "[[-0.11268457  1.          1.          1.        ]\n",
      " [ 1.          1.         -0.24257491 -0.00705061]\n",
      " [ 1.         -1.16712214 -0.20769943  1.        ]\n",
      " [ 1.          1.          1.         -0.39001902]]\n"
     ]
    }
   ],
   "source": [
    "#1\n",
    "result = np.random.randn(4,4)\n",
    "print result\n",
    "result_adjusted = np.where(result > 0, 1, -1)\n",
    "print result_adjusted\n",
    "\n",
    "result_adjusted2 = np.where(result > 0, 1, result)\n",
    "print result_adjusted2"
   ]
  },
  {
   "cell_type": "code",
   "execution_count": 28,
   "metadata": {
    "collapsed": false
   },
   "outputs": [
    {
     "name": "stdout",
     "output_type": "stream",
     "text": [
      "[[ 0.04227753 -0.77618982 -0.40623434  0.30114716]\n",
      " [-0.4131977  -1.69572325  0.36291013  0.73752631]\n",
      " [ 0.09338779  0.95673775 -1.48407969 -0.21211863]\n",
      " [-1.09595634  0.53033679  0.67824213 -0.38150829]]\n",
      "\n",
      "[[ 1 -1 -1  1]\n",
      " [-1 -1  1  1]\n",
      " [ 1  1 -1 -1]\n",
      " [-1  1  1 -1]]\n",
      "\n",
      "[[ 1.         -0.77618982 -0.40623434  1.        ]\n",
      " [-0.4131977  -1.69572325  1.          1.        ]\n",
      " [ 1.          1.         -1.48407969 -0.21211863]\n",
      " [-1.09595634  1.          1.         -0.38150829]]\n"
     ]
    }
   ],
   "source": [
    "import numpy as np\n",
    "arr = np.random.randn(4,4)\n",
    "print arr\n",
    "print\n",
    "new_arr = np.where(arr > 0, 1, -1)\n",
    "print new_arr\n",
    "print\n",
    "new_arr1 = np.where(arr > 0, 1, arr)\n",
    "print new_arr1"
   ]
  },
  {
   "cell_type": "markdown",
   "metadata": {},
   "source": [
    "* 수학, 통계 함수"
   ]
  },
  {
   "cell_type": "code",
   "execution_count": 33,
   "metadata": {
    "collapsed": false,
    "scrolled": true
   },
   "outputs": [
    {
     "name": "stdout",
     "output_type": "stream",
     "text": [
      "[[-1.32522381 -2.3586643   1.48259885  0.35084532]\n",
      " [-0.09690705 -0.27371873  0.94763825  0.70219804]\n",
      " [ 0.6865181  -1.9556494  -0.47315424  0.18904504]\n",
      " [ 0.05432837  2.28827928 -0.8443832   1.04135555]\n",
      " [-1.87398263 -0.42651013  0.53874617 -0.3393388 ]]\n"
     ]
    }
   ],
   "source": [
    "arr = np.random.randn(5, 4)\n",
    "print arr"
   ]
  },
  {
   "cell_type": "code",
   "execution_count": 31,
   "metadata": {
    "collapsed": false
   },
   "outputs": [
    {
     "name": "stdout",
     "output_type": "stream",
     "text": [
      "-0.172652655818\n",
      "-0.172652655818\n"
     ]
    }
   ],
   "source": [
    "print arr.mean() # 평균 np.ndarray의 method\n",
    "print np.mean(arr) # 평균 np 패키지의 function"
   ]
  },
  {
   "cell_type": "code",
   "execution_count": 32,
   "metadata": {
    "collapsed": false
   },
   "outputs": [
    {
     "name": "stdout",
     "output_type": "stream",
     "text": [
      "-2.76244249308\n",
      "-2.76244249308\n"
     ]
    }
   ],
   "source": [
    "print np.sum(arr) #모듈에 있는 함수 \n",
    "print arr.sum() #arr의 멤버함수. 이 차이 밖에 없음"
   ]
  },
  {
   "cell_type": "code",
   "execution_count": 33,
   "metadata": {
    "collapsed": false
   },
   "outputs": [
    {
     "name": "stdout",
     "output_type": "stream",
     "text": [
      "[[ 0.04227753 -0.77618982 -0.40623434  0.30114716]\n",
      " [-0.4131977  -1.69572325  0.36291013  0.73752631]\n",
      " [ 0.09338779  0.95673775 -1.48407969 -0.21211863]\n",
      " [-1.09595634  0.53033679  0.67824213 -0.38150829]]\n",
      "*****\n",
      "[-0.34337218 -0.24620963 -0.21229044  0.11126164]\n",
      "*****\n",
      "[-0.20974987 -0.25212113 -0.1615182  -0.06722143]\n"
     ]
    }
   ],
   "source": [
    "print arr\n",
    "print '*****'\n",
    "print arr.mean(axis = 0) # 0 - 행, 1 - 열, 따라간다.\n",
    "print '*****'\n",
    "print arr.mean(axis = 1) # 0 - 행, 1 - 열"
   ]
  },
  {
   "cell_type": "code",
   "execution_count": 34,
   "metadata": {
    "collapsed": false
   },
   "outputs": [
    {
     "name": "stdout",
     "output_type": "stream",
     "text": [
      "[-1.37348872 -0.98483854 -0.84916178  0.44504654]\n"
     ]
    }
   ],
   "source": [
    "print arr.sum(axis=0)"
   ]
  },
  {
   "cell_type": "code",
   "execution_count": 36,
   "metadata": {
    "collapsed": false
   },
   "outputs": [
    {
     "name": "stdout",
     "output_type": "stream",
     "text": [
      "[[ 1  2  3  4]\n",
      " [ 5  6  7  8]\n",
      " [ 9 10 11 12]\n",
      " [13 14 15 16]]\n",
      "8.5 8.5\n",
      "136 136\n",
      "[28 32 36 40] [10 26 42 58]\n"
     ]
    }
   ],
   "source": [
    "arr1 = np.arange(1,17).reshape(4,4)\n",
    "print arr1\n",
    "print arr1.mean(), np.mean(arr1)\n",
    "print arr1.sum(), np.sum(arr1)\n",
    "print arr1.sum(axis=0), arr1.sum(axis=1) #0 행따라, 1 열따라"
   ]
  },
  {
   "cell_type": "markdown",
   "metadata": {},
   "source": [
    "* 연습문제)\n",
    " - 랜덤한 2차원 배열을 생성하고 행별 평균이 가장 높은 행의 값은?"
   ]
  },
  {
   "cell_type": "code",
   "execution_count": 44,
   "metadata": {
    "collapsed": false
   },
   "outputs": [
    {
     "name": "stdout",
     "output_type": "stream",
     "text": [
      "[ 3.20554524  1.58851041 -2.54822352]\n",
      "3.20554524192\n"
     ]
    }
   ],
   "source": [
    "arr = np.random.randn(3, 3)\n",
    "print arr.sum(axis=1) #행별이니까 열을 따라가면서 구해야하므로 axis = 1.\n",
    "print max(arr.sum(axis=1))"
   ]
  },
  {
   "cell_type": "markdown",
   "metadata": {},
   "source": [
    "* 정렬\n",
    " - ndarray.sort"
   ]
  },
  {
   "cell_type": "code",
   "execution_count": 41,
   "metadata": {
    "collapsed": false
   },
   "outputs": [
    {
     "name": "stdout",
     "output_type": "stream",
     "text": [
      "[-0.2175567   0.03894847 -0.32979545  0.85237149 -0.01395927  0.82870568\n",
      " -0.80877038 -0.4540637 ]\n"
     ]
    }
   ],
   "source": [
    "arr = np.random.randn(8)\n",
    "print arr"
   ]
  },
  {
   "cell_type": "code",
   "execution_count": 42,
   "metadata": {
    "collapsed": false
   },
   "outputs": [
    {
     "name": "stdout",
     "output_type": "stream",
     "text": [
      "[-0.80877038 -0.4540637  -0.32979545 -0.2175567  -0.01395927  0.03894847\n",
      "  0.82870568  0.85237149]\n"
     ]
    }
   ],
   "source": [
    "arr.sort()\n",
    "print arr"
   ]
  },
  {
   "cell_type": "code",
   "execution_count": 44,
   "metadata": {
    "collapsed": false
   },
   "outputs": [
    {
     "name": "stdout",
     "output_type": "stream",
     "text": [
      "[[ 0.48445367  0.4001964   0.49597295]\n",
      " [-0.19698697 -0.01501497 -0.23606666]]\n",
      "[[ 0.4001964   0.48445367  0.49597295]\n",
      " [-0.23606666 -0.19698697 -0.01501497]]\n",
      "[[-0.23606666 -0.19698697 -0.01501497]\n",
      " [ 0.4001964   0.48445367  0.49597295]]\n"
     ]
    }
   ],
   "source": [
    "arr = np.random.randn(2, 3)\n",
    "print arr\n",
    "\n",
    "arr.sort(1) # 열을 따라서 정렬, 즉 각 행 정렬\n",
    "print arr\n",
    "\n",
    "arr.sort(0) # 행따라 정렬, 즉 각 열 정렬\n",
    "print arr"
   ]
  },
  {
   "cell_type": "markdown",
   "metadata": {},
   "source": [
    "* 집합 함수\n",
    " - 많이 사용되는 집합 함수\n",
    " - np.unique(x)         : 중복 제거 후, 정렬하여 반환\n",
    " - np.intersect1d(x, y) : 배열 중 공통적으로 포함하는 원소를 정렬하여 반환\n",
    " - np.union1d(x, y)     : 합집합 반환 "
   ]
  },
  {
   "cell_type": "code",
   "execution_count": 47,
   "metadata": {
    "collapsed": false
   },
   "outputs": [
    {
     "data": {
      "text/plain": [
       "array(['Aaron', 'Bill', 'Bob', 'Doe', 'John', 'Kate'], \n",
       "      dtype='|S5')"
      ]
     },
     "execution_count": 47,
     "metadata": {},
     "output_type": "execute_result"
    }
   ],
   "source": [
    "names = np.array(['Aaron', 'Bob', 'Bill', 'Bob', 'John', 'Bob', 'Bill', 'Doe', 'Kate'])\n",
    "np.unique(names) #중복 제거 후 정렬하여 반환\n",
    "#파이썬에서처럼 set으로 만들고 정렬하는 과정을 거칠 필요 없음."
   ]
  },
  {
   "cell_type": "code",
   "execution_count": 49,
   "metadata": {
    "collapsed": false
   },
   "outputs": [
    {
     "data": {
      "text/plain": [
       "array([1, 2, 3])"
      ]
     },
     "execution_count": 49,
     "metadata": {},
     "output_type": "execute_result"
    }
   ],
   "source": [
    "nums = np.array([3, 1, 1, 2, 2, 2, 3, 3, 3, 3, 1, 1])\n",
    "np.unique(nums) # 반복되는거 제거 후 정렬하여 반환"
   ]
  },
  {
   "cell_type": "code",
   "execution_count": 50,
   "metadata": {
    "collapsed": false
   },
   "outputs": [
    {
     "name": "stdout",
     "output_type": "stream",
     "text": [
      "['a' 'b' 'c' 'd' 'e']\n",
      "['a', 'b', 'c', 'd', 'e']\n"
     ]
    }
   ],
   "source": [
    "alphabet = [\"a\",\"b\",\"c\",\"d\",\"e\",\"e\",\"a\",\"b\"]\n",
    "print np.unique(alphabet)\n",
    "print sorted(set(alphabet)) #sorted함수가 문자열에도 먹히네??"
   ]
  },
  {
   "cell_type": "code",
   "execution_count": null,
   "metadata": {
    "collapsed": true
   },
   "outputs": [],
   "source": []
  },
  {
   "cell_type": "code",
   "execution_count": 51,
   "metadata": {
    "collapsed": false
   },
   "outputs": [
    {
     "data": {
      "text/plain": [
       "[1, 2, 3]"
      ]
     },
     "execution_count": 51,
     "metadata": {},
     "output_type": "execute_result"
    }
   ],
   "source": [
    "# np.unique의 순수한 파이썬 구현\n",
    "sorted(set(nums))"
   ]
  },
  {
   "cell_type": "code",
   "execution_count": 54,
   "metadata": {
    "collapsed": false
   },
   "outputs": [
    {
     "name": "stdout",
     "output_type": "stream",
     "text": [
      "[4 5 6]\n",
      "[1 2 3 4 5 6 7 8 9]\n"
     ]
    }
   ],
   "source": [
    "x = np.array([1, 2, 3, 4, 5, 6])\n",
    "y = np.array([4, 5, 6, 7, 8, 9])\n",
    "\n",
    "print np.intersect1d(x, y)\n",
    "print np.union1d(x, y)"
   ]
  },
  {
   "cell_type": "code",
   "execution_count": 57,
   "metadata": {
    "collapsed": false
   },
   "outputs": [
    {
     "name": "stdout",
     "output_type": "stream",
     "text": [
      "[4 5 6]\n",
      "[1 2 3 4 5 6 7 8 9]\n"
     ]
    }
   ],
   "source": [
    "x = np.array([1,2,3,4,5,6])\n",
    "y = np.array([4,5,6,7,8,9])\n",
    "print np.intersect1d(x,y) #Find the intersection of two arrays. Return the sorted, unique values that are in both of the input arrays.\n",
    "print np.union1d(x,y)"
   ]
  },
  {
   "cell_type": "markdown",
   "metadata": {},
   "source": [
    "* 선형대수 package\n",
    " - numpy.linalg"
   ]
  },
  {
   "cell_type": "code",
   "execution_count": 64,
   "metadata": {
    "collapsed": false
   },
   "outputs": [
    {
     "name": "stdout",
     "output_type": "stream",
     "text": [
      "[[ 0.11733527  0.72314462 -1.05803593]\n",
      " [ 0.05834764 -0.19886093 -2.1113706 ]\n",
      " [-0.56639464 -0.9197985  -0.59147279]]\n",
      "\n",
      "[[ 0.3379749   0.59421625  0.0876686 ]\n",
      " [ 0.59421625  1.4085131   0.19879193]\n",
      " [ 0.0876686   0.19879193  5.92716593]]\n",
      "\n",
      "[[-2.14226755  1.64496763 -2.03989139]\n",
      " [ 1.4447391  -0.7851628   0.21841035]\n",
      " [-0.19527525 -0.35421627 -0.07694345]]\n",
      "\n",
      "[[  1.00000000e+00  -5.55111512e-17  -2.77555756e-17]\n",
      " [  0.00000000e+00   1.00000000e+00  -5.55111512e-17]\n",
      " [  1.38777878e-17  -8.32667268e-17   1.00000000e+00]]\n"
     ]
    }
   ],
   "source": [
    "from numpy.linalg import inv, qr\n",
    "\n",
    "X = np.random.randn(3, 3)\n",
    "mat = X.T.dot(X)\n",
    "\n",
    "print X\n",
    "print\n",
    "print mat\n",
    "print \n",
    "print inv(X)\n",
    "print \n",
    "print X.dot(inv(X))"
   ]
  },
  {
   "cell_type": "code",
   "execution_count": 51,
   "metadata": {
    "collapsed": false
   },
   "outputs": [
    {
     "name": "stdout",
     "output_type": "stream",
     "text": [
      "[[-0.99941775  0.47171302  0.20633515]\n",
      " [ 0.1782363  -0.23610118  1.14235367]\n",
      " [-1.19393198 -0.40485227  0.7469732 ]]\n"
     ]
    }
   ],
   "source": [
    "print inv(X) # X의 역행렬"
   ]
  },
  {
   "cell_type": "code",
   "execution_count": 52,
   "metadata": {
    "collapsed": false
   },
   "outputs": [
    {
     "data": {
      "text/plain": [
       "array([[  1.00000000e+00,   5.55111512e-17,  -5.55111512e-17],\n",
       "       [  0.00000000e+00,   1.00000000e+00,   0.00000000e+00],\n",
       "       [  0.00000000e+00,   1.38777878e-17,   1.00000000e+00]])"
      ]
     },
     "execution_count": 52,
     "metadata": {},
     "output_type": "execute_result"
    }
   ],
   "source": [
    "X.dot(inv(X)) # X와 X역행렬의 행렬곱은 단위행렬"
   ]
  },
  {
   "cell_type": "markdown",
   "metadata": {},
   "source": [
    "* 계단 오르내리기 실습\n",
    " - 계단의 중간에서 같은 확률로 올라가거나 내려간다고 가정"
   ]
  },
  {
   "cell_type": "code",
   "execution_count": 231,
   "metadata": {
    "collapsed": false
   },
   "outputs": [
    {
     "name": "stdout",
     "output_type": "stream",
     "text": [
      "[1, 2, 3, 4, 5, 4, 3, 4, 5, 6, 5, 4, 5, 4, 3, 4, 5, 6, 5, 4, 3, 4, 3, 4, 3, 4, 5, 4, 5, 6, 5, 6, 5, 6, 7, 8, 9, 10, 11, 12, 13, 14, 15, 14, 15, 16, 15, 16, 17, 18, 19, 20, 21, 20, 19, 20, 21, 20, 21, 22, 21, 22, 21, 20, 19, 18, 17, 18, 19, 20, 21, 22, 23, 24, 25, 26, 27, 28, 29, 30, 31, 30, 31, 32, 33, 32, 33, 32, 31, 32, 31, 32, 31, 30, 31, 32, 31, 30, 31, 32, 31, 32, 31, 32, 33, 34, 35, 36, 37, 38, 39, 38, 37, 38, 39, 40, 41, 42, 43, 44, 43, 44, 43, 44, 45, 46, 45, 46, 47, 48, 49, 50, 49, 48, 49, 50, 51, 50, 51, 50, 49, 50, 49, 50, 51, 52, 51, 52, 53, 54, 55, 54, 53, 52, 53, 54, 55, 56, 57, 56, 57, 58, 59, 58, 59, 60, 61, 62, 63, 64, 65, 66, 67, 68, 69, 70, 71, 72, 71, 72, 71, 70, 71, 72, 73, 72, 73, 74, 75, 76, 77, 76, 77, 78, 79, 78, 77, 76, 75, 76, 77, 78, 79, 78, 79, 80, 81, 80, 81, 82, 81, 80, 81, 80, 79, 80, 81, 82, 83, 82, 83, 84, 85, 86, 87, 88, 89, 90, 89, 90, 89, 88, 87, 88, 87, 88, 87, 86, 85, 86, 87, 88, 89, 88, 89, 88, 89, 88, 89, 90, 91, 92, 93, 92, 91, 92, 91, 90, 91, 92, 93, 94, 95, 96, 97, 98, 97, 98, 99, 100, 99, 100, 101, 102, 103, 104, 105, 104, 105, 106, 107, 108, 107, 108, 107, 108, 107, 106, 107, 108, 109, 108, 107, 108, 107, 106, 107, 106, 107, 108, 109, 110, 111, 112, 113, 114, 115, 114, 115, 116, 117, 116, 117, 118, 119, 120, 121, 122, 123, 122, 121, 122, 121, 122, 123, 122, 121, 120, 121, 122, 123, 122, 123, 122, 123, 124, 125, 126, 125, 124, 125, 126, 125, 124, 125, 124, 123, 124, 123, 122, 123, 124, 125, 124, 125, 124, 125, 126, 125, 124, 125, 124, 125, 126, 127, 128, 127, 126, 127, 128, 129, 128, 127, 126, 127, 128, 127, 128, 127, 128, 127, 126, 125, 126, 127, 126, 127, 128, 129, 128, 129, 130, 131, 130, 131, 132, 131, 130, 131, 132, 131, 132, 133, 134, 135, 136, 137, 136, 137, 138, 139, 138, 139, 138, 139, 140, 141, 142, 143, 144, 145, 146, 147, 146, 145, 146, 147, 148, 149, 150, 149, 148, 147, 148, 147, 148, 147, 148, 149, 150, 151, 150, 151, 152, 153, 154, 153, 154, 155, 156, 157, 158, 157, 156, 155, 156, 157, 158, 157, 156, 155, 156, 157, 158, 157, 156, 157, 158, 157, 158, 159, 160, 161, 162, 161, 160, 161, 162, 163, 162, 161, 162, 161, 162, 161, 162, 161, 162, 161, 162, 163, 164, 165, 166, 165, 164, 163, 164, 163, 162, 161, 162, 161, 162, 161, 160, 161, 162, 163, 162, 161, 162, 163, 164, 165, 166, 167, 168, 167, 168, 167, 168, 169, 170, 171, 172, 173, 174, 175, 176, 177, 178, 177, 178, 177, 178, 179, 178, 179, 178, 179, 180, 181, 182, 183, 184, 183, 184, 185, 186, 187, 188, 187, 188, 189, 188, 189, 188, 189, 190, 189, 190, 191, 190, 191, 192, 193, 192, 193, 194, 195, 196, 197, 198, 197, 196, 197, 196, 195, 196, 197, 196, 197, 198, 197, 198, 197, 196, 195, 196, 195, 196, 197, 198, 197, 198, 199, 200, 201, 200, 201, 202, 203, 204, 205, 204, 205, 206, 207, 208, 207, 206, 205, 206, 207, 206, 207, 208, 207, 208, 207, 208, 207, 208, 209, 210, 209, 208, 207, 208, 209, 210, 211, 212, 211, 210, 209, 210, 211, 212, 211, 210, 211, 212, 213, 214, 213, 214, 215, 214, 213, 214, 215, 216, 215, 216, 217, 218, 217, 216, 215, 216, 217, 218, 217, 218, 219, 220, 221, 222, 223, 224, 225, 224, 223, 224, 223, 224, 225, 224, 225, 224, 225, 226, 227, 228, 229, 228, 227, 226, 225, 226, 227, 228, 229, 230, 231, 230, 229, 230, 231, 230, 231, 232, 233, 234, 233, 234, 233, 234, 235, 236, 237, 236, 237, 238, 237, 236, 237, 238, 239, 240, 239, 240, 241, 242, 241, 240, 241, 240, 241, 242, 243, 244, 243, 244, 245, 244, 245, 244, 243, 244, 245, 244, 243, 242, 243, 244, 245, 246, 245, 244, 245, 246, 245, 246, 247, 248, 249, 250, 251, 252, 251, 252, 253, 254, 255, 254, 253, 254, 253, 254, 255, 254, 253, 254, 253, 254, 255, 256, 255, 256, 255, 256, 257, 256, 257, 258, 259, 260, 259, 258, 259, 260, 261, 262, 263, 262, 263, 264, 265, 266, 267, 266, 267, 268, 267, 268, 269, 270, 271, 270, 271, 272, 271, 270, 269, 268, 269, 270, 269, 268, 269, 270, 271, 272, 271, 272, 271, 270, 271, 270, 271, 270, 271, 270, 271, 270, 271, 272, 273, 274, 275, 276, 277, 278, 279, 278, 277, 276, 277, 278, 279, 280, 279, 280, 281, 280, 279, 280, 279, 280, 281, 280, 281, 282, 281, 282, 283, 284, 283, 284, 283, 284, 285, 286, 287, 286, 285, 284, 285, 286, 287, 288, 289, 290, 289, 288, 289, 290, 291, 292, 293, 292, 291, 290, 291, 292, 293, 292, 293, 292, 293, 294, 295, 296, 297, 296, 295, 296, 297, 298, 299, 300, 301, 302, 303, 302, 301, 300, 301, 300, 301, 302, 303, 304, 305, 306, 305, 306, 305, 306, 307, 308, 309, 310, 311, 312, 313, 312, 311, 312, 311, 310, 309, 310, 309, 310, 311, 312, 313, 312, 311, 312, 313, 312, 313, 314, 313, 312, 313, 312, 311, 312, 313, 312, 313, 312, 311, 312, 313, 312, 313, 314, 313, 314, 315, 316, 315, 316, 315, 316, 317, 316, 317, 318, 319, 320, 321, 322, 323, 324, 325, 326, 327, 328, 329, 330, 329, 330]\n"
     ]
    }
   ],
   "source": [
    "#import random\n",
    "\n",
    "pos = 0\n",
    "walk = []\n",
    "steps = 1000\n",
    "\n",
    "for i in xrange(steps):\n",
    "    result = random.randint(-1,1)\n",
    "    step = 1 if result == 1 or result == 0 else -1 #가위바뷔보 이기거나 비기면 한칸 올라가고, 지면 한칸 내려가고. 그런데 comprehension에는 elif 못쓰나?\n",
    "    pos += step\n",
    "    walk.append(pos)\n",
    "print walk"
   ]
  },
  {
   "cell_type": "code",
   "execution_count": 216,
   "metadata": {
    "collapsed": false
   },
   "outputs": [
    {
     "name": "stdout",
     "output_type": "stream",
     "text": [
      "[-1, -2, -3, -2, -3, -2, -1, 0, -1, -2, -1, -2, -1, -2, -3, -4, -5, -6, -5, -4, -5, -4, -3, -4, -3, -2, -3, -2, -1, -2, -3, -2, -1, 0, -1, -2, -1, -2, -1, -2, -1, -2, -1, -2, -1, -2, -1, 0, -1, 0, 1, 2, 1, 2, 3, 2, 1, 2, 3, 4, 5, 4, 3, 2, 1, 2, 3, 2, 3, 2, 1, 2, 3, 4, 5, 6, 7, 6, 5, 4, 3, 4, 3, 4, 3, 4, 5, 4, 5, 6, 5, 4, 5, 6, 5, 6, 7, 6, 5, 6, 5, 4, 5, 6, 5, 4, 3, 4, 3, 4, 3, 2, 3, 4, 5, 4, 5, 4, 3, 4, 5, 6, 7, 6, 5, 4, 5, 4, 3, 2, 3, 2, 3, 2, 1, 0, -1, -2, -3, -2, -3, -4, -5, -4, -3, -2, -1, -2, -3, -4, -5, -6, -7, -8, -7, -6, -7, -6, -5, -6, -7, -6, -7, -6, -7, -8, -7, -8, -7, -6, -5, -6, -5, -4, -5, -6, -7, -8, -9, -10, -11, -12, -13, -14, -13, -12, -13, -12, -11, -12, -13, -12, -11, -10, -11, -12, -11, -12, -13, -14, -13, -14, -13, -14, -15, -16, -15, -14, -13, -12, -11, -10, -9, -8, -7, -6, -7, -8, -7, -6, -7, -6, -7, -6, -5, -4, -5, -4, -3, -2, -3, -2, -1, 0, -1, -2, -3, -2, -1, 0, -1, 0, 1, 0, 1, 0, 1, 2, 1, 2, 3, 2, 1, 0, -1, 0, 1, 2, 1, 2, 3, 4, 5, 6, 7, 6, 7, 6, 5, 6, 5, 4, 3, 2, 3, 4, 5, 6, 5, 6, 5, 4, 5, 6, 5, 4, 5, 4, 5, 4, 3, 4, 5, 4, 3, 4, 5, 6, 7, 8, 9, 8, 9, 8, 7, 6, 7, 6, 7, 6, 5, 4, 3, 4, 5, 6, 7, 8, 9, 8, 9, 8, 9, 8, 9, 10, 9, 8, 9, 10, 11, 10, 9, 10, 11, 10, 11, 12, 11, 12, 13, 12, 11, 12, 13, 14, 13, 14, 13, 14, 15, 14, 15, 14, 13, 14, 15, 14, 15, 16, 17, 18, 17, 18, 19, 18, 19, 20, 21, 22, 23, 24, 25, 24, 25, 24, 23, 24, 23, 24, 25, 24, 23, 22, 21, 20, 19, 20, 19, 18, 17, 16, 15, 16, 15, 14, 15, 14, 13, 14, 15, 14, 15, 14, 15, 16, 15, 14, 13, 12, 13, 14, 15, 14, 13, 12, 13, 12, 13, 12, 11, 12, 11, 12, 11, 12, 11, 10, 9, 10, 11, 12, 11, 10, 11, 12, 13, 14, 13, 12, 11, 12, 11, 12, 13, 12, 13, 14, 13, 12, 13, 12, 13, 12, 13, 12, 13, 12, 13, 12, 13, 14, 13, 12, 11, 10, 11, 10, 9, 10, 9, 10, 9, 8, 7, 6, 7, 6, 7, 8, 9, 8, 7, 8, 7, 8, 7, 8, 7, 6, 7, 8, 9, 8, 7, 8, 7, 6, 7, 8, 9, 8, 7, 8, 7, 8, 7, 8, 9, 8, 7, 6, 5, 4, 3, 2, 1, 0, -1, 0, -1, 0, -1, 0, 1, 2, 3, 2, 1, 2, 1, 2, 1, 2, 1, 0, 1, 0, -1, -2, -3, -4, -5, -4, -3, -4, -5, -6, -7, -8, -9, -8, -9, -10, -11, -10, -11, -12, -11, -10, -11, -10, -9, -10, -11, -10, -9, -10, -11, -12, -11, -10, -11, -12, -13, -12, -11, -10, -11, -12, -13, -14, -13, -12, -11, -12, -13, -14, -13, -14, -13, -12, -11, -10, -11, -12, -11, -12, -11, -12, -11, -10, -9, -8, -9, -8, -7, -8, -9, -8, -9, -10, -9, -10, -9, -10, -9, -10, -9, -8, -7, -6, -7, -8, -7, -6, -5, -4, -5, -6, -7, -6, -5, -4, -5, -4, -5, -4, -5, -4, -3, -2, -3, -4, -3, -2, -3, -4, -3, -2, -1, 0, 1, 0, 1, 2, 3, 4, 5, 6, 7, 6, 5, 6, 5, 4, 3, 4, 5, 4, 5, 4, 3, 2, 3, 4, 3, 4, 5, 4, 3, 4, 3, 2, 3, 2, 3, 4, 5, 4, 5, 6, 5, 6, 5, 6, 5, 4, 3, 2, 1, 2, 3, 4, 3, 2, 3, 2, 3, 4, 3, 4, 5, 6, 7, 6, 7, 6, 7, 8, 7, 8, 9, 10, 9, 10, 11, 12, 11, 10, 9, 8, 7, 6, 7, 8, 7, 6, 7, 8, 9, 10, 9, 10, 11, 10, 9, 10, 9, 10, 9, 10, 11, 10, 9, 8, 9, 10, 9, 10, 9, 8, 9, 10, 11, 12, 11, 10, 11, 12, 13, 12, 13, 12, 13, 12, 13, 12, 11, 10, 9, 10, 11, 12, 13, 12, 11, 12, 11, 12, 11, 10, 11, 12, 11, 10, 11, 12, 13, 12, 13, 14, 13, 14, 15, 16, 17, 18, 19, 20, 19, 20, 19, 20, 21, 20, 19, 20, 21, 20, 19, 18, 17, 16, 15, 14, 13, 12, 11, 10, 11, 10, 11, 10, 9, 10, 11, 10, 11, 10, 11, 12, 13, 12, 11, 10, 11, 12, 13, 12, 13, 14, 15, 16, 15, 16, 15, 16, 15, 16, 17, 18, 17, 16, 17, 18, 19, 20, 21, 22, 23, 24, 23, 22, 21, 22, 21, 22, 21, 20, 19, 18, 19, 20, 21, 22, 23, 24, 25, 24, 25, 26, 27, 28, 27, 28, 27, 28, 27, 26, 27, 28, 29, 28, 27, 28, 27, 28, 29, 28, 27, 28, 27, 28, 27, 26, 27, 28, 29, 28, 29, 28, 27, 28, 27, 28, 27, 28, 27, 28, 29, 28, 27, 26, 25, 24, 25, 24, 25, 24, 23, 22, 23, 24, 25, 24, 23, 22, 21, 20, 21, 20, 19, 18, 17, 18, 19, 18, 19, 18, 19, 20, 21, 20, 19, 20, 19, 20, 19, 20, 19, 18, 19, 20, 19, 18, 17, 18, 17, 18, 17, 18, 17, 18, 17, 16, 17, 16, 17, 18, 17, 18, 17, 18, 19, 20, 21, 20, 19, 18]\n"
     ]
    }
   ],
   "source": [
    "# 순수 파이썬 버젼\n",
    "import random\n",
    "\n",
    "pos = 0 #현재 포지션 0\n",
    "walk = [] #내가 어디에 있나\n",
    "steps = 1000 #천번 실행\n",
    "for i in xrange(steps):\n",
    "    step = 1 if random.randint(0, 1) else -1 #참이면 1 거짓이면 -1.  random.randint(a, b) b포함\n",
    "    pos += step\n",
    "    walk.append(pos)\n",
    "    \n",
    "print walk"
   ]
  },
  {
   "cell_type": "code",
   "execution_count": null,
   "metadata": {
    "collapsed": true
   },
   "outputs": [],
   "source": []
  },
  {
   "cell_type": "code",
   "execution_count": 68,
   "metadata": {
    "collapsed": true
   },
   "outputs": [
    {
     "name": "stdout",
     "output_type": "stream",
     "text": [
      "[ -1  -2  -1   0  -1   0  -1   0   1   0   1   2   3   4   3   4   5   4\n",
      "   3   2   1   0  -1  -2  -1   0  -1   0   1   0  -1   0   1   0  -1   0\n",
      "  -1  -2  -3  -4  -5  -6  -7  -8  -9 -10 -11 -10 -11 -12 -13 -14 -15 -16\n",
      " -15 -14 -13 -14 -15 -16 -15 -16 -17 -18 -19 -18 -19 -18 -17 -18 -19 -18\n",
      " -19 -20 -19 -20 -21 -20 -21 -22 -23 -24 -23 -24 -25 -26 -25 -26 -25 -26\n",
      " -25 -26 -27 -28 -29 -28 -27 -26 -25 -26 -25 -26 -25 -24 -25 -26 -25 -26\n",
      " -25 -24 -23 -24 -23 -24 -25 -24 -25 -26 -25 -26 -25 -26 -27 -26 -27 -28\n",
      " -27 -26 -27 -26 -25 -26 -27 -28 -29 -28 -29 -30 -31 -30 -29 -28 -29 -30\n",
      " -31 -30 -31 -30 -29 -28 -29 -28 -27 -26 -25 -24 -23 -24 -23 -22 -23 -24\n",
      " -23 -24 -23 -22 -21 -20 -21 -20 -21 -20 -21 -22 -21 -22 -21 -20 -19 -18\n",
      " -19 -18 -17 -18 -17 -18 -19 -18 -19 -18 -17 -18 -17 -18 -19 -18 -19 -20\n",
      " -19 -18 -19 -20 -19 -20 -21 -20 -21 -22 -23 -22 -23 -22 -21 -20 -19 -18\n",
      " -17 -16 -15 -14 -15 -16 -15 -14 -13 -14 -13 -12 -13 -14 -13 -14 -15 -16\n",
      " -15 -16 -15 -14 -13 -14 -15 -16 -15 -14 -13 -14 -15 -14 -13 -12 -13 -14\n",
      " -15 -16 -17 -16 -15 -14 -15 -16 -17 -16 -17 -16 -15 -16 -17 -18 -17 -18\n",
      " -19 -18 -17 -18 -19 -20 -21 -22 -23 -24 -25 -24 -25 -24 -23 -22 -21 -22\n",
      " -21 -22 -21 -20 -21 -22 -23 -24 -25 -26 -25 -24 -25 -26 -27 -28 -27 -28\n",
      " -27 -26 -27 -26 -27 -26 -25 -24 -25 -24 -23 -22 -23 -24 -23 -22 -21 -20\n",
      " -19 -20 -21 -22 -23 -24 -23 -22 -23 -22 -23 -24 -23 -22 -21 -20 -19 -18\n",
      " -19 -20 -19 -18 -17 -18 -19 -18 -17 -18 -19 -20 -21 -22 -23 -22 -21 -20\n",
      " -19 -18 -19 -18 -17 -16 -15 -14 -15 -16 -15 -14 -13 -14 -15 -16 -17 -16\n",
      " -15 -16 -17 -16 -15 -16 -17 -16 -15 -14 -15 -14 -15 -16 -17 -18 -19 -20\n",
      " -21 -22 -21 -22 -23 -22 -23 -24 -25 -24 -25 -26 -27 -28 -29 -28 -29 -28\n",
      " -27 -26 -27 -26 -25 -26 -25 -26 -27 -26 -25 -26 -25 -26 -25 -24 -25 -26\n",
      " -25 -24 -25 -26 -25 -24 -25 -26 -25 -26 -25 -24 -23 -22 -21 -20 -21 -22\n",
      " -23 -24 -23 -24 -25 -26 -25 -24 -23 -24 -23 -24 -23 -22 -23 -22 -23 -24\n",
      " -23 -22 -23 -24 -25 -24 -23 -24 -25 -24 -25 -24 -25 -24 -25 -26 -27 -28\n",
      " -29 -30 -29 -28 -29 -30 -31 -30 -29 -30 -31 -32 -33 -34 -35 -34 -35 -36\n",
      " -37 -38 -37 -38 -37 -36 -37 -38 -37 -36 -37 -38 -39 -40 -41 -40 -41 -40\n",
      " -39 -38 -39 -38 -37 -38 -39 -38 -37 -36 -35 -36 -35 -36 -37 -36 -35 -34\n",
      " -33 -32 -31 -32 -31 -32 -33 -32 -31 -30 -31 -30 -31 -30 -29 -30 -29 -28\n",
      " -29 -30 -31 -32 -31 -32 -31 -32 -33 -34 -33 -34 -35 -36 -37 -38 -39 -40\n",
      " -41 -40 -39 -38 -37 -38 -37 -38 -39 -38 -39 -40 -41 -42 -41 -42 -43 -42\n",
      " -41 -40 -41 -40 -39 -38 -37 -38 -37 -38 -37 -36 -35 -36 -35 -36 -37 -36\n",
      " -37 -38 -39 -38 -37 -38 -37 -38 -39 -38 -39 -40 -41 -42 -41 -40 -39 -38\n",
      " -39 -40 -39 -38 -37 -36 -37 -38 -37 -36 -35 -34 -35 -34 -33 -34 -35 -34\n",
      " -33 -34 -33 -32 -33 -32 -31 -30 -31 -32 -33 -34 -35 -36 -35 -34 -35 -36\n",
      " -35 -34 -33 -34 -35 -34 -33 -34 -35 -34 -33 -34 -33 -32 -33 -34 -35 -36\n",
      " -37 -36 -35 -34 -33 -32 -31 -30 -29 -28 -27 -28 -27 -26 -25 -24 -23 -22\n",
      " -21 -20 -21 -20 -19 -18 -17 -16 -17 -18 -19 -18 -17 -18 -17 -18 -17 -16\n",
      " -17 -16 -17 -18 -19 -18 -19 -20 -21 -22 -21 -22 -21 -22 -23 -22 -23 -24\n",
      " -23 -24 -25 -24 -23 -22 -23 -24 -25 -24 -23 -24 -23 -24 -23 -24 -25 -24\n",
      " -25 -26 -27 -28 -27 -26 -27 -26 -27 -26 -25 -24 -23 -22 -23 -22 -21 -20\n",
      " -21 -22 -21 -20 -21 -22 -21 -20 -19 -20 -19 -18 -17 -16 -15 -14 -13 -14\n",
      " -13 -12 -13 -12 -11 -10 -11 -10 -11 -12 -13 -14 -13 -14 -15 -14 -15 -16\n",
      " -15 -16 -15 -14 -15 -16 -17 -18 -17 -16 -17 -18 -19 -18 -19 -20 -19 -18\n",
      " -19 -18 -17 -16 -15 -14 -13 -14 -13 -14 -13 -12 -13 -12 -11 -10 -11 -10\n",
      "  -9 -10  -9  -8  -7  -6  -5  -6  -7  -6  -7  -8  -7  -6  -7  -6  -5  -4\n",
      "  -5  -4  -5  -6  -7  -6  -5  -4  -3  -2  -1   0  -1   0  -1  -2  -1   0\n",
      "  -1  -2  -3  -4  -3  -2  -3  -2  -1  -2  -1   0   1   0   1   2   3   4\n",
      "   3   2   1   0  -1   0   1   0  -1   0  -1  -2  -1   0  -1   0  -1  -2\n",
      "  -3  -2  -3  -4  -5  -4  -3  -4  -5  -4  -3  -2  -3  -4  -5  -6  -5  -4\n",
      "  -3  -2  -3  -2  -3  -4  -3  -2  -1  -2  -3  -4  -3  -4  -5  -6  -7  -6\n",
      "  -5  -6  -5  -4  -3  -2  -1   0  -1   0  -1   0   1   2   1   0   1   0\n",
      "  -1   0   1   0   1   2   3   2   3   2   1   0   1   2   1   0  -1   0\n",
      "  -1  -2  -3  -2  -1  -2  -1   0   1   0]\n"
     ]
    }
   ],
   "source": [
    "# numpy version\n",
    "steps = 1000\n",
    "ways = np.random.randint(0, 2, size = steps) #numpy의 randint는 마지막 포함 안하므로 2라고 한것.randint(low, high=None, size=None, dtype='l')\n",
    "steps = np.where(ways > 0, 1, -1) #이러면 비기면 내려가는거잖아?\n",
    "walk = steps.cumsum() #a.cumsum(axis=None, dtype=None, out=None)\n",
    "print walk"
   ]
  },
  {
   "cell_type": "code",
   "execution_count": 251,
   "metadata": {
    "collapsed": false
   },
   "outputs": [
    {
     "name": "stdout",
     "output_type": "stream",
     "text": [
      "[1, 2, 2, 3, 4, 4, 5, 5, 6, 6, 6, 7, 8, 8, 9, 10, 10, 11, 12, 12, 12, 12, 13, 13, 13, 13, 13, 14, 14, 14, 14, 14, 15, 15, 15, 16, 16, 16, 16, 17, 17, 18, 19, 19, 20, 21, 22, 22, 22, 23, 23, 24, 24, 24, 24, 25, 25, 25, 26, 26, 26, 26, 27, 27, 28, 29, 30, 31, 31, 32, 33, 34, 35, 36, 36, 36, 36, 37, 38, 39, 39, 39, 40, 40, 41, 42, 43, 43, 43, 44, 45, 46, 46, 47, 47, 48, 49, 49, 49, 49, 49, 49, 50, 50, 51, 51, 52, 53, 53, 54, 54, 54, 54, 55, 55, 55, 56, 57, 57, 57, 58, 58, 58, 58, 58, 59, 59, 59, 59, 60, 61, 62, 62, 63, 64, 64, 65, 66, 67, 67, 67, 68, 69, 70, 70, 70, 70, 70, 71, 72, 72, 72, 72, 72, 73, 74, 75, 76, 76, 76, 77, 78, 79, 79, 80, 80, 81, 82, 83, 84, 85, 85, 85, 86, 87, 87, 87, 87, 88, 88, 88, 89, 90, 91, 92, 92, 93, 94, 94, 94, 94, 95, 95, 96, 96, 96, 97, 97, 98, 99, 100, 100, 100, 101, 101, 101, 102, 103, 104, 104, 104, 105, 105, 106, 107, 108, 108, 108, 109, 109, 110, 111, 111, 111, 112, 113, 114, 115, 115, 116, 117, 117, 117, 118, 119, 119, 120, 120, 120, 121, 122, 123, 124, 124, 125, 125, 126, 126, 126, 126, 126, 127, 128, 128, 128, 129, 129, 129, 130, 131, 132, 132, 133, 134, 135, 135, 135, 135, 135, 135, 136, 137, 137, 137, 138, 138, 139, 139, 139, 139, 139, 140, 141, 142, 142, 143, 143, 144, 145, 145, 146, 146, 146, 146, 146, 146, 147, 148, 149, 149, 149, 149, 149, 149, 149, 149, 150, 151, 152, 153, 153, 154, 154, 154, 155, 156, 157, 158, 159, 159, 159, 160, 161, 162, 162, 163, 164, 164, 164, 164, 164, 165, 165, 165, 165, 165, 165, 166, 167, 168, 168, 169, 170, 170, 170, 170, 170, 171, 172, 173, 173, 173, 174, 174, 174, 175, 176, 176, 177, 178, 179, 180, 181, 182, 182, 182, 183, 183, 184, 185, 186, 187, 188, 189, 189, 190, 190, 190, 190, 190, 190, 191, 192, 192, 193, 193, 194, 195, 195, 196, 197, 197, 197, 197, 197, 197, 198, 199, 200, 201, 201, 201, 201, 201, 202, 202, 202, 202, 203, 204, 205, 206, 207, 208, 209, 209, 209, 210, 211, 211, 211, 212, 213, 213, 213, 214, 214, 215, 216, 216, 216, 216, 217, 217, 217, 218, 219, 220, 220, 220, 220, 220, 221, 221, 221, 222, 223, 224, 224, 225, 226, 226, 226, 226, 226, 227, 227, 227, 228, 228, 229, 230, 230, 231, 232, 232, 232, 232, 232, 233, 234, 234, 235, 236, 236, 236, 236, 236, 237, 238, 238, 238, 238, 239, 239, 240, 241, 241, 242, 242, 243, 243, 244, 245, 246, 246, 246, 246, 247, 247, 248, 248, 248, 248, 249, 249, 250, 251, 252, 253, 254, 254, 255, 255, 256, 257, 257, 257, 258, 259, 260, 260, 260, 260, 261, 261, 261, 261, 261, 261, 261, 261, 261, 261, 262, 263, 264, 265, 266, 266, 267, 267, 267, 268, 269, 269, 270, 271, 271, 271, 272, 272, 273, 274, 274, 274, 275, 276, 276, 276, 276, 276, 277, 277, 277, 278, 278, 278, 279, 280, 280, 280, 280, 280, 280, 281, 281, 282, 282, 283, 283, 283, 283, 284, 284, 285, 286, 287, 287, 287, 288, 289, 290, 290, 290, 290, 291, 292, 293, 294, 295, 295, 296, 296, 297, 298, 298, 298, 299, 299, 300, 301, 301, 301, 302, 302, 302, 303, 303, 303, 303, 304, 304, 304, 304, 305, 306, 307, 307, 308, 309, 310, 311, 311, 312, 312, 312, 313, 314, 314, 314, 314, 314, 314, 315, 315, 316, 316, 317, 318, 319, 319, 319, 320, 320, 320, 320, 321, 321, 322, 323, 323, 323, 324, 324, 324, 324, 325, 325, 326, 326, 327, 327, 328, 329, 329, 329, 330, 330, 330, 331, 332, 333, 333, 333, 334, 334, 334, 334, 335, 336, 337, 338, 338, 339, 340, 340, 341, 342, 343, 344, 345, 346, 347, 348, 349, 349, 350, 351, 352, 352, 352, 352, 353, 353, 354, 354, 355, 355, 356, 356, 356, 357, 358, 359, 359, 360, 360, 360, 360, 361, 362, 362, 362, 363, 363, 363, 364, 364, 365, 365, 366, 367, 368, 368, 369, 370, 371, 371, 371, 372, 373, 374, 374, 375, 375, 376, 377, 377, 378, 379, 379, 379, 379, 380, 380, 381, 382, 383, 383, 384, 384, 385, 386, 387, 387, 387, 387, 388, 388, 389, 389, 390, 391, 392, 393, 393, 393, 394, 394, 394, 394, 395, 396, 397, 398, 398, 399, 399, 399, 399, 399, 399, 400, 401, 402, 402, 403, 403, 404, 404, 404, 405, 406, 407, 407, 408, 409, 410, 411, 411, 412, 412, 412, 412, 412, 412, 413, 414, 414, 414, 414, 415, 416, 416, 417, 418, 419, 419, 420, 420, 420, 421, 422, 423, 424, 424, 425, 425, 425, 425, 425, 425, 425, 426, 427, 427, 428, 429, 429, 430, 430, 431, 431, 431, 431, 431, 431, 431, 432, 432, 433, 434, 435, 435, 436, 436, 436, 437, 438, 438, 439, 439, 440, 440, 440, 440, 441, 442, 442, 443, 443, 443, 444, 444, 445, 446, 446, 447, 448, 448, 448, 448, 449, 450, 451, 452, 453, 453, 453, 453, 454, 454, 454, 455, 456, 456, 457, 458, 459, 460, 460, 460, 461, 462, 463, 463, 464, 465, 466, 467, 468, 468, 469, 469, 469, 470, 471, 472, 472, 473, 474, 474, 474, 474, 475, 476, 477, 477, 478, 478, 479, 480, 480, 480, 480, 480, 480, 481, 481, 482, 483, 484, 484, 484, 485, 485, 486, 486, 487, 488, 488, 488, 488, 488, 489, 489, 489, 489, 489, 490, 491, 492, 493, 493, 494, 494, 494, 494, 495, 495, 496, 497, 498, 499, 500, 501, 501, 502, 503]\n"
     ]
    }
   ],
   "source": [
    "# numpy version 양수층만 내려가도록\n",
    "steps = 1000\n",
    "ways = np.random.randint(0, 2, size = steps) #numpy의 randint는 마지막 포함 안하므로 2라고 한것.randint(low, high=None, size=None, dtype='l')\n",
    "steps = np.where(ways > 0, 1, -1) #이러면 비기면 내려가는거잖아?\n",
    "pos = 0\n",
    "walk = []\n",
    "for i in steps:\n",
    "    if i > 0:\n",
    "        pos += i\n",
    "        walk.append(pos)\n",
    "    \n",
    "    else:\n",
    "        walk.append(pos)\n",
    "print walk"
   ]
  },
  {
   "cell_type": "code",
   "execution_count": 249,
   "metadata": {
    "collapsed": false
   },
   "outputs": [
    {
     "name": "stdout",
     "output_type": "stream",
     "text": [
      "[0, 0, 1, 2, 3, 2, 3, 4, 3, 4, 3, 4, 5, 4, 3, 4, 3, 2, 3, 4, 5, 4, 3, 2, 3, 2, 1, 0, 1, 2, 3, 4, 5, 6, 5, 4, 5, 6, 7, 8, 7, 6, 7, 8, 9, 10, 11, 12, 13, 14, 13, 14, 13, 14, 15, 16, 15, 14, 13, 12, 13, 12, 11, 10, 9, 8, 7, 6, 5, 4, 5, 6, 7, 6, 7, 8, 7, 6, 5, 6, 5, 6, 5, 6, 5, 6, 7, 8, 9, 10, 9, 8, 9, 10, 11, 10, 11, 10, 11, 10, 11, 12, 11, 10, 11, 12, 13, 14, 15, 14, 13, 14, 15, 14, 13, 14, 15, 16, 17, 16, 15, 14, 15, 14, 15, 14, 13, 12, 13, 12, 11, 10, 9, 10, 9, 10, 9, 10, 9, 10, 11, 12, 11, 10, 9, 8, 7, 6, 7, 6, 7, 6, 7, 6, 7, 6, 7, 6, 7, 8, 9, 8, 9, 8, 7, 8, 7, 8, 9, 10, 11, 12, 11, 10, 11, 12, 11, 12, 13, 12, 11, 12, 11, 12, 13, 12, 13, 14, 15, 14, 15, 14, 13, 14, 13, 12, 13, 14, 13, 12, 11, 12, 11, 12, 11, 10, 9, 10, 11, 10, 11, 12, 13, 14, 13, 14, 15, 14, 15, 16, 17, 16, 15, 16, 15, 16, 17, 18, 17, 16, 17, 16, 17, 16, 17, 18, 19, 20, 19, 20, 19, 18, 17, 18, 17, 18, 17, 16, 15, 16, 15, 14, 15, 14, 15, 16, 17, 18, 17, 18, 19, 18, 17, 18, 19, 18, 19, 18, 17, 18, 19, 20, 19, 20, 19, 20, 19, 18, 19, 18, 17, 18, 17, 18, 17, 18, 17, 16, 15, 16, 15, 14, 13, 12, 13, 14, 13, 12, 11, 12, 13, 14, 13, 12, 11, 12, 13, 12, 13, 14, 15, 14, 13, 14, 13, 14, 15, 16, 17, 16, 15, 16, 17, 18, 19, 18, 17, 18, 17, 18, 17, 16, 17, 16, 15, 16, 15, 14, 15, 14, 15, 14, 15, 16, 17, 18, 19, 18, 17, 18, 17, 16, 15, 14, 15, 16, 17, 16, 17, 16, 17, 16, 17, 18, 19, 18, 17, 16, 17, 16, 17, 16, 17, 16, 17, 16, 15, 16, 15, 16, 17, 18, 17, 18, 19, 18, 19, 20, 21, 20, 21, 22, 23, 24, 25, 24, 23, 24, 25, 24, 23, 22, 23, 22, 21, 20, 19, 18, 19, 20, 21, 22, 23, 24, 25, 24, 23, 22, 21, 22, 23, 22, 23, 24, 23, 24, 23, 22, 23, 22, 21, 20, 21, 20, 21, 22, 23, 22, 23, 24, 23, 24, 25, 24, 25, 24, 23, 24, 23, 22, 21, 20, 21, 22, 23, 22, 23, 24, 23, 24, 23, 24, 23, 22, 21, 22, 21, 20, 21, 22, 21, 20, 21, 22, 21, 22, 21, 22, 21, 20, 21, 20, 21, 22, 21, 22, 21, 20, 21, 20, 19, 20, 19, 18, 17, 18, 19, 20, 19, 18, 19, 20, 21, 22, 23, 22, 23, 24, 23, 22, 23, 24, 23, 24, 25, 26, 25, 24, 25, 24, 25, 24, 23, 24, 25, 24, 23, 24, 25, 24, 25, 24, 25, 24, 25, 26, 27, 26, 27, 26, 25, 26, 25, 26, 25, 24, 25, 26, 27, 28, 27, 26, 27, 28, 27, 28, 27, 28, 29, 28, 27, 28, 29, 30, 31, 30, 29, 30, 31, 32, 31, 30, 29, 28, 29, 28, 27, 28, 27, 26, 27, 26, 25, 24, 25, 24, 25, 24, 25, 26, 27, 28, 29, 28, 27, 28, 29, 30, 31, 32, 33, 32, 31, 32, 33, 32, 33, 32, 33, 34, 33, 32, 31, 30, 29, 28, 27, 28, 29, 28, 29, 30, 29, 30, 29, 28, 29, 28, 29, 28, 29, 30, 31, 32, 31, 32, 31, 30, 29, 28, 27, 28, 27, 28, 27, 28, 29, 28, 27, 28, 27, 26, 27, 28, 27, 28, 29, 28, 27, 26, 25, 26, 27, 28, 27, 26, 25, 24, 23, 22, 21, 20, 21, 20, 19, 20, 21, 20, 19, 18, 17, 16, 17, 18, 19, 18, 17, 18, 19, 20, 21, 20, 19, 20, 19, 20, 19, 18, 19, 20, 21, 22, 21, 22, 21, 22, 21, 22, 23, 22, 23, 22, 23, 22, 21, 22, 21, 22, 23, 24, 23, 24, 25, 26, 25, 24, 23, 24, 23, 22, 23, 24, 25, 24, 25, 24, 25, 26, 27, 28, 27, 28, 27, 28, 27, 28, 29, 30, 29, 28, 29, 30, 29, 28, 29, 28, 29, 28, 29, 30, 29, 30, 29, 30, 29, 28, 29, 28, 27, 28, 27, 26, 27, 26, 25, 24, 25, 26, 25, 24, 25, 26, 25, 26, 27, 28, 29, 28, 27, 28, 29, 28, 27, 28, 27, 26, 27, 28, 29, 30, 31, 32, 33, 34, 35, 34, 33, 34, 33, 32, 31, 30, 29, 30, 29, 30, 31, 30, 29, 28, 27, 28, 29, 30, 29, 30, 29, 28, 29, 30, 29, 30, 29, 30, 31, 32, 31, 30, 29, 30, 29, 30, 31, 30, 31, 32, 33, 34, 33, 32, 33, 32, 31, 30, 29, 30, 31, 30, 31, 30, 29, 30, 29, 30, 31, 32, 31, 30, 29, 28, 29, 30, 29, 28, 29, 30, 31, 32, 33, 32, 31, 32, 31, 30, 31, 32, 31, 32, 33, 34, 35, 36, 35, 34, 33, 32, 31, 30, 31, 30, 29, 30, 31, 32, 33, 34, 33, 34, 35, 34, 33, 32, 33, 34, 33, 32, 31, 32, 31, 32, 31, 30, 31, 30, 31, 30, 29, 28, 29, 30, 29, 28, 29, 30, 31, 30, 31, 32, 33, 32, 31, 32, 31, 32, 33, 34, 35, 34, 35, 36, 35, 34, 35, 36, 37, 36, 35, 36, 37, 38, 39, 40, 39, 40, 39, 40, 41, 40, 41, 40, 39, 40, 39, 40, 41, 40, 39, 40, 39, 40]\n"
     ]
    }
   ],
   "source": [
    "#양수 층일때만 내려갈 수 있도록.\n",
    "pos = 0\n",
    "walk = []\n",
    "steps = 1000\n",
    "for i in range(steps):\n",
    "    step = 1 if random.randint(0,1) else -1\n",
    "    pos +=step\n",
    "    if pos>=0:\n",
    "        walk.append(pos)\n",
    "    else:\n",
    "        pass\n",
    "print walk"
   ]
  },
  {
   "cell_type": "markdown",
   "metadata": {},
   "source": [
    "* pandas "
   ]
  },
  {
   "cell_type": "markdown",
   "metadata": {},
   "source": [
    "# * group by\n",
    "  + 아래의 세 단계를 포함 (SQL의 group by 와 개념적으로는 동일, 사용법은 유사)\n",
    "    - 데이터 분할\n",
    "    - operation 적용\n",
    "    - 데이터 병합"
   ]
  },
  {
   "cell_type": "code",
   "execution_count": 65,
   "metadata": {
    "collapsed": true
   },
   "outputs": [],
   "source": [
    "import pandas as pd"
   ]
  },
  {
   "cell_type": "code",
   "execution_count": 69,
   "metadata": {
    "collapsed": false
   },
   "outputs": [
    {
     "name": "stdout",
     "output_type": "stream",
     "text": [
      "     Season       Nation            Winners    Score  \\\n",
      "0   1955–56        Spain        Real Madrid      4–3   \n",
      "1   1956–57        Spain        Real Madrid      2–0   \n",
      "2   1957–58        Spain        Real Madrid      3–2   \n",
      "3   1958–59        Spain        Real Madrid      2–0   \n",
      "4   1959–60        Spain        Real Madrid      7–3   \n",
      "5   1960–61     Portugal            Benfica      3–2   \n",
      "6   1961–62     Portugal            Benfica      5–3   \n",
      "7   1962–63        Italy              Milan      2–1   \n",
      "8   1963–64        Italy     Internazionale      3–1   \n",
      "9   1964–65        Italy     Internazionale      1–0   \n",
      "10  1965–66        Spain        Real Madrid      2–1   \n",
      "11  1966–67     Scotland             Celtic      2–1   \n",
      "12  1967–68      England  Manchester United      4–1   \n",
      "13  1968–69        Italy              Milan      4–1   \n",
      "14  1969–70  Netherlands          Feyenoord      2–1   \n",
      "15  1970–71  Netherlands               Ajax      2–0   \n",
      "16  1971–72  Netherlands               Ajax      2–0   \n",
      "17  1972–73  Netherlands               Ajax      1–0   \n",
      "18  1973–74      Germany      Bayern Munich      4–0   \n",
      "19  1974–75      Germany      Bayern Munich      2–0   \n",
      "20  1975–76      Germany      Bayern Munich      1–0   \n",
      "21  1976–77      England          Liverpool      3–1   \n",
      "22  1977–78      England          Liverpool      1–0   \n",
      "23  1978–79      England  Nottingham Forest      1–0   \n",
      "24  1979–80      England  Nottingham Forest      1–0   \n",
      "25  1980–81      England          Liverpool      1–0   \n",
      "26  1981–82      England        Aston Villa      1–0   \n",
      "27  1982–83      Germany            Hamburg      1–0   \n",
      "28  1983–84      England          Liverpool  1–1*[B]   \n",
      "29  1984–85        Italy           Juventus      1–0   \n",
      "30  1985–86      Romania   Steaua Bucure?ti  0–0*[C]   \n",
      "31  1986–87     Portugal              Porto      2–1   \n",
      "32  1987–88  Netherlands      PSV Eindhoven  0–0*[D]   \n",
      "33  1988–89        Italy              Milan      4–0   \n",
      "34  1989–90        Italy              Milan      1–0   \n",
      "35  1990–91   Yugoslavia  Red Star Belgrade  0–0*[E]   \n",
      "36  1991–92        Spain          Barcelona      1–0   \n",
      "37  1992–93       France          Marseille      1–0   \n",
      "38  1993–94        Italy              Milan      4–0   \n",
      "39  1994–95  Netherlands               Ajax      1–0   \n",
      "40  1995–96        Italy           Juventus  1–1*[F]   \n",
      "41  1996–97      Germany  Borussia Dortmund      3–1   \n",
      "42  1997–98        Spain        Real Madrid      1–0   \n",
      "43  1998–99      England  Manchester United      2–1   \n",
      "44  1999–00        Spain        Real Madrid      3–0   \n",
      "45  2000–01      Germany      Bayern Munich  1–1*[G]   \n",
      "46  2001–02        Spain        Real Madrid      2–1   \n",
      "47  2002–03        Italy              Milan  0–0*[H]   \n",
      "48  2003–04     Portugal              Porto      3–0   \n",
      "49  2004–05      England          Liverpool  3–3*[I]   \n",
      "50  2005–06        Spain          Barcelona      2–1   \n",
      "51  2006–07        Italy              Milan      2–1   \n",
      "52  2007–08      England  Manchester United  1–1*[J]   \n",
      "53  2008–09        Spain          Barcelona      2–0   \n",
      "54  2009–10        Italy     Internazionale      2–0   \n",
      "55  2010–11        Spain          Barcelona      3–1   \n",
      "56  2011–12      England            Chelsea  1–1*[K]   \n",
      "57  2012–13      Germany      Bayern Munich      2–1   \n",
      "\n",
      "                  Runners-up Runner-UpNation  \\\n",
      "0             Stade de Reims          France   \n",
      "1                 Fiorentina           Italy   \n",
      "2                      Milan           Italy   \n",
      "3             Stade de Reims          France   \n",
      "4        Eintracht Frankfurt         Germany   \n",
      "5                  Barcelona           Spain   \n",
      "6                Real Madrid           Spain   \n",
      "7                    Benfica        Portugal   \n",
      "8                Real Madrid           Spain   \n",
      "9                    Benfica        Portugal   \n",
      "10                  Partizan      Yugoslavia   \n",
      "11            Internazionale           Italy   \n",
      "12                   Benfica        Portugal   \n",
      "13                      Ajax     Netherlands   \n",
      "14                    Celtic        Scotland   \n",
      "15             Panathinaikos          Greece   \n",
      "16            Internazionale           Italy   \n",
      "17                  Juventus           Italy   \n",
      "18           Atlético Madrid           Spain   \n",
      "19              Leeds United         England   \n",
      "20             Saint-Étienne          France   \n",
      "21  Borussia Mönchengladbach         Germany   \n",
      "22               Club Brugge         Belgium   \n",
      "23                  Malmö FF          Sweden   \n",
      "24                   Hamburg         Germany   \n",
      "25               Real Madrid           Spain   \n",
      "26             Bayern Munich         Germany   \n",
      "27                  Juventus           Italy   \n",
      "28                      Roma           Italy   \n",
      "29                 Liverpool         England   \n",
      "30                 Barcelona           Spain   \n",
      "31             Bayern Munich         Germany   \n",
      "32                   Benfica        Portugal   \n",
      "33           Steaua Bucureti         Romania   \n",
      "34                   Benfica        Portugal   \n",
      "35                 Marseille          France   \n",
      "36                 Sampdoria           Italy   \n",
      "37                     Milan           Italy   \n",
      "38                 Barcelona           Spain   \n",
      "39                     Milan           Italy   \n",
      "40                      Ajax     Netherlands   \n",
      "41                  Juventus           Italy   \n",
      "42                  Juventus           Italy   \n",
      "43             Bayern Munich         Germany   \n",
      "44                  Valencia           Spain   \n",
      "45                  Valencia           Spain   \n",
      "46          Bayer Leverkusen         Germany   \n",
      "47                  Juventus           Italy   \n",
      "48                 AS Monaco          France   \n",
      "49                     Milan           Italy   \n",
      "50                   Arsenal         England   \n",
      "51                 Liverpool         England   \n",
      "52                   Chelsea         England   \n",
      "53         Manchester United         England   \n",
      "54             Bayern Munich         Germany   \n",
      "55         Manchester United         England   \n",
      "56             Bayern Munich         Germany   \n",
      "57         Borussia Dortmund         Germany   \n",
      "\n",
      "                                    Venue  Attendance  \n",
      "0                  Parc des Princes,Paris       38239  \n",
      "1       Santiago Bernabéu Stadium, Madrid      124000  \n",
      "2                 Heysel Stadium,Brussels       67000  \n",
      "3                 Neckarstadion,Stuttgart       72000  \n",
      "4                    Hampden Park,Glasgow      127621  \n",
      "5                   Wankdorf Stadium,Bern       26732  \n",
      "6             Olympisch Stadion,Amsterdam       61257  \n",
      "7                  Wembley Stadium,London       45715  \n",
      "8                   Prater Stadium,Vienna       71333  \n",
      "9                         San Siro, Milan       89000  \n",
      "10                Heysel Stadium,Brussels       46745  \n",
      "11                Estádio Nacional,Lisbon       45000  \n",
      "12                 Wembley Stadium,London       92225  \n",
      "13      Santiago Bernabéu Stadium, Madrid       31782  \n",
      "14                        San Siro, Milan       53187  \n",
      "15                 Wembley Stadium,London       83179  \n",
      "16                     De Kuip, Rotterdam       61354  \n",
      "17              Red Star Stadium,Belgrade       89484  \n",
      "18                Heysel Stadium,Brussels       72047  \n",
      "19                 Parc des Princes,Paris       48374  \n",
      "20                   Hampden Park,Glasgow       54864  \n",
      "21                   Stadio Olimpico,Rome       52078  \n",
      "22                 Wembley Stadium,London       92500  \n",
      "23                  Olympiastadion,Munich       57500  \n",
      "24      Santiago Bernabéu Stadium, Madrid       51000  \n",
      "25                 Parc des Princes,Paris       48360  \n",
      "26                     De Kuip, Rotterdam       46000  \n",
      "27                 Olympic Stadium,Athens       73500  \n",
      "28                   Stadio Olimpico,Rome       69693  \n",
      "29                Heysel Stadium,Brussels       58000  \n",
      "30  Estadio Ramón Sánchez Pizjuán,Seville       70000  \n",
      "31                  Prater Stadium,Vienna       57500  \n",
      "32                Neckarstadion,Stuttgart       68000  \n",
      "33                     Camp Nou,Barcelona       97000  \n",
      "34                  Prater Stadium,Vienna       57500  \n",
      "35                 Stadio San Nicola,Bari       56000  \n",
      "36                 Wembley Stadium,London       70827  \n",
      "37                  Olympiastadion,Munich       64400  \n",
      "38                 Olympic Stadium,Athens       70000  \n",
      "39            Ernst-Happel-Stadion,Vienna       49730  \n",
      "40                   Stadio Olimpico,Rome       70000  \n",
      "41                  Olympiastadion,Munich       59000  \n",
      "42              Amsterdam Arena,Amsterdam       48500  \n",
      "43                    Camp Nou, Barcelona       90245  \n",
      "44            Stade de France,Saint-Denis       80000  \n",
      "45                        San Siro, Milan       79000  \n",
      "46                   Hampden Park,Glasgow       50499  \n",
      "47                Old Trafford,Manchester       62315  \n",
      "48         Arena AufSchalke,Gelsenkirchen       53053  \n",
      "49      Atatürk Olympic Stadium, Istanbul       69000  \n",
      "50            Stade de France,Saint-Denis       79610  \n",
      "51                 Olympic Stadium,Athens       63000  \n",
      "52                Luzhniki Stadium,Moscow       67310  \n",
      "53                   Stadio Olimpico,Rome       62467  \n",
      "54       Santiago Bernabéu Stadium,Madrid       73490  \n",
      "55                 Wembley Stadium,London       87695  \n",
      "56                   Allianz Arena,Munich       62500  \n",
      "57                 Wembley Stadium,London       86298  \n"
     ]
    }
   ],
   "source": [
    "# 1955년부터의 유로리그 우승팀 데이터\n",
    "df = pd.read_csv('./euro_winners.csv') \n",
    "print df"
   ]
  },
  {
   "cell_type": "code",
   "execution_count": 65,
   "metadata": {
    "collapsed": false,
    "scrolled": false
   },
   "outputs": [
    {
     "data": {
      "text/html": [
       "<div>\n",
       "<table border=\"1\" class=\"dataframe\">\n",
       "  <thead>\n",
       "    <tr style=\"text-align: right;\">\n",
       "      <th></th>\n",
       "      <th>Season</th>\n",
       "      <th>Nation</th>\n",
       "      <th>Winners</th>\n",
       "      <th>Score</th>\n",
       "      <th>Runners-up</th>\n",
       "      <th>Runner-UpNation</th>\n",
       "      <th>Venue</th>\n",
       "      <th>Attendance</th>\n",
       "    </tr>\n",
       "  </thead>\n",
       "  <tbody>\n",
       "    <tr>\n",
       "      <th>0</th>\n",
       "      <td>1955–56</td>\n",
       "      <td>Spain</td>\n",
       "      <td>Real Madrid</td>\n",
       "      <td>4–3</td>\n",
       "      <td>Stade de Reims</td>\n",
       "      <td>France</td>\n",
       "      <td>Parc des Princes,Paris</td>\n",
       "      <td>38239</td>\n",
       "    </tr>\n",
       "    <tr>\n",
       "      <th>1</th>\n",
       "      <td>1956–57</td>\n",
       "      <td>Spain</td>\n",
       "      <td>Real Madrid</td>\n",
       "      <td>2–0</td>\n",
       "      <td>Fiorentina</td>\n",
       "      <td>Italy</td>\n",
       "      <td>Santiago Bernabéu Stadium, Madrid</td>\n",
       "      <td>124000</td>\n",
       "    </tr>\n",
       "    <tr>\n",
       "      <th>2</th>\n",
       "      <td>1957–58</td>\n",
       "      <td>Spain</td>\n",
       "      <td>Real Madrid</td>\n",
       "      <td>3–2</td>\n",
       "      <td>Milan</td>\n",
       "      <td>Italy</td>\n",
       "      <td>Heysel Stadium,Brussels</td>\n",
       "      <td>67000</td>\n",
       "    </tr>\n",
       "    <tr>\n",
       "      <th>3</th>\n",
       "      <td>1958–59</td>\n",
       "      <td>Spain</td>\n",
       "      <td>Real Madrid</td>\n",
       "      <td>2–0</td>\n",
       "      <td>Stade de Reims</td>\n",
       "      <td>France</td>\n",
       "      <td>Neckarstadion,Stuttgart</td>\n",
       "      <td>72000</td>\n",
       "    </tr>\n",
       "    <tr>\n",
       "      <th>4</th>\n",
       "      <td>1959–60</td>\n",
       "      <td>Spain</td>\n",
       "      <td>Real Madrid</td>\n",
       "      <td>7–3</td>\n",
       "      <td>Eintracht Frankfurt</td>\n",
       "      <td>Germany</td>\n",
       "      <td>Hampden Park,Glasgow</td>\n",
       "      <td>127621</td>\n",
       "    </tr>\n",
       "    <tr>\n",
       "      <th>5</th>\n",
       "      <td>1960–61</td>\n",
       "      <td>Portugal</td>\n",
       "      <td>Benfica</td>\n",
       "      <td>3–2</td>\n",
       "      <td>Barcelona</td>\n",
       "      <td>Spain</td>\n",
       "      <td>Wankdorf Stadium,Bern</td>\n",
       "      <td>26732</td>\n",
       "    </tr>\n",
       "    <tr>\n",
       "      <th>6</th>\n",
       "      <td>1961–62</td>\n",
       "      <td>Portugal</td>\n",
       "      <td>Benfica</td>\n",
       "      <td>5–3</td>\n",
       "      <td>Real Madrid</td>\n",
       "      <td>Spain</td>\n",
       "      <td>Olympisch Stadion,Amsterdam</td>\n",
       "      <td>61257</td>\n",
       "    </tr>\n",
       "    <tr>\n",
       "      <th>7</th>\n",
       "      <td>1962–63</td>\n",
       "      <td>Italy</td>\n",
       "      <td>Milan</td>\n",
       "      <td>2–1</td>\n",
       "      <td>Benfica</td>\n",
       "      <td>Portugal</td>\n",
       "      <td>Wembley Stadium,London</td>\n",
       "      <td>45715</td>\n",
       "    </tr>\n",
       "    <tr>\n",
       "      <th>8</th>\n",
       "      <td>1963–64</td>\n",
       "      <td>Italy</td>\n",
       "      <td>Internazionale</td>\n",
       "      <td>3–1</td>\n",
       "      <td>Real Madrid</td>\n",
       "      <td>Spain</td>\n",
       "      <td>Prater Stadium,Vienna</td>\n",
       "      <td>71333</td>\n",
       "    </tr>\n",
       "    <tr>\n",
       "      <th>9</th>\n",
       "      <td>1964–65</td>\n",
       "      <td>Italy</td>\n",
       "      <td>Internazionale</td>\n",
       "      <td>1–0</td>\n",
       "      <td>Benfica</td>\n",
       "      <td>Portugal</td>\n",
       "      <td>San Siro, Milan</td>\n",
       "      <td>89000</td>\n",
       "    </tr>\n",
       "    <tr>\n",
       "      <th>10</th>\n",
       "      <td>1965–66</td>\n",
       "      <td>Spain</td>\n",
       "      <td>Real Madrid</td>\n",
       "      <td>2–1</td>\n",
       "      <td>Partizan</td>\n",
       "      <td>Yugoslavia</td>\n",
       "      <td>Heysel Stadium,Brussels</td>\n",
       "      <td>46745</td>\n",
       "    </tr>\n",
       "    <tr>\n",
       "      <th>11</th>\n",
       "      <td>1966–67</td>\n",
       "      <td>Scotland</td>\n",
       "      <td>Celtic</td>\n",
       "      <td>2–1</td>\n",
       "      <td>Internazionale</td>\n",
       "      <td>Italy</td>\n",
       "      <td>Estádio Nacional,Lisbon</td>\n",
       "      <td>45000</td>\n",
       "    </tr>\n",
       "    <tr>\n",
       "      <th>12</th>\n",
       "      <td>1967–68</td>\n",
       "      <td>England</td>\n",
       "      <td>Manchester United</td>\n",
       "      <td>4–1</td>\n",
       "      <td>Benfica</td>\n",
       "      <td>Portugal</td>\n",
       "      <td>Wembley Stadium,London</td>\n",
       "      <td>92225</td>\n",
       "    </tr>\n",
       "    <tr>\n",
       "      <th>13</th>\n",
       "      <td>1968–69</td>\n",
       "      <td>Italy</td>\n",
       "      <td>Milan</td>\n",
       "      <td>4–1</td>\n",
       "      <td>Ajax</td>\n",
       "      <td>Netherlands</td>\n",
       "      <td>Santiago Bernabéu Stadium, Madrid</td>\n",
       "      <td>31782</td>\n",
       "    </tr>\n",
       "    <tr>\n",
       "      <th>14</th>\n",
       "      <td>1969–70</td>\n",
       "      <td>Netherlands</td>\n",
       "      <td>Feyenoord</td>\n",
       "      <td>2–1</td>\n",
       "      <td>Celtic</td>\n",
       "      <td>Scotland</td>\n",
       "      <td>San Siro, Milan</td>\n",
       "      <td>53187</td>\n",
       "    </tr>\n",
       "  </tbody>\n",
       "</table>\n",
       "</div>"
      ],
      "text/plain": [
       "     Season       Nation            Winners Score           Runners-up  \\\n",
       "0   1955–56        Spain        Real Madrid   4–3       Stade de Reims   \n",
       "1   1956–57        Spain        Real Madrid   2–0           Fiorentina   \n",
       "2   1957–58        Spain        Real Madrid   3–2                Milan   \n",
       "3   1958–59        Spain        Real Madrid   2–0       Stade de Reims   \n",
       "4   1959–60        Spain        Real Madrid   7–3  Eintracht Frankfurt   \n",
       "5   1960–61     Portugal            Benfica   3–2            Barcelona   \n",
       "6   1961–62     Portugal            Benfica   5–3          Real Madrid   \n",
       "7   1962–63        Italy              Milan   2–1              Benfica   \n",
       "8   1963–64        Italy     Internazionale   3–1          Real Madrid   \n",
       "9   1964–65        Italy     Internazionale   1–0              Benfica   \n",
       "10  1965–66        Spain        Real Madrid   2–1             Partizan   \n",
       "11  1966–67     Scotland             Celtic   2–1       Internazionale   \n",
       "12  1967–68      England  Manchester United   4–1              Benfica   \n",
       "13  1968–69        Italy              Milan   4–1                 Ajax   \n",
       "14  1969–70  Netherlands          Feyenoord   2–1               Celtic   \n",
       "\n",
       "   Runner-UpNation                              Venue  Attendance  \n",
       "0           France             Parc des Princes,Paris       38239  \n",
       "1            Italy  Santiago Bernabéu Stadium, Madrid      124000  \n",
       "2            Italy            Heysel Stadium,Brussels       67000  \n",
       "3           France            Neckarstadion,Stuttgart       72000  \n",
       "4          Germany               Hampden Park,Glasgow      127621  \n",
       "5            Spain              Wankdorf Stadium,Bern       26732  \n",
       "6            Spain        Olympisch Stadion,Amsterdam       61257  \n",
       "7         Portugal             Wembley Stadium,London       45715  \n",
       "8            Spain              Prater Stadium,Vienna       71333  \n",
       "9         Portugal                    San Siro, Milan       89000  \n",
       "10      Yugoslavia            Heysel Stadium,Brussels       46745  \n",
       "11           Italy            Estádio Nacional,Lisbon       45000  \n",
       "12        Portugal             Wembley Stadium,London       92225  \n",
       "13     Netherlands  Santiago Bernabéu Stadium, Madrid       31782  \n",
       "14        Scotland                    San Siro, Milan       53187  "
      ]
     },
     "execution_count": 65,
     "metadata": {},
     "output_type": "execute_result"
    }
   ],
   "source": [
    "df.head(15)"
   ]
  },
  {
   "cell_type": "code",
   "execution_count": 81,
   "metadata": {
    "collapsed": false,
    "scrolled": true
   },
   "outputs": [
    {
     "name": "stdout",
     "output_type": "stream",
     "text": [
      "\n",
      "{'Romania': Int64Index([30], dtype='int64'), 'Netherlands': Int64Index([14, 15, 16, 17, 32, 39], dtype='int64'), 'Italy': Int64Index([7, 8, 9, 13, 29, 33, 34, 38, 40, 47, 51, 54], dtype='int64'), 'Portugal': Int64Index([5, 6, 31, 48], dtype='int64'), 'Scotland': Int64Index([11], dtype='int64'), 'France': Int64Index([37], dtype='int64'), 'Germany': Int64Index([18, 19, 20, 27, 41, 45, 57], dtype='int64'), 'England': Int64Index([12, 21, 22, 23, 24, 25, 26, 28, 43, 49, 52, 56], dtype='int64'), 'Yugoslavia': Int64Index([35], dtype='int64'), 'Spain': Int64Index([0, 1, 2, 3, 4, 10, 36, 42, 44, 46, 50, 53, 55], dtype='int64')}\n"
     ]
    }
   ],
   "source": [
    "# 국가별로 그룹핑 \n",
    "nation_group = df.groupby('Nation')\n",
    "type(nation_group) #dataframegroupby 라는 타입이 됨"
   ]
  },
  {
   "cell_type": "code",
   "execution_count": 66,
   "metadata": {
    "collapsed": false
   },
   "outputs": [
    {
     "name": "stdout",
     "output_type": "stream",
     "text": [
      "['Attendance', 'Nation', 'Score', 'Season', 'Venue', 'Winners', '__bytes__', '__class__', '__delattr__', '__dict__', '__dir__', '__doc__', '__format__', '__getattr__', '__getattribute__', '__getitem__', '__hash__', '__init__', '__iter__', '__len__', '__module__', '__new__', '__reduce__', '__reduce_ex__', '__repr__', '__setattr__', '__sizeof__', '__str__', '__subclasshook__', '__unicode__', '__weakref__', '_agg_doc', '_aggregate', '_aggregate_generic', '_aggregate_item_by_item', '_aggregate_multiple_funcs', '_apply_filter', '_apply_to_column_groupbys', '_apply_whitelist', '_assure_grouper', '_block_agg_axis', '_builtin_table', '_choose_path', '_concat_objects', '_constructor', '_cumcount_array', '_cython_agg_blocks', '_cython_agg_general', '_cython_table', '_cython_transform', '_decide_output_index', '_def_str', '_define_paths', '_dir_additions', '_dir_deletions', '_get_data_to_aggregate', '_get_index', '_get_indices', '_gotitem', '_group_selection', '_index_with_as_index', '_insert_inaxis_grouper_inplace', '_internal_names', '_internal_names_set', '_is_builtin_func', '_is_cython_func', '_iterate_column_groupbys', '_iterate_slices', '_make_wrapper', '_obj_with_exclusions', '_post_process_cython_aggregate', '_python_agg_general', '_python_apply_general', '_reindex_output', '_reset_cache', '_reset_group_selection', '_see_also_template', '_selected_obj', '_selection', '_selection_list', '_set_group_selection', '_set_result_index_ordered', '_shallow_copy', '_transform_fast', '_transform_general', '_transform_item_by_item', '_try_cast', '_wrap_agged_blocks', '_wrap_aggregated_output', '_wrap_applied_output', '_wrap_generic_output', '_wrap_transformed_output', 'agg', 'aggregate', 'all', 'any', 'apply', 'backfill', 'bfill', 'boxplot', 'corr', 'corrwith', 'count', 'cov', 'cumcount', 'cummax', 'cummin', 'cumprod', 'cumsum', 'describe', 'diff', 'dtypes', 'expanding', 'ffill', 'fillna', 'filter', 'first', 'get_group', 'groups', 'head', 'hist', 'idxmax', 'idxmin', 'indices', 'irow', 'last', 'mad', 'max', 'mean', 'median', 'min', 'name', 'ndim', 'ngroups', 'nth', 'ohlc', 'pad', 'pct_change', 'plot', 'prod', 'quantile', 'rank', 'resample', 'rolling', 'sem', 'shift', 'size', 'skew', 'std', 'sum', 'tail', 'take', 'transform', 'tshift', 'var']\n"
     ]
    }
   ],
   "source": [
    "print dir(nation_group)"
   ]
  },
  {
   "cell_type": "code",
   "execution_count": 80,
   "metadata": {
    "collapsed": false
   },
   "outputs": [
    {
     "data": {
      "text/plain": [
       "{'England': Int64Index([12, 21, 22, 23, 24, 25, 26, 28, 43, 49, 52, 56], dtype='int64'),\n",
       " 'France': Int64Index([37], dtype='int64'),\n",
       " 'Germany': Int64Index([18, 19, 20, 27, 41, 45, 57], dtype='int64'),\n",
       " 'Italy': Int64Index([7, 8, 9, 13, 29, 33, 34, 38, 40, 47, 51, 54], dtype='int64'),\n",
       " 'Netherlands': Int64Index([14, 15, 16, 17, 32, 39], dtype='int64'),\n",
       " 'Portugal': Int64Index([5, 6, 31, 48], dtype='int64'),\n",
       " 'Romania': Int64Index([30], dtype='int64'),\n",
       " 'Scotland': Int64Index([11], dtype='int64'),\n",
       " 'Spain': Int64Index([0, 1, 2, 3, 4, 10, 36, 42, 44, 46, 50, 53, 55], dtype='int64'),\n",
       " 'Yugoslavia': Int64Index([35], dtype='int64')}"
      ]
     },
     "execution_count": 80,
     "metadata": {},
     "output_type": "execute_result"
    }
   ],
   "source": [
    "nation_group.groups # groups 속성으로 group 정보를 dict로 반환"
   ]
  },
  {
   "cell_type": "code",
   "execution_count": 68,
   "metadata": {
    "collapsed": false
   },
   "outputs": [
    {
     "data": {
      "text/plain": [
       "10"
      ]
     },
     "execution_count": 68,
     "metadata": {},
     "output_type": "execute_result"
    }
   ],
   "source": [
    "len(nation_group.groups) # 그룹의 개수."
   ]
  },
  {
   "cell_type": "code",
   "execution_count": 87,
   "metadata": {
    "collapsed": false
   },
   "outputs": [
    {
     "name": "stdout",
     "output_type": "stream",
     "text": [
      "10\n"
     ]
    }
   ],
   "source": [
    "df = pd.read_csv(\"./euro_winners.csv\")\n",
    "\n",
    "nation_group = df.groupby(\"Nation\")\n",
    "print len(nation_group)\n",
    "\n",
    "\n",
    "\n",
    "\n"
   ]
  },
  {
   "cell_type": "markdown",
   "metadata": {},
   "source": [
    "* group 함수"
   ]
  },
  {
   "cell_type": "code",
   "execution_count": 79,
   "metadata": {
    "collapsed": false
   },
   "outputs": [
    {
     "data": {
      "text/html": [
       "<div>\n",
       "<table border=\"1\" class=\"dataframe\">\n",
       "  <thead>\n",
       "    <tr style=\"text-align: right;\">\n",
       "      <th></th>\n",
       "      <th>Season</th>\n",
       "      <th>Winners</th>\n",
       "      <th>Score</th>\n",
       "      <th>Runners-up</th>\n",
       "      <th>Runner-UpNation</th>\n",
       "      <th>Venue</th>\n",
       "      <th>Attendance</th>\n",
       "    </tr>\n",
       "    <tr>\n",
       "      <th>Nation</th>\n",
       "      <th></th>\n",
       "      <th></th>\n",
       "      <th></th>\n",
       "      <th></th>\n",
       "      <th></th>\n",
       "      <th></th>\n",
       "      <th></th>\n",
       "    </tr>\n",
       "  </thead>\n",
       "  <tbody>\n",
       "    <tr>\n",
       "      <th>England</th>\n",
       "      <td>12</td>\n",
       "      <td>12</td>\n",
       "      <td>12</td>\n",
       "      <td>12</td>\n",
       "      <td>12</td>\n",
       "      <td>12</td>\n",
       "      <td>12</td>\n",
       "    </tr>\n",
       "    <tr>\n",
       "      <th>France</th>\n",
       "      <td>1</td>\n",
       "      <td>1</td>\n",
       "      <td>1</td>\n",
       "      <td>1</td>\n",
       "      <td>1</td>\n",
       "      <td>1</td>\n",
       "      <td>1</td>\n",
       "    </tr>\n",
       "    <tr>\n",
       "      <th>Germany</th>\n",
       "      <td>7</td>\n",
       "      <td>7</td>\n",
       "      <td>7</td>\n",
       "      <td>7</td>\n",
       "      <td>7</td>\n",
       "      <td>7</td>\n",
       "      <td>7</td>\n",
       "    </tr>\n",
       "    <tr>\n",
       "      <th>Italy</th>\n",
       "      <td>12</td>\n",
       "      <td>12</td>\n",
       "      <td>12</td>\n",
       "      <td>12</td>\n",
       "      <td>12</td>\n",
       "      <td>12</td>\n",
       "      <td>12</td>\n",
       "    </tr>\n",
       "    <tr>\n",
       "      <th>Netherlands</th>\n",
       "      <td>6</td>\n",
       "      <td>6</td>\n",
       "      <td>6</td>\n",
       "      <td>6</td>\n",
       "      <td>6</td>\n",
       "      <td>6</td>\n",
       "      <td>6</td>\n",
       "    </tr>\n",
       "    <tr>\n",
       "      <th>Portugal</th>\n",
       "      <td>4</td>\n",
       "      <td>4</td>\n",
       "      <td>4</td>\n",
       "      <td>4</td>\n",
       "      <td>4</td>\n",
       "      <td>4</td>\n",
       "      <td>4</td>\n",
       "    </tr>\n",
       "    <tr>\n",
       "      <th>Romania</th>\n",
       "      <td>1</td>\n",
       "      <td>1</td>\n",
       "      <td>1</td>\n",
       "      <td>1</td>\n",
       "      <td>1</td>\n",
       "      <td>1</td>\n",
       "      <td>1</td>\n",
       "    </tr>\n",
       "    <tr>\n",
       "      <th>Scotland</th>\n",
       "      <td>1</td>\n",
       "      <td>1</td>\n",
       "      <td>1</td>\n",
       "      <td>1</td>\n",
       "      <td>1</td>\n",
       "      <td>1</td>\n",
       "      <td>1</td>\n",
       "    </tr>\n",
       "    <tr>\n",
       "      <th>Spain</th>\n",
       "      <td>13</td>\n",
       "      <td>13</td>\n",
       "      <td>13</td>\n",
       "      <td>13</td>\n",
       "      <td>13</td>\n",
       "      <td>13</td>\n",
       "      <td>13</td>\n",
       "    </tr>\n",
       "    <tr>\n",
       "      <th>Yugoslavia</th>\n",
       "      <td>1</td>\n",
       "      <td>1</td>\n",
       "      <td>1</td>\n",
       "      <td>1</td>\n",
       "      <td>1</td>\n",
       "      <td>1</td>\n",
       "      <td>1</td>\n",
       "    </tr>\n",
       "  </tbody>\n",
       "</table>\n",
       "</div>"
      ],
      "text/plain": [
       "             Season  Winners  Score  Runners-up  Runner-UpNation  Venue  \\\n",
       "Nation                                                                    \n",
       "England          12       12     12          12               12     12   \n",
       "France            1        1      1           1                1      1   \n",
       "Germany           7        7      7           7                7      7   \n",
       "Italy            12       12     12          12               12     12   \n",
       "Netherlands       6        6      6           6                6      6   \n",
       "Portugal          4        4      4           4                4      4   \n",
       "Romania           1        1      1           1                1      1   \n",
       "Scotland          1        1      1           1                1      1   \n",
       "Spain            13       13     13          13               13     13   \n",
       "Yugoslavia        1        1      1           1                1      1   \n",
       "\n",
       "             Attendance  \n",
       "Nation                   \n",
       "England              12  \n",
       "France                1  \n",
       "Germany               7  \n",
       "Italy                12  \n",
       "Netherlands           6  \n",
       "Portugal              4  \n",
       "Romania               1  \n",
       "Scotland              1  \n",
       "Spain                13  \n",
       "Yugoslavia            1  "
      ]
     },
     "execution_count": 79,
     "metadata": {},
     "output_type": "execute_result"
    }
   ],
   "source": [
    "nation_group.count() #nation으로 묶었었으니까 몇번 우승했는지 나오겠네. count는 각 컬럼도 함께 반영"
   ]
  },
  {
   "cell_type": "code",
   "execution_count": 78,
   "metadata": {
    "collapsed": false
   },
   "outputs": [
    {
     "data": {
      "text/plain": [
       "Nation\n",
       "England        12\n",
       "France          1\n",
       "Germany         7\n",
       "Italy          12\n",
       "Netherlands     6\n",
       "Portugal        4\n",
       "Romania         1\n",
       "Scotland        1\n",
       "Spain          13\n",
       "Yugoslavia      1\n",
       "dtype: int64"
      ]
     },
     "execution_count": 78,
     "metadata": {},
     "output_type": "execute_result"
    }
   ],
   "source": [
    "nation_group.size() #series 반환"
   ]
  },
  {
   "cell_type": "code",
   "execution_count": 80,
   "metadata": {
    "collapsed": false
   },
   "outputs": [
    {
     "data": {
      "text/plain": [
       "Nation\n",
       "Spain          13\n",
       "Italy          12\n",
       "England        12\n",
       "Germany         7\n",
       "Netherlands     6\n",
       "Portugal        4\n",
       "Yugoslavia      1\n",
       "Scotland        1\n",
       "Romania         1\n",
       "France          1\n",
       "dtype: int64"
      ]
     },
     "execution_count": 80,
     "metadata": {},
     "output_type": "execute_result"
    }
   ],
   "source": [
    "nation_group.size().sort_values(ascending = False) #큰 거부터 보고 싶어서 ascending false"
   ]
  },
  {
   "cell_type": "code",
   "execution_count": 91,
   "metadata": {
    "collapsed": false
   },
   "outputs": [
    {
     "name": "stdout",
     "output_type": "stream",
     "text": [
      "Nation\n",
      "England        12\n",
      "France          1\n",
      "Germany         7\n",
      "Italy          12\n",
      "Netherlands     6\n",
      "Portugal        4\n",
      "Romania         1\n",
      "Scotland        1\n",
      "Spain          13\n",
      "Yugoslavia      1\n",
      "dtype: int64\n",
      "****************************************************************************************************\n",
      "Nation       Winners          \n",
      "England      Aston Villa          1\n",
      "             Chelsea              1\n",
      "             Liverpool            5\n",
      "             Manchester United    3\n",
      "             Nottingham Forest    2\n",
      "France       Marseille            1\n",
      "Germany      Bayern Munich        5\n",
      "             Borussia Dortmund    1\n",
      "             Hamburg              1\n",
      "Italy        Internazionale       3\n",
      "             Juventus             2\n",
      "             Milan                7\n",
      "Netherlands  Ajax                 4\n",
      "             Feyenoord            1\n",
      "             PSV Eindhoven        1\n",
      "Portugal     Benfica              2\n",
      "             Porto                2\n",
      "Romania      Steaua Bucure?ti     1\n",
      "Scotland     Celtic               1\n",
      "Spain        Barcelona            4\n",
      "             Real Madrid          9\n",
      "Yugoslavia   Red Star Belgrade    1\n",
      "dtype: int64\n",
      "****************************************************************************************************\n",
      "Nation       Winners          \n",
      "Spain        Real Madrid          9\n",
      "Italy        Milan                7\n",
      "Germany      Bayern Munich        5\n",
      "England      Liverpool            5\n",
      "Spain        Barcelona            4\n",
      "Netherlands  Ajax                 4\n",
      "England      Manchester United    3\n",
      "Italy        Internazionale       3\n",
      "             Juventus             2\n",
      "Portugal     Porto                2\n",
      "             Benfica              2\n",
      "England      Nottingham Forest    2\n",
      "             Chelsea              1\n",
      "France       Marseille            1\n",
      "Yugoslavia   Red Star Belgrade    1\n",
      "Germany      Borussia Dortmund    1\n",
      "             Hamburg              1\n",
      "Netherlands  Feyenoord            1\n",
      "             PSV Eindhoven        1\n",
      "Romania      Steaua Bucure?ti     1\n",
      "Scotland     Celtic               1\n",
      "England      Aston Villa          1\n",
      "dtype: int64\n"
     ]
    }
   ],
   "source": [
    "# 2개 이상의 컬럼으로 grouping 가능\n",
    "club_group = df.groupby(\"Nation\")\n",
    "print club_group.size()\n",
    "\n",
    "print \"*\"*100\n",
    "club_group1 = df.groupby(['Nation', 'Winners'])\n",
    "print club_group1.size()\n",
    "print \"*\"*100\n",
    "print club_group1.size().sort_values(ascending = False)"
   ]
  },
  {
   "cell_type": "code",
   "execution_count": 104,
   "metadata": {
    "collapsed": false
   },
   "outputs": [],
   "source": [
    "df = pd.read_csv('./goal_stats_euro_leagues_2012-13.csv')"
   ]
  },
  {
   "cell_type": "code",
   "execution_count": 106,
   "metadata": {
    "collapsed": false
   },
   "outputs": [
    {
     "data": {
      "text/html": [
       "<div>\n",
       "<table border=\"1\" class=\"dataframe\">\n",
       "  <thead>\n",
       "    <tr style=\"text-align: right;\">\n",
       "      <th></th>\n",
       "      <th>Stat</th>\n",
       "      <th>EPL</th>\n",
       "      <th>La Liga</th>\n",
       "      <th>Serie A</th>\n",
       "      <th>Bundesliga</th>\n",
       "    </tr>\n",
       "    <tr>\n",
       "      <th>Month</th>\n",
       "      <th></th>\n",
       "      <th></th>\n",
       "      <th></th>\n",
       "      <th></th>\n",
       "      <th></th>\n",
       "    </tr>\n",
       "  </thead>\n",
       "  <tbody>\n",
       "    <tr>\n",
       "      <th>08/01/2012</th>\n",
       "      <td>MatchesPlayed</td>\n",
       "      <td>20.0</td>\n",
       "      <td>20</td>\n",
       "      <td>10.0</td>\n",
       "      <td>10.0</td>\n",
       "    </tr>\n",
       "    <tr>\n",
       "      <th>09/01/2012</th>\n",
       "      <td>MatchesPlayed</td>\n",
       "      <td>38.0</td>\n",
       "      <td>39</td>\n",
       "      <td>50.0</td>\n",
       "      <td>44.0</td>\n",
       "    </tr>\n",
       "    <tr>\n",
       "      <th>10/01/2012</th>\n",
       "      <td>MatchesPlayed</td>\n",
       "      <td>31.0</td>\n",
       "      <td>31</td>\n",
       "      <td>39.0</td>\n",
       "      <td>27.0</td>\n",
       "    </tr>\n",
       "    <tr>\n",
       "      <th>11/01/2012</th>\n",
       "      <td>MatchesPlayed</td>\n",
       "      <td>50.0</td>\n",
       "      <td>41</td>\n",
       "      <td>42.0</td>\n",
       "      <td>46.0</td>\n",
       "    </tr>\n",
       "    <tr>\n",
       "      <th>12/01/2012</th>\n",
       "      <td>MatchesPlayed</td>\n",
       "      <td>59.0</td>\n",
       "      <td>39</td>\n",
       "      <td>39.0</td>\n",
       "      <td>26.0</td>\n",
       "    </tr>\n",
       "    <tr>\n",
       "      <th>01/01/2013</th>\n",
       "      <td>MatchesPlayed</td>\n",
       "      <td>42.0</td>\n",
       "      <td>40</td>\n",
       "      <td>40.0</td>\n",
       "      <td>18.0</td>\n",
       "    </tr>\n",
       "    <tr>\n",
       "      <th>02/01/2013</th>\n",
       "      <td>MatchesPlayed</td>\n",
       "      <td>30.0</td>\n",
       "      <td>40</td>\n",
       "      <td>40.0</td>\n",
       "      <td>36.0</td>\n",
       "    </tr>\n",
       "    <tr>\n",
       "      <th>03/01/2013</th>\n",
       "      <td>MatchesPlayed</td>\n",
       "      <td>35.0</td>\n",
       "      <td>38</td>\n",
       "      <td>39.0</td>\n",
       "      <td>36.0</td>\n",
       "    </tr>\n",
       "    <tr>\n",
       "      <th>04/01/2013</th>\n",
       "      <td>MatchesPlayed</td>\n",
       "      <td>42.0</td>\n",
       "      <td>42</td>\n",
       "      <td>41.0</td>\n",
       "      <td>36.0</td>\n",
       "    </tr>\n",
       "    <tr>\n",
       "      <th>05/01/2013</th>\n",
       "      <td>MatchesPlayed</td>\n",
       "      <td>33.0</td>\n",
       "      <td>40</td>\n",
       "      <td>40.0</td>\n",
       "      <td>27.0</td>\n",
       "    </tr>\n",
       "    <tr>\n",
       "      <th>06/02/2013</th>\n",
       "      <td>MatchesPlayed</td>\n",
       "      <td>NaN</td>\n",
       "      <td>10</td>\n",
       "      <td>NaN</td>\n",
       "      <td>NaN</td>\n",
       "    </tr>\n",
       "    <tr>\n",
       "      <th>08/01/2012</th>\n",
       "      <td>GoalsScored</td>\n",
       "      <td>57.0</td>\n",
       "      <td>60</td>\n",
       "      <td>21.0</td>\n",
       "      <td>23.0</td>\n",
       "    </tr>\n",
       "    <tr>\n",
       "      <th>09/01/2012</th>\n",
       "      <td>GoalsScored</td>\n",
       "      <td>111.0</td>\n",
       "      <td>112</td>\n",
       "      <td>133.0</td>\n",
       "      <td>135.0</td>\n",
       "    </tr>\n",
       "    <tr>\n",
       "      <th>10/01/2012</th>\n",
       "      <td>GoalsScored</td>\n",
       "      <td>95.0</td>\n",
       "      <td>88</td>\n",
       "      <td>97.0</td>\n",
       "      <td>77.0</td>\n",
       "    </tr>\n",
       "    <tr>\n",
       "      <th>11/01/2012</th>\n",
       "      <td>GoalsScored</td>\n",
       "      <td>121.0</td>\n",
       "      <td>116</td>\n",
       "      <td>120.0</td>\n",
       "      <td>137.0</td>\n",
       "    </tr>\n",
       "    <tr>\n",
       "      <th>12/01/2012</th>\n",
       "      <td>GoalsScored</td>\n",
       "      <td>183.0</td>\n",
       "      <td>109</td>\n",
       "      <td>125.0</td>\n",
       "      <td>72.0</td>\n",
       "    </tr>\n",
       "    <tr>\n",
       "      <th>01/01/2013</th>\n",
       "      <td>GoalsScored</td>\n",
       "      <td>117.0</td>\n",
       "      <td>121</td>\n",
       "      <td>104.0</td>\n",
       "      <td>51.0</td>\n",
       "    </tr>\n",
       "    <tr>\n",
       "      <th>02/01/2013</th>\n",
       "      <td>GoalsScored</td>\n",
       "      <td>87.0</td>\n",
       "      <td>110</td>\n",
       "      <td>100.0</td>\n",
       "      <td>101.0</td>\n",
       "    </tr>\n",
       "    <tr>\n",
       "      <th>03/01/2013</th>\n",
       "      <td>GoalsScored</td>\n",
       "      <td>91.0</td>\n",
       "      <td>101</td>\n",
       "      <td>99.0</td>\n",
       "      <td>106.0</td>\n",
       "    </tr>\n",
       "    <tr>\n",
       "      <th>04/01/2013</th>\n",
       "      <td>GoalsScored</td>\n",
       "      <td>105.0</td>\n",
       "      <td>127</td>\n",
       "      <td>102.0</td>\n",
       "      <td>104.0</td>\n",
       "    </tr>\n",
       "  </tbody>\n",
       "</table>\n",
       "</div>"
      ],
      "text/plain": [
       "                     Stat    EPL  La Liga  Serie A  Bundesliga\n",
       "Month                                                         \n",
       "08/01/2012  MatchesPlayed   20.0       20     10.0        10.0\n",
       "09/01/2012  MatchesPlayed   38.0       39     50.0        44.0\n",
       "10/01/2012  MatchesPlayed   31.0       31     39.0        27.0\n",
       "11/01/2012  MatchesPlayed   50.0       41     42.0        46.0\n",
       "12/01/2012  MatchesPlayed   59.0       39     39.0        26.0\n",
       "01/01/2013  MatchesPlayed   42.0       40     40.0        18.0\n",
       "02/01/2013  MatchesPlayed   30.0       40     40.0        36.0\n",
       "03/01/2013  MatchesPlayed   35.0       38     39.0        36.0\n",
       "04/01/2013  MatchesPlayed   42.0       42     41.0        36.0\n",
       "05/01/2013  MatchesPlayed   33.0       40     40.0        27.0\n",
       "06/02/2013  MatchesPlayed    NaN       10      NaN         NaN\n",
       "08/01/2012    GoalsScored   57.0       60     21.0        23.0\n",
       "09/01/2012    GoalsScored  111.0      112    133.0       135.0\n",
       "10/01/2012    GoalsScored   95.0       88     97.0        77.0\n",
       "11/01/2012    GoalsScored  121.0      116    120.0       137.0\n",
       "12/01/2012    GoalsScored  183.0      109    125.0        72.0\n",
       "01/01/2013    GoalsScored  117.0      121    104.0        51.0\n",
       "02/01/2013    GoalsScored   87.0      110    100.0       101.0\n",
       "03/01/2013    GoalsScored   91.0      101     99.0       106.0\n",
       "04/01/2013    GoalsScored  105.0      127    102.0       104.0"
      ]
     },
     "execution_count": 106,
     "metadata": {},
     "output_type": "execute_result"
    }
   ],
   "source": [
    "df = df.set_index(\"Month\")\n",
    "df.head(20)"
   ]
  },
  {
   "cell_type": "code",
   "execution_count": 87,
   "metadata": {
    "collapsed": true
   },
   "outputs": [],
   "source": [
    "# Month column을 index로 생성\n",
    "df = df.set_index('Month') #month가 인덱스로 설정됨!"
   ]
  },
  {
   "cell_type": "code",
   "execution_count": 88,
   "metadata": {
    "collapsed": false,
    "scrolled": true
   },
   "outputs": [
    {
     "data": {
      "text/html": [
       "<div>\n",
       "<table border=\"1\" class=\"dataframe\">\n",
       "  <thead>\n",
       "    <tr style=\"text-align: right;\">\n",
       "      <th></th>\n",
       "      <th>Stat</th>\n",
       "      <th>EPL</th>\n",
       "      <th>La Liga</th>\n",
       "      <th>Serie A</th>\n",
       "      <th>Bundesliga</th>\n",
       "    </tr>\n",
       "    <tr>\n",
       "      <th>Month</th>\n",
       "      <th></th>\n",
       "      <th></th>\n",
       "      <th></th>\n",
       "      <th></th>\n",
       "      <th></th>\n",
       "    </tr>\n",
       "  </thead>\n",
       "  <tbody>\n",
       "    <tr>\n",
       "      <th>08/01/2012</th>\n",
       "      <td>MatchesPlayed</td>\n",
       "      <td>20.0</td>\n",
       "      <td>20</td>\n",
       "      <td>10.0</td>\n",
       "      <td>10.0</td>\n",
       "    </tr>\n",
       "    <tr>\n",
       "      <th>09/01/2012</th>\n",
       "      <td>MatchesPlayed</td>\n",
       "      <td>38.0</td>\n",
       "      <td>39</td>\n",
       "      <td>50.0</td>\n",
       "      <td>44.0</td>\n",
       "    </tr>\n",
       "    <tr>\n",
       "      <th>10/01/2012</th>\n",
       "      <td>MatchesPlayed</td>\n",
       "      <td>31.0</td>\n",
       "      <td>31</td>\n",
       "      <td>39.0</td>\n",
       "      <td>27.0</td>\n",
       "    </tr>\n",
       "    <tr>\n",
       "      <th>11/01/2012</th>\n",
       "      <td>MatchesPlayed</td>\n",
       "      <td>50.0</td>\n",
       "      <td>41</td>\n",
       "      <td>42.0</td>\n",
       "      <td>46.0</td>\n",
       "    </tr>\n",
       "    <tr>\n",
       "      <th>12/01/2012</th>\n",
       "      <td>MatchesPlayed</td>\n",
       "      <td>59.0</td>\n",
       "      <td>39</td>\n",
       "      <td>39.0</td>\n",
       "      <td>26.0</td>\n",
       "    </tr>\n",
       "  </tbody>\n",
       "</table>\n",
       "</div>"
      ],
      "text/plain": [
       "                     Stat   EPL  La Liga  Serie A  Bundesliga\n",
       "Month                                                        \n",
       "08/01/2012  MatchesPlayed  20.0       20     10.0        10.0\n",
       "09/01/2012  MatchesPlayed  38.0       39     50.0        44.0\n",
       "10/01/2012  MatchesPlayed  31.0       31     39.0        27.0\n",
       "11/01/2012  MatchesPlayed  50.0       41     42.0        46.0\n",
       "12/01/2012  MatchesPlayed  59.0       39     39.0        26.0"
      ]
     },
     "execution_count": 88,
     "metadata": {},
     "output_type": "execute_result"
    }
   ],
   "source": [
    "df.head()"
   ]
  },
  {
   "cell_type": "code",
   "execution_count": 91,
   "metadata": {
    "collapsed": true
   },
   "outputs": [],
   "source": [
    "# group by year\n",
    "year_group = df.groupby(lambda month : month.split('/')[2]) #그룹바이로 람다함수를 넘길 수 도 있음. 여기선 연도만 넘기고 싶어서."
   ]
  },
  {
   "cell_type": "code",
   "execution_count": 108,
   "metadata": {
    "collapsed": false
   },
   "outputs": [
    {
     "data": {
      "text/plain": [
       "{'2012': Index([u'08/01/2012', u'09/01/2012', u'10/01/2012', u'11/01/2012',\n",
       "        u'12/01/2012', u'08/01/2012', u'09/01/2012', u'10/01/2012',\n",
       "        u'11/01/2012', u'12/01/2012'],\n",
       "       dtype='object', name=u'Month'),\n",
       " '2013': Index([u'01/01/2013', u'02/01/2013', u'03/01/2013', u'04/01/2013',\n",
       "        u'05/01/2013', u'06/02/2013', u'01/01/2013', u'02/01/2013',\n",
       "        u'03/01/2013', u'04/01/2013', u'05/01/2013', u'06/01/2013'],\n",
       "       dtype='object', name=u'Month')}"
      ]
     },
     "execution_count": 108,
     "metadata": {},
     "output_type": "execute_result"
    }
   ],
   "source": [
    "year_group.groups"
   ]
  },
  {
   "cell_type": "code",
   "execution_count": 94,
   "metadata": {
    "collapsed": false
   },
   "outputs": [
    {
     "data": {
      "text/plain": [
       "2012    10\n",
       "2013    12\n",
       "dtype: int64"
      ]
     },
     "execution_count": 94,
     "metadata": {},
     "output_type": "execute_result"
    }
   ],
   "source": [
    "year_group.size() #각 그룹별 사이즈"
   ]
  },
  {
   "cell_type": "code",
   "execution_count": 95,
   "metadata": {
    "collapsed": false
   },
   "outputs": [
    {
     "name": "stdout",
     "output_type": "stream",
     "text": [
      "2012\n",
      "                     Stat    EPL  La Liga  Serie A  Bundesliga\n",
      "Month                                                         \n",
      "08/01/2012  MatchesPlayed   20.0       20     10.0        10.0\n",
      "09/01/2012  MatchesPlayed   38.0       39     50.0        44.0\n",
      "10/01/2012  MatchesPlayed   31.0       31     39.0        27.0\n",
      "11/01/2012  MatchesPlayed   50.0       41     42.0        46.0\n",
      "12/01/2012  MatchesPlayed   59.0       39     39.0        26.0\n",
      "08/01/2012    GoalsScored   57.0       60     21.0        23.0\n",
      "09/01/2012    GoalsScored  111.0      112    133.0       135.0\n",
      "10/01/2012    GoalsScored   95.0       88     97.0        77.0\n",
      "11/01/2012    GoalsScored  121.0      116    120.0       137.0\n",
      "12/01/2012    GoalsScored  183.0      109    125.0        72.0\n",
      "2013\n",
      "                     Stat    EPL  La Liga  Serie A  Bundesliga\n",
      "Month                                                         \n",
      "01/01/2013  MatchesPlayed   42.0       40     40.0        18.0\n",
      "02/01/2013  MatchesPlayed   30.0       40     40.0        36.0\n",
      "03/01/2013  MatchesPlayed   35.0       38     39.0        36.0\n",
      "04/01/2013  MatchesPlayed   42.0       42     41.0        36.0\n",
      "05/01/2013  MatchesPlayed   33.0       40     40.0        27.0\n",
      "06/02/2013  MatchesPlayed    NaN       10      NaN         NaN\n",
      "01/01/2013    GoalsScored  117.0      121    104.0        51.0\n",
      "02/01/2013    GoalsScored   87.0      110    100.0       101.0\n",
      "03/01/2013    GoalsScored   91.0      101     99.0       106.0\n",
      "04/01/2013    GoalsScored  105.0      127    102.0       104.0\n",
      "05/01/2013    GoalsScored   96.0      109    102.0        92.0\n",
      "06/01/2013    GoalsScored    NaN       80      NaN         NaN\n"
     ]
    }
   ],
   "source": [
    "for name, group in year_group:\n",
    "    print name #2012, 2013\n",
    "    print group "
   ]
  },
  {
   "cell_type": "code",
   "execution_count": 109,
   "metadata": {
    "collapsed": false
   },
   "outputs": [
    {
     "name": "stdout",
     "output_type": "stream",
     "text": [
      "<pandas.core.groupby.DataFrameGroupBy object at 0x061CD9B0>\n"
     ]
    }
   ],
   "source": [
    "# index의 경우에는 column name이 아닌, 레벨로 grouping 가능\n",
    "month_group = df.groupby(level = 0) #index레벨이 0이라는 것. 즉 month"
   ]
  },
  {
   "cell_type": "code",
   "execution_count": 102,
   "metadata": {
    "collapsed": false
   },
   "outputs": [
    {
     "name": "stdout",
     "output_type": "stream",
     "text": [
      "01/01/2013\n",
      "                     Stat    EPL  La Liga  Serie A  Bundesliga\n",
      "Month                                                         \n",
      "01/01/2013  MatchesPlayed   42.0       40     40.0        18.0\n",
      "01/01/2013    GoalsScored  117.0      121    104.0        51.0\n",
      "********************************************************************************\n",
      "02/01/2013\n",
      "                     Stat   EPL  La Liga  Serie A  Bundesliga\n",
      "Month                                                        \n",
      "02/01/2013  MatchesPlayed  30.0       40     40.0        36.0\n",
      "02/01/2013    GoalsScored  87.0      110    100.0       101.0\n",
      "********************************************************************************\n",
      "03/01/2013\n",
      "                     Stat   EPL  La Liga  Serie A  Bundesliga\n",
      "Month                                                        \n",
      "03/01/2013  MatchesPlayed  35.0       38     39.0        36.0\n",
      "03/01/2013    GoalsScored  91.0      101     99.0       106.0\n",
      "********************************************************************************\n",
      "04/01/2013\n",
      "                     Stat    EPL  La Liga  Serie A  Bundesliga\n",
      "Month                                                         \n",
      "04/01/2013  MatchesPlayed   42.0       42     41.0        36.0\n",
      "04/01/2013    GoalsScored  105.0      127    102.0       104.0\n",
      "********************************************************************************\n",
      "05/01/2013\n",
      "                     Stat   EPL  La Liga  Serie A  Bundesliga\n",
      "Month                                                        \n",
      "05/01/2013  MatchesPlayed  33.0       40     40.0        27.0\n",
      "05/01/2013    GoalsScored  96.0      109    102.0        92.0\n",
      "********************************************************************************\n",
      "06/01/2013\n",
      "                   Stat  EPL  La Liga  Serie A  Bundesliga\n",
      "Month                                                     \n",
      "06/01/2013  GoalsScored  NaN       80      NaN         NaN\n",
      "********************************************************************************\n",
      "06/02/2013\n",
      "                     Stat  EPL  La Liga  Serie A  Bundesliga\n",
      "Month                                                       \n",
      "06/02/2013  MatchesPlayed  NaN       10      NaN         NaN\n",
      "********************************************************************************\n",
      "08/01/2012\n",
      "                     Stat   EPL  La Liga  Serie A  Bundesliga\n",
      "Month                                                        \n",
      "08/01/2012  MatchesPlayed  20.0       20     10.0        10.0\n",
      "08/01/2012    GoalsScored  57.0       60     21.0        23.0\n",
      "********************************************************************************\n",
      "09/01/2012\n",
      "                     Stat    EPL  La Liga  Serie A  Bundesliga\n",
      "Month                                                         \n",
      "09/01/2012  MatchesPlayed   38.0       39     50.0        44.0\n",
      "09/01/2012    GoalsScored  111.0      112    133.0       135.0\n",
      "********************************************************************************\n",
      "10/01/2012\n",
      "                     Stat   EPL  La Liga  Serie A  Bundesliga\n",
      "Month                                                        \n",
      "10/01/2012  MatchesPlayed  31.0       31     39.0        27.0\n",
      "10/01/2012    GoalsScored  95.0       88     97.0        77.0\n",
      "********************************************************************************\n",
      "11/01/2012\n",
      "                     Stat    EPL  La Liga  Serie A  Bundesliga\n",
      "Month                                                         \n",
      "11/01/2012  MatchesPlayed   50.0       41     42.0        46.0\n",
      "11/01/2012    GoalsScored  121.0      116    120.0       137.0\n",
      "********************************************************************************\n",
      "12/01/2012\n",
      "                     Stat    EPL  La Liga  Serie A  Bundesliga\n",
      "Month                                                         \n",
      "12/01/2012  MatchesPlayed   59.0       39     39.0        26.0\n",
      "12/01/2012    GoalsScored  183.0      109    125.0        72.0\n",
      "********************************************************************************\n"
     ]
    }
   ],
   "source": [
    "for name, group in month_group:\n",
    "    print name\n",
    "    print group\n",
    "    print '*'*80"
   ]
  },
  {
   "cell_type": "markdown",
   "metadata": {},
   "source": [
    "* multi index grouping"
   ]
  },
  {
   "cell_type": "markdown",
   "metadata": {},
   "source": [
    "* index 항목 제거"
   ]
  },
  {
   "cell_type": "code",
   "execution_count": 110,
   "metadata": {
    "collapsed": false
   },
   "outputs": [
    {
     "data": {
      "text/plain": [
       "'For DataFrame with multi-level index, return new DataFrame with\\nlabeling information in the columns under the index names, defaulting'"
      ]
     },
     "execution_count": 110,
     "metadata": {},
     "output_type": "execute_result"
    }
   ],
   "source": [
    "df = df.reset_index() #다시 0based 인덱스로 바꾸기 위해서. month가 다시 column으로 올라갔음. \n",
    "'''For DataFrame with multi-level index, return new DataFrame with\n",
    "labeling information in the columns under the index names, defaulting'''"
   ]
  },
  {
   "cell_type": "code",
   "execution_count": 111,
   "metadata": {
    "collapsed": false
   },
   "outputs": [
    {
     "data": {
      "text/html": [
       "<div>\n",
       "<table border=\"1\" class=\"dataframe\">\n",
       "  <thead>\n",
       "    <tr style=\"text-align: right;\">\n",
       "      <th></th>\n",
       "      <th>Month</th>\n",
       "      <th>Stat</th>\n",
       "      <th>EPL</th>\n",
       "      <th>La Liga</th>\n",
       "      <th>Serie A</th>\n",
       "      <th>Bundesliga</th>\n",
       "    </tr>\n",
       "  </thead>\n",
       "  <tbody>\n",
       "    <tr>\n",
       "      <th>0</th>\n",
       "      <td>08/01/2012</td>\n",
       "      <td>MatchesPlayed</td>\n",
       "      <td>20.0</td>\n",
       "      <td>20</td>\n",
       "      <td>10.0</td>\n",
       "      <td>10.0</td>\n",
       "    </tr>\n",
       "    <tr>\n",
       "      <th>1</th>\n",
       "      <td>09/01/2012</td>\n",
       "      <td>MatchesPlayed</td>\n",
       "      <td>38.0</td>\n",
       "      <td>39</td>\n",
       "      <td>50.0</td>\n",
       "      <td>44.0</td>\n",
       "    </tr>\n",
       "    <tr>\n",
       "      <th>2</th>\n",
       "      <td>10/01/2012</td>\n",
       "      <td>MatchesPlayed</td>\n",
       "      <td>31.0</td>\n",
       "      <td>31</td>\n",
       "      <td>39.0</td>\n",
       "      <td>27.0</td>\n",
       "    </tr>\n",
       "    <tr>\n",
       "      <th>3</th>\n",
       "      <td>11/01/2012</td>\n",
       "      <td>MatchesPlayed</td>\n",
       "      <td>50.0</td>\n",
       "      <td>41</td>\n",
       "      <td>42.0</td>\n",
       "      <td>46.0</td>\n",
       "    </tr>\n",
       "    <tr>\n",
       "      <th>4</th>\n",
       "      <td>12/01/2012</td>\n",
       "      <td>MatchesPlayed</td>\n",
       "      <td>59.0</td>\n",
       "      <td>39</td>\n",
       "      <td>39.0</td>\n",
       "      <td>26.0</td>\n",
       "    </tr>\n",
       "  </tbody>\n",
       "</table>\n",
       "</div>"
      ],
      "text/plain": [
       "        Month           Stat   EPL  La Liga  Serie A  Bundesliga\n",
       "0  08/01/2012  MatchesPlayed  20.0       20     10.0        10.0\n",
       "1  09/01/2012  MatchesPlayed  38.0       39     50.0        44.0\n",
       "2  10/01/2012  MatchesPlayed  31.0       31     39.0        27.0\n",
       "3  11/01/2012  MatchesPlayed  50.0       41     42.0        46.0\n",
       "4  12/01/2012  MatchesPlayed  59.0       39     39.0        26.0"
      ]
     },
     "execution_count": 111,
     "metadata": {},
     "output_type": "execute_result"
    }
   ],
   "source": [
    "df.head() #month가 다시 column으로 올라갔음"
   ]
  },
  {
   "cell_type": "markdown",
   "metadata": {},
   "source": [
    "* 2가지 컬럼으로 인덱싱"
   ]
  },
  {
   "cell_type": "code",
   "execution_count": 114,
   "metadata": {
    "collapsed": false
   },
   "outputs": [
    {
     "data": {
      "text/html": [
       "<div>\n",
       "<table border=\"1\" class=\"dataframe\">\n",
       "  <thead>\n",
       "    <tr style=\"text-align: right;\">\n",
       "      <th></th>\n",
       "      <th></th>\n",
       "      <th>EPL</th>\n",
       "      <th>La Liga</th>\n",
       "      <th>Serie A</th>\n",
       "      <th>Bundesliga</th>\n",
       "    </tr>\n",
       "    <tr>\n",
       "      <th>Month</th>\n",
       "      <th>Stat</th>\n",
       "      <th></th>\n",
       "      <th></th>\n",
       "      <th></th>\n",
       "      <th></th>\n",
       "    </tr>\n",
       "  </thead>\n",
       "  <tbody>\n",
       "    <tr>\n",
       "      <th>08/01/2012</th>\n",
       "      <th>MatchesPlayed</th>\n",
       "      <td>20.0</td>\n",
       "      <td>20</td>\n",
       "      <td>10.0</td>\n",
       "      <td>10.0</td>\n",
       "    </tr>\n",
       "    <tr>\n",
       "      <th>09/01/2012</th>\n",
       "      <th>MatchesPlayed</th>\n",
       "      <td>38.0</td>\n",
       "      <td>39</td>\n",
       "      <td>50.0</td>\n",
       "      <td>44.0</td>\n",
       "    </tr>\n",
       "    <tr>\n",
       "      <th>10/01/2012</th>\n",
       "      <th>MatchesPlayed</th>\n",
       "      <td>31.0</td>\n",
       "      <td>31</td>\n",
       "      <td>39.0</td>\n",
       "      <td>27.0</td>\n",
       "    </tr>\n",
       "    <tr>\n",
       "      <th>11/01/2012</th>\n",
       "      <th>MatchesPlayed</th>\n",
       "      <td>50.0</td>\n",
       "      <td>41</td>\n",
       "      <td>42.0</td>\n",
       "      <td>46.0</td>\n",
       "    </tr>\n",
       "    <tr>\n",
       "      <th>12/01/2012</th>\n",
       "      <th>MatchesPlayed</th>\n",
       "      <td>59.0</td>\n",
       "      <td>39</td>\n",
       "      <td>39.0</td>\n",
       "      <td>26.0</td>\n",
       "    </tr>\n",
       "  </tbody>\n",
       "</table>\n",
       "</div>"
      ],
      "text/plain": [
       "                           EPL  La Liga  Serie A  Bundesliga\n",
       "Month      Stat                                             \n",
       "08/01/2012 MatchesPlayed  20.0       20     10.0        10.0\n",
       "09/01/2012 MatchesPlayed  38.0       39     50.0        44.0\n",
       "10/01/2012 MatchesPlayed  31.0       31     39.0        27.0\n",
       "11/01/2012 MatchesPlayed  50.0       41     42.0        46.0\n",
       "12/01/2012 MatchesPlayed  59.0       39     39.0        26.0"
      ]
     },
     "execution_count": 114,
     "metadata": {},
     "output_type": "execute_result"
    }
   ],
   "source": [
    "df = df.set_index(['Month', 'Stat']) #인덱싱을 두개로 했으니까 가져올 때도 두개로 가져와야겠지.\n",
    "df.head()"
   ]
  },
  {
   "cell_type": "code",
   "execution_count": 118,
   "metadata": {
    "collapsed": false
   },
   "outputs": [
    {
     "name": "stdout",
     "output_type": "stream",
     "text": [
      "EPL           20.0\n",
      "La Liga       20.0\n",
      "Serie A       10.0\n",
      "Bundesliga    10.0\n",
      "Name: (08/01/2012, MatchesPlayed), dtype: float64\n",
      "\n",
      "EPL           20.0\n",
      "La Liga       20.0\n",
      "Serie A       10.0\n",
      "Bundesliga    10.0\n",
      "Name: (08/01/2012, MatchesPlayed), dtype: float64\n"
     ]
    }
   ],
   "source": [
    "print df.loc['08/01/2012', 'MatchesPlayed'] #이렇게 두개로 가져와야지\n",
    "print\n",
    "print df.iloc[0]"
   ]
  },
  {
   "cell_type": "code",
   "execution_count": 120,
   "metadata": {
    "collapsed": false
   },
   "outputs": [],
   "source": [
    "# multi level grouping\n",
    "month_stat_group = df.groupby(level = [0, 1])"
   ]
  },
  {
   "cell_type": "code",
   "execution_count": 116,
   "metadata": {
    "collapsed": false
   },
   "outputs": [
    {
     "name": "stdout",
     "output_type": "stream",
     "text": [
      "('01/01/2013', 'GoalsScored')\n",
      "                          EPL  La Liga  Serie A  Bundesliga\n",
      "Month      Stat                                            \n",
      "01/01/2013 GoalsScored  117.0      121    104.0        51.0\n",
      "('01/01/2013', 'MatchesPlayed')\n",
      "                           EPL  La Liga  Serie A  Bundesliga\n",
      "Month      Stat                                             \n",
      "01/01/2013 MatchesPlayed  42.0       40     40.0        18.0\n",
      "('02/01/2013', 'GoalsScored')\n",
      "                         EPL  La Liga  Serie A  Bundesliga\n",
      "Month      Stat                                           \n",
      "02/01/2013 GoalsScored  87.0      110    100.0       101.0\n",
      "('02/01/2013', 'MatchesPlayed')\n",
      "                           EPL  La Liga  Serie A  Bundesliga\n",
      "Month      Stat                                             \n",
      "02/01/2013 MatchesPlayed  30.0       40     40.0        36.0\n",
      "('03/01/2013', 'GoalsScored')\n",
      "                         EPL  La Liga  Serie A  Bundesliga\n",
      "Month      Stat                                           \n",
      "03/01/2013 GoalsScored  91.0      101     99.0       106.0\n",
      "('03/01/2013', 'MatchesPlayed')\n",
      "                           EPL  La Liga  Serie A  Bundesliga\n",
      "Month      Stat                                             \n",
      "03/01/2013 MatchesPlayed  35.0       38     39.0        36.0\n",
      "('04/01/2013', 'GoalsScored')\n",
      "                          EPL  La Liga  Serie A  Bundesliga\n",
      "Month      Stat                                            \n",
      "04/01/2013 GoalsScored  105.0      127    102.0       104.0\n",
      "('04/01/2013', 'MatchesPlayed')\n",
      "                           EPL  La Liga  Serie A  Bundesliga\n",
      "Month      Stat                                             \n",
      "04/01/2013 MatchesPlayed  42.0       42     41.0        36.0\n",
      "('05/01/2013', 'GoalsScored')\n",
      "                         EPL  La Liga  Serie A  Bundesliga\n",
      "Month      Stat                                           \n",
      "05/01/2013 GoalsScored  96.0      109    102.0        92.0\n",
      "('05/01/2013', 'MatchesPlayed')\n",
      "                           EPL  La Liga  Serie A  Bundesliga\n",
      "Month      Stat                                             \n",
      "05/01/2013 MatchesPlayed  33.0       40     40.0        27.0\n",
      "('06/01/2013', 'GoalsScored')\n",
      "                        EPL  La Liga  Serie A  Bundesliga\n",
      "Month      Stat                                          \n",
      "06/01/2013 GoalsScored  NaN       80      NaN         NaN\n",
      "('06/02/2013', 'MatchesPlayed')\n",
      "                          EPL  La Liga  Serie A  Bundesliga\n",
      "Month      Stat                                            \n",
      "06/02/2013 MatchesPlayed  NaN       10      NaN         NaN\n",
      "('08/01/2012', 'GoalsScored')\n",
      "                         EPL  La Liga  Serie A  Bundesliga\n",
      "Month      Stat                                           \n",
      "08/01/2012 GoalsScored  57.0       60     21.0        23.0\n",
      "('08/01/2012', 'MatchesPlayed')\n",
      "                           EPL  La Liga  Serie A  Bundesliga\n",
      "Month      Stat                                             \n",
      "08/01/2012 MatchesPlayed  20.0       20     10.0        10.0\n",
      "('09/01/2012', 'GoalsScored')\n",
      "                          EPL  La Liga  Serie A  Bundesliga\n",
      "Month      Stat                                            \n",
      "09/01/2012 GoalsScored  111.0      112    133.0       135.0\n",
      "('09/01/2012', 'MatchesPlayed')\n",
      "                           EPL  La Liga  Serie A  Bundesliga\n",
      "Month      Stat                                             \n",
      "09/01/2012 MatchesPlayed  38.0       39     50.0        44.0\n",
      "('10/01/2012', 'GoalsScored')\n",
      "                         EPL  La Liga  Serie A  Bundesliga\n",
      "Month      Stat                                           \n",
      "10/01/2012 GoalsScored  95.0       88     97.0        77.0\n",
      "('10/01/2012', 'MatchesPlayed')\n",
      "                           EPL  La Liga  Serie A  Bundesliga\n",
      "Month      Stat                                             \n",
      "10/01/2012 MatchesPlayed  31.0       31     39.0        27.0\n",
      "('11/01/2012', 'GoalsScored')\n",
      "                          EPL  La Liga  Serie A  Bundesliga\n",
      "Month      Stat                                            \n",
      "11/01/2012 GoalsScored  121.0      116    120.0       137.0\n",
      "('11/01/2012', 'MatchesPlayed')\n",
      "                           EPL  La Liga  Serie A  Bundesliga\n",
      "Month      Stat                                             \n",
      "11/01/2012 MatchesPlayed  50.0       41     42.0        46.0\n",
      "('12/01/2012', 'GoalsScored')\n",
      "                          EPL  La Liga  Serie A  Bundesliga\n",
      "Month      Stat                                            \n",
      "12/01/2012 GoalsScored  183.0      109    125.0        72.0\n",
      "('12/01/2012', 'MatchesPlayed')\n",
      "                           EPL  La Liga  Serie A  Bundesliga\n",
      "Month      Stat                                             \n",
      "12/01/2012 MatchesPlayed  59.0       39     39.0        26.0\n"
     ]
    }
   ],
   "source": [
    "for name, group in month_stat_group:\n",
    "    print name # tuple\n",
    "    print group"
   ]
  },
  {
   "cell_type": "code",
   "execution_count": 117,
   "metadata": {
    "collapsed": true
   },
   "outputs": [],
   "source": [
    "month_stat_group = df.groupby(level = ['Month', 'Stat'])"
   ]
  },
  {
   "cell_type": "code",
   "execution_count": 118,
   "metadata": {
    "collapsed": false
   },
   "outputs": [
    {
     "name": "stdout",
     "output_type": "stream",
     "text": [
      "('01/01/2013', 'GoalsScored')\n",
      "                          EPL  La Liga  Serie A  Bundesliga\n",
      "Month      Stat                                            \n",
      "01/01/2013 GoalsScored  117.0      121    104.0        51.0\n",
      "('01/01/2013', 'MatchesPlayed')\n",
      "                           EPL  La Liga  Serie A  Bundesliga\n",
      "Month      Stat                                             \n",
      "01/01/2013 MatchesPlayed  42.0       40     40.0        18.0\n",
      "('02/01/2013', 'GoalsScored')\n",
      "                         EPL  La Liga  Serie A  Bundesliga\n",
      "Month      Stat                                           \n",
      "02/01/2013 GoalsScored  87.0      110    100.0       101.0\n",
      "('02/01/2013', 'MatchesPlayed')\n",
      "                           EPL  La Liga  Serie A  Bundesliga\n",
      "Month      Stat                                             \n",
      "02/01/2013 MatchesPlayed  30.0       40     40.0        36.0\n",
      "('03/01/2013', 'GoalsScored')\n",
      "                         EPL  La Liga  Serie A  Bundesliga\n",
      "Month      Stat                                           \n",
      "03/01/2013 GoalsScored  91.0      101     99.0       106.0\n",
      "('03/01/2013', 'MatchesPlayed')\n",
      "                           EPL  La Liga  Serie A  Bundesliga\n",
      "Month      Stat                                             \n",
      "03/01/2013 MatchesPlayed  35.0       38     39.0        36.0\n",
      "('04/01/2013', 'GoalsScored')\n",
      "                          EPL  La Liga  Serie A  Bundesliga\n",
      "Month      Stat                                            \n",
      "04/01/2013 GoalsScored  105.0      127    102.0       104.0\n",
      "('04/01/2013', 'MatchesPlayed')\n",
      "                           EPL  La Liga  Serie A  Bundesliga\n",
      "Month      Stat                                             \n",
      "04/01/2013 MatchesPlayed  42.0       42     41.0        36.0\n",
      "('05/01/2013', 'GoalsScored')\n",
      "                         EPL  La Liga  Serie A  Bundesliga\n",
      "Month      Stat                                           \n",
      "05/01/2013 GoalsScored  96.0      109    102.0        92.0\n",
      "('05/01/2013', 'MatchesPlayed')\n",
      "                           EPL  La Liga  Serie A  Bundesliga\n",
      "Month      Stat                                             \n",
      "05/01/2013 MatchesPlayed  33.0       40     40.0        27.0\n",
      "('06/01/2013', 'GoalsScored')\n",
      "                        EPL  La Liga  Serie A  Bundesliga\n",
      "Month      Stat                                          \n",
      "06/01/2013 GoalsScored  NaN       80      NaN         NaN\n",
      "('06/02/2013', 'MatchesPlayed')\n",
      "                          EPL  La Liga  Serie A  Bundesliga\n",
      "Month      Stat                                            \n",
      "06/02/2013 MatchesPlayed  NaN       10      NaN         NaN\n",
      "('08/01/2012', 'GoalsScored')\n",
      "                         EPL  La Liga  Serie A  Bundesliga\n",
      "Month      Stat                                           \n",
      "08/01/2012 GoalsScored  57.0       60     21.0        23.0\n",
      "('08/01/2012', 'MatchesPlayed')\n",
      "                           EPL  La Liga  Serie A  Bundesliga\n",
      "Month      Stat                                             \n",
      "08/01/2012 MatchesPlayed  20.0       20     10.0        10.0\n",
      "('09/01/2012', 'GoalsScored')\n",
      "                          EPL  La Liga  Serie A  Bundesliga\n",
      "Month      Stat                                            \n",
      "09/01/2012 GoalsScored  111.0      112    133.0       135.0\n",
      "('09/01/2012', 'MatchesPlayed')\n",
      "                           EPL  La Liga  Serie A  Bundesliga\n",
      "Month      Stat                                             \n",
      "09/01/2012 MatchesPlayed  38.0       39     50.0        44.0\n",
      "('10/01/2012', 'GoalsScored')\n",
      "                         EPL  La Liga  Serie A  Bundesliga\n",
      "Month      Stat                                           \n",
      "10/01/2012 GoalsScored  95.0       88     97.0        77.0\n",
      "('10/01/2012', 'MatchesPlayed')\n",
      "                           EPL  La Liga  Serie A  Bundesliga\n",
      "Month      Stat                                             \n",
      "10/01/2012 MatchesPlayed  31.0       31     39.0        27.0\n",
      "('11/01/2012', 'GoalsScored')\n",
      "                          EPL  La Liga  Serie A  Bundesliga\n",
      "Month      Stat                                            \n",
      "11/01/2012 GoalsScored  121.0      116    120.0       137.0\n",
      "('11/01/2012', 'MatchesPlayed')\n",
      "                           EPL  La Liga  Serie A  Bundesliga\n",
      "Month      Stat                                             \n",
      "11/01/2012 MatchesPlayed  50.0       41     42.0        46.0\n",
      "('12/01/2012', 'GoalsScored')\n",
      "                          EPL  La Liga  Serie A  Bundesliga\n",
      "Month      Stat                                            \n",
      "12/01/2012 GoalsScored  183.0      109    125.0        72.0\n",
      "('12/01/2012', 'MatchesPlayed')\n",
      "                           EPL  La Liga  Serie A  Bundesliga\n",
      "Month      Stat                                             \n",
      "12/01/2012 MatchesPlayed  59.0       39     39.0        26.0\n"
     ]
    }
   ],
   "source": [
    "for name, group in month_stat_group:\n",
    "    print name # tuple\n",
    "    print group"
   ]
  },
  {
   "cell_type": "markdown",
   "metadata": {},
   "source": [
    "* indexing"
   ]
  },
  {
   "cell_type": "code",
   "execution_count": 122,
   "metadata": {
    "collapsed": false
   },
   "outputs": [],
   "source": [
    "df2 = pd.read_csv('./goal_stats_euro_leagues_2012-13.csv')"
   ]
  },
  {
   "cell_type": "code",
   "execution_count": 123,
   "metadata": {
    "collapsed": false
   },
   "outputs": [
    {
     "data": {
      "text/html": [
       "<div>\n",
       "<table border=\"1\" class=\"dataframe\">\n",
       "  <thead>\n",
       "    <tr style=\"text-align: right;\">\n",
       "      <th></th>\n",
       "      <th>Month</th>\n",
       "      <th>Stat</th>\n",
       "      <th>EPL</th>\n",
       "      <th>La Liga</th>\n",
       "      <th>Serie A</th>\n",
       "      <th>Bundesliga</th>\n",
       "    </tr>\n",
       "  </thead>\n",
       "  <tbody>\n",
       "    <tr>\n",
       "      <th>0</th>\n",
       "      <td>08/01/2012</td>\n",
       "      <td>MatchesPlayed</td>\n",
       "      <td>20.0</td>\n",
       "      <td>20</td>\n",
       "      <td>10.0</td>\n",
       "      <td>10.0</td>\n",
       "    </tr>\n",
       "    <tr>\n",
       "      <th>1</th>\n",
       "      <td>09/01/2012</td>\n",
       "      <td>MatchesPlayed</td>\n",
       "      <td>38.0</td>\n",
       "      <td>39</td>\n",
       "      <td>50.0</td>\n",
       "      <td>44.0</td>\n",
       "    </tr>\n",
       "    <tr>\n",
       "      <th>2</th>\n",
       "      <td>10/01/2012</td>\n",
       "      <td>MatchesPlayed</td>\n",
       "      <td>31.0</td>\n",
       "      <td>31</td>\n",
       "      <td>39.0</td>\n",
       "      <td>27.0</td>\n",
       "    </tr>\n",
       "    <tr>\n",
       "      <th>3</th>\n",
       "      <td>11/01/2012</td>\n",
       "      <td>MatchesPlayed</td>\n",
       "      <td>50.0</td>\n",
       "      <td>41</td>\n",
       "      <td>42.0</td>\n",
       "      <td>46.0</td>\n",
       "    </tr>\n",
       "    <tr>\n",
       "      <th>4</th>\n",
       "      <td>12/01/2012</td>\n",
       "      <td>MatchesPlayed</td>\n",
       "      <td>59.0</td>\n",
       "      <td>39</td>\n",
       "      <td>39.0</td>\n",
       "      <td>26.0</td>\n",
       "    </tr>\n",
       "  </tbody>\n",
       "</table>\n",
       "</div>"
      ],
      "text/plain": [
       "        Month           Stat   EPL  La Liga  Serie A  Bundesliga\n",
       "0  08/01/2012  MatchesPlayed  20.0       20     10.0        10.0\n",
       "1  09/01/2012  MatchesPlayed  38.0       39     50.0        44.0\n",
       "2  10/01/2012  MatchesPlayed  31.0       31     39.0        27.0\n",
       "3  11/01/2012  MatchesPlayed  50.0       41     42.0        46.0\n",
       "4  12/01/2012  MatchesPlayed  59.0       39     39.0        26.0"
      ]
     },
     "execution_count": 123,
     "metadata": {},
     "output_type": "execute_result"
    }
   ],
   "source": [
    "df2.head()"
   ]
  },
  {
   "cell_type": "code",
   "execution_count": 124,
   "metadata": {
    "collapsed": false
   },
   "outputs": [
    {
     "data": {
      "text/plain": [
       "Month            08/01/2012\n",
       "Stat          MatchesPlayed\n",
       "EPL                      20\n",
       "La Liga                  20\n",
       "Serie A                  10\n",
       "Bundesliga               10\n",
       "Name: 0, dtype: object"
      ]
     },
     "execution_count": 124,
     "metadata": {},
     "output_type": "execute_result"
    }
   ],
   "source": [
    "df2.loc[0] # 0은 인덱스를 의미, 여기서는 단순한 순서"
   ]
  },
  {
   "cell_type": "code",
   "execution_count": 125,
   "metadata": {
    "collapsed": false
   },
   "outputs": [
    {
     "data": {
      "text/html": [
       "<div>\n",
       "<table border=\"1\" class=\"dataframe\">\n",
       "  <thead>\n",
       "    <tr style=\"text-align: right;\">\n",
       "      <th></th>\n",
       "      <th>Stat</th>\n",
       "      <th>EPL</th>\n",
       "      <th>La Liga</th>\n",
       "      <th>Serie A</th>\n",
       "      <th>Bundesliga</th>\n",
       "    </tr>\n",
       "    <tr>\n",
       "      <th>Month</th>\n",
       "      <th></th>\n",
       "      <th></th>\n",
       "      <th></th>\n",
       "      <th></th>\n",
       "      <th></th>\n",
       "    </tr>\n",
       "  </thead>\n",
       "  <tbody>\n",
       "    <tr>\n",
       "      <th>08/01/2012</th>\n",
       "      <td>MatchesPlayed</td>\n",
       "      <td>20.0</td>\n",
       "      <td>20</td>\n",
       "      <td>10.0</td>\n",
       "      <td>10.0</td>\n",
       "    </tr>\n",
       "    <tr>\n",
       "      <th>09/01/2012</th>\n",
       "      <td>MatchesPlayed</td>\n",
       "      <td>38.0</td>\n",
       "      <td>39</td>\n",
       "      <td>50.0</td>\n",
       "      <td>44.0</td>\n",
       "    </tr>\n",
       "    <tr>\n",
       "      <th>10/01/2012</th>\n",
       "      <td>MatchesPlayed</td>\n",
       "      <td>31.0</td>\n",
       "      <td>31</td>\n",
       "      <td>39.0</td>\n",
       "      <td>27.0</td>\n",
       "    </tr>\n",
       "    <tr>\n",
       "      <th>11/01/2012</th>\n",
       "      <td>MatchesPlayed</td>\n",
       "      <td>50.0</td>\n",
       "      <td>41</td>\n",
       "      <td>42.0</td>\n",
       "      <td>46.0</td>\n",
       "    </tr>\n",
       "    <tr>\n",
       "      <th>12/01/2012</th>\n",
       "      <td>MatchesPlayed</td>\n",
       "      <td>59.0</td>\n",
       "      <td>39</td>\n",
       "      <td>39.0</td>\n",
       "      <td>26.0</td>\n",
       "    </tr>\n",
       "  </tbody>\n",
       "</table>\n",
       "</div>"
      ],
      "text/plain": [
       "                     Stat   EPL  La Liga  Serie A  Bundesliga\n",
       "Month                                                        \n",
       "08/01/2012  MatchesPlayed  20.0       20     10.0        10.0\n",
       "09/01/2012  MatchesPlayed  38.0       39     50.0        44.0\n",
       "10/01/2012  MatchesPlayed  31.0       31     39.0        27.0\n",
       "11/01/2012  MatchesPlayed  50.0       41     42.0        46.0\n",
       "12/01/2012  MatchesPlayed  59.0       39     39.0        26.0"
      ]
     },
     "execution_count": 125,
     "metadata": {},
     "output_type": "execute_result"
    }
   ],
   "source": [
    "df2 = df2.set_index('Month')\n",
    "df2.head()"
   ]
  },
  {
   "cell_type": "code",
   "execution_count": 139,
   "metadata": {
    "collapsed": false
   },
   "outputs": [
    {
     "name": "stdout",
     "output_type": "stream",
     "text": [
      "                     Stat   EPL  La Liga  Serie A  Bundesliga\n",
      "Month                                                        \n",
      "08/01/2012  MatchesPlayed  20.0       20     10.0        10.0\n",
      "08/01/2012    GoalsScored  57.0       60     21.0        23.0\n",
      "\n",
      "Stat          MatchesPlayed\n",
      "EPL                      20\n",
      "La Liga                  20\n",
      "Serie A                  10\n",
      "Bundesliga               10\n",
      "Name: 08/01/2012, dtype: object\n"
     ]
    }
   ],
   "source": [
    "# index가 Month로 바뀌었으므로\n",
    "print df2.loc['08/01/2012']\n",
    "print\n",
    "print df2.iloc[0] #goalsscored를 놓치네"
   ]
  },
  {
   "cell_type": "code",
   "execution_count": 140,
   "metadata": {
    "collapsed": false
   },
   "outputs": [
    {
     "data": {
      "text/plain": [
       "Stat          MatchesPlayed\n",
       "EPL                      20\n",
       "La Liga                  20\n",
       "Serie A                  10\n",
       "Bundesliga               10\n",
       "Name: 08/01/2012, dtype: object"
      ]
     },
     "execution_count": 140,
     "metadata": {},
     "output_type": "execute_result"
    }
   ],
   "source": [
    "# 0번째\n",
    "df2.iloc[0]"
   ]
  },
  {
   "cell_type": "code",
   "execution_count": 141,
   "metadata": {
    "collapsed": true
   },
   "outputs": [],
   "source": [
    "df2 = df2.reset_index()"
   ]
  },
  {
   "cell_type": "markdown",
   "metadata": {},
   "source": [
    "* multiple index"
   ]
  },
  {
   "cell_type": "code",
   "execution_count": 142,
   "metadata": {
    "collapsed": false
   },
   "outputs": [
    {
     "data": {
      "text/html": [
       "<div>\n",
       "<table border=\"1\" class=\"dataframe\">\n",
       "  <thead>\n",
       "    <tr style=\"text-align: right;\">\n",
       "      <th></th>\n",
       "      <th></th>\n",
       "      <th>EPL</th>\n",
       "      <th>La Liga</th>\n",
       "      <th>Serie A</th>\n",
       "      <th>Bundesliga</th>\n",
       "    </tr>\n",
       "    <tr>\n",
       "      <th>Month</th>\n",
       "      <th>Stat</th>\n",
       "      <th></th>\n",
       "      <th></th>\n",
       "      <th></th>\n",
       "      <th></th>\n",
       "    </tr>\n",
       "  </thead>\n",
       "  <tbody>\n",
       "    <tr>\n",
       "      <th>08/01/2012</th>\n",
       "      <th>MatchesPlayed</th>\n",
       "      <td>20.0</td>\n",
       "      <td>20</td>\n",
       "      <td>10.0</td>\n",
       "      <td>10.0</td>\n",
       "    </tr>\n",
       "    <tr>\n",
       "      <th>09/01/2012</th>\n",
       "      <th>MatchesPlayed</th>\n",
       "      <td>38.0</td>\n",
       "      <td>39</td>\n",
       "      <td>50.0</td>\n",
       "      <td>44.0</td>\n",
       "    </tr>\n",
       "    <tr>\n",
       "      <th>10/01/2012</th>\n",
       "      <th>MatchesPlayed</th>\n",
       "      <td>31.0</td>\n",
       "      <td>31</td>\n",
       "      <td>39.0</td>\n",
       "      <td>27.0</td>\n",
       "    </tr>\n",
       "    <tr>\n",
       "      <th>11/01/2012</th>\n",
       "      <th>MatchesPlayed</th>\n",
       "      <td>50.0</td>\n",
       "      <td>41</td>\n",
       "      <td>42.0</td>\n",
       "      <td>46.0</td>\n",
       "    </tr>\n",
       "    <tr>\n",
       "      <th>12/01/2012</th>\n",
       "      <th>MatchesPlayed</th>\n",
       "      <td>59.0</td>\n",
       "      <td>39</td>\n",
       "      <td>39.0</td>\n",
       "      <td>26.0</td>\n",
       "    </tr>\n",
       "  </tbody>\n",
       "</table>\n",
       "</div>"
      ],
      "text/plain": [
       "                           EPL  La Liga  Serie A  Bundesliga\n",
       "Month      Stat                                             \n",
       "08/01/2012 MatchesPlayed  20.0       20     10.0        10.0\n",
       "09/01/2012 MatchesPlayed  38.0       39     50.0        44.0\n",
       "10/01/2012 MatchesPlayed  31.0       31     39.0        27.0\n",
       "11/01/2012 MatchesPlayed  50.0       41     42.0        46.0\n",
       "12/01/2012 MatchesPlayed  59.0       39     39.0        26.0"
      ]
     },
     "execution_count": 142,
     "metadata": {},
     "output_type": "execute_result"
    }
   ],
   "source": [
    "df2 = df2.set_index(['Month', 'Stat'])\n",
    "df2.head()"
   ]
  },
  {
   "cell_type": "code",
   "execution_count": 143,
   "metadata": {
    "collapsed": false
   },
   "outputs": [
    {
     "name": "stdout",
     "output_type": "stream",
     "text": [
      "EPL           20.0\n",
      "La Liga       20.0\n",
      "Serie A       10.0\n",
      "Bundesliga    10.0\n",
      "Name: (08/01/2012, MatchesPlayed), dtype: float64\n",
      "                           EPL  La Liga  Serie A  Bundesliga\n",
      "Month      Stat                                             \n",
      "08/01/2012 MatchesPlayed  20.0       20     10.0        10.0\n",
      "09/01/2012 MatchesPlayed  38.0       39     50.0        44.0\n"
     ]
    }
   ],
   "source": [
    "print df2.iloc[0]\n",
    "print df2.iloc[[0,1]]"
   ]
  },
  {
   "cell_type": "code",
   "execution_count": 144,
   "metadata": {
    "collapsed": false
   },
   "outputs": [
    {
     "data": {
      "text/plain": [
       "EPL           20.0\n",
       "La Liga       20.0\n",
       "Serie A       10.0\n",
       "Bundesliga    10.0\n",
       "Name: (08/01/2012, MatchesPlayed), dtype: float64"
      ]
     },
     "execution_count": 144,
     "metadata": {},
     "output_type": "execute_result"
    }
   ],
   "source": [
    "# multi index의 경우 ','로 구별하여 인덱싱 가능\n",
    "df2.loc['08/01/2012', 'MatchesPlayed']"
   ]
  },
  {
   "cell_type": "code",
   "execution_count": 145,
   "metadata": {
    "collapsed": false
   },
   "outputs": [
    {
     "data": {
      "text/plain": [
       "EPL           20.0\n",
       "La Liga       20.0\n",
       "Serie A       10.0\n",
       "Bundesliga    10.0\n",
       "Name: (08/01/2012, MatchesPlayed), dtype: float64"
      ]
     },
     "execution_count": 145,
     "metadata": {},
     "output_type": "execute_result"
    }
   ],
   "source": [
    "df2.ix['08/01/2012', 'MatchesPlayed']"
   ]
  },
  {
   "cell_type": "markdown",
   "metadata": {},
   "source": [
    "* grouping with multi index"
   ]
  },
  {
   "cell_type": "code",
   "execution_count": 146,
   "metadata": {
    "collapsed": false
   },
   "outputs": [
    {
     "data": {
      "text/html": [
       "<div>\n",
       "<table border=\"1\" class=\"dataframe\">\n",
       "  <thead>\n",
       "    <tr style=\"text-align: right;\">\n",
       "      <th></th>\n",
       "      <th></th>\n",
       "      <th>EPL</th>\n",
       "      <th>La Liga</th>\n",
       "      <th>Serie A</th>\n",
       "      <th>Bundesliga</th>\n",
       "    </tr>\n",
       "    <tr>\n",
       "      <th>Month</th>\n",
       "      <th>Stat</th>\n",
       "      <th></th>\n",
       "      <th></th>\n",
       "      <th></th>\n",
       "      <th></th>\n",
       "    </tr>\n",
       "  </thead>\n",
       "  <tbody>\n",
       "    <tr>\n",
       "      <th>08/01/2012</th>\n",
       "      <th>MatchesPlayed</th>\n",
       "      <td>20.0</td>\n",
       "      <td>20</td>\n",
       "      <td>10.0</td>\n",
       "      <td>10.0</td>\n",
       "    </tr>\n",
       "    <tr>\n",
       "      <th>09/01/2012</th>\n",
       "      <th>MatchesPlayed</th>\n",
       "      <td>38.0</td>\n",
       "      <td>39</td>\n",
       "      <td>50.0</td>\n",
       "      <td>44.0</td>\n",
       "    </tr>\n",
       "    <tr>\n",
       "      <th>10/01/2012</th>\n",
       "      <th>MatchesPlayed</th>\n",
       "      <td>31.0</td>\n",
       "      <td>31</td>\n",
       "      <td>39.0</td>\n",
       "      <td>27.0</td>\n",
       "    </tr>\n",
       "    <tr>\n",
       "      <th>11/01/2012</th>\n",
       "      <th>MatchesPlayed</th>\n",
       "      <td>50.0</td>\n",
       "      <td>41</td>\n",
       "      <td>42.0</td>\n",
       "      <td>46.0</td>\n",
       "    </tr>\n",
       "    <tr>\n",
       "      <th>12/01/2012</th>\n",
       "      <th>MatchesPlayed</th>\n",
       "      <td>59.0</td>\n",
       "      <td>39</td>\n",
       "      <td>39.0</td>\n",
       "      <td>26.0</td>\n",
       "    </tr>\n",
       "  </tbody>\n",
       "</table>\n",
       "</div>"
      ],
      "text/plain": [
       "                           EPL  La Liga  Serie A  Bundesliga\n",
       "Month      Stat                                             \n",
       "08/01/2012 MatchesPlayed  20.0       20     10.0        10.0\n",
       "09/01/2012 MatchesPlayed  38.0       39     50.0        44.0\n",
       "10/01/2012 MatchesPlayed  31.0       31     39.0        27.0\n",
       "11/01/2012 MatchesPlayed  50.0       41     42.0        46.0\n",
       "12/01/2012 MatchesPlayed  59.0       39     39.0        26.0"
      ]
     },
     "execution_count": 146,
     "metadata": {},
     "output_type": "execute_result"
    }
   ],
   "source": [
    "df2.head()"
   ]
  },
  {
   "cell_type": "code",
   "execution_count": 149,
   "metadata": {
    "collapsed": false
   },
   "outputs": [
    {
     "name": "stdout",
     "output_type": "stream",
     "text": [
      "\n",
      "GoalsScored\n",
      "                          EPL  La Liga  Serie A  Bundesliga\n",
      "Month      Stat                                            \n",
      "08/01/2012 GoalsScored   57.0       60     21.0        23.0\n",
      "09/01/2012 GoalsScored  111.0      112    133.0       135.0\n",
      "10/01/2012 GoalsScored   95.0       88     97.0        77.0\n",
      "11/01/2012 GoalsScored  121.0      116    120.0       137.0\n",
      "12/01/2012 GoalsScored  183.0      109    125.0        72.0\n",
      "01/01/2013 GoalsScored  117.0      121    104.0        51.0\n",
      "02/01/2013 GoalsScored   87.0      110    100.0       101.0\n",
      "03/01/2013 GoalsScored   91.0      101     99.0       106.0\n",
      "04/01/2013 GoalsScored  105.0      127    102.0       104.0\n",
      "05/01/2013 GoalsScored   96.0      109    102.0        92.0\n",
      "06/01/2013 GoalsScored    NaN       80      NaN         NaN\n",
      "\n",
      "MatchesPlayed\n",
      "                           EPL  La Liga  Serie A  Bundesliga\n",
      "Month      Stat                                             \n",
      "08/01/2012 MatchesPlayed  20.0       20     10.0        10.0\n",
      "09/01/2012 MatchesPlayed  38.0       39     50.0        44.0\n",
      "10/01/2012 MatchesPlayed  31.0       31     39.0        27.0\n",
      "11/01/2012 MatchesPlayed  50.0       41     42.0        46.0\n",
      "12/01/2012 MatchesPlayed  59.0       39     39.0        26.0\n",
      "01/01/2013 MatchesPlayed  42.0       40     40.0        18.0\n",
      "02/01/2013 MatchesPlayed  30.0       40     40.0        36.0\n",
      "03/01/2013 MatchesPlayed  35.0       38     39.0        36.0\n",
      "04/01/2013 MatchesPlayed  42.0       42     41.0        36.0\n",
      "05/01/2013 MatchesPlayed  33.0       40     40.0        27.0\n",
      "06/02/2013 MatchesPlayed   NaN       10      NaN         NaN\n"
     ]
    }
   ],
   "source": [
    "stat_group = df2.groupby(level = 'Stat')\n",
    "for name, group in stat_group:\n",
    "    print\n",
    "    print name\n",
    "    print group"
   ]
  },
  {
   "cell_type": "code",
   "execution_count": 150,
   "metadata": {
    "collapsed": false
   },
   "outputs": [
    {
     "data": {
      "text/html": [
       "<div>\n",
       "<table border=\"1\" class=\"dataframe\">\n",
       "  <thead>\n",
       "    <tr style=\"text-align: right;\">\n",
       "      <th></th>\n",
       "      <th>EPL</th>\n",
       "      <th>La Liga</th>\n",
       "      <th>Serie A</th>\n",
       "      <th>Bundesliga</th>\n",
       "    </tr>\n",
       "    <tr>\n",
       "      <th>Stat</th>\n",
       "      <th></th>\n",
       "      <th></th>\n",
       "      <th></th>\n",
       "      <th></th>\n",
       "    </tr>\n",
       "  </thead>\n",
       "  <tbody>\n",
       "    <tr>\n",
       "      <th>GoalsScored</th>\n",
       "      <td>1063.0</td>\n",
       "      <td>1133</td>\n",
       "      <td>1003.0</td>\n",
       "      <td>898.0</td>\n",
       "    </tr>\n",
       "    <tr>\n",
       "      <th>MatchesPlayed</th>\n",
       "      <td>380.0</td>\n",
       "      <td>380</td>\n",
       "      <td>380.0</td>\n",
       "      <td>306.0</td>\n",
       "    </tr>\n",
       "  </tbody>\n",
       "</table>\n",
       "</div>"
      ],
      "text/plain": [
       "                  EPL  La Liga  Serie A  Bundesliga\n",
       "Stat                                               \n",
       "GoalsScored    1063.0     1133   1003.0       898.0\n",
       "MatchesPlayed   380.0      380    380.0       306.0"
      ]
     },
     "execution_count": 150,
     "metadata": {},
     "output_type": "execute_result"
    }
   ],
   "source": [
    "# group의 sum method를 이용\n",
    "# 각 리그당 경기 수와 골을 나타냄\n",
    "stat_group.sum()"
   ]
  },
  {
   "cell_type": "code",
   "execution_count": 122,
   "metadata": {
    "collapsed": false
   },
   "outputs": [
    {
     "data": {
      "text/html": [
       "<div>\n",
       "<table border=\"1\" class=\"dataframe\">\n",
       "  <thead>\n",
       "    <tr style=\"text-align: right;\">\n",
       "      <th></th>\n",
       "      <th>EPL</th>\n",
       "      <th>La Liga</th>\n",
       "      <th>Serie A</th>\n",
       "      <th>Bundesliga</th>\n",
       "    </tr>\n",
       "    <tr>\n",
       "      <th>Stat</th>\n",
       "      <th></th>\n",
       "      <th></th>\n",
       "      <th></th>\n",
       "      <th></th>\n",
       "    </tr>\n",
       "  </thead>\n",
       "  <tbody>\n",
       "    <tr>\n",
       "      <th>GoalsScored</th>\n",
       "      <td>1063.0</td>\n",
       "      <td>1133</td>\n",
       "      <td>1003.0</td>\n",
       "      <td>898.0</td>\n",
       "    </tr>\n",
       "    <tr>\n",
       "      <th>MatchesPlayed</th>\n",
       "      <td>380.0</td>\n",
       "      <td>380</td>\n",
       "      <td>380.0</td>\n",
       "      <td>306.0</td>\n",
       "    </tr>\n",
       "  </tbody>\n",
       "</table>\n",
       "</div>"
      ],
      "text/plain": [
       "                  EPL  La Liga  Serie A  Bundesliga\n",
       "Stat                                               \n",
       "GoalsScored    1063.0     1133   1003.0       898.0\n",
       "MatchesPlayed   380.0      380    380.0       306.0"
      ]
     },
     "execution_count": 122,
     "metadata": {},
     "output_type": "execute_result"
    }
   ],
   "source": [
    "# 혹은 level을 이용하여 dataframe level에서 계산 가능\n",
    "df2.sum(level = 'Stat')"
   ]
  },
  {
   "cell_type": "code",
   "execution_count": 154,
   "metadata": {
    "collapsed": false
   },
   "outputs": [
    {
     "data": {
      "text/html": [
       "<div>\n",
       "<table border=\"1\" class=\"dataframe\">\n",
       "  <thead>\n",
       "    <tr style=\"text-align: right;\">\n",
       "      <th></th>\n",
       "      <th>EPL</th>\n",
       "      <th>La Liga</th>\n",
       "      <th>Serie A</th>\n",
       "      <th>Bundesliga</th>\n",
       "    </tr>\n",
       "    <tr>\n",
       "      <th>Stat</th>\n",
       "      <th></th>\n",
       "      <th></th>\n",
       "      <th></th>\n",
       "      <th></th>\n",
       "    </tr>\n",
       "  </thead>\n",
       "  <tbody>\n",
       "    <tr>\n",
       "      <th>GoalsScored</th>\n",
       "      <td>1063.0</td>\n",
       "      <td>1133</td>\n",
       "      <td>1003.0</td>\n",
       "      <td>898.0</td>\n",
       "    </tr>\n",
       "    <tr>\n",
       "      <th>MatchesPlayed</th>\n",
       "      <td>380.0</td>\n",
       "      <td>380</td>\n",
       "      <td>380.0</td>\n",
       "      <td>306.0</td>\n",
       "    </tr>\n",
       "  </tbody>\n",
       "</table>\n",
       "</div>"
      ],
      "text/plain": [
       "                  EPL  La Liga  Serie A  Bundesliga\n",
       "Stat                                               \n",
       "GoalsScored    1063.0     1133   1003.0       898.0\n",
       "MatchesPlayed   380.0      380    380.0       306.0"
      ]
     },
     "execution_count": 154,
     "metadata": {},
     "output_type": "execute_result"
    }
   ],
   "source": [
    "total_goal_df = stat_group.sum()\n",
    "total_goal_df.head()"
   ]
  },
  {
   "cell_type": "code",
   "execution_count": 157,
   "metadata": {
    "collapsed": false
   },
   "outputs": [
    {
     "data": {
      "text/plain": [
       "EPL           2.797368\n",
       "La Liga       2.981579\n",
       "Serie A       2.639474\n",
       "Bundesliga    2.934641\n",
       "dtype: float64"
      ]
     },
     "execution_count": 157,
     "metadata": {},
     "output_type": "execute_result"
    }
   ],
   "source": [
    "total_goal_df.ix[\"GoalsScored\"] / total_goal_df.ix[\"MatchesPlayed\"]"
   ]
  },
  {
   "cell_type": "markdown",
   "metadata": {},
   "source": [
    "* 각 리그의 경기당 평균골 구하기"
   ]
  },
  {
   "cell_type": "code",
   "execution_count": 142,
   "metadata": {
    "collapsed": false
   },
   "outputs": [
    {
     "data": {
      "text/plain": [
       "EPL           2.797368\n",
       "La Liga       2.981579\n",
       "Serie A       2.639474\n",
       "Bundesliga    2.934641\n",
       "dtype: float64"
      ]
     },
     "execution_count": 142,
     "metadata": {},
     "output_type": "execute_result"
    }
   ],
   "source": [
    "total_goal_df.ix['GoalsScored'] / total_goal_df.ix['MatchesPlayed']"
   ]
  },
  {
   "cell_type": "code",
   "execution_count": 143,
   "metadata": {
    "collapsed": false
   },
   "outputs": [
    {
     "data": {
      "text/plain": [
       "EPL           2.797368\n",
       "La Liga       2.981579\n",
       "Serie A       2.639474\n",
       "Bundesliga    2.934641\n",
       "dtype: float64"
      ]
     },
     "execution_count": 143,
     "metadata": {},
     "output_type": "execute_result"
    }
   ],
   "source": [
    "goals_per_game_df = total_goal_df.ix['GoalsScored'] / total_goal_df.ix['MatchesPlayed']\n",
    "goals_per_game_df"
   ]
  },
  {
   "cell_type": "code",
   "execution_count": 144,
   "metadata": {
    "collapsed": false
   },
   "outputs": [
    {
     "data": {
      "text/html": [
       "<div>\n",
       "<table border=\"1\" class=\"dataframe\">\n",
       "  <thead>\n",
       "    <tr style=\"text-align: right;\">\n",
       "      <th></th>\n",
       "      <th>EPL</th>\n",
       "      <th>La Liga</th>\n",
       "      <th>Serie A</th>\n",
       "      <th>Bundesliga</th>\n",
       "    </tr>\n",
       "  </thead>\n",
       "  <tbody>\n",
       "    <tr>\n",
       "      <th>0</th>\n",
       "      <td>2.797368</td>\n",
       "      <td>2.981579</td>\n",
       "      <td>2.639474</td>\n",
       "      <td>2.934641</td>\n",
       "    </tr>\n",
       "  </tbody>\n",
       "</table>\n",
       "</div>"
      ],
      "text/plain": [
       "        EPL   La Liga   Serie A  Bundesliga\n",
       "0  2.797368  2.981579  2.639474    2.934641"
      ]
     },
     "execution_count": 144,
     "metadata": {},
     "output_type": "execute_result"
    }
   ],
   "source": [
    "goals_per_game_df = pd.DataFrame(goals_per_game_df).T #transpose\n",
    "goals_per_game_df"
   ]
  },
  {
   "cell_type": "markdown",
   "metadata": {},
   "source": [
    "* rename index"
   ]
  },
  {
   "cell_type": "code",
   "execution_count": 145,
   "metadata": {
    "collapsed": false
   },
   "outputs": [
    {
     "data": {
      "text/html": [
       "<div>\n",
       "<table border=\"1\" class=\"dataframe\">\n",
       "  <thead>\n",
       "    <tr style=\"text-align: right;\">\n",
       "      <th></th>\n",
       "      <th>EPL</th>\n",
       "      <th>La Liga</th>\n",
       "      <th>Serie A</th>\n",
       "      <th>Bundesliga</th>\n",
       "    </tr>\n",
       "  </thead>\n",
       "  <tbody>\n",
       "    <tr>\n",
       "      <th>goals per game</th>\n",
       "      <td>2.797368</td>\n",
       "      <td>2.981579</td>\n",
       "      <td>2.639474</td>\n",
       "      <td>2.934641</td>\n",
       "    </tr>\n",
       "  </tbody>\n",
       "</table>\n",
       "</div>"
      ],
      "text/plain": [
       "                     EPL   La Liga   Serie A  Bundesliga\n",
       "goals per game  2.797368  2.981579  2.639474    2.934641"
      ]
     },
     "execution_count": 145,
     "metadata": {},
     "output_type": "execute_result"
    }
   ],
   "source": [
    "goals_per_game_df = goals_per_game_df.rename(index = {0 : 'goals per game'})\n",
    "goals_per_game_df"
   ]
  },
  {
   "cell_type": "code",
   "execution_count": 148,
   "metadata": {
    "collapsed": false
   },
   "outputs": [
    {
     "data": {
      "text/html": [
       "<div>\n",
       "<table border=\"1\" class=\"dataframe\">\n",
       "  <thead>\n",
       "    <tr style=\"text-align: right;\">\n",
       "      <th></th>\n",
       "      <th>EPL</th>\n",
       "      <th>La Liga</th>\n",
       "      <th>Serie A</th>\n",
       "      <th>Bundesliga</th>\n",
       "    </tr>\n",
       "  </thead>\n",
       "  <tbody>\n",
       "    <tr>\n",
       "      <th>GoalsScored</th>\n",
       "      <td>1063.00</td>\n",
       "      <td>1133.00</td>\n",
       "      <td>1003.00</td>\n",
       "      <td>898.00</td>\n",
       "    </tr>\n",
       "    <tr>\n",
       "      <th>MatchesPlayed</th>\n",
       "      <td>380.00</td>\n",
       "      <td>380.00</td>\n",
       "      <td>380.00</td>\n",
       "      <td>306.00</td>\n",
       "    </tr>\n",
       "    <tr>\n",
       "      <th>goals per game</th>\n",
       "      <td>2.80</td>\n",
       "      <td>2.98</td>\n",
       "      <td>2.64</td>\n",
       "      <td>2.93</td>\n",
       "    </tr>\n",
       "  </tbody>\n",
       "</table>\n",
       "</div>"
      ],
      "text/plain": [
       "                   EPL  La Liga  Serie A  Bundesliga\n",
       "GoalsScored    1063.00  1133.00  1003.00      898.00\n",
       "MatchesPlayed   380.00   380.00   380.00      306.00\n",
       "goals per game    2.80     2.98     2.64        2.93"
      ]
     },
     "execution_count": 148,
     "metadata": {},
     "output_type": "execute_result"
    }
   ],
   "source": [
    "total_goal_df.append(goals_per_game_df)"
   ]
  },
  {
   "cell_type": "markdown",
   "metadata": {},
   "source": [
    "* 소수점 2자리까지 출력하도록 설정"
   ]
  },
  {
   "cell_type": "code",
   "execution_count": 149,
   "metadata": {
    "collapsed": false
   },
   "outputs": [
    {
     "data": {
      "text/html": [
       "<div>\n",
       "<table border=\"1\" class=\"dataframe\">\n",
       "  <thead>\n",
       "    <tr style=\"text-align: right;\">\n",
       "      <th></th>\n",
       "      <th>EPL</th>\n",
       "      <th>La Liga</th>\n",
       "      <th>Serie A</th>\n",
       "      <th>Bundesliga</th>\n",
       "    </tr>\n",
       "  </thead>\n",
       "  <tbody>\n",
       "    <tr>\n",
       "      <th>GoalsScored</th>\n",
       "      <td>1063.00</td>\n",
       "      <td>1133.00</td>\n",
       "      <td>1003.00</td>\n",
       "      <td>898.00</td>\n",
       "    </tr>\n",
       "    <tr>\n",
       "      <th>MatchesPlayed</th>\n",
       "      <td>380.00</td>\n",
       "      <td>380.00</td>\n",
       "      <td>380.00</td>\n",
       "      <td>306.00</td>\n",
       "    </tr>\n",
       "    <tr>\n",
       "      <th>goals per game</th>\n",
       "      <td>2.80</td>\n",
       "      <td>2.98</td>\n",
       "      <td>2.64</td>\n",
       "      <td>2.93</td>\n",
       "    </tr>\n",
       "  </tbody>\n",
       "</table>\n",
       "</div>"
      ],
      "text/plain": [
       "                   EPL  La Liga  Serie A  Bundesliga\n",
       "GoalsScored    1063.00  1133.00  1003.00      898.00\n",
       "MatchesPlayed   380.00   380.00   380.00      306.00\n",
       "goals per game    2.80     2.98     2.64        2.93"
      ]
     },
     "execution_count": 149,
     "metadata": {},
     "output_type": "execute_result"
    }
   ],
   "source": [
    "pd.options.display.float_format='{:.2f}'.format\n",
    "total_goal_df.append(goals_per_game_df)"
   ]
  },
  {
   "cell_type": "markdown",
   "metadata": {},
   "source": [
    "* formating\n",
    "  - https://pyformat.info/ 참고. 설명 매우 자세함"
   ]
  },
  {
   "cell_type": "markdown",
   "metadata": {},
   "source": [
    "* aggregate method"
   ]
  },
  {
   "cell_type": "code",
   "execution_count": 158,
   "metadata": {
    "collapsed": false
   },
   "outputs": [
    {
     "data": {
      "text/html": [
       "<div>\n",
       "<table border=\"1\" class=\"dataframe\">\n",
       "  <thead>\n",
       "    <tr style=\"text-align: right;\">\n",
       "      <th></th>\n",
       "      <th></th>\n",
       "      <th>EPL</th>\n",
       "      <th>La Liga</th>\n",
       "      <th>Serie A</th>\n",
       "      <th>Bundesliga</th>\n",
       "    </tr>\n",
       "    <tr>\n",
       "      <th>Month</th>\n",
       "      <th>Stat</th>\n",
       "      <th></th>\n",
       "      <th></th>\n",
       "      <th></th>\n",
       "      <th></th>\n",
       "    </tr>\n",
       "  </thead>\n",
       "  <tbody>\n",
       "    <tr>\n",
       "      <th>08/01/2012</th>\n",
       "      <th>MatchesPlayed</th>\n",
       "      <td>20.0</td>\n",
       "      <td>20</td>\n",
       "      <td>10.0</td>\n",
       "      <td>10.0</td>\n",
       "    </tr>\n",
       "    <tr>\n",
       "      <th>09/01/2012</th>\n",
       "      <th>MatchesPlayed</th>\n",
       "      <td>38.0</td>\n",
       "      <td>39</td>\n",
       "      <td>50.0</td>\n",
       "      <td>44.0</td>\n",
       "    </tr>\n",
       "    <tr>\n",
       "      <th>10/01/2012</th>\n",
       "      <th>MatchesPlayed</th>\n",
       "      <td>31.0</td>\n",
       "      <td>31</td>\n",
       "      <td>39.0</td>\n",
       "      <td>27.0</td>\n",
       "    </tr>\n",
       "    <tr>\n",
       "      <th>11/01/2012</th>\n",
       "      <th>MatchesPlayed</th>\n",
       "      <td>50.0</td>\n",
       "      <td>41</td>\n",
       "      <td>42.0</td>\n",
       "      <td>46.0</td>\n",
       "    </tr>\n",
       "    <tr>\n",
       "      <th>12/01/2012</th>\n",
       "      <th>MatchesPlayed</th>\n",
       "      <td>59.0</td>\n",
       "      <td>39</td>\n",
       "      <td>39.0</td>\n",
       "      <td>26.0</td>\n",
       "    </tr>\n",
       "    <tr>\n",
       "      <th>08/01/2012</th>\n",
       "      <th>GoalsScored</th>\n",
       "      <td>57.0</td>\n",
       "      <td>60</td>\n",
       "      <td>21.0</td>\n",
       "      <td>23.0</td>\n",
       "    </tr>\n",
       "    <tr>\n",
       "      <th>09/01/2012</th>\n",
       "      <th>GoalsScored</th>\n",
       "      <td>111.0</td>\n",
       "      <td>112</td>\n",
       "      <td>133.0</td>\n",
       "      <td>135.0</td>\n",
       "    </tr>\n",
       "    <tr>\n",
       "      <th>10/01/2012</th>\n",
       "      <th>GoalsScored</th>\n",
       "      <td>95.0</td>\n",
       "      <td>88</td>\n",
       "      <td>97.0</td>\n",
       "      <td>77.0</td>\n",
       "    </tr>\n",
       "    <tr>\n",
       "      <th>11/01/2012</th>\n",
       "      <th>GoalsScored</th>\n",
       "      <td>121.0</td>\n",
       "      <td>116</td>\n",
       "      <td>120.0</td>\n",
       "      <td>137.0</td>\n",
       "    </tr>\n",
       "    <tr>\n",
       "      <th>12/01/2012</th>\n",
       "      <th>GoalsScored</th>\n",
       "      <td>183.0</td>\n",
       "      <td>109</td>\n",
       "      <td>125.0</td>\n",
       "      <td>72.0</td>\n",
       "    </tr>\n",
       "  </tbody>\n",
       "</table>\n",
       "</div>"
      ],
      "text/plain": [
       "                            EPL  La Liga  Serie A  Bundesliga\n",
       "Month      Stat                                              \n",
       "08/01/2012 MatchesPlayed   20.0       20     10.0        10.0\n",
       "09/01/2012 MatchesPlayed   38.0       39     50.0        44.0\n",
       "10/01/2012 MatchesPlayed   31.0       31     39.0        27.0\n",
       "11/01/2012 MatchesPlayed   50.0       41     42.0        46.0\n",
       "12/01/2012 MatchesPlayed   59.0       39     39.0        26.0\n",
       "08/01/2012 GoalsScored     57.0       60     21.0        23.0\n",
       "09/01/2012 GoalsScored    111.0      112    133.0       135.0\n",
       "10/01/2012 GoalsScored     95.0       88     97.0        77.0\n",
       "11/01/2012 GoalsScored    121.0      116    120.0       137.0\n",
       "12/01/2012 GoalsScored    183.0      109    125.0        72.0"
      ]
     },
     "execution_count": 158,
     "metadata": {},
     "output_type": "execute_result"
    }
   ],
   "source": [
    "stat_group.head()"
   ]
  },
  {
   "cell_type": "code",
   "execution_count": 159,
   "metadata": {
    "collapsed": false
   },
   "outputs": [
    {
     "data": {
      "text/html": [
       "<div>\n",
       "<table border=\"1\" class=\"dataframe\">\n",
       "  <thead>\n",
       "    <tr style=\"text-align: right;\">\n",
       "      <th></th>\n",
       "      <th>EPL</th>\n",
       "      <th>La Liga</th>\n",
       "      <th>Serie A</th>\n",
       "      <th>Bundesliga</th>\n",
       "    </tr>\n",
       "    <tr>\n",
       "      <th>Stat</th>\n",
       "      <th></th>\n",
       "      <th></th>\n",
       "      <th></th>\n",
       "      <th></th>\n",
       "    </tr>\n",
       "  </thead>\n",
       "  <tbody>\n",
       "    <tr>\n",
       "      <th>GoalsScored</th>\n",
       "      <td>1063.0</td>\n",
       "      <td>1133</td>\n",
       "      <td>1003.0</td>\n",
       "      <td>898.0</td>\n",
       "    </tr>\n",
       "    <tr>\n",
       "      <th>MatchesPlayed</th>\n",
       "      <td>380.0</td>\n",
       "      <td>380</td>\n",
       "      <td>380.0</td>\n",
       "      <td>306.0</td>\n",
       "    </tr>\n",
       "  </tbody>\n",
       "</table>\n",
       "</div>"
      ],
      "text/plain": [
       "                  EPL  La Liga  Serie A  Bundesliga\n",
       "Stat                                               \n",
       "GoalsScored    1063.0     1133   1003.0       898.0\n",
       "MatchesPlayed   380.0      380    380.0       306.0"
      ]
     },
     "execution_count": 159,
     "metadata": {},
     "output_type": "execute_result"
    }
   ],
   "source": [
    "stat_group.aggregate(np.sum) #sum으로 모아줌. numpy와 다르게 NaN있어도 무시하고 계산함.\n",
    "stat_group.aggregate(np.sum)"
   ]
  },
  {
   "cell_type": "markdown",
   "metadata": {},
   "source": [
    "* 복수의 함수 적용"
   ]
  },
  {
   "cell_type": "code",
   "execution_count": 160,
   "metadata": {
    "collapsed": false
   },
   "outputs": [
    {
     "data": {
      "text/html": [
       "<div>\n",
       "<table border=\"1\" class=\"dataframe\">\n",
       "  <thead>\n",
       "    <tr>\n",
       "      <th></th>\n",
       "      <th colspan=\"3\" halign=\"left\">EPL</th>\n",
       "      <th colspan=\"3\" halign=\"left\">La Liga</th>\n",
       "      <th colspan=\"3\" halign=\"left\">Serie A</th>\n",
       "      <th colspan=\"3\" halign=\"left\">Bundesliga</th>\n",
       "    </tr>\n",
       "    <tr>\n",
       "      <th></th>\n",
       "      <th>sum</th>\n",
       "      <th>mean</th>\n",
       "      <th>size</th>\n",
       "      <th>sum</th>\n",
       "      <th>mean</th>\n",
       "      <th>size</th>\n",
       "      <th>sum</th>\n",
       "      <th>mean</th>\n",
       "      <th>size</th>\n",
       "      <th>sum</th>\n",
       "      <th>mean</th>\n",
       "      <th>size</th>\n",
       "    </tr>\n",
       "    <tr>\n",
       "      <th>Stat</th>\n",
       "      <th></th>\n",
       "      <th></th>\n",
       "      <th></th>\n",
       "      <th></th>\n",
       "      <th></th>\n",
       "      <th></th>\n",
       "      <th></th>\n",
       "      <th></th>\n",
       "      <th></th>\n",
       "      <th></th>\n",
       "      <th></th>\n",
       "      <th></th>\n",
       "    </tr>\n",
       "  </thead>\n",
       "  <tbody>\n",
       "    <tr>\n",
       "      <th>GoalsScored</th>\n",
       "      <td>1063.0</td>\n",
       "      <td>106.3</td>\n",
       "      <td>11.0</td>\n",
       "      <td>1133</td>\n",
       "      <td>103.000000</td>\n",
       "      <td>11</td>\n",
       "      <td>1003.0</td>\n",
       "      <td>100.3</td>\n",
       "      <td>11.0</td>\n",
       "      <td>898.0</td>\n",
       "      <td>89.8</td>\n",
       "      <td>11.0</td>\n",
       "    </tr>\n",
       "    <tr>\n",
       "      <th>MatchesPlayed</th>\n",
       "      <td>380.0</td>\n",
       "      <td>38.0</td>\n",
       "      <td>11.0</td>\n",
       "      <td>380</td>\n",
       "      <td>34.545455</td>\n",
       "      <td>11</td>\n",
       "      <td>380.0</td>\n",
       "      <td>38.0</td>\n",
       "      <td>11.0</td>\n",
       "      <td>306.0</td>\n",
       "      <td>30.6</td>\n",
       "      <td>11.0</td>\n",
       "    </tr>\n",
       "  </tbody>\n",
       "</table>\n",
       "</div>"
      ],
      "text/plain": [
       "                  EPL              La Liga                  Serie A         \\\n",
       "                  sum   mean  size     sum        mean size     sum   mean   \n",
       "Stat                                                                         \n",
       "GoalsScored    1063.0  106.3  11.0    1133  103.000000   11  1003.0  100.3   \n",
       "MatchesPlayed   380.0   38.0  11.0     380   34.545455   11   380.0   38.0   \n",
       "\n",
       "                    Bundesliga              \n",
       "               size        sum  mean  size  \n",
       "Stat                                        \n",
       "GoalsScored    11.0      898.0  89.8  11.0  \n",
       "MatchesPlayed  11.0      306.0  30.6  11.0  "
      ]
     },
     "execution_count": 160,
     "metadata": {},
     "output_type": "execute_result"
    }
   ],
   "source": [
    "stat_group.aggregate([np.sum, np.mean, np.size])\n",
    "stat_group.aggregate([np.sum, np.mean, np.size])"
   ]
  },
  {
   "cell_type": "markdown",
   "metadata": {},
   "source": [
    "* transform method"
   ]
  },
  {
   "cell_type": "code",
   "execution_count": 162,
   "metadata": {
    "collapsed": false
   },
   "outputs": [
    {
     "data": {
      "text/html": [
       "<div>\n",
       "<table border=\"1\" class=\"dataframe\">\n",
       "  <thead>\n",
       "    <tr style=\"text-align: right;\">\n",
       "      <th></th>\n",
       "      <th>Stat</th>\n",
       "      <th>EPL</th>\n",
       "      <th>La Liga</th>\n",
       "      <th>Serie A</th>\n",
       "      <th>Bundesliga</th>\n",
       "    </tr>\n",
       "    <tr>\n",
       "      <th>Month</th>\n",
       "      <th></th>\n",
       "      <th></th>\n",
       "      <th></th>\n",
       "      <th></th>\n",
       "      <th></th>\n",
       "    </tr>\n",
       "  </thead>\n",
       "  <tbody>\n",
       "    <tr>\n",
       "      <th>08/01/2012</th>\n",
       "      <td>GoalsScored</td>\n",
       "      <td>57.0</td>\n",
       "      <td>60</td>\n",
       "      <td>21.0</td>\n",
       "      <td>23.0</td>\n",
       "    </tr>\n",
       "    <tr>\n",
       "      <th>09/01/2012</th>\n",
       "      <td>GoalsScored</td>\n",
       "      <td>111.0</td>\n",
       "      <td>112</td>\n",
       "      <td>133.0</td>\n",
       "      <td>135.0</td>\n",
       "    </tr>\n",
       "    <tr>\n",
       "      <th>10/01/2012</th>\n",
       "      <td>GoalsScored</td>\n",
       "      <td>95.0</td>\n",
       "      <td>88</td>\n",
       "      <td>97.0</td>\n",
       "      <td>77.0</td>\n",
       "    </tr>\n",
       "    <tr>\n",
       "      <th>11/01/2012</th>\n",
       "      <td>GoalsScored</td>\n",
       "      <td>121.0</td>\n",
       "      <td>116</td>\n",
       "      <td>120.0</td>\n",
       "      <td>137.0</td>\n",
       "    </tr>\n",
       "    <tr>\n",
       "      <th>12/01/2012</th>\n",
       "      <td>GoalsScored</td>\n",
       "      <td>183.0</td>\n",
       "      <td>109</td>\n",
       "      <td>125.0</td>\n",
       "      <td>72.0</td>\n",
       "    </tr>\n",
       "    <tr>\n",
       "      <th>01/01/2013</th>\n",
       "      <td>GoalsScored</td>\n",
       "      <td>117.0</td>\n",
       "      <td>121</td>\n",
       "      <td>104.0</td>\n",
       "      <td>51.0</td>\n",
       "    </tr>\n",
       "    <tr>\n",
       "      <th>02/01/2013</th>\n",
       "      <td>GoalsScored</td>\n",
       "      <td>87.0</td>\n",
       "      <td>110</td>\n",
       "      <td>100.0</td>\n",
       "      <td>101.0</td>\n",
       "    </tr>\n",
       "    <tr>\n",
       "      <th>03/01/2013</th>\n",
       "      <td>GoalsScored</td>\n",
       "      <td>91.0</td>\n",
       "      <td>101</td>\n",
       "      <td>99.0</td>\n",
       "      <td>106.0</td>\n",
       "    </tr>\n",
       "    <tr>\n",
       "      <th>04/01/2013</th>\n",
       "      <td>GoalsScored</td>\n",
       "      <td>105.0</td>\n",
       "      <td>127</td>\n",
       "      <td>102.0</td>\n",
       "      <td>104.0</td>\n",
       "    </tr>\n",
       "    <tr>\n",
       "      <th>05/01/2013</th>\n",
       "      <td>GoalsScored</td>\n",
       "      <td>96.0</td>\n",
       "      <td>109</td>\n",
       "      <td>102.0</td>\n",
       "      <td>92.0</td>\n",
       "    </tr>\n",
       "    <tr>\n",
       "      <th>06/01/2013</th>\n",
       "      <td>GoalsScored</td>\n",
       "      <td>NaN</td>\n",
       "      <td>80</td>\n",
       "      <td>NaN</td>\n",
       "      <td>NaN</td>\n",
       "    </tr>\n",
       "  </tbody>\n",
       "</table>\n",
       "</div>"
      ],
      "text/plain": [
       "                   Stat    EPL  La Liga  Serie A  Bundesliga\n",
       "Month                                                       \n",
       "08/01/2012  GoalsScored   57.0       60     21.0        23.0\n",
       "09/01/2012  GoalsScored  111.0      112    133.0       135.0\n",
       "10/01/2012  GoalsScored   95.0       88     97.0        77.0\n",
       "11/01/2012  GoalsScored  121.0      116    120.0       137.0\n",
       "12/01/2012  GoalsScored  183.0      109    125.0        72.0\n",
       "01/01/2013  GoalsScored  117.0      121    104.0        51.0\n",
       "02/01/2013  GoalsScored   87.0      110    100.0       101.0\n",
       "03/01/2013  GoalsScored   91.0      101     99.0       106.0\n",
       "04/01/2013  GoalsScored  105.0      127    102.0       104.0\n",
       "05/01/2013  GoalsScored   96.0      109    102.0        92.0\n",
       "06/01/2013  GoalsScored    NaN       80      NaN         NaN"
      ]
     },
     "execution_count": 162,
     "metadata": {},
     "output_type": "execute_result"
    }
   ],
   "source": [
    "df3 = pd.read_csv('./goal_stats_euro_leagues_2012-13.csv')\n",
    "df3 = df3.set_index('Month')\n",
    "df3 = df3[df3['Stat'] == 'GoalsScored'] #GoalsScored만 남기겠다.\n",
    "df3 #matchesplayed 모두 사라짐."
   ]
  },
  {
   "cell_type": "code",
   "execution_count": 163,
   "metadata": {
    "collapsed": false
   },
   "outputs": [
    {
     "data": {
      "text/html": [
       "<div>\n",
       "<table border=\"1\" class=\"dataframe\">\n",
       "  <thead>\n",
       "    <tr style=\"text-align: right;\">\n",
       "      <th></th>\n",
       "      <th>EPL</th>\n",
       "      <th>La Liga</th>\n",
       "      <th>Serie A</th>\n",
       "      <th>Bundesliga</th>\n",
       "    </tr>\n",
       "    <tr>\n",
       "      <th>Month</th>\n",
       "      <th></th>\n",
       "      <th></th>\n",
       "      <th></th>\n",
       "      <th></th>\n",
       "    </tr>\n",
       "  </thead>\n",
       "  <tbody>\n",
       "    <tr>\n",
       "      <th>08/01/2012</th>\n",
       "      <td>57.0</td>\n",
       "      <td>60</td>\n",
       "      <td>21.0</td>\n",
       "      <td>23.0</td>\n",
       "    </tr>\n",
       "    <tr>\n",
       "      <th>09/01/2012</th>\n",
       "      <td>111.0</td>\n",
       "      <td>112</td>\n",
       "      <td>133.0</td>\n",
       "      <td>135.0</td>\n",
       "    </tr>\n",
       "    <tr>\n",
       "      <th>10/01/2012</th>\n",
       "      <td>95.0</td>\n",
       "      <td>88</td>\n",
       "      <td>97.0</td>\n",
       "      <td>77.0</td>\n",
       "    </tr>\n",
       "    <tr>\n",
       "      <th>11/01/2012</th>\n",
       "      <td>121.0</td>\n",
       "      <td>116</td>\n",
       "      <td>120.0</td>\n",
       "      <td>137.0</td>\n",
       "    </tr>\n",
       "    <tr>\n",
       "      <th>12/01/2012</th>\n",
       "      <td>183.0</td>\n",
       "      <td>109</td>\n",
       "      <td>125.0</td>\n",
       "      <td>72.0</td>\n",
       "    </tr>\n",
       "    <tr>\n",
       "      <th>01/01/2013</th>\n",
       "      <td>117.0</td>\n",
       "      <td>121</td>\n",
       "      <td>104.0</td>\n",
       "      <td>51.0</td>\n",
       "    </tr>\n",
       "    <tr>\n",
       "      <th>02/01/2013</th>\n",
       "      <td>87.0</td>\n",
       "      <td>110</td>\n",
       "      <td>100.0</td>\n",
       "      <td>101.0</td>\n",
       "    </tr>\n",
       "    <tr>\n",
       "      <th>03/01/2013</th>\n",
       "      <td>91.0</td>\n",
       "      <td>101</td>\n",
       "      <td>99.0</td>\n",
       "      <td>106.0</td>\n",
       "    </tr>\n",
       "    <tr>\n",
       "      <th>04/01/2013</th>\n",
       "      <td>105.0</td>\n",
       "      <td>127</td>\n",
       "      <td>102.0</td>\n",
       "      <td>104.0</td>\n",
       "    </tr>\n",
       "    <tr>\n",
       "      <th>05/01/2013</th>\n",
       "      <td>96.0</td>\n",
       "      <td>109</td>\n",
       "      <td>102.0</td>\n",
       "      <td>92.0</td>\n",
       "    </tr>\n",
       "    <tr>\n",
       "      <th>06/01/2013</th>\n",
       "      <td>NaN</td>\n",
       "      <td>80</td>\n",
       "      <td>NaN</td>\n",
       "      <td>NaN</td>\n",
       "    </tr>\n",
       "  </tbody>\n",
       "</table>\n",
       "</div>"
      ],
      "text/plain": [
       "              EPL  La Liga  Serie A  Bundesliga\n",
       "Month                                          \n",
       "08/01/2012   57.0       60     21.0        23.0\n",
       "09/01/2012  111.0      112    133.0       135.0\n",
       "10/01/2012   95.0       88     97.0        77.0\n",
       "11/01/2012  121.0      116    120.0       137.0\n",
       "12/01/2012  183.0      109    125.0        72.0\n",
       "01/01/2013  117.0      121    104.0        51.0\n",
       "02/01/2013   87.0      110    100.0       101.0\n",
       "03/01/2013   91.0      101     99.0       106.0\n",
       "04/01/2013  105.0      127    102.0       104.0\n",
       "05/01/2013   96.0      109    102.0        92.0\n",
       "06/01/2013    NaN       80      NaN         NaN"
      ]
     },
     "execution_count": 163,
     "metadata": {},
     "output_type": "execute_result"
    }
   ],
   "source": [
    "df3.iloc[:, 1:] # 6월은 La liga만 경기가 열리나보다."
   ]
  },
  {
   "cell_type": "code",
   "execution_count": 164,
   "metadata": {
    "collapsed": false
   },
   "outputs": [
    {
     "data": {
      "text/html": [
       "<div>\n",
       "<table border=\"1\" class=\"dataframe\">\n",
       "  <thead>\n",
       "    <tr style=\"text-align: right;\">\n",
       "      <th></th>\n",
       "      <th>EPL</th>\n",
       "      <th>La Liga</th>\n",
       "      <th>Serie A</th>\n",
       "      <th>Bundesliga</th>\n",
       "    </tr>\n",
       "  </thead>\n",
       "  <tbody>\n",
       "    <tr>\n",
       "      <th>2012</th>\n",
       "      <td>113.4</td>\n",
       "      <td>97</td>\n",
       "      <td>99.2</td>\n",
       "      <td>88.8</td>\n",
       "    </tr>\n",
       "    <tr>\n",
       "      <th>2013</th>\n",
       "      <td>99.2</td>\n",
       "      <td>108</td>\n",
       "      <td>101.4</td>\n",
       "      <td>90.8</td>\n",
       "    </tr>\n",
       "  </tbody>\n",
       "</table>\n",
       "</div>"
      ],
      "text/plain": [
       "        EPL  La Liga  Serie A  Bundesliga\n",
       "2012  113.4       97     99.2        88.8\n",
       "2013   99.2      108    101.4        90.8"
      ]
     },
     "execution_count": 164,
     "metadata": {},
     "output_type": "execute_result"
    }
   ],
   "source": [
    "year_group3 = df3.groupby(lambda month : month.split('/')[2]) #month 혹은 m는 어떻게 인식하는건지? 알아서 인덱스에 있는 값들 searchin?\n",
    "year_group3.mean()"
   ]
  },
  {
   "cell_type": "code",
   "execution_count": 165,
   "metadata": {
    "collapsed": false
   },
   "outputs": [
    {
     "data": {
      "text/html": [
       "<div>\n",
       "<table border=\"1\" class=\"dataframe\">\n",
       "  <thead>\n",
       "    <tr style=\"text-align: right;\">\n",
       "      <th></th>\n",
       "      <th>Stat</th>\n",
       "      <th>EPL</th>\n",
       "      <th>La Liga</th>\n",
       "      <th>Serie A</th>\n",
       "      <th>Bundesliga</th>\n",
       "    </tr>\n",
       "  </thead>\n",
       "  <tbody>\n",
       "    <tr>\n",
       "      <th>2012</th>\n",
       "      <td>5</td>\n",
       "      <td>5</td>\n",
       "      <td>5</td>\n",
       "      <td>5</td>\n",
       "      <td>5</td>\n",
       "    </tr>\n",
       "    <tr>\n",
       "      <th>2013</th>\n",
       "      <td>6</td>\n",
       "      <td>5</td>\n",
       "      <td>6</td>\n",
       "      <td>5</td>\n",
       "      <td>5</td>\n",
       "    </tr>\n",
       "  </tbody>\n",
       "</table>\n",
       "</div>"
      ],
      "text/plain": [
       "      Stat  EPL  La Liga  Serie A  Bundesliga\n",
       "2012     5    5        5        5           5\n",
       "2013     6    5        6        5           5"
      ]
     },
     "execution_count": 165,
     "metadata": {},
     "output_type": "execute_result"
    }
   ],
   "source": [
    "year_group3.count()"
   ]
  },
  {
   "cell_type": "code",
   "execution_count": 167,
   "metadata": {
    "collapsed": false
   },
   "outputs": [],
   "source": [
    "# 각각 subframe(group)에 변형(transform) 적용\n",
    "transformed = year_group3.transform(lambda x : x.fillna(x.mean())) #빈 곳이 있으면 평균을 넣는다.\n",
    "transformed = year_group3.transform(lambda x : x.fillna(x.mean()))"
   ]
  },
  {
   "cell_type": "code",
   "execution_count": 168,
   "metadata": {
    "collapsed": false
   },
   "outputs": [
    {
     "data": {
      "text/html": [
       "<div>\n",
       "<table border=\"1\" class=\"dataframe\">\n",
       "  <thead>\n",
       "    <tr style=\"text-align: right;\">\n",
       "      <th></th>\n",
       "      <th>EPL</th>\n",
       "      <th>La Liga</th>\n",
       "      <th>Serie A</th>\n",
       "      <th>Bundesliga</th>\n",
       "    </tr>\n",
       "    <tr>\n",
       "      <th>Month</th>\n",
       "      <th></th>\n",
       "      <th></th>\n",
       "      <th></th>\n",
       "      <th></th>\n",
       "    </tr>\n",
       "  </thead>\n",
       "  <tbody>\n",
       "    <tr>\n",
       "      <th>08/01/2012</th>\n",
       "      <td>57.0</td>\n",
       "      <td>60</td>\n",
       "      <td>21.0</td>\n",
       "      <td>23.0</td>\n",
       "    </tr>\n",
       "    <tr>\n",
       "      <th>09/01/2012</th>\n",
       "      <td>111.0</td>\n",
       "      <td>112</td>\n",
       "      <td>133.0</td>\n",
       "      <td>135.0</td>\n",
       "    </tr>\n",
       "    <tr>\n",
       "      <th>10/01/2012</th>\n",
       "      <td>95.0</td>\n",
       "      <td>88</td>\n",
       "      <td>97.0</td>\n",
       "      <td>77.0</td>\n",
       "    </tr>\n",
       "    <tr>\n",
       "      <th>11/01/2012</th>\n",
       "      <td>121.0</td>\n",
       "      <td>116</td>\n",
       "      <td>120.0</td>\n",
       "      <td>137.0</td>\n",
       "    </tr>\n",
       "    <tr>\n",
       "      <th>12/01/2012</th>\n",
       "      <td>183.0</td>\n",
       "      <td>109</td>\n",
       "      <td>125.0</td>\n",
       "      <td>72.0</td>\n",
       "    </tr>\n",
       "    <tr>\n",
       "      <th>01/01/2013</th>\n",
       "      <td>117.0</td>\n",
       "      <td>121</td>\n",
       "      <td>104.0</td>\n",
       "      <td>51.0</td>\n",
       "    </tr>\n",
       "    <tr>\n",
       "      <th>02/01/2013</th>\n",
       "      <td>87.0</td>\n",
       "      <td>110</td>\n",
       "      <td>100.0</td>\n",
       "      <td>101.0</td>\n",
       "    </tr>\n",
       "    <tr>\n",
       "      <th>03/01/2013</th>\n",
       "      <td>91.0</td>\n",
       "      <td>101</td>\n",
       "      <td>99.0</td>\n",
       "      <td>106.0</td>\n",
       "    </tr>\n",
       "    <tr>\n",
       "      <th>04/01/2013</th>\n",
       "      <td>105.0</td>\n",
       "      <td>127</td>\n",
       "      <td>102.0</td>\n",
       "      <td>104.0</td>\n",
       "    </tr>\n",
       "    <tr>\n",
       "      <th>05/01/2013</th>\n",
       "      <td>96.0</td>\n",
       "      <td>109</td>\n",
       "      <td>102.0</td>\n",
       "      <td>92.0</td>\n",
       "    </tr>\n",
       "    <tr>\n",
       "      <th>06/01/2013</th>\n",
       "      <td>99.2</td>\n",
       "      <td>80</td>\n",
       "      <td>101.4</td>\n",
       "      <td>90.8</td>\n",
       "    </tr>\n",
       "  </tbody>\n",
       "</table>\n",
       "</div>"
      ],
      "text/plain": [
       "              EPL  La Liga  Serie A  Bundesliga\n",
       "Month                                          \n",
       "08/01/2012   57.0       60     21.0        23.0\n",
       "09/01/2012  111.0      112    133.0       135.0\n",
       "10/01/2012   95.0       88     97.0        77.0\n",
       "11/01/2012  121.0      116    120.0       137.0\n",
       "12/01/2012  183.0      109    125.0        72.0\n",
       "01/01/2013  117.0      121    104.0        51.0\n",
       "02/01/2013   87.0      110    100.0       101.0\n",
       "03/01/2013   91.0      101     99.0       106.0\n",
       "04/01/2013  105.0      127    102.0       104.0\n",
       "05/01/2013   96.0      109    102.0        92.0\n",
       "06/01/2013   99.2       80    101.4        90.8"
      ]
     },
     "execution_count": 168,
     "metadata": {},
     "output_type": "execute_result"
    }
   ],
   "source": [
    "transformed"
   ]
  },
  {
   "cell_type": "markdown",
   "metadata": {},
   "source": [
    "* pivot & reshaping\n",
    " - pivoting. 가독, 가공이 편리한 형태로 변환"
   ]
  },
  {
   "cell_type": "code",
   "execution_count": 169,
   "metadata": {
    "collapsed": false
   },
   "outputs": [
    {
     "data": {
      "text/html": [
       "<div>\n",
       "<table border=\"1\" class=\"dataframe\">\n",
       "  <thead>\n",
       "    <tr style=\"text-align: right;\">\n",
       "      <th></th>\n",
       "      <th>observation</th>\n",
       "      <th>weight</th>\n",
       "      <th>group</th>\n",
       "    </tr>\n",
       "  </thead>\n",
       "  <tbody>\n",
       "    <tr>\n",
       "      <th>0</th>\n",
       "      <td>1</td>\n",
       "      <td>4.17</td>\n",
       "      <td>ctrl</td>\n",
       "    </tr>\n",
       "    <tr>\n",
       "      <th>1</th>\n",
       "      <td>2</td>\n",
       "      <td>5.58</td>\n",
       "      <td>ctrl</td>\n",
       "    </tr>\n",
       "    <tr>\n",
       "      <th>2</th>\n",
       "      <td>3</td>\n",
       "      <td>5.18</td>\n",
       "      <td>ctrl</td>\n",
       "    </tr>\n",
       "    <tr>\n",
       "      <th>3</th>\n",
       "      <td>4</td>\n",
       "      <td>6.11</td>\n",
       "      <td>ctrl</td>\n",
       "    </tr>\n",
       "    <tr>\n",
       "      <th>4</th>\n",
       "      <td>5</td>\n",
       "      <td>4.50</td>\n",
       "      <td>ctrl</td>\n",
       "    </tr>\n",
       "    <tr>\n",
       "      <th>5</th>\n",
       "      <td>6</td>\n",
       "      <td>4.61</td>\n",
       "      <td>ctrl</td>\n",
       "    </tr>\n",
       "    <tr>\n",
       "      <th>6</th>\n",
       "      <td>7</td>\n",
       "      <td>5.17</td>\n",
       "      <td>ctrl</td>\n",
       "    </tr>\n",
       "    <tr>\n",
       "      <th>7</th>\n",
       "      <td>8</td>\n",
       "      <td>4.53</td>\n",
       "      <td>ctrl</td>\n",
       "    </tr>\n",
       "    <tr>\n",
       "      <th>8</th>\n",
       "      <td>9</td>\n",
       "      <td>5.33</td>\n",
       "      <td>ctrl</td>\n",
       "    </tr>\n",
       "    <tr>\n",
       "      <th>9</th>\n",
       "      <td>10</td>\n",
       "      <td>5.14</td>\n",
       "      <td>ctrl</td>\n",
       "    </tr>\n",
       "    <tr>\n",
       "      <th>10</th>\n",
       "      <td>1</td>\n",
       "      <td>4.81</td>\n",
       "      <td>trt1</td>\n",
       "    </tr>\n",
       "    <tr>\n",
       "      <th>11</th>\n",
       "      <td>2</td>\n",
       "      <td>4.17</td>\n",
       "      <td>trt1</td>\n",
       "    </tr>\n",
       "    <tr>\n",
       "      <th>12</th>\n",
       "      <td>3</td>\n",
       "      <td>4.41</td>\n",
       "      <td>trt1</td>\n",
       "    </tr>\n",
       "    <tr>\n",
       "      <th>13</th>\n",
       "      <td>4</td>\n",
       "      <td>3.59</td>\n",
       "      <td>trt1</td>\n",
       "    </tr>\n",
       "    <tr>\n",
       "      <th>14</th>\n",
       "      <td>5</td>\n",
       "      <td>5.87</td>\n",
       "      <td>trt1</td>\n",
       "    </tr>\n",
       "    <tr>\n",
       "      <th>15</th>\n",
       "      <td>6</td>\n",
       "      <td>3.83</td>\n",
       "      <td>trt1</td>\n",
       "    </tr>\n",
       "    <tr>\n",
       "      <th>16</th>\n",
       "      <td>7</td>\n",
       "      <td>6.03</td>\n",
       "      <td>trt1</td>\n",
       "    </tr>\n",
       "    <tr>\n",
       "      <th>17</th>\n",
       "      <td>8</td>\n",
       "      <td>4.89</td>\n",
       "      <td>trt1</td>\n",
       "    </tr>\n",
       "    <tr>\n",
       "      <th>18</th>\n",
       "      <td>9</td>\n",
       "      <td>4.32</td>\n",
       "      <td>trt1</td>\n",
       "    </tr>\n",
       "    <tr>\n",
       "      <th>19</th>\n",
       "      <td>10</td>\n",
       "      <td>4.69</td>\n",
       "      <td>trt1</td>\n",
       "    </tr>\n",
       "    <tr>\n",
       "      <th>20</th>\n",
       "      <td>1</td>\n",
       "      <td>6.31</td>\n",
       "      <td>trt2</td>\n",
       "    </tr>\n",
       "    <tr>\n",
       "      <th>21</th>\n",
       "      <td>2</td>\n",
       "      <td>5.12</td>\n",
       "      <td>trt2</td>\n",
       "    </tr>\n",
       "    <tr>\n",
       "      <th>22</th>\n",
       "      <td>3</td>\n",
       "      <td>5.54</td>\n",
       "      <td>trt2</td>\n",
       "    </tr>\n",
       "    <tr>\n",
       "      <th>23</th>\n",
       "      <td>4</td>\n",
       "      <td>5.50</td>\n",
       "      <td>trt2</td>\n",
       "    </tr>\n",
       "    <tr>\n",
       "      <th>24</th>\n",
       "      <td>5</td>\n",
       "      <td>5.37</td>\n",
       "      <td>trt2</td>\n",
       "    </tr>\n",
       "    <tr>\n",
       "      <th>25</th>\n",
       "      <td>6</td>\n",
       "      <td>5.29</td>\n",
       "      <td>trt2</td>\n",
       "    </tr>\n",
       "    <tr>\n",
       "      <th>26</th>\n",
       "      <td>7</td>\n",
       "      <td>4.92</td>\n",
       "      <td>trt2</td>\n",
       "    </tr>\n",
       "    <tr>\n",
       "      <th>27</th>\n",
       "      <td>8</td>\n",
       "      <td>6.15</td>\n",
       "      <td>trt2</td>\n",
       "    </tr>\n",
       "    <tr>\n",
       "      <th>28</th>\n",
       "      <td>9</td>\n",
       "      <td>5.80</td>\n",
       "      <td>trt2</td>\n",
       "    </tr>\n",
       "    <tr>\n",
       "      <th>29</th>\n",
       "      <td>10</td>\n",
       "      <td>5.26</td>\n",
       "      <td>trt2</td>\n",
       "    </tr>\n",
       "  </tbody>\n",
       "</table>\n",
       "</div>"
      ],
      "text/plain": [
       "    observation  weight group\n",
       "0             1    4.17  ctrl\n",
       "1             2    5.58  ctrl\n",
       "2             3    5.18  ctrl\n",
       "3             4    6.11  ctrl\n",
       "4             5    4.50  ctrl\n",
       "5             6    4.61  ctrl\n",
       "6             7    5.17  ctrl\n",
       "7             8    4.53  ctrl\n",
       "8             9    5.33  ctrl\n",
       "9            10    5.14  ctrl\n",
       "10            1    4.81  trt1\n",
       "11            2    4.17  trt1\n",
       "12            3    4.41  trt1\n",
       "13            4    3.59  trt1\n",
       "14            5    5.87  trt1\n",
       "15            6    3.83  trt1\n",
       "16            7    6.03  trt1\n",
       "17            8    4.89  trt1\n",
       "18            9    4.32  trt1\n",
       "19           10    4.69  trt1\n",
       "20            1    6.31  trt2\n",
       "21            2    5.12  trt2\n",
       "22            3    5.54  trt2\n",
       "23            4    5.50  trt2\n",
       "24            5    5.37  trt2\n",
       "25            6    5.29  trt2\n",
       "26            7    4.92  trt2\n",
       "27            8    6.15  trt2\n",
       "28            9    5.80  trt2\n",
       "29           10    5.26  trt2"
      ]
     },
     "execution_count": 169,
     "metadata": {},
     "output_type": "execute_result"
    }
   ],
   "source": [
    "plant_df = pd.read_csv('./PlantGrowth.csv')\n",
    "plant_df.head(30)"
   ]
  },
  {
   "cell_type": "code",
   "execution_count": 151,
   "metadata": {
    "collapsed": false
   },
   "outputs": [
    {
     "data": {
      "text/html": [
       "<div>\n",
       "<table border=\"1\" class=\"dataframe\">\n",
       "  <thead>\n",
       "    <tr style=\"text-align: right;\">\n",
       "      <th></th>\n",
       "      <th>observation</th>\n",
       "      <th>weight</th>\n",
       "      <th>group</th>\n",
       "    </tr>\n",
       "  </thead>\n",
       "  <tbody>\n",
       "    <tr>\n",
       "      <th>0</th>\n",
       "      <td>1</td>\n",
       "      <td>4.17</td>\n",
       "      <td>ctrl</td>\n",
       "    </tr>\n",
       "    <tr>\n",
       "      <th>1</th>\n",
       "      <td>2</td>\n",
       "      <td>5.58</td>\n",
       "      <td>ctrl</td>\n",
       "    </tr>\n",
       "    <tr>\n",
       "      <th>2</th>\n",
       "      <td>3</td>\n",
       "      <td>5.18</td>\n",
       "      <td>ctrl</td>\n",
       "    </tr>\n",
       "    <tr>\n",
       "      <th>3</th>\n",
       "      <td>4</td>\n",
       "      <td>6.11</td>\n",
       "      <td>ctrl</td>\n",
       "    </tr>\n",
       "    <tr>\n",
       "      <th>4</th>\n",
       "      <td>5</td>\n",
       "      <td>4.50</td>\n",
       "      <td>ctrl</td>\n",
       "    </tr>\n",
       "    <tr>\n",
       "      <th>5</th>\n",
       "      <td>6</td>\n",
       "      <td>4.61</td>\n",
       "      <td>ctrl</td>\n",
       "    </tr>\n",
       "    <tr>\n",
       "      <th>6</th>\n",
       "      <td>7</td>\n",
       "      <td>5.17</td>\n",
       "      <td>ctrl</td>\n",
       "    </tr>\n",
       "    <tr>\n",
       "      <th>7</th>\n",
       "      <td>8</td>\n",
       "      <td>4.53</td>\n",
       "      <td>ctrl</td>\n",
       "    </tr>\n",
       "    <tr>\n",
       "      <th>8</th>\n",
       "      <td>9</td>\n",
       "      <td>5.33</td>\n",
       "      <td>ctrl</td>\n",
       "    </tr>\n",
       "    <tr>\n",
       "      <th>9</th>\n",
       "      <td>10</td>\n",
       "      <td>5.14</td>\n",
       "      <td>ctrl</td>\n",
       "    </tr>\n",
       "    <tr>\n",
       "      <th>10</th>\n",
       "      <td>1</td>\n",
       "      <td>4.81</td>\n",
       "      <td>trt1</td>\n",
       "    </tr>\n",
       "    <tr>\n",
       "      <th>11</th>\n",
       "      <td>2</td>\n",
       "      <td>4.17</td>\n",
       "      <td>trt1</td>\n",
       "    </tr>\n",
       "    <tr>\n",
       "      <th>12</th>\n",
       "      <td>3</td>\n",
       "      <td>4.41</td>\n",
       "      <td>trt1</td>\n",
       "    </tr>\n",
       "    <tr>\n",
       "      <th>13</th>\n",
       "      <td>4</td>\n",
       "      <td>3.59</td>\n",
       "      <td>trt1</td>\n",
       "    </tr>\n",
       "    <tr>\n",
       "      <th>14</th>\n",
       "      <td>5</td>\n",
       "      <td>5.87</td>\n",
       "      <td>trt1</td>\n",
       "    </tr>\n",
       "    <tr>\n",
       "      <th>15</th>\n",
       "      <td>6</td>\n",
       "      <td>3.83</td>\n",
       "      <td>trt1</td>\n",
       "    </tr>\n",
       "    <tr>\n",
       "      <th>16</th>\n",
       "      <td>7</td>\n",
       "      <td>6.03</td>\n",
       "      <td>trt1</td>\n",
       "    </tr>\n",
       "    <tr>\n",
       "      <th>17</th>\n",
       "      <td>8</td>\n",
       "      <td>4.89</td>\n",
       "      <td>trt1</td>\n",
       "    </tr>\n",
       "    <tr>\n",
       "      <th>18</th>\n",
       "      <td>9</td>\n",
       "      <td>4.32</td>\n",
       "      <td>trt1</td>\n",
       "    </tr>\n",
       "    <tr>\n",
       "      <th>19</th>\n",
       "      <td>10</td>\n",
       "      <td>4.69</td>\n",
       "      <td>trt1</td>\n",
       "    </tr>\n",
       "    <tr>\n",
       "      <th>20</th>\n",
       "      <td>1</td>\n",
       "      <td>6.31</td>\n",
       "      <td>trt2</td>\n",
       "    </tr>\n",
       "    <tr>\n",
       "      <th>21</th>\n",
       "      <td>2</td>\n",
       "      <td>5.12</td>\n",
       "      <td>trt2</td>\n",
       "    </tr>\n",
       "    <tr>\n",
       "      <th>22</th>\n",
       "      <td>3</td>\n",
       "      <td>5.54</td>\n",
       "      <td>trt2</td>\n",
       "    </tr>\n",
       "    <tr>\n",
       "      <th>23</th>\n",
       "      <td>4</td>\n",
       "      <td>5.50</td>\n",
       "      <td>trt2</td>\n",
       "    </tr>\n",
       "    <tr>\n",
       "      <th>24</th>\n",
       "      <td>5</td>\n",
       "      <td>5.37</td>\n",
       "      <td>trt2</td>\n",
       "    </tr>\n",
       "    <tr>\n",
       "      <th>25</th>\n",
       "      <td>6</td>\n",
       "      <td>5.29</td>\n",
       "      <td>trt2</td>\n",
       "    </tr>\n",
       "    <tr>\n",
       "      <th>26</th>\n",
       "      <td>7</td>\n",
       "      <td>4.92</td>\n",
       "      <td>trt2</td>\n",
       "    </tr>\n",
       "    <tr>\n",
       "      <th>27</th>\n",
       "      <td>8</td>\n",
       "      <td>6.15</td>\n",
       "      <td>trt2</td>\n",
       "    </tr>\n",
       "    <tr>\n",
       "      <th>28</th>\n",
       "      <td>9</td>\n",
       "      <td>5.80</td>\n",
       "      <td>trt2</td>\n",
       "    </tr>\n",
       "    <tr>\n",
       "      <th>29</th>\n",
       "      <td>10</td>\n",
       "      <td>5.26</td>\n",
       "      <td>trt2</td>\n",
       "    </tr>\n",
       "  </tbody>\n",
       "</table>\n",
       "</div>"
      ],
      "text/plain": [
       "    observation  weight group\n",
       "0             1    4.17  ctrl\n",
       "1             2    5.58  ctrl\n",
       "2             3    5.18  ctrl\n",
       "3             4    6.11  ctrl\n",
       "4             5    4.50  ctrl\n",
       "5             6    4.61  ctrl\n",
       "6             7    5.17  ctrl\n",
       "7             8    4.53  ctrl\n",
       "8             9    5.33  ctrl\n",
       "9            10    5.14  ctrl\n",
       "10            1    4.81  trt1\n",
       "11            2    4.17  trt1\n",
       "12            3    4.41  trt1\n",
       "13            4    3.59  trt1\n",
       "14            5    5.87  trt1\n",
       "15            6    3.83  trt1\n",
       "16            7    6.03  trt1\n",
       "17            8    4.89  trt1\n",
       "18            9    4.32  trt1\n",
       "19           10    4.69  trt1\n",
       "20            1    6.31  trt2\n",
       "21            2    5.12  trt2\n",
       "22            3    5.54  trt2\n",
       "23            4    5.50  trt2\n",
       "24            5    5.37  trt2\n",
       "25            6    5.29  trt2\n",
       "26            7    4.92  trt2\n",
       "27            8    6.15  trt2\n",
       "28            9    5.80  trt2\n",
       "29           10    5.26  trt2"
      ]
     },
     "execution_count": 151,
     "metadata": {},
     "output_type": "execute_result"
    }
   ],
   "source": [
    "plant_df\n",
    "# control(ctrl)하여 실험한 값과, 두 개의 다른 조건(tr1, tr2)을 주었을 때의 실험에 대한 결과 \n",
    "# data가 stacked 됨. (말 그대로 쌓여있음)\n",
    "# 데이터 분석하기 편리하지 않음"
   ]
  },
  {
   "cell_type": "code",
   "execution_count": 170,
   "metadata": {
    "collapsed": false
   },
   "outputs": [
    {
     "data": {
      "text/html": [
       "<div>\n",
       "<table border=\"1\" class=\"dataframe\">\n",
       "  <thead>\n",
       "    <tr style=\"text-align: right;\">\n",
       "      <th></th>\n",
       "      <th>observation</th>\n",
       "      <th>weight</th>\n",
       "      <th>group</th>\n",
       "    </tr>\n",
       "  </thead>\n",
       "  <tbody>\n",
       "    <tr>\n",
       "      <th>0</th>\n",
       "      <td>1</td>\n",
       "      <td>4.17</td>\n",
       "      <td>ctrl</td>\n",
       "    </tr>\n",
       "    <tr>\n",
       "      <th>1</th>\n",
       "      <td>2</td>\n",
       "      <td>5.58</td>\n",
       "      <td>ctrl</td>\n",
       "    </tr>\n",
       "    <tr>\n",
       "      <th>2</th>\n",
       "      <td>3</td>\n",
       "      <td>5.18</td>\n",
       "      <td>ctrl</td>\n",
       "    </tr>\n",
       "    <tr>\n",
       "      <th>3</th>\n",
       "      <td>4</td>\n",
       "      <td>6.11</td>\n",
       "      <td>ctrl</td>\n",
       "    </tr>\n",
       "    <tr>\n",
       "      <th>4</th>\n",
       "      <td>5</td>\n",
       "      <td>4.50</td>\n",
       "      <td>ctrl</td>\n",
       "    </tr>\n",
       "    <tr>\n",
       "      <th>5</th>\n",
       "      <td>6</td>\n",
       "      <td>4.61</td>\n",
       "      <td>ctrl</td>\n",
       "    </tr>\n",
       "    <tr>\n",
       "      <th>6</th>\n",
       "      <td>7</td>\n",
       "      <td>5.17</td>\n",
       "      <td>ctrl</td>\n",
       "    </tr>\n",
       "    <tr>\n",
       "      <th>7</th>\n",
       "      <td>8</td>\n",
       "      <td>4.53</td>\n",
       "      <td>ctrl</td>\n",
       "    </tr>\n",
       "    <tr>\n",
       "      <th>8</th>\n",
       "      <td>9</td>\n",
       "      <td>5.33</td>\n",
       "      <td>ctrl</td>\n",
       "    </tr>\n",
       "    <tr>\n",
       "      <th>9</th>\n",
       "      <td>10</td>\n",
       "      <td>5.14</td>\n",
       "      <td>ctrl</td>\n",
       "    </tr>\n",
       "  </tbody>\n",
       "</table>\n",
       "</div>"
      ],
      "text/plain": [
       "   observation  weight group\n",
       "0            1    4.17  ctrl\n",
       "1            2    5.58  ctrl\n",
       "2            3    5.18  ctrl\n",
       "3            4    6.11  ctrl\n",
       "4            5    4.50  ctrl\n",
       "5            6    4.61  ctrl\n",
       "6            7    5.17  ctrl\n",
       "7            8    4.53  ctrl\n",
       "8            9    5.33  ctrl\n",
       "9           10    5.14  ctrl"
      ]
     },
     "execution_count": 170,
     "metadata": {},
     "output_type": "execute_result"
    }
   ],
   "source": [
    "# 아래와 같이 filtering하여 각각의 결과를 뽑을 수 있으나, pivot, unstack을 이용하여 분석하기 용이하도록 변형 가능\n",
    "plant_df[plant_df['group'] == 'ctrl'] #group이 ctrl인것만 보겠다.\n",
    "plant_df[plant_df[\"group\"] == \"ctrl\"]"
   ]
  },
  {
   "cell_type": "code",
   "execution_count": 172,
   "metadata": {
    "collapsed": false
   },
   "outputs": [
    {
     "data": {
      "text/html": [
       "<div>\n",
       "<table border=\"1\" class=\"dataframe\">\n",
       "  <thead>\n",
       "    <tr style=\"text-align: right;\">\n",
       "      <th>group</th>\n",
       "      <th>ctrl</th>\n",
       "      <th>trt1</th>\n",
       "      <th>trt2</th>\n",
       "    </tr>\n",
       "    <tr>\n",
       "      <th>observation</th>\n",
       "      <th></th>\n",
       "      <th></th>\n",
       "      <th></th>\n",
       "    </tr>\n",
       "  </thead>\n",
       "  <tbody>\n",
       "    <tr>\n",
       "      <th>1</th>\n",
       "      <td>4.17</td>\n",
       "      <td>4.81</td>\n",
       "      <td>6.31</td>\n",
       "    </tr>\n",
       "    <tr>\n",
       "      <th>2</th>\n",
       "      <td>5.58</td>\n",
       "      <td>4.17</td>\n",
       "      <td>5.12</td>\n",
       "    </tr>\n",
       "    <tr>\n",
       "      <th>3</th>\n",
       "      <td>5.18</td>\n",
       "      <td>4.41</td>\n",
       "      <td>5.54</td>\n",
       "    </tr>\n",
       "    <tr>\n",
       "      <th>4</th>\n",
       "      <td>6.11</td>\n",
       "      <td>3.59</td>\n",
       "      <td>5.50</td>\n",
       "    </tr>\n",
       "    <tr>\n",
       "      <th>5</th>\n",
       "      <td>4.50</td>\n",
       "      <td>5.87</td>\n",
       "      <td>5.37</td>\n",
       "    </tr>\n",
       "    <tr>\n",
       "      <th>6</th>\n",
       "      <td>4.61</td>\n",
       "      <td>3.83</td>\n",
       "      <td>5.29</td>\n",
       "    </tr>\n",
       "    <tr>\n",
       "      <th>7</th>\n",
       "      <td>5.17</td>\n",
       "      <td>6.03</td>\n",
       "      <td>4.92</td>\n",
       "    </tr>\n",
       "    <tr>\n",
       "      <th>8</th>\n",
       "      <td>4.53</td>\n",
       "      <td>4.89</td>\n",
       "      <td>6.15</td>\n",
       "    </tr>\n",
       "    <tr>\n",
       "      <th>9</th>\n",
       "      <td>5.33</td>\n",
       "      <td>4.32</td>\n",
       "      <td>5.80</td>\n",
       "    </tr>\n",
       "    <tr>\n",
       "      <th>10</th>\n",
       "      <td>5.14</td>\n",
       "      <td>4.69</td>\n",
       "      <td>5.26</td>\n",
       "    </tr>\n",
       "  </tbody>\n",
       "</table>\n",
       "</div>"
      ],
      "text/plain": [
       "group        ctrl  trt1  trt2\n",
       "observation                  \n",
       "1            4.17  4.81  6.31\n",
       "2            5.58  4.17  5.12\n",
       "3            5.18  4.41  5.54\n",
       "4            6.11  3.59  5.50\n",
       "5            4.50  5.87  5.37\n",
       "6            4.61  3.83  5.29\n",
       "7            5.17  6.03  4.92\n",
       "8            4.53  4.89  6.15\n",
       "9            5.33  4.32  5.80\n",
       "10           5.14  4.69  5.26"
      ]
     },
     "execution_count": 172,
     "metadata": {},
     "output_type": "execute_result"
    }
   ],
   "source": [
    "# dataframe reshaping\n",
    "plant_df.pivot(index = 'observation', columns = 'group', values = 'weight') #pivot은 멤버함수"
   ]
  },
  {
   "cell_type": "code",
   "execution_count": 169,
   "metadata": {
    "collapsed": false
   },
   "outputs": [
    {
     "data": {
      "text/html": [
       "<div>\n",
       "<table border=\"1\" class=\"dataframe\">\n",
       "  <thead>\n",
       "    <tr style=\"text-align: right;\">\n",
       "      <th>group</th>\n",
       "      <th>ctrl</th>\n",
       "      <th>trt1</th>\n",
       "      <th>trt2</th>\n",
       "    </tr>\n",
       "    <tr>\n",
       "      <th>observation</th>\n",
       "      <th></th>\n",
       "      <th></th>\n",
       "      <th></th>\n",
       "    </tr>\n",
       "  </thead>\n",
       "  <tbody>\n",
       "    <tr>\n",
       "      <th>1</th>\n",
       "      <td>4.17</td>\n",
       "      <td>4.81</td>\n",
       "      <td>6.31</td>\n",
       "    </tr>\n",
       "    <tr>\n",
       "      <th>2</th>\n",
       "      <td>5.58</td>\n",
       "      <td>4.17</td>\n",
       "      <td>5.12</td>\n",
       "    </tr>\n",
       "    <tr>\n",
       "      <th>3</th>\n",
       "      <td>5.18</td>\n",
       "      <td>4.41</td>\n",
       "      <td>5.54</td>\n",
       "    </tr>\n",
       "    <tr>\n",
       "      <th>4</th>\n",
       "      <td>6.11</td>\n",
       "      <td>3.59</td>\n",
       "      <td>5.50</td>\n",
       "    </tr>\n",
       "    <tr>\n",
       "      <th>5</th>\n",
       "      <td>4.50</td>\n",
       "      <td>5.87</td>\n",
       "      <td>5.37</td>\n",
       "    </tr>\n",
       "    <tr>\n",
       "      <th>6</th>\n",
       "      <td>4.61</td>\n",
       "      <td>3.83</td>\n",
       "      <td>5.29</td>\n",
       "    </tr>\n",
       "    <tr>\n",
       "      <th>7</th>\n",
       "      <td>5.17</td>\n",
       "      <td>6.03</td>\n",
       "      <td>4.92</td>\n",
       "    </tr>\n",
       "    <tr>\n",
       "      <th>8</th>\n",
       "      <td>4.53</td>\n",
       "      <td>4.89</td>\n",
       "      <td>6.15</td>\n",
       "    </tr>\n",
       "    <tr>\n",
       "      <th>9</th>\n",
       "      <td>5.33</td>\n",
       "      <td>4.32</td>\n",
       "      <td>5.80</td>\n",
       "    </tr>\n",
       "    <tr>\n",
       "      <th>10</th>\n",
       "      <td>5.14</td>\n",
       "      <td>4.69</td>\n",
       "      <td>5.26</td>\n",
       "    </tr>\n",
       "  </tbody>\n",
       "</table>\n",
       "</div>"
      ],
      "text/plain": [
       "group        ctrl  trt1  trt2\n",
       "observation                  \n",
       "1            4.17  4.81  6.31\n",
       "2            5.58  4.17  5.12\n",
       "3            5.18  4.41  5.54\n",
       "4            6.11  3.59  5.50\n",
       "5            4.50  5.87  5.37\n",
       "6            4.61  3.83  5.29\n",
       "7            5.17  6.03  4.92\n",
       "8            4.53  4.89  6.15\n",
       "9            5.33  4.32  5.80\n",
       "10           5.14  4.69  5.26"
      ]
     },
     "execution_count": 169,
     "metadata": {},
     "output_type": "execute_result"
    }
   ],
   "source": [
    "# pandas에 있는 pivot_table 으로도 동일 결과 가능.\n",
    "pd.pivot_table(plant_df, values = 'weight', index = 'observation', columns='group') "
   ]
  },
  {
   "cell_type": "code",
   "execution_count": 170,
   "metadata": {
    "collapsed": false
   },
   "outputs": [
    {
     "data": {
      "text/plain": [
       "group\n",
       "ctrl   5.03\n",
       "trt1   4.66\n",
       "trt2   5.53\n",
       "Name: weight, dtype: float64"
      ]
     },
     "execution_count": 170,
     "metadata": {},
     "output_type": "execute_result"
    }
   ],
   "source": [
    "# pivot_table의 경우 aggregation 수행 가능\n",
    "pd.pivot_table(plant_df, values = 'weight',\n",
    "               columns=['group'], aggfunc=np.mean) #컬럼별 mean을 series로 반환"
   ]
  },
  {
   "cell_type": "markdown",
   "metadata": {},
   "source": [
    "* stack & unstack\n",
    " - stack : column -> row\n",
    " - unstack : row index -> column"
   ]
  },
  {
   "cell_type": "code",
   "execution_count": 171,
   "metadata": {
    "collapsed": false,
    "scrolled": true
   },
   "outputs": [
    {
     "data": {
      "text/html": [
       "<div>\n",
       "<table border=\"1\" class=\"dataframe\">\n",
       "  <thead>\n",
       "    <tr style=\"text-align: right;\">\n",
       "      <th></th>\n",
       "      <th>observation</th>\n",
       "      <th>weight</th>\n",
       "      <th>group</th>\n",
       "    </tr>\n",
       "  </thead>\n",
       "  <tbody>\n",
       "    <tr>\n",
       "      <th>0</th>\n",
       "      <td>1</td>\n",
       "      <td>4.17</td>\n",
       "      <td>ctrl</td>\n",
       "    </tr>\n",
       "    <tr>\n",
       "      <th>1</th>\n",
       "      <td>2</td>\n",
       "      <td>5.58</td>\n",
       "      <td>ctrl</td>\n",
       "    </tr>\n",
       "    <tr>\n",
       "      <th>2</th>\n",
       "      <td>3</td>\n",
       "      <td>5.18</td>\n",
       "      <td>ctrl</td>\n",
       "    </tr>\n",
       "    <tr>\n",
       "      <th>3</th>\n",
       "      <td>4</td>\n",
       "      <td>6.11</td>\n",
       "      <td>ctrl</td>\n",
       "    </tr>\n",
       "    <tr>\n",
       "      <th>4</th>\n",
       "      <td>5</td>\n",
       "      <td>4.50</td>\n",
       "      <td>ctrl</td>\n",
       "    </tr>\n",
       "    <tr>\n",
       "      <th>5</th>\n",
       "      <td>6</td>\n",
       "      <td>4.61</td>\n",
       "      <td>ctrl</td>\n",
       "    </tr>\n",
       "    <tr>\n",
       "      <th>6</th>\n",
       "      <td>7</td>\n",
       "      <td>5.17</td>\n",
       "      <td>ctrl</td>\n",
       "    </tr>\n",
       "    <tr>\n",
       "      <th>7</th>\n",
       "      <td>8</td>\n",
       "      <td>4.53</td>\n",
       "      <td>ctrl</td>\n",
       "    </tr>\n",
       "    <tr>\n",
       "      <th>8</th>\n",
       "      <td>9</td>\n",
       "      <td>5.33</td>\n",
       "      <td>ctrl</td>\n",
       "    </tr>\n",
       "    <tr>\n",
       "      <th>9</th>\n",
       "      <td>10</td>\n",
       "      <td>5.14</td>\n",
       "      <td>ctrl</td>\n",
       "    </tr>\n",
       "    <tr>\n",
       "      <th>10</th>\n",
       "      <td>1</td>\n",
       "      <td>4.81</td>\n",
       "      <td>trt1</td>\n",
       "    </tr>\n",
       "    <tr>\n",
       "      <th>11</th>\n",
       "      <td>2</td>\n",
       "      <td>4.17</td>\n",
       "      <td>trt1</td>\n",
       "    </tr>\n",
       "    <tr>\n",
       "      <th>12</th>\n",
       "      <td>3</td>\n",
       "      <td>4.41</td>\n",
       "      <td>trt1</td>\n",
       "    </tr>\n",
       "    <tr>\n",
       "      <th>13</th>\n",
       "      <td>4</td>\n",
       "      <td>3.59</td>\n",
       "      <td>trt1</td>\n",
       "    </tr>\n",
       "    <tr>\n",
       "      <th>14</th>\n",
       "      <td>5</td>\n",
       "      <td>5.87</td>\n",
       "      <td>trt1</td>\n",
       "    </tr>\n",
       "    <tr>\n",
       "      <th>15</th>\n",
       "      <td>6</td>\n",
       "      <td>3.83</td>\n",
       "      <td>trt1</td>\n",
       "    </tr>\n",
       "    <tr>\n",
       "      <th>16</th>\n",
       "      <td>7</td>\n",
       "      <td>6.03</td>\n",
       "      <td>trt1</td>\n",
       "    </tr>\n",
       "    <tr>\n",
       "      <th>17</th>\n",
       "      <td>8</td>\n",
       "      <td>4.89</td>\n",
       "      <td>trt1</td>\n",
       "    </tr>\n",
       "    <tr>\n",
       "      <th>18</th>\n",
       "      <td>9</td>\n",
       "      <td>4.32</td>\n",
       "      <td>trt1</td>\n",
       "    </tr>\n",
       "    <tr>\n",
       "      <th>19</th>\n",
       "      <td>10</td>\n",
       "      <td>4.69</td>\n",
       "      <td>trt1</td>\n",
       "    </tr>\n",
       "    <tr>\n",
       "      <th>20</th>\n",
       "      <td>1</td>\n",
       "      <td>6.31</td>\n",
       "      <td>trt2</td>\n",
       "    </tr>\n",
       "    <tr>\n",
       "      <th>21</th>\n",
       "      <td>2</td>\n",
       "      <td>5.12</td>\n",
       "      <td>trt2</td>\n",
       "    </tr>\n",
       "    <tr>\n",
       "      <th>22</th>\n",
       "      <td>3</td>\n",
       "      <td>5.54</td>\n",
       "      <td>trt2</td>\n",
       "    </tr>\n",
       "    <tr>\n",
       "      <th>23</th>\n",
       "      <td>4</td>\n",
       "      <td>5.50</td>\n",
       "      <td>trt2</td>\n",
       "    </tr>\n",
       "    <tr>\n",
       "      <th>24</th>\n",
       "      <td>5</td>\n",
       "      <td>5.37</td>\n",
       "      <td>trt2</td>\n",
       "    </tr>\n",
       "    <tr>\n",
       "      <th>25</th>\n",
       "      <td>6</td>\n",
       "      <td>5.29</td>\n",
       "      <td>trt2</td>\n",
       "    </tr>\n",
       "    <tr>\n",
       "      <th>26</th>\n",
       "      <td>7</td>\n",
       "      <td>4.92</td>\n",
       "      <td>trt2</td>\n",
       "    </tr>\n",
       "    <tr>\n",
       "      <th>27</th>\n",
       "      <td>8</td>\n",
       "      <td>6.15</td>\n",
       "      <td>trt2</td>\n",
       "    </tr>\n",
       "    <tr>\n",
       "      <th>28</th>\n",
       "      <td>9</td>\n",
       "      <td>5.80</td>\n",
       "      <td>trt2</td>\n",
       "    </tr>\n",
       "    <tr>\n",
       "      <th>29</th>\n",
       "      <td>10</td>\n",
       "      <td>5.26</td>\n",
       "      <td>trt2</td>\n",
       "    </tr>\n",
       "  </tbody>\n",
       "</table>\n",
       "</div>"
      ],
      "text/plain": [
       "    observation  weight group\n",
       "0             1    4.17  ctrl\n",
       "1             2    5.58  ctrl\n",
       "2             3    5.18  ctrl\n",
       "3             4    6.11  ctrl\n",
       "4             5    4.50  ctrl\n",
       "5             6    4.61  ctrl\n",
       "6             7    5.17  ctrl\n",
       "7             8    4.53  ctrl\n",
       "8             9    5.33  ctrl\n",
       "9            10    5.14  ctrl\n",
       "10            1    4.81  trt1\n",
       "11            2    4.17  trt1\n",
       "12            3    4.41  trt1\n",
       "13            4    3.59  trt1\n",
       "14            5    5.87  trt1\n",
       "15            6    3.83  trt1\n",
       "16            7    6.03  trt1\n",
       "17            8    4.89  trt1\n",
       "18            9    4.32  trt1\n",
       "19           10    4.69  trt1\n",
       "20            1    6.31  trt2\n",
       "21            2    5.12  trt2\n",
       "22            3    5.54  trt2\n",
       "23            4    5.50  trt2\n",
       "24            5    5.37  trt2\n",
       "25            6    5.29  trt2\n",
       "26            7    4.92  trt2\n",
       "27            8    6.15  trt2\n",
       "28            9    5.80  trt2\n",
       "29           10    5.26  trt2"
      ]
     },
     "execution_count": 171,
     "metadata": {},
     "output_type": "execute_result"
    }
   ],
   "source": [
    "plant_df"
   ]
  },
  {
   "cell_type": "code",
   "execution_count": 177,
   "metadata": {
    "collapsed": false
   },
   "outputs": [
    {
     "name": "stdout",
     "output_type": "stream",
     "text": [
      "                   weight\n",
      "group observation        \n",
      "ctrl  1              4.17\n",
      "      2              5.58\n",
      "      3              5.18\n",
      "      4              6.11\n",
      "      5              4.50\n",
      "      6              4.61\n",
      "      7              5.17\n",
      "      8              4.53\n",
      "      9              5.33\n",
      "      10             5.14\n",
      "trt1  1              4.81\n",
      "      2              4.17\n",
      "      3              4.41\n",
      "      4              3.59\n",
      "      5              5.87\n",
      "      6              3.83\n",
      "      7              6.03\n",
      "      8              4.89\n",
      "      9              4.32\n",
      "      10             4.69\n",
      "trt2  1              6.31\n",
      "      2              5.12\n",
      "      3              5.54\n",
      "      4              5.50\n",
      "      5              5.37\n",
      "      6              5.29\n",
      "      7              4.92\n",
      "      8              6.15\n",
      "      9              5.80\n",
      "      10             5.26\n",
      "            weight            \n",
      "group         ctrl  trt1  trt2\n",
      "observation                   \n",
      "1             4.17  4.81  6.31\n",
      "2             5.58  4.17  5.12\n",
      "3             5.18  4.41  5.54\n",
      "4             6.11  3.59  5.50\n",
      "5             4.50  5.87  5.37\n",
      "6             4.61  3.83  5.29\n",
      "7             5.17  6.03  4.92\n",
      "8             4.53  4.89  6.15\n",
      "9             5.33  4.32  5.80\n",
      "10            5.14  4.69  5.26\n"
     ]
    }
   ],
   "source": [
    "stacked_df = plant_df.set_index([\"group\",\"observation\"])\n",
    "print stacked_df\n",
    "print stacked_df.unstack(level = 0)"
   ]
  },
  {
   "cell_type": "code",
   "execution_count": 174,
   "metadata": {
    "collapsed": false
   },
   "outputs": [
    {
     "data": {
      "text/html": [
       "<div>\n",
       "<table border=\"1\" class=\"dataframe\">\n",
       "  <thead>\n",
       "    <tr style=\"text-align: right;\">\n",
       "      <th></th>\n",
       "      <th></th>\n",
       "      <th>weight</th>\n",
       "    </tr>\n",
       "    <tr>\n",
       "      <th>group</th>\n",
       "      <th>observation</th>\n",
       "      <th></th>\n",
       "    </tr>\n",
       "  </thead>\n",
       "  <tbody>\n",
       "    <tr>\n",
       "      <th rowspan=\"10\" valign=\"top\">ctrl</th>\n",
       "      <th>1</th>\n",
       "      <td>4.17</td>\n",
       "    </tr>\n",
       "    <tr>\n",
       "      <th>2</th>\n",
       "      <td>5.58</td>\n",
       "    </tr>\n",
       "    <tr>\n",
       "      <th>3</th>\n",
       "      <td>5.18</td>\n",
       "    </tr>\n",
       "    <tr>\n",
       "      <th>4</th>\n",
       "      <td>6.11</td>\n",
       "    </tr>\n",
       "    <tr>\n",
       "      <th>5</th>\n",
       "      <td>4.50</td>\n",
       "    </tr>\n",
       "    <tr>\n",
       "      <th>6</th>\n",
       "      <td>4.61</td>\n",
       "    </tr>\n",
       "    <tr>\n",
       "      <th>7</th>\n",
       "      <td>5.17</td>\n",
       "    </tr>\n",
       "    <tr>\n",
       "      <th>8</th>\n",
       "      <td>4.53</td>\n",
       "    </tr>\n",
       "    <tr>\n",
       "      <th>9</th>\n",
       "      <td>5.33</td>\n",
       "    </tr>\n",
       "    <tr>\n",
       "      <th>10</th>\n",
       "      <td>5.14</td>\n",
       "    </tr>\n",
       "    <tr>\n",
       "      <th rowspan=\"10\" valign=\"top\">trt1</th>\n",
       "      <th>1</th>\n",
       "      <td>4.81</td>\n",
       "    </tr>\n",
       "    <tr>\n",
       "      <th>2</th>\n",
       "      <td>4.17</td>\n",
       "    </tr>\n",
       "    <tr>\n",
       "      <th>3</th>\n",
       "      <td>4.41</td>\n",
       "    </tr>\n",
       "    <tr>\n",
       "      <th>4</th>\n",
       "      <td>3.59</td>\n",
       "    </tr>\n",
       "    <tr>\n",
       "      <th>5</th>\n",
       "      <td>5.87</td>\n",
       "    </tr>\n",
       "    <tr>\n",
       "      <th>6</th>\n",
       "      <td>3.83</td>\n",
       "    </tr>\n",
       "    <tr>\n",
       "      <th>7</th>\n",
       "      <td>6.03</td>\n",
       "    </tr>\n",
       "    <tr>\n",
       "      <th>8</th>\n",
       "      <td>4.89</td>\n",
       "    </tr>\n",
       "    <tr>\n",
       "      <th>9</th>\n",
       "      <td>4.32</td>\n",
       "    </tr>\n",
       "    <tr>\n",
       "      <th>10</th>\n",
       "      <td>4.69</td>\n",
       "    </tr>\n",
       "    <tr>\n",
       "      <th rowspan=\"10\" valign=\"top\">trt2</th>\n",
       "      <th>1</th>\n",
       "      <td>6.31</td>\n",
       "    </tr>\n",
       "    <tr>\n",
       "      <th>2</th>\n",
       "      <td>5.12</td>\n",
       "    </tr>\n",
       "    <tr>\n",
       "      <th>3</th>\n",
       "      <td>5.54</td>\n",
       "    </tr>\n",
       "    <tr>\n",
       "      <th>4</th>\n",
       "      <td>5.50</td>\n",
       "    </tr>\n",
       "    <tr>\n",
       "      <th>5</th>\n",
       "      <td>5.37</td>\n",
       "    </tr>\n",
       "    <tr>\n",
       "      <th>6</th>\n",
       "      <td>5.29</td>\n",
       "    </tr>\n",
       "    <tr>\n",
       "      <th>7</th>\n",
       "      <td>4.92</td>\n",
       "    </tr>\n",
       "    <tr>\n",
       "      <th>8</th>\n",
       "      <td>6.15</td>\n",
       "    </tr>\n",
       "    <tr>\n",
       "      <th>9</th>\n",
       "      <td>5.80</td>\n",
       "    </tr>\n",
       "    <tr>\n",
       "      <th>10</th>\n",
       "      <td>5.26</td>\n",
       "    </tr>\n",
       "  </tbody>\n",
       "</table>\n",
       "</div>"
      ],
      "text/plain": [
       "                   weight\n",
       "group observation        \n",
       "ctrl  1              4.17\n",
       "      2              5.58\n",
       "      3              5.18\n",
       "      4              6.11\n",
       "      5              4.50\n",
       "      6              4.61\n",
       "      7              5.17\n",
       "      8              4.53\n",
       "      9              5.33\n",
       "      10             5.14\n",
       "trt1  1              4.81\n",
       "      2              4.17\n",
       "      3              4.41\n",
       "      4              3.59\n",
       "      5              5.87\n",
       "      6              3.83\n",
       "      7              6.03\n",
       "      8              4.89\n",
       "      9              4.32\n",
       "      10             4.69\n",
       "trt2  1              6.31\n",
       "      2              5.12\n",
       "      3              5.54\n",
       "      4              5.50\n",
       "      5              5.37\n",
       "      6              5.29\n",
       "      7              4.92\n",
       "      8              6.15\n",
       "      9              5.80\n",
       "      10             5.26"
      ]
     },
     "execution_count": 174,
     "metadata": {},
     "output_type": "execute_result"
    }
   ],
   "source": [
    "stacked_df = plant_df.set_index(['group', 'observation']) #컬럼에 있던걸 row로 . 이미 stacking한거다.\n",
    "stacked_df"
   ]
  },
  {
   "cell_type": "code",
   "execution_count": 160,
   "metadata": {
    "collapsed": false
   },
   "outputs": [
    {
     "data": {
      "text/html": [
       "<div>\n",
       "<table border=\"1\" class=\"dataframe\">\n",
       "  <thead>\n",
       "    <tr>\n",
       "      <th></th>\n",
       "      <th colspan=\"3\" halign=\"left\">weight</th>\n",
       "    </tr>\n",
       "    <tr>\n",
       "      <th>group</th>\n",
       "      <th>ctrl</th>\n",
       "      <th>trt1</th>\n",
       "      <th>trt2</th>\n",
       "    </tr>\n",
       "    <tr>\n",
       "      <th>observation</th>\n",
       "      <th></th>\n",
       "      <th></th>\n",
       "      <th></th>\n",
       "    </tr>\n",
       "  </thead>\n",
       "  <tbody>\n",
       "    <tr>\n",
       "      <th>1</th>\n",
       "      <td>4.17</td>\n",
       "      <td>4.81</td>\n",
       "      <td>6.31</td>\n",
       "    </tr>\n",
       "    <tr>\n",
       "      <th>2</th>\n",
       "      <td>5.58</td>\n",
       "      <td>4.17</td>\n",
       "      <td>5.12</td>\n",
       "    </tr>\n",
       "    <tr>\n",
       "      <th>3</th>\n",
       "      <td>5.18</td>\n",
       "      <td>4.41</td>\n",
       "      <td>5.54</td>\n",
       "    </tr>\n",
       "    <tr>\n",
       "      <th>4</th>\n",
       "      <td>6.11</td>\n",
       "      <td>3.59</td>\n",
       "      <td>5.50</td>\n",
       "    </tr>\n",
       "    <tr>\n",
       "      <th>5</th>\n",
       "      <td>4.50</td>\n",
       "      <td>5.87</td>\n",
       "      <td>5.37</td>\n",
       "    </tr>\n",
       "    <tr>\n",
       "      <th>6</th>\n",
       "      <td>4.61</td>\n",
       "      <td>3.83</td>\n",
       "      <td>5.29</td>\n",
       "    </tr>\n",
       "    <tr>\n",
       "      <th>7</th>\n",
       "      <td>5.17</td>\n",
       "      <td>6.03</td>\n",
       "      <td>4.92</td>\n",
       "    </tr>\n",
       "    <tr>\n",
       "      <th>8</th>\n",
       "      <td>4.53</td>\n",
       "      <td>4.89</td>\n",
       "      <td>6.15</td>\n",
       "    </tr>\n",
       "    <tr>\n",
       "      <th>9</th>\n",
       "      <td>5.33</td>\n",
       "      <td>4.32</td>\n",
       "      <td>5.80</td>\n",
       "    </tr>\n",
       "    <tr>\n",
       "      <th>10</th>\n",
       "      <td>5.14</td>\n",
       "      <td>4.69</td>\n",
       "      <td>5.26</td>\n",
       "    </tr>\n",
       "  </tbody>\n",
       "</table>\n",
       "</div>"
      ],
      "text/plain": [
       "            weight          \n",
       "group         ctrl trt1 trt2\n",
       "observation                 \n",
       "1             4.17 4.81 6.31\n",
       "2             5.58 4.17 5.12\n",
       "3             5.18 4.41 5.54\n",
       "4             6.11 3.59 5.50\n",
       "5             4.50 5.87 5.37\n",
       "6             4.61 3.83 5.29\n",
       "7             5.17 6.03 4.92\n",
       "8             4.53 4.89 6.15\n",
       "9             5.33 4.32 5.80\n",
       "10            5.14 4.69 5.26"
      ]
     },
     "execution_count": 160,
     "metadata": {},
     "output_type": "execute_result"
    }
   ],
   "source": [
    "stacked_df.unstack(level = 0)"
   ]
  },
  {
   "cell_type": "code",
   "execution_count": 161,
   "metadata": {
    "collapsed": false
   },
   "outputs": [
    {
     "data": {
      "text/html": [
       "<div>\n",
       "<table border=\"1\" class=\"dataframe\">\n",
       "  <thead>\n",
       "    <tr>\n",
       "      <th></th>\n",
       "      <th colspan=\"3\" halign=\"left\">weight</th>\n",
       "    </tr>\n",
       "    <tr>\n",
       "      <th>group</th>\n",
       "      <th>ctrl</th>\n",
       "      <th>trt1</th>\n",
       "      <th>trt2</th>\n",
       "    </tr>\n",
       "    <tr>\n",
       "      <th>observation</th>\n",
       "      <th></th>\n",
       "      <th></th>\n",
       "      <th></th>\n",
       "    </tr>\n",
       "  </thead>\n",
       "  <tbody>\n",
       "    <tr>\n",
       "      <th>1</th>\n",
       "      <td>4.17</td>\n",
       "      <td>4.81</td>\n",
       "      <td>6.31</td>\n",
       "    </tr>\n",
       "    <tr>\n",
       "      <th>2</th>\n",
       "      <td>5.58</td>\n",
       "      <td>4.17</td>\n",
       "      <td>5.12</td>\n",
       "    </tr>\n",
       "    <tr>\n",
       "      <th>3</th>\n",
       "      <td>5.18</td>\n",
       "      <td>4.41</td>\n",
       "      <td>5.54</td>\n",
       "    </tr>\n",
       "    <tr>\n",
       "      <th>4</th>\n",
       "      <td>6.11</td>\n",
       "      <td>3.59</td>\n",
       "      <td>5.50</td>\n",
       "    </tr>\n",
       "    <tr>\n",
       "      <th>5</th>\n",
       "      <td>4.50</td>\n",
       "      <td>5.87</td>\n",
       "      <td>5.37</td>\n",
       "    </tr>\n",
       "    <tr>\n",
       "      <th>6</th>\n",
       "      <td>4.61</td>\n",
       "      <td>3.83</td>\n",
       "      <td>5.29</td>\n",
       "    </tr>\n",
       "    <tr>\n",
       "      <th>7</th>\n",
       "      <td>5.17</td>\n",
       "      <td>6.03</td>\n",
       "      <td>4.92</td>\n",
       "    </tr>\n",
       "    <tr>\n",
       "      <th>8</th>\n",
       "      <td>4.53</td>\n",
       "      <td>4.89</td>\n",
       "      <td>6.15</td>\n",
       "    </tr>\n",
       "    <tr>\n",
       "      <th>9</th>\n",
       "      <td>5.33</td>\n",
       "      <td>4.32</td>\n",
       "      <td>5.80</td>\n",
       "    </tr>\n",
       "    <tr>\n",
       "      <th>10</th>\n",
       "      <td>5.14</td>\n",
       "      <td>4.69</td>\n",
       "      <td>5.26</td>\n",
       "    </tr>\n",
       "  </tbody>\n",
       "</table>\n",
       "</div>"
      ],
      "text/plain": [
       "            weight          \n",
       "group         ctrl trt1 trt2\n",
       "observation                 \n",
       "1             4.17 4.81 6.31\n",
       "2             5.58 4.17 5.12\n",
       "3             5.18 4.41 5.54\n",
       "4             6.11 3.59 5.50\n",
       "5             4.50 5.87 5.37\n",
       "6             4.61 3.83 5.29\n",
       "7             5.17 6.03 4.92\n",
       "8             4.53 4.89 6.15\n",
       "9             5.33 4.32 5.80\n",
       "10            5.14 4.69 5.26"
      ]
     },
     "execution_count": 161,
     "metadata": {},
     "output_type": "execute_result"
    }
   ],
   "source": [
    "stacked_df.unstack(level = 'group')"
   ]
  },
  {
   "cell_type": "markdown",
   "metadata": {},
   "source": [
    "* index 살펴보기"
   ]
  },
  {
   "cell_type": "code",
   "execution_count": 162,
   "metadata": {
    "collapsed": false
   },
   "outputs": [
    {
     "data": {
      "text/plain": [
       "RangeIndex(start=0, stop=30, step=1)"
      ]
     },
     "execution_count": 162,
     "metadata": {},
     "output_type": "execute_result"
    }
   ],
   "source": [
    "plant_df.index"
   ]
  },
  {
   "cell_type": "code",
   "execution_count": 178,
   "metadata": {
    "collapsed": false
   },
   "outputs": [
    {
     "data": {
      "text/plain": [
       "MultiIndex(levels=[[u'ctrl', u'trt1', u'trt2'], [1, 2, 3, 4, 5, 6, 7, 8, 9, 10]],\n",
       "           labels=[[0, 0, 0, 0, 0, 0, 0, 0, 0, 0, 1, 1, 1, 1, 1, 1, 1, 1, 1, 1, 2, 2, 2, 2, 2, 2, 2, 2, 2, 2], [0, 1, 2, 3, 4, 5, 6, 7, 8, 9, 0, 1, 2, 3, 4, 5, 6, 7, 8, 9, 0, 1, 2, 3, 4, 5, 6, 7, 8, 9]],\n",
       "           names=[u'group', u'observation'])"
      ]
     },
     "execution_count": 178,
     "metadata": {},
     "output_type": "execute_result"
    }
   ],
   "source": [
    "stacked_df.index"
   ]
  },
  {
   "cell_type": "code",
   "execution_count": 179,
   "metadata": {
    "collapsed": false
   },
   "outputs": [
    {
     "data": {
      "text/plain": [
       "Index([u'weight'], dtype='object')"
      ]
     },
     "execution_count": 179,
     "metadata": {},
     "output_type": "execute_result"
    }
   ],
   "source": [
    "stacked_df.columns"
   ]
  },
  {
   "cell_type": "code",
   "execution_count": 180,
   "metadata": {
    "collapsed": false
   },
   "outputs": [
    {
     "data": {
      "text/plain": [
       "Int64Index([1, 2, 3, 4, 5, 6, 7, 8, 9, 10], dtype='int64', name=u'observation')"
      ]
     },
     "execution_count": 180,
     "metadata": {},
     "output_type": "execute_result"
    }
   ],
   "source": [
    "stacked_df.unstack(level = 'group').index"
   ]
  },
  {
   "cell_type": "code",
   "execution_count": 181,
   "metadata": {
    "collapsed": false
   },
   "outputs": [
    {
     "data": {
      "text/plain": [
       "MultiIndex(levels=[[u'weight'], [u'ctrl', u'trt1', u'trt2']],\n",
       "           labels=[[0, 0, 0], [0, 1, 2]],\n",
       "           names=[None, u'group'])"
      ]
     },
     "execution_count": 181,
     "metadata": {},
     "output_type": "execute_result"
    }
   ],
   "source": [
    "stacked_df.unstack(level = 'group').columns"
   ]
  },
  {
   "cell_type": "code",
   "execution_count": 182,
   "metadata": {
    "collapsed": false
   },
   "outputs": [
    {
     "data": {
      "text/html": [
       "<div>\n",
       "<table border=\"1\" class=\"dataframe\">\n",
       "  <thead>\n",
       "    <tr>\n",
       "      <th></th>\n",
       "      <th colspan=\"3\" halign=\"left\">weight</th>\n",
       "    </tr>\n",
       "    <tr>\n",
       "      <th>group</th>\n",
       "      <th>ctrl</th>\n",
       "      <th>trt1</th>\n",
       "      <th>trt2</th>\n",
       "    </tr>\n",
       "    <tr>\n",
       "      <th>observation</th>\n",
       "      <th></th>\n",
       "      <th></th>\n",
       "      <th></th>\n",
       "    </tr>\n",
       "  </thead>\n",
       "  <tbody>\n",
       "    <tr>\n",
       "      <th>1</th>\n",
       "      <td>4.17</td>\n",
       "      <td>4.81</td>\n",
       "      <td>6.31</td>\n",
       "    </tr>\n",
       "    <tr>\n",
       "      <th>2</th>\n",
       "      <td>5.58</td>\n",
       "      <td>4.17</td>\n",
       "      <td>5.12</td>\n",
       "    </tr>\n",
       "    <tr>\n",
       "      <th>3</th>\n",
       "      <td>5.18</td>\n",
       "      <td>4.41</td>\n",
       "      <td>5.54</td>\n",
       "    </tr>\n",
       "    <tr>\n",
       "      <th>4</th>\n",
       "      <td>6.11</td>\n",
       "      <td>3.59</td>\n",
       "      <td>5.50</td>\n",
       "    </tr>\n",
       "    <tr>\n",
       "      <th>5</th>\n",
       "      <td>4.50</td>\n",
       "      <td>5.87</td>\n",
       "      <td>5.37</td>\n",
       "    </tr>\n",
       "    <tr>\n",
       "      <th>6</th>\n",
       "      <td>4.61</td>\n",
       "      <td>3.83</td>\n",
       "      <td>5.29</td>\n",
       "    </tr>\n",
       "    <tr>\n",
       "      <th>7</th>\n",
       "      <td>5.17</td>\n",
       "      <td>6.03</td>\n",
       "      <td>4.92</td>\n",
       "    </tr>\n",
       "    <tr>\n",
       "      <th>8</th>\n",
       "      <td>4.53</td>\n",
       "      <td>4.89</td>\n",
       "      <td>6.15</td>\n",
       "    </tr>\n",
       "    <tr>\n",
       "      <th>9</th>\n",
       "      <td>5.33</td>\n",
       "      <td>4.32</td>\n",
       "      <td>5.80</td>\n",
       "    </tr>\n",
       "    <tr>\n",
       "      <th>10</th>\n",
       "      <td>5.14</td>\n",
       "      <td>4.69</td>\n",
       "      <td>5.26</td>\n",
       "    </tr>\n",
       "  </tbody>\n",
       "</table>\n",
       "</div>"
      ],
      "text/plain": [
       "            weight            \n",
       "group         ctrl  trt1  trt2\n",
       "observation                   \n",
       "1             4.17  4.81  6.31\n",
       "2             5.58  4.17  5.12\n",
       "3             5.18  4.41  5.54\n",
       "4             6.11  3.59  5.50\n",
       "5             4.50  5.87  5.37\n",
       "6             4.61  3.83  5.29\n",
       "7             5.17  6.03  4.92\n",
       "8             4.53  4.89  6.15\n",
       "9             5.33  4.32  5.80\n",
       "10            5.14  4.69  5.26"
      ]
     },
     "execution_count": 182,
     "metadata": {},
     "output_type": "execute_result"
    }
   ],
   "source": [
    "stacked_df.unstack(level = 'group')"
   ]
  },
  {
   "cell_type": "code",
   "execution_count": 183,
   "metadata": {
    "collapsed": false
   },
   "outputs": [
    {
     "data": {
      "text/html": [
       "<div>\n",
       "<table border=\"1\" class=\"dataframe\">\n",
       "  <thead>\n",
       "    <tr style=\"text-align: right;\">\n",
       "      <th></th>\n",
       "      <th></th>\n",
       "      <th>weight</th>\n",
       "    </tr>\n",
       "    <tr>\n",
       "      <th>observation</th>\n",
       "      <th>group</th>\n",
       "      <th></th>\n",
       "    </tr>\n",
       "  </thead>\n",
       "  <tbody>\n",
       "    <tr>\n",
       "      <th rowspan=\"3\" valign=\"top\">1</th>\n",
       "      <th>ctrl</th>\n",
       "      <td>4.17</td>\n",
       "    </tr>\n",
       "    <tr>\n",
       "      <th>trt1</th>\n",
       "      <td>4.81</td>\n",
       "    </tr>\n",
       "    <tr>\n",
       "      <th>trt2</th>\n",
       "      <td>6.31</td>\n",
       "    </tr>\n",
       "    <tr>\n",
       "      <th rowspan=\"3\" valign=\"top\">2</th>\n",
       "      <th>ctrl</th>\n",
       "      <td>5.58</td>\n",
       "    </tr>\n",
       "    <tr>\n",
       "      <th>trt1</th>\n",
       "      <td>4.17</td>\n",
       "    </tr>\n",
       "    <tr>\n",
       "      <th>trt2</th>\n",
       "      <td>5.12</td>\n",
       "    </tr>\n",
       "    <tr>\n",
       "      <th rowspan=\"3\" valign=\"top\">3</th>\n",
       "      <th>ctrl</th>\n",
       "      <td>5.18</td>\n",
       "    </tr>\n",
       "    <tr>\n",
       "      <th>trt1</th>\n",
       "      <td>4.41</td>\n",
       "    </tr>\n",
       "    <tr>\n",
       "      <th>trt2</th>\n",
       "      <td>5.54</td>\n",
       "    </tr>\n",
       "    <tr>\n",
       "      <th rowspan=\"3\" valign=\"top\">4</th>\n",
       "      <th>ctrl</th>\n",
       "      <td>6.11</td>\n",
       "    </tr>\n",
       "    <tr>\n",
       "      <th>trt1</th>\n",
       "      <td>3.59</td>\n",
       "    </tr>\n",
       "    <tr>\n",
       "      <th>trt2</th>\n",
       "      <td>5.50</td>\n",
       "    </tr>\n",
       "    <tr>\n",
       "      <th rowspan=\"3\" valign=\"top\">5</th>\n",
       "      <th>ctrl</th>\n",
       "      <td>4.50</td>\n",
       "    </tr>\n",
       "    <tr>\n",
       "      <th>trt1</th>\n",
       "      <td>5.87</td>\n",
       "    </tr>\n",
       "    <tr>\n",
       "      <th>trt2</th>\n",
       "      <td>5.37</td>\n",
       "    </tr>\n",
       "    <tr>\n",
       "      <th rowspan=\"3\" valign=\"top\">6</th>\n",
       "      <th>ctrl</th>\n",
       "      <td>4.61</td>\n",
       "    </tr>\n",
       "    <tr>\n",
       "      <th>trt1</th>\n",
       "      <td>3.83</td>\n",
       "    </tr>\n",
       "    <tr>\n",
       "      <th>trt2</th>\n",
       "      <td>5.29</td>\n",
       "    </tr>\n",
       "    <tr>\n",
       "      <th rowspan=\"3\" valign=\"top\">7</th>\n",
       "      <th>ctrl</th>\n",
       "      <td>5.17</td>\n",
       "    </tr>\n",
       "    <tr>\n",
       "      <th>trt1</th>\n",
       "      <td>6.03</td>\n",
       "    </tr>\n",
       "    <tr>\n",
       "      <th>trt2</th>\n",
       "      <td>4.92</td>\n",
       "    </tr>\n",
       "    <tr>\n",
       "      <th rowspan=\"3\" valign=\"top\">8</th>\n",
       "      <th>ctrl</th>\n",
       "      <td>4.53</td>\n",
       "    </tr>\n",
       "    <tr>\n",
       "      <th>trt1</th>\n",
       "      <td>4.89</td>\n",
       "    </tr>\n",
       "    <tr>\n",
       "      <th>trt2</th>\n",
       "      <td>6.15</td>\n",
       "    </tr>\n",
       "    <tr>\n",
       "      <th rowspan=\"3\" valign=\"top\">9</th>\n",
       "      <th>ctrl</th>\n",
       "      <td>5.33</td>\n",
       "    </tr>\n",
       "    <tr>\n",
       "      <th>trt1</th>\n",
       "      <td>4.32</td>\n",
       "    </tr>\n",
       "    <tr>\n",
       "      <th>trt2</th>\n",
       "      <td>5.80</td>\n",
       "    </tr>\n",
       "    <tr>\n",
       "      <th rowspan=\"3\" valign=\"top\">10</th>\n",
       "      <th>ctrl</th>\n",
       "      <td>5.14</td>\n",
       "    </tr>\n",
       "    <tr>\n",
       "      <th>trt1</th>\n",
       "      <td>4.69</td>\n",
       "    </tr>\n",
       "    <tr>\n",
       "      <th>trt2</th>\n",
       "      <td>5.26</td>\n",
       "    </tr>\n",
       "  </tbody>\n",
       "</table>\n",
       "</div>"
      ],
      "text/plain": [
       "                   weight\n",
       "observation group        \n",
       "1           ctrl     4.17\n",
       "            trt1     4.81\n",
       "            trt2     6.31\n",
       "2           ctrl     5.58\n",
       "            trt1     4.17\n",
       "            trt2     5.12\n",
       "3           ctrl     5.18\n",
       "            trt1     4.41\n",
       "            trt2     5.54\n",
       "4           ctrl     6.11\n",
       "            trt1     3.59\n",
       "            trt2     5.50\n",
       "5           ctrl     4.50\n",
       "            trt1     5.87\n",
       "            trt2     5.37\n",
       "6           ctrl     4.61\n",
       "            trt1     3.83\n",
       "            trt2     5.29\n",
       "7           ctrl     5.17\n",
       "            trt1     6.03\n",
       "            trt2     4.92\n",
       "8           ctrl     4.53\n",
       "            trt1     4.89\n",
       "            trt2     6.15\n",
       "9           ctrl     5.33\n",
       "            trt1     4.32\n",
       "            trt2     5.80\n",
       "10          ctrl     5.14\n",
       "            trt1     4.69\n",
       "            trt2     5.26"
      ]
     },
     "execution_count": 183,
     "metadata": {},
     "output_type": "execute_result"
    }
   ],
   "source": [
    "stacked_df.unstack(level = 'group').stack(level='group') #다시 stack하면 "
   ]
  },
  {
   "cell_type": "code",
   "execution_count": 170,
   "metadata": {
    "collapsed": false,
    "scrolled": true
   },
   "outputs": [
    {
     "data": {
      "text/html": [
       "<div>\n",
       "<table border=\"1\" class=\"dataframe\">\n",
       "  <thead>\n",
       "    <tr>\n",
       "      <th></th>\n",
       "      <th colspan=\"10\" halign=\"left\">weight</th>\n",
       "    </tr>\n",
       "    <tr>\n",
       "      <th>observation</th>\n",
       "      <th>1</th>\n",
       "      <th>2</th>\n",
       "      <th>3</th>\n",
       "      <th>4</th>\n",
       "      <th>5</th>\n",
       "      <th>6</th>\n",
       "      <th>7</th>\n",
       "      <th>8</th>\n",
       "      <th>9</th>\n",
       "      <th>10</th>\n",
       "    </tr>\n",
       "    <tr>\n",
       "      <th>group</th>\n",
       "      <th></th>\n",
       "      <th></th>\n",
       "      <th></th>\n",
       "      <th></th>\n",
       "      <th></th>\n",
       "      <th></th>\n",
       "      <th></th>\n",
       "      <th></th>\n",
       "      <th></th>\n",
       "      <th></th>\n",
       "    </tr>\n",
       "  </thead>\n",
       "  <tbody>\n",
       "    <tr>\n",
       "      <th>ctrl</th>\n",
       "      <td>4.17</td>\n",
       "      <td>5.58</td>\n",
       "      <td>5.18</td>\n",
       "      <td>6.11</td>\n",
       "      <td>4.50</td>\n",
       "      <td>4.61</td>\n",
       "      <td>5.17</td>\n",
       "      <td>4.53</td>\n",
       "      <td>5.33</td>\n",
       "      <td>5.14</td>\n",
       "    </tr>\n",
       "    <tr>\n",
       "      <th>trt1</th>\n",
       "      <td>4.81</td>\n",
       "      <td>4.17</td>\n",
       "      <td>4.41</td>\n",
       "      <td>3.59</td>\n",
       "      <td>5.87</td>\n",
       "      <td>3.83</td>\n",
       "      <td>6.03</td>\n",
       "      <td>4.89</td>\n",
       "      <td>4.32</td>\n",
       "      <td>4.69</td>\n",
       "    </tr>\n",
       "    <tr>\n",
       "      <th>trt2</th>\n",
       "      <td>6.31</td>\n",
       "      <td>5.12</td>\n",
       "      <td>5.54</td>\n",
       "      <td>5.50</td>\n",
       "      <td>5.37</td>\n",
       "      <td>5.29</td>\n",
       "      <td>4.92</td>\n",
       "      <td>6.15</td>\n",
       "      <td>5.80</td>\n",
       "      <td>5.26</td>\n",
       "    </tr>\n",
       "  </tbody>\n",
       "</table>\n",
       "</div>"
      ],
      "text/plain": [
       "            weight                                             \n",
       "observation     1    2    3    4    5    6    7    8    9    10\n",
       "group                                                          \n",
       "ctrl          4.17 5.58 5.18 6.11 4.50 4.61 5.17 4.53 5.33 5.14\n",
       "trt1          4.81 4.17 4.41 3.59 5.87 3.83 6.03 4.89 4.32 4.69\n",
       "trt2          6.31 5.12 5.54 5.50 5.37 5.29 4.92 6.15 5.80 5.26"
      ]
     },
     "execution_count": 170,
     "metadata": {},
     "output_type": "execute_result"
    }
   ],
   "source": [
    "stacked_df.unstack() # 기본적으로 가장 마지막 레벨의 인덱스를 기준으로 동작"
   ]
  },
  {
   "cell_type": "code",
   "execution_count": 171,
   "metadata": {
    "collapsed": false
   },
   "outputs": [
    {
     "data": {
      "text/html": [
       "<div>\n",
       "<table border=\"1\" class=\"dataframe\">\n",
       "  <thead>\n",
       "    <tr style=\"text-align: right;\">\n",
       "      <th></th>\n",
       "      <th></th>\n",
       "      <th>weight</th>\n",
       "    </tr>\n",
       "    <tr>\n",
       "      <th>group</th>\n",
       "      <th>observation</th>\n",
       "      <th></th>\n",
       "    </tr>\n",
       "  </thead>\n",
       "  <tbody>\n",
       "    <tr>\n",
       "      <th rowspan=\"10\" valign=\"top\">ctrl</th>\n",
       "      <th>1</th>\n",
       "      <td>4.17</td>\n",
       "    </tr>\n",
       "    <tr>\n",
       "      <th>2</th>\n",
       "      <td>5.58</td>\n",
       "    </tr>\n",
       "    <tr>\n",
       "      <th>3</th>\n",
       "      <td>5.18</td>\n",
       "    </tr>\n",
       "    <tr>\n",
       "      <th>4</th>\n",
       "      <td>6.11</td>\n",
       "    </tr>\n",
       "    <tr>\n",
       "      <th>5</th>\n",
       "      <td>4.50</td>\n",
       "    </tr>\n",
       "    <tr>\n",
       "      <th>6</th>\n",
       "      <td>4.61</td>\n",
       "    </tr>\n",
       "    <tr>\n",
       "      <th>7</th>\n",
       "      <td>5.17</td>\n",
       "    </tr>\n",
       "    <tr>\n",
       "      <th>8</th>\n",
       "      <td>4.53</td>\n",
       "    </tr>\n",
       "    <tr>\n",
       "      <th>9</th>\n",
       "      <td>5.33</td>\n",
       "    </tr>\n",
       "    <tr>\n",
       "      <th>10</th>\n",
       "      <td>5.14</td>\n",
       "    </tr>\n",
       "    <tr>\n",
       "      <th rowspan=\"10\" valign=\"top\">trt1</th>\n",
       "      <th>1</th>\n",
       "      <td>4.81</td>\n",
       "    </tr>\n",
       "    <tr>\n",
       "      <th>2</th>\n",
       "      <td>4.17</td>\n",
       "    </tr>\n",
       "    <tr>\n",
       "      <th>3</th>\n",
       "      <td>4.41</td>\n",
       "    </tr>\n",
       "    <tr>\n",
       "      <th>4</th>\n",
       "      <td>3.59</td>\n",
       "    </tr>\n",
       "    <tr>\n",
       "      <th>5</th>\n",
       "      <td>5.87</td>\n",
       "    </tr>\n",
       "    <tr>\n",
       "      <th>6</th>\n",
       "      <td>3.83</td>\n",
       "    </tr>\n",
       "    <tr>\n",
       "      <th>7</th>\n",
       "      <td>6.03</td>\n",
       "    </tr>\n",
       "    <tr>\n",
       "      <th>8</th>\n",
       "      <td>4.89</td>\n",
       "    </tr>\n",
       "    <tr>\n",
       "      <th>9</th>\n",
       "      <td>4.32</td>\n",
       "    </tr>\n",
       "    <tr>\n",
       "      <th>10</th>\n",
       "      <td>4.69</td>\n",
       "    </tr>\n",
       "    <tr>\n",
       "      <th rowspan=\"10\" valign=\"top\">trt2</th>\n",
       "      <th>1</th>\n",
       "      <td>6.31</td>\n",
       "    </tr>\n",
       "    <tr>\n",
       "      <th>2</th>\n",
       "      <td>5.12</td>\n",
       "    </tr>\n",
       "    <tr>\n",
       "      <th>3</th>\n",
       "      <td>5.54</td>\n",
       "    </tr>\n",
       "    <tr>\n",
       "      <th>4</th>\n",
       "      <td>5.50</td>\n",
       "    </tr>\n",
       "    <tr>\n",
       "      <th>5</th>\n",
       "      <td>5.37</td>\n",
       "    </tr>\n",
       "    <tr>\n",
       "      <th>6</th>\n",
       "      <td>5.29</td>\n",
       "    </tr>\n",
       "    <tr>\n",
       "      <th>7</th>\n",
       "      <td>4.92</td>\n",
       "    </tr>\n",
       "    <tr>\n",
       "      <th>8</th>\n",
       "      <td>6.15</td>\n",
       "    </tr>\n",
       "    <tr>\n",
       "      <th>9</th>\n",
       "      <td>5.80</td>\n",
       "    </tr>\n",
       "    <tr>\n",
       "      <th>10</th>\n",
       "      <td>5.26</td>\n",
       "    </tr>\n",
       "  </tbody>\n",
       "</table>\n",
       "</div>"
      ],
      "text/plain": [
       "                   weight\n",
       "group observation        \n",
       "ctrl  1              4.17\n",
       "      2              5.58\n",
       "      3              5.18\n",
       "      4              6.11\n",
       "      5              4.50\n",
       "      6              4.61\n",
       "      7              5.17\n",
       "      8              4.53\n",
       "      9              5.33\n",
       "      10             5.14\n",
       "trt1  1              4.81\n",
       "      2              4.17\n",
       "      3              4.41\n",
       "      4              3.59\n",
       "      5              5.87\n",
       "      6              3.83\n",
       "      7              6.03\n",
       "      8              4.89\n",
       "      9              4.32\n",
       "      10             4.69\n",
       "trt2  1              6.31\n",
       "      2              5.12\n",
       "      3              5.54\n",
       "      4              5.50\n",
       "      5              5.37\n",
       "      6              5.29\n",
       "      7              4.92\n",
       "      8              6.15\n",
       "      9              5.80\n",
       "      10             5.26"
      ]
     },
     "execution_count": 171,
     "metadata": {},
     "output_type": "execute_result"
    }
   ],
   "source": [
    "stacked_df.unstack().stack()"
   ]
  },
  {
   "cell_type": "code",
   "execution_count": null,
   "metadata": {
    "collapsed": true
   },
   "outputs": [],
   "source": []
  },
  {
   "cell_type": "markdown",
   "metadata": {},
   "source": [
    "* 도식화 및 시각화\n",
    " - 파이썬은 다양한 시각화 도구를 제공\n",
    " - matplotlib는 주로 2D 도표를 위해 설계되었고, MATLAB과 유사한 인터페이스를 지원하고자 시작됨.\n",
    " - pip install matplotlib"
   ]
  },
  {
   "cell_type": "code",
   "execution_count": 185,
   "metadata": {
    "collapsed": false
   },
   "outputs": [],
   "source": [
    "import matplotlib.pyplot as plt\n",
    "%matplotlib inline "
   ]
  },
  {
   "cell_type": "code",
   "execution_count": 186,
   "metadata": {
    "collapsed": false
   },
   "outputs": [
    {
     "data": {
      "image/png": "[encoded data removed]",
      "text/plain": [
       "<matplotlib.figure.Figure at 0x6a44c70>"
      ]
     },
     "metadata": {},
     "output_type": "display_data"
    }
   ],
   "source": [
    "plt.plot(np.random.randn(50).cumsum(),'r-.') #r- 빨간색 실선\n",
    "plt.show()"
   ]
  },
  {
   "cell_type": "code",
   "execution_count": 187,
   "metadata": {
    "collapsed": false
   },
   "outputs": [
    {
     "data": {
      "image/png": "[encoded data removed]",
      "text/plain": [
       "<matplotlib.figure.Figure at 0x6c0e130>"
      ]
     },
     "metadata": {},
     "output_type": "display_data"
    }
   ],
   "source": [
    "plt.plot(np.random.randn(50).cumsum(),\"r-\")\n",
    "plt.show()"
   ]
  },
  {
   "cell_type": "code",
   "execution_count": 200,
   "metadata": {
    "collapsed": false,
    "scrolled": true
   },
   "outputs": [
    {
     "data": {
      "image/png": "[encoded data removed]",
      "text/plain": [
       "<matplotlib.figure.Figure at 0x6ca2eb0>"
      ]
     },
     "metadata": {},
     "output_type": "display_data"
    }
   ],
   "source": [
    "plt.hist(np.random.randn(100), bins = 10, color = \"b\", alpha = 0.3) #bins: 구간 갯수, alpha: 투명도\n",
    "plt.show()"
   ]
  },
  {
   "cell_type": "code",
   "execution_count": 200,
   "metadata": {
    "collapsed": false
   },
   "outputs": [
    {
     "data": {
      "image/png": "[encoded data removed]",
      "text/plain": [
       "<matplotlib.figure.Figure at 0x7a62db0>"
      ]
     },
     "metadata": {},
     "output_type": "display_data"
    }
   ],
   "source": [
    "plt.hist(np.random.randn(100000),bins = 20, color =\"green\", alpha = 0.7) #뽑는 수가 커질 수록 정규분포에 가까워짐.\n",
    "plt.show()"
   ]
  },
  {
   "cell_type": "code",
   "execution_count": 204,
   "metadata": {
    "collapsed": false,
    "scrolled": true
   },
   "outputs": [
    {
     "data": {
      "image/png": "[encoded data removed]",
      "text/plain": [
       "<matplotlib.figure.Figure at 0x6a7eed0>"
      ]
     },
     "metadata": {},
     "output_type": "display_data"
    }
   ],
   "source": [
    "plt.scatter(np.arange(30), np.arange(30) + np.random.randn(30) * 3) \n",
    "plt.show()"
   ]
  },
  {
   "cell_type": "code",
   "execution_count": 205,
   "metadata": {
    "collapsed": false
   },
   "outputs": [
    {
     "data": {
      "image/png": "[encoded data removed]",
      "text/plain": [
       "<matplotlib.figure.Figure at 0x7b35af0>"
      ]
     },
     "metadata": {},
     "output_type": "display_data"
    }
   ],
   "source": [
    "plt.scatter(np.arange(50),np.arange(50) + np.random.randn(50)*3) #Make a scatter plot of `x` vs `y`\n",
    "plt.show()"
   ]
  },
  {
   "cell_type": "markdown",
   "metadata": {},
   "source": [
    "* subplot\n",
    "  - 여러개의 sub plot으로 구성 가능"
   ]
  },
  {
   "cell_type": "code",
   "execution_count": 211,
   "metadata": {
    "collapsed": false
   },
   "outputs": [
    {
     "data": {
      "image/png": "[encoded data removed]",
      "text/plain": [
       "<matplotlib.figure.Figure at 0x8366090>"
      ]
     },
     "metadata": {},
     "output_type": "display_data"
    }
   ],
   "source": [
    "fig, axes = plt.subplots(2, 2, sharex = True, sharey = True) #구역을 2 by 2로 만들어주는 subplot을 만든거고. fig는 \n",
    "for i in xrange(2): #xrange 는 range와 동일한데 연산이 더 빠른 것\n",
    "    for j in xrange(2):\n",
    "        axes[i, j].hist(np.random.randn(500), bins = 50, color = \"k\", alpha = 0.5)\n",
    "        \n",
    "plt.subplots_adjust(wspace = 0, hspace = 0)"
   ]
  },
  {
   "cell_type": "code",
   "execution_count": 211,
   "metadata": {
    "collapsed": false
   },
   "outputs": [
    {
     "data": {
      "image/png": "[encoded data removed]",
      "text/plain": [
       "<matplotlib.figure.Figure at 0x7fb08d0>"
      ]
     },
     "metadata": {},
     "output_type": "display_data"
    }
   ],
   "source": [
    "fig, axes = plt.subplots(3, 3, sharex = True, sharey = True)\n",
    "for i in range(3):\n",
    "    for j in range(3):\n",
    "        axes[i, j].plot(np.arange(50), np.arange(50) + np.random.randn(50) * 30)\n",
    "\n",
    "plt.subplots_adjust(wspace = 0, hspace = 0)\n",
    "plt.show()"
   ]
  },
  {
   "cell_type": "markdown",
   "metadata": {},
   "source": [
    "* 선 스타일\n",
    " - 색상, 마커, 스타일\n",
    " - 색상 \n",
    "    + 주로 RGB 값을 사용하나, r(빨강), g(초록), b(파랑), k(검정)과 같이 약어를 쓰기도한다.\n",
    " - 스타일\n",
    "    + -, --, -., :, o, x, ^"
   ]
  },
  {
   "cell_type": "code",
   "execution_count": 220,
   "metadata": {
    "collapsed": false,
    "scrolled": true
   },
   "outputs": [
    {
     "data": {
      "image/png": "[encoded data removed]",
      "text/plain": [
       "<matplotlib.figure.Figure at 0x7b9a070>"
      ]
     },
     "metadata": {},
     "output_type": "display_data"
    }
   ],
   "source": [
    "plt.plot(np.arange(30), np.arange(30) + np.random.randn(30) * 3, 'r^')#red 세모. \n",
    "plt.plot(np.arange(30), np.arange(30) + np.random.randn(30) * 3, 'r.')#red 점 \n",
    "plt.show() #plot은 선이고, scatter는 점이다. 그런데 plot으로는 점도 찍을 수 있고."
   ]
  },
  {
   "cell_type": "markdown",
   "metadata": {},
   "source": [
    "* 연습문제 )\n",
    " 1. 파랑, 녹색을 이용하여 subplot에 -, --, -., : x, o, ^의 조합의 선 그래프를 출력해보세요"
   ]
  },
  {
   "cell_type": "code",
   "execution_count": 298,
   "metadata": {
    "collapsed": false,
    "scrolled": true
   },
   "outputs": [
    {
     "data": {
      "image/png": "[encoded data removed]",
      "text/plain": [
       "<matplotlib.figure.Figure at 0x8e891f0>"
      ]
     },
     "metadata": {},
     "output_type": "display_data"
    }
   ],
   "source": [
    "color = [\"g\", \"b\"]\n",
    "style = [\"\", \"-\", \"-.\", \".\", \"x\", \"o\", \"^\"] #숫자 0이 아니라 알파벳 o\n",
    "\n",
    "fig, axes = plt.subplots(2, 7, sharex = True, sharey = True, figsize = (4,4)) #figsize로 크기 조절 가능\n",
    "for i in xrange(2):\n",
    "    for j in xrange(7):\n",
    "        axes[i, j].plot(np.arange(30) + 3 * np.random.randn(30), color[i]+style[j])\n",
    "        \n",
    "plt.subplots_adjust(wspace = 0, hspace = 0)\n",
    "plt.title(\"Subplots with Two rows, Seven columns\")\n",
    "plt.xlabel(\"Time\")\n",
    "plt.ylabel(\"KOSPI200\")\n",
    "plt.show()"
   ]
  },
  {
   "cell_type": "markdown",
   "metadata": {},
   "source": [
    "* 제목, 축이름, 눈금, 눈금이름 설정"
   ]
  },
  {
   "cell_type": "code",
   "execution_count": 156,
   "metadata": {
    "collapsed": false
   },
   "outputs": [
    {
     "data": {
      "image/png": "[encoded data removed]",
      "text/plain": [
       "<matplotlib.figure.Figure at 0x11048d290>"
      ]
     },
     "metadata": {},
     "output_type": "display_data"
    }
   ],
   "source": []
  },
  {
   "cell_type": "code",
   "execution_count": 177,
   "metadata": {
    "collapsed": false
   },
   "outputs": [
    {
     "data": {
      "image/png": "[encoded data removed]",
      "text/plain": [
       "<matplotlib.figure.Figure at 0x111d0f6d0>"
      ]
     },
     "metadata": {},
     "output_type": "display_data"
    }
   ],
   "source": []
  },
  {
   "cell_type": "markdown",
   "metadata": {},
   "source": [
    "* 연습문제 \n",
    " 1. 방금 전 구현했던 계단 오르내리는 과정을 그래프로 표현해보세요\n",
    "   - python version과 numpy 버젼을 범례와 함께 같이 그려보세요"
   ]
  },
  {
   "cell_type": "code",
   "execution_count": 312,
   "metadata": {
    "collapsed": false
   },
   "outputs": [
    {
     "data": {
      "image/png": "[encoded data removed]",
      "text/plain": [
       "<matplotlib.figure.Figure at 0x7b26230>"
      ]
     },
     "metadata": {},
     "output_type": "display_data"
    }
   ],
   "source": [
    "# 순수 파이썬 버젼\n",
    "#import random\n",
    "pos = 0\n",
    "walk = [pos]\n",
    "steps = 1000\n",
    "for i in xrange(steps):\n",
    "    step = 1 if random.randint(0, 1) else -1\n",
    "    pos += step\n",
    "    walk.append(pos)\n",
    "\n",
    "plt.plot(walk, \"r-\", label = \"pure python\")\n",
    "\n",
    "\n",
    "np_steps = 1000\n",
    "ways = np.random.randint(0, 2, size = np_steps)\n",
    "np_steps = np.where(ways > 0, 1, -1)\n",
    "np_walk = np_steps.cumsum()\n",
    "\n",
    "plt.plot(np_steps.cumsum(),'b-', label=\"numpy\")\n",
    "legend = plt.legend(loc='upper right', shadow=True)\n",
    "plt.title(\"Subplots with Two rows, Seven columns\")\n",
    "plt.xlabel(\"Time\")\n",
    "plt.ylabel(\"KOSPI200\")\n",
    "#plt.axis([0, 500, -50, 50]) #좌우상하 제한 -> 특정 구간 확대해서 보고 싶을 때.\n",
    "plt.grid(True) #눈금, 모눈종이\n",
    "plt.show()"
   ]
  },
  {
   "cell_type": "code",
   "execution_count": null,
   "metadata": {
    "collapsed": true
   },
   "outputs": [],
   "source": []
  },
  {
   "cell_type": "code",
   "execution_count": 194,
   "metadata": {
    "collapsed": false
   },
   "outputs": [
    {
     "data": {
      "image/png": "[encoded data removed]",
      "text/plain": [
       "<matplotlib.figure.Figure at 0x1100dda50>"
      ]
     },
     "metadata": {},
     "output_type": "display_data"
    }
   ],
   "source": []
  },
  {
   "cell_type": "markdown",
   "metadata": {},
   "source": [
    "### http://matplotlib.org/api/pyplot_api.html\n",
    "### http://matplotlib.org/users/pyplot_tutorial.html"
   ]
  }
 ],
 "metadata": {
  "kernelspec": {
   "display_name": "Python 2",
   "language": "python",
   "name": "python2"
  },
  "language_info": {
   "codemirror_mode": {
    "name": "ipython",
    "version": 2
   },
   "file_extension": ".py",
   "mimetype": "text/x-python",
   "name": "python",
   "nbconvert_exporter": "python",
   "pygments_lexer": "ipython2",
   "version": "2.7.13"
  }
 },
 "nbformat": 4,
 "nbformat_minor": 1
}
