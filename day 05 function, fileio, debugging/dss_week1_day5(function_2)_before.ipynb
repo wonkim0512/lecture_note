{
 "cells": [
  {
   "cell_type": "markdown",
   "metadata": {},
   "source": [
    "# Function 2\n",
    "\n",
    "## 학습목표\n",
    " 1. 재귀함수 구현 및 사용 숙지\n",
    " 2. Lambda 함수 이해 및 사용\n",
    " 3. 모듈 임포트 후, 해당 모듈의 함수 사용법 "
   ]
  },
  {
   "cell_type": "markdown",
   "metadata": {},
   "source": [
    "* binary search 구현"
   ]
  },
  {
   "cell_type": "code",
   "execution_count": 4,
   "metadata": {
    "collapsed": false
   },
   "outputs": [
    {
     "name": "stdout",
     "output_type": "stream",
     "text": [
      "5\n",
      "0\n",
      "10\n",
      "-1\n",
      "11\n",
      "-1\n"
     ]
    }
   ],
   "source": [
    "def binary_search(nums, x):\n",
    "    s = 0\n",
    "    e = len(nums) - 1\n",
    "    \n",
    "    while s <= e:\n",
    "        mid = (s + e) / 2\n",
    "        if nums[mid] == x:\n",
    "            return mid\n",
    "        elif nums[mid] > x:\n",
    "            e = mid - 1\n",
    "        else:\n",
    "            s = mid + 1\n",
    "            \n",
    "    return -1\n",
    "\n",
    "nums = [1, 2, 4, 5, 7, 8, 10, 22, 34, 56, 89, 100]\n",
    "print binary_search(nums, 8)\n",
    "print binary_search(nums, 1)\n",
    "print binary_search(nums, 89)\n",
    "print binary_search(nums, 88)\n",
    "print binary_search(nums, 100)\n",
    "print binary_search(nums, 101)"
   ]
  },
  {
   "cell_type": "markdown",
   "metadata": {},
   "source": [
    "## Recursive Function"
   ]
  },
  {
   "cell_type": "markdown",
   "metadata": {},
   "source": [
    "* 재귀함수\n",
    "* 내부적으로 자기 자신을 호출함\n",
    "* 점화식으로 표현되는 모든 수식을 간결히 표현할 수 있음\n",
    "* 종료조건이 꼭! 필요함 (명시하지 않으면 무한 호출반복)\n",
    "* 코드는 간결하나, 호출에 따른 오버헤드가 큼)\n"
   ]
  },
  {
   "cell_type": "code",
   "execution_count": 51,
   "metadata": {
    "collapsed": false
   },
   "outputs": [],
   "source": [
    "# factorial을 다시 작성해 봅시다.\n",
    "def factorial(n):\n",
    "    mul = 1\n",
    "    for i in range(2, n+1):\n",
    "        mul *= i\n",
    "        \n",
    "    return mul\n",
    "\n",
    "\n",
    "# assert는 True가 전달되면 아무런 동작을 하지 않고, False가 전달되면 예외 발생\n",
    "assert(factorial(5) == 120)\n",
    "assert(factorial(4) == 24)\n",
    "assert(factorial(1) == 1)"
   ]
  },
  {
   "cell_type": "code",
   "execution_count": 52,
   "metadata": {
    "collapsed": true
   },
   "outputs": [],
   "source": [
    "#recursive function을 사용하면...\n",
    "def rf(n):\n",
    "    if n == 0:\n",
    "        return 1\n",
    "    \n",
    "    return n * rf(n-1)\n",
    "\n",
    "assert(rf(5) == 120)\n",
    "assert(rf(4) == 24)\n",
    "assert(rf(1) == 1)"
   ]
  },
  {
   "cell_type": "code",
   "execution_count": 53,
   "metadata": {
    "collapsed": false
   },
   "outputs": [
    {
     "name": "stdout",
     "output_type": "stream",
     "text": [
      "10 loops, best of 3: 20 ms per loop\n"
     ]
    }
   ],
   "source": [
    "%timeit factorial(10000)"
   ]
  },
  {
   "cell_type": "code",
   "execution_count": 54,
   "metadata": {
    "collapsed": false,
    "scrolled": true
   },
   "outputs": [
    {
     "name": "stdout",
     "output_type": "stream",
     "text": [
      "10 loops, best of 3: 23.8 ms per loop\n"
     ]
    }
   ],
   "source": [
    "import sys\n",
    "sys.setrecursionlimit(200000)\n",
    "%timeit rf(10000)"
   ]
  },
  {
   "cell_type": "code",
   "execution_count": 55,
   "metadata": {
    "collapsed": false
   },
   "outputs": [
    {
     "name": "stdout",
     "output_type": "stream",
     "text": [
      "610\n",
      "100000 loops, best of 3: 3.93 µs per loop\n"
     ]
    }
   ],
   "source": [
    "def fibonacci(n):\n",
    "    fibo = [1, 1]\n",
    "    for i in range(2, n):\n",
    "        fibo.append(fibo[i-1] + fibo[i-2])\n",
    "\n",
    "    return fibo[-1]\n",
    "\n",
    "print fibonacci(15)\n",
    "%timeit fibonacci(20)"
   ]
  },
  {
   "cell_type": "code",
   "execution_count": 56,
   "metadata": {
    "collapsed": false
   },
   "outputs": [
    {
     "name": "stdout",
     "output_type": "stream",
     "text": [
      "610\n",
      "1000 loops, best of 3: 1.6 ms per loop\n"
     ]
    }
   ],
   "source": [
    "def recursive_fibonacci(n):\n",
    "    if n == 1 or n == 2:\n",
    "        return 1\n",
    "    \n",
    "    return recursive_fibonacci(n-1) + recursive_fibonacci(n-2)\n",
    "\n",
    "print recursive_fibonacci(15)\n",
    "%timeit recursive_fibonacci(20)"
   ]
  },
  {
   "cell_type": "markdown",
   "metadata": {},
   "source": [
    "* memozation\n",
    " - Memoization effectively refers to remembering (\"memoization\" -> \"memorandum\" -> to be remembered) results of method calls based on the method inputs and then returning the remembered result rather than computing the result again. You can think of it as a cache for method results.\n",
    " - A simple example for computing factorials using memoization in Python would be something like this:\n"
   ]
  },
  {
   "cell_type": "code",
   "execution_count": 10,
   "metadata": {
    "collapsed": false,
    "scrolled": true
   },
   "outputs": [
    {
     "name": "stdout",
     "output_type": "stream",
     "text": [
      "120\n",
      "100000 loops, best of 3: 2.58 µs per loop\n",
      "120\n",
      "The slowest run took 7.52 times longer than the fastest. This could mean that an intermediate result is being cached.\n",
      "1000000 loops, best of 3: 496 ns per loop\n"
     ]
    }
   ],
   "source": [
    "def factorial(n):\n",
    "    if n < 2:\n",
    "        return 1\n",
    "    return n * factorial(n-1)\n",
    "\n",
    "print factorial(5)\n",
    "%timeit factorial(5)\n",
    "\n",
    "#memozation을 이용하면\n",
    "factorial_memo = {}\n",
    "def factorial_cache(n):\n",
    "    if n < 2 :\n",
    "        return 1\n",
    "    \n",
    "    if n not in factorial_memo:\n",
    "        factorial_memo[n] = n * factorial_cache(n-1)\n",
    "    \n",
    "    return factorial_memo[n]\n",
    "\n",
    "print factorial_cache(5)\n",
    "%timeit factorial_cache(5)"
   ]
  },
  {
   "cell_type": "code",
   "execution_count": 4,
   "metadata": {
    "collapsed": false
   },
   "outputs": [
    {
     "name": "stdout",
     "output_type": "stream",
     "text": [
      "610\n",
      "The slowest run took 54.53 times longer than the fastest. This could mean that an intermediate result is being cached.\n",
      "1000000 loops, best of 3: 462 ns per loop\n"
     ]
    }
   ],
   "source": [
    "fib_cache = {}\n",
    "def recursive_fibonacci_memo(n):\n",
    "    if n in fib_cache:\n",
    "        return fib_cache[n]\n",
    "    else:\n",
    "        if n == 1 or n == 2:\n",
    "            fib_cache[n] = 1\n",
    "        else:\n",
    "            fib_cache[n] =  recursive_fibonacci_memo(n-2) + recursive_fibonacci_memo(n-1)\n",
    "            \n",
    "        return fib_cache[n]\n",
    "\n",
    "print recursive_fibonacci_memo(15)\n",
    "%timeit recursive_fibonacci_memo(20)"
   ]
  },
  {
   "cell_type": "code",
   "execution_count": 12,
   "metadata": {
    "collapsed": false
   },
   "outputs": [
    {
     "name": "stdout",
     "output_type": "stream",
     "text": [
      "55\n",
      "10000 loops, best of 3: 34.9 µs per loop\n",
      "55\n",
      "The slowest run took 5.03 times longer than the fastest. This could mean that an intermediate result is being cached.\n",
      "1000000 loops, best of 3: 464 ns per loop\n"
     ]
    }
   ],
   "source": [
    "def fibonacci(n):\n",
    "    if n <= 2:\n",
    "        return 1\n",
    "    \n",
    "    return fibonacci(n-1) + fibonacci(n-2)\n",
    "\n",
    "print fibonacci(10)\n",
    "%timeit fibonacci(10)\n",
    "\n",
    "fibonacci_cache = {}\n",
    "def fibonacci_memo(n):\n",
    "    if n <= 2:\n",
    "        return 1\n",
    "    \n",
    "    if n not in fibonacci_cache:\n",
    "        fibonacci_cache[n] = fibonacci_memo(n-1) + fibonacci_memo(n-2)\n",
    "        \n",
    "    return fibonacci_cache[n]\n",
    "    \n",
    "print fibonacci_memo(10)\n",
    "%timeit fibonacci_memo(10)"
   ]
  },
  {
   "cell_type": "markdown",
   "metadata": {},
   "source": [
    "* recursive function 연습문제\n",
    " 1. 숫자 리스트를 인자로 받아 그 숫자의 합을 구하는 재귀함수를 작성하시오.\n",
    " 2. 숫자를 입력받아 각 자리수의 합을 구하는 재귀함수를 작성하시오.\n",
    " 3. 주어진 두 수의 최대 공약수를 찾는 재귀함수를 작성하시오.\n",
    "    A와 B의 최대 공약수는 B와 A%B의 최대 공약수와 같다."
   ]
  },
  {
   "cell_type": "code",
   "execution_count": 122,
   "metadata": {
    "collapsed": false
   },
   "outputs": [
    {
     "data": {
      "text/plain": [
       "18"
      ]
     },
     "execution_count": 122,
     "metadata": {},
     "output_type": "execute_result"
    }
   ],
   "source": [
    "# loop 이용\n",
    "def list_sum(nums):\n",
    "    s = 0\n",
    "    for i in nums:\n",
    "        s += i\n",
    "        \n",
    "    return s\n",
    "\n",
    "# 기본 재귀\n",
    "def lsr(nums, i):\n",
    "    if i == len(nums):\n",
    "        return 0\n",
    "    return nums[i] + lsr(nums, i+1)\n",
    "\n",
    "a = [1, 2, 4, 5, 6]\n",
    "lsr(a, 0)"
   ]
  },
  {
   "cell_type": "code",
   "execution_count": 27,
   "metadata": {
    "collapsed": false
   },
   "outputs": [
    {
     "name": "stdout",
     "output_type": "stream",
     "text": [
      "21\n"
     ]
    }
   ],
   "source": [
    "# fn = num[n] + fn-1을 이용한 경우\n",
    "def recursive_sum(nums, k):\n",
    "    if k == 0:\n",
    "        return nums[k]\n",
    "    \n",
    "    return nums[k] + recursive_sum(nums, k-1)\n",
    "    \n",
    "\n",
    "a = [7, 2, 3, 4, 5]\n",
    "print recursive_sum(a, len(a)-1)"
   ]
  },
  {
   "cell_type": "code",
   "execution_count": 123,
   "metadata": {
    "collapsed": false
   },
   "outputs": [
    {
     "data": {
      "text/plain": [
       "16"
      ]
     },
     "execution_count": 123,
     "metadata": {},
     "output_type": "execute_result"
    }
   ],
   "source": [
    "def digit_sum(num, i):\n",
    "    str_num = str(num)\n",
    "    if i == len(str_num):\n",
    "        return 0\n",
    "    return int(str_num[i]) + digit_sum(num, i+1)\n",
    "\n",
    "digit_sum(4543, 0)"
   ]
  },
  {
   "cell_type": "code",
   "execution_count": 6,
   "metadata": {
    "collapsed": false
   },
   "outputs": [
    {
     "name": "stdout",
     "output_type": "stream",
     "text": [
      "10\n",
      "12\n",
      "12\n"
     ]
    }
   ],
   "source": [
    "def gcd(a, b):\n",
    "    if b == 0:\n",
    "        return a\n",
    "    return gcd(b, a % b)\n",
    "\n",
    "print gcd(50, 160)\n",
    "print gcd(48, 36)\n",
    "print gcd(36, 48)"
   ]
  },
  {
   "cell_type": "markdown",
   "metadata": {},
   "source": [
    "# Lambda function"
   ]
  },
  {
   "cell_type": "markdown",
   "metadata": {},
   "source": [
    "* Lambda 함수\n",
    " + 단일문으로 표현되는 익명함수\n",
    " + 익명함수란 이름이 없는 구현체만 존재하는 간단한 함수를 의미\n",
    " + 코드 상에서 한번만 사용되는 기능이 있을 때, 굳이 함수로 만들지 않고 일회성으로 만들어서 쓸 때 사용."
   ]
  },
  {
   "cell_type": "code",
   "execution_count": 129,
   "metadata": {
    "collapsed": false
   },
   "outputs": [
    {
     "name": "stdout",
     "output_type": "stream",
     "text": [
      "<function square at 0x10c2a51b8>\n",
      "<function <lambda> at 0x10c2a5410>\n",
      "16 16\n"
     ]
    }
   ],
   "source": [
    "def square(x): \n",
    "    return x ** 2\n",
    "\n",
    "square2 = lambda x : x**2\n",
    "\n",
    "print square\n",
    "print square2\n",
    "\n",
    "print square(4), square2(4)"
   ]
  },
  {
   "cell_type": "code",
   "execution_count": 1,
   "metadata": {
    "collapsed": false
   },
   "outputs": [
    {
     "name": "stdout",
     "output_type": "stream",
     "text": [
      "50\n",
      "50\n"
     ]
    }
   ],
   "source": [
    "#input 여러 개도 가능하다!\n",
    "add3 = lambda x, y: x + y\n",
    "print add3(20, 30)\n",
    "add4 = lambda x, y: 2 * x + y\n",
    "print add4(20,10)"
   ]
  },
  {
   "cell_type": "code",
   "execution_count": 2,
   "metadata": {
    "collapsed": false
   },
   "outputs": [
    {
     "name": "stdout",
     "output_type": "stream",
     "text": [
      "[(1, 2), (4, 5), (7, 6), (8, 4), (9, 5), (10, 2)]\n",
      "[(1, 2), (10, 2), (8, 4), (9, 5), (4, 5), (7, 6)]\n",
      "[(1, 2), (10, 2), (8, 4), (9, 5), (4, 5), (7, 6)]\n",
      "[(7, 6), (9, 5), (4, 5), (8, 4), (1, 2), (10, 2)]\n",
      "[(8, 4, 1), (7, 6, 2), (1, 2, 4), (10, 2, 4), (9, 5, 7), (4, 7, 9), (4, 6, 9)]\n",
      "[(2, 5), (1, 3), (3, 2), (1, 2)]\n"
     ]
    }
   ],
   "source": [
    "nums = [(1, 2), (9, 5), (8, 4), (7, 6), (10, 2), (4, 5)]\n",
    "\n",
    "def get_key(item):\n",
    "    return item[1]\n",
    "\n",
    "print sorted(nums) #key라는 parameter 사용 안했으므로 첫번째꺼 기준.\n",
    "print sorted(nums, key = get_key) #여기서 한번 쓰려고 get_key(item) 함수 만들어주기는 너무 낭비야... \n",
    "print sorted(nums, key = lambda item : item[1]) #sorted 함수에 key라는 parameter가 있는데 key는 함수를 값으로 받음. 뭘 기준(key)으로 삼을지.\n",
    "print sorted(nums, key = lambda item : item[1], reverse = True)  #reverse = True는 내림차순.\n",
    "\n",
    "nums1 = [(1, 2, 4), (9, 5, 7), (8, 4, 1), (7, 6, 2), (10, 2, 4), (4, 7, 9), (4, 6, 9)] \n",
    "print sorted(nums1, key = lambda item : item[2]) #기준에서의 값이 겹친다고해서 왼쪽으로 이동해서 비교하지는 않는다.\n",
    "\n",
    "nums2 = [(1,3), (3,2), (2,5), (1,2)]\n",
    "print sorted(nums2, key = lambda item : item[1], reverse = True)"
   ]
  },
  {
   "cell_type": "markdown",
   "metadata": {},
   "source": [
    "* filter, map, reduce (얘들은 함수를 받는 놈들!)\n",
    " + lambda가 유용하게 사용되는 3가지 대표적 함수\n",
    " + 함수형 프로그래밍의 기본 요소이기도 함\n",
    " + filter : 특정 조건을 만족하는 요소만 남기고 필터링\n",
    " + map    : 각 원소를 주어진 수식에 따라 변형하여 새로운 리스트를 반환\n",
    " + reduce : 차례대로 앞 2개의 원소를 가지고 연산. 이 것을 마지막 원소까지 진행"
   ]
  },
  {
   "cell_type": "code",
   "execution_count": 175,
   "metadata": {
    "collapsed": false
   },
   "outputs": [
    {
     "name": "stdout",
     "output_type": "stream",
     "text": [
      "[2, 3, 4, 5, 6, 7, 8, 9, 10, 11, 12, 13, 14, 15, 16, 17, 18, 19, 20, 21, 22, 23, 24, 25, 26, 27, 28, 29, 30, 31, 32, 33, 34, 35, 36, 37, 38, 39, 40, 41, 42, 43, 44, 45, 46, 47, 48, 49, 50, 51, 52, 53, 54, 55, 56, 57, 58, 59, 60, 61, 62, 63, 64, 65, 66, 67, 68, 69, 70, 71, 72, 73, 74, 75, 76, 77, 78, 79, 80, 81, 82, 83, 84, 85, 86, 87, 88, 89, 90, 91, 92, 93, 94, 95, 96, 97, 98, 99]\n",
      "[2, 4, 6, 8, 10, 12, 14, 16, 18, 20, 22, 24, 26, 28, 30, 32, 34, 36, 38, 40, 42, 44, 46, 48, 50, 52, 54, 56, 58, 60, 62, 64, 66, 68, 70, 72, 74, 76, 78, 80, 82, 84, 86, 88, 90, 92, 94, 96, 98]\n"
     ]
    }
   ],
   "source": [
    "nums = range(2, 100)\n",
    "\n",
    "print filter(None, nums) #list comprehension에서 if 가 없는 것과 마찬가지.\n",
    "print filter(lambda x: x % 2 == 0, nums) "
   ]
  },
  {
   "cell_type": "markdown",
   "metadata": {},
   "source": [
    "* filter를 이용하여 문자열의 길이가 5이하인 문자열만 필터링 하시오.\n",
    " - 그런데, 혹시 또 다른 방법이 생각나지 않나요?\n",
    " "
   ]
  },
  {
   "cell_type": "code",
   "execution_count": 4,
   "metadata": {
    "collapsed": false
   },
   "outputs": [
    {
     "name": "stdout",
     "output_type": "stream",
     "text": [
      "['apple', 'cat', 'hat']\n",
      "['apple', 'cat', 'hat']\n"
     ]
    }
   ],
   "source": [
    "a = ['apple', 'cat', 'banana', 'hat', 'orange', 'carrot', 'python']\n",
    "print filter(lambda x : len(x) <= 5, a)\n",
    "print [x for x in a if len(x) <= 5]\n"
   ]
  },
  {
   "cell_type": "code",
   "execution_count": 11,
   "metadata": {
    "collapsed": false
   },
   "outputs": [
    {
     "name": "stdout",
     "output_type": "stream",
     "text": [
      "[4, 9, 16, 25, 36, 49, 64, 81, 100, 121, 144, 169, 196, 225, 256, 289, 324, 361]\n",
      "[4, 9, 16, 25, 36, 49, 64, 81, 100, 121, 144, 169, 196, 225, 256, 289, 324, 361]\n"
     ]
    }
   ],
   "source": [
    "nums = range(2, 20)\n",
    "print map(lambda x: x**2, nums)\n",
    "print([x**2 for x in nums])"
   ]
  },
  {
   "cell_type": "markdown",
   "metadata": {},
   "source": [
    "* map을 이용하여 섭씨/화씨 변환을 다시 해보죠.\n",
    " - 그런데, 혹시 또 다른 방법이 생각나진 않나요?\n",
    " \n"
   ]
  },
  {
   "cell_type": "code",
   "execution_count": 10,
   "metadata": {
    "collapsed": false
   },
   "outputs": [
    {
     "name": "stdout",
     "output_type": "stream",
     "text": [
      "[102.2, 98.60000000000001, 97.7, 91.76, 86.0]\n",
      "[102.2, 98.60000000000001, 97.7, 91.76, 86.0]\n"
     ]
    }
   ],
   "source": [
    "c = [39, 37, 36.5, 33.2, 30]\n",
    "# f = 1.8 * c + 32\n",
    "\n",
    "print map(lambda x: 1.8 * x + 32, c)\n",
    "print [1.8 * x + 32 for x in c]"
   ]
  },
  {
   "cell_type": "code",
   "execution_count": 16,
   "metadata": {
    "collapsed": false
   },
   "outputs": [
    {
     "name": "stdout",
     "output_type": "stream",
     "text": [
      "[-16, -46, 58, 94]\n",
      "[17, 10, 19, 23]\n"
     ]
    }
   ],
   "source": [
    "a = [1,2,3,4]\n",
    "b = [17,12,11,10]\n",
    "c = [-1,-4,5,9]\n",
    "\n",
    "\n",
    "print(map(lambda x, y, z : x + (y *z), a, b, c))\n",
    "print map(lambda x, y, z : x + y + z, a, b, c)"
   ]
  },
  {
   "cell_type": "markdown",
   "metadata": {},
   "source": [
    "* reduce 이용하여 원소의 합 구하기"
   ]
  },
  {
   "cell_type": "code",
   "execution_count": 18,
   "metadata": {
    "collapsed": false
   },
   "outputs": [
    {
     "name": "stdout",
     "output_type": "stream",
     "text": [
      "49\n",
      "720\n"
     ]
    }
   ],
   "source": [
    "nums = [1, 2, 9, 8, 5, 4, 7, 10, 3]\n",
    "print reduce(lambda x, y: x + y, nums)\n",
    "\n",
    "num_list=[1,2,3,4,5,6]\n",
    "print(reduce(lambda x, y: x*y, num_list))\n"
   ]
  },
  {
   "cell_type": "markdown",
   "metadata": {},
   "source": [
    "* reduce로 리스트의 최대값을 구해봅시다.\n"
   ]
  },
  {
   "cell_type": "code",
   "execution_count": 137,
   "metadata": {
    "collapsed": false
   },
   "outputs": [
    {
     "name": "stdout",
     "output_type": "stream",
     "text": [
      "10\n"
     ]
    }
   ],
   "source": [
    "print reduce(lambda x, y : x if x > y else y, nums)"
   ]
  },
  {
   "cell_type": "markdown",
   "metadata": {},
   "source": [
    "# 이거 다시 풀어보자. 여전히 이해 안됨.\n",
    "http://book.pythontips.com/en/latest/map_filter.html\n",
    "\n",
    "* 연습문제\n",
    " 1. filter를 직접 구현해봅시다. filter2(func, iterable):\n",
    " 2. map을 직접 구현해봅시다. map2(func, iterable):\n"
   ]
  },
  {
   "cell_type": "code",
   "execution_count": 8,
   "metadata": {
    "collapsed": false
   },
   "outputs": [
    {
     "name": "stdout",
     "output_type": "stream",
     "text": [
      "[1, 3, 5, 7, 9]\n",
      "[1, 3, 5, 7, 9]\n"
     ]
    }
   ],
   "source": [
    "def filter2(func, iterable):\n",
    "    result = []\n",
    "    for i in iterable:\n",
    "        if func(i): # == True 로 놓으면 안되.\n",
    "            result.append(i) # func(i) 넣으면 True로 들어가. result += i 는 안되나?\n",
    "            \n",
    "    return result\n",
    "\n",
    "nums = range(10)\n",
    "print filter(lambda x : x % 2 == 1, nums)\n",
    "print filter2(lambda x : x % 2 == 1, nums)"
   ]
  },
  {
   "cell_type": "code",
   "execution_count": 10,
   "metadata": {
    "collapsed": false
   },
   "outputs": [
    {
     "name": "stdout",
     "output_type": "stream",
     "text": [
      "[2, 4, 6, 8, 10, 12, 14, 16, 18, 20]\n",
      "[2, 4, 6, 8, 10, 12, 14, 16, 18, 20]\n"
     ]
    }
   ],
   "source": [
    "def map2(func, iterable):\n",
    "    result = []\n",
    "    for i in iterable:\n",
    "        result.append(func(i))\n",
    "    return result\n",
    "\n",
    "a = range(1,11)\n",
    "print(map(lambda x: x * 2, a))\n",
    "print(map2(lambda x: x * 2, a))"
   ]
  },
  {
   "cell_type": "code",
   "execution_count": null,
   "metadata": {
    "collapsed": true
   },
   "outputs": [],
   "source": []
  },
  {
   "cell_type": "code",
   "execution_count": null,
   "metadata": {
    "collapsed": true
   },
   "outputs": [],
   "source": []
  },
  {
   "cell_type": "code",
   "execution_count": null,
   "metadata": {
    "collapsed": true
   },
   "outputs": [],
   "source": []
  },
  {
   "cell_type": "code",
   "execution_count": null,
   "metadata": {
    "collapsed": true
   },
   "outputs": [],
   "source": []
  },
  {
   "cell_type": "code",
   "execution_count": null,
   "metadata": {
    "collapsed": true
   },
   "outputs": [],
   "source": []
  },
  {
   "cell_type": "code",
   "execution_count": null,
   "metadata": {
    "collapsed": true
   },
   "outputs": [],
   "source": []
  },
  {
   "cell_type": "markdown",
   "metadata": {},
   "source": [
    "* 에러 처리 하기 try, except\n",
    " + 예외 상황 발생 시, 적절한 대처를 위해 필요함\n",
    " + 함수 작성시, 발생할 수 있는 에러에 대해 처리하는 것이 좋은 습관임\n"
   ]
  },
  {
   "cell_type": "code",
   "execution_count": 38,
   "metadata": {
    "collapsed": false
   },
   "outputs": [
    {
     "ename": "IndexError",
     "evalue": "list index out of range",
     "output_type": "error",
     "traceback": [
      "\u001b[0;31m---------------------------------------------------------------------------\u001b[0m",
      "\u001b[0;31mIndexError\u001b[0m                                Traceback (most recent call last)",
      "\u001b[0;32m<ipython-input-38-145b92c93448>\u001b[0m in \u001b[0;36m<module>\u001b[0;34m()\u001b[0m\n\u001b[1;32m      2\u001b[0m \u001b[0mnums\u001b[0m \u001b[1;33m=\u001b[0m \u001b[1;33m[\u001b[0m\u001b[1;36m1\u001b[0m\u001b[1;33m,\u001b[0m \u001b[1;36m2\u001b[0m\u001b[1;33m,\u001b[0m \u001b[1;36m3\u001b[0m\u001b[1;33m]\u001b[0m\u001b[1;33m\u001b[0m\u001b[0m\n\u001b[1;32m      3\u001b[0m \u001b[0mpos\u001b[0m \u001b[1;33m=\u001b[0m \u001b[1;36m5\u001b[0m\u001b[1;33m\u001b[0m\u001b[0m\n\u001b[0;32m----> 4\u001b[0;31m \u001b[1;32mprint\u001b[0m \u001b[0mnums\u001b[0m\u001b[1;33m[\u001b[0m\u001b[0mpos\u001b[0m\u001b[1;33m]\u001b[0m\u001b[1;33m\u001b[0m\u001b[0m\n\u001b[0m\u001b[1;32m      5\u001b[0m \u001b[1;32mprint\u001b[0m \u001b[0mnums\u001b[0m\u001b[1;33m[\u001b[0m\u001b[1;36m0\u001b[0m\u001b[1;33m]\u001b[0m\u001b[1;33m\u001b[0m\u001b[0m\n",
      "\u001b[0;31mIndexError\u001b[0m: list index out of range"
     ]
    }
   ],
   "source": [
    "\n",
    "nums = [1, 2, 3]\n",
    "pos = 5\n",
    "print nums[pos]\n",
    "print nums[0]"
   ]
  },
  {
   "cell_type": "code",
   "execution_count": 48,
   "metadata": {
    "collapsed": false
   },
   "outputs": [
    {
     "name": "stdout",
     "output_type": "stream",
     "text": [
      "need a index between 0 and len(nums)-1 but got 4\n",
      "1\n"
     ]
    }
   ],
   "source": [
    "nums = [1, 2, 3]\n",
    "pos = 4\n",
    "\n",
    "try:\n",
    "    print nums[pos]\n",
    "    \n",
    "except: #try의 어느 한 줄에서 문제가 생기면 바로 except로 뛴다.\n",
    "    print 'need a index between 0 and len(nums)-1', 'but got', pos\n",
    "    \n",
    "print nums[0]"
   ]
  },
  {
   "cell_type": "markdown",
   "metadata": {},
   "source": [
    "* finally \n",
    " + 예외 발생 여부에 관계 없이 항상 실행해야할 코드"
   ]
  },
  {
   "cell_type": "code",
   "execution_count": 15,
   "metadata": {
    "collapsed": false
   },
   "outputs": [
    {
     "name": "stdout",
     "output_type": "stream",
     "text": [
      "need a index between 0 and len(nums)-1 but got 4\n",
      "task done\n",
      "1\n"
     ]
    }
   ],
   "source": [
    "nums = [1, 2, 3]\n",
    "pos = 4\n",
    "\n",
    "try:\n",
    "    print nums[pos]\n",
    "except:\n",
    "    print 'need a index between 0 and len(nums)-1', 'but got', pos\n",
    "finally:\n",
    "    print 'task done'\n",
    "    \n",
    "print nums[0]"
   ]
  },
  {
   "cell_type": "markdown",
   "metadata": {},
   "source": [
    "* 예외 처리 세분화 \n",
    " + Exception으로 보편적으로 다 처리할 수 있다\n",
    " + 세분화하여 처리하면, 각 예외 상황에 따라 다른 처리를 할 수 있다.\n",
    " + 특정한 에러를 지정할 수 있음. "
   ]
  },
  {
   "cell_type": "code",
   "execution_count": 17,
   "metadata": {
    "collapsed": false
   },
   "outputs": [
    {
     "name": "stdout",
     "output_type": "stream",
     "text": [
      "need a index between 0 and len(nums)-1 but got 4\n",
      "task done\n"
     ]
    }
   ],
   "source": [
    "nums = [0, 1, 2, 3]\n",
    "pos1 = 5 #2\n",
    "pos2 = 0\n",
    "\n",
    "try:\n",
    "    print nums[pos1] / nums[pos2] #pos1=5, 인덱스를 구할 때 잘못되었음. \n",
    "except IndexError as err:\n",
    "    print 'need a index between 0 and len(nums)-1', 'but got', pos\n",
    "except Exception as other: #ZeroDivisionError. 분모에 0이 들어갈 수 없음. \n",
    "    print 'something else broke', other\n",
    "finally:\n",
    "    print 'task done'\n",
    "    \n",
    "#print nums[0]\n",
    "\n",
    "#크롤링할 때 많이 쓰겠지?!\n",
    "#except에 continue 적용하면 1000개 중 3번째에서 에러떠도 일단 나머지 다 긁어올 수 있으니까."
   ]
  },
  {
   "cell_type": "markdown",
   "metadata": {},
   "source": [
    "* 모듈 임포트\n",
    "(모듈이란 이미 구현되어 있는 식.우리는 모듈을 가져와서, 즉 이미 다른 사람이 짜놓은 식을 우리가 import해서 사용한다.)\n",
    " + numpy - pip install numpy (수치해석 라이브러리)\n",
    " + scipy - pip install scipy (windows - https://sourceforge.net/projects/scipy/files/scipy/0.16.1/scipy-0.16.1-win32-superpack-python2.7.exe/download \n",
    " http://aka.ms/vcpython27)\n",
    " + pandas - pip install pandas\n",
    " + sklearn  - pip install scikit-learn\n",
    " + matplotlib pip install matplotlib\n",
    " + statsmodels - pip install statsmodels\n",
    " + seaborn - pip install seaborn"
   ]
  },
  {
   "cell_type": "markdown",
   "metadata": {
    "collapsed": true
   },
   "source": [
    "* import / from import"
   ]
  },
  {
   "cell_type": "code",
   "execution_count": 92,
   "metadata": {
    "collapsed": false
   },
   "outputs": [
    {
     "name": "stdout",
     "output_type": "stream",
     "text": [
      "99\n"
     ]
    }
   ],
   "source": [
    "import numpy # 모듈 임포트.\n",
    "\n",
    "print numpy.random.randint(100) #모듈 안에는 또 서브모듈, 함수, 클래스 등이 있다."
   ]
  },
  {
   "cell_type": "code",
   "execution_count": 71,
   "metadata": {
    "collapsed": false
   },
   "outputs": [
    {
     "name": "stdout",
     "output_type": "stream",
     "text": [
      "47\n"
     ]
    },
    {
     "data": {
      "text/plain": [
       "0.2479483505396527"
      ]
     },
     "execution_count": 71,
     "metadata": {},
     "output_type": "execute_result"
    }
   ],
   "source": [
    "import numpy as np # 모듈 임포트 후 alias(별명) 붙임. numpy를 np로 줄여서 부르자 귀찮으니까.\n",
    "\n",
    "print np.random.randint(100)\n",
    "np.random.rand()"
   ]
  },
  {
   "cell_type": "code",
   "execution_count": 11,
   "metadata": {
    "collapsed": false
   },
   "outputs": [
    {
     "name": "stdout",
     "output_type": "stream",
     "text": [
      "10\n"
     ]
    }
   ],
   "source": [
    "from numpy import random # numpy 모듈에서 하위 모듈인 random만을 import할게!\n",
    "\n",
    "print random.randint(100)"
   ]
  },
  {
   "cell_type": "markdown",
   "metadata": {},
   "source": []
  },
  {
   "cell_type": "code",
   "execution_count": 72,
   "metadata": {
    "collapsed": false
   },
   "outputs": [
    {
     "name": "stdout",
     "output_type": "stream",
     "text": [
      "11\n"
     ]
    }
   ],
   "source": [
    "import numpy.random as random # numpy의 하위모듈인 random만을 import 후, alias 붙임. 이 방법도 나쁘지 않네~\n",
    "\n",
    "print random.randint(100) #tab을 이용하면 어떤 모듈안에 어떤 서브모듈이 있는지 볼 수 있음. random.+tab"
   ]
  },
  {
   "cell_type": "markdown",
   "metadata": {
    "collapsed": true
   },
   "source": [
    " * 연습문제\n",
    "  1. 다트를 던져서 파이(3.141592..)를 계산하는 동작을 시뮬레이션 하는 함수를 만들어 보세요"
   ]
  },
  {
   "cell_type": "code",
   "execution_count": 89,
   "metadata": {
    "collapsed": false
   },
   "outputs": [
    {
     "name": "stdout",
     "output_type": "stream",
     "text": [
      "3.13898\n"
     ]
    }
   ],
   "source": [
    "def pi(times):\n",
    "    count = 0\n",
    "    for i in range(1,times):\n",
    "        x = numpy.random.rand()\n",
    "        y = numpy.random.rand()\n",
    "        \n",
    "        if x**2 + y**2 <=1:\n",
    "            count += 1\n",
    "            \n",
    "    return float(count)/times * 4\n",
    "\n",
    "print(pi(1000000))"
   ]
  },
  {
   "cell_type": "markdown",
   "metadata": {},
   "source": [
    "* matplotlib 모듈\n",
    " - 시각화 담당 모듈\n",
    " - 2차원, 3차원 그래프(선, 막대, 파이차트 등등)"
   ]
  },
  {
   "cell_type": "code",
   "execution_count": 38,
   "metadata": {
    "collapsed": false
   },
   "outputs": [
    {
     "data": {
      "image/png": "[encoded data removed]",
      "text/plain": [
       "<matplotlib.figure.Figure at 0x10b5ec110>"
      ]
     },
     "metadata": {},
     "output_type": "display_data"
    }
   ],
   "source": [
    "%matplotlib inline\n",
    "import matplotlib.pyplot as plt\n",
    "\n",
    "x = [1, 2, 3, 4]\n",
    "y = [2, 4, 6, 8]\n",
    "\n",
    "plt.plot(x, y)\n",
    "plt.show()"
   ]
  },
  {
   "cell_type": "markdown",
   "metadata": {},
   "source": [
    "* request module\n",
    " - http를 통한 web resource에 접근할 때 사용"
   ]
  },
  {
   "cell_type": "code",
   "execution_count": 90,
   "metadata": {
    "collapsed": false
   },
   "outputs": [
    {
     "name": "stdout",
     "output_type": "stream",
     "text": [
      "<!doctype html>\n",
      "<html lang=\"ko\">\n",
      "<head>\n",
      "<meta charset=\"utf-8\">\n",
      "<meta http-equiv=\"Content-Script-Type\" content=\"text/javascript\">\n",
      "<meta http-equiv=\"Content-Style-Type\" content=\"text/css\">\n",
      "<meta http-equiv=\"X-UA-Compatible\" content=\"IE=edge\">\n",
      "<meta name=\"viewport\" content=\"width=960\">\n",
      "<meta name=\"apple-mobile-web-app-title\" content=\"NAVER\" />\n",
      "<meta property=\"og:title\" content=\"네이버 메인\">\n",
      "<meta property=\"og:url\" content=\"http://www.naver.com/\">\n",
      "<meta property=\"og:image\" content=\"http://static.naver.net/www/mobile/edit/2016/0705/mobile_212852414260.png\">\n",
      "<meta property=\"og:description\" content=\"네이버 메인에서 다양한 정보와 유용한 컨텐츠를 만나 보세요\">\n",
      "<meta name=\"twitter:card\" content=\"summary\">\n",
      "<meta name=\"twitter:title\" content=\"네이버 메인\">\n",
      "<meta name=\"twitter:url\" content=\"http://www.naver.com/\">\n",
      "<meta name=\"twitter:image\" content=\"http://static.naver.net/www/mobile/edit/2016/0705/mobile_212852414260.png\">\n",
      "<meta name=\"twitter:description\" content=\"네이버 메인에서 다양한 정보와 유용한 컨텐츠를 만나 보세요\">\n",
      "<link rel=\"shortcut icon\" type=\"image/x-icon\" href=\"/favicon.ico?1\" />\n",
      "\n",
      "<title>NAVER</title>\n",
      "\n",
      "\n",
      "\n",
      "\n",
      "\n",
      "\n",
      "\n",
      "\n",
      "\n",
      "\n",
      "\n",
      "\n",
      "\n",
      "<link rel=\"stylesheet\" type=\"text/css\" href=\"http://s.pm.naver.net/css/main_v20170112_v2.css\" />\n",
      "<link rel=\"stylesheet\" type=\"text/css\" href=\"https://ssl.pstatic.net/sstatic/search/pc/2016/css/api_atcmp_1208.css\" />\n",
      "\n",
      "\n",
      "<link rel=\"stylesheet\" type=\"text/css\" id=\"login-css\" href=\"http://static.nid.naver.com/loginv4/www.css?1\" />\n",
      "\n",
      "<script type=\"text/javascript\">\n",
      "//<![CDATA[\n",
      "document.domain = \"naver.com\";\n",
      "history.navigationMode = 'compatible';\n",
      "var nsc = \"navertop.v3\";\n",
      "var jindoAll = \"http://s.pm.naver.net/js/c/jindo.all.20150511.min.js\";\n",
      "</script>\n",
      "<script type=\"text/javascript\" src=\"http://s.pm.naver.net/js/c/nlog_20161027.min.js\"></script>\n",
      "<script type=\"text/javascript\">\n",
      "var isLogin = false; \n",
      "var global = {\n",
      "isSupportedFlicking : false,\n",
      "isIPAD : false\n",
      "};\n",
      "var strHost = \"www.naver.com\";\n",
      "var isMobile = false;\n",
      "var isMyCast = false;\n",
      "var svr = \"<!--cweb310.ntop-->\";\n",
      "\n",
      "var svt = \"20170113125155\";\n",
      "var LogError=function(b){var a=new Image();a.src=\"http://cecs.naver.com/?m=\"+b+\"&u=\"+document.location+\"&l=1115\"};DLScript={quSXI:new Array(),quS:new Array(),retry:0,isLoad:function(a){for(var b=this.quS.length-1;\n",
      "b>=0;b--){if(this.quS[b]===a){return true}}return false},_runOnload:function(b,d,c){if(!d){return}var a=b.readyState;if(typeof a===\"undefined\"&&!b.onloadDone){b.onloadDone=true;(c)?setTimeout(d,100):b.onload=d;\n",
      "return}if((\"loaded\"===a||\"complete\"===a)&&!b.onloadDone){b.onloadDone=true;setTimeout(d,100)}else{if(this.retry<10){this.retry++;setTimeout(function(){DLScript._runOnload(b,d,c)},10)}}},_createJSDom:function(c,b){var a=document.createElement(\"script\");\n",
      "if(b==\"src\"){a.src=c}else{a.text=c}return a},_appendJSDom:function(a){document.getElementsByTagName(\"head\")[0].appendChild(a)},loadDS:function(b,d,c){if(!this.isLoad(b)){this.quS[this.quS.length]=b;var a=this._createJSDom(b,\"src\");\n",
      "this._runOnload(a,d,c);this._appendJSDom(a)}else{if(d){setTimeout(d,100)}}},loadXI:function(c,i,g,d){if(!this.isLoad(c)){this.quS[DLScript.quS.length]=c;var h=this.quSXI.length;if(d){var a={response:null,onload:g,done:false};\n",
      "DLScript.quSXI[h]=a}if(typeof window.localStorage!=\"undefined\"){try{var b=window.localStorage.getItem(c+\"_uid\");var m=window.localStorage.getItem(c)}catch(j){if(j.description){LogError(\"[DL] localStorge get : \"+j.description)\n",
      "}}if(m&&i&&b==i){if(d){DLScript.quSXI[h].response=m;DLScript.injectScripts()}else{var f=DLScript._createJSDom(m,\"text\");DLScript._runOnload(f,g,true);DLScript._appendJSDom(f)}return}}var k=DLScript.getXHRObject();\n",
      "if(!k){LogError(\"[DL] XHRObject is NULL\");this.loadDS(c,g);return}k.onreadystatechange=function(){if(k.readyState==4){if(k.status==200||k.status==0){var o=k.responseText;try{if(typeof window.localStorage!=\"undefined\"&&i){DLScript.clearLS();\n",
      "window.localStorage.setItem(c,o);window.localStorage.setItem(c+\"_uid\",i)}}catch(p){if(p.description){LogError(\"[DL] localStorge set : \"+p.description)}}if(d){DLScript.quSXI[h].response=o;DLScript.injectScripts()\n",
      "}else{var n=DLScript._createJSDom(o,\"text\");DLScript._runOnload(n,g,true);DLScript._appendJSDom(n)}}else{LogError(\"[DL] status is not 200(0) - \"+k.status);DLScript.removeUrl(c);DLScript.clearLS();setTimeout(g,100)\n",
      "}}};var l=\"\";if(i){l=(c.indexOf(\"?\")>0)?\"&\"+i:\"?\"+i}k.open(\"GET\",c+l,true);k.setRequestHeader(\"Content-Type\",\"application/x-www-form-urlencoded; charset=utf-8\");k.setRequestHeader(\"charset\",\"utf-8\");k.send(\"\")\n",
      "}else{if(g){setTimeout(g,100)}}},injectScripts:function(){var a=DLScript.quSXI.length;for(var c=0;c<a;c++){var d=DLScript.quSXI[c];if(!d.done){if(!d.response){break}else{d.done=true;var b=DLScript._createJSDom(d.response,\"text\");\n",
      "DLScript._runOnload(b,d.onload,true);DLScript._appendJSDom(b)}}}},getXHRObject:function(){var c=false;try{c=new XMLHttpRequest()}catch(f){var b=[\"Msxml2.XMLHTTP\",\"Microsoft.XMLHTTP\",\"Msxml2.XMLHTTP.6.0\",\"Msxml2.XMLHTTP.3.0\"];\n",
      "var a=b.length;for(var d=0;d<a;d++){try{c=new ActiveXObject(b[d])}catch(f){LogError(\"[DL] getXHRObject - \"+f.description);continue}break}}finally{return c}},loadWS:function(a){document.write('<script src=\"'+a+'\" type=\"text/javascript\"><\\/script>')\n",
      "},clearLS:function(){if(typeof window.localStorage!=\"undefined\"){try{window.localStorage.clear()}catch(a){if(a.description){LogError(\"[DL] clearLS : \"+a.description)}}}},removeUrl:function(a){for(var b=this.quS.length-1;\n",
      "b>=0;b--){if(this.quS[b]===a){this.quS[b]=\"\"}}}};\n",
      "function refreshLcs(etc) {if(document.cookie.indexOf(\"nrefreshx=1\") != -1) {etc=etc?etc:{};etc[\"mrf\"]=\"1\";return etc;}return null;}\n",
      "lcs_do(refreshLcs());\n",
      "//]]>\n",
      "</script>\n",
      "</head>\n",
      "\n",
      "\n",
      "<body class=''>\n",
      "\n",
      "\n",
      "\n",
      "\n",
      "\n",
      "\n",
      "<div id=\"u_skip\">\n",
      "<a href=\"#news_cast2\" onclick=\"document.getElementById('news_cast2').tabIndex = -1;document.getElementById('news_cast2').focus();return false;\"><span>뉴스스탠드 바로가기</span></a>\n",
      "<a href=\"#themecast\" onclick=\"document.getElementById('themecast').tabIndex = -1;document.getElementById('themecast').focus();return false;\"><span>주제별캐스트 바로가기</span></a>\n",
      "<a href=\"#time_square\" onclick=\"document.getElementById('time_square').tabIndex = -1;document.getElementById('time_square').focus();return false;\"><span>타임스퀘어 바로가기</span></a>\n",
      "<a href=\"#cnsv_shbx\" onclick=\"document.getElementById('cnsv_shbx').tabIndex = -1;document.getElementById('cnsv_shbx').focus();return false;\"><span>쇼핑캐스트 바로가기</span></a>\n",
      "\n",
      "<a href=\"#account\" onclick=\"document.getElementById('account').tabIndex = -1;document.getElementById('account').focus();return false;\"><span>로그인 바로가기</span></a>\n",
      "\n",
      "</div>\n",
      "<div id=\"wrap\">\n",
      "<div id=\"nanum_popup\">\n",
      "<div tabindex=\"0\" class=\"nanum_popup\" id=\"nanum_popup1\" style=\"display:none;top:50%;left:50%;width:349px;margin-top:-127px;margin-left:-174px\">\n",
      "<div class=\"nanum_popup_in\">\n",
      "<div class=\"cnt\"><span class=\"ques\"></span>\n",
      "<h4>나눔글꼴 설치 안내</h4>\n",
      "<p>네이버 메인을 나눔글꼴로 보기 위해서는<br><span>&nbsp;나눔글꼴을 설치</span>해야 합니다.<br>나눔글꼴을 설치하시겠습니까?</p>\n",
      "<a href=\"#\" class=\"nanum_inst\">설치</a>\n",
      "<a href=\"#\" class=\"nanum_cancel\">취소</a>\n",
      "</div>\n",
      "<div class=\"txt_notice\">\n",
      "<p>개인 및 기업을 포함, 모든 사용자가 무료로 사용 가능합니다.</p>\n",
      "<a href=\"http://help.naver.com/ops/step2/faq.nhn?faqId=15879\">나눔글꼴 라이센스 전문보기</a>\n",
      "</div>\n",
      "<span class=\"btn_cl\">\n",
      "<button type=\"button\" title=\"레이어 닫기\"><span class=\"blind\">레이어 닫기</span></button>\n",
      "</span>\n",
      "</div>\n",
      "<iframe title=\"빈프레임\" frameborder=\"0\" style=\"position:absolute;top:0;left:0;z-index:-1;width:100%;height:100%;border:0\"></iframe>\n",
      "</div>\n",
      "<div tabindex=\"0\" class=\"nanum_popup\" id=\"nanum_popup2\" style=\"display:none;top:50%;left:50%;width:424px;margin-top:-158px;margin-left:-212px\">\n",
      "<div class=\"nanum_popup_in\">\n",
      "<div class=\"cnt\"><span class=\"ques\"></span>\n",
      "<h4>나눔글꼴 확인 오류</h4>\n",
      "<p>고객님의 PC에서 나눔글꼴이 확인되지 않습니다.<br>나눔글꼴로 메인을 보기위해서는<span>나눔글꼴 재설치</span>가 필요합니다.<br>\n",
      "<strong>나눔글꼴을 다시 설치하시겠습니까?</strong></p>\n",
      "<p class=\"txt_nanum\">나눔글꼴이 확인되지 않는 이유는 나눔글꼴 최초설치가 제대로<br>완료되지 않은 경우, 설치된 폰트를 임의로 삭제한 경우에 발생합니다.</p>\n",
      "<a href=\"#\" class=\"nanum_inst\">설치</a>\n",
      "<a href=\"#\" class=\"nanum_cancel\">취소</a>\n",
      "</div>\n",
      "<div class=\"txt_notice\">\n",
      "<p>개인 및 기업을 포함, 모든 사용자가 무료로 사용 가능합니다.</p>\n",
      "<a href=\"http://help.naver.com/ops/step2/faq.nhn?faqId=15879\">나눔글꼴 라이센스 전문보기</a>\n",
      "</div>\n",
      "<span class=\"btn_cl\">\n",
      "<button type=\"button\" title=\"레이어 닫기\"><span class=\"blind\">레이어 닫기</span></button>\n",
      "</span>\n",
      "</div>\n",
      "<iframe title=\"빈프레임\" frameborder=\"0\" style=\"position:absolute;top:0;left:0;z-index:-1;width:100%;height:100%;border:0\"></iframe>\n",
      "</div>\n",
      "</div>\n",
      "<div style=\"position:relative; width:940px; margin:0 auto; z-index:11;\">\n",
      "<div id=\"da_top\"></div>\n",
      "<div id=\"da_brand\"></div>\n",
      "<div id=\"da_stake\"></div>\n",
      "<div id=\"da_expwide\"></div>\n",
      "</div>\n",
      "<div id=\"header\">\n",
      "<div class=\"gnb\">\n",
      "<h2 class=\"blind\">홈 유형 선택</h2>\n",
      "<ul class=\"nav_hm\">\n",
      "<li id=\"nav_hm\" class=\"m\"><a href=\"http://www.naver.com/\" onclick=\"clickcr(this,'HNB.cast','','',event);\" accesskey=\"1\" ><span class=\"nav_hm2_ly nav_hm2_ly1\">네이버 홈</span></a></li>\n",
      "<li id=\"nav_hm2\" class=\"m2\"><a href=\"http://se.naver.com/\" onclick=\"clickcr(this,'HNB.search','','',event);\" accesskey=\"2\"><span class=\"nav_hm2_ly nav_hm2_ly2\">가볍고 빠른 검색홈, <span>네이버SE</span></span></a></li>\n",
      "<li id=\"nav_hm3\" class=\"m3\"><a href=\"http://me.naver.com/\" onclick=\"clickcr(this,'HNB.desk','','',event);\" accesskey=\"3\"><span class=\"nav_hm2_ly nav_hm2_ly3\">나만의 네이버 홈, <span>네이버me</span></span></a></li>\n",
      "</ul>\n",
      "<h2 class=\"blind\">네이버 설정</h2>\n",
      "<ul class=\"naver_set\">\n",
      "<li class=\"makeHomePage\"><a href=\"http://help.naver.com/support/welcomePage/guide.nhn\" id=\"mkhome\" onclick=\"clickcr(this,'top.mkhome','','',event);\">네이버를 시작페이지로</a></li>\n",
      "<li class=\"naverapp\">\n",
      "<a href=\"#\" class=\"btn\" onclick=\"clickcr(this,'top.app','','',event);Andro_MSG.toggle();return false;\">네이버 앱 다운로드</a>\n",
      "<div id=\"naverapply\" class=\"ly_hnb hide\">\n",
      "<p class=\"tit\">네이버 앱을 설치하세요!</p>\n",
      "<fieldset>\n",
      "<legend>다운로드URL 문자받기</legend>\n",
      "<span class=\"txtsm\">다운로드URL 문자받기</span>\n",
      "<label class=\"blind\" for=\"app_phone\">휴대폰번호 입력</label>\n",
      "<input class=\"empty\" type=\"text\" value=\"\" id=\"app_phone\" />\n",
      "<button type=\"button\" class=\"btnsm\"><span class=\"blind\">보내기</span></button>\n",
      "</fieldset>\n",
      "<p class=\"desc\">입력하신 번호는 저장되지 않고, 전송은 무료입니다.</p>\n",
      "<p class=\"qr\"><img data-src=\"http://img.naver.net/static/www/dl_qr_naver.png\" width=\"68\" height=\"84\" alt=\"네이버 앱 QR코드\" /></p>\n",
      "<ul class=\"app\">\n",
      "<li class=\"f\"><a href=\"#naver\"><strong>네이버 앱</strong></a></li>\n",
      "<li><a href=\"#map\">지도</a></li>\n",
      "<li><a href=\"#n_drive\">N드라이브</a></li>\n",
      "<li><a href=\"#books\">북스</a></li>\n",
      "<li><a href=\"#music\">뮤직</a></li>\n",
      "<li><a href=\"#line\">라인</a></li>\n",
      "<li><a href=\"#appstore\">앱스토어</a><span class=\"new\">new</span></li>\n",
      "</ul>\n",
      "<div class=\"cls\"><a href=\"#close\" title=\"네이버 앱 다운로드 레이어 닫기\" onclick=\"clickcr(this,'top*m.close','','',event);Andro_MSG.close();return false;\"><span class=\"blind\">네이버 앱 다운로드 레이어 닫기</span></a></div>\n",
      "</div>\n",
      "</li>\n",
      "\n",
      "\n",
      "\n",
      "\n",
      "\n",
      "<!-- 글꼴설정 -->\n",
      "<li class=\"set_font\">\n",
      "<!-- [d] : 열렸을경우 setf_open 추가 -->\n",
      "<ul class=\"setf\">\n",
      "<li class=\"first\"><span class=\"blind\">현재</span><a href=\"#\" onclick=\"return false;\">시스템글꼴</a></li>\n",
      "<li class=\"second\"><a href=\"#\" onclick=\"return false;\">나눔글꼴</a></li>\n",
      "</ul>\n",
      "<!-- [d] : 열렸을경우 setf_help_open 추가 -->\n",
      "<div class=\"setf_help\">\n",
      "<a href=\"#\" onclick=\"return false;\" title=\"글꼴설정 도움말\" class=\"setf_help_toggle\">글꼴설정 도움말</a>\n",
      "<div class=\"ly_setf_help\">\n",
      "<ul>\n",
      "<li><a href=\"#\" onclick=\"return false;\" id=\"font_preview\">나눔글꼴 미리보기</a></li>\n",
      "<li><a href=\"http://hangeul.naver.com/\" onclick=\"clickcr( this, 'top.fontcampaign', '', '', event );\" >네이버 한글캠페인</a></li>\n",
      "<li><a href=\"https://help.naver.com/support/contents/contents.nhn?serviceNo=1074&categoryNo=3494\" onclick=\"clickcr( this, 'top.fontfaq', '', '', event );\" >도움말</a></li>\n",
      "</ul>\n",
      "<a href=\"#\" class=\"ly_setf_close\" title=\"글꼴설정 도움말 닫기\" onclick=\"return false;\" >글꼴설정 도움말 닫기</a>\n",
      "</div>\n",
      "</div>\n",
      "</li>\n",
      "\n",
      "</ul>\n",
      "<h2 class=\"blind\">패밀리 사이트</h2>\n",
      "<div id=\"fms\" class=\"fms\">\n",
      "<a href=\"http://happybean.naver.com/main/SectionMain.nhn\" id=\"top.happybean\" class=\"hb\"><span class=\"ir\">해피빈</span></a><span>|</span><a href=\"http://jr.naver.com\" id=\"top.jrnaver\" class=\"ju\"><span class=\"ir\">쥬니버</span></a>\n",
      "</div>\n",
      "<div id=\"promotion8\" style=\"display:none;height:41px;\">\n",
      "<img data-src=\"http://img.naver.net/static/www/up/2012/naver_homepage.png\" width=\"880\" height=\"31\" alt=\"시작페이지\" usemap=\"#sliding\" />\n",
      "<map id=\"promo_sliding\" name=\"sliding\">\n",
      "<area shape=\"rect\" coords=\"533,5,575,24\" href=\"http://www.naver.com/\" onclick=\"clickcr(this,'tsb.set','','',event);return HomePageSet.setHomePage();\" alt=\"시작페이지 설정\" />\n",
      "<area shape=\"rect\" coords=\"580,5,622,24\" href=\"http://www.naver.com/\" onclick=\"clickcr(this,'tsb.no','','',event);return HomePageSet.cancel();\" alt=\"시작페이지 안하기\" />\n",
      "<area id=\"sethomepage_close\" shape=\"rect\" coords=\"855,5,875,23\" href=\"#\" alt=\"배너 닫기\" onclick=\"clickcr(this,'tsb.close','','',event);return HomePageSet.cancel();\" />\n",
      "</map>\n",
      "</div>\n",
      "<script type=\"text/javascript\">\n",
      "//<![CDATA[\n",
      "var slidingCookieName = \"naverSetHomepage\";\n",
      "var slidingCookieExpDate = 1;\n",
      "var slidingOneTimeLink = 1;\n",
      "//]]>\n",
      "</script>\n",
      "</div>\n",
      "<div class=\"lnb\">\n",
      "<h1>\n",
      "<img src='http://img.naver.net/static/www/u/2013/0731/nmms_224940510.gif' alt='네이버' title='네이버' width='210' height='78' usemap='#logo_ss' />\n",
      "<map id='logo_ss' name='logo_ss'>\n",
      "<area shape='rect' coords='0,0,209,78' alt='네이버' href=\"http://www.naver.com/\" onclick=\"clickcr(this, 'top.logo','78000C01_0000000EA16A', '', event)\"  />\n",
      "</map>\n",
      "</h1>\n",
      "<hr />\n",
      "<div id=\"search\">\n",
      "\n",
      "<form id=\"sform\" name=\"sform\" action=\"http://search.naver.com/search.naver\" method=\"get\">\n",
      "\n",
      "<fieldset>\n",
      "<legend>검색</legend>\n",
      "<select id=\"where\" name=\"where\" title=\"검색 범위 선택\" class=\"blind\">\n",
      "<option value=\"nexearch\" selected=\"selected\">통합검색</option>\n",
      "<option value=\"post\">블로그</option>\n",
      "<option value=\"cafeblog\">카페</option>\n",
      "<option value=\"cafe\">- 카페명</option>\n",
      "<option value=\"article\">- 카페글</option>\n",
      "<option value=\"kin\">지식iN</option>\n",
      "<option value=\"news\">뉴스</option>\n",
      "<option value=\"web\">사이트</option>\n",
      "<option value=\"category\">- 카테고리</option>\n",
      "<option value=\"site\">- 사이트</option>\n",
      "<option value=\"movie\">영화</option>\n",
      "<option value=\"webkr\">웹문서</option>\n",
      "<option value=\"dic\">사전</option>\n",
      "<option value=\"100\">- 백과사전</option>\n",
      "<option value=\"endic\">- 영어사전</option>\n",
      "<option value=\"eedic\">- 영영사전</option>\n",
      "<option value=\"krdic\">- 국어사전</option>\n",
      "<option value=\"jpdic\">- 일본어사전</option>\n",
      "<option value=\"hanja\">- 한자사전</option>\n",
      "<option value=\"terms\">- 용어사전</option>\n",
      "<option value=\"book\">책</option>\n",
      "<option value=\"music\">음악</option>\n",
      "<option value=\"doc\">전문자료</option>\n",
      "<option value=\"shop\">쇼핑</option>\n",
      "<option value=\"local\">지역</option>\n",
      "<option value=\"video\">동영상</option>\n",
      "<option value=\"image\">이미지</option>\n",
      "<option value=\"mypc\">내PC</option>\n",
      "<optgroup label=\"스마트 파인더\">\n",
      "<option value=\"movie\">영화</option>\n",
      "<option value=\"auto\">자동차</option>\n",
      "<option value=\"game\">게임</option>\n",
      "<option value=\"health\">건강</option>\n",
      "<option value=\"people\">인물</option>\n",
      "</optgroup>\n",
      "<optgroup label=\"네이버 랩\">\n",
      "<option>긍정부정검색</option>\n",
      "</optgroup>\n",
      "</select>\n",
      "<span class=\"green_window\"><input id=\"query\" name=\"query\" type=\"text\" title=\"검색어 입력\" class=\"input_text\" tabindex=\"1\" accesskey=\"s\" style=\"ime-mode:active;\" autocomplete=\"off\" onclick=\"document.getElementById('fbm').value=1;\"  /></span><button id=\"search_btn\" type=\"submit\" title=\"검색\" tabindex=\"3\" class=\"sch_smit\" onmouseover=\"this.className='sch_smit over'\" onmousedown=\"this.className='sch_smit down'\" onmouseout=\"this.className='sch_smit'\" onclick=\"clickcr(this,'sch.action','','',event);\"><span class=\"ir\">검색</span></button>\n",
      "<input type=\"hidden\" id=\"sm\" name=\"sm\" value=\"top_hty\" />\n",
      "<input type=\"hidden\" id=\"fbm\" name=\"fbm\" value=\"0\" />\n",
      "<input type=\"hidden\" id=\"acr\" name=\"acr\" value=\"\" disabled=\"disabled\" />\n",
      "<input type=\"hidden\" id=\"acq\" name=\"acq\" value=\"\" disabled=\"disabled\" />\n",
      "<input type=\"hidden\" id=\"qdt\" name=\"qdt\" value=\"\" disabled=\"disabled\" />\n",
      "<input type=\"hidden\" id=\"ie\" name=\"ie\" value=\"utf8\" />\n",
      "<input type=\"hidden\" id=\"acir\" name=\"acir\" value=\"\" disabled=\"disabled\" />\n",
      "<input type=\"hidden\" id=\"os\" name=\"os\" value=\"\" disabled=\"disabled\" />\n",
      "<input type=\"hidden\" id=\"bid\" name=\"bid\" value=\"\" disabled=\"disabled\" />\n",
      "<input type=\"hidden\" id=\"pkid\" name=\"pkid\" value=\"\" disabled=\"disabled\" />\n",
      "<input type=\"hidden\" id=\"eid\" name=\"eid\" value=\"\" disabled=\"disabled\" />\n",
      "<input type=\"hidden\" id=\"mra\" name=\"mra\" value=\"\" disabled=\"disabled\" />\n",
      "<input type=\"hidden\" id=\"qct\" name=\"qct\" value=\"\" disabled=\"disabled\" />\n",
      "</fieldset>\n",
      "</form>\n",
      "<div id=\"nautocomplete\" class=\"autocomplete\">\n",
      "<span class=\"btn_arw top\"><a href=\"#\" onclick=\"return false;\" tabindex=\"2\"><img src=\"http://sstatic.naver.com/search/images11/btn_atcmp_down_on.gif\" width=\"13\" height=\"11\" title=\"자동완성 펼치기\" alt=\"자동완성 펼치기\" class=\"triangleImg\" /></a></span>\n",
      "</div>\n",
      "<div id=\"autoFrame\" class=\"reatcmp\" style=\"width:368px;background-color:rgb(255, 255, 255);display:none;\">\n",
      "<div class=\"api_atcmp_wrap _atcmp\" style=\"display:none;\">\n",
      "<div class=\"words nature\">\n",
      "<h3 class=\"tit\">생각한대로 검색해 보세요 <span class=\"beta\">Beta</span></h3>\n",
      "<ul class=\"_nature\">\n",
      "<li class=\"_item\"><a href=\"#\" onclick=\"return false;\">@txt@</a><span style=\"display:none\" id=\"rank@rank@\">@txt@</span></li>\n",
      "</ul>\n",
      "</div>\n",
      "<div class=\"words _words\">\n",
      "<div class=\"_atcmp_result_wrap\">\n",
      "<ul class=\"_resultBox\"></ul>\n",
      "<ul class=\"_resultBox\"></ul>\n",
      "<ul class=\"_resultBox\"></ul>\n",
      "<ul class=\"_resultBox\"></ul>\n",
      "</div>\n",
      "<div class=\"add_group _atcmp_answer_wrap\"></div>\n",
      "</div>\n",
      "<div class=\"atcmp_plus _plus\">\n",
      "<span class=\"desc\">\n",
      "<span class=\"plus_txt _plusTxt\"></span>\n",
      "<a onclick=\"__atcmpCR(event, this, 'plus.help', '','','');\" href=\"https://help.naver.com/support/contents/contents.nhn?serviceNo=606&categoryNo=16658\" target=\"_blank\" class=\"spat ico_info\"><span class=\"blind\">도움말 보기</span></a>\n",
      "</span>\n",
      "<span class=\"switch\">\n",
      "<input type=\"checkbox\" id=\"plus_top\" class=\"blind plus_check\" onclick=\"if(this.checked){__atcmpCR(event, this, 'plus.use', '','','');}else{__atcmpCR(event, this, 'plus.unuse', '','','');}\">\n",
      "<label for=\"plus_top\" class=\"spat plus_btn\">자동완성 플러스</label>\n",
      "</span>\n",
      "<div class=\"layer_plus _plusAlert\">\n",
      "<strong class=\"tit\">컨텍스트 자동완성</strong>\n",
      "<div class=\"_logout\" style=\"display: block;\">\n",
      "<p class=\"dsc\"><em class=\"txt\">동일한 연령별/남녀별</em> 사용자 그룹의 관심사에<br>맞춰 자동완성을 제공합니다.</p>\n",
      "<div class=\"btn_area\">\n",
      "<a onclick=\"__atcmpCR(event, this, 'plus.login', '','','');\" href=\"https://nid.naver.com/nidlogin.login\" class=\"btn btn_login\">로그인</a>\n",
      "<a onclick=\"__atcmpCR(event, this, 'plus.detail', '','','');\" href=\"https://help.naver.com/support/contents/contents.nhn?serviceNo=606&categoryNo=16658\" target=\"_blank\" class=\"btn btn_view\">자세히</a>\n",
      "</div>\n",
      "</div>\n",
      "<div class=\"_login\" style=\"display: none;\">\n",
      "<p class=\"dsc\">ON/OFF설정은<br>해당 기기(브라우저)에 저장됩니다.</p>\n",
      "<div class=\"btn_area\">\n",
      "<a onclick=\"__atcmpCR(event, this, 'plus.detail', '','','');\" href=\"https://help.naver.com/support/contents/contents.nhn?serviceNo=606&categoryNo=16659\" target=\"_blank\" class=\"btn btn_view\">자세히</a>\n",
      "</div>\n",
      "</div>\n",
      "<button type=\"button\" class=\"btn_close _close\" onclick=\"__atcmpCR(event, this, 'plus.close', '','','');\">\n",
      "<i class=\"spat ico_close\">컨텍스트 자동완성 레이어 닫기</i>\n",
      "</button>\n",
      "</div>\n",
      "</div>\n",
      "<p class=\"func\"><span class=\"fl\"><a onclick=\"__atcmpCR(event, this, 'help', '','','');\" href=\"https://help.naver.com/support/service/main.nhn?serviceNo=606&categoryNo=1987\" target=\"_blank\">도움말</a> | <a onclick=\"__atcmpCR(event, this, 'report', '','','');\" href=\"https://help.naver.com/support/contents/contents.nhn?serviceNo=606&categoryNo=2028\" target=\"_blank\">신고</a></span><span><em><a class=\"hisoff\" href=\"javascript:;\">검색어저장 켜기</a> |</em><a class=\"funoff\" href=\"javascript:;\">자동완성 끄기</a></span></p>\n",
      "<img src=\"https://ssl.pstatic.net/sstatic/search/images11/img_atcmp15.gif\" alt=\"기능을 다시 켤 때는 펼치기 버튼을 클릭하세요\" width=\"218\" height=\"23\" class=\"help _help_tooltip1\" style=\"display:none;\"/>\n",
      "</div>\n",
      "<div class=\"api_atcmp_wrap _atcmpIng\" style=\"display:none;\">\n",
      "<div class=\"words\"><p class=\"msg\">현재 자동완성 기능을 사용하고 계십니다.</p></div>\n",
      "<p class=\"func\"><span class=\"fl\"><a onclick=\"__atcmpCR(event, this, 'help', '','','');\" href=\"https://help.naver.com/support/service/main.nhn?serviceNo=606&categoryNo=1987\" target=\"_blank\">도움말</a> | <a onclick=\"__atcmpCR(event, this, 'report', '','','');\" href=\"https://help.naver.com/support/contents/contents.nhn?serviceNo=606&categoryNo=2028\" target=\"_blank\">신고</a></span><span><em><a class=\"hisoff\" href=\"javascript:;\">검색어저장 켜기</a> |</em><a class=\"funoff\" href=\"javascript:;\">자동완성 끄기</a></span></p>\n",
      "<img src=\"https://ssl.pstatic.net/sstatic/search/images11/img_atcmp15.gif\" alt=\"기능을 다시 켤 때는 펼치기 버튼을 클릭하세요\" width=\"218\" height=\"23\" class=\"help _help_tooltip2\" style=\"display:none;\"/>\n",
      "</div>\n",
      "<div class=\"api_atcmp_wrap _atcmpStart\" style=\"display:none;\">\n",
      "<div class=\"words\"><p class=\"msg\">자동완성 기능이 활성화되었습니다.</p></div>\n",
      "<p class=\"func\"><span class=\"fl\"><a onclick=\"__atcmpCR(event, this, 'help', '','','');\" href=\"https://help.naver.com/support/service/main.nhn?serviceNo=606&categoryNo=1987\" target=\"_blank\">도움말</a> | <a onclick=\"__atcmpCR(event, this, 'report', '','','');\" href=\"https://help.naver.com/support/contents/contents.nhn?serviceNo=606&categoryNo=2028\" target=\"_blank\">신고</a></span><span><em><a class=\"hisoff\" href=\"javascript:;\">검색어저장 켜기</a> |</em><a class=\"funoff\" href=\"javascript:;\">자동완성 끄기</a></span></p>\n",
      "<img src=\"https://ssl.pstatic.net/sstatic/search/images11/img_atcmp15.gif\" alt=\"기능을 다시 켤 때는 펼치기 버튼을 클릭하세요\" width=\"218\" height=\"23\" class=\"help _help_tooltip3\" style=\"display:none;\"/>\n",
      "</div>\n",
      "<div class=\"api_atcmp_wrap _atcmpOff\" style=\"display:none;\">\n",
      "<div class=\"words\"><p class=\"msg\">자동완성 기능이 꺼져 있습니다.</p></div>\n",
      "<p class=\"func\"><span class=\"fl\"><a onclick=\"__atcmpCR(event, this, 'help', '','','');\" href=\"https://help.naver.com/support/service/main.nhn?serviceNo=606&categoryNo=1987\" target=\"_blank\">도움말</a> | <a onclick=\"__atcmpCR(event, this, 'report', '','','');\" href=\"https://help.naver.com/support/contents/contents.nhn?serviceNo=606&categoryNo=2028\" target=\"_blank\">신고</a></span><span><em><a class=\"hisoff\" href=\"javascript:;\">검색어저장 켜기</a> |</em><a class=\"funoff\" href=\"javascript:;\">자동완성 켜기</a></span></p>\n",
      "</div>\n",
      "<div class=\"api_atcmp_wrap _keywords\" style=\"display:none;\">\n",
      "<div class=\"my_words\">\n",
      "<div class=\"lst_tab\">\n",
      "<ul><li class=\"on _recentTab\"><a href=\"javascript:;\">최근검색어</a></li><li class=\"_myTab\"><a href=\"javascript:;\">내 검색어</a></li></ul>\n",
      "</div>\n",
      "<div class=\"words _recent\">\n",
      "<ul><li data-rank=\"@rank@\"><a class=\"t@my@ _myBtn\" title=\"내 검색어 등록\" href=\"javascript:;\">내 검색어 등록</a><a href=\"javascript:;\">@txt@</a><em class=\"date\">@date@.</em><a href=\"javascript:;\" class=\"btn_del _del\" title=\"검색어삭제\">삭제</a><span style=\"display:none\">@in_txt@</span></li></ul>\n",
      "<div class=\"info_words _recentNone\" style=\"display:none\">최근검색어 내역이 없습니다.</div>\n",
      "<p class=\"msg _offMsg\" style=\"display:none\">검색어 저장 기능이 꺼져 있습니다.</p>\n",
      "</div>\n",
      "<div class=\"words _my\" style=\"display:none\">\n",
      "<ul><li data-rank=\"@rank@\"><a class=\"ton _myBtn\" title=\"내 검색어 해제\" href=\"javascript:;\">내 검색어 해제</a><a href=\"javascript:;\">@txt@</a></li></ul>\n",
      "<div class=\"info_words _myNone\" style=\"display:none\">설정된 내 검색어가 없습니다.<br />최근검색어에서 <span class=\"star\">내 검색어 등록</span>를 선택하여 자주 찾는 검색어를<br />내 검색어로 저장해 보세요.</div>\n",
      "<p class=\"msg _offMsg\" style=\"display:none\">검색어 저장 기능이 꺼져 있습니다.</p>\n",
      "</div>\n",
      "<p class=\"noti _noti\" style=\"display:none\">공용 PC에서는 개인정보 보호를 위하여 반드시 로그아웃을 해 주세요.</p>\n",
      "<p class=\"func _recentBtnGroup\"><span class=\"fl\"><a class=\"_delMode\" href=\"javascript:;\">기록 삭제</a></span><span><a class=\"_keywordOff\" href=\"javascript:;\">검색어저장 끄기</a> | <a class=\"_acOff\" href=\"javascript:;\">자동완성 끄기</a></span></p>\n",
      "<p class=\"func _recentDelBtnGroup\" style=\"display:none\"><span class=\"fl\"><a class=\"_delAll\" href=\"javascript:;\" title=\"최근 검색어 기록을 모두 삭제합니다.\">기록 전체 삭제</a></span><span><a class=\"_delDone\" href=\"javascript:;\">완료</a></span></p>\n",
      "<p class=\"func _myBtnGroup\" style=\"display:none\"><span class=\"fl\"><a class=\"_delAll\" href=\"javascript:;\" title=\"설정된 내 검색어를 모두 삭제합니다.\">기록 전체 삭제</a></span><span><a class=\"_keywordOff\" href=\"javascript:;\">검색어저장 끄기</a> | <a class=\"_acOff\" href=\"javascript:;\">자동완성 끄기</a></span></p>\n",
      "<span class=\"help2 _help2\" style=\"display:none\">기능을 다시 켤 때는 펼치기 버튼을 클릭하세요</span>\n",
      "<div class=\"ly_noti _maxLayer\" style=\"display:none\">\n",
      "<span class=\"mask\"></span>\n",
      "<p><span class=\"ico\"></span>내 검색어는 최대 <em>10</em>개 까지 저장할 수 있습니다.<br />추가하시려면 기존 내 검색어를 지워주세요. <a href=\"javascript:;\" class=\"btn_clse _close\">닫기</a></p>\n",
      "</div>\n",
      "</div>\n",
      "</div>\n",
      "<div class=\"api_atcmp_wrap _alert\" style=\"display:none;\">\n",
      "<div class=\"api_atcmp_alert\">\n",
      "<span class=\"ico\"></span>\n",
      "<p class=\"dsc_txt\">제20대 국회의원선거 후보에 대해 4월13일 선거일까지 자동완성 기능이 제공되지 않습니다.\n",
      "<a href=\"http://naver_diary.blog.me/220654539456\" onclick=\"clickcr(this,'sug.vote','','',event);\">자세히보기</a></p>\n",
      "</div>\n",
      "</div>\n",
      "<iframe vspace=\"0\" hspace=\"0\" border=\"0\" style=\"display:none;display:block\\9;display:block\\0/;position:absolute;left:0;top:0;width:100%;height:100%;z-index:-1;\" title=\"빈 프레임\"></iframe>\n",
      "</div>\n",
      "<script type=\"text/template\" id=\"_atcmp_answer_0\">\n",
      "<div class=\"add_opt _item\" data-sm=\"@2@\" data-keyword=\"@1@\" data-template_id=\"@0@\" data-acir=\"@rank@\" data-os=\"@8@\" data-bid=\"@9@\" data-eid=\"@3@\" data-pkid=\"@10@\" data-mra=\"@11@\" >\n",
      "<a href=\"#\" class=\"opt_dsc\">\n",
      "<span class=\"dsc_thmb\" style=\"@style7@\">@image7@</span>\n",
      "<span class=\"dsc_group\">\n",
      "<span class=\"dsc_cate\">@6@</span>\n",
      "<strong class=\"dsc_word\">@1@</strong>\n",
      "<span class=\"dsc_sub\" style=\"@style12@\">@12@</span>\n",
      "</span>\n",
      "</a>\n",
      "</div>\n",
      "</script>\n",
      "<script type=\"text/template\" id=\"_atcmp_answer_2\">\n",
      "<div class=\"add_opt _item\" data-sm=\"@2@\" data-keyword=\"@1@\" data-template_id=\"@0@\" data-acir=\"@rank@\">\n",
      "<a href=\"javascript:;\" class=\"opt_localnum\">\n",
      "<span class=\"opt_local\">@5@</span>\n",
      "<span class=\"opt_num\">@6@</span>\n",
      "</a>\n",
      "</div>\n",
      "</script>\n",
      "<script type=\"text/template\" id=\"_atcmp_answer_3\">\n",
      "<div class=\"add_opt _item\" data-sm=\"@2@\" data-keyword=\"@1@\" data-template_id=\"@0@\" data-acir=\"@rank@\">\n",
      "<a href=\"javascript:;\" class=\"opt_lotto\">\n",
      "<span class=\"lotto_num_area\">\n",
      "<span class=\"spat lotto_num lotto_num@6@\">@6@</span><span class=\"spat lotto_num lotto_num@7@\">@7@</span><span class=\"spat lotto_num lotto_num@8@\">@8@</span><span class=\"spat lotto_num lotto_num@9@\">@9@</span><span class=\"spat lotto_num lotto_num@10@\">@10@</span><span class=\"spat lotto_num lotto_num@11@\">@11@</span><span class=\"spat lotto_bonus\">+</span><span class=\"spat lotto_num lotto_num@12@\">@12@</span>\n",
      "</span>\n",
      "<span class=\"lotto_sub\">@5@회차 (@13@.)</span>\n",
      "</a>\n",
      "</div>\n",
      "</script>\n",
      "<script type=\"text/template\" id=\"_atcmp_answer_9\">\n",
      "<div class=\"add_opt _item\" data-sm=\"@2@\" data-keyword=\"@1@\" data-template_id=\"@0@\" data-acir=\"@rank@\">\n",
      "<a href=\"javascript:;\" class=\"opt_exchange opt_exchange_@11@\">\n",
      "<span class=\"opt_nation\">\n",
      "<img src=\"https://ssl.pstatic.net/sstatic/keypage/lifesrch/exchange/ico_@12@1.gif\" alt=\"\" />\n",
      "<span class=\"tx_nation\">@5@</span>\n",
      "</span>\n",
      "<span class=\"opt_amount\">\n",
      "<span class=\"amount\"><strong>@6@</strong>원</span><span class=\"changes\">@10@ @8@ (@9@%)</span>\n",
      "</span>\n",
      "</a>\n",
      "</div>\n",
      "</script>\n",
      "<script type=\"text/template\" id=\"_atcmp_answer_10\">\n",
      "<div class=\"add_opt _item\" data-sm=\"@2@\" data-keyword=\"@1@\" data-template_id=\"@0@\" data-acir=\"@rank@\">\n",
      "<a href=\"javascript:;\" class=\"opt_weather\">\n",
      "<span class=\"opt_weather_thmb\">\n",
      "<img src=\"https://ssl.pstatic.net/static/m/weather/2011/im/wt170_@6@.png\" width=\"50\" height=\"40\" alt=\"@7@\">\n",
      "</span>\n",
      "<span class=\"opt_weather_group\">\n",
      "<span class=\"opt_weather_state\">@7@</span>\n",
      "<span class=\"opt_weather_state\">기온 <em class=\"opt_deg\">@8@</em><span class=\"opt_unit\">℃</span></span>\n",
      "<span class=\"opt_weather_state\">@9@ <em>@10@</em><span class=\"opt_unit\">@11@</span></span>\n",
      "</span>\n",
      "</a>\n",
      "</div>\n",
      "</script>\n",
      "<script type=\"text/template\" id=\"_atcmp_answer_11\">\n",
      "<div class=\"add_opt _item\" data-sm=\"@2@\" data-keyword=\"@1@\" data-template_id=\"@0@\" data-acir=\"@rank@\">\n",
      "<a href=\"javascript:;\" class=\"opt_weather\">\n",
      "<span class=\"opt_weather_thmb\">\n",
      "<img src=\"https://ssl.pstatic.net/static/m/weather/2011/im/wt170_@6@.png\" width=\"50\" height=\"40\" alt=\"@7@\">\n",
      "</span>\n",
      "<span class=\"opt_weather_group\">\n",
      "<span class=\"opt_weather_state\">@7@</span>\n",
      "<span class=\"opt_weather_state\">기온 <em class=\"opt_deg\">@8@</em><span class=\"opt_unit\">℃</span></span>\n",
      "<span class=\"opt_weather_state\">@9@ <em>@10@</em><span class=\"opt_unit\">@11@</span></span>\n",
      "</span>\n",
      "</a>\n",
      "</div>\n",
      "</script>\n",
      "<script type=\"text/template\" id=\"_atcmp_answer_16\">\n",
      "<div class=\"add_opt type_context _item\" data-sm=\"@2@\" data-keyword=\"@1@\" data-template_id=\"@0@\" data-acir=\"@rank@\">\n",
      "<a href=\"#\" class=\"opt_context\">\n",
      "<span class=\"opt_tit\"><strong>@keyword@</strong></span>\n",
      "<span class=\"opt_sub\">@type@</span>\n",
      "</a>\n",
      "</div>\n",
      "</script>\n",
      "<script type=\"text/template\" id=\"_atcmp_answer_17\">\n",
      "<div class=\"add_opt _item\" data-sm=\"@2@\" data-keyword=\"@1@\" data-template_id=\"@0@\" data-acir=\"@rank@\">\n",
      "<a href=\"@5@\" target=\"_blank\" class=\"opt_shortcut\">\n",
      "<span class=\"opt_url\">@display_link@</span>\n",
      "<span class=\"opt_txt\">사이트로 바로 이동</span>\n",
      "</a>\n",
      "</div>\n",
      "</script>\n",
      "<script type=\"text/template\" id=\"_atcmp_answer_18\">\n",
      "<div class=\"add_opt _item\" data-sm=\"@2@\" data-keyword=\"@5@\" data-template_id=\"@0@\" data-acir=\"@rank@\">\n",
      "<a href=\"#\" class=\"opt_happysearch\">\n",
      "<span class=\"opt_happy_tit\"><span class=\"spat\"></span>행복검색</span>\n",
      "<span class=\"opt_happy_word\">@5@</span>\n",
      "</a>\n",
      "</div>\n",
      "</script>\n",
      "<script type=\"text/template\" id=\"_atcmp_answer_20\"></script>\n",
      "<script type=\"text/template\" id=\"_atcmp_intend\">\n",
      "<div class=\"add_opt type_context _item\" data-sm=\"asct\" data-qct=\"1\" data-keyword=\"@transquery@\" data-acir=\"@rank@\">\n",
      "<a href=\"#\" class=\"opt_context\">\n",
      "<span class=\"opt_tit\"><strong>@query@</strong></span>\n",
      "<span class=\"opt_sub\">@intend@</span>\n",
      "</a>\n",
      "</div>\n",
      "</script>\n",
      "<script type=\"text/template\" id=\"_atcmp_result_item_tpl\">\n",
      "<li class=\"_item @url_class@\" data-acr=\"@rank@\">\n",
      "<a href=\"#\" class=\"atcmp_keyword\" onclick=\"return false;\" title=\"\"><span class=\"atcmp_keyword_txt\">@txt@<span class=\"spat ic_expand\"></span></span></a>\n",
      "<a href=\"@url@\" target=\"_blank\" class=\"mquick\">바로이동</a>\n",
      "<span style=\"display:none\">@in_txt@</span>\n",
      "</li>\n",
      "</script>\n",
      "<script type=\"text/template\" id=\"_atcmp_keyword_highlight_tpl\">\n",
      "@mismatch_before@<strong>@match@</strong>@mismatch_after@\n",
      "</script>\n",
      "<script type=\"text/template\" id=\"_atcmp_keyword_partial_match_highlight_tpl\">\n",
      "@mismatch_before@<strong>@match@</strong>@mismatch_after@\n",
      "</script>\n",
      "<div id=\"search_link\" class=\"search_link\">\n",
      "<h3 class=\"sl_ico\"><span class=\"blind\">질문형 검색어</span></h3>\n",
      "\n",
      "\n",
      "<div id=\"qu_txt\" class=\"qu_txt\">\n",
      "<script type=\"text/javascript\">var qst_idx=1; var qst_size=3;</script>\n",
      "<span><a href=\"http://terms.naver.com/list.nhn?cid=44626&amp;categoryId=44626&amp;so=st3.asc&amp;viewType=&amp;categoryType=&amp;query=%EC%88%99%EC%A0%9C%20%EB%8F%84%EC%9A%B0%EB%AF%B8%20%ED%95%99%EC%83%9D%EB%B0%B1%EA%B3%BC&amp;sm=top_txt\" onclick=\"clickcr(this, 'txt.search','78002101_0000000EA1AF', '', event, 1);\"  title=\"숙제 도우미 학생백과\">숙제 도우미 학생백과</a></span>\n",
      "<span class=\"e\"><a href=\"http://navercast.naver.com/list.nhn?cid=237&amp;category_id=237&amp;category_type=series&amp;sort=hits&amp;list_type=image&amp;query=%EB%8F%99%EC%96%91%EC%B2%A0%ED%95%99%EC%97%90%20%EB%8C%80%ED%95%98%EC%97%AC&amp;sm=top_txt\" onclick=\"clickcr(this, 'txt.search','78002101_0000000EA1B0', '', event, 1);\"  title=\"동양철학에 대하여\">동양철학에 대하여</a></span>\n",
      "<span class=\"e\"><a href=\"http://movie.naver.com/movie/running/premovie.nhn?order=reserve&amp;query=%EA%B0%9C%EB%B4%89%20%EC%98%88%EC%A0%95%20%EC%98%81%ED%99%94&amp;sm=top_txt\" onclick=\"clickcr(this, 'txt.search','78002101_0000000EA1B1', '', event, 1);\"  title=\"개봉 예정 영화\">개봉 예정 영화</a></span>\n",
      "</div>\n",
      "<div class=\"page\" >\n",
      "<span class=\"slkpage_num\"></span>\n",
      "<a id=\"qst_prev\" href=\"#\" title=\"이전 검색어\" class=\"pre\"><span class=\"blind\">이전 검색어</span></a>\n",
      "<a id=\"qst_next\" href=\"#\" title=\"다음 검색어\" class=\"next\"><span class=\"blind\">다음 검색어</span></a>\n",
      "</div>\n",
      "\n",
      "\n",
      "</div>\n",
      "<!--NONE-->\n",
      "</div>\n",
      "<hr />\n",
      "<div id=\"s_menu\" class=\"s_menu\">\n",
      "<dl id=\"naver_menu\" class=\"nmenu\">\n",
      "<dt class=\"blind\">네이버 메뉴</dt>\n",
      "<dd class=\"f\"><a href=\"http://mail.naver.com/\" id=\"svc.mail\" class=\"mn_mail\"><span></span>메일</a></dd>\n",
      "<dd><a href=\"http://cafe.naver.com/\" id=\"svc.cafe\" class=\"mn_cafe\"><span></span>카페</a></dd>\n",
      "<dd><a href=\"http://section.blog.naver.com/\" id=\"svc.blog\" class=\"mn_blog\"><span></span>블로그</a></dd>\n",
      "<dd><a href=\"http://kin.naver.com/\" id=\"svc.kin\" class=\"mn_kin\"><span></span>지식iN</a></dd>\n",
      "<dd><a href=\"http://shopping.naver.com/\" id=\"svc.shopping\" class=\"mn_shopping\"><span></span>쇼핑</a></dd>\n",
      "<dd><a href=\"http://tv.naver.com/\" id=\"svc.tvcast\" class=\"mn_tvcast\"><span></span>네이버TV</a></dd>\n",
      "</dl>\n",
      "<dl class=\"fmenu\" id=\"fmenu\">\n",
      "<dt class=\"blind\">자주 쓰는 메뉴</dt>\n",
      "<dd class=\"f\"><a href=\"http://dic.naver.com\" onclick=\"clickcr(this,'svc.defaultservice','dic','',event);\" title=\"사전\" class=\"mn_dic\"><span></span>사전</a></dd>\n",
      "<dd><a href=\"http://news.naver.com\" onclick=\"clickcr(this,'svc.defaultservice','news','',event);\" title=\"뉴스\" class=\"mn_news\"><span></span>뉴스</a></dd>\n",
      "<dd><a href=\"http://stock.naver.com\" onclick=\"clickcr(this,'svc.defaultservice','stock','',event);\" title=\"증권\" class=\"mn_stock\"><span></span>증권</a></dd>\n",
      "<dd><a href=\"http://land.naver.com\" onclick=\"clickcr(this,'svc.defaultservice','land','',event);\" title=\"부동산\" class=\"mn_land\"><span></span>부동산</a></dd>\n",
      "<dd><a href=\"http://map.naver.com\" onclick=\"clickcr(this,'svc.defaultservice','map','',event);\" title=\"지도\" class=\"mn_map\"><span></span>지도</a></dd>\n",
      "<dd><a href=\"http://movie.naver.com\" onclick=\"clickcr(this,'svc.defaultservice','movie','',event);\" title=\"영화\" class=\"mn_movie\"><span></span>영화</a></dd>\n",
      "<dd><a href=\"http://music.naver.com\" onclick=\"clickcr(this,'svc.defaultservice','music','',event);\" title=\"뮤직\" class=\"mn_music\"><span></span>뮤직</a></dd>\n",
      "<dd><a href=\"http://book.naver.com\" onclick=\"clickcr(this,'svc.defaultservice','book','',event);\" title=\"책\" class=\"mn_book\"><span></span>책</a></dd>\n",
      "<dd><a href=\"http://comic.naver.com\" onclick=\"clickcr(this,'svc.defaultservice','comic','',event);\" title=\"웹툰\" class=\"mn_comic\"><span></span>웹툰</a></dd>\n",
      "\n",
      "</dl>\n",
      "<div id=\"hmenu\" class=\"hmenu\">\n",
      "<dl>\n",
      "<dt class=\"blind\">신규 서비스</dt>\n",
      "<dd><a href=\"http://pay.naver.com/\" onclick=\"clickcr(this,'svc.defaultservice','naverpay','',event);\" title=\"NPay\" class=\"mn_npay\"><span></span>NPay</a></dd>\n",
      "</dl>\n",
      "<a href=\"#\" id=\"svcmore_h\" title=\"주요서비스 더보기\" class=\"svcm\"><span></span>더보기</a>\n",
      "</div>\n",
      "</div>\n",
      "<div class=\"rankup\">\n",
      "<dl id=\"ranklist\" class=\"ranklist\">\n",
      "<dt id=\"rankTitle\">실시간 급상승 검색어</dt>\n",
      "<dd>\n",
      "<ol style=\"margin-top:0px;\" id=\"realrank\">\n",
      "\n",
      "<li  value=\"1\" class=\"up\"><a href=\"http://search.naver.com/search.naver?where=nexearch&amp;query=%ED%95%98%EA%B8%B0%EC%8A%A4%EB%AC%BC%ED%8B%B0%EC%8A%88&amp;sm=top_lve&amp;ie=utf8\" title=\"하기스물티슈\">하기스물티슈<span class=\"tx\">상승</span><span class=\"ic\"></span><span class=\"rk\">600</span></a></li>\n",
      "<li  value=\"2\" class=\"up\"><a href=\"http://search.naver.com/search.naver?where=nexearch&amp;query=%EC%9C%A4%EC%9C%A0%EC%84%A0&amp;sm=top_lve&amp;ie=utf8\" title=\"윤유선\">윤유선<span class=\"tx\">상승</span><span class=\"ic\"></span><span class=\"rk\">510</span></a></li>\n",
      "<li  value=\"3\" class=\"up\"><a href=\"http://search.naver.com/search.naver?where=nexearch&amp;query=%EC%9C%A0%ED%95%9C%ED%82%B4%EB%B2%8C%EB%A6%AC&amp;sm=top_lve&amp;ie=utf8\" title=\"유한킴벌리\">유한킴벌리<span class=\"tx\">상승</span><span class=\"ic\"></span><span class=\"rk\">375</span></a></li>\n",
      "<li  value=\"4\" class=\"up\"><a href=\"http://search.naver.com/search.naver?where=nexearch&amp;query=%EC%9D%B4%EC%83%81%EC%95%84&amp;sm=top_lve&amp;ie=utf8\" title=\"이상아\">이상아<span class=\"tx\">상승</span><span class=\"ic\"></span><span class=\"rk\">357</span></a></li>\n",
      "<li  value=\"5\" class=\"up\"><a href=\"http://search.naver.com/search.naver?where=nexearch&amp;query=%EB%A0%88%EC%A7%80%EB%8D%98%ED%8A%B8+%EC%9D%B4%EB%B8%94%3A+%ED%8C%8C%EB%A9%B8%EC%9D%98+%EB%82%A0&amp;sm=top_lve&amp;ie=utf8\" title=\"레지던트 이블: 파멸의 날\">레지던트 이블..<span class=\"tx\">상승</span><span class=\"ic\"></span><span class=\"rk\">261</span></a></li>\n",
      "<li  value=\"6\" class=\"up\"><a href=\"http://search.naver.com/search.naver?where=nexearch&amp;query=%EC%A1%B0%EC%9D%B4&amp;sm=top_lve&amp;ie=utf8\" title=\"조이\">조이<span class=\"tx\">상승</span><span class=\"ic\"></span><span class=\"rk\">210</span></a></li>\n",
      "<li  value=\"7\" class=\"up\"><a href=\"http://search.naver.com/search.naver?where=nexearch&amp;query=%EB%B0%80%EB%9D%BC+%EC%9A%94%EB%B3%B4%EB%B9%84%EC%B9%98&amp;sm=top_lve&amp;ie=utf8\" title=\"밀라 요보비치\">밀라 요보비치<span class=\"tx\">상승</span><span class=\"ic\"></span><span class=\"rk\">210</span></a></li>\n",
      "<li  value=\"8\" class=\"up\"><a href=\"http://search.naver.com/search.naver?where=nexearch&amp;query=%EC%A0%95%EC%9D%B8%EC%84%A0&amp;sm=top_lve&amp;ie=utf8\" title=\"정인선\">정인선<span class=\"tx\">상승</span><span class=\"ic\"></span><span class=\"rk\">375</span></a></li>\n",
      "<li  value=\"9\" class=\"up\"><a href=\"http://search.naver.com/search.naver?where=nexearch&amp;query=%EC%97%84%EB%A7%88%EA%B0%80+%EB%AD%90%EA%B8%B8%EB%9E%98&amp;sm=top_lve&amp;ie=utf8\" title=\"엄마가 뭐길래\">엄마가 뭐길래<span class=\"tx\">상승</span><span class=\"ic\"></span><span class=\"rk\">195</span></a></li>\n",
      "<li  value=\"10\" class=\"up\"><a href=\"http://search.naver.com/search.naver?where=nexearch&amp;query=%EA%B7%B8%EB%85%80%EB%8A%94+%EA%B1%B0%EC%A7%93%EB%A7%90%EC%9D%84+%EB%84%88%EB%AC%B4+%EC%82%AC%EB%9E%91%ED%95%B4&amp;sm=top_lve&amp;ie=utf8\" title=\"그녀는 거짓말을 너무 사랑해\">그녀는 거짓말..<span class=\"tx\">상승</span><span class=\"ic\"></span><span class=\"rk\">873</span></a></li>\n",
      "<li id=\"lastrank\" value=\"1\" class=\"up\"><a href=\"http://search.naver.com/search.naver?where=nexearch&amp;query=%ED%95%98%EA%B8%B0%EC%8A%A4%EB%AC%BC%ED%8B%B0%EC%8A%88&amp;sm=top_lve&amp;ie=utf8\" title=\"하기스물티슈\">하기스물티슈<span class=\"tx\">상승</span><span class=\"ic\"></span><span class=\"rk\">600</span></a></li>\n",
      "\n",
      "</ol>\n",
      "<noscript>\n",
      "<form action=\"http://search.naver.com/search.naver\">\n",
      "<input type=\"hidden\" name=\"where\" value=\"nexearch\" />\n",
      "<select name=\"query\">\n",
      "<option value=\"하기스물티슈\">1위: 하기스물티슈</option>\n",
      "<option value=\"윤유선\">2위: 윤유선</option>\n",
      "<option value=\"유한킴벌리\">3위: 유한킴벌리</option>\n",
      "<option value=\"이상아\">4위: 이상아</option>\n",
      "<option value=\"레지던트 이블: 파멸의 날\">5위: 레지던트 이블: 파멸의 날</option>\n",
      "<option value=\"조이\">6위: 조이</option>\n",
      "<option value=\"밀라 요보비치\">7위: 밀라 요보비치</option>\n",
      "<option value=\"정인선\">8위: 정인선</option>\n",
      "<option value=\"엄마가 뭐길래\">9위: 엄마가 뭐길래</option>\n",
      "<option value=\"그녀는 거짓말을 너무 사랑해\">10위: 그녀는 거짓말을 너무 사랑해</option>\n",
      "</select>\n",
      "<input type=\"hidden\" name=\"ie\" value=\"utf8\" />\n",
      "<input type=\"submit\" value=\"검색\" />\n",
      "</form>\n",
      "</noscript>\n",
      "</dd>\n",
      "</dl>\n",
      "</div>\n",
      "</div>\n",
      "</div>\n",
      "<hr />\n",
      "<div id=\"container\">\n",
      "<div id=\"column_left\">\n",
      "<div id=\"veta_top\">\n",
      "<iframe id=\"da_iframe_time\" name=\"da_iframe_time\" src=\"http://nv1.veta.naver.com/dr?unit=002AN&tbsz=2&nrefreshx=0\" title=\"광고\" width=\"635\" height=\"120\" marginheight=\"0\" marginwidth=\"0\" scrolling=\"no\" frameborder=\"0\">광고 : <a href=\"http://nv1.veta.naver.com/dr?unit=002AN&tbsz=2&nrefreshx=0\">http://nv1.veta.naver.com/dr?unit=002AN&tbsz=2&nrefreshx=0</a></iframe>\n",
      "<div class=\"veta_bdt\"></div><div class=\"veta_bdr\"></div><div class=\"veta_bdb\"></div><div class=\"veta_bdl\"></div>\n",
      "</div>\n",
      "<div id=\"news_cast2\" class=\"cast2\">\n",
      "<div class=\"newscast_top\">\n",
      "\t<div class=\"cast_flash\">\n",
      "\t\t<h3><a href=\"http://news.naver.com/main/list.nhn?mode=LPOD&amp;mid=sec&amp;sid1=001&amp;sid2=140&amp;oid=001&amp;isYeonhapFlash=Y\">연합뉴스</a></h3>\n",
      "\t\t<div id=\"flash_news\" class=\"cast_atc2\">\n",
      "\t\t\t<ul>\n",
      "<li><a href=\"http://news.naver.com/main/list.nhn?mode=LPOD&mid=sec&sid1=001&sid2=140&oid=001&isYeonhapFlash=Y&aid=0008957078\">한은, 올해 성장률 전망 '2.8%→2.5%'로 낮춰</a></li>\n",
      "\t\t\t</ul>\n",
      "\t\t</div>\n",
      "\t</div>\n",
      "\t<ul class=\"cast_link\">\n",
      "<li><a href=\"http://news.naver.com/\" onclick=\"clickcr(this, 'ncy.newshome', '', '', event)\" style=\"color:#339900\"><strong>네이버뉴스</strong></a></li><li>|<a href=\"http://entertain.naver.com/home\" onclick=\"clickcr(this, 'ncy.entertainment', '', '', event)\">연예</a></li><li>|<a href=\"http://sports.news.naver.com/\" onclick=\"clickcr(this, 'ncy.sports', '', '', event)\">스포츠</a></li><li>|<a href=\"http://news.naver.com/main/main.nhn?mode=LSD&amp;mid=shm&amp;sid1=101\" onclick=\"clickcr(this, 'ncy.economy', '', '', event)\">경제</a></li><li>|<a href=\"http://news.naver.com/main/ranking/popularDay.nhn?mid=etc&amp;sid1=111\" onclick=\"clickcr(this, 'ncy.special2', '', '', event)\"><strong>랭킹</strong></a></li>\n",
      "\t</ul>\n",
      "</div>\n",
      "\n",
      "\n",
      "\n",
      "\n",
      "\n",
      "\n",
      "\n",
      "\n",
      "\n",
      "\n",
      "<div class=\"cast_cnt\">\n",
      "\t\t<div class=\"cast_cnt_top\">\n",
      "\t\t\t<h2><a href=\"http://newsstand.naver.com/\" target=\"_blank\" onclick=\"clickcr(this,'nsd.title','','',event);\" id=\"news_h\" name=\"news_h\" class=\"h_news\">뉴스스탠드</a></h2>\n",
      "\t\t\t<div class=\"newss_sort\">\n",
      "\t\t\t\t<a href=\"#\" id=\"press\" class=\"on\" onclick=\"clickcr(this,'nsd.all','','',event); return false;\">전체언론사</a>\n",
      "\t\t\t\t<span class=\"bar\">|</span>\n",
      "\t\t\t\t<a href=\"#\" id=\"my\"  onclick=\"clickcr(this,'nsd.my','','',event);return false;\">MY뉴스</a>\n",
      "\t\t\t</div>\n",
      "\n",
      "            <div class=\"newss_sort2\">\n",
      "                <a href=\"#\" id=\"thumb\" title=\"매체보기\" class=\"sort_thumb on\">매체보기</a>\n",
      "                <a href=\"#\" id=\"list\" title=\"기사보기\" class=\"sort_list \">기사보기</a>\n",
      "            </div>\n",
      "\n",
      "\t\t\t<div class=\"cast_type2\">\n",
      "\n",
      "\t\t\t\n",
      "\n",
      "\t\t\t\n",
      "\t\t\t\t<div class=\"nctg\" data-mode=\"press\" >\n",
      "\t\t\t\t\t<a href=\"#\" class=\"btn_nctg\" onclick=\"return false;\">주요언론사</a>\n",
      "\t\t\t\t\t<ul class=\"cpress_lst hide\">\n",
      "\t\t\t\t\t\t<li class=\"on\"><a href=\"#ct1\">주요언론사</a></li>\n",
      "\t\t\t\t\t\t<li><a href=\"#ct2\">종합/경제</a></li>\n",
      "\t\t\t\t\t\t<li><a href=\"#ct3\">방송/통신</a></li>\n",
      "\t\t\t\t\t\t<li><a href=\"#ct4\">IT</a></li>\n",
      "\t\t\t\t\t\t<li><a href=\"#ct5\">영자지</a></li>\n",
      "\t\t\t\t\t\t<li><a href=\"#ct6\">스포츠/연예</a></li>\n",
      "\t\t\t\t\t\t<li><a href=\"#ct7\">매거진/전문지</a></li>\n",
      "\t\t\t\t\t\t<li><a href=\"#ct8\">지역</a></li>\n",
      "\t\t\t\t\t</ul>\n",
      "\t\t\t\t</div>\n",
      "\t\t\t</div>\n",
      "\t\t\t<div class=\"news_rectype\" data-mode=\"my\"  style=\"display:none\">\n",
      "\t\t\t\t<h3><a href=\"#\" onclick=\"return false;\">구독목록</a></h3>\n",
      "\t\t\t\t<div class=\"ly_rectype\" style=\"display:none\">\n",
      "\t\t\t\t\t<div id=\"scroll9\">\n",
      "\t\t\t\t\t\t<div class=\"scrollbar-box\">\n",
      "\t\t\t\t\t\t\t<div class=\"scrollbar-content\">\n",
      "\t\t\t\t\t\t\t\t<ul class=\"rectype_lst\">\n",
      "\t\t\t\t\t\t\t\t</ul>\n",
      "\t\t\t\t\t\t\t</div>\n",
      "\t\t\t\t\t\t</div>\n",
      "\t\t\t\t\t\t<div class=\"scrollbar-v scrollbar-show\">\n",
      "\t\t\t\t\t\t\t<div class=\"scrollbar-button-up rollover\"></div>\n",
      "\t\t\t\t\t\t\t<div class=\"scrollbar-track\" style=\"height:110px\">\n",
      "\t\t\t\t\t\t\t\t<div class=\"scrollbar-thumb rollover\" style=\"top:0;height:50px\"><img src=\"http://img.naver.net/static/w9/blank.gif\" width=\"1\" height=\"1\" alt=\"\" class=\"scrollbar-thumb-body\" style=\"height:48px\"></div>\n",
      "\t\t\t\t\t\t\t</div>\n",
      "\t\t\t\t\t\t\t<div class=\"scrollbar-button-down rollover\"></div>\n",
      "\t\t\t\t\t\t</div>\n",
      "\t\t\t\t\t</div>\n",
      "\t\t\t\t</div>\n",
      "\t\t\t</div>\n",
      "\t\t</div>\n",
      "\t\t<div class=\"cast2_article \">\n",
      "\t\t\t<div id=\"news_contents\" class=\"flick-view\">\n",
      "\t\t\t\t<div class=\"flick-container\" style=\"position:relative;height:171px\">\n",
      "\t\t\t\t\t<div class=\"flick-panel\" style=\"position:absolute;top:0;left:0;width:100%;height:100%\">\n",
      "\t\t\t\t\t\n",
      "\t\t\t\t\t\t<h3 class=\"blind\">전체언론사</h3>\n",
      "\t\t\t\t\t\t<div class=\"newss_lst\">\n",
      "\t\t\t\t\t\t\t<!-- [D] : 이동시 left값 -552px 씩 증가 -->\n",
      "\t\t\t\t\t\t\t<div class=\"newss\" style=\"left:0\">\n",
      "\t\t\t\t\t\t\t\t<ul>\n",
      "\t\t\t\t\t\t\t\n",
      "<li id=\"NS_314\"><a href=\"http://newsstand.naver.com/?list=ct1&pcode=314\" target=\"_blank\" class=\"newssa\"><img src=\"http://img.naver.net/static/newsstand/up/2014/0715/314.gif\" alt=\"스포츠동아\" /></a>\n",
      "</li>\n",
      "<li id=\"NS_056\"><a href=\"http://newsstand.naver.com/?list=ct1&pcode=056\" target=\"_blank\" class=\"newssa\"><img src=\"http://img.naver.net/static/newsstand/up/2014/0715/056.gif\" alt=\"KBS\" /></a>\n",
      "</li>\n",
      "<li id=\"NS_368\"><a href=\"http://newsstand.naver.com/?list=ct1&pcode=368\" target=\"_blank\" class=\"newssa\"><img src=\"http://img.naver.net/static/newsstand/up/2014/0715/368.gif\" alt=\"데일리안\" /></a>\n",
      "</li>\n",
      "<li id=\"NS_009\"><a href=\"http://newsstand.naver.com/?list=ct1&pcode=009\" target=\"_blank\" class=\"newssa\"><img src=\"http://img.naver.net/static/newsstand/up/2014/0715/009.gif\" alt=\"매일경제\" /></a>\n",
      "</li>\n",
      "<li id=\"NS_030\"><a href=\"http://newsstand.naver.com/?list=ct1&pcode=030\" target=\"_blank\" class=\"newssa\"><img src=\"http://img.naver.net/static/newsstand/up/2016/0311/nsd10128574.gif\" alt=\"전자신문\" /></a>\n",
      "</li>\n",
      "<li id=\"NS_052\"><a href=\"http://newsstand.naver.com/?list=ct1&pcode=052\" target=\"_blank\" class=\"newssa\"><img src=\"http://img.naver.net/static/newsstand/up/2015/1112/nsd184430988.jpg\" alt=\"YTN\" /></a>\n",
      "</li>\n",
      "<li id=\"NS_002\"><a href=\"http://newsstand.naver.com/?list=ct1&pcode=002\" target=\"_blank\" class=\"newssa\"><img src=\"http://img.naver.net/static/newsstand/up/2014/0715/002.gif\" alt=\"프레시안\" /></a>\n",
      "</li>\n",
      "<li id=\"NS_031\"><a href=\"http://newsstand.naver.com/?list=ct1&pcode=031\" target=\"_blank\" class=\"newssa\"><img src=\"http://img.naver.net/static/newsstand/up/2014/0715/031.gif\" alt=\"아이뉴스24\" /></a>\n",
      "</li>\n",
      "<li id=\"NS_109\"><a href=\"http://newsstand.naver.com/?list=ct1&pcode=109\" target=\"_blank\" class=\"newssa\"><img src=\"http://img.naver.net/static/newsstand/up/2014/0715/109.gif\" alt=\"OSEN\" /></a>\n",
      "</li>\n",
      "<li id=\"NS_092\"><a href=\"http://newsstand.naver.com/?list=ct1&pcode=092\" target=\"_blank\" class=\"newssa\"><img src=\"http://img.naver.net/static/newsstand/up/2014/0715/092.gif\" alt=\"지디넷코리아\" /></a>\n",
      "</li>\n",
      "<li id=\"NS_277\"><a href=\"http://newsstand.naver.com/?list=ct1&pcode=277\" target=\"_blank\" class=\"newssa\"><img src=\"http://img.naver.net/static/newsstand/up/2015/0707/nsd105132418.gif\" alt=\"아시아경제\" /></a>\n",
      "</li>\n",
      "<li id=\"NS_079\"><a href=\"http://newsstand.naver.com/?list=ct1&pcode=079\" target=\"_blank\" class=\"newssa\"><img src=\"http://img.naver.net/static/newsstand/up/2014/0715/079.gif\" alt=\"노컷뉴스\" /></a>\n",
      "</li>\n",
      "\n",
      "\t\t\t\t\t\t\t\t</ul>\n",
      "\t\t\t\t\t\t\t</div>\n",
      "\t\t\t\t\t\t</div>\n",
      "\t\t\t\t\t\n",
      "\t\t\t\t\t</div>\n",
      "\t\t\t\t</div>\n",
      "\t\t\t\t\n",
      "\t\t\t</div>\n",
      "\n",
      "\t\t\t<div class=\"newss_ft\">\n",
      "                <a href=\"http://newsstand.naver.com/config.html\" class=\"mm_set\" target=\"_blank\" onclick=\"clickcr(this,'nsd.set','','',event);\"><span></span>구독설정</a>\n",
      "<!--\n",
      "                <span class=\"bar\">|</span>\n",
      "\t\t\t\t\n",
      "\t\t\t\t\t<a href=\"http://news.naver.com/main/ombudsman/readView.nhn?notiId=320&notiDel=N\" target=\"_blank\" class=\"mm_noti\">[알림] 언론사별 주요뉴스를 메인에서 바로 볼 수 있어요!</a>\n",
      "\t\t\t\t\t\n",
      "-->\n",
      "            </div>\t\n",
      "\t\t\t\n",
      "\t\t\t<div class=\"cpg nss_pg\" data-mode=\"press\" >\n",
      "\t\t\t\t<span>\n",
      "\t\t\t\t<span></span>\n",
      "\t\t\t\t</span>\n",
      "\t\t\t\t<a href=\"#ns_prev\" class=\"pre\" title=\"이전페이지\" onclick=\"return false;\">이전페이지</a><a href=\"#ns_next\" class=\"next\" title=\"다음페이지\">다음페이지</a>\n",
      "\t\t\t</div>\n",
      "\n",
      "\t\t\t<div class=\"cpg nss_pg\" data-mode=\"my\"  style=\"display:none\">\n",
      "\t\t\t\t<span>\n",
      "\t\t\t\t<span></span>\n",
      "\t\t\t\t</span>\n",
      "\t\t\t\t<a href=\"#ns_prev\" class=\"pre\" title=\"이전페이지\" onclick=\"return false;\">이전페이지</a><a href=\"#ns_next\" class=\"next\" title=\"다음페이지\">다음페이지</a>\n",
      "\t\t\t</div>\n",
      "\n",
      "\t\t</div>\n",
      "\t</div>\n",
      "</div>\n",
      "\n",
      "</div>\n",
      "<div id=\"column_right\">\n",
      "\n",
      "<div id=\"account\">\n",
      "<h2 class=\"blind\"><a href=\"#account_h\" id=\"account_h\" name=\"account_h\">로그인</a></h2>\n",
      "\n",
      "\n",
      "\n",
      "\n",
      "<div id=\"loginframe\" class=\"login vis\">\n",
      "\n",
      "\t<div class=\"button_login login_eng\">\n",
      "\t\t<div class=\"bl_inner\">\n",
      "\t\t\t<div class=\"bl_rolling\">\n",
      "\t\t\t\t<ul style=\"margin-top:0\">\n",
      "\t\t\t\t\t<li>Connect with people</li>\n",
      "\t\t\t\t</ul>\n",
      "\t\t\t</div>\n",
      "\t\t\t<a onclick=\"clickcr(this,'log_off.pad','','',event);\" href=\"https://nid.naver.com/nidlogin.login?url=http%3A%2F%2Fwww.naver.com?mobile\" class=\"bl_btn\">NAVER Sign in</a>\n",
      "\t\t\t<span class=\"acc_find\">Forgot <a onclick=\"clickcr(this,'log_off.searchid','','',event);\" href=\"https://nid.naver.com/user/help.nhn?todo=idinquiry\">Username</a> or <a onclick=\"clickcr(this,'log_off.searchpass','','',event);\" href=\"https://nid.naver.com/nidreminder.form\">Password?</a> <span class=\"bar\">|</span> <a onclick=\"clickcr(this,'log_off.registration','','',event);\" href=\"https://nid.naver.com/nidregister.form?url=http%3A%2F%2Fwww.naver.com\">Sign up</a> </span>\n",
      "\t\t</div>\n",
      "\t</div>\n",
      "\n",
      "</div>\n",
      "\n",
      "</div>\n",
      "\n",
      "<div id=\"ie55\" style=\"display:none;\"></div>\n",
      "<div id=\"ad_branding_hide\"></div>\n",
      "<div id=\"veta_timesquare\" class=\"ad_area2\" style=\"display:none;\">\n",
      "<iframe id=\"IDHERE2\" src=\"http://nv.veta.naver.com/dr?unit=002AT&da_dom_id=veta_timesquare\" title=\"광고\" width=\"300\" height=\"159\" marginheight=\"0\" marginwidth=\"0\" scrolling=\"no\" frameborder=\"0\"></iframe>\n",
      "</div>\n",
      "<div id=\"time_square\" class=\"logff\">\n",
      "<h2 class=\"blind\"><a href=\"#time_h\" id=\"time_h\" name=\"time_h\">타임스퀘어</a></h2>\n",
      "\n",
      "<div class=\"tsq\">\n",
      "<h3 class=\"tsq_h\">투데이</h3>\n",
      "<div class=\"tsq_status\">\n",
      "<a href=\"http://calendar.naver.com\" class=\"date\" onclick=\"clickcr(this,'squ.date','','',event);\" title=\"캘린더이동\"><em>01.13.</em>(금)</a>\n",
      "<span class=\"bar\">|</span>\n",
      "<a href=\"http://search.naver.com/search.naver?sm=top_tsi&where=nexearch&ie=utf8&query=%ED%8E%B8%EC%84%B1%ED%91%9C\" class=\"qlink\">TV편성</a>\n",
      "</div>\n",
      "<div id=\"ws_tsq\" class=\"tsq_slide\">\n",
      "<h4 class=\"blind\">뉴스/이슈</h4>\n",
      "<div class=\"tsq_news_wrap\">\n",
      "<ul class=\"tsq_list\">\n",
      "<li>\n",
      "<a href=\"http://news.naver.com/main/hotissue/sectionList.nhn?mid=hot&amp;sid1=110&amp;cid=933879\" onclick=\"clickcr(this, 'squ.theme','78005501_0000000E994F', '', event)\"  class=\"tit\">학습</a>\n",
      "<a href=\"http://news.naver.com/main/hotissue/sectionList.nhn?mid=hot&amp;sid1=110&amp;cid=933879\" onclick=\"clickcr(this, 'squ.text','78005501_0000000E994E', '', event)\"  title=\"영어로 듣는 뉴스\">영어로 듣는 뉴스</a>\n",
      "<span class=\"bar\">|</span>\n",
      "<a href=\"http://talkie.naver.com/english/room-list.dict?mode=pc\" onclick=\"clickcr(this, 'squ.text','78005501_0000000E9955', '', event)\"  title=\"영어톡톡\">영어톡톡</a>\n",
      "</li>\n",
      "<li>\n",
      "<a href=\"http://search.naver.com/search.naver?sm=top_tsi&amp;where=nexearch&amp;ie=utf8&amp;query=%ED%96%89%EC%82%AC%EC%9D%BC%EC%A0%95\" onclick=\"clickcr(this, 'squ.theme','78005501_0000000E9953', '', event)\"  class=\"tit\">행사</a>\n",
      "<a href=\"http://search.naver.com/search.naver?sm=top_tsi&amp;where=nexearch&amp;query=%C7%F6%C0%E7%BB%F3%BF%B5%BF%B5%C8%AD\" onclick=\"clickcr(this, 'squ.text','78005501_0000000E9952', '', event)\"  title=\"현재 상영 영화\">현재 상영 영화</a>\n",
      "<span class=\"bar\">|</span>\n",
      "<a href=\"http://search.naver.com/search.naver?sm=top_tsi&amp;where=nexearch&amp;query=%EC%8A%A4%ED%8F%AC%EC%B8%A0+%EA%B2%BD%EA%B8%B0%EC%9D%BC%EC%A0%95\" onclick=\"clickcr(this, 'squ.text','78005501_0000000E9954', '', event)\"  title=\"스포츠 주요 경기 일정\">스포츠 주요 경기 일정</a>\n",
      "</li>\n",
      "<li>\n",
      "<a href=\"http://sports.news.naver.com/\" onclick=\"clickcr(this, 'squ.theme','78005501_0000000E9951', '', event)\"  class=\"tit\">스포츠</a>\n",
      "<a href=\"http://sports.news.naver.com/kfootball/index.nhn\" onclick=\"clickcr(this, 'squ.text','78005501_0000000E9950', '', event)\"  title=\"조나탄 \"나의 골은 수원을 향한 책임감\"\">조나탄 &quot;나의 골은 수원을 향한 책임감&quot;</a>\n",
      "</li><!-- EMPTY --></ul>\n",
      "<dl class=\"tsq_finan\">\n",
      "<dt><a href=\"http://finance.naver.com/\" class=\"tit\" onclick=\"clickcr(this,'stk.stock','','',event)\">증시</a></dt>\n",
      "<dd class=\"finan\">\n",
      "<a href=\"http://finance.naver.com/sise/sise_index.nhn?code=KOSPI\" onclick=\"clickcr(this,'stk.kospi','','',event);\">\n",
      "코스피\n",
      "<strong class=\"val\">2076.12</strong>\n",
      "<span class=\"down\">\n",
      "<span class=\"mk\">하락</span>\n",
      "<em class=\"gap\">11.02</em>\n",
      "</span>\n",
      "</a>\n",
      "</dd>\n",
      "<dd class=\"finan hide\">\n",
      "<a href=\"http://finance.naver.com/sise/sise_index.nhn?code=KOSDAQ\" onclick=\"clickcr(this,'stk.kosdaq','','',event);\">\n",
      "코스닥\n",
      "<strong class=\"val\">632.23</strong>\n",
      "<span class=\"down\">\n",
      "<span class=\"mk\">하락</span>\n",
      "<em class=\"gap\">0.64</em>\n",
      "</span>\n",
      "</a>\n",
      "</dd>\n",
      "<dd class=\"finan_search\">\n",
      "<fieldset>\n",
      "<form action=\"http://finance.naver.com/search/search.nhn\" method=\"get\">\n",
      "<legend>주가검색</legend>\n",
      "<input type=\"hidden\" name=\"command\" value=\"main\" />\n",
      "<input type=\"hidden\" name=\"ref\" value=\"top_search\" />\n",
      "<input type=\"hidden\" name=\"encoding\" value=\"UTF-8\" />\n",
      "<input type=\"text\" name=\"query\" title=\"검색어\" value=\"주가\" class=\"input_finan\" onfocus=\"TS.FinanInput.onFocus();\"><button type=\"submit\" class=\"btn_finan\" onclick=\"clickcr(this,'stk.reference','','',event);TS.FinanInput.onClick();return false;\">검색</button>\n",
      "</form>\n",
      "</fieldset>\n",
      "</dd>\n",
      "</dl>\n",
      "</div>\n",
      "</div>\n",
      "<div class=\"cpg timesquare_pg\">\n",
      "<span><strong>1</strong>/3</span>\n",
      "<a href=\"#\" class=\"pre\" title=\"이전\">이전</a><a href=\"#\" class=\"next\" title=\"다음\">다음</a>\n",
      "</div>\n",
      "<div class=\"tsq_wg\">\n",
      "<a href=\"#\" class=\"tsq_wg_open\" onclick=\"clickcr(this,'tsw.open','','',event);TimeSquare.Wiget.open();return false;\">생활위젯 레이어 열기</a>\n",
      "<div class=\"ly_tsq_wg\" style=\"display:none\"></div>\n",
      "</div>\n",
      "</div>\n",
      "</div>\n",
      "<div id=\"veta_branding\">\n",
      "<iframe id=\"da_iframe_rolling\" name=\"da_iframe_rolling\" src=\"http://nv2.veta.naver.com/dr?unit=002AP&nrefreshx=0\" title=\"광고\" width=\"300\" height=\"150\" marginheight=\"0\" marginwidth=\"0\" scrolling=\"no\" frameborder=\"0\">광고 : <a href=\"http://nv2.veta.naver.com/dr?unit=002AP&nrefreshx=0\">http://nv2.veta.naver.com/dr?unit=002AP&nrefreshx=0</a></iframe>\n",
      "<div class=\"veta_bdt\"></div><div class=\"veta_bdr\"></div><div class=\"veta_bdb\"></div><div class=\"veta_bdl\"></div>\n",
      "</div>\n",
      "</div>\n",
      "<!-- EMPTY -->\n",
      "<div id=\"column_bottom\">\n",
      "<div id=\"themecast\" class=\"cast3\">\n",
      "<h2 class=\"blind\">주제형캐스트</h2>\n",
      "<div id=\"themecast_cate\" class=\"s_cate\">\n",
      "\n",
      " <span class=\"tcc_lif\"><a data-code=\"tcc_lif\" href=\"#tcc_lif\"><span class=\"ir\">리빙</span></a></span> <span class=\"tcc_fod\"><a data-code=\"tcc_fod\" href=\"#tcc_fod\"><span class=\"ir\">푸드</span></a></span> <span class=\"tcc_spo\"><a data-code=\"tcc_spo\" href=\"#tcc_spo\"><span class=\"ir\">스포츠</span></a></span> <span class=\"tcc_aut\"><a data-code=\"tcc_aut\" href=\"#tcc_aut\"><span class=\"ir\">차/테크</span></a></span> <span class=\"tcc_bty\"><a data-code=\"tcc_bty\" href=\"#tcc_bty\"><span class=\"ir\">패션뷰티</span></a></span> <span class=\"tcc_web\"><a data-code=\"tcc_web\" href=\"#tcc_web\"><span class=\"ir\">웹툰</span></a></span> <span class=\"tcc_gam\"><a data-code=\"tcc_gam\" href=\"#tcc_gam\"><span class=\"ir\">게임</span></a></span> <span class=\"tcc_tvc\"><a data-code=\"tcc_tvc\" href=\"#tcc_tvc\" class=\"on\"><span class=\"ir\">TV/연예</span></a></span> <span class=\"tcc_muc\"><a data-code=\"tcc_muc\" href=\"#tcc_muc\"><span class=\"ir\">뮤직</span></a></span> <span class=\"tcc_mov\"><a data-code=\"tcc_mov\" href=\"#tcc_mov\"><span class=\"ir\">영화</span></a></span> <span class=\"tcc_bok\"><a data-code=\"tcc_bok\" href=\"#tcc_bok\"><span class=\"ir\">책/문화</span></a></span> <span class=\"tcc_ncc\"><a data-code=\"tcc_ncc\" href=\"#tcc_ncc\"><span class=\"ir\">지식/교양</span></a></span> <span class=\"tcc_pub\"><a data-code=\"tcc_pub\" href=\"#tcc_pub\"><span class=\"ir\">공익/나눔</span></a></span> \n",
      "\n",
      "<span class=\"tcb_end\"></span>\n",
      "</div>\n",
      "<div class=\"flick-view\" id=\"themecast_contents\" style=\"position:relative;\">\n",
      "<div class=\"flick-container\">\n",
      "<div class=\"flick-panel\">\n",
      "<div class=\"s_article\" data-rev=\"000000\">\n",
      "<h3 class=\"blind\">TV/연예</h3>\n",
      "<div class=\"tc_lst_wrap\">\n",
      "<ul class=\"tc_lst\">\n",
      "<li class=\"type_a\" data-seq=\"249303\" >\n",
      "<a href=\"http://tv.naver.com/v/1370896\"  onclick=\"return clickcr(this,'tcc_tvc.special1','7803E801_000000044B24','', event);\">\n",
      "<span class=\"thumb\">\n",
      "<img src=\"http://img.naver.net/static/www/mobile/edit/2017/0112/mobile_225437115970.jpg\" width=\"289\" height=\"149\" alt=\"무엇을 생각하든 상상 그 이상의 수지&hearts;\">\n",
      "<span class=\"mask\"></span>\n",
      "<span class=\"mask2\"></span>\n",
      "</span>\n",
      "<span class=\"flex\">\n",
      "<span class=\"s\">웹예능 &lt;오프 더 레코드, 수지&gt; 티저</span><strong class=\"t\">무엇을 생각하든 상상 그 이상의 수지&hearts;</strong></span>\n",
      "</a>\n",
      "</li>\n",
      "<li class=\"copy\" data-seq=\"249350\" >\n",
      "<a href=\"http://tv.naver.com/v/1370187\" class=\"copy_a\"  onclick=\"return clickcr(this,'tcc_tvc.contents','7803E801_000000044B53','', event);\">\n",
      "<span class=\"thumb\">\n",
      "<img src=\"http://img.naver.net/static/www/mobile/edit/2017/0113/mobile_10582089274.jpg\" width=\"138\" height=\"82\" alt=\"롤러코스터 탄 다현 &quot;하차하고 싶어요!&quot;\"><span class=\"sprh sprh_mov\">영상</span><span class=\"mask\"></span>\n",
      "<span class=\"tag\"><em>웹예능</em><span class=\"bg\"></span><span class=\"bd\"></span></span></span>\n",
      "<span class=\"t\">롤러코스터 탄 다현 &quot;하차하고 싶어요!&quot;</span>\n",
      "</a>\n",
      "<span class=\"s\">\n",
      "<a href=\"http://tv.naver.com/losttime\"  onclick=\"return clickcr(this,'tcc_tvc.origin','7803E801_000000044B53','', event);\">로스트:타임</a><span class=\"bar\"> | </span>\n",
      "<span>티저</span></span>\n",
      "</li><li class=\"copy\" data-seq=\"248823\" >\n",
      "<a href=\"http://www.vlive.tv/video/20689\" class=\"copy_a\"  onclick=\"return clickcr(this,'tcc_tvc.contents','7803E801_000000044930','', event);\">\n",
      "<span class=\"thumb\">\n",
      "<img src=\"http://v.phinf.naver.net/20160411_239/1460339127026TRUF8_PNG/upload_%BF%A1%BD%BA%BF%A5%C5%B8%BF%EE_PINK.png?type=f228_128\" width=\"138\" height=\"82\" alt=\"tvN &lt;편의점을 털어라&gt; 토니안&amp;강타\"><span class=\"sprh sprh_mov\">영상</span><span class=\"mask\"></span>\n",
      "</span>\n",
      "<span class=\"t\">tvN &lt;편의점을 털어라&gt; 토니안&amp;강타</span>\n",
      "</a>\n",
      "<span class=\"s\">\n",
      "<a href=\"https://play.google.com/store/apps/details?id=com.naver.vapp\"  onclick=\"return clickcr(this,'tcc_tvc.origin','7803E801_000000044930','', event);\">V앱 안드로이드</a><span class=\"bar\"> | </span>\n",
      "<a href=\"https://itunes.apple.com/kr/app/id1019447011?mt=8\"  onclick=\"return clickcr(this,'tcc_tvc.origin','7803E801_000000044930','', event);\">V앱 iOS</a></span>\n",
      "</li><li class=\"copy\" data-seq=\"249368\" >\n",
      "<a href=\"http://tv.naver.com/v/1370187\" class=\"copy_a\"  onclick=\"return clickcr(this,'tcc_tvc.contents','7803E801_000000044B65','', event);\">\n",
      "<span class=\"thumb\">\n",
      "<img src=\"http://img.naver.net/static/www/mobile/edit/2017/0113/mobile_115113600264.png\" width=\"138\" height=\"82\" alt=\"그 아련한 눈빛..어쩌라는 건데...\"><span class=\"sprh sprh_mov\">영상</span><span class=\"mask\"></span>\n",
      "<span class=\"tag\"><em>웹드라마</em><span class=\"bg\"></span><span class=\"bd\"></span></span></span>\n",
      "<span class=\"t\">그 아련한 눈빛..어쩌라는 건데...</span>\n",
      "</a>\n",
      "<span class=\"s\">\n",
      "<a href=\"http://tv.naver.com/v/1368305\"  onclick=\"return clickcr(this,'tcc_tvc.origin','7803E801_000000044B65','', event);\">우주의 별이</a><span class=\"bar\"> | </span>\n",
      "<span>티저</span></span>\n",
      "</li><li class=\"copy\" data-seq=\"249321\" >\n",
      "<a href=\"http://tv.naver.com/v/1371486\" class=\"copy_a\"  onclick=\"return clickcr(this,'tcc_tvc.contents','7803E801_000000044B36','', event);\">\n",
      "<span class=\"thumb\">\n",
      "<img src=\"http://img.naver.net/static/www/mobile/edit/2017/0113/mobile_074210157740.jpg\" width=\"138\" height=\"82\" alt=\"신화의 노하우 전수받은 엄현경\"><span class=\"sprh sprh_mov\">영상</span><span class=\"mask\"></span>\n",
      "</span>\n",
      "<span class=\"t\">신화의 노하우 전수받은 엄현경</span>\n",
      "</a>\n",
      "<span class=\"s\">\n",
      "<a href=\"http://tv.naver.com/happytogether3\"  onclick=\"return clickcr(this,'tcc_tvc.origin','7803E801_000000044B36','', event);\">해피투게더 3</a></span>\n",
      "</li><li class=\"copy\" data-seq=\"249326\" >\n",
      "<a href=\"http://tv.naver.com/v/1371314\" class=\"copy_a\"  onclick=\"return clickcr(this,'tcc_tvc.contents','7803E801_000000044B3B','', event);\">\n",
      "<span class=\"thumb\">\n",
      "<img src=\"http://img.naver.net/static/www/mobile/edit/2017/0113/mobile_075326904884.jpg\" width=\"138\" height=\"82\" alt=\"전지현, 이민호에 눈물의 고백 \"><span class=\"sprh sprh_mov\">영상</span><span class=\"mask\"></span>\n",
      "</span>\n",
      "<span class=\"t\">전지현, 이민호에 눈물의 고백 </span>\n",
      "</a>\n",
      "<span class=\"s\">\n",
      "<a href=\"http://tv.naver.com/sbs.bluesea\"  onclick=\"return clickcr(this,'tcc_tvc.origin','7803E801_000000044B3B','', event);\">푸른 바다의 전설 </a></span>\n",
      "</li><li class=\"copy\" data-seq=\"249334\" >\n",
      "<a href=\"http://tv.naver.com/v/1371133\" class=\"copy_a\"  onclick=\"return clickcr(this,'tcc_tvc.contents','7803E801_000000044B43','', event);\">\n",
      "<span class=\"thumb\">\n",
      "<img src=\"http://img.naver.net/static/www/mobile/edit/2017/0113/mobile_081223900497.jpg\" width=\"138\" height=\"82\" alt=\"희철의 5cm 초밀착 입술 메이크업!\"><span class=\"sprh sprh_mov\">영상</span><span class=\"mask\"></span>\n",
      "</span>\n",
      "<span class=\"t\">희철의 5cm 초밀착 입술 메이크업!</span>\n",
      "</a>\n",
      "<span class=\"s\">\n",
      "<a href=\"http://tv.naver.com/cjenm.LipstickPrince\"  onclick=\"return clickcr(this,'tcc_tvc.origin','7803E801_000000044B43','', event);\">립스틱프린스 </a></span>\n",
      "</li><li class=\"copy\" data-seq=\"249330\" >\n",
      "<a href=\"http://tv.naver.com/v/1371160\" class=\"copy_a\"  onclick=\"return clickcr(this,'tcc_tvc.contents','7803E801_000000044B3F','', event);\">\n",
      "<span class=\"thumb\">\n",
      "<img src=\"http://img.naver.net/static/www/mobile/edit/2017/0113/mobile_080401383234.jpg\" width=\"138\" height=\"82\" alt=\"&#39;긍정의 아이콘&#39; 착한 세정이&hearts;\"><span class=\"sprh sprh_mov\">영상</span><span class=\"mask\"></span>\n",
      "</span>\n",
      "<span class=\"t\">&#39;긍정의 아이콘&#39; 착한 세정이&hearts;</span>\n",
      "</a>\n",
      "<span class=\"s\">\n",
      "<a href=\"http://tv.naver.com/jtbc.good\"  onclick=\"return clickcr(this,'tcc_tvc.origin','7803E801_000000044B3F','', event);\">잘 먹겠습니다</a></span>\n",
      "</li><li class=\"copy\" data-seq=\"249328\" >\n",
      "<a href=\"http://tv.naver.com/v/1371300\" class=\"copy_a\"  onclick=\"return clickcr(this,'tcc_tvc.contents','7803E801_000000044B3D','', event);\">\n",
      "<span class=\"thumb\">\n",
      "<img src=\"http://img.naver.net/static/www/m/guide/dummy_1X1.jpg\" data-src=\"http://img.naver.net/static/www/mobile/edit/2017/0113/mobile_075931106431.jpg\" width=\"138\" height=\"82\" alt=\"정인선, 이준혁 흉터에 &#39;호흡 곤란&#39;\"><span class=\"sprh sprh_mov\">영상</span><span class=\"mask\"></span>\n",
      "</span>\n",
      "<span class=\"t\">정인선, 이준혁 흉터에 &#39;호흡 곤란&#39;</span>\n",
      "</a>\n",
      "<span class=\"s\">\n",
      "<a href=\"http://tv.naver.com/kbs.firefighter\"  onclick=\"return clickcr(this,'tcc_tvc.origin','7803E801_000000044B3D','', event);\">맨몸의 소방관</a></span>\n",
      "</li><li class=\"copy\" data-seq=\"249324\" >\n",
      "<a href=\"http://tv.naver.com/v/1371257\" class=\"copy_a\"  onclick=\"return clickcr(this,'tcc_tvc.contents','7803E801_000000044B39','', event);\">\n",
      "<span class=\"thumb\">\n",
      "<img src=\"http://img.naver.net/static/www/m/guide/dummy_1X1.jpg\" data-src=\"http://img.naver.net/static/www/mobile/edit/2017/0113/mobile_074553599874.jpg\" width=\"138\" height=\"82\" alt=\"최유정, 지코와 혼동주의!!\"><span class=\"sprh sprh_mov\">영상</span><span class=\"mask\"></span>\n",
      "</span>\n",
      "<span class=\"t\">최유정, 지코와 혼동주의!!</span>\n",
      "</a>\n",
      "<span class=\"s\">\n",
      "<a href=\"http://tv.naver.com/cjenm.goldentam\"  onclick=\"return clickcr(this,'tcc_tvc.origin','7803E801_000000044B39','', event);\">골든 탬버린 </a></span>\n",
      "</li><li class=\"copy\" data-seq=\"249332\" >\n",
      "<a href=\"http://tv.naver.com/v/1369347\" class=\"copy_a\"  onclick=\"return clickcr(this,'tcc_tvc.contents','7803E801_000000044B41','', event);\">\n",
      "<span class=\"thumb\">\n",
      "<img src=\"http://img.naver.net/static/www/m/guide/dummy_1X1.jpg\" data-src=\"http://img.naver.net/static/www/mobile/edit/2017/0113/mobile_080913169737.jpg\" width=\"138\" height=\"82\" alt=\"결정권 100% 도니의 독단적인 섭외\"><span class=\"sprh sprh_mov\">영상</span><span class=\"mask\"></span>\n",
      "</span>\n",
      "<span class=\"t\">결정권 100% 도니의 독단적인 섭외</span>\n",
      "</a>\n",
      "<span class=\"s\">\n",
      "<a href=\"http://tv.naver.com/mbc.hitmaker\"  onclick=\"return clickcr(this,'tcc_tvc.origin','7803E801_000000044B41','', event);\">도니의 히트제조기 </a></span>\n",
      "</li></ul>\n",
      "<div class=\"tc_bundle_area\" data-seq=\"249276\" >\n",
      "<div class=\"tit_bw\">\n",
      "<h4 class=\"tit_bundle\">실시간 무료 '티빙TV'</h4>\n",
      "</div>\n",
      "<ul class=\"tc_lst tc_bundle\">\n",
      "<li class=\"copy\">\n",
      "<a href=\"http://tvcast.naver.com/s/vingo/672\" class=\"copy_a\"  onclick=\"return clickcr(this,'tcc_tvc.groupbtm','7803E801_000000044B03','', event);\">\n",
      "<span class=\"thumb\">\n",
      "<img src=\"http://img.naver.net/static/www/m/guide/dummy_1X1.jpg\" data-src=\"http://img.naver.net/static/www/mobile/edit/2016/1215/mobile_181629554273.jpg\" width=\"94\" height=\"56\" alt=\"THE K2(더 케이투)\">\n",
      "<span class=\"mask\"></span>\n",
      "</span>\n",
      "<span class=\"t\">THE K2(더 케이투)</span>\n",
      "</a>\n",
      "<span class=\"s\">\n",
      "<span>1-14화 연속 방송</span></span>\n",
      "</li>\n",
      "<li class=\"copy\">\n",
      "<a href=\"http://tvcast.naver.com/s/vingo/678\" class=\"copy_a\"  onclick=\"return clickcr(this,'tcc_tvc.groupbtm','7803E801_000000044B04','', event);\">\n",
      "<span class=\"thumb\">\n",
      "<img src=\"http://img.naver.net/static/www/m/guide/dummy_1X1.jpg\" data-src=\"http://img.naver.net/static/www/mobile/edit/2017/0105/mobile_180954314602.jpg\" width=\"94\" height=\"56\" alt=\"슈퍼스타K 2016\">\n",
      "<span class=\"mask\"></span>\n",
      "</span>\n",
      "<span class=\"t\">슈퍼스타K 2016</span>\n",
      "</a>\n",
      "<span class=\"s\">\n",
      "<span>1-7화 연속 방송</span></span>\n",
      "</li>\n",
      "</ul>\n",
      "</div>\n",
      "<div class=\"tc_bundle_area\" data-seq=\"249276\" >\n",
      "<div class=\"tit_bw\">\n",
      "<h4 class=\"tit_bundle\">N스토어 - 어제 놓치셨다면!</h4>\n",
      "</div>\n",
      "<ul class=\"tc_lst tc_bundle\">\n",
      "<li class=\"copy\">\n",
      "<a href=\"http://nstore.naver.com/broadcasting/detail.nhn?productNo=545129&visitBy=tvcast\" class=\"copy_a\"  onclick=\"return clickcr(this,'tcc_tvc.groupbtm','7803E801_000000044B05','', event);\">\n",
      "<span class=\"thumb\">\n",
      "<img src=\"http://img.naver.net/static/www/m/guide/dummy_1X1.jpg\" data-src=\"http://img.naver.net/static/www/mobile/edit/2016/1208/mobile_163034757380.jpg\" width=\"94\" height=\"56\" alt=\"해피투게더 3\">\n",
      "<span class=\"mask\"></span>\n",
      "</span>\n",
      "<span class=\"t\">해피투게더 3</span>\n",
      "</a>\n",
      "<span class=\"s\">\n",
      "<a href=\"http://nstore.naver.com/broadcasting/categoryList.nhn?categoryCode=100003\"  onclick=\"return clickcr(this,'tcc_tvc.origin','7803E801_000000044B05','', event);\">예능 다시보기</a></span>\n",
      "</li>\n",
      "<li class=\"copy\">\n",
      "<a href=\"http://nstore.naver.com/broadcasting/detail.nhn?productNo=2528259&visitBy=tvcast\" class=\"copy_a\"  onclick=\"return clickcr(this,'tcc_tvc.groupbtm','7803E801_000000044B06','', event);\">\n",
      "<span class=\"thumb\">\n",
      "<img src=\"http://img.naver.net/static/www/m/guide/dummy_1X1.jpg\" data-src=\"http://img.naver.net/static/www/mobile/edit/2017/0112/mobile_211127357565.jpg\" width=\"94\" height=\"56\" alt=\"푸른 바다의 전설\">\n",
      "<span class=\"mask\"></span>\n",
      "</span>\n",
      "<span class=\"t\">푸른 바다의 전설</span>\n",
      "</a>\n",
      "<span class=\"s\">\n",
      "<a href=\"http://nstore.naver.com/broadcasting/categoryList.nhn?categoryCode=100001&onair=Y\"  onclick=\"return clickcr(this,'tcc_tvc.origin','7803E801_000000044B06','', event);\">드라마 다시보기</a></span>\n",
      "</li>\n",
      "</ul>\n",
      "</div>\n",
      "</div>\n",
      "<div class=\"tc_bottom\">\n",
      "<a href=\"#\" class=\"tc_set\">선호주제설정</a>\n",
      "<dl class=\"go_svc\">\n",
      "<dt>주제별 더보기</dt>\n",
      "<dd>\n",
      "<a href=\"http://tv.naver.com\" onclick=\"return clickcr(this,'tcc_tvc.link','','', event);\"> 네이버TV 홈</a><a href=\"http://tv.naver.com/r\" onclick=\"return clickcr(this,'tcc_tvc.link','','', event);\"> TOP100</a><a href=\"http://tv.naver.com/t\" onclick=\"return clickcr(this,'tcc_tvc.link','','', event);\"> TV프로그램</a><a href=\"http://nstore.naver.com/broadcasting/home.nhn\" onclick=\"return clickcr(this,'tcc_tvc.link','','', event);\"> N스토어</a><a href=\"http://tv.naver.com/p/webdrama\" onclick=\"return clickcr(this,'tcc_tvc.link','','', event);\"> 웹드라마</a><a href=\"http://tv.naver.com/recommend/playlist\" onclick=\"return clickcr(this,'tcc_tvc.link','','', event);\"> 추천! 플레이리스트</a><a href=\"http://tv.naver.com/special/tech/multitrack\" onclick=\"return clickcr(this,'tcc_tvc.link','','', event);\"> 멀티트랙</a></dd>\n",
      "</dl>\n",
      "</div><div class=\"cpg tc_cpg\">\n",
      "<span><strong>8</strong>/13</span>\n",
      "<a href=\"#\" class=\"pre\" title=\"이전캐스트\">이전캐스트</a><a href=\"#\" class=\"next\" title=\"다음캐스트\">다음캐스트</a>\n",
      "</div></div>\n",
      "</div>\n",
      "</div>\n",
      "\n",
      "</div>\n",
      "<div id=\"theme_config\" class=\"cast_set\" style=\"display:none\"></div>\n",
      "</div>\n",
      "<div class=\"shopping_cast\">\n",
      "\n",
      "\n",
      "\n",
      "\n",
      "\n",
      "<iframe src=\"http://castbox.shopping.naver.com/sbox/main.nhn\" id=\"cnsv_shbx\" class=\"shop_cast\" title=\"쇼핑캐스트\" marginheight=\"0\" marginwidth=\"0\" scrolling=\"no\" frameborder=\"0\" width=\"298\" height=\"769\">쇼핑캐스트 : <a href=\"http://castbox.shopping.naver.com/sbox/main.nhn\">http://castbox.shopping.naver.com/sbox/main.nhn</a></iframe>\n",
      "</div>\n",
      "</div>\n",
      "<div class=\"column_bn\">\n",
      "<ul id=\"footer_banner\" class=\"lst_bn\">\n",
      "<li>\n",
      "<a href=\"http://music.naver.com/onStage/onStageReview.nhn?articleId=6564&amp;menu=onStageReview\" target=\"_blank\" onclick=\"clickcr(this,'mcb.left', '7803E801_000000044A9F','',event);\" data-gdid=\"7803E801_000000044A9F\" data-location=\"left\">\n",
      "<span class=\"thumb\"><img src=\"http://img.naver.net/static/www/m/guide/dummy_1X1.jpg\" data-src=\"http://img.naver.net/static/www/mobile/edit/2017/0110/mobile_125804509209.jpg\" width=\"90\" height=\"84\" alt=\"온스테이지 모던록 밴드, 몽니 추운 날이면 더 생각나는 깊은 울림, 몽니의 노래\">\n",
      "<span class=\"mask\"></span></span>\n",
      "<span class=\"det\">\n",
      "<span class=\"cate\">온스테이지</span>\n",
      "<strong class=\"tit\">모던록 밴드, 몽니</strong>\n",
      "<span class=\"des\">추운 날이면 더 생각나는<br/>깊은 울림, 몽니의 노래</span>\n",
      "</span>\n",
      "</a>\n",
      "</li>\n",
      "<li>\n",
      "<a href=\"http://happybean.naver.com/campaignhome/Main.nhn?subType=BUYNGIVE\" target=\"_blank\" onclick=\"clickcr(this,'mcb.center', '7803E801_000000044AA3','',event);\" data-gdid=\"7803E801_000000044AA3\" data-location=\"center\">\n",
      "<span class=\"thumb\"><img src=\"http://img.naver.net/static/www/m/guide/dummy_1X1.jpg\" data-src=\"http://img.naver.net/static/www/mobile/edit/2017/0112/mobile_16503065894.jpg\" width=\"90\" height=\"84\" alt=\"비욘드클로젯 고태용 디자이너 &quot;개티&quot; 반려견과 함께하는 세상 개티입고 응원해요\">\n",
      "<span class=\"mask\"></span></span>\n",
      "<span class=\"det\">\n",
      "<span class=\"cate\">비욘드클로젯</span>\n",
      "<strong class=\"tit\">고태용 디자이너 &quot;개티&quot;</strong>\n",
      "<span class=\"des\">반려견과 함께하는 세상<br/>개티입고 응원해요</span>\n",
      "</span>\n",
      "</a>\n",
      "</li>\n",
      "\n",
      "<li class=\"img_style\">\n",
      "<div id=\"veta_time2\" name=\"veta_time2\">\n",
      "<iframe id=\"da_iframe_time2\" name=\"da_iframe_time2\" src=\"http://nv1.veta.naver.com/dr?unit=002AU&nrefreshx=0\"  width=\"300\" height=\"100\" marginheight=\"0\" marginwidth=\"0\" scrolling=\"no\" frameborder=\"0\" align=\"center\" title=\"광고\"></iframe>\n",
      "</div>\n",
      "</li>\n",
      "</ul>\n",
      "</div>\n",
      "<div id=\"svcmore\" class=\"svcmore hide\"></div>\n",
      "</div>\n",
      "<hr />\n",
      "<div id=\"footer\">\n",
      "<dl class=\"notice\">\n",
      "<dt><a href=\"/NOTICE\" class=\"h_notice\">공지사항</a></dt>\n",
      "\n",
      "<dd><a href=\"http://www.naver.com/NOTICE/read/1100001014/10000000000030649309\" onclick=\"clickcr(this, 'ntc.notice','78011B01_0000000EA10F', '', event)\" >네이버 단체 회원 서비스 및 ‘단체회원 이용약관’ 변경에 대한 안내</a></dd>\n",
      "</dl>\n",
      "<p class=\"svc_all\">\n",
      "<a href=\"more.html\" class=\"h_site\" onclick=\"clickcr(this,'ntc.svcmap','','',event);\">서비스 전체보기</a>\n",
      "</p>\n",
      "<dl class=\"policy\">\n",
      "<dt class=\"blind\">네이버 정책 및 약관</dt>\n",
      "<dd class=\"f\"><a href=\"http://www.navercorp.com/\" target=\"_blank\" id=\"plc.intronhn\">회사소개</a></dd>\n",
      "<dd><a href=\"http://mktg.naver.com/\" id=\"plc.adinfo\">광고</a></dd>\n",
      "<dd><a href=\"https://submit.naver.com/\" id=\"plc.search\">마이비즈니스</a></dd>\n",
      "<dd><a href=\"https://www.navercorp.com/ko/company/proposalGuide.nhn\" target=\"_blank\" id=\"plc.contact\">제휴제안</a></dd>\n",
      "<dd><a href=\"rules/service.html\" id=\"plc.service\">이용약관</a></dd>\n",
      "<dd><a href=\"rules/privacy.html\" id=\"plc.privacy\"><strong>개인정보처리방침</strong></a></dd>\n",
      "<dd><a href=\"rules/youthpolicy.html\" id=\"plc.youth\">청소년보호정책</a></dd>\n",
      "<dd><a href=\"rules/spamcheck.html\" id=\"plc.policy\">네이버 정책</a></dd>\n",
      "<dd><a href=\"https://help.naver.com/\" id=\"plc.helpcenter\">네이버 고객센터</a></dd>\n",
      "</dl>\n",
      "<address>&copy; <strong><a href=\"http://www.navercorp.com/\" target=\"_blank\">NAVER Corp.</a></strong></address>\n",
      "</div>\n",
      "</div>\n",
      "<div id=\"dim\" style=\"display:none;\"></div>\n",
      "\n",
      "<script src=\"http://s.pm.naver.net/js/c/jindo.all.20150511.min.js\"></script>\n",
      "<script src=\"http://s.pm.naver.net/js/c/ntop_20161208.min.js\"></script>\n",
      "\n",
      "<script type=\"text/javascript\">\n",
      "//<![CDATA[\n",
      "function stripOutCommentBlock(str) {\n",
      "return str.replace(/\\/\\*/, '').replace(/\\*\\//, '').replace(/var(.+)=/gi , '$1=');\n",
      "}\n",
      "function loadModule(id) {\n",
      "var codeElement = document.getElementById(id),\n",
      "code = codeElement.innerHTML;\n",
      "eval(stripOutCommentBlock(code));\n",
      "}\n",
      "var isOnload = false;\n",
      "var ntop1 = \"http://s.pm.naver.net/js/c/ntop1_20161005.min.js\";\n",
      "var ntop2 = \"http://s.pm.naver.net/js/c/ntop2_20160818.min.js\";\n",
      "var ntop3 = \"http://s.pm.naver.net/js/c/ntop3_20161005.min.js\";\n",
      "function loadJS() {\n",
      "if(!isOnload) {\n",
      "isOnload = true;\n",
      "ready1();\n",
      "ready2();\n",
      "ready3();\n",
      "}\n",
      "}\n",
      "function dlerr(msg,id) {\n",
      "if(id){var q=DLScript.quSXI[id];var s=(q)?q.response:\"\";var l=s.length;var msg=\"data : \"+s.substring(l-30)+\"(\"+l+\")\";}\n",
      "JEagleEyeClient.sendError(\"[DL] \"+msg+\" retry\",{message: msg});\n",
      "}\n",
      "function loadIframe(sId) {\n",
      "if ($(sId) && $Element(sId).attr(\"data-src\")) {\n",
      "$(sId).src = $Element(sId).attr(\"data-src\");\n",
      "$Element(sId).attr(\"data-src\", null);\n",
      "}\n",
      "}\n",
      "function ready1() {\n",
      "if(typeof CommonFn == 'undefined') {\n",
      "DLScript.loadXI(ntop1,1005,run1,true); dlerr(\"ready1\");\n",
      "} else { run1(); }\n",
      "}\n",
      "function run1() {\n",
      "var aIframe = [ \"da_iframe_time\", \"da_iframe_rolling\", \"IDHERE2\", \"cnsv_shbx\", \"da_iframe_time2\", \"minime\" ];\n",
      "for (var i = 0; i < aIframe.length; i++) {\n",
      "loadIframe(aIframe[i]);\n",
      "}\n",
      "var ckeys = $Cookie().keys();\n",
      "for(var i=0;i<ckeys.length;i++) {\n",
      "var re = new RegExp(\"mp_[a-zA-Z0-9_-]+_mixpanel\");\n",
      "if(re.test(ckeys[i])) { $Cookie().remove(ckeys[i],\"naver.com\"); JEagleEyeClient.sendError(\"[mixpanel] \" + ckeys[i]);}\n",
      "}\n",
      "CommonFn.init();\n",
      "NMS._onWindowLoad();\n",
      "newSmartSearch();\n",
      "}\n",
      "function ready2() {\n",
      "if(typeof NewsStand == 'undefined') {\n",
      "DLScript.loadXI(ntop2,0131,run2,true); dlerr(\"ready2\");\n",
      "} else { run2(); }\n",
      "var coin = $$.getSingle('.mn_coin');\n",
      "if (coin) {\n",
      "coin.href = 'https://bill.naver.com/pay/index.nhn';\n",
      "}\n",
      "var bill = $$.getSingle('.mn_bill');\n",
      "if (bill) {\n",
      "bill.href = 'https://bill.naver.com/pay/index.nhn';\n",
      "}\n",
      "}\n",
      "function run2() {\n",
      "RealTimeRank.init();\n",
      "ServiceMenu.init(CommonFn.BaseURL);\n",
      "try {\n",
      "headlineList = { \"pid\" : [\"002\",\"003\",\"005\",\"006\",\"008\",\"009\",\"011\",\"013\",\"014\",\"015\",\"016\",\"018\",\"020\",\"021\",\"022\",\"023\",\"024\",\"025\",\"028\",\"029\",\"030\",\"031\",\"032\",\"038\",\"040\",\"042\",\"044\",\"045\",\"047\",\"050\",\"052\",\"055\",\"056\",\"057\",\"073\",\"075\",\"076\",\"079\",\"081\",\"082\",\"083\",\"087\",\"088\",\"089\",\"092\",\"108\",\"109\",\"117\",\"120\",\"122\",\"123\",\"135\",\"138\",\"139\",\"140\",\"143\",\"144\",\"213\",\"214\",\"215\",\"241\",\"243\",\"277\",\"293\",\"296\",\"308\",\"310\",\"311\",\"312\",\"314\",\"326\",\"327\",\"328\",\"329\",\"330\",\"331\",\"332\",\"333\",\"334\",\"335\",\"336\",\"337\",\"338\",\"339\",\"340\",\"344\",\"345\",\"346\",\"354\",\"355\",\"356\",\"361\",\"362\",\"363\",\"364\",\"366\",\"367\",\"368\",\"374\",\"376\",\"384\",\"385\",\"386\",\"387\",\"388\",\"389\",\"390\",\"391\",\"396\",\"404\",\"410\",\"416\",\"417\",\"421\",\"422\",\"440\",\"447\",\"536\",\"539\",\"901\",\"902\",\"903\",\"904\",\"905\",\"906\",\"907\",\"908\",\"909\",\"910\",\"911\",\"912\",\"913\",\"914\",\"915\",\"916\",\"917\",\"920\",\"921\",\"922\",\"923\",\"924\",\"925\",\"926\",\"927\",\"928\",\"930\",\"931\",\"932\",\"933\",\"934\",\"935\",\"936\",\"937\",\"938\",\"939\",\"940\",\"941\",\"942\",\"943\",\"944\",\"945\",\"946\",\"948\"], \"amigo\" : [] };\n",
      "}\n",
      "catch(e) {\n",
      "JEagleEyeClient.sendError(\"[NEWSSTAND] headline_pressInfo.json error : \" + e.description );\n",
      "}\n",
      "NewsStand.init(myNewsInfo, myNewsStand, headlineList );\n",
      "NewsCast.FlashNewsRoll.init(\"flash_news\", quickNews);\n",
      "}\n",
      "//]]>\n",
      "</script>\n",
      "<script type=\"text/javascript\">\n",
      "//<![CDATA[\n",
      "function ready3() {\n",
      "if(typeof Themecast == 'undefined') {\n",
      "DLScript.loadXI(ntop3,1005,run3,true);\n",
      "dlerr(\"ready3\");\n",
      "} else { run3(); }\n",
      "}\n",
      "function run3() {\n",
      "setTimeout( function() {\n",
      "NMS.Binder.bindImage( $Element(\"themecast_contents\"));\n",
      "NMS.Binder.bindImage( $Element(\"footer_banner\"));\n",
      "NMS.Binder.bindImage( $Element(\"naverapply\"));\n",
      "}, 500 );\n",
      "HomePageSet.init();\n",
      "Question.init(qst_idx, qst_size);\n",
      "Themecast.init();\n",
      "AdMobile.init();\n",
      "CenterBanner.init();\n",
      "TimeSquare.init();\n",
      "\n",
      "Font.init();\n",
      "\n",
      "RightBanner.init();\n",
      "// IPAD 인 경우 Flicking Noti 아이콘을 숨겨주는 로직 수행 각 오브젝트의 init 시에 수행하면 동시에 동작하지 않아 이곳에서 일괄 수행\n",
      "if ( global.isSupportedFlicking ) {\n",
      "setTimeout( function() {\n",
      "Themecast.UI.hideFlickingNoti();\n",
      "NewsStand.UI.hideFlickingNoti();\n",
      "}, 1000);\n",
      "}\n",
      "// 지글아이 설정\n",
      "\n",
      "setTimeout(naver_bakery.bakeryManager.checkTable, 4000);\n",
      "}\n",
      "window.onload = loadJS;\n",
      "setTimeout(loadJS,3000);\n",
      "//]]>\n",
      "</script>\n",
      "<script id=\"newsLazy\" type=\"text/javascript\">\n",
      "//<![CDATA[\n",
      "\n",
      "var myNewsInfo=\"\" ; var ncast = \"(none)\"; \n",
      "\n",
      "var myNewsStand = \"\"; \n",
      "\n",
      "var newspaperUrl = \"newspaper.naver.com\";\n",
      "var newsStandUrl = \"newsstand.naver.com\";\n",
      "var userInfoUrl  = \"userinfo.www.naver.com\";\n",
      "var opencastUrl  = \"opencast.naver.com\";\n",
      "var opencastNTopUrl = \"navertop.opencast.naver.com\";\n",
      "\n",
      "try { quickNews = { \"M\" : [ ], \"N\" : [ [\"한은, 올해 성장률 전망 &#039;2.8%→2.5%&#039;로 낮춰\", \"http://news.naver.com/main/list.nhn?mode=LPOD&mid=sec&sid1=001&sid2=140&oid=001&isYeonhapFlash=Y&aid=0008957078\"], [\"관세청, 朴대통령-최태원 면담후 면세점 확대검...\", \"http://news.naver.com/main/list.nhn?mode=LPOD&mid=sec&sid1=001&sid2=140&oid=001&isYeonhapFlash=Y&aid=0008957037\"], [\"이재용 밤샘조사 후 귀가…특검, 금명 구속영장\", \"http://news.naver.com/main/list.nhn?mode=LPOD&mid=sec&sid1=001&sid2=140&oid=001&isYeonhapFlash=Y&aid=0008956110\"], [\"선관위 &#034;반기문 피선거권 유효, 대선출마 가능&#034;\", \"http://news.naver.com/main/list.nhn?mode=LPOD&mid=sec&sid1=001&sid2=140&oid=001&isYeonhapFlash=Y&aid=0008957158\"], [\"강은희 &#034;부산 소녀상에 정부 개입할 근거 없어&#034;\", \"http://news.naver.com/main/list.nhn?mode=LPOD&mid=sec&sid1=001&sid2=140&oid=001&isYeonhapFlash=Y&aid=0008957134\"], [\"내일 촛불집회…&#034;김기춘·재벌총수 구속&#034; 외친다\", \"http://news.naver.com/main/list.nhn?mode=LPOD&mid=sec&sid1=001&sid2=140&oid=001&isYeonhapFlash=Y&aid=0008956599\"], [\"&#039;정운호 뇌물&#039; 부장판사 징역7년…&#034;사법부에 상처...\", \"http://news.naver.com/main/list.nhn?mode=LPOD&mid=sec&sid1=001&sid2=140&oid=001&isYeonhapFlash=Y&aid=0008956712\"], [\"AI 살처분 영향으로 오리·산란계 마릿수 줄었다\", \"http://news.naver.com/main/list.nhn?mode=LPOD&mid=sec&sid1=001&sid2=140&oid=001&isYeonhapFlash=Y&aid=0008957135\"], [\"주말 영동고속도로 밀릴듯…강릉행 최대 3시간50...\", \"http://news.naver.com/main/list.nhn?mode=LPOD&mid=sec&sid1=001&sid2=140&oid=001&isYeonhapFlash=Y&aid=0008956731\"], [\"조희팔 오른팔 강태용 징역 22년\", \"http://news.naver.com/main/list.nhn?mode=LPOD&mid=sec&sid1=001&sid2=140&oid=001&isYeonhapFlash=Y&aid=0008956624\"] ] };  } catch (e) { LogError(\"[JSON] quickNews : \" + e.description); }\n",
      "//]]>\n",
      "</script>\n",
      "<script id=\"timesquareLazy\" type=\"text/javascript\">\n",
      "//<![CDATA[\n",
      "try { tsNormal = {\"data\": [{\"type\": \"N\",\"shortcut\":{\"name\":\"TV편성\", \"url\":\"http://search.naver.com/search.naver?sm=top_tsi&where=nexearch&ie=utf8&query=%ED%8E%B8%EC%84%B1%ED%91%9C\"}, \"html\": \"<h4 class='blind'>뉴스/이슈</h4><div class='tsq_news_wrap'><ul class='tsq_list'><li><a href=&quot;http://news.naver.com/main/hotissue/sectionList.nhn?mid=hot&amp;sid1=110&amp;cid=933879&quot; onclick=&quot;clickcr(this, 'squ.theme','78005501_0000000E994F', '', event)&quot;  class='tit'>학습</a> <a href=&quot;http://news.naver.com/main/hotissue/sectionList.nhn?mid=hot&amp;sid1=110&amp;cid=933879&quot; onclick=&quot;clickcr(this, 'squ.text','78005501_0000000E994E', '', event)&quot; >영어로 듣는 뉴스</a> <span class='bar'>|</span> <a href=&quot;http://talkie.naver.com/english/room-list.dict?mode=pc&quot; onclick=&quot;clickcr(this, 'squ.text','78005501_0000000E9955', '', event)&quot; >영어톡톡</a> </li><li><a href=&quot;http://search.naver.com/search.naver?sm=top_tsi&amp;where=nexearch&amp;ie=utf8&amp;query=%ED%96%89%EC%82%AC%EC%9D%BC%EC%A0%95&quot; onclick=&quot;clickcr(this, 'squ.theme','78005501_0000000E9953', '', event)&quot;  class='tit'>행사</a> <a href=&quot;http://search.naver.com/search.naver?sm=top_tsi&amp;where=nexearch&amp;query=%C7%F6%C0%E7%BB%F3%BF%B5%BF%B5%C8%AD&quot; onclick=&quot;clickcr(this, 'squ.text','78005501_0000000E9952', '', event)&quot; >현재 상영 영화</a> <span class='bar'>|</span> <a href=&quot;http://search.naver.com/search.naver?sm=top_tsi&amp;where=nexearch&amp;query=%EC%8A%A4%ED%8F%AC%EC%B8%A0+%EA%B2%BD%EA%B8%B0%EC%9D%BC%EC%A0%95&quot; onclick=&quot;clickcr(this, 'squ.text','78005501_0000000E9954', '', event)&quot; >스포츠 주요 경기 일정</a> </li><li><a href=&quot;http://sports.news.naver.com/&quot; onclick=&quot;clickcr(this, 'squ.theme','78005501_0000000E9951', '', event)&quot;  class='tit'>스포츠</a> <a href=&quot;http://sports.news.naver.com/kfootball/index.nhn&quot; onclick=&quot;clickcr(this, 'squ.text','78005501_0000000E9950', '', event)&quot; >조나탄 &quot;나의 골은 수원을 향한 책임감&quot;</a> </li></ul></div>\"},{\"type\": \"L\",\"shortcut\":{\"name\":\"날씨\", \"url\":\"http://weather.naver.com/\"}, \"html\": \"<h4 class='blind'>생활</h4><div class='tsq_life_wrap'><div class='tsq_weather'></div><ul class='tsq_list'><li><a href=&quot;http://weather.naver.com/&quot; onclick=&quot;clickcr(this, 'squ.theme','78005501_0000000E9925', '', event)&quot;  class='tit'>날씨</a> <a href=&quot;http://search.naver.com/search.naver?sm=top_tsi&amp;where=nexearch&amp;query=%EC%98%A4%EB%8A%98+%EB%82%A0%EC%94%A8&quot; onclick=&quot;clickcr(this, 'squ.text','78005501_0000000E9925', '', event)&quot; >전국 한파… 주말에 더 강해</a> <span class='bar'>|</span> <a href=&quot;http://weather.naver.com/period/weeklyFcast.nhn&quot; onclick=&quot;clickcr(this, 'squ.text','78005501_0000000E9927', '', event)&quot; >주간 예보</a> </li><li><a href=&quot;http://search.naver.com/search.naver?sm=top_tsi&amp;where=nexearch&amp;ie=utf8&amp;query=%ED%96%89%EC%82%AC%EC%9D%BC%EC%A0%95&quot; onclick=&quot;clickcr(this, 'squ.theme','78005501_0000000E9928', '', event)&quot;  class='tit'>행사</a> <a href=&quot;http://search.naver.com/search.naver?sm=top_tsi&amp;where=nexearch&amp;query=%C7%F6%C0%E7%BB%F3%BF%B5%BF%B5%C8%AD&quot; onclick=&quot;clickcr(this, 'squ.text','78005501_0000000E9928', '', event)&quot; >현재 상영 영화</a> <span class='bar'>|</span> <a href=&quot;http://search.naver.com/search.naver?sm=top_tsi&amp;where=nexearch&amp;query=%EC%8A%A4%ED%8F%AC%EC%B8%A0+%EA%B2%BD%EA%B8%B0%EC%9D%BC%EC%A0%95&quot; onclick=&quot;clickcr(this, 'squ.text','78005501_0000000E992A', '', event)&quot; >스포츠 주요 경기 일정</a> </li></ul></div>\"},{\"type\": \"E\",\"shortcut\":{\"name\":\"금융\", \"url\":\"http://finance.naver.com/\"}, \"html\": \"<h4 class='blind'>경제</h4><div class='tsq_eco_wrap'><ul class='tsq_list'><li><a href=&quot;http://finance.naver.com/&quot; onclick=&quot;clickcr(this, 'squ.theme','78005501_0000000E9915', '', event)&quot;  class='tit'>증권</a> <a href=&quot;http://finance.naver.com/news/&quot; onclick=&quot;clickcr(this, 'squ.text','78005501_0000000E9915', '', event)&quot; >7개월째 금리 동결…美금리·가계빚 위험</a> </li><li><a href=&quot;http://land.naver.com&quot; onclick=&quot;clickcr(this, 'squ.theme','78005501_0000000E9917', '', event)&quot;  class='tit'>부동산</a> <a href=&quot;http://land.naver.com/news/?prsco_id=020&amp;arti_id=0003034612&quot; onclick=&quot;clickcr(this, 'squ.text','78005501_0000000E9917', '', event)&quot; >‘깡통전세’ 5억까지 전부 돌려받는다</a> </li></ul></div>\"}]}  } catch (e) { LogError(\"[JSON] sqare.json.11 : \" + e.description); }\n",
      "//]]>\n",
      "</script>\n",
      "</body>\n",
      "</html>\n",
      "\n"
     ]
    }
   ],
   "source": [
    "import requests\n",
    "response = requests.get('http://www.naver.com')\n",
    "print response.text\n"
   ]
  },
  {
   "cell_type": "markdown",
   "metadata": {},
   "source": [
    "* collections module\n",
    " - https://docs.python.org/2/library/collections.html#collections.OrderedDict"
   ]
  },
  {
   "cell_type": "markdown",
   "metadata": {
    "collapsed": true
   },
   "source": [
    "* Counter \n",
    "  - counting을 목적으로 하는 객체\n",
    "* defaultdict\n",
    "  - 기본값을 갖는 dictionary\n",
    "* OrderedDict\n",
    "  - 순서를 갖는 dictionary (key가 삽입된 순서)"
   ]
  },
  {
   "cell_type": "code",
   "execution_count": 22,
   "metadata": {
    "collapsed": false
   },
   "outputs": [
    {
     "name": "stdout",
     "output_type": "stream",
     "text": [
      "['__add__', '__and__', '__class__', '__cmp__', '__contains__', '__delattr__', '__delitem__', '__dict__', '__doc__', '__eq__', '__format__', '__ge__', '__getattribute__', '__getitem__', '__gt__', '__hash__', '__init__', '__iter__', '__le__', '__len__', '__lt__', '__missing__', '__module__', '__ne__', '__new__', '__or__', '__reduce__', '__reduce_ex__', '__repr__', '__setattr__', '__setitem__', '__sizeof__', '__str__', '__sub__', '__subclasshook__', '__weakref__', 'clear', 'copy', 'elements', 'fromkeys', 'get', 'has_key', 'items', 'iteritems', 'iterkeys', 'itervalues', 'keys', 'most_common', 'pop', 'popitem', 'setdefault', 'subtract', 'update', 'values', 'viewitems', 'viewkeys', 'viewvalues']\n",
      "Counter({1: 4, 2: 3, 3: 2, 5: 2, 4: 1})\n",
      "4\n"
     ]
    }
   ],
   "source": [
    "from collections import Counter\n",
    "\n",
    "a = [1, 1, 2, 1, 2, 3, 3, 2, 4, 5, 5, 1]\n",
    "b = Counter(a)\n",
    "print dir(b)\n",
    "\n",
    "b.most_common() #Return a list of the n most common elements and their counts from the most common to the least. \n",
    "                #If n is omitted or None, most_common() returns all elements in the counter.\n",
    "print b\n",
    "print b[1] #[] 속 1은 인덱스의 1이 아니라 dictionary key 중 1이다."
   ]
  },
  {
   "cell_type": "code",
   "execution_count": 94,
   "metadata": {
    "collapsed": false
   },
   "outputs": [
    {
     "name": "stdout",
     "output_type": "stream",
     "text": [
      "defaultdict(<type 'int'>, {1: 4, 2: 3, 3: 2, 4: 1, 5: 2})\n"
     ]
    }
   ],
   "source": [
    "from collections import defaultdict #처음 나온 숫자는 dict에 key가 존재하지 않으니까 dict이 죽어.\n",
    "#dict죽는걸 방지하기 위해 defaultdict사용. default값으로 0이 들어와있음. \n",
    "\n",
    "a = [1, 1, 2, 1, 2, 3, 3, 2, 4, 5, 5, 1]\n",
    "num_dict = defaultdict(int)\n",
    "for i in a:\n",
    "        num_dict[i] += 1\n",
    "        \n",
    "print num_dict"
   ]
  },
  {
   "cell_type": "code",
   "execution_count": 20,
   "metadata": {
    "collapsed": false
   },
   "outputs": [
    {
     "name": "stdout",
     "output_type": "stream",
     "text": [
      "OrderedDict([('a', 1), ('c', 2), ('b', 100)])\n"
     ]
    }
   ],
   "source": [
    "from collections import OrderedDict #내가 넣은 순서대로 key가 순서를 맞춘다. \n",
    "\n",
    "dict1 = OrderedDict()\n",
    "dict1['a'] = 1\n",
    "dict1['c'] = 2\n",
    "dict1['b'] = 100\n",
    "\n",
    "print dict1"
   ]
  },
  {
   "cell_type": "markdown",
   "metadata": {},
   "source": [
    "* 과제 \n",
    " 1. reduce를 직접 구현하세요 reduce2(func, iterable)\n",
    " 2. 이진탐색을 재귀함수로 구현해보세요. input space가 줄고, 줄고,..."
   ]
  },
  {
   "cell_type": "code",
   "execution_count": 13,
   "metadata": {
    "collapsed": false
   },
   "outputs": [
    {
     "name": "stdout",
     "output_type": "stream",
     "text": [
      "27\n",
      "27\n",
      "9\n",
      "9\n"
     ]
    }
   ],
   "source": [
    "#1. filter, map은 list를 받아 list를 반환시키는 반면 얘는 값 하나를 반환.\n",
    "nums = [1, 3, 2, 9, 5, 7]\n",
    "def reduce2(func, iterable):\n",
    "    acc_val = iterable[0]\n",
    "    for i in iterable[1:]:\n",
    "        acc_val = func(acc_val, i)\n",
    "    \n",
    "    return acc_val\n",
    "\n",
    "print reduce(lambda x, y: x + y, nums)\n",
    "print reduce2(lambda x, y: x + y, nums)\n",
    "\n",
    "print reduce(lambda x, y: x if x > y else y, nums)\n",
    "print reduce2(lambda x, y: x if x > y else y, nums)"
   ]
  },
  {
   "cell_type": "code",
   "execution_count": 30,
   "metadata": {
    "collapsed": false
   },
   "outputs": [
    {
     "name": "stdout",
     "output_type": "stream",
     "text": [
      "10\n",
      "12\n",
      "0\n",
      "1\n",
      "3\n",
      "7\n",
      "9\n"
     ]
    }
   ],
   "source": [
    "lst = [1,2,8,6,7,4,5,9,10,23,5,4,65,34,22]\n",
    "lst.sort()\n",
    "\n",
    "def binary(iterable, num, start, end):\n",
    "    mid = (start+end)/2\n",
    "    \n",
    "    if len(iterable)>=1:\n",
    "        if num > iterable[mid]:\n",
    "            return binary(lst, num, mid, end)\n",
    "\n",
    "        elif num < iterable[mid]:\n",
    "            return binary(lst, num, start, mid)\n",
    "\n",
    "        elif num == iterable[mid]:\n",
    "            return mid\n",
    "        \n",
    "start = 0\n",
    "end = len(lst)-1\n",
    "print binary(lst, 10, start, end)\n",
    "print binary(lst, 23, start, end)\n",
    "print binary(lst, 1, start, end)\n",
    "print binary(lst, 2, start, end)\n",
    "print binary(lst, 4, start, end)\n",
    "print binary(lst, 7, start, end)\n",
    "print binary(lst, 9, start, end)\n"
   ]
  }
 ],
 "metadata": {
  "kernelspec": {
   "display_name": "Python 2",
   "language": "python",
   "name": "python2"
  },
  "language_info": {
   "codemirror_mode": {
    "name": "ipython",
    "version": 2
   },
   "file_extension": ".py",
   "mimetype": "text/x-python",
   "name": "python",
   "nbconvert_exporter": "python",
   "pygments_lexer": "ipython2",
   "version": "2.7.13"
  }
 },
 "nbformat": 4,
 "nbformat_minor": 1
}
