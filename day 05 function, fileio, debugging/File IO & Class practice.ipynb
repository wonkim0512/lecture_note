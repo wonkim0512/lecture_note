{
 "cells": [
  {
   "cell_type": "code",
   "execution_count": 6,
   "metadata": {
    "collapsed": false
   },
   "outputs": [],
   "source": [
    "f = open(\"new_file\", \"w\")\n",
    "for i in range(1,11):\n",
    "    data = \"{}번째 줄입니다.\\n\".format(i)\n",
    "    f.write(data)\n",
    "f.close()"
   ]
  },
  {
   "cell_type": "code",
   "execution_count": 7,
   "metadata": {
    "collapsed": false
   },
   "outputs": [
    {
     "name": "stdout",
     "output_type": "stream",
     "text": [
      "1번째 줄입니다.\n",
      "\n",
      "1번째 줄입니다.\n",
      "\n",
      "2번째 줄입니다.\n",
      "\n",
      "3번째 줄입니다.\n",
      "\n",
      "4번째 줄입니다.\n",
      "\n",
      "5번째 줄입니다.\n",
      "\n",
      "6번째 줄입니다.\n",
      "\n",
      "7번째 줄입니다.\n",
      "\n",
      "8번째 줄입니다.\n",
      "\n",
      "9번째 줄입니다.\n",
      "\n",
      "10번째 줄입니다.\n",
      "\n"
     ]
    }
   ],
   "source": [
    "#readline.py\n",
    "f = open(\"new_file\",\"r\")\n",
    "line = f.readline()\n",
    "print(line)\n",
    "\n",
    "f.close()\n",
    "\n",
    "\n",
    "f = open(\"new_file\",\"r\")\n",
    "while True:\n",
    "    line = f.readline()\n",
    "    if not line: #not none == True\n",
    "        break\n",
    "    print(line)\n",
    "    \n",
    "f.close()"
   ]
  },
  {
   "cell_type": "code",
   "execution_count": 8,
   "metadata": {
    "collapsed": false
   },
   "outputs": [
    {
     "name": "stdout",
     "output_type": "stream",
     "text": [
      "\n"
     ]
    }
   ],
   "source": [
    "#입력을 받아서 출력하고 싶으면?\n",
    "while True:\n",
    "    data = raw_input()\n",
    "    if not data:\n",
    "        break\n",
    "    print(data)"
   ]
  },
  {
   "cell_type": "code",
   "execution_count": 9,
   "metadata": {
    "collapsed": false
   },
   "outputs": [
    {
     "name": "stdout",
     "output_type": "stream",
     "text": [
      "1번째 줄입니다.\n",
      "\n",
      "2번째 줄입니다.\n",
      "\n",
      "3번째 줄입니다.\n",
      "\n",
      "4번째 줄입니다.\n",
      "\n",
      "5번째 줄입니다.\n",
      "\n",
      "6번째 줄입니다.\n",
      "\n",
      "7번째 줄입니다.\n",
      "\n",
      "8번째 줄입니다.\n",
      "\n",
      "9번째 줄입니다.\n",
      "\n",
      "10번째 줄입니다.\n",
      "\n",
      "['1\\xeb\\xb2\\x88\\xec\\xa7\\xb8 \\xec\\xa4\\x84\\xec\\x9e\\x85\\xeb\\x8b\\x88\\xeb\\x8b\\xa4.\\n', '2\\xeb\\xb2\\x88\\xec\\xa7\\xb8 \\xec\\xa4\\x84\\xec\\x9e\\x85\\xeb\\x8b\\x88\\xeb\\x8b\\xa4.\\n', '3\\xeb\\xb2\\x88\\xec\\xa7\\xb8 \\xec\\xa4\\x84\\xec\\x9e\\x85\\xeb\\x8b\\x88\\xeb\\x8b\\xa4.\\n', '4\\xeb\\xb2\\x88\\xec\\xa7\\xb8 \\xec\\xa4\\x84\\xec\\x9e\\x85\\xeb\\x8b\\x88\\xeb\\x8b\\xa4.\\n', '5\\xeb\\xb2\\x88\\xec\\xa7\\xb8 \\xec\\xa4\\x84\\xec\\x9e\\x85\\xeb\\x8b\\x88\\xeb\\x8b\\xa4.\\n', '6\\xeb\\xb2\\x88\\xec\\xa7\\xb8 \\xec\\xa4\\x84\\xec\\x9e\\x85\\xeb\\x8b\\x88\\xeb\\x8b\\xa4.\\n', '7\\xeb\\xb2\\x88\\xec\\xa7\\xb8 \\xec\\xa4\\x84\\xec\\x9e\\x85\\xeb\\x8b\\x88\\xeb\\x8b\\xa4.\\n', '8\\xeb\\xb2\\x88\\xec\\xa7\\xb8 \\xec\\xa4\\x84\\xec\\x9e\\x85\\xeb\\x8b\\x88\\xeb\\x8b\\xa4.\\n', '9\\xeb\\xb2\\x88\\xec\\xa7\\xb8 \\xec\\xa4\\x84\\xec\\x9e\\x85\\xeb\\x8b\\x88\\xeb\\x8b\\xa4.\\n', '10\\xeb\\xb2\\x88\\xec\\xa7\\xb8 \\xec\\xa4\\x84\\xec\\x9e\\x85\\xeb\\x8b\\x88\\xeb\\x8b\\xa4.\\n']\n"
     ]
    }
   ],
   "source": [
    "#readlines\n",
    "f = open(\"new_file\",'r')\n",
    "lines = f.readlines()\n",
    "for line in lines:\n",
    "    print(line)\n",
    "print(lines)\n",
    "f.close()"
   ]
  },
  {
   "cell_type": "code",
   "execution_count": 10,
   "metadata": {
    "collapsed": false
   },
   "outputs": [],
   "source": [
    "#a\n",
    "f = open(\"new_file\", \"a\")\n",
    "for i in range(11,21):\n",
    "    data = \"{}번째 줄입니다.\\n\".format(i)\n",
    "    f.write(data)\n",
    "f.close()"
   ]
  },
  {
   "cell_type": "code",
   "execution_count": 14,
   "metadata": {
    "collapsed": true
   },
   "outputs": [],
   "source": [
    "#with ->  저절로 close() 해줌.\n",
    "with open(\"with_practice\", 'w') as f:\n",
    "    f.write(\"It is a testing for 'with'.\")"
   ]
  },
  {
   "cell_type": "code",
   "execution_count": null,
   "metadata": {
    "collapsed": true
   },
   "outputs": [],
   "source": []
  },
  {
   "cell_type": "markdown",
   "metadata": {
    "collapsed": true
   },
   "source": [
    "# class"
   ]
  },
  {
   "cell_type": "code",
   "execution_count": 16,
   "metadata": {
    "collapsed": false
   },
   "outputs": [
    {
     "name": "stdout",
     "output_type": "stream",
     "text": [
      "It is a secret\n",
      "1 + 1 is 2\n"
     ]
    }
   ],
   "source": [
    "class Service:\n",
    "    secret = \"It is a secret\"\n",
    "    def sum(self, a, b):\n",
    "        result = a+b\n",
    "        return \"{} + {} is {}\".format(a,b,result)\n",
    "\n",
    "pey = Service() #생성된 pey를 아이디라고 표현했는데, 이것이 바로 인스턴스 instance\n",
    "print(pey.secret)\n",
    "print(pey.sum(1,1)) #self는 pey=Service() 호출 시 이용했던 인스턴스로 바뀌게 되므로, pey.sum(pey, 1, 1)로 안써줘도 된다."
   ]
  },
  {
   "cell_type": "code",
   "execution_count": 26,
   "metadata": {
    "collapsed": false
   },
   "outputs": [
    {
     "name": "stdout",
     "output_type": "stream",
     "text": [
      "It is a secret\n",
      "Won Kim, 1 + 1 is 2\n"
     ]
    }
   ],
   "source": [
    "#고객들이 자신의 이름을 넣어달라고 요구하기 시작했다!\n",
    "\n",
    "class Service:\n",
    "    secret = \"It is a secret\"\n",
    "    \n",
    "    def setname(self, name):\n",
    "        self.name = name\n",
    "    \n",
    "    def sum(self, a, b):\n",
    "        result = a+b\n",
    "        return \"{}, {} + {} is {}\".format(self.name, a,b,result)\n",
    "\n",
    "pey = Service()\n",
    "print(pey.secret)\n",
    "pey.setname(\"Won Kim\") #이게 먼저나와야 self.name이 호출됨.\n",
    "print(pey.sum(1,1))\n"
   ]
  },
  {
   "cell_type": "code",
   "execution_count": 28,
   "metadata": {
    "collapsed": false
   },
   "outputs": [
    {
     "name": "stdout",
     "output_type": "stream",
     "text": [
      "It is a secret\n",
      "Won Kim, 1 + 1 is 2\n"
     ]
    }
   ],
   "source": [
    "#자꾸 항의가 많아졌다. 자기들이 이름을 넣는 과정을 빠트린거면서..\n",
    "#그래서 애초에 아이디를 부여해 줄 때 그 사람의 이름을 입력받아야만 아이디를 부여해주는 방식을 생각해냈다!\n",
    "\n",
    "class Service:\n",
    "    secret = \"It is a secret\"\n",
    "    \n",
    "    def __init__(self, name): #__init__ \"인스턴스를 만들 때 항상 실행된다.\" 즉, 아이디를 부여받을 때마다 항상 실행된다.\n",
    "        self.name = name\n",
    "    \n",
    "    def sum(self, a, b):\n",
    "        result = a+b\n",
    "        return \"{}, {} + {} is {}\".format(self.name, a,b,result)\n",
    "\n",
    "pey = Service(\"Won Kim\") #이제는 서비스업체에 가입하려면 이름을 적어야 한다!  pey.setname(\"Won Kim\")의 단계를 생략할 수 있다.\n",
    "print(pey.secret)\n",
    "print(pey.sum(1,1))\n"
   ]
  },
  {
   "cell_type": "code",
   "execution_count": null,
   "metadata": {
    "collapsed": true
   },
   "outputs": [],
   "source": []
  },
  {
   "cell_type": "code",
   "execution_count": 28,
   "metadata": {
    "collapsed": false
   },
   "outputs": [
    {
     "name": "stdout",
     "output_type": "stream",
     "text": [
      "1\n",
      "2\n",
      "3\n",
      "3\n"
     ]
    }
   ],
   "source": [
    "class FourCal:\n",
    "    def setdata(self, first, second): #setdata 함수는 FourCal 클래스의 method이다.\n",
    "        self.first = first\n",
    "        self.second = second\n",
    "    \n",
    "    \n",
    "a = FourCal()\n",
    "a.setdata(1,2)\n",
    "print(a.first)\n",
    "print(a.second)\n",
    "a.first = 3 #a,b 객체는 고유한 저장영역 (name space)를 가지고 있다는데... 왜 변경되지?\n",
    "print(a.first)\n",
    "\n",
    "b= FourCal()\n",
    "b.setdata(3,4)\n",
    "print(b.first)"
   ]
  },
  {
   "cell_type": "code",
   "execution_count": 1,
   "metadata": {
    "collapsed": false
   },
   "outputs": [
    {
     "name": "stdout",
     "output_type": "stream",
     "text": [
      "3\n",
      "-1\n",
      "2\n",
      "0\n",
      "7\n",
      "-1\n",
      "12\n",
      "0\n"
     ]
    }
   ],
   "source": [
    "class FourCal(object): #상속할 class가 있다면 (object)에 클래스 이름 입력.\n",
    "    def setdata(self, first, second): #setdata 함수는 FourCal 클래스의 method이다.\n",
    "        self.first = first\n",
    "        self.second = second\n",
    "    \n",
    "    def sum(self): #여기에 first, second 매번 받지 않고 처음 받은 숫자 2개로 하려고 setdata를 만든거였자나. 그러니까 여기선 first,second 필요없지.\n",
    "        result = self.first + self.second\n",
    "        return result\n",
    "\n",
    "    def mul(self):\n",
    "        result = self.first * self.second\n",
    "        return result #return 이란 이름 반복해서 사용해도 되는지? local variable?\n",
    "    \n",
    "    def sub(self):\n",
    "        result = self.first - self.second\n",
    "        return result\n",
    "    \n",
    "    def div(self):\n",
    "        result = self.first / self.second\n",
    "        return result\n",
    "    \n",
    "a = FourCal()\n",
    "b = FourCal()\n",
    "a.setdata(1,2)\n",
    "b.setdata(3,4)\n",
    "print(a.sum())\n",
    "print(a.sub())\n",
    "print(a.mul())\n",
    "print(a.div())\n",
    "print(b.sum())\n",
    "print(b.sub())\n",
    "print(b.mul())\n",
    "print(b.div())"
   ]
  },
  {
   "cell_type": "code",
   "execution_count": null,
   "metadata": {
    "collapsed": true
   },
   "outputs": [],
   "source": []
  },
  {
   "cell_type": "code",
   "execution_count": 58,
   "metadata": {
    "collapsed": false
   },
   "outputs": [
    {
     "name": "stdout",
     "output_type": "stream",
     "text": [
      "KimWon is traveling to Rome\n"
     ]
    }
   ],
   "source": [
    "class HouseKim:\n",
    "    lastname = \"Kim\"\n",
    "    \n",
    "    def setname(self, name):\n",
    "        self.fullname = self.lastname + name\n",
    "        \n",
    "    def travel(self, where):\n",
    "        print(\"{} is traveling to {}\".format(self.fullname, where))\n",
    "\n",
    "wk = HouseKim()\n",
    "wk.lastname\n",
    "wk.setname(\"Won\")\n",
    "wk.travel(\"Rome\")"
   ]
  },
  {
   "cell_type": "code",
   "execution_count": null,
   "metadata": {
    "collapsed": true
   },
   "outputs": [],
   "source": []
  },
  {
   "cell_type": "code",
   "execution_count": 2,
   "metadata": {
    "collapsed": false
   },
   "outputs": [
    {
     "ename": "AttributeError",
     "evalue": "HouseKim instance has no attribute 'fullname'",
     "output_type": "error",
     "traceback": [
      "\u001b[0;31m---------------------------------------------------------------------------\u001b[0m",
      "\u001b[0;31mAttributeError\u001b[0m                            Traceback (most recent call last)",
      "\u001b[0;32m<ipython-input-2-845a35428949>\u001b[0m in \u001b[0;36m<module>\u001b[0;34m()\u001b[0m\n\u001b[1;32m     10\u001b[0m \u001b[1;33m\u001b[0m\u001b[0m\n\u001b[1;32m     11\u001b[0m \u001b[0mpey\u001b[0m \u001b[1;33m=\u001b[0m \u001b[0mHouseKim\u001b[0m\u001b[1;33m(\u001b[0m\u001b[1;33m)\u001b[0m\u001b[1;33m\u001b[0m\u001b[0m\n\u001b[0;32m---> 12\u001b[0;31m \u001b[0mpey\u001b[0m\u001b[1;33m.\u001b[0m\u001b[0mtravel\u001b[0m\u001b[1;33m(\u001b[0m\u001b[1;34m\"Paris\"\u001b[0m\u001b[1;33m)\u001b[0m \u001b[1;31m# 'no attribute fullname' 왜 오류? -> self.fullname변수는 setname이라는 함수에 의해 생성된다.\u001b[0m\u001b[1;33m\u001b[0m\u001b[0m\n\u001b[0m\u001b[1;32m     13\u001b[0m \u001b[1;31m#그런데 setname함수를 샐행하지 않았기에 오류가 발생.\u001b[0m\u001b[1;33m\u001b[0m\u001b[1;33m\u001b[0m\u001b[0m\n\u001b[1;32m     14\u001b[0m \u001b[1;31m#이를 해결할면? pey라는 객체를 만드는 순간 setname 메소드가 동작한다면, 즉 회원가입을 하는 순간 이름을 받게한다면 편리할 것!!!\u001b[0m\u001b[1;33m\u001b[0m\u001b[1;33m\u001b[0m\u001b[0m\n",
      "\u001b[0;32m<ipython-input-2-845a35428949>\u001b[0m in \u001b[0;36mtravel\u001b[0;34m(self, where)\u001b[0m\n\u001b[1;32m      7\u001b[0m \u001b[1;33m\u001b[0m\u001b[0m\n\u001b[1;32m      8\u001b[0m     \u001b[1;32mdef\u001b[0m \u001b[0mtravel\u001b[0m\u001b[1;33m(\u001b[0m\u001b[0mself\u001b[0m\u001b[1;33m,\u001b[0m \u001b[0mwhere\u001b[0m\u001b[1;33m)\u001b[0m\u001b[1;33m:\u001b[0m\u001b[1;33m\u001b[0m\u001b[0m\n\u001b[0;32m----> 9\u001b[0;31m         \u001b[1;32mprint\u001b[0m\u001b[1;33m(\u001b[0m\u001b[1;34m\"{} is traveling to {}\"\u001b[0m\u001b[1;33m.\u001b[0m\u001b[0mformat\u001b[0m\u001b[1;33m(\u001b[0m\u001b[0mself\u001b[0m\u001b[1;33m.\u001b[0m\u001b[0mfullname\u001b[0m\u001b[1;33m,\u001b[0m \u001b[0mwhere\u001b[0m\u001b[1;33m)\u001b[0m\u001b[1;33m)\u001b[0m\u001b[1;33m\u001b[0m\u001b[0m\n\u001b[0m\u001b[1;32m     10\u001b[0m \u001b[1;33m\u001b[0m\u001b[0m\n\u001b[1;32m     11\u001b[0m \u001b[0mpey\u001b[0m \u001b[1;33m=\u001b[0m \u001b[0mHouseKim\u001b[0m\u001b[1;33m(\u001b[0m\u001b[1;33m)\u001b[0m\u001b[1;33m\u001b[0m\u001b[0m\n",
      "\u001b[0;31mAttributeError\u001b[0m: HouseKim instance has no attribute 'fullname'"
     ]
    }
   ],
   "source": [
    "#오류가 발생할 수 있는 상황을 차단하지 못하는 클래스는 좋은 클래스가 아니다. \"클래스가 낮네...\"\n",
    "class HouseKim:\n",
    "    lastname = \"Kim\"\n",
    "    \n",
    "    def setname(self, name):\n",
    "        self.fullname = self.lastname + name\n",
    "        \n",
    "    def travel(self, where):\n",
    "        print(\"{} is traveling to {}\".format(self.fullname, where))\n",
    "\n",
    "pey = HouseKim()\n",
    "pey.travel(\"Paris\") # 'no attribute 'fullname' 왜 오류? -> self.fullname변수는 setname이라는 함수에 의해 생성된다. \n",
    "#그런데 setname함수를 샐행하지 않았기에 오류가 발생.\n",
    "#이를 해결할면? pey라는 객체를 만드는 순간 setname 메소드가 동작한다면, 즉 회원가입을 하는 순간 이름을 받게한다면 편리할 것!!!"
   ]
  },
  {
   "cell_type": "code",
   "execution_count": null,
   "metadata": {
    "collapsed": true
   },
   "outputs": [],
   "source": []
  },
  {
   "cell_type": "code",
   "execution_count": 65,
   "metadata": {
    "collapsed": false
   },
   "outputs": [
    {
     "name": "stdout",
     "output_type": "stream",
     "text": [
      "KimWon is traveling to Paris\n"
     ]
    }
   ],
   "source": [
    "class HouseKim:\n",
    "    lastname = \"Kim\"\n",
    "    \n",
    "    def __init__(self, name):\n",
    "        self.fullname = self.lastname + name\n",
    "        \n",
    "    def travel(self, where):\n",
    "        print(\"{} is traveling to {}\".format(self.fullname, where))\n",
    "        \n",
    "#pey = HouseKim() 을 실행하면 __init__() takes exactly 2 arguments (1 given) 라고 오류뜸.\n",
    "#__init__ 메소드는 2개의 입력값(self, name)이 필요한데, 1개의 입력값만 받았기에 오류가 발생한 것.\n",
    "#여기서 __init__ 메소드가 받은 입력값 1개는 self를 통해 받은 pey라는 객체이다. (pey = HouseKim())\n",
    "#즉 처음부터 이름도 함께 넣어줘야한다는 것! 그리고 이름만 넣어주면 되고. sefl 입력값은 pey로 자연스럽게 받으니까.\n",
    "\n",
    "pey = HouseKim(\"Won\")\n",
    "pey.travel(\"Paris\")"
   ]
  },
  {
   "cell_type": "code",
   "execution_count": null,
   "metadata": {
    "collapsed": true
   },
   "outputs": [],
   "source": []
  },
  {
   "cell_type": "code",
   "execution_count": 77,
   "metadata": {
    "collapsed": false
   },
   "outputs": [
    {
     "name": "stdout",
     "output_type": "stream",
     "text": [
      "LeeChanKyung is traveling to Pohang\n"
     ]
    }
   ],
   "source": [
    "#클래스 상속. 다른 클래스의 기능을 그대로 물려받아 사용할 수 있도록...\n",
    "class HouseLee(HouseKim):\n",
    "    lastname = \"Lee\" #lastname만 바꿔주고 아무것도 안했음.\n",
    "    \n",
    "ck = HouseLee(\"ChanKyung\")\n",
    "ck.travel(\"Pohang\")"
   ]
  },
  {
   "cell_type": "code",
   "execution_count": 79,
   "metadata": {
    "collapsed": false
   },
   "outputs": [
    {
     "name": "stdout",
     "output_type": "stream",
     "text": [
      "LeeChanKyung is traveling Pohang for 3 days\n"
     ]
    }
   ],
   "source": [
    "#만일 상속받을 대상인 클래스의 메소드와 이름은 같지만, 행동은 다르게 하고 싶다면???\n",
    "class HouseLee(HouseKim):\n",
    "    lastname = \"Lee\"    \n",
    "    def travel(self, where, day): # 메소드를 재정의 해주면 됨(method overriding). 이름 같게 하고 추가할 수 있음...\n",
    "        print(\"{} is traveling {} for {} days\".format(self.fullname, where, day))\n",
    "ck = HouseLee(\"ChanKyung\")\n",
    "ck.travel(\"Pohang\", 3)\n",
    "\n",
    "#부모클래스의 메소드를 재정의 하는 자식 클래스가 여러개라면 다형성의 구현 (Polymorphism) "
   ]
  },
  {
   "cell_type": "code",
   "execution_count": null,
   "metadata": {
    "collapsed": true
   },
   "outputs": [],
   "source": []
  },
  {
   "cell_type": "code",
   "execution_count": 93,
   "metadata": {
    "collapsed": false
   },
   "outputs": [
    {
     "name": "stdout",
     "output_type": "stream",
     "text": [
      "Kim Won,Lee Chankyng fell in love\n",
      "Kim Won,Lee Chankyng got married\n"
     ]
    }
   ],
   "source": [
    "#연산자 오버로딩\n",
    "class HouseKim:\n",
    "    lastname = \"Kim\"\n",
    "    \n",
    "    def __init__(self, name):\n",
    "        self.fullname = self.lastname + name\n",
    "        \n",
    "    def travel(self, where):\n",
    "        print(\"{} is traveling to {}\".format(self.fullname, where))\n",
    "        \n",
    "    def love(self, other):\n",
    "        print(\"{},{} fell in love\".format(self.fullname, other.fullname)) #other.fullname   이 부분이 빠트리기 쉽겠네\n",
    "        \n",
    "    def __add__(self, other):\n",
    "        print(\"{},{} got married\".format(self.fullname, other.fullname)) #other.fullname   이 부분이 빠트리기 쉽겠네\n",
    "        \n",
    "class HouseLee(HouseKim): #HouseLee class가 HouseKim class를 상속받으니까 HouseKim class에 메소드를 추가해야지 HouseLee도 사용할 수 있겠네.\n",
    "    lastname = \"Lee\"    \n",
    "    \n",
    "    def travel(self, where, day):\n",
    "        print(\"{} is traveling {} for {} days\".format(self.fullname, where, day))\n",
    "\n",
    "w = HouseKim(\" Won\")\n",
    "ck = HouseLee(\" Chankyng\")\n",
    "w.love(ck) #self에 w들어가고, other에 ck들어가고.\n",
    "w + ck # +로 __add__ 불러옴. 여기서도 마찬가지로 self에 w들어가고, other에 ck들어가고."
   ]
  },
  {
   "cell_type": "code",
   "execution_count": null,
   "metadata": {
    "collapsed": true
   },
   "outputs": [],
   "source": []
  },
  {
   "cell_type": "code",
   "execution_count": 3,
   "metadata": {
    "collapsed": false
   },
   "outputs": [
    {
     "name": "stdout",
     "output_type": "stream",
     "text": [
      "Jaehyung Park is traveling to Pusan.\n",
      "Jieun Choi is traveling to Pusan for 3 days.\n",
      "Jaehyung Park and Jieun Choi fell in love.\n",
      "Jaehyung Park and Jieun Choi got married\n",
      "Jaehyung Park and Jieun Choi had significant trouble.\n",
      "Jaehyung Park and Jieun Choi got divorced\n"
     ]
    }
   ],
   "source": [
    "class HousePark:\n",
    "    lastname = \" Park\"\n",
    "    \n",
    "    def __init__(self, name):\n",
    "        self.fullname = name + self.lastname \n",
    "        \n",
    "    def travel(self, where):\n",
    "        print(\"{} is traveling to {}.\".format(self.fullname, where))\n",
    "        \n",
    "    def love(self, other):\n",
    "        print(\"{} and {} fell in love.\".format(self.fullname, other.fullname))\n",
    "        \n",
    "    def __add__(self, other):\n",
    "        print(\"{} and {} got married\".format(self.fullname, other.fullname))\n",
    "        \n",
    "    def fight(self, other):\n",
    "        print(\"{} and {} had significant trouble.\".format(self.fullname, other.fullname))\n",
    "        \n",
    "    def __sub__(self, other):\n",
    "        print(\"{} and {} got divorced\".format(self.fullname, other.fullname))\n",
    "        \n",
    "class HouseChoi(HousePark):\n",
    "    lastname = \" Choi\"\n",
    "    def travel(self, where, days):\n",
    "        print(\"{} is traveling to {} for {} days.\".format(self.fullname, where, days))\n",
    "        \n",
    "JH = HousePark(\"Jaehyung\")\n",
    "JE = HouseChoi(\"Jieun\")\n",
    "JH.travel(\"Pusan\")\n",
    "JE.travel(\"Pusan\", 3)\n",
    "JH.love(JE)\n",
    "JH + JE\n",
    "JH.fight(JE)\n",
    "JH - JE"
   ]
  },
  {
   "cell_type": "code",
   "execution_count": null,
   "metadata": {
    "collapsed": true
   },
   "outputs": [],
   "source": []
  },
  {
   "cell_type": "code",
   "execution_count": 5,
   "metadata": {
    "collapsed": false
   },
   "outputs": [
    {
     "name": "stdout",
     "output_type": "stream",
     "text": [
      "Won Kim is reading a book\n",
      "ChanKyung Lee is playng the drum\n"
     ]
    }
   ],
   "source": [
    "class BookReader:\n",
    "    country = \"South Korea\"\n",
    "    \n",
    "    def __init__(self,name):\n",
    "        self.name = name\n",
    "        \n",
    "    def read_book(self):\n",
    "        print \"{} is reading a book\".format(self.name)\n",
    "        \n",
    "class DrumPlayer:\n",
    "    country = \"South Korea\"\n",
    "    \n",
    "    def __init__(self, name):\n",
    "        self.name = name\n",
    "        \n",
    "    def play_drum(self):\n",
    "        print \"{} is playng the drum\".format(self.name)\n",
    "        \n",
    "b1 = BookReader(\"Won Kim\")\n",
    "d1 = DrumPlayer(\"ChanKyung Lee\")\n",
    "b1.read_book()\n",
    "d1.play_drum()\n",
    "\n",
    "#그런데 가만보면 country, name 이쪽 부분이 반복되네?"
   ]
  },
  {
   "cell_type": "code",
   "execution_count": 18,
   "metadata": {
    "collapsed": false
   },
   "outputs": [
    {
     "name": "stdout",
     "output_type": "stream",
     "text": [
      "South Korea\n",
      "South Korea\n",
      "South Korea\n",
      "Won is eating steak\n",
      "Insung is eating Pepper\n",
      "ChanKyung is eating salad\n",
      "Won is reading a book\n",
      "Insung likes wrting a book\n",
      "ChanKyung is playng the drum\n"
     ]
    }
   ],
   "source": [
    "#이런 경우 우리는 공통 속성을 하나의 부모클래스에 넣어놓고 상속하는 방법을 선택. 부모클래스는 조금 더 일반적인 개념의 클래스가 위치해야함.\n",
    "#즉, 이번 예제에서는 책을 읽는 사람과 드럼 치는 사람의 공통 부분인 사람을 선택하자\n",
    "\n",
    "class Person:\n",
    "    country = \"South Korea\"\n",
    "    \n",
    "    def __init__(self, name):\n",
    "        self.name = name\n",
    "            \n",
    "    def eat_meal(self, meal):\n",
    "        print(\"{} is eating {}\".format(self.name, meal))\n",
    "    \n",
    "class BookReader(Person):\n",
    "\n",
    "    def read_book(self):\n",
    "        print \"{} is reading a book\".format(self.name)\n",
    "        \n",
    "class BookWriter(Person):\n",
    "    def write_book(self):\n",
    "        print \"{} likes wrting a book\".format(self.name)\n",
    "        \n",
    "class DrumPlayer(Person):\n",
    "    \n",
    "    def play_drum(self):\n",
    "        print \"{} is playng the drum\".format(self.name)\n",
    "        \n",
    "\n",
    "        \n",
    "r1 = BookReader(\"Won\")\n",
    "w1 = BookWriter(\"Insung\")\n",
    "d1 = DrumPlayer(\"ChanKyung\")\n",
    "print r1.country\n",
    "print w1.country\n",
    "print d1.country\n",
    "r1.eat_meal(\"steak\")\n",
    "w1.eat_meal(\"Pepper\")\n",
    "d1.eat_meal(\"salad\")\n",
    "r1.read_book()\n",
    "w1.write_book()\n",
    "d1.play_drum()"
   ]
  },
  {
   "cell_type": "code",
   "execution_count": 41,
   "metadata": {
    "collapsed": false
   },
   "outputs": [
    {
     "name": "stdout",
     "output_type": "stream",
     "text": [
      "South Korea\n",
      "South Korea\n",
      "South Korea\n",
      "Won is eating steak\n",
      "Insung is eating Pepper\n",
      "ChanKyung is eating salad\n",
      "Won is reading a book\n",
      "Insung likes wrting a book\n",
      "ChanKyung is playng the drum\n",
      "\n",
      "Insung is developer\n"
     ]
    }
   ],
   "source": [
    "#부모 클래스에 developer 추가.\n",
    "\n",
    "class Person:\n",
    "    country = \"South Korea\"\n",
    "    \n",
    "    def __init__(self, name):\n",
    "        self.name = name\n",
    "            \n",
    "    def eat_meal(self, meal):\n",
    "        print(\"{} is eating {}\".format(self.name, meal))\n",
    "        \n",
    "class Developer:\n",
    "    def coding(self):\n",
    "        print \"{} is developer\".format(self.name) #여기서 deveoper class는 person class를 상속하지 않았는데 self.name 사용가능??\n",
    "    \n",
    "class BookReader(Person):\n",
    "\n",
    "    def read_book(self):\n",
    "        print \"{} is reading a book\".format(self.name)\n",
    "        \n",
    "class ProgramBookWriter(Person, Developer):\n",
    "    def write_book(self):\n",
    "        print \"{} likes wrting a book\".format(self.name)\n",
    "        \n",
    "class DrumPlayer(Person):\n",
    "    \n",
    "    def play_drum(self):\n",
    "        print \"{} is playng the drum\".format(self.name)\n",
    "        \n",
    "\n",
    "        \n",
    "r1 = BookReader(\"Won\")\n",
    "w1 = ProgramBookWriter(\"Insung\")\n",
    "d1 = DrumPlayer(\"ChanKyung\")\n",
    "print r1.country\n",
    "print w1.country\n",
    "print d1.country\n",
    "r1.eat_meal(\"steak\")\n",
    "w1.eat_meal(\"Pepper\")\n",
    "d1.eat_meal(\"salad\")\n",
    "r1.read_book()\n",
    "w1.write_book()\n",
    "d1.play_drum()\n",
    "print\n",
    "w1.coding()"
   ]
  },
  {
   "cell_type": "code",
   "execution_count": 1,
   "metadata": {
    "collapsed": false
   },
   "outputs": [
    {
     "name": "stdout",
     "output_type": "stream",
     "text": [
      "Won is Python developer\n",
      "Soomin is Java developer\n",
      "Jongmin is developer\n",
      "Jongmin is CPP developer\n"
     ]
    }
   ],
   "source": [
    "class Developer(object):\n",
    "    \n",
    "    def __init__(self, name):\n",
    "        self.name = name\n",
    "    \n",
    "    def coding(self):\n",
    "        print \"{} is developer\".format(self.name) \n",
    "\n",
    "class PythonDeveloper(Developer):\n",
    "    \n",
    "    def coding(self):\n",
    "        print \"{} is Python developer\".format(self.name)\n",
    "        \n",
    "class JavaDeveloper(Developer):\n",
    "    \n",
    "    def coding(self):\n",
    "        print \"{} is Java developer\".format(self.name)\n",
    "        \n",
    "class CPPDeveloper(Developer):\n",
    "    \n",
    "    def coding(self):\n",
    "        super(CPPDeveloper, self).coding() ###########################에러발생\n",
    "        print \"{} is CPP developer\".format(self.name)\n",
    "        \n",
    "p1 = PythonDeveloper(\"Won\")\n",
    "j1 = JavaDeveloper(\"Soomin\")\n",
    "c1 = CPPDeveloper(\"Jongmin\")\n",
    "p1.coding()\n",
    "j1.coding()\n",
    "c1.coding()\n",
    "\n",
    "\"\"\"python2에서는 class를 정의할 때\n",
    "class Developer(object):\n",
    "이렇게 해야 상속구조에서 제대로 동작함.\n",
    "위에서는 class Developer로 단순히 처리 하셔서 안되었던 문제였음.\"\"\""
   ]
  },
  {
   "cell_type": "code",
   "execution_count": null,
   "metadata": {
    "collapsed": true
   },
   "outputs": [],
   "source": []
  },
  {
   "cell_type": "code",
   "execution_count": null,
   "metadata": {
    "collapsed": true
   },
   "outputs": [],
   "source": []
  }
 ],
 "metadata": {
  "kernelspec": {
   "display_name": "Python 2",
   "language": "python",
   "name": "python2"
  },
  "language_info": {
   "codemirror_mode": {
    "name": "ipython",
    "version": 2
   },
   "file_extension": ".py",
   "mimetype": "text/x-python",
   "name": "python",
   "nbconvert_exporter": "python",
   "pygments_lexer": "ipython2",
   "version": "2.7.13"
  }
 },
 "nbformat": 4,
 "nbformat_minor": 2
}
