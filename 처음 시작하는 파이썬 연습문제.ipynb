{
 "cells": [
  {
   "cell_type": "markdown",
   "metadata": {},
   "source": [
    "파이썬 3 기준이라 맞지 않을 수 있음."
   ]
  },
  {
   "cell_type": "code",
   "execution_count": 3,
   "metadata": {
    "collapsed": false
   },
   "outputs": [
    {
     "name": "stdout",
     "output_type": "stream",
     "text": [
      "3600\n",
      "86400\n",
      "24.0\n",
      "24.0\n"
     ]
    }
   ],
   "source": [
    "#2.4 연습문제\n",
    "seconds_per_hour = 60 * 60\n",
    "seconds_per_day = seconds_per_hour * 24\n",
    "print seconds_per_hour\n",
    "print seconds_per_day\n",
    "print seconds_per_day / seconds_per_hour\n",
    "print seconds_per_day // seconds_per_hour"
   ]
  },
  {
   "cell_type": "code",
   "execution_count": 41,
   "metadata": {
    "collapsed": false
   },
   "outputs": [
    {
     "name": "stdout",
     "output_type": "stream",
     "text": [
      "1983\n",
      "1985\n",
      "\n",
      "Cinderella\n",
      "['mozzarella', 'cinderella', 'salmonella']\n",
      "MOZZARELLA\n",
      "['cinderella', 'salmonella']\n",
      "['cinderella']\n",
      "\n",
      "['Groucho', 'Chico', 'Oprah']\n",
      "\n",
      "morse\n",
      "[('walrus', 'morse'), ('dog', 'chien'), ('cat', 'chat')]\n",
      "{'chien': 'dog', 'chat': 'cat', 'morse': 'walrus'}\n",
      "dog\n",
      "['chien', 'chat', 'morse']\n",
      "\n",
      "['plants', 'other', 'animals']\n",
      "['octopi', 'cats', 'emus']\n",
      "Henri\n"
     ]
    }
   ],
   "source": [
    "#3.8 연습문제\n",
    "#3.1~3\n",
    "year_lists = [1980,1981,1982,1983,1984,1985]\n",
    "print year_lists[3]\n",
    "print year_lists[-1]\n",
    "print\n",
    "#3.4~7\n",
    "things = [\"mozzarella\",\"cinderella\",\"salmonella\"]\n",
    "print things[1].capitalize()\n",
    "print things\n",
    "print things[0].upper()\n",
    "things.remove(\"mozzarella\")\n",
    "print things\n",
    "del things[-1]\n",
    "print things\n",
    "print\n",
    "#3.8~9\n",
    "surprise = [\"Groucho\",\"Chico\",\"Harpo\"]\n",
    "surprise[-1] = surprise[-1].lower()\n",
    "surprise[-1] = surprise[-1][::-1]\n",
    "surprise[-1] = surprise[-1].capitalize()\n",
    "print surprise\n",
    "print\n",
    "#3.10~14\n",
    "f2e = {\"dog\" : \"chien\", \"cat\" : \"chat\", \"walrus\" : \"morse\"}\n",
    "print f2e[\"walrus\"]\n",
    "print f2e.items()\n",
    "e2f = {}\n",
    "for english, french in f2e.items():\n",
    "    e2f[french] = english    \n",
    "print e2f\n",
    "print e2f[\"chien\"]\n",
    "print e2f.keys()\n",
    "print\n",
    "#3.15\n",
    "life = {\"animals\": {\"cats\":\"Henri\", \"octopi\":\"Grumpy\",\"emus\":\"Lucy\"}, \"plants\": {}, \"other\": {}}\n",
    "print life.keys()\n",
    "print life[\"animals\"].keys()\n",
    "print life[\"animals\"]['cats']"
   ]
  },
  {
   "cell_type": "code",
   "execution_count": 8,
   "metadata": {
    "collapsed": false,
    "scrolled": true
   },
   "outputs": [
    {
     "name": "stdout",
     "output_type": "stream",
     "text": [
      "String to capitalize [type q to quit]:q\n",
      "Integer, please [q to quit]:1\n",
      "1\n",
      "Integer, please [q to quit]:2\n",
      "Integer, please [q to quit]:3\n",
      "9\n",
      "Integer, please [q to quit]:4\n",
      "Integer, please [q to quit]:5\n",
      "25\n",
      "Integer, please [q to quit]:6\n",
      "Integer, please [q to quit]:7\n",
      "49\n",
      "Integer, please [q to quit]:q\n",
      "No even number found\n"
     ]
    }
   ],
   "source": [
    "#break\n",
    "while True:\n",
    "    stuff = raw_input(\"String to capitalize [type q to quit]:\")\n",
    "    if stuff == \"q\":\n",
    "        break\n",
    "    print(stuff.capitalize())\n",
    "\n",
    "#continue\n",
    "while True:\n",
    "    value = raw_input(\"Integer, please [q to quit]:\")\n",
    "    if value == \"q\":\n",
    "        break\n",
    "    number = int(value)\n",
    "    if number % 2 == 0:\n",
    "        continue\n",
    "    print number**2\n",
    "    \n",
    "#else\n",
    "numbers = [1,3,5]\n",
    "position = 0\n",
    "while position < len(numbers):\n",
    "    number = numbers[position]\n",
    "    if number % 2 == 0 :\n",
    "        print(\"Found even number\", number)\n",
    "        break\n",
    "    position += 1\n",
    "    \n",
    "else: #else가 while과 같이 걸린다?? if와 걸려야하지 않나?\n",
    "    print(\"No even number found\")"
   ]
  },
  {
   "cell_type": "code",
   "execution_count": 1,
   "metadata": {
    "collapsed": false,
    "scrolled": true
   },
   "outputs": [
    {
     "name": "stdout",
     "output_type": "stream",
     "text": [
      "Dreams come true, Korea!\n",
      "\n",
      "<function inner2 at 0x034C52F0>\n",
      "\n",
      "Thud!\n",
      "Meow!\n",
      "Thud!\n",
      "Hiss!\n",
      "Thud!\n",
      "Meow!\n",
      "Thud!\n",
      "Hiss!\n"
     ]
    }
   ],
   "source": [
    "#내부함수\n",
    "def knights(saying):\n",
    "    def inner(quote):\n",
    "        return \"Dreams come true, \"+quote+\"!\"\n",
    "    return inner(saying)\n",
    "\n",
    "print knights(\"Korea\")\n",
    "print\n",
    "#클로져\n",
    "def knights2(saying):\n",
    "    def inner2():\n",
    "        return \"We are the knights who say: {}\".format(saying)\n",
    "    return inner2\n",
    "print knights2(\"Duck\")\n",
    "print\n",
    "#lambda\n",
    "def edit_story(words, func):\n",
    "    for word in words:\n",
    "        print func(word)\n",
    "\n",
    "stairs = ['thud','meow','thud','hiss']\n",
    "\n",
    "def enliven(word):\n",
    "    return word.capitalize()+\"!\"\n",
    "\n",
    "edit_story(stairs, enliven)\n",
    "\n",
    "#이를 lambda를 이용해 enliven 굳이 정의하지 않고 해보면\n",
    "edit_story(stairs, lambda word: word.capitalize()+\"!\")"
   ]
  },
  {
   "cell_type": "code",
   "execution_count": 2,
   "metadata": {
    "collapsed": false
   },
   "outputs": [
    {
     "name": "stdout",
     "output_type": "stream",
     "text": [
      "Need a position between 0 and 2\n"
     ]
    }
   ],
   "source": [
    "short_list = [1,2,3]\n",
    "position = 5\n",
    "try:\n",
    "    short_list[position]\n",
    "except:\n",
    "    print \"Need a position between 0 and\",len(short_list)-1"
   ]
  },
  {
   "cell_type": "code",
   "execution_count": 1,
   "metadata": {
    "collapsed": false,
    "scrolled": true
   },
   "outputs": [
    {
     "name": "stdout",
     "output_type": "stream",
     "text": [
      "Integer:1\n",
      "too low\n",
      "Integer:2\n",
      "too low\n",
      "Integer:8\n",
      "too high\n",
      "Integer:7\n",
      "just right\n"
     ]
    }
   ],
   "source": [
    "#4.13연습문제\n",
    "#4.1\n",
    "guess_me = 7\n",
    "while True:\n",
    "    number = int(raw_input(\"Integer:\"))\n",
    "    if number < guess_me:\n",
    "        print \"too low\"\n",
    "\n",
    "    elif number > guess_me:\n",
    "        print \"too high\"\n",
    "\n",
    "    elif number == guess_me:\n",
    "        print \"just right\"\n",
    "        break\n",
    "\n",
    "#4.2\n",
    "guess_me = 7\n",
    "start = 1\n",
    "while True:\n",
    "    if start < guess_me :\n",
    "        print \"Too low\"\n",
    "        \n",
    "    elif start > guess_me :\n",
    "        print \"oops\"\n",
    "        break\n",
    "        \n",
    "    elif start == guess_me:\n",
    "        print \"found it!\"\n",
    "        break\n",
    "        \n",
    "    start += 1"
   ]
  },
  {
   "cell_type": "code",
   "execution_count": 13,
   "metadata": {
    "collapsed": false,
    "scrolled": true
   },
   "outputs": [
    {
     "name": "stdout",
     "output_type": "stream",
     "text": [
      "[3, 2, 1, 0]\n",
      "[0, 2, 4, 6, 8]\n",
      "{0: 0, 1: 1, 2: 4, 3: 9, 4: 16, 5: 25, 6: 36, 7: 49, 8: 64, 9: 81}\n",
      "set([1, 3, 9, 5, 7])\n"
     ]
    }
   ],
   "source": [
    "#4.3~6\n",
    "numbers = [number for number in range(3, -1, -1)]\n",
    "print numbers\n",
    "\n",
    "even_numbers = [number for number in range(10) if number % 2 ==0]\n",
    "print even_numbers\n",
    "\n",
    "squares = {number : number**2 for number in range(10)}\n",
    "print squares\n",
    "\n",
    "odd_numbers = {number for number in range(10) if number % 2 ==1}\n",
    "print odd_numbers"
   ]
  },
  {
   "cell_type": "code",
   "execution_count": 24,
   "metadata": {
    "collapsed": false,
    "scrolled": true
   },
   "outputs": [
    {
     "name": "stdout",
     "output_type": "stream",
     "text": [
      "Got 0\n",
      "Got 1\n",
      "Got 2\n",
      "Got 3\n",
      "Got 4\n",
      "Got 5\n",
      "Got 6\n",
      "Got 7\n",
      "Got 8\n",
      "Got 9\n",
      "['harry', 'ron', 'hermione']\n"
     ]
    }
   ],
   "source": [
    "#4.7\n",
    "for thing in (\"Got %s\" % number for number in range(10)):\n",
    "    print thing\n",
    "#4.8    \n",
    "def good():\n",
    "    return [\"harry\", \"ron\",\"hermione\"]\n",
    "\n",
    "print good()\n"
   ]
  },
  {
   "cell_type": "code",
   "execution_count": 37,
   "metadata": {
    "collapsed": false,
    "scrolled": true
   },
   "outputs": [
    {
     "name": "stdout",
     "output_type": "stream",
     "text": [
      "5\n",
      "Caught an oops\n",
      "{'Crewel Fate': 'A haunted yarn shop', 'creature of habit': 'A nun turns into a mon ster'}\n"
     ]
    }
   ],
   "source": [
    "#4.9 generator\n",
    "def get_odds():\n",
    "    for number in range(1,10,2):\n",
    "        yield number\n",
    "    \n",
    "for count, number in enumerate(get_odds(),1):\n",
    "    if count == 3:\n",
    "        print number\n",
    "        break\n",
    "        \n",
    "#4.11\n",
    "class OopsException():\n",
    "    pass\n",
    "\n",
    "try:\n",
    "    raise OopsException()\n",
    "    \n",
    "except:\n",
    "    print \"Caught an oops\"\n",
    "    \n",
    "#4.12\n",
    "titles = [\"creature of habit\", \"Crewel Fate\"]\n",
    "plots = [\"A nun turns into a mon ster\", \"A haunted yarn shop\"]\n",
    "zipped = zip(titles, plots)\n",
    "movies = dict(zipped)\n",
    "print movies"
   ]
  },
  {
   "cell_type": "code",
   "execution_count": 52,
   "metadata": {
    "collapsed": false
   },
   "outputs": [
    {
     "name": "stdout",
     "output_type": "stream",
     "text": [
      "<class '__main__.Thing'>\n",
      "<__main__.Thing object at 0x0355EEB0>\n",
      "abc\n",
      "xyz\n",
      "('Hydrogen', 'H', 1)\n",
      "name = Hydrogen, symbol = H, number = 1\n"
     ]
    },
    {
     "ename": "TypeError",
     "evalue": "__str__ returned non-string (type NoneType)",
     "output_type": "error",
     "traceback": [
      "\u001b[0;31m---------------------------------------------------------------------------\u001b[0m",
      "\u001b[0;31mTypeError\u001b[0m                                 Traceback (most recent call last)",
      "\u001b[0;32m<ipython-input-52-b237eb2924de>\u001b[0m in \u001b[0;36m<module>\u001b[0;34m()\u001b[0m\n\u001b[1;32m     46\u001b[0m \u001b[1;33m\u001b[0m\u001b[0m\n\u001b[1;32m     47\u001b[0m \u001b[0mhydrogen\u001b[0m \u001b[1;33m=\u001b[0m \u001b[0mElement\u001b[0m\u001b[1;33m(\u001b[0m\u001b[1;34m\"Hydrogen\"\u001b[0m\u001b[1;33m,\u001b[0m\u001b[1;34m\"H\"\u001b[0m\u001b[1;33m,\u001b[0m\u001b[1;36m1\u001b[0m\u001b[1;33m)\u001b[0m\u001b[1;33m\u001b[0m\u001b[0m\n\u001b[0;32m---> 48\u001b[0;31m \u001b[1;32mprint\u001b[0m\u001b[1;33m(\u001b[0m\u001b[0mhydrogen\u001b[0m\u001b[1;33m)\u001b[0m\u001b[1;33m\u001b[0m\u001b[0m\n\u001b[0m",
      "\u001b[0;31mTypeError\u001b[0m: __str__ returned non-string (type NoneType)"
     ]
    }
   ],
   "source": [
    "#6.15 연습문제\n",
    "#6.1\n",
    "class Thing(object):\n",
    "    pass\n",
    "\n",
    "print Thing\n",
    "example = Thing()\n",
    "print example\n",
    "\n",
    "#6.2\n",
    "class Thing2:\n",
    "    letters = \"abc\"\n",
    "    \n",
    "print Thing2.letters\n",
    "\n",
    "#6.3\n",
    "class Thing3:\n",
    "    def __init__(self):\n",
    "        self.letters = \"xyz\"\n",
    "        \n",
    "something = Thing3()\n",
    "print something.letters\n",
    "\n",
    "#6.4, 6\n",
    "class Element:\n",
    "    def __init__(self, name, symbol, number):\n",
    "        self.name = name\n",
    "        self.symbol = symbol\n",
    "        self.number = number\n",
    "    \n",
    "    def dump(self):\n",
    "        return self.name, self.symbol, self.number\n",
    "\n",
    "hydrogen = Element(\"Hydrogen\",\"H\",1)\n",
    "print hydrogen.dump()\n",
    "\n",
    "#6.7\n",
    "class Element:\n",
    "    def __init__(self, name, symbol, number):\n",
    "        self.name = name\n",
    "        self.symbol = symbol\n",
    "        self.number = number\n",
    "    \n",
    "    def __str__(self):\n",
    "        print \"name = {}, symbol = {}, number = {}\".format(self.name, self.symbol, self.number)\n",
    "\n",
    "hydrogen = Element(\"Hydrogen\",\"H\",1)\n",
    "print(hydrogen)"
   ]
  }
 ],
 "metadata": {
  "kernelspec": {
   "display_name": "Python 2",
   "language": "python",
   "name": "python2"
  },
  "language_info": {
   "codemirror_mode": {
    "name": "ipython",
    "version": 2
   },
   "file_extension": ".py",
   "mimetype": "text/x-python",
   "name": "python",
   "nbconvert_exporter": "python",
   "pygments_lexer": "ipython2",
   "version": "2.7.13"
  }
 },
 "nbformat": 4,
 "nbformat_minor": 2
}
