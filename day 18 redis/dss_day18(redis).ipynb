{
 "cells": [
  {
   "cell_type": "markdown",
   "metadata": {},
   "source": [
    "## 학습목표 \n",
    "  1. redis db의 이해 및 숙지"
   ]
  },
  {
   "cell_type": "markdown",
   "metadata": {},
   "source": [
    "* mysql utf-8 설정"
   ]
  },
  {
   "cell_type": "raw",
   "metadata": {},
   "source": [
    "1. sudo vi /etc/mysql/mysql.conf.d/mysqld.cnf 파일열기\n",
    "2. 각 섹션에 아래 내용 복사\n",
    "[client]\n",
    "default-character-set = utf8mb4\n",
    "\n",
    "[mysqld]\n",
    "...\n",
    "character-set-client-handshake = False\n",
    "character-set-server = utf8mb4\n",
    "collation-server = utf8mb4_unicode_ci\n",
    "\n",
    "[mysql]\n",
    "default-character-set = utf8mb4\n",
    "\n",
    "3. 저장 후, sudo service mysql restart\n",
    "4. table 생성시, 마지막 script에 DEFAULT CHARSET=utf8 추가"
   ]
  },
  {
   "cell_type": "markdown",
   "metadata": {},
   "source": [
    "* python orm 연습문제)\n",
    " 1. 나이가 30 이상인 학생들의 평균성적은 얼마인가요?\n",
    " 2. 나이가 27 이하인 학생들은 어떤 과목을 수강하나요?\n",
    " 3. 과목별 평균 성적을 구하세요.\n",
    " 4. min / max 한꺼번에 출력"
   ]
  },
  {
   "cell_type": "raw",
   "metadata": {
    "collapsed": true
   },
   "source": [
    "result = session.query(func.avg(Score.Score)) \\\n",
    "          .join(Student, Score.StudentID == Student.ID) \\\n",
    "          .filter(Student.Age >= 30) \\\n",
    "          .one()\n",
    " \n",
    "print result"
   ]
  },
  {
   "cell_type": "raw",
   "metadata": {
    "collapsed": true
   },
   "source": [
    "result = session.query(Score, Course) \\\n",
    "          .join(Student, Score.StudentID == Student.ID) \\\n",
    "          .join(Course, Course.CODE == Score.CourseCode) \\\n",
    "          .filter(Student.Age <= 27) \\\n",
    "          .group_by(Course.CODE) \n",
    " \n",
    "for row in result:\n",
    "    print row.Course.Name"
   ]
  },
  {
   "cell_type": "raw",
   "metadata": {
    "collapsed": true
   },
   "source": [
    "result = session.query(func.avg(Score.Score), Course.Name)     \\\n",
    "          .join(Course, Score.CourseCode == Course.CODE) \\\n",
    "          .group_by(Score.CourseCode) \n",
    " \n",
    "for row in result:\n",
    "    print row"
   ]
  },
  {
   "cell_type": "raw",
   "metadata": {
    "collapsed": true
   },
   "source": [
    "(select Name, count(*) as cnt \n",
    "\tfrom scores sc\n",
    "    join students s\n",
    "    on sc.StudentID = s.ID\n",
    "    group by StudentID\n",
    "    order by cnt\n",
    "    limit 1)\n",
    "    \n",
    "union \n",
    "    \n",
    "(select Name, count(*) as cnt \n",
    "\tfrom scores sc\n",
    "    join students s\n",
    "    on sc.StudentID = s.ID\n",
    "    group by StudentID \n",
    "    order by cnt desc\n",
    "    limit 1);"
   ]
  },
  {
   "cell_type": "markdown",
   "metadata": {},
   "source": [
    " * 연습문제) \n",
    "  1. world database 에서 각 나라에서 가장 많이 쓰는 언어와 비율을 구하세요\n",
    "  2. GNP가 가장 높은 나라는?\n",
    "  3. 각 나라의 주요 도시별 평균 인구수는?\n",
    "  4. 기대수명이 평균보다 낮은 나라들의 평균 GNP는?\n",
    "     "
   ]
  },
  {
   "cell_type": "raw",
   "metadata": {
    "collapsed": true
   },
   "source": [
    "select c1.CountryCode, c1.Language, c1.Percentage\n",
    "\tfrom countrylanguage c1\n",
    "    join (\n",
    "\t\tselect CountryCode, max(Percentage) as perc\n",
    "\t\t\tfrom countrylanguage\n",
    "            group by CountryCode) c2\n",
    "\ton c1.CountryCode = c2.CountryCode and c1.Percentage = c2.perc;"
   ]
  },
  {
   "cell_type": "raw",
   "metadata": {},
   "source": [
    "select Name \n",
    "\tfrom country\n",
    "    order by GNP desc\n",
    "    limit 1;"
   ]
  },
  {
   "cell_type": "raw",
   "metadata": {},
   "source": [
    "select country.Name, t.avg\n",
    "\tfrom country\n",
    "    join (\n",
    "\t\tselect CountryCode, avg(Population) as avg\n",
    "\t\tfrom city\n",
    "\t\tgroup by CountryCode) t\n",
    "\ton country.Code = t.CountryCode;"
   ]
  },
  {
   "cell_type": "raw",
   "metadata": {},
   "source": [
    "select avg(GNP) from country\n",
    "\twhere LifeExpectancy < (select avg(LifeExpectancy) from country);"
   ]
  },
  {
   "cell_type": "markdown",
   "metadata": {},
   "source": [
    "* redis\n",
    "  - in memory key value database\n",
    "  - REmote DIctionary Server 의 줄임말\n",
    "  - RDB나 NoSQL이 기본적으로 file system에 데이터를 저장하는데 반해, redis는 메모리에 데이터를 저장한다.\n",
    "  - 메모리에 데이터를 저장하기 때문에 데이터의 저장/반환이 상대적으로 훨씬 빠르다.\n",
    "  - 메모리에 데이터를 저장하기 때문에 휘발성의 성격을 갖는다.\n",
    "  - 주로 cache의 용도로 사용하며 최근 10개의 댓글, 인기 뉴스 등 자주 사용 하는 기능의 cache용도로 사용한다."
   ]
  },
  {
   "cell_type": "markdown",
   "metadata": {},
   "source": [
    "* redis 설치\n",
    "  1. sudo add-apt-repository ppa:chris-lea/redis-server\n",
    "  2. sudo apt-get update\n",
    "  3. sudo apt-get install redis-server\n",
    "  4. sudo vi /etc/redis/redis.conf\n",
    "  5. #bind 127.0.0.1 로 변경 후 저장\n",
    "  6. sudo service redis restart\n",
    "  7. aws 6379 포트 열기\n",
    "  \n",
    "\n",
    "* redis 접속\n",
    "  - 터미널에서 redis-cli 로 접속\n",
    "  - OSX 설치\n",
    "    - brew install redis\n",
    "  - Windows 설치\n",
    "    - official 하게 windows 지원하지 않음\n",
    " \n",
    " \n",
    "* redis python module\n",
    "  1. sudo pip install redis\n",
    "  \n",
    "  \n",
    "* redis documentation\n",
    "  - https://redis.io/commands"
   ]
  },
  {
   "cell_type": "markdown",
   "metadata": {},
   "source": [
    "* Key-value set/get\n",
    "  - 단순한 key value 값 저장하고 불러오기\n",
    "  - set key value \n",
    "  - e.g) set a \"hello\"\n",
    "  - get key\n",
    "  - e.g) get a\n",
    "  \n",
    "  - setex / setnx\n",
    "    + setex mykey 10 \"hello\" (10초간 값을 유지)\n",
    "    + setnx mykey \"hello\"    (key가 없는 경우에만 설정 nx - not exist)"
   ]
  },
  {
   "cell_type": "markdown",
   "metadata": {},
   "source": [
    "* Hashes\n",
    "   - key, value의 집합\n",
    "   - hset / hget\n",
    "    - hset myhash field1 \"Hello\"\n",
    "    - e.g) hset aaron name \"Hello\"\n",
    "    - hget myhash field1\n",
    "    - e.g) hget aaron name\n",
    "  \n",
    "   - hmset / hmget / hgetall\n",
    "    - hmset myhash field1 \"Hello\" field2 \"World\" ...\n",
    "    - e.g) hmset aaron name \"Hello\" password \"test1234\" points 100\n",
    "    - hmget myhash field1 field2\n",
    "    - e.g) hmget aaron name password points\n",
    "    - hmgetall myhash\n",
    "    - e.g) hmgetall aaron\n",
    "    \n",
    "   - hdel \n",
    "    - hdel myhash field1\n",
    "    - e.g) hdel aaron name\n",
    "    "
   ]
  },
  {
   "cell_type": "markdown",
   "metadata": {},
   "source": [
    "* List\n",
    "  - lpush rpush (각각 왼쪽과 오른쪽에서 리스트에 푸쉬함)\n",
    "    - lpush mylist redis\n",
    "    - rpush mylist mongodb\n",
    "  \n",
    "  - lrange mylist 0 -1 (리스트의 모든 값 출력)\n",
    "  - lrem mylist count value\n",
    "    - mylist에서 value와 일치하는 것들을 count 만큼 삭제\n",
    "    - count > 0 \n",
    "       + head부터 count만큼 삭제\n",
    "    - count < 0 \n",
    "       - tail부터 -count만큼 삭제\n",
    "    - count == 0 \n",
    "       - 전체 삭제"
   ]
  },
  {
   "cell_type": "markdown",
   "metadata": {},
   "source": [
    "* Sets\n",
    " - 집합\n",
    " - 집합에 추가\n",
    "   - sadd myset redis\n",
    "   - sadd myset mongo\n",
    " - 집합에서 삭제\n",
    "   - srem myset redis\n",
    " - 멤버인지 확인\n",
    "   - sismember myset redis \n",
    "   - 멤버이면 1, 아니면 0\n",
    " - 집합 보기\n",
    "   - smembers myset"
   ]
  },
  {
   "cell_type": "markdown",
   "metadata": {},
   "source": [
    "* Key / Value 예제"
   ]
  },
  {
   "cell_type": "code",
   "execution_count": 5,
   "metadata": {
    "collapsed": true
   },
   "outputs": [],
   "source": [
    "host = '54.149.163.97'"
   ]
  },
  {
   "cell_type": "code",
   "execution_count": 12,
   "metadata": {
    "collapsed": false
   },
   "outputs": [
    {
     "name": "stdout",
     "output_type": "stream",
     "text": [
      "True\n",
      "1\n",
      "10\n",
      "None\n"
     ]
    }
   ],
   "source": [
    "import redis\n",
    "r = redis.Redis(host = host, port = 6379)\n",
    "\n",
    "print r.set('counter', 1)\n",
    "print r.get('counter')\n",
    "\n",
    "# 값을 명시한 초 만큼 유지\n",
    "r.setex('mykey', 10, 5)\n",
    "print r.get('mykey')\n",
    "\n",
    "import time\n",
    "time.sleep(5)\n",
    "\n",
    "# 5초 후 다시 확인\n",
    "print r.get('mykey')\n",
    "\n"
   ]
  },
  {
   "cell_type": "markdown",
   "metadata": {},
   "source": [
    "* hash 예제"
   ]
  },
  {
   "cell_type": "code",
   "execution_count": 22,
   "metadata": {
    "collapsed": false
   },
   "outputs": [
    {
     "name": "stdout",
     "output_type": "stream",
     "text": [
      "0\n",
      "True\n",
      "aaron\n",
      "None\n",
      "['aaron', 'test1234']\n",
      "{'aaron': '1', 'password': 'test1234', 'name': 'aaron'}\n",
      "{'aaron': '1', 'name': 'aaron'}\n"
     ]
    }
   ],
   "source": [
    "# myhash라는 이름의 hash(dictionary)에 aaron(key), value(1) 설정\n",
    "print r.hset('myhash', 'aaron', 1)\n",
    "\n",
    "# myhash라는 이름의 hash에 주어진 dict 한꺼번에 설정\n",
    "print r.hmset('myhash', {'name' : 'aaron', 'password' : 'test1234'})\n",
    "\n",
    "# myhash에서 name key에 해당 하는 값 출력\n",
    "print r.hget('myhash', 'name')\n",
    "\n",
    "# 없는 경우 None 반환\n",
    "print r.hget('myhash', 'height')\n",
    "\n",
    "# key list 로 주어진 값의 쌍을 리스트로 반환\n",
    "print r.hmget('myhash', ['name', 'password'])\n",
    "\n",
    "# hash 내용 전체 반환 (dictionary)\n",
    "print r.hgetall('myhash')\n",
    "\n",
    "# hash에서 명시된 키 삭제\n",
    "r.hdel('myhash', 'password')\n",
    "\n",
    "print r.hgetall('myhash')"
   ]
  },
  {
   "cell_type": "markdown",
   "metadata": {},
   "source": [
    "* list 예제"
   ]
  },
  {
   "cell_type": "code",
   "execution_count": 36,
   "metadata": {
    "collapsed": false
   },
   "outputs": [
    {
     "name": "stdout",
     "output_type": "stream",
     "text": [
      "['27', '22', '23', '21', '29']\n",
      "['22', '23', '21', '29']\n",
      "['22', '23', '21']\n",
      "3\n"
     ]
    }
   ],
   "source": [
    "# 키, hash, list 삭제\n",
    "r.delete('mylist2')\n",
    "\n",
    "# 왼쪽부터 삽입\n",
    "r.lpush('mylist2', 23)\n",
    "r.lpush('mylist2', 22)\n",
    "r.lpush('mylist2', 27)\n",
    "\n",
    "# 오른쪽 부터 삽입\n",
    "r.rpush('mylist2', 21)\n",
    "r.rpush('mylist2', 29)\n",
    "\n",
    "print r.lrange('mylist2', 0, -1)\n",
    "\n",
    "# 왼쪽 제거\n",
    "r.lpop('mylist2')\n",
    "\n",
    "print r.lrange('mylist2', 0, -1)\n",
    "\n",
    "# 오른쪽 제거\n",
    "r.rpop('mylist2')\n",
    "\n",
    "print r.lrange('mylist2', 0, -1)\n",
    "\n",
    "# 길이\n",
    "print r.llen('mylist2')\n",
    "\n"
   ]
  },
  {
   "cell_type": "markdown",
   "metadata": {},
   "source": [
    "* set 예제"
   ]
  },
  {
   "cell_type": "code",
   "execution_count": 18,
   "metadata": {
    "collapsed": false
   },
   "outputs": [
    {
     "name": "stdout",
     "output_type": "stream",
     "text": [
      "set(['redis', 'mongo', 'mysql'])\n",
      "True\n",
      "False\n"
     ]
    }
   ],
   "source": [
    "r.sadd('myset2', 'mysql')\n",
    "r.sadd('myset2', 'mongo')\n",
    "r.sadd('myset2', 'redis')\n",
    "\n",
    "# 전체 멤버 나열\n",
    "print r.smembers('myset2')\n",
    "\n",
    "# 멤버인지 아닌지 확인\n",
    "print r.sismember('myset2', 'redis')\n",
    "print r.sismember('myset2', 'radis')"
   ]
  },
  {
   "cell_type": "markdown",
   "metadata": {},
   "source": [
    "* 뉴스 크롤러 예제의 hard-coding된 url redis로 관리하기"
   ]
  },
  {
   "cell_type": "code",
   "execution_count": null,
   "metadata": {
    "collapsed": true
   },
   "outputs": [],
   "source": [
    "import redis\n",
    "r = redis.Redis(host = host, port = 6379)\n",
    "\n",
    "r.lrange('urls', 0, -1)\n",
    "\n",
    "rpush urls http://news.naver.com/main/main.nhn?mode=LSD&mid=shm&sid1=105\n",
    "rpush urls http://news.naver.com/main/main.nhn?mode=LSD&mid=shm&sid1=104\n",
    "rpush urls http://news.naver.com/main/main.nhn?mode=LSD&mid=shm&sid1=103    "
   ]
  },
  {
   "cell_type": "markdown",
   "metadata": {},
   "source": [
    "실습)\n",
    " 1. redis에 crawling할 url들을 저장하고, 크롤러가 redis에서 크롤링할 url을 이용하도록 수정해보세요"
   ]
  },
  {
   "cell_type": "raw",
   "metadata": {},
   "source": []
  },
  {
   "cell_type": "markdown",
   "metadata": {},
   "source": [
    " * 연습문제)\n",
    "  1. redis를 이용하여 최근 10개의 기사를 caching 해봅시다\n",
    "  2. 각 뉴스에 대한 댓글도 모아야 한다는 요구사항이 생겼습니다. 시스템을 설계하고 구현해보세요.\n",
    "    + 추가로 필요한 table, collection이 있는지 확인\n",
    "    + mysql, mongo 등 어디에 저장할지 고려\n",
    "    + module (class) 설계\n",
    "    + 구현\n",
    "    + 테스트\n",
    "    + 배포\n",
    "   "
   ]
  },
  {
   "cell_type": "code",
   "execution_count": null,
   "metadata": {
    "collapsed": true
   },
   "outputs": [],
   "source": []
  }
 ],
 "metadata": {
  "kernelspec": {
   "display_name": "Python 2",
   "language": "python",
   "name": "python2"
  },
  "language_info": {
   "codemirror_mode": {
    "name": "ipython",
    "version": 2
   },
   "file_extension": ".py",
   "mimetype": "text/x-python",
   "name": "python",
   "nbconvert_exporter": "python",
   "pygments_lexer": "ipython2",
   "version": "2.7.13"
  }
 },
 "nbformat": 4,
 "nbformat_minor": 1
}
