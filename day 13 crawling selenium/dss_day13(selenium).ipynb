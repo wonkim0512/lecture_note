{
 "cells": [
  {
   "cell_type": "markdown",
   "metadata": {},
   "source": [
    "# Selenium "
   ]
  },
  {
   "cell_type": "markdown",
   "metadata": {},
   "source": [
    "## 학습목표\n",
    " 1. BeautifulSoup, Selenium을 이용한 웹크롤링 기법 이해 및 숙지"
   ]
  },
  {
   "cell_type": "markdown",
   "metadata": {},
   "source": [
    "* selenium 모듈\n",
    " - web page 자동화 및 테스팅 툴\n",
    " - crawling에도 자주 사용 됨\n",
    " - chromedriver link : http://chromedriver.storage.googleapis.com/index.html?path=2.24/\n",
    " - selenium docs : http://selenium-python.readthedocs.io/index.html"
   ]
  },
  {
   "cell_type": "markdown",
   "metadata": {},
   "source": [
    "* sleep 함수\n",
    " - time.sleep(n)\n",
    " - 현재 스레드의 실행을 n초간 멈춤\n",
    " - 코드를 인위적으로 멈춰주는 방식. 즉 스레드를 정지시킴\n",
    " - 구글 API 등은 1초에 100번 이상 요청이 들어오면 그 IP막아버림. 그런 것을 방지할 수 있는 툴"
   ]
  },
  {
   "cell_type": "code",
   "execution_count": 4,
   "metadata": {
    "collapsed": false
   },
   "outputs": [
    {
     "name": "stdout",
     "output_type": "stream",
     "text": [
      "1\n",
      "2\n",
      "7\n"
     ]
    }
   ],
   "source": [
    "import time\n",
    "print '1'\n",
    "time.sleep(3) #파이썬에서는 초 단위다. \n",
    "print '2'\n",
    "time.sleep(0.5)\n",
    "print '7'"
   ]
  },
  {
   "cell_type": "markdown",
   "metadata": {},
   "source": [
    "* selenium\n",
    " - 웹드라이버 - 웹 테스트 자동화를 위해 제공되는 툴(각 browser및 os 별로 존재)\n",
    " - selenium - 테스트 코드를 사용하여 브라우져에서의 액션을 테스트할 수 있게 해주는 툴\n",
    " - Firefox, chromedriver 등 각 브라우져마다 웹드라이버 다운로드 가능\n",
    "     + https://sites.google.com/a/chromium.org/chromedriver/  (chromedriver)\n",
    "     + https://github.com/mozilla/geckodriver/releases  (firefox gecko driver)"
   ]
  },
  {
   "cell_type": "markdown",
   "metadata": {},
   "source": [
    "* selenium 간단 예제\n",
    " - www.python.org 사이트 접속하여 자동으로 텍스트 입력 후, 검색"
   ]
  },
  {
   "cell_type": "code",
   "execution_count": 10,
   "metadata": {
    "collapsed": false
   },
   "outputs": [],
   "source": [
    "from selenium import webdriver\n",
    "from selenium.webdriver.common.keys import Keys\n",
    "\n",
    "# 드라이버 생성\n",
    "chromedriver = './chromedriver'\n",
    "driver = webdriver.Chrome(chromedriver)\n",
    "driver.get(\"http://www.python.org\")\n",
    "\n",
    "\"\"\"웹드라이버 = 테스팅을 위한 브라우저\n",
    "우리가 자주 사용하는 브라우저가 chrome이기 때문에 chrome driver를 설치한 것\n",
    "\"\"\"\n",
    "\n",
    "assert \"Python\" in driver.title\n",
    "elem = driver.find_element_by_name(\"q\") #개발자 도구로 살펴보면 검색창 이름이 q\n",
    "\n",
    "# input 텍스트 초기화 \n",
    "elem.clear()\n",
    "\n",
    "# 키 이벤트 전송\n",
    "elem.send_keys(\"pycon\")\n",
    "\n",
    "# 엔터 입력\n",
    "elem.send_keys(Keys.RETURN)\n",
    "\n",
    "assert \"No results found.\" not in driver.page_source \n",
    "#driver.quit() #얘를 만나면 꺼짐."
   ]
  },
  {
   "cell_type": "markdown",
   "metadata": {},
   "source": [
    "* 실습) \n",
    " 1. selenium 이용하여 daum 뉴스 크롤링\n",
    " 2. selenium 이용하여 instagram 자동 로그인 하기"
   ]
  },
  {
   "cell_type": "markdown",
   "metadata": {},
   "source": [
    "* daum news title"
   ]
  },
  {
   "cell_type": "code",
   "execution_count": 12,
   "metadata": {
    "collapsed": true
   },
   "outputs": [
    {
     "name": "stdout",
     "output_type": "stream",
     "text": [
      "'포켓몬고' 상륙 1주일.. 대한민국 곳곳이 들썩\n",
      "\n",
      "'포켓몬고' 상륙 1주일.. 대한민국 곳곳이 들썩\n",
      "\n",
      "많이본 뉴스\n",
      "포토&TV\n",
      "\n",
      "이 시각 추천뉴스\n",
      "실시간검색어\n"
     ]
    }
   ],
   "source": [
    "from selenium import webdriver\n",
    "\n",
    "chromedriver = './chromedriver'\n",
    "driver = webdriver.Chrome(chromedriver)\n",
    "driver.get('http://v.media.daum.net/v/20170202185812986')\n",
    "\n",
    "# 최초 발견한 태그만 검색\n",
    "title = driver.find_element_by_tag_name('h3')\n",
    "#title = driver.find_element_by_css_selector(\"head > title\")\n",
    "print title.text\n",
    "print\n",
    "# 모든 태그 검색\n",
    "h3s = driver.find_elements_by_tag_name('h3')\n",
    "\n",
    "for h3 in h3s:\n",
    "    print h3.text\n",
    "    \n",
    "#driver.quit()"
   ]
  },
  {
   "cell_type": "markdown",
   "metadata": {},
   "source": [
    "* daum news content"
   ]
  },
  {
   "cell_type": "code",
   "execution_count": 13,
   "metadata": {
    "collapsed": true
   },
   "outputs": [
    {
     "name": "stdout",
     "output_type": "stream",
     "text": [
      "지난달 24일 출시된 모바일게임 '포켓몬고'가 출시 1주일여만에 우리나라 거리 풍경을 크게 바꿔놨다. 번화가나 공원 등 거리 곳곳에서 손에 스마트폰을 들고 '포켓몬'을 사냥하는 모습을 손쉽게 찾아볼 수 있게 된 것이다.다른 국가에 비해 반년 가량 늦게 출시됐음에도 불구, 이용자 수가 700만명에 육박한 것으로 알려졌다. 우리나라 국민 10명 중 1명은 지난 1주일 사이에 한번은 포켓몬고 게임을 해봤다는 얘기다.\n",
      "\n",
      "지역경제 활성화에도 도움이 되고 있다. 포켓몬이 자주 출몰하는 지역으로 입소문을 탄 지역 편의점 매출이 급증하는 현상도 나타났다. 지난해 여름, 강원도 속초가 '포켓몬고' 특수를 톡톡히 누린 것과 비슷한 현상이 전국 곳곳에서 나타나고 있는 것이다.\n",
      "\n",
      "■우리 국민 10명 중 1명은 '포켓몬고' 게이머\n",
      "\n",
      "애플리케이션(앱) 분석업체 와이즈앱은 2일 전국 2만3000명의 안드로이드 스마트폰 사용자 표본조사를 바탕으로 추정한 지난 1주일간 '포켓몬고' 이용자는 698만명이라고 발표했다. 특히 10대와 20대 이용자들이 '포켓몬고'에 열광하고 있는 것으로 나타났다. 전체 이용자의 65% 이상이 10대와 20대다.\n",
      "\n",
      "이 게임 개발사인 나이언틱랩스가 설 연휴 직전에 출시한 전략도 제대로 맞아 떨어졌다. 지난 설 연휴, 고향에서 가족과 친지들이 모여 '포켓몬고'를 즐기는 모습이 곳곳에서 눈에 띄였다. 고속도로 휴게소 등에서도 포켓몬고 이용자들도 많았다.\n",
      "\n",
      "전국 번화가와 공원 등 게임 내 주요 장소인 '포켓스톱'으로 지정된 곳이 많은 지역은 '포켓몬고' 게이머들로 붐볐다. 서울 노원역, 이수역, 강남역, 잠실역 등 번화가와 부산 시민공원, 대전 오월드, 제천 의림지 등 전국 주요 장소로 '포켓몬'을 찾는 이들이 몰려들었다.\n",
      "\n",
      "지역 명소를 찾는 이들도 부쩍 늘었다. 주로 교회나 절, 조형물 등이 '포켓스톱'으로 지정돼 있기 때문에 평소에는 그냥 지나쳤던 명소를 다시 한번 돌아보게 되는 계기가 됐다는 게이머들도 많다.\n",
      "\n",
      "업계 관계자는 \"포켓스톱은 포켓몬고를 즐기기 위해 반드시 지나쳐야 하는 곳이기 때문에 평소엔 그냥 지나쳤더라도 요즘엔 멈춰서서 다시 한번 보는 경우가 많다\"며 \"겨울철이라 집안에만 있기 쉽지만 포켓몬고를 하기 위해 밖으로 걸어다니기 때문에 건강에도 긍정적\"이라고 언급했다.\n",
      "\n",
      "■'포켓몬고' 인기에 지역 상권도 '후광효과'\n",
      "\n",
      "포켓몬고는 지역 상권에도 영향을 주고 있다. '포켓몬'이 자주 출몰하는 이른바 '포세권'의 편의점은 후광효과를 톡톡히 보고 있다. 포켓몬을 쫓아온 게이머들이 대거 몰리면서 휴대폰 충전기와 핫팩은 물론 음료,간식 등의 매출이 쑥쑥 오르는 상황이다.\n",
      "\n",
      "세븐일레븐의 경우 포켓몬고 게임이 출시된 지난달 24일 이후 지난 1일까지 9일간 매출이 게임 출시 직전 9일에 비해 휴대폰 관련 용품 매출이 61.3%, 핫팩은 66.2%증가했다. 탄산음료와 컵라면,스낵과자도 같은 기간 매출이 33.5%,22%,16.3% 올랐다.\n",
      "\n",
      "'포세권'으로 입소문을 탄 부산시민공원점도 휴대용용품과 핫팩 매출이 각각 54%, 60.5% 늘었고 간식류 매출도 10~20% 증가했다. GS25의 대전오월드점은 같은 기간 커피와 차는 매출이 420%, 휴대폰 용품과 핫팩은 각각 271%, 268% 급증했다. 라면(46%)을 비롯한 간식류 매출도 크게 늘었다.\n",
      "\n",
      "세븐일레븐 관계자는 \"포켓몬고 이용자들이 많이 몰리는 지역 점포들의 관련 상품 매출이 크게 오르고 있다\"면서 \"수요가 높은 상품군 위주로 재고를 늘리고 진열도 확대하는 등 포켓몬고 특수에 대응하고 있다\"고 말했다.\n",
      "\n",
      "■일부 부작용도 있어 '주의'\n",
      "\n",
      "게임이 인기를 끌면서 일부 부작용도 나타나고 있어 이용자들의 주의가 요구된다. 출입이 금지된 구역에 등장하는 '포켓몬'을 획득하기 위해 금지구역을 넘어서거나 운전하면서 포켓몬고를 즐기는 사례가 잇따라 보고되고 있다. 해외에서도 '포켓몬고' 출시 당시 이런 부작용이 속출했는데 우리나라도 비슷한 현상을 겪고 있는 것이다.\n",
      "\n",
      "나이언틱랩스는 특정 속도 이상 빠르게 움직이면 '포켓몬'을 사냥할 수 없도록 하고 게임 도중 출입금지 구역에 가지 말라고 여러차례 공지하고 있다.\n",
      "\n",
      "jjoony@fnnews.com 허준 이환주 기자\n",
      "※ 저작권자 ⓒ . 무단 전재-재배포 금지\n"
     ]
    }
   ],
   "source": [
    "from selenium import webdriver\n",
    "\n",
    "chromedriver = './chromedriver'\n",
    "driver = webdriver.Chrome(chromedriver)\n",
    "driver.get('http://v.media.daum.net/v/20170202185812986')\n",
    "\n",
    "body = driver.find_element_by_id('harmonyContainer')\n",
    "print body.text\n",
    "    \n",
    "driver.quit()"
   ]
  },
  {
   "cell_type": "markdown",
   "metadata": {},
   "source": [
    "selenium 이용하여 instagram 자동 로그인 하기"
   ]
  },
  {
   "cell_type": "code",
   "execution_count": null,
   "metadata": {
    "collapsed": true
   },
   "outputs": [],
   "source": [
    "from selenium import webdriver\n",
    "from selenium.common.exceptions import NoSuchElementException\n",
    "\n",
    "chromedriver = './chromedriver'\n",
    "driver = webdriver.Chrome(chromedriver)\n",
    "driver.get('https://www.instagram.com/?hl=en')\n",
    "\n",
    "try:\n",
    "    btn_login = driver.find_element_by_css_selector('span[class=\"_rz1lq _7k49n _hvnxx\"] > button[class=\"_ah57t _84y62 _i46jh _rmr7s\"]')\n",
    "except NoSuchElementException, e:\n",
    "    link_login = driver.find_element_by_css_selector('a._fcn8k')\n",
    "    link_login.click()\n",
    "\n",
    "    btn_login = driver.find_element_by_css_selector('button[class=\"_ah57t _84y62 _i46jh _rmr7s\"]')\n",
    "\n",
    "    \n",
    "name = driver.find_element_by_name('username')\n",
    "password = driver.find_element_by_name('password')\n",
    "\n",
    "name.send_keys('')\n",
    "password.send_keys('')\n",
    "\n",
    "btn_login.click()\n",
    "\n",
    "#driver.quit()"
   ]
  },
  {
   "cell_type": "markdown",
   "metadata": {},
   "source": [
    "* XPATH를 이용하여 가져오기\n",
    " - 마크업에서 요소를 정의하기 위해 path 경로를 사용하는 방법\n",
    " - / : 절대경로를 나타냄\n",
    " - // : 문서내에서 검색"
   ]
  },
  {
   "cell_type": "markdown",
   "metadata": {},
   "source": [
    "XPATH와 CSS selector 중에 편한 것으로 정해서 파면 됨. css 추천하심"
   ]
  },
  {
   "cell_type": "code",
   "execution_count": 14,
   "metadata": {
    "collapsed": false
   },
   "outputs": [
    {
     "name": "stdout",
     "output_type": "stream",
     "text": [
      "<selenium.webdriver.remote.webelement.WebElement (session=\"4718053a049a6292579b1e9d35cdd416\", element=\"0.7904737937431969-1\")>\n"
     ]
    }
   ],
   "source": [
    "from selenium import webdriver\n",
    "\n",
    "chromedriver = './chromedriver'\n",
    "driver = webdriver.Chrome(chromedriver)\n",
    "driver.get('http://v.media.daum.net/v/20170202185812986')\n",
    "\n",
    "#soup.find('h3', attrs = {'class' : 'tit_s'})\n",
    "title = driver.find_element_by_xpath(\"//title\") # 문서내의 어떤 태그든지 가능. //head /title 이렇게 접근 가능하겠구나.\n",
    "print title\n",
    "driver.quit()"
   ]
  },
  {
   "cell_type": "code",
   "execution_count": 33,
   "metadata": {
    "collapsed": false
   },
   "outputs": [
    {
     "name": "stdout",
     "output_type": "stream",
     "text": [
      "<selenium.webdriver.remote.webelement.WebElement (session=\"9a0ec80811073494594a0401a6b21891\", element=\"0.061804279066766554-1\")>\n"
     ]
    }
   ],
   "source": [
    "from selenium import webdriver\n",
    "\n",
    "chromedriver = './chromedriver'\n",
    "driver = webdriver.Chrome(chromedriver)\n",
    "driver.get('http://v.media.daum.net/v/20170202185812986')\n",
    "\n",
    "#soup.find('h3', attrs = {'class' : 'tit_s'})\n",
    "title = driver.find_element_by_xpath(\"/html/head/title\") # 절대경로\n",
    "print title\n",
    "driver.quit()"
   ]
  },
  {
   "cell_type": "code",
   "execution_count": 52,
   "metadata": {
    "collapsed": true
   },
   "outputs": [
    {
     "ename": "NoSuchElementException",
     "evalue": "Message: no such element: Unable to locate element: {\"method\":\"xpath\",\"selector\":\"/html/title\"}\n  (Session info: chrome=55.0.2883.95)\n  (Driver info: chromedriver=2.27.440174 (e97a722caafc2d3a8b807ee115bfb307f7d2cfd9),platform=Mac OS X 10.12.3 x86_64)\n",
     "output_type": "error",
     "traceback": [
      "\u001b[0;31m---------------------------------------------------------------------------\u001b[0m",
      "\u001b[0;31mNoSuchElementException\u001b[0m                    Traceback (most recent call last)",
      "\u001b[0;32m<ipython-input-52-75ff36637e4e>\u001b[0m in \u001b[0;36m<module>\u001b[0;34m()\u001b[0m\n\u001b[1;32m      6\u001b[0m \u001b[0;34m\u001b[0m\u001b[0m\n\u001b[1;32m      7\u001b[0m \u001b[0;31m#soup.find('h3', attrs = {'class' : 'tit_s'})\u001b[0m\u001b[0;34m\u001b[0m\u001b[0;34m\u001b[0m\u001b[0m\n\u001b[0;32m----> 8\u001b[0;31m \u001b[0mtitle\u001b[0m \u001b[0;34m=\u001b[0m \u001b[0mdriver\u001b[0m\u001b[0;34m.\u001b[0m\u001b[0mfind_element_by_xpath\u001b[0m\u001b[0;34m(\u001b[0m\u001b[0;34m\"/html/title\"\u001b[0m\u001b[0;34m)\u001b[0m \u001b[0;31m# 절대경로\u001b[0m\u001b[0;34m\u001b[0m\u001b[0m\n\u001b[0m\u001b[1;32m      9\u001b[0m \u001b[0;32mprint\u001b[0m \u001b[0mtitle\u001b[0m\u001b[0;34m\u001b[0m\u001b[0m\n\u001b[1;32m     10\u001b[0m \u001b[0mdriver\u001b[0m\u001b[0;34m.\u001b[0m\u001b[0mquit\u001b[0m\u001b[0;34m(\u001b[0m\u001b[0;34m)\u001b[0m\u001b[0;34m\u001b[0m\u001b[0m\n",
      "\u001b[0;32m/usr/local/lib/python2.7/site-packages/selenium/webdriver/remote/webdriver.pyc\u001b[0m in \u001b[0;36mfind_element_by_xpath\u001b[0;34m(self, xpath)\u001b[0m\n\u001b[1;32m    291\u001b[0m             \u001b[0mdriver\u001b[0m\u001b[0;34m.\u001b[0m\u001b[0mfind_element_by_xpath\u001b[0m\u001b[0;34m(\u001b[0m\u001b[0;34m'//div/td[1]'\u001b[0m\u001b[0;34m)\u001b[0m\u001b[0;34m\u001b[0m\u001b[0m\n\u001b[1;32m    292\u001b[0m         \"\"\"\n\u001b[0;32m--> 293\u001b[0;31m         \u001b[0;32mreturn\u001b[0m \u001b[0mself\u001b[0m\u001b[0;34m.\u001b[0m\u001b[0mfind_element\u001b[0m\u001b[0;34m(\u001b[0m\u001b[0mby\u001b[0m\u001b[0;34m=\u001b[0m\u001b[0mBy\u001b[0m\u001b[0;34m.\u001b[0m\u001b[0mXPATH\u001b[0m\u001b[0;34m,\u001b[0m \u001b[0mvalue\u001b[0m\u001b[0;34m=\u001b[0m\u001b[0mxpath\u001b[0m\u001b[0;34m)\u001b[0m\u001b[0;34m\u001b[0m\u001b[0m\n\u001b[0m\u001b[1;32m    294\u001b[0m \u001b[0;34m\u001b[0m\u001b[0m\n\u001b[1;32m    295\u001b[0m     \u001b[0;32mdef\u001b[0m \u001b[0mfind_elements_by_xpath\u001b[0m\u001b[0;34m(\u001b[0m\u001b[0mself\u001b[0m\u001b[0;34m,\u001b[0m \u001b[0mxpath\u001b[0m\u001b[0;34m)\u001b[0m\u001b[0;34m:\u001b[0m\u001b[0;34m\u001b[0m\u001b[0m\n",
      "\u001b[0;32m/usr/local/lib/python2.7/site-packages/selenium/webdriver/remote/webdriver.pyc\u001b[0m in \u001b[0;36mfind_element\u001b[0;34m(self, by, value)\u001b[0m\n\u001b[1;32m    750\u001b[0m         return self.execute(Command.FIND_ELEMENT, {\n\u001b[1;32m    751\u001b[0m             \u001b[0;34m'using'\u001b[0m\u001b[0;34m:\u001b[0m \u001b[0mby\u001b[0m\u001b[0;34m,\u001b[0m\u001b[0;34m\u001b[0m\u001b[0m\n\u001b[0;32m--> 752\u001b[0;31m             'value': value})['value']\n\u001b[0m\u001b[1;32m    753\u001b[0m \u001b[0;34m\u001b[0m\u001b[0m\n\u001b[1;32m    754\u001b[0m     \u001b[0;32mdef\u001b[0m \u001b[0mfind_elements\u001b[0m\u001b[0;34m(\u001b[0m\u001b[0mself\u001b[0m\u001b[0;34m,\u001b[0m \u001b[0mby\u001b[0m\u001b[0;34m=\u001b[0m\u001b[0mBy\u001b[0m\u001b[0;34m.\u001b[0m\u001b[0mID\u001b[0m\u001b[0;34m,\u001b[0m \u001b[0mvalue\u001b[0m\u001b[0;34m=\u001b[0m\u001b[0mNone\u001b[0m\u001b[0;34m)\u001b[0m\u001b[0;34m:\u001b[0m\u001b[0;34m\u001b[0m\u001b[0m\n",
      "\u001b[0;32m/usr/local/lib/python2.7/site-packages/selenium/webdriver/remote/webdriver.pyc\u001b[0m in \u001b[0;36mexecute\u001b[0;34m(self, driver_command, params)\u001b[0m\n\u001b[1;32m    234\u001b[0m         \u001b[0mresponse\u001b[0m \u001b[0;34m=\u001b[0m \u001b[0mself\u001b[0m\u001b[0;34m.\u001b[0m\u001b[0mcommand_executor\u001b[0m\u001b[0;34m.\u001b[0m\u001b[0mexecute\u001b[0m\u001b[0;34m(\u001b[0m\u001b[0mdriver_command\u001b[0m\u001b[0;34m,\u001b[0m \u001b[0mparams\u001b[0m\u001b[0;34m)\u001b[0m\u001b[0;34m\u001b[0m\u001b[0m\n\u001b[1;32m    235\u001b[0m         \u001b[0;32mif\u001b[0m \u001b[0mresponse\u001b[0m\u001b[0;34m:\u001b[0m\u001b[0;34m\u001b[0m\u001b[0m\n\u001b[0;32m--> 236\u001b[0;31m             \u001b[0mself\u001b[0m\u001b[0;34m.\u001b[0m\u001b[0merror_handler\u001b[0m\u001b[0;34m.\u001b[0m\u001b[0mcheck_response\u001b[0m\u001b[0;34m(\u001b[0m\u001b[0mresponse\u001b[0m\u001b[0;34m)\u001b[0m\u001b[0;34m\u001b[0m\u001b[0m\n\u001b[0m\u001b[1;32m    237\u001b[0m             response['value'] = self._unwrap_value(\n\u001b[1;32m    238\u001b[0m                 response.get('value', None))\n",
      "\u001b[0;32m/usr/local/lib/python2.7/site-packages/selenium/webdriver/remote/errorhandler.pyc\u001b[0m in \u001b[0;36mcheck_response\u001b[0;34m(self, response)\u001b[0m\n\u001b[1;32m    190\u001b[0m         \u001b[0;32melif\u001b[0m \u001b[0mexception_class\u001b[0m \u001b[0;34m==\u001b[0m \u001b[0mUnexpectedAlertPresentException\u001b[0m \u001b[0;32mand\u001b[0m \u001b[0;34m'alert'\u001b[0m \u001b[0;32min\u001b[0m \u001b[0mvalue\u001b[0m\u001b[0;34m:\u001b[0m\u001b[0;34m\u001b[0m\u001b[0m\n\u001b[1;32m    191\u001b[0m             \u001b[0;32mraise\u001b[0m \u001b[0mexception_class\u001b[0m\u001b[0;34m(\u001b[0m\u001b[0mmessage\u001b[0m\u001b[0;34m,\u001b[0m \u001b[0mscreen\u001b[0m\u001b[0;34m,\u001b[0m \u001b[0mstacktrace\u001b[0m\u001b[0;34m,\u001b[0m \u001b[0mvalue\u001b[0m\u001b[0;34m[\u001b[0m\u001b[0;34m'alert'\u001b[0m\u001b[0;34m]\u001b[0m\u001b[0;34m.\u001b[0m\u001b[0mget\u001b[0m\u001b[0;34m(\u001b[0m\u001b[0;34m'text'\u001b[0m\u001b[0;34m)\u001b[0m\u001b[0;34m)\u001b[0m\u001b[0;34m\u001b[0m\u001b[0m\n\u001b[0;32m--> 192\u001b[0;31m         \u001b[0;32mraise\u001b[0m \u001b[0mexception_class\u001b[0m\u001b[0;34m(\u001b[0m\u001b[0mmessage\u001b[0m\u001b[0;34m,\u001b[0m \u001b[0mscreen\u001b[0m\u001b[0;34m,\u001b[0m \u001b[0mstacktrace\u001b[0m\u001b[0;34m)\u001b[0m\u001b[0;34m\u001b[0m\u001b[0m\n\u001b[0m\u001b[1;32m    193\u001b[0m \u001b[0;34m\u001b[0m\u001b[0m\n\u001b[1;32m    194\u001b[0m     \u001b[0;32mdef\u001b[0m \u001b[0m_value_or_default\u001b[0m\u001b[0;34m(\u001b[0m\u001b[0mself\u001b[0m\u001b[0;34m,\u001b[0m \u001b[0mobj\u001b[0m\u001b[0;34m,\u001b[0m \u001b[0mkey\u001b[0m\u001b[0;34m,\u001b[0m \u001b[0mdefault\u001b[0m\u001b[0;34m)\u001b[0m\u001b[0;34m:\u001b[0m\u001b[0;34m\u001b[0m\u001b[0m\n",
      "\u001b[0;31mNoSuchElementException\u001b[0m: Message: no such element: Unable to locate element: {\"method\":\"xpath\",\"selector\":\"/html/title\"}\n  (Session info: chrome=55.0.2883.95)\n  (Driver info: chromedriver=2.27.440174 (e97a722caafc2d3a8b807ee115bfb307f7d2cfd9),platform=Mac OS X 10.12.3 x86_64)\n"
     ]
    }
   ],
   "source": [
    "from selenium import webdriver\n",
    "\n",
    "chromedriver = './chromedriver'\n",
    "driver = webdriver.Chrome(chromedriver)\n",
    "driver.get('http://v.media.daum.net/v/20170202185812986')\n",
    "\n",
    "#soup.find('h3', attrs = {'class' : 'tit_s'})\n",
    "title = driver.find_element_by_xpath(\"/html/title\") # 검색실패\n",
    "print title\n",
    "driver.quit()"
   ]
  },
  {
   "cell_type": "code",
   "execution_count": 50,
   "metadata": {
    "collapsed": false
   },
   "outputs": [
    {
     "name": "stdout",
     "output_type": "stream",
     "text": [
      "<selenium.webdriver.remote.webelement.WebElement (session=\"807f502d15c4392bc1a7ae72de2e9ac6\", element=\"0.9223475968014261-1\")>\n"
     ]
    }
   ],
   "source": [
    "from selenium import webdriver\n",
    "\n",
    "chromedriver = './chromedriver'\n",
    "driver = webdriver.Chrome(chromedriver)\n",
    "driver.get('http://v.media.daum.net/v/20170202185812986')\n",
    "\n",
    "#soup.find('h3', attrs = {'class' : 'tit_s'})\n",
    "title = driver.find_element_by_xpath(\"/html//title\") # html 태그 내에서 다시 검색\n",
    "print title\n",
    "driver.quit()"
   ]
  },
  {
   "cell_type": "markdown",
   "metadata": {},
   "source": [
    "* 다음 뉴스 타이틀"
   ]
  },
  {
   "cell_type": "code",
   "execution_count": 24,
   "metadata": {
    "collapsed": false
   },
   "outputs": [
    {
     "name": "stdout",
     "output_type": "stream",
     "text": [
      "'포켓몬고' 상륙 1주일.. 대한민국 곳곳이 들썩\n"
     ]
    }
   ],
   "source": [
    "from selenium import webdriver\n",
    "\n",
    "chromedriver = './chromedriver'\n",
    "driver = webdriver.Chrome(chromedriver)\n",
    "driver.get('http://v.media.daum.net/v/20170202185812986')\n",
    "\n",
    "#soup.find('h3', attrs = {'class' : 'tit_s'})\n",
    "title = driver.find_element_by_xpath(\"//h3[@class='tit_view']\")\n",
    "print title.text\n",
    "driver.quit()"
   ]
  },
  {
   "cell_type": "markdown",
   "metadata": {},
   "source": [
    "* 다음 뉴스 본문"
   ]
  },
  {
   "cell_type": "code",
   "execution_count": 22,
   "metadata": {
    "collapsed": true
   },
   "outputs": [
    {
     "name": "stdout",
     "output_type": "stream",
     "text": [
      "(지디넷코리아=김익현 기자)한 때 ‘마이너리티 리포트’란 영화가 인기를 끈 적 있다. 최첨단 치안시스템을 통해 범죄를 미리 예측한 뒤 특수 경찰을 보내 미래의 범죄자들을 체포한다.\n",
      "하지만 그 영화를 보면서 “그럴듯하다”고 생각했던 사람은 거의 없었다. ‘무서운 미래’이긴 했지만 ‘있음직한 미래상’은 아니었단 얘기다.\n",
      "최근 인공지능(AI)이 포커 시합에서 최고수 프로 선수를 꺾었단 소식을 접하면서 ‘마이너리티 리포트’가 황당한 얘기만은 아닐 수도 있다는 생각을 하게 됐다.\n",
      "\n",
      "일단 팩트부터 챙겨보자.\n",
      "프로 포커 선수 네 명을 꺾은 화제의 주인공은 리브라투스(Libratus)란 AI 프로그램이다. 미국 카네기멜론대학 연구팀이 개발한 이 프로그램은 지난 달 11일부터 30일까지 20일 동안 계속된 포커 대결에서 승리했다.\n",
      "자세한 얘기는 생략한다. 궁금한 분은 지디넷코리아에 게재된 기사를 확인해보시라.\n",
      "[관련기사1] AI는 어떻게 심리싸움 '뻥카'까지 알았을까\n",
      "[관련기사2] 카네기멜론대학의 공식 자료\n",
      "■ 바둑과는 또 다른 포커 정복\n",
      "이번 결과에 대해 카네기멜론대학 뿐 아니라 세계 주요 외신들도 흥분을 감추지 못하고 있다.\n",
      "당연히 궁금증이 제기되지 않을 수 없다. 이미 AI는 퀴즈쇼, 체스에 이어 난공불락의 영역이라 일컬어지던 바둑까지 정복했기 때문이다.\n",
      "세계 최강 이세돌 9단에 이어 중국의 커제 9단까지 알파고에 완패한 마당에 포커 시합에서 진 게 뭐 그리 대단한 일이냐고 생각할 수도 있다.\n",
      "하지만 포커와 바둑은 조금 다르다.\n",
      "물론 바둑 경기에서 고려해야 할 수는 무한 대에 가깝다. 한 수를 둘 때 가능한 수가 250개 정도에 이른다.한 경기에 150수 이상 둔다고 가정하면 '250의 150승’이란 경우의 수가 만들어진다. 이게 유기적으로 연결돼야 한다. 중간에 수 하나만 삐끗해도 시합을 망치게 된다.\n",
      "\n",
      "그 동안 ‘바둑은 인간의 영역’이라고 했던 건 인공지능은 직관적으로 문제를 해결하긴 쉽지 않을 것으로 생각했기 때문이다.\n",
      "이처럼 방대하긴 하지만 바둑 경기는 ‘모든 정보’를 갖고 임할 수 있다. 대국을 하는 두 선수는 전체 바둑판을 보면서 추론을 할 수 있다.\n",
      "그런데 포커는 다르다. 바둑과 달리 ‘제한된 정보’만 갖고 경기에 임해야 한다. 일단 상대방의 패를 볼 수가 없다.\n",
      "‘좋은 수’를 갖고 있다고 해서 꼭 이긴다는 보장도 없다. ‘뻥카’로 불리는 고도의 심리전이 중요한 전략적 무기중 하나다.\n",
      "이 차이는 인공지능 개발 과정에서도 중요한 의미를 갖는다. 바둑 대국을 한 알파고는 무수히 많은 상대의 수를 분석해서 내게 맞는 최적의 수를 찾아내면 됐다.\n",
      "하지만 포커 전문 AI는 반대 추론도 할 줄 알아야 한다. 무슨 얘기일까? 상대방이 내 약점을 어떻게 찌르고 들어오는지 추론한 뒤 방어 대책을 세워야 한다는 것이다. 그렇기 때문에 한 단계 더 진전된 능력으로 무장해야만 한다.\n",
      "그러다보니 이번 대결이 시작되기 전 국내 도박사이트들은 4대 1 정도로 인간 포커 기사들이 우세할 것으로 전망했다.\n",
      "리브라투스가 프로 포커 기사와 대결에서 승리한 게 의미 있는 건 이런 부분 때문이다.\n",
      "■ 외신들 \"불완전한 정보로 완벽한 추론\" 흥분\n",
      "이번 승리는 포커 AI가 ’불완전한 정보’를 토대로 상대방의 심리를 추론할 능력까지 갖췄다는 의미다. 주어진 수를 잘 읽는 AI보다 한 단계 더 높은 능력을 보여줬단 얘기다.\n",
      "실제로 이번 대결에서 승리한 카네기멜론대학 측은 “앞으로 비즈니스 협상 뿐 아니라 군사전략, 사이버 보안, 의료분야까지 활용 가능할 것”이라고 호언 장담했다.\n",
      "알파고와 달리 리브라투스 얘긴 아직 공식 논문으로 발표되진 않았다. 그런만큼 ‘어떻게 이겼는지’에 대한 자세한 얘긴 아직 공개되지 않았다.\n",
      "다만 카네기멜론대학 팀은 하루 11시간씩 계속된 포커 경기가 끝날 때마다 분석 작업을 했다고 밝히고 있다. 처음엔 포커를 둘 줄도 몰랐던 리브라투스는 경기가 거듭되면서 상대방의 수 뿐 아니라 ‘나의 약점’을 상대방이 어떻게 파고 드는지까지 분석해냈다고 한다.\n",
      "\n",
      "이쯤 되면 살짝 두렵다는 생각까지 든다. 게다가 리브라투스는 포커에만 특화된 프로그램이 아니라고 한다. 다른 영역에도 확장 가능하단 얘기다.\n",
      "루이빌대학 컴퓨터공학과의 로만 얌폴스키 교수는 라디언과 인터뷰에서 “비즈니스나 군사 작전에서 당신을 엿 먹일 수 있는 기계를 갖게 됐다”고 경고했다.\n",
      "무한대에 가깝던 바둑의 수를 읽어내던 AI가 이젠 상대방의 패를 보지도 못한 상태에서 ‘뻥카’까지 성공적으로 치는 수준으로 발전했다.\n",
      "이런 속도라면 어디까지 진화할 수 있을까?\n",
      "■ 알파고보다 더 무서운 포커 AI, 어디까지 진화할까\n",
      "자율주행차에 탑재한 인공지능이 운전자의 심리나 건강 상태를 본 뒤 ‘운전 금지’라면 시동 걸리길 거부할 수도 있지 않을까? ‘마이너리티 리포트’ 같은 범죄 예방 시스템이 등장하지 않을까? 그러다가 결국은 정치와 비즈니스 협상까지 인공지능에 맡겨야 할 시대가 오는 건 아닐까?\n",
      "포커 고수까지 인공지능에게 무릎 꿇었다는 소식을 접하면서 이런 생각들을 해봤다.\n",
      "아직까지 카네기멜론대학은 리브라투스 관련 논문을 공식 발표하진 않았다. 2월 중 학회에서 발표할 예정이라고 하니 논문이 나오길 손꼽아 기다려본다. 카네기멜론대학 측이 논문을 공식 발표하면 이 코너를 통해 상세하게 요약해드리겠단 ‘공약’을 해본다.\n",
      "[관련기사3] 구글 알파고는 어떻게 바둑경기 이겼나\n",
      "(덧글)\n",
      "이번 대결 방식이 인간들에게 다소 불리했단 얘기도 있다. 이번 대회 기간 동안 매일 밤 10시까지 경기를 했다고 한다. 하루 11시간의 강행군이 끝나면 리브라투스와 인간 모두 ‘분석 작업’을 했다. 그래서 인간 선수들은 새벽 두 시에나 잠자리에 들 수 있었다고 한다.\n",
      "잠을 잘 필요도, 식사나 화장실을 갈 필요도 없는 인공지능과 달리, 인간들에겐 참 힘든 여정이었겠단 생각을 해봤다.\n",
      "김익현 기자(sini@zdnet.co.kr)\n"
     ]
    }
   ],
   "source": [
    "from selenium import webdriver\n",
    "\n",
    "chromedriver = './chromedriver'\n",
    "driver = webdriver.Chrome(chromedriver)\n",
    "driver.get('http://v.media.daum.net/v/20170202180355822')\n",
    "\n",
    "body = driver.find_element_by_xpath(\"//div[@id='harmonyContainer']\")\n",
    "for p in body.find_elements_by_tag_name('p'):\n",
    "    print p.text\n",
    "driver.quit()"
   ]
  },
  {
   "cell_type": "markdown",
   "metadata": {},
   "source": [
    "* CSS selector 이용하기\n",
    " - docs : http://saucelabs.com/resources/articles/selenium-tips-css-selectors\n",
    " - 아이디의 경우 앞에 #\n",
    " - 클래스의 경우 앞에 .\n",
    " - 하위 태그는 >"
   ]
  },
  {
   "cell_type": "markdown",
   "metadata": {},
   "source": [
    "* 클래스로 찾기"
   ]
  },
  {
   "cell_type": "code",
   "execution_count": 53,
   "metadata": {
    "collapsed": false
   },
   "outputs": [
    {
     "name": "stdout",
     "output_type": "stream",
     "text": [
      "포커 정복한 AI, 어디까지 진화할까\n"
     ]
    }
   ],
   "source": [
    "from selenium import webdriver\n",
    "\n",
    "chromedriver = './chromedriver'\n",
    "driver = webdriver.Chrome(chromedriver)\n",
    "driver.get('http://v.media.daum.net/v/20170202180355822')\n",
    "\n",
    "# 클래스가 tit_view인 h3태그\n",
    "title = driver.find_element_by_css_selector(\"h3.tit_view\")\n",
    "print title.text\n",
    "driver.quit()"
   ]
  },
  {
   "cell_type": "markdown",
   "metadata": {},
   "source": [
    "* 아이디로 찾기"
   ]
  },
  {
   "cell_type": "code",
   "execution_count": 38,
   "metadata": {
    "collapsed": true
   },
   "outputs": [
    {
     "name": "stdout",
     "output_type": "stream",
     "text": [
      "(지디넷코리아=김익현 기자)한 때 ‘마이너리티 리포트’란 영화가 인기를 끈 적 있다. 최첨단 치안시스템을 통해 범죄를 미리 예측한 뒤 특수 경찰을 보내 미래의 범죄자들을 체포한다.\n",
      "하지만 그 영화를 보면서 “그럴듯하다”고 생각했던 사람은 거의 없었다. ‘무서운 미래’이긴 했지만 ‘있음직한 미래상’은 아니었단 얘기다.\n",
      "최근 인공지능(AI)이 포커 시합에서 최고수 프로 선수를 꺾었단 소식을 접하면서 ‘마이너리티 리포트’가 황당한 얘기만은 아닐 수도 있다는 생각을 하게 됐다.\n",
      "\n",
      "일단 팩트부터 챙겨보자.\n",
      "프로 포커 선수 네 명을 꺾은 화제의 주인공은 리브라투스(Libratus)란 AI 프로그램이다. 미국 카네기멜론대학 연구팀이 개발한 이 프로그램은 지난 달 11일부터 30일까지 20일 동안 계속된 포커 대결에서 승리했다.\n",
      "자세한 얘기는 생략한다. 궁금한 분은 지디넷코리아에 게재된 기사를 확인해보시라.\n",
      "[관련기사1] AI는 어떻게 심리싸움 '뻥카'까지 알았을까\n",
      "[관련기사2] 카네기멜론대학의 공식 자료\n",
      "■ 바둑과는 또 다른 포커 정복\n",
      "이번 결과에 대해 카네기멜론대학 뿐 아니라 세계 주요 외신들도 흥분을 감추지 못하고 있다.\n",
      "당연히 궁금증이 제기되지 않을 수 없다. 이미 AI는 퀴즈쇼, 체스에 이어 난공불락의 영역이라 일컬어지던 바둑까지 정복했기 때문이다.\n",
      "세계 최강 이세돌 9단에 이어 중국의 커제 9단까지 알파고에 완패한 마당에 포커 시합에서 진 게 뭐 그리 대단한 일이냐고 생각할 수도 있다.\n",
      "하지만 포커와 바둑은 조금 다르다.\n",
      "물론 바둑 경기에서 고려해야 할 수는 무한 대에 가깝다. 한 수를 둘 때 가능한 수가 250개 정도에 이른다.한 경기에 150수 이상 둔다고 가정하면 '250의 150승’이란 경우의 수가 만들어진다. 이게 유기적으로 연결돼야 한다. 중간에 수 하나만 삐끗해도 시합을 망치게 된다.\n",
      "\n",
      "그 동안 ‘바둑은 인간의 영역’이라고 했던 건 인공지능은 직관적으로 문제를 해결하긴 쉽지 않을 것으로 생각했기 때문이다.\n",
      "이처럼 방대하긴 하지만 바둑 경기는 ‘모든 정보’를 갖고 임할 수 있다. 대국을 하는 두 선수는 전체 바둑판을 보면서 추론을 할 수 있다.\n",
      "그런데 포커는 다르다. 바둑과 달리 ‘제한된 정보’만 갖고 경기에 임해야 한다. 일단 상대방의 패를 볼 수가 없다.\n",
      "‘좋은 수’를 갖고 있다고 해서 꼭 이긴다는 보장도 없다. ‘뻥카’로 불리는 고도의 심리전이 중요한 전략적 무기중 하나다.\n",
      "이 차이는 인공지능 개발 과정에서도 중요한 의미를 갖는다. 바둑 대국을 한 알파고는 무수히 많은 상대의 수를 분석해서 내게 맞는 최적의 수를 찾아내면 됐다.\n",
      "하지만 포커 전문 AI는 반대 추론도 할 줄 알아야 한다. 무슨 얘기일까? 상대방이 내 약점을 어떻게 찌르고 들어오는지 추론한 뒤 방어 대책을 세워야 한다는 것이다. 그렇기 때문에 한 단계 더 진전된 능력으로 무장해야만 한다.\n",
      "그러다보니 이번 대결이 시작되기 전 국내 도박사이트들은 4대 1 정도로 인간 포커 기사들이 우세할 것으로 전망했다.\n",
      "리브라투스가 프로 포커 기사와 대결에서 승리한 게 의미 있는 건 이런 부분 때문이다.\n",
      "■ 외신들 \"불완전한 정보로 완벽한 추론\" 흥분\n",
      "이번 승리는 포커 AI가 ’불완전한 정보’를 토대로 상대방의 심리를 추론할 능력까지 갖췄다는 의미다. 주어진 수를 잘 읽는 AI보다 한 단계 더 높은 능력을 보여줬단 얘기다.\n",
      "실제로 이번 대결에서 승리한 카네기멜론대학 측은 “앞으로 비즈니스 협상 뿐 아니라 군사전략, 사이버 보안, 의료분야까지 활용 가능할 것”이라고 호언 장담했다.\n",
      "알파고와 달리 리브라투스 얘긴 아직 공식 논문으로 발표되진 않았다. 그런만큼 ‘어떻게 이겼는지’에 대한 자세한 얘긴 아직 공개되지 않았다.\n",
      "다만 카네기멜론대학 팀은 하루 11시간씩 계속된 포커 경기가 끝날 때마다 분석 작업을 했다고 밝히고 있다. 처음엔 포커를 둘 줄도 몰랐던 리브라투스는 경기가 거듭되면서 상대방의 수 뿐 아니라 ‘나의 약점’을 상대방이 어떻게 파고 드는지까지 분석해냈다고 한다.\n",
      "\n",
      "이쯤 되면 살짝 두렵다는 생각까지 든다. 게다가 리브라투스는 포커에만 특화된 프로그램이 아니라고 한다. 다른 영역에도 확장 가능하단 얘기다.\n",
      "루이빌대학 컴퓨터공학과의 로만 얌폴스키 교수는 라디언과 인터뷰에서 “비즈니스나 군사 작전에서 당신을 엿 먹일 수 있는 기계를 갖게 됐다”고 경고했다.\n",
      "무한대에 가깝던 바둑의 수를 읽어내던 AI가 이젠 상대방의 패를 보지도 못한 상태에서 ‘뻥카’까지 성공적으로 치는 수준으로 발전했다.\n",
      "이런 속도라면 어디까지 진화할 수 있을까?\n",
      "■ 알파고보다 더 무서운 포커 AI, 어디까지 진화할까\n",
      "자율주행차에 탑재한 인공지능이 운전자의 심리나 건강 상태를 본 뒤 ‘운전 금지’라면 시동 걸리길 거부할 수도 있지 않을까? ‘마이너리티 리포트’ 같은 범죄 예방 시스템이 등장하지 않을까? 그러다가 결국은 정치와 비즈니스 협상까지 인공지능에 맡겨야 할 시대가 오는 건 아닐까?\n",
      "포커 고수까지 인공지능에게 무릎 꿇었다는 소식을 접하면서 이런 생각들을 해봤다.\n",
      "아직까지 카네기멜론대학은 리브라투스 관련 논문을 공식 발표하진 않았다. 2월 중 학회에서 발표할 예정이라고 하니 논문이 나오길 손꼽아 기다려본다. 카네기멜론대학 측이 논문을 공식 발표하면 이 코너를 통해 상세하게 요약해드리겠단 ‘공약’을 해본다.\n",
      "[관련기사3] 구글 알파고는 어떻게 바둑경기 이겼나\n",
      "(덧글)\n",
      "이번 대결 방식이 인간들에게 다소 불리했단 얘기도 있다. 이번 대회 기간 동안 매일 밤 10시까지 경기를 했다고 한다. 하루 11시간의 강행군이 끝나면 리브라투스와 인간 모두 ‘분석 작업’을 했다. 그래서 인간 선수들은 새벽 두 시에나 잠자리에 들 수 있었다고 한다.\n",
      "잠을 잘 필요도, 식사나 화장실을 갈 필요도 없는 인공지능과 달리, 인간들에겐 참 힘든 여정이었겠단 생각을 해봤다.\n",
      "김익현 기자(sini@zdnet.co.kr)\n"
     ]
    }
   ],
   "source": [
    "from selenium import webdriver\n",
    "\n",
    "chromedriver = './chromedriver'\n",
    "driver = webdriver.Chrome(chromedriver)\n",
    "driver.get('http://v.media.daum.net/v/20170202180355822')\n",
    "\n",
    "# id가 harmonyContainer div태그\n",
    "body = driver.find_element_by_css_selector(\"div#harmonyContainer\")\n",
    "for p in body.find_elements_by_tag_name('p'):\n",
    "    print p.text\n",
    "driver.quit()"
   ]
  },
  {
   "cell_type": "markdown",
   "metadata": {},
   "source": [
    "* 속성으로 찾기"
   ]
  },
  {
   "cell_type": "code",
   "execution_count": 56,
   "metadata": {
    "collapsed": false
   },
   "outputs": [
    {
     "name": "stdout",
     "output_type": "stream",
     "text": [
      "<selenium.webdriver.remote.webelement.WebElement (session=\"925d6319fc6476839d49fc3e4f928b1b\", element=\"0.15019338741070376-1\")>\n"
     ]
    }
   ],
   "source": [
    "from selenium import webdriver\n",
    "\n",
    "chromedriver = './chromedriver'\n",
    "driver = webdriver.Chrome(chromedriver)\n",
    "driver.get('http://v.media.daum.net/v/20170202180355822')\n",
    "\n",
    "# role attribute가 navigation인 div태그\n",
    "nav = driver.find_element_by_css_selector(\"div[role='navigation']\")\n",
    "print nav\n",
    "driver.quit()"
   ]
  },
  {
   "cell_type": "markdown",
   "metadata": {},
   "source": [
    "* instagram 자동 로그인"
   ]
  },
  {
   "cell_type": "code",
   "execution_count": 49,
   "metadata": {
    "collapsed": false
   },
   "outputs": [],
   "source": [
    "from selenium import webdriver\n",
    "from selenium.common.exceptions import NoSuchElementException\n",
    "\n",
    "chromedriver = './chromedriver'\n",
    "driver = webdriver.Chrome(chromedriver)\n",
    "driver.get('https://www.instagram.com/?hl=en')\n",
    "\n",
    "try:\n",
    "    btn_login = driver.find_element_by_css_selector('span[class=\"_rz1lq _7k49n _hvnxx\"] > button[class=\"_ah57t _84y62 _i46jh _rmr7s\"]')\n",
    "except NoSuchElementException, e:\n",
    "    link_login = driver.find_element_by_css_selector('a._fcn8k')\n",
    "    link_login.click()\n",
    "\n",
    "    btn_login = driver.find_element_by_css_selector('button[class=\"_ah57t _84y62 _i46jh _rmr7s\"]')\n",
    "\n",
    "    \n",
    "name = driver.find_element_by_name('username')\n",
    "password = driver.find_element_by_name('password')\n",
    "\n",
    "name.send_keys('')\n",
    "password.send_keys('')\n",
    "\n",
    "btn_login.click()\n",
    "\n",
    "#driver.quit()"
   ]
  },
  {
   "cell_type": "markdown",
   "metadata": {},
   "source": [
    "* 페이지 로드 대기 \n",
    " - 몇몇 페이지의 경우, 페이지 로딩 지연이 발생하여(여러 요청이 병합하여 페이지 결과를 생성) tag를 못읽어오는 경우가 발생할 수 있음\n",
    " - 이때, 아래의 코드를 이용하여 해결 가능\n",
    " - e.g) 10초내에 해당 tag를 찾으면 반환, 그렇지 않으면 timeout 발생!\n",
    " - http://selenium-python.readthedocs.io/waits.html"
   ]
  },
  {
   "cell_type": "code",
   "execution_count": 62,
   "metadata": {
    "collapsed": false
   },
   "outputs": [
    {
     "name": "stdout",
     "output_type": "stream",
     "text": [
      "<selenium.webdriver.remote.webelement.WebElement (session=\"c2a06c5408cbff124519692e2e5a3975\", element=\"0.2421880878299134-1\")>\n"
     ]
    }
   ],
   "source": [
    "from selenium import webdriver\n",
    "from selenium.webdriver.common.by import By\n",
    "from selenium.webdriver.support.ui import WebDriverWait\n",
    "from selenium.webdriver.support import expected_conditions as EC\n",
    "\n",
    "\n",
    "chromedriver = './chromedriver'\n",
    "driver = webdriver.Chrome(chromedriver)\n",
    "driver.get('http://v.media.daum.net/v/20170202180355822')\n",
    "try:\n",
    "    # id가 cMain인 tag를 10초 내에 검색, 그렇지 않으면 timeoutexception 발생\n",
    "    element = WebDriverWait(driver, 10).until(\n",
    "        EC.presence_of_element_located((By.ID, \"cMain\"))\n",
    "    )\n",
    "    \n",
    "    print element\n",
    "    \n",
    "finally:\n",
    "    driver.quit()"
   ]
  },
  {
   "cell_type": "code",
   "execution_count": null,
   "metadata": {
    "collapsed": true
   },
   "outputs": [],
   "source": []
  },
  {
   "cell_type": "markdown",
   "metadata": {
    "collapsed": true
   },
   "source": [
    "* 연습문제)\n",
    " - 인스타그램에 로그인 하여 첫번째 글에 좋아요 및 팔로우를 자동으로 작성해보세요.\n",
    " - 특정 다음 뉴스의 댓글을 모두 긁는 크롤러를 작성하시오 (selenium 이용)"
   ]
  },
  {
   "cell_type": "markdown",
   "metadata": {},
   "source": [
    "* 과제)\n",
    " - aws 계정 만들기 \n",
    " - https://aws.amazon.com/ 가입하고 계정 생성\n",
    " - 신용카드 정보 필요(사용하지 않으면 과금되지 않습니다.)"
   ]
  }
 ],
 "metadata": {
  "kernelspec": {
   "display_name": "Python 2",
   "language": "python",
   "name": "python2"
  },
  "language_info": {
   "codemirror_mode": {
    "name": "ipython",
    "version": 2
   },
   "file_extension": ".py",
   "mimetype": "text/x-python",
   "name": "python",
   "nbconvert_exporter": "python",
   "pygments_lexer": "ipython2",
   "version": "2.7.13"
  }
 },
 "nbformat": 4,
 "nbformat_minor": 1
}
